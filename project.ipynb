{
 "cells": [
  {
   "cell_type": "markdown",
   "id": "6d238327",
   "metadata": {},
   "source": [
    "1. Write a python program which searches all the product under a particular product from www.amazon.in.\n",
    "The product to be searched will be taken as input from user. For e.g. If user input is ‘guitar’. Then search\n",
    "for guitars."
   ]
  },
  {
   "cell_type": "code",
   "execution_count": 2,
   "id": "e7a9596e",
   "metadata": {},
   "outputs": [
    {
     "name": "stdout",
     "output_type": "stream",
     "text": [
      "Defaulting to user installation because normal site-packages is not writeable\n",
      "Requirement already satisfied: selenium in c:\\users\\jakha\\appdata\\roaming\\python\\python39\\site-packages (4.9.0)\n",
      "Requirement already satisfied: trio~=0.17 in c:\\users\\jakha\\appdata\\roaming\\python\\python39\\site-packages (from selenium) (0.22.0)\n",
      "Requirement already satisfied: trio-websocket~=0.9 in c:\\users\\jakha\\appdata\\roaming\\python\\python39\\site-packages (from selenium) (0.10.2)\n",
      "Requirement already satisfied: urllib3[socks]~=1.26 in c:\\programdata\\anaconda3\\lib\\site-packages (from selenium) (1.26.9)\n",
      "Requirement already satisfied: certifi>=2021.10.8 in c:\\programdata\\anaconda3\\lib\\site-packages (from selenium) (2021.10.8)\n",
      "Requirement already satisfied: outcome in c:\\users\\jakha\\appdata\\roaming\\python\\python39\\site-packages (from trio~=0.17->selenium) (1.2.0)\n",
      "Requirement already satisfied: sortedcontainers in c:\\programdata\\anaconda3\\lib\\site-packages (from trio~=0.17->selenium) (2.4.0)\n",
      "Requirement already satisfied: sniffio in c:\\programdata\\anaconda3\\lib\\site-packages (from trio~=0.17->selenium) (1.2.0)\n",
      "Requirement already satisfied: exceptiongroup>=1.0.0rc9 in c:\\users\\jakha\\appdata\\roaming\\python\\python39\\site-packages (from trio~=0.17->selenium) (1.1.1)\n",
      "Requirement already satisfied: attrs>=19.2.0 in c:\\programdata\\anaconda3\\lib\\site-packages (from trio~=0.17->selenium) (21.4.0)\n",
      "Requirement already satisfied: idna in c:\\programdata\\anaconda3\\lib\\site-packages (from trio~=0.17->selenium) (3.3)\n",
      "Requirement already satisfied: async-generator>=1.9 in c:\\users\\jakha\\appdata\\roaming\\python\\python39\\site-packages (from trio~=0.17->selenium) (1.10)\n",
      "Requirement already satisfied: cffi>=1.14 in c:\\programdata\\anaconda3\\lib\\site-packages (from trio~=0.17->selenium) (1.15.0)\n",
      "Requirement already satisfied: pycparser in c:\\programdata\\anaconda3\\lib\\site-packages (from cffi>=1.14->trio~=0.17->selenium) (2.21)\n",
      "Requirement already satisfied: wsproto>=0.14 in c:\\users\\jakha\\appdata\\roaming\\python\\python39\\site-packages (from trio-websocket~=0.9->selenium) (1.2.0)\n",
      "Requirement already satisfied: PySocks!=1.5.7,<2.0,>=1.5.6 in c:\\programdata\\anaconda3\\lib\\site-packages (from urllib3[socks]~=1.26->selenium) (1.7.1)\n",
      "Requirement already satisfied: h11<1,>=0.9.0 in c:\\users\\jakha\\appdata\\roaming\\python\\python39\\site-packages (from wsproto>=0.14->trio-websocket~=0.9->selenium) (0.14.0)\n"
     ]
    }
   ],
   "source": [
    "!pip install selenium"
   ]
  },
  {
   "cell_type": "code",
   "execution_count": 3,
   "id": "889f3496",
   "metadata": {},
   "outputs": [],
   "source": [
    "# Imports \n",
    "from selenium import webdriver\n",
    "import time\n",
    "from selenium.common.exceptions import NoSuchElementException       #Importing Exception\n",
    "import warnings\n",
    "warnings.filterwarnings('ignore')\n",
    "from selenium.webdriver.common.by import By"
   ]
  },
  {
   "cell_type": "code",
   "execution_count": 7,
   "id": "0f3050c9",
   "metadata": {},
   "outputs": [
    {
     "ename": "NoSuchElementException",
     "evalue": "Message: no such element: Unable to locate element: {\"method\":\"css selector\",\"selector\":\"[id=\"hoo-haa-hoo\"]\"}\n  (Session info: chrome=113.0.5672.93)\nStacktrace:\nBacktrace:\n\tGetHandleVerifier [0x01028893+48451]\n\t(No symbol) [0x00FBB8A1]\n\t(No symbol) [0x00EC5058]\n\t(No symbol) [0x00EF0467]\n\t(No symbol) [0x00EF069B]\n\t(No symbol) [0x00F1DD92]\n\t(No symbol) [0x00F0A304]\n\t(No symbol) [0x00F1C482]\n\t(No symbol) [0x00F0A0B6]\n\t(No symbol) [0x00EE7E08]\n\t(No symbol) [0x00EE8F2D]\n\tGetHandleVerifier [0x01288E3A+2540266]\n\tGetHandleVerifier [0x012C8959+2801161]\n\tGetHandleVerifier [0x012C295C+2776588]\n\tGetHandleVerifier [0x010B2280+612144]\n\t(No symbol) [0x00FC4F6C]\n\t(No symbol) [0x00FC11D8]\n\t(No symbol) [0x00FC12BB]\n\t(No symbol) [0x00FB4857]\n\tBaseThreadInitThunk [0x75CA7D49+25]\n\tRtlInitializeExceptionChain [0x7723B74B+107]\n\tRtlClearBits [0x7723B6CF+191]\n",
     "output_type": "error",
     "traceback": [
      "\u001b[1;31m---------------------------------------------------------------------------\u001b[0m",
      "\u001b[1;31mNoSuchElementException\u001b[0m                    Traceback (most recent call last)",
      "Input \u001b[1;32mIn [7]\u001b[0m, in \u001b[0;36m<cell line: 5>\u001b[1;34m()\u001b[0m\n\u001b[0;32m      3\u001b[0m time\u001b[38;5;241m.\u001b[39msleep(\u001b[38;5;241m5\u001b[39m)\n\u001b[0;32m      4\u001b[0m \u001b[38;5;66;03m# Entering an element which is not present in our webpage\u001b[39;00m\n\u001b[1;32m----> 5\u001b[0m element \u001b[38;5;241m=\u001b[39m \u001b[43mdriver\u001b[49m\u001b[38;5;241;43m.\u001b[39;49m\u001b[43mfind_element\u001b[49m\u001b[43m(\u001b[49m\u001b[43mBy\u001b[49m\u001b[38;5;241;43m.\u001b[39;49m\u001b[43mID\u001b[49m\u001b[43m,\u001b[49m\u001b[38;5;124;43m\"\u001b[39;49m\u001b[38;5;124;43mhoo-haa-hoo\u001b[39;49m\u001b[38;5;124;43m\"\u001b[39;49m\u001b[43m)\u001b[49m\n\u001b[0;32m      6\u001b[0m element\u001b[38;5;241m.\u001b[39mtext\n",
      "File \u001b[1;32m~\\AppData\\Roaming\\Python\\Python39\\site-packages\\selenium\\webdriver\\remote\\webdriver.py:831\u001b[0m, in \u001b[0;36mWebDriver.find_element\u001b[1;34m(self, by, value)\u001b[0m\n\u001b[0;32m    828\u001b[0m     by \u001b[38;5;241m=\u001b[39m By\u001b[38;5;241m.\u001b[39mCSS_SELECTOR\n\u001b[0;32m    829\u001b[0m     value \u001b[38;5;241m=\u001b[39m \u001b[38;5;124mf\u001b[39m\u001b[38;5;124m'\u001b[39m\u001b[38;5;124m[name=\u001b[39m\u001b[38;5;124m\"\u001b[39m\u001b[38;5;132;01m{\u001b[39;00mvalue\u001b[38;5;132;01m}\u001b[39;00m\u001b[38;5;124m\"\u001b[39m\u001b[38;5;124m]\u001b[39m\u001b[38;5;124m'\u001b[39m\n\u001b[1;32m--> 831\u001b[0m \u001b[38;5;28;01mreturn\u001b[39;00m \u001b[38;5;28;43mself\u001b[39;49m\u001b[38;5;241;43m.\u001b[39;49m\u001b[43mexecute\u001b[49m\u001b[43m(\u001b[49m\u001b[43mCommand\u001b[49m\u001b[38;5;241;43m.\u001b[39;49m\u001b[43mFIND_ELEMENT\u001b[49m\u001b[43m,\u001b[49m\u001b[43m \u001b[49m\u001b[43m{\u001b[49m\u001b[38;5;124;43m\"\u001b[39;49m\u001b[38;5;124;43musing\u001b[39;49m\u001b[38;5;124;43m\"\u001b[39;49m\u001b[43m:\u001b[49m\u001b[43m \u001b[49m\u001b[43mby\u001b[49m\u001b[43m,\u001b[49m\u001b[43m \u001b[49m\u001b[38;5;124;43m\"\u001b[39;49m\u001b[38;5;124;43mvalue\u001b[39;49m\u001b[38;5;124;43m\"\u001b[39;49m\u001b[43m:\u001b[49m\u001b[43m \u001b[49m\u001b[43mvalue\u001b[49m\u001b[43m}\u001b[49m\u001b[43m)\u001b[49m[\u001b[38;5;124m\"\u001b[39m\u001b[38;5;124mvalue\u001b[39m\u001b[38;5;124m\"\u001b[39m]\n",
      "File \u001b[1;32m~\\AppData\\Roaming\\Python\\Python39\\site-packages\\selenium\\webdriver\\remote\\webdriver.py:440\u001b[0m, in \u001b[0;36mWebDriver.execute\u001b[1;34m(self, driver_command, params)\u001b[0m\n\u001b[0;32m    438\u001b[0m response \u001b[38;5;241m=\u001b[39m \u001b[38;5;28mself\u001b[39m\u001b[38;5;241m.\u001b[39mcommand_executor\u001b[38;5;241m.\u001b[39mexecute(driver_command, params)\n\u001b[0;32m    439\u001b[0m \u001b[38;5;28;01mif\u001b[39;00m response:\n\u001b[1;32m--> 440\u001b[0m     \u001b[38;5;28;43mself\u001b[39;49m\u001b[38;5;241;43m.\u001b[39;49m\u001b[43merror_handler\u001b[49m\u001b[38;5;241;43m.\u001b[39;49m\u001b[43mcheck_response\u001b[49m\u001b[43m(\u001b[49m\u001b[43mresponse\u001b[49m\u001b[43m)\u001b[49m\n\u001b[0;32m    441\u001b[0m     response[\u001b[38;5;124m\"\u001b[39m\u001b[38;5;124mvalue\u001b[39m\u001b[38;5;124m\"\u001b[39m] \u001b[38;5;241m=\u001b[39m \u001b[38;5;28mself\u001b[39m\u001b[38;5;241m.\u001b[39m_unwrap_value(response\u001b[38;5;241m.\u001b[39mget(\u001b[38;5;124m\"\u001b[39m\u001b[38;5;124mvalue\u001b[39m\u001b[38;5;124m\"\u001b[39m, \u001b[38;5;28;01mNone\u001b[39;00m))\n\u001b[0;32m    442\u001b[0m     \u001b[38;5;28;01mreturn\u001b[39;00m response\n",
      "File \u001b[1;32m~\\AppData\\Roaming\\Python\\Python39\\site-packages\\selenium\\webdriver\\remote\\errorhandler.py:245\u001b[0m, in \u001b[0;36mErrorHandler.check_response\u001b[1;34m(self, response)\u001b[0m\n\u001b[0;32m    243\u001b[0m         alert_text \u001b[38;5;241m=\u001b[39m value[\u001b[38;5;124m\"\u001b[39m\u001b[38;5;124malert\u001b[39m\u001b[38;5;124m\"\u001b[39m]\u001b[38;5;241m.\u001b[39mget(\u001b[38;5;124m\"\u001b[39m\u001b[38;5;124mtext\u001b[39m\u001b[38;5;124m\"\u001b[39m)\n\u001b[0;32m    244\u001b[0m     \u001b[38;5;28;01mraise\u001b[39;00m exception_class(message, screen, stacktrace, alert_text)  \u001b[38;5;66;03m# type: ignore[call-arg]  # mypy is not smart enough here\u001b[39;00m\n\u001b[1;32m--> 245\u001b[0m \u001b[38;5;28;01mraise\u001b[39;00m exception_class(message, screen, stacktrace)\n",
      "\u001b[1;31mNoSuchElementException\u001b[0m: Message: no such element: Unable to locate element: {\"method\":\"css selector\",\"selector\":\"[id=\"hoo-haa-hoo\"]\"}\n  (Session info: chrome=113.0.5672.93)\nStacktrace:\nBacktrace:\n\tGetHandleVerifier [0x01028893+48451]\n\t(No symbol) [0x00FBB8A1]\n\t(No symbol) [0x00EC5058]\n\t(No symbol) [0x00EF0467]\n\t(No symbol) [0x00EF069B]\n\t(No symbol) [0x00F1DD92]\n\t(No symbol) [0x00F0A304]\n\t(No symbol) [0x00F1C482]\n\t(No symbol) [0x00F0A0B6]\n\t(No symbol) [0x00EE7E08]\n\t(No symbol) [0x00EE8F2D]\n\tGetHandleVerifier [0x01288E3A+2540266]\n\tGetHandleVerifier [0x012C8959+2801161]\n\tGetHandleVerifier [0x012C295C+2776588]\n\tGetHandleVerifier [0x010B2280+612144]\n\t(No symbol) [0x00FC4F6C]\n\t(No symbol) [0x00FC11D8]\n\t(No symbol) [0x00FC12BB]\n\t(No symbol) [0x00FB4857]\n\tBaseThreadInitThunk [0x75CA7D49+25]\n\tRtlInitializeExceptionChain [0x7723B74B+107]\n\tRtlClearBits [0x7723B6CF+191]\n"
     ]
    }
   ],
   "source": [
    "driver = webdriver.Chrome(\"Chromedriver.exe\")\n",
    "driver.get(\"https://www.google.com/\")\n",
    "time.sleep(5)\n",
    "# Entering an element which is not present in our webpage\n",
    "element = driver.find_element(By.ID,\"hoo-haa-hoo\")\n",
    "element.text"
   ]
  },
  {
   "cell_type": "code",
   "execution_count": 8,
   "id": "d6966ddf",
   "metadata": {},
   "outputs": [
    {
     "name": "stdout",
     "output_type": "stream",
     "text": [
      "Exception Raised :  Message: no such element: Unable to locate element: {\"method\":\"css selector\",\"selector\":\"[id=\"Hoo-Haa-Hoo\"]\"}\n",
      "  (Session info: chrome=113.0.5672.93)\n",
      "Stacktrace:\n",
      "Backtrace:\n",
      "\tGetHandleVerifier [0x01028893+48451]\n",
      "\t(No symbol) [0x00FBB8A1]\n",
      "\t(No symbol) [0x00EC5058]\n",
      "\t(No symbol) [0x00EF0467]\n",
      "\t(No symbol) [0x00EF069B]\n",
      "\t(No symbol) [0x00F1DD92]\n",
      "\t(No symbol) [0x00F0A304]\n",
      "\t(No symbol) [0x00F1C482]\n",
      "\t(No symbol) [0x00F0A0B6]\n",
      "\t(No symbol) [0x00EE7E08]\n",
      "\t(No symbol) [0x00EE8F2D]\n",
      "\tGetHandleVerifier [0x01288E3A+2540266]\n",
      "\tGetHandleVerifier [0x012C8959+2801161]\n",
      "\tGetHandleVerifier [0x012C295C+2776588]\n",
      "\tGetHandleVerifier [0x010B2280+612144]\n",
      "\t(No symbol) [0x00FC4F6C]\n",
      "\t(No symbol) [0x00FC11D8]\n",
      "\t(No symbol) [0x00FC12BB]\n",
      "\t(No symbol) [0x00FB4857]\n",
      "\tBaseThreadInitThunk [0x75CA7D49+25]\n",
      "\tRtlInitializeExceptionChain [0x7723B74B+107]\n",
      "\tRtlClearBits [0x7723B6CF+191]\n",
      "\n",
      "Gmail\n"
     ]
    }
   ],
   "source": [
    "# Handling Exception\n",
    "\n",
    "try:\n",
    "    element = driver.find_element(By.ID,\"Hoo-Haa-Hoo\")\n",
    "    print(element.text)\n",
    "except NoSuchElementException as e:\n",
    "    print(\"Exception Raised : \", e)               # Printing Message\n",
    "    element = driver.find_element(By.CLASS_NAME,\"gb_t\")     # Replacing previous element by a valid element which appear\n",
    "    print (element.text)"
   ]
  },
  {
   "cell_type": "code",
   "execution_count": 9,
   "id": "1b2d3ac8",
   "metadata": {},
   "outputs": [],
   "source": [
    "driver.close()"
   ]
  },
  {
   "cell_type": "code",
   "execution_count": 10,
   "id": "c035eb47",
   "metadata": {},
   "outputs": [],
   "source": [
    "# Importing required classes\n",
    "from selenium import webdriver\n",
    "from selenium.webdriver.support.ui import WebDriverWait\n",
    "from selenium.webdriver.support import expected_conditions\n",
    "from selenium.webdriver.common.by import By"
   ]
  },
  {
   "cell_type": "code",
   "execution_count": 11,
   "id": "c9e53c86",
   "metadata": {},
   "outputs": [],
   "source": [
    "from selenium.webdriver.support import expected_conditions as EC"
   ]
  },
  {
   "cell_type": "code",
   "execution_count": 12,
   "id": "fddcc7a9",
   "metadata": {},
   "outputs": [
    {
     "data": {
      "text/plain": [
       "[<selenium.webdriver.remote.webelement.WebElement (session=\"1e31007f630f352409608873b68ab94d\", element=\"38B343CDC3A0314E2557E1E438C02C62_element_62\")>,\n",
       " <selenium.webdriver.remote.webelement.WebElement (session=\"1e31007f630f352409608873b68ab94d\", element=\"38B343CDC3A0314E2557E1E438C02C62_element_63\")>]"
      ]
     },
     "execution_count": 12,
     "metadata": {},
     "output_type": "execute_result"
    }
   ],
   "source": [
    "driver=webdriver.Chrome(\"C:/chromedriver.exe\")\n",
    "driver.get(\"https://www.amazon.in/\")\n",
    "delay = 10 # seconds\n",
    "WebDriverWait(driver, delay).until(EC.presence_of_element_located((By.CLASS_NAME, 'nav_last ')))\n",
    "element = driver.find_elements(By.XPATH,\"//li[@class='nav_last']\")\n",
    "element"
   ]
  },
  {
   "cell_type": "code",
   "execution_count": 13,
   "id": "e2ef2827",
   "metadata": {},
   "outputs": [],
   "source": [
    "driver.close()"
   ]
  },
  {
   "cell_type": "code",
   "execution_count": 1,
   "id": "384797d9",
   "metadata": {},
   "outputs": [
    {
     "ename": "ImportError",
     "evalue": "cannot import name 'expected_condition' from 'selenium.webdriver.support' (C:\\Users\\jakha\\AppData\\Roaming\\Python\\Python39\\site-packages\\selenium\\webdriver\\support\\__init__.py)",
     "output_type": "error",
     "traceback": [
      "\u001b[1;31m---------------------------------------------------------------------------\u001b[0m",
      "\u001b[1;31mImportError\u001b[0m                               Traceback (most recent call last)",
      "Input \u001b[1;32mIn [1]\u001b[0m, in \u001b[0;36m<cell line: 3>\u001b[1;34m()\u001b[0m\n\u001b[0;32m      1\u001b[0m \u001b[38;5;28;01mfrom\u001b[39;00m \u001b[38;5;21;01mselenium\u001b[39;00m\u001b[38;5;21;01m.\u001b[39;00m\u001b[38;5;21;01mcommon\u001b[39;00m\u001b[38;5;21;01m.\u001b[39;00m\u001b[38;5;21;01mexceptions\u001b[39;00m \u001b[38;5;28;01mimport\u001b[39;00m StaleElementReferenceException          \u001b[38;5;66;03m# Importing Exception\u001b[39;00m\n\u001b[0;32m      2\u001b[0m \u001b[38;5;28;01mfrom\u001b[39;00m \u001b[38;5;21;01mselenium\u001b[39;00m\u001b[38;5;21;01m.\u001b[39;00m\u001b[38;5;21;01mwebdriver\u001b[39;00m\u001b[38;5;21;01m.\u001b[39;00m\u001b[38;5;21;01msupport\u001b[39;00m\u001b[38;5;21;01m.\u001b[39;00m\u001b[38;5;21;01mui\u001b[39;00m \u001b[38;5;28;01mimport\u001b[39;00m WebDriverWait\n\u001b[1;32m----> 3\u001b[0m \u001b[38;5;28;01mfrom\u001b[39;00m \u001b[38;5;21;01mselenium\u001b[39;00m\u001b[38;5;21;01m.\u001b[39;00m\u001b[38;5;21;01mwebdriver\u001b[39;00m\u001b[38;5;21;01m.\u001b[39;00m\u001b[38;5;21;01msupport\u001b[39;00m \u001b[38;5;28;01mimport\u001b[39;00m expected_condition \u001b[38;5;28;01mas\u001b[39;00m EC\n\u001b[0;32m      4\u001b[0m \u001b[38;5;28;01mfrom\u001b[39;00m \u001b[38;5;21;01mselenium\u001b[39;00m\u001b[38;5;21;01m.\u001b[39;00m\u001b[38;5;21;01mwebdriver\u001b[39;00m\u001b[38;5;21;01m.\u001b[39;00m\u001b[38;5;21;01mcommon\u001b[39;00m\u001b[38;5;21;01m.\u001b[39;00m\u001b[38;5;21;01mby\u001b[39;00m \u001b[38;5;28;01mimport\u001b[39;00m By\n",
      "\u001b[1;31mImportError\u001b[0m: cannot import name 'expected_condition' from 'selenium.webdriver.support' (C:\\Users\\jakha\\AppData\\Roaming\\Python\\Python39\\site-packages\\selenium\\webdriver\\support\\__init__.py)"
     ]
    }
   ],
   "source": [
    "from selenium.common.exceptions import StaleElementReferenceException          # Importing Exception\n",
    "from selenium.webdriver.support.ui import WebDriverWait\n",
    "from selenium.webdriver.support import expected_condition as EC\n",
    "from selenium.webdriver.common.by import By"
   ]
  },
  {
   "cell_type": "code",
   "execution_count": 15,
   "id": "55952ae0",
   "metadata": {},
   "outputs": [
    {
     "name": "stdout",
     "output_type": "stream",
     "text": [
      "[<selenium.webdriver.remote.webelement.WebElement (session=\"6f0ce9771f4bc9e719a9cd4934d1eb99\", element=\"4BBF95A14CBC240C55E2FDF7C72C8E8F_element_64\")>, <selenium.webdriver.remote.webelement.WebElement (session=\"6f0ce9771f4bc9e719a9cd4934d1eb99\", element=\"4BBF95A14CBC240C55E2FDF7C72C8E8F_element_65\")>]\n"
     ]
    }
   ],
   "source": [
    "driver=webdriver.Chrome(\"C:/chromedriver.exe\")\n",
    "driver.get(\"https://www.amazon.in/\")\n",
    "try:\n",
    "    element = driver.find_elements(By.XPATH,\"//li[@class='nav_last']\")\n",
    "    print(element)\n",
    "except StaleElementReferenceException as e:\n",
    "    print(\"Exception Raised: \", e)\n",
    "    print(\"Refreshing the page !!\")\n",
    "    driver.get(\"https://www.amazon.in/\")\n",
    "    WebDriverWait(driver, delay).until(EC.presence_of_element_located((By.CLASS_NAME, 'nav_last ')))\n",
    "    element = driver.find_elements(By.XPATH,\"//li[@class='nav_last']\")\n",
    "    element"
   ]
  },
  {
   "cell_type": "code",
   "execution_count": 16,
   "id": "47bb0d2e",
   "metadata": {},
   "outputs": [],
   "source": [
    "driver.close()"
   ]
  },
  {
   "cell_type": "code",
   "execution_count": 17,
   "id": "1f9ece97",
   "metadata": {},
   "outputs": [],
   "source": [
    "from selenium.common.exceptions import ElementNotInteractableException       #Importing Exception"
   ]
  },
  {
   "cell_type": "code",
   "execution_count": 23,
   "id": "736892a7",
   "metadata": {},
   "outputs": [],
   "source": [
    "driver = webdriver.Chrome(\"C:/chromedriver.exe\")\n",
    "driver.get(\"https://www.amazon.in/\")\n",
    "time.sleep(5)\n",
    "try:\n",
    "    element = driver.find_elements(By.XPATH,\"//i[@class='a-icon a-icon-previous-rouded']/span\")\n",
    "    element\n",
    "except ElementNotInteractableException as e:\n",
    "    print(\"Exception Raised: \", e)\n",
    "    element1 = driver.find_elements(By.XPATH,\"//a[@class='a-carousel-goto-nextpage']\")\n",
    "    driver.get(element.get_attribute('href'))"
   ]
  },
  {
   "cell_type": "code",
   "execution_count": 24,
   "id": "d4b060f2",
   "metadata": {},
   "outputs": [],
   "source": [
    "driver.close()"
   ]
  },
  {
   "cell_type": "code",
   "execution_count": 26,
   "id": "c0400a39",
   "metadata": {},
   "outputs": [
    {
     "ename": "ImportError",
     "evalue": "cannot import name 'SessionNotCreatedExceptione' from 'selenium.common.exceptions' (C:\\Users\\jakha\\AppData\\Roaming\\Python\\Python39\\site-packages\\selenium\\common\\exceptions.py)",
     "output_type": "error",
     "traceback": [
      "\u001b[1;31m---------------------------------------------------------------------------\u001b[0m",
      "\u001b[1;31mImportError\u001b[0m                               Traceback (most recent call last)",
      "Input \u001b[1;32mIn [26]\u001b[0m, in \u001b[0;36m<cell line: 1>\u001b[1;34m()\u001b[0m\n\u001b[1;32m----> 1\u001b[0m \u001b[38;5;28;01mfrom\u001b[39;00m \u001b[38;5;21;01mselenium\u001b[39;00m\u001b[38;5;21;01m.\u001b[39;00m\u001b[38;5;21;01mcommon\u001b[39;00m\u001b[38;5;21;01m.\u001b[39;00m\u001b[38;5;21;01mexceptions\u001b[39;00m \u001b[38;5;28;01mimport\u001b[39;00m SessionNotCreatedExceptione\n",
      "\u001b[1;31mImportError\u001b[0m: cannot import name 'SessionNotCreatedExceptione' from 'selenium.common.exceptions' (C:\\Users\\jakha\\AppData\\Roaming\\Python\\Python39\\site-packages\\selenium\\common\\exceptions.py)"
     ]
    }
   ],
   "source": [
    "from selenium.common.exceptions import SessionNotCreatedExceptione      # Importing Exception"
   ]
  },
  {
   "cell_type": "code",
   "execution_count": 27,
   "id": "7f821bb4",
   "metadata": {},
   "outputs": [],
   "source": [
    "try:\n",
    "    driver = webdriver.Chrome(r\"C:/Users/balan/Downloads/chromdriver_win32/chromedriver.exe\")\n",
    "    driver.get(\"https://www.google.com/\")\n",
    "except SessionNotCreatedException as e:\n",
    "    print(\"Exception Raised: \", e)\n",
    "    driver = webdriver.Chrome(r\"c:/Users/balan/Downloads/chromdriver_win32/chromedriver.exe\")\n",
    "    driver.get(\"https://www.google.com/\")"
   ]
  },
  {
   "cell_type": "code",
   "execution_count": 28,
   "id": "43dea091",
   "metadata": {},
   "outputs": [],
   "source": [
    "driver.close()"
   ]
  },
  {
   "cell_type": "code",
   "execution_count": 29,
   "id": "61139863",
   "metadata": {},
   "outputs": [
    {
     "ename": "ImportError",
     "evalue": "cannot import name 'expected_condition' from 'selenium.webdriver.support' (C:\\Users\\jakha\\AppData\\Roaming\\Python\\Python39\\site-packages\\selenium\\webdriver\\support\\__init__.py)",
     "output_type": "error",
     "traceback": [
      "\u001b[1;31m---------------------------------------------------------------------------\u001b[0m",
      "\u001b[1;31mImportError\u001b[0m                               Traceback (most recent call last)",
      "Input \u001b[1;32mIn [29]\u001b[0m, in \u001b[0;36m<cell line: 2>\u001b[1;34m()\u001b[0m\n\u001b[0;32m      1\u001b[0m \u001b[38;5;28;01mfrom\u001b[39;00m \u001b[38;5;21;01mselenium\u001b[39;00m\u001b[38;5;21;01m.\u001b[39;00m\u001b[38;5;21;01mwebdriver\u001b[39;00m\u001b[38;5;21;01m.\u001b[39;00m\u001b[38;5;21;01msupport\u001b[39;00m\u001b[38;5;21;01m.\u001b[39;00m\u001b[38;5;21;01mui\u001b[39;00m \u001b[38;5;28;01mimport\u001b[39;00m WebDriverWait\n\u001b[1;32m----> 2\u001b[0m \u001b[38;5;28;01mfrom\u001b[39;00m \u001b[38;5;21;01mselenium\u001b[39;00m\u001b[38;5;21;01m.\u001b[39;00m\u001b[38;5;21;01mwebdriver\u001b[39;00m\u001b[38;5;21;01m.\u001b[39;00m\u001b[38;5;21;01msupport\u001b[39;00m \u001b[38;5;28;01mimport\u001b[39;00m expected_condition \u001b[38;5;28;01mas\u001b[39;00m EC\n\u001b[0;32m      3\u001b[0m \u001b[38;5;28;01mfrom\u001b[39;00m \u001b[38;5;21;01mselenium\u001b[39;00m\u001b[38;5;21;01m.\u001b[39;00m\u001b[38;5;21;01mwebdriver\u001b[39;00m\u001b[38;5;21;01m.\u001b[39;00m\u001b[38;5;21;01mcommon\u001b[39;00m\u001b[38;5;21;01m.\u001b[39;00m\u001b[38;5;21;01mby\u001b[39;00m \u001b[38;5;28;01mimport\u001b[39;00m By\n\u001b[0;32m      4\u001b[0m \u001b[38;5;28;01mfrom\u001b[39;00m \u001b[38;5;21;01mselenium\u001b[39;00m\u001b[38;5;21;01m.\u001b[39;00m\u001b[38;5;21;01mcommon\u001b[39;00m\u001b[38;5;21;01m.\u001b[39;00m\u001b[38;5;21;01mexceptions\u001b[39;00m \u001b[38;5;28;01mimport\u001b[39;00m TimeoutException\n",
      "\u001b[1;31mImportError\u001b[0m: cannot import name 'expected_condition' from 'selenium.webdriver.support' (C:\\Users\\jakha\\AppData\\Roaming\\Python\\Python39\\site-packages\\selenium\\webdriver\\support\\__init__.py)"
     ]
    }
   ],
   "source": [
    "from selenium.webdriver.support.ui import WebDriverWait\n",
    "from selenium.webdriver.support import expected_condition as EC\n",
    "from selenium.webdriver.common.by import By\n",
    "from selenium.common.exceptions import TimeoutException"
   ]
  },
  {
   "cell_type": "code",
   "execution_count": 32,
   "id": "29915981",
   "metadata": {},
   "outputs": [],
   "source": [
    "from selenium.common.exceptions import TimeoutException"
   ]
  },
  {
   "cell_type": "code",
   "execution_count": 33,
   "id": "62e5ada5",
   "metadata": {},
   "outputs": [
    {
     "name": "stdout",
     "output_type": "stream",
     "text": [
      "Exception Raised:  Message: \n",
      "Stacktrace:\n",
      "Backtrace:\n",
      "\tGetHandleVerifier [0x01028893+48451]\n",
      "\t(No symbol) [0x00FBB8A1]\n",
      "\t(No symbol) [0x00EC5058]\n",
      "\t(No symbol) [0x00EF0467]\n",
      "\t(No symbol) [0x00EF069B]\n",
      "\t(No symbol) [0x00F1DD92]\n",
      "\t(No symbol) [0x00F0A304]\n",
      "\t(No symbol) [0x00F1C482]\n",
      "\t(No symbol) [0x00F0A0B6]\n",
      "\t(No symbol) [0x00EE7E08]\n",
      "\t(No symbol) [0x00EE8F2D]\n",
      "\tGetHandleVerifier [0x01288E3A+2540266]\n",
      "\tGetHandleVerifier [0x012C8959+2801161]\n",
      "\tGetHandleVerifier [0x012C295C+2776588]\n",
      "\tGetHandleVerifier [0x010B2280+612144]\n",
      "\t(No symbol) [0x00FC4F6C]\n",
      "\t(No symbol) [0x00FC11D8]\n",
      "\t(No symbol) [0x00FC12BB]\n",
      "\t(No symbol) [0x00FB4857]\n",
      "\tBaseThreadInitThunk [0x75CA7D49+25]\n",
      "\tRtlInitializeExceptionChain [0x7723B74B+107]\n",
      "\tRtlClearBits [0x7723B6CF+191]\n",
      "\n"
     ]
    }
   ],
   "source": [
    "driver=webdriver.Chrome(r'C:/chromedriver.exe')\n",
    "delay = 5\n",
    "try:\n",
    "    driver.get(\"https://www.amazon.in/\")\n",
    "    WebDriverWait(driver, delay).until(EC.presence_of_element_located((By.CLASS_NAME, 'a-section a-spacing-mini')))\n",
    "    element = driver.find_elements(By.XPATH,\"//div[@class='a-section a-spacing-mini']\")\n",
    "    print(element)\n",
    "except TimeoutException as e:\n",
    "    print(\"Exception Raised: \", e)"
   ]
  },
  {
   "cell_type": "code",
   "execution_count": 34,
   "id": "5a8320b0",
   "metadata": {},
   "outputs": [],
   "source": [
    "driver.close()"
   ]
  },
  {
   "cell_type": "code",
   "execution_count": 3,
   "id": "6eba7fea",
   "metadata": {},
   "outputs": [],
   "source": [
    "from selenium import webdriver\n",
    "from selenium.webdriver.chrome.options import Options\n",
    "chrome_options = Options()\n",
    "chrome_options.add_argument('--incognito')"
   ]
  },
  {
   "cell_type": "code",
   "execution_count": 36,
   "id": "d5a1a13f",
   "metadata": {},
   "outputs": [],
   "source": [
    "driver = webdriver.Chrome(r\"C:/Users/balan/Downloads/chromdriver_win32/chromedriver.exe\")"
   ]
  },
  {
   "cell_type": "code",
   "execution_count": 37,
   "id": "f631104e",
   "metadata": {},
   "outputs": [],
   "source": [
    "driver.get(\"https:/www.google.com\")"
   ]
  },
  {
   "cell_type": "code",
   "execution_count": 38,
   "id": "400f69b6",
   "metadata": {},
   "outputs": [],
   "source": [
    "driver.close()"
   ]
  },
  {
   "cell_type": "code",
   "execution_count": 77,
   "id": "5386e260",
   "metadata": {},
   "outputs": [],
   "source": [
    "import pandas as pd\n",
    "import selenium\n",
    "from bs4 import BeautifulSoup\n",
    "import time\n",
    "from selenium import webdriver\n",
    "import requests\n",
    "import re\n",
    "from selenium.common.exceptions import NoSuchElementException, StaleElementReferenceException\n",
    "from selenium.webdriver.support.ui import WebDriverWait"
   ]
  },
  {
   "cell_type": "code",
   "execution_count": 78,
   "id": "61460edb",
   "metadata": {},
   "outputs": [],
   "source": [
    "# connecting to the webdriver\n",
    "driver=webdriver.Chrome(r\"C:/Users/HP/Downloads/chromedriver_win32 (1)/chromedriver.exe\")"
   ]
  },
  {
   "cell_type": "code",
   "execution_count": 79,
   "id": "abc2a770",
   "metadata": {},
   "outputs": [],
   "source": [
    "# getting the webpage of mentioned url\n",
    "url = \"https://www.amazon.in/\"\n",
    "driver.get(url)"
   ]
  },
  {
   "cell_type": "code",
   "execution_count": 80,
   "id": "d9275dcf",
   "metadata": {},
   "outputs": [
    {
     "name": "stdout",
     "output_type": "stream",
     "text": [
      "Enter the product that we want to search : guitar\n"
     ]
    }
   ],
   "source": [
    "# entering the product that we want to search\n",
    "user_input = input('Enter the product that we want to search : ')"
   ]
  },
  {
   "cell_type": "code",
   "execution_count": 86,
   "id": "97686029",
   "metadata": {},
   "outputs": [
    {
     "ename": "AttributeError",
     "evalue": "'WebDriver' object has no attribute 'find_element_by_id'",
     "output_type": "error",
     "traceback": [
      "\u001b[1;31m---------------------------------------------------------------------------\u001b[0m",
      "\u001b[1;31mAttributeError\u001b[0m                            Traceback (most recent call last)",
      "Input \u001b[1;32mIn [86]\u001b[0m, in \u001b[0;36m<cell line: 2>\u001b[1;34m()\u001b[0m\n\u001b[0;32m      1\u001b[0m \u001b[38;5;66;03m# searching the web element for user input\u001b[39;00m\n\u001b[1;32m----> 2\u001b[0m search \u001b[38;5;241m=\u001b[39m \u001b[43mdriver\u001b[49m\u001b[38;5;241;43m.\u001b[39;49m\u001b[43mfind_element_by_id\u001b[49m(\u001b[38;5;124m\"\u001b[39m\u001b[38;5;124mtwotabsearchtextbox\u001b[39m\u001b[38;5;124m\"\u001b[39m)\n\u001b[0;32m      3\u001b[0m search\n\u001b[0;32m      5\u001b[0m \u001b[38;5;66;03m# sending the user input to search bar\u001b[39;00m\n",
      "\u001b[1;31mAttributeError\u001b[0m: 'WebDriver' object has no attribute 'find_element_by_id'"
     ]
    }
   ],
   "source": [
    "# searching the web element for user input\n",
    "search = driver.find_element_by_id(\"twotabsearchtextbox\")\n",
    "search\n",
    "\n",
    "# sending the user input to search bar\n",
    "search.send_keys(user_input)\n",
    "\n",
    "# locating the search button using xpath\n",
    "search_btn = driver.find_element_by_xpath(\"//div[@class='nav-search-submit nav-sprite']/span/input\")\n",
    "\n",
    "# clicking on search button\n",
    "search_btn.click()"
   ]
  },
  {
   "cell_type": "code",
   "execution_count": null,
   "id": "e2a2a2d2",
   "metadata": {},
   "outputs": [],
   "source": []
  },
  {
   "cell_type": "markdown",
   "id": "556cefd5",
   "metadata": {},
   "source": [
    "2. In the above question, now scrape the following details of each product listed in first 3 pages of your\n",
    "search results and save it in a data frame and csv. In case if any product has less than 3 pages in search\n",
    "results then scrape all the products available under that product name. Details to be scraped are: \"Brand\n",
    "Name\", \"Name of the Product\", \"Price\", \"Return/Exchange\", \"Expected Delivery\", \"Availability\" and\n",
    "“Product URL”. In case, if any of the details are missing for any of the product then replace it by “-“.\n"
   ]
  },
  {
   "cell_type": "code",
   "execution_count": 41,
   "id": "43ab6fcd",
   "metadata": {},
   "outputs": [
    {
     "name": "stdout",
     "output_type": "stream",
     "text": [
      "<!DOCTYPE html><html lang=\"en\" translate=\"no\" class=\"js-focus-visible bg-white text-gray-500 antialiased\"><head><meta charSet=\"utf-8\"/><link rel=\"preload\" as=\"image\" imageSrcSet=\"https://wsrv.nl/?url=https%3A%2F%2Fcodedamn.com%2Fassets%2Flanding-page-assets%2Fbeams.jpeg&amp;w=2610&amp;q=70&amp;output=webp 1x\" fetchpriority=\"high\"/><link rel=\"preload\" as=\"image\" imageSrcSet=\"https://wsrv.nl/?url=https%3A%2F%2Fcodedamn.com%2Fassets%2Flanding-page-assets%2Fprofiles%2Fthumb-1.png&amp;w=128&amp;q=70&amp;output=webp 1x, https://wsrv.nl/?url=https%3A%2F%2Fcodedamn.com%2Fassets%2Flanding-page-assets%2Fprofiles%2Fthumb-1.png&amp;w=128&amp;q=70&amp;output=webp 2x\" fetchpriority=\"high\"/><link rel=\"preload\" as=\"image\" imageSrcSet=\"https://wsrv.nl/?url=https%3A%2F%2Fcodedamn.com%2Fassets%2Flanding-page-assets%2Fprofiles%2Fthumb-2.png&amp;w=128&amp;q=70&amp;output=webp 1x, https://wsrv.nl/?url=https%3A%2F%2Fcodedamn.com%2Fassets%2Flanding-page-assets%2Fprofiles%2Fthumb-2.png&amp;w=128&amp;q=70&amp;output=webp 2x\" fetchpriority=\"high\"/><link rel=\"preload\" as=\"image\" imageSrcSet=\"https://wsrv.nl/?url=https%3A%2F%2Fcodedamn.com%2Fassets%2Flanding-page-assets%2Fprofiles%2Fthumb-3.png&amp;w=128&amp;q=70&amp;output=webp 1x, https://wsrv.nl/?url=https%3A%2F%2Fcodedamn.com%2Fassets%2Flanding-page-assets%2Fprofiles%2Fthumb-3.png&amp;w=128&amp;q=70&amp;output=webp 2x\" fetchpriority=\"high\"/><link rel=\"preload\" as=\"image\" imageSrcSet=\"https://wsrv.nl/?url=https%3A%2F%2Fcodedamn.com%2Fassets%2Flanding-page-assets%2Fprofiles%2Fthumb-4.png&amp;w=128&amp;q=70&amp;output=webp 1x, https://wsrv.nl/?url=https%3A%2F%2Fcodedamn.com%2Fassets%2Flanding-page-assets%2Fprofiles%2Fthumb-4.png&amp;w=128&amp;q=70&amp;output=webp 2x\" fetchpriority=\"high\"/><title>Learn to code for free - Personal AI powered tutor 100+ interactive courses</title><meta name=\"robots\" content=\"index,follow\"/><meta name=\"description\" content=\"Learn and practice real-world programming skills - frontend, backend, fullstack, mobile app development and web 3 online with thousands of developers. Do problem solving with AI - ask any question and get instant response. Become job-ready 10x faster.\"/><meta name=\"twitter:card\" content=\"summary_large_image\"/><meta name=\"twitter:site\" content=\"@codedamncom\"/><meta name=\"twitter:creator\" content=\"@codedamncom\"/><meta property=\"fb:app_id\" content=\"261251371039658\"/><meta property=\"og:title\" content=\"Learn to code for free - Personal AI powered tutor 100+ interactive courses\"/><meta property=\"og:description\" content=\"Learn and practice real-world programming skills - frontend, backend, fullstack, mobile app development and web 3 online with thousands of developers. Do problem solving with AI - ask any question and get instant response. Become job-ready 10x faster.\"/><meta property=\"og:url\" content=\"https://codedamn.com\"/><meta property=\"og:image\" content=\"https://codedamn-website-assets.s3.amazonaws.com/uploads/iNuOa-df5EAomG-tcHP-H/og.png\"/><meta property=\"og:image:alt\" content=\"codedamn: Learn to code like it&#x27;s 2030\"/><meta property=\"og:image:width\" content=\"1280\"/><meta property=\"og:image:height\" content=\"720\"/><link rel=\"canonical\" href=\"https://codedamn.com\"/><script type=\"application/ld+json\">{\"@context\":\"https://schema.org\",\"@type\":\"Organization\",\"logo\":\"https://codedamn.com/assets/images/blacklogo.jpg\",\"url\":\"https://codedamn.com\"}</script><noscript><img height=\"1\" width=\"1\" alt=\"facebook pixel\" class=\"hidden\" src=\"https://www.facebook.com/tr?id=3250905641816288&amp;ev=PageView&amp;noscript=1\"/></noscript><meta name=\"viewport\" content=\"minimum-scale=1, initial-scale=1, width=device-width, shrink-to-fit=no\"/><meta name=\"application-name\" content=\"codedamn\"/><meta name=\"apple-mobile-web-app-capable\" content=\"yes\"/><meta name=\"apple-mobile-web-app-status-bar-style\" content=\"default\"/><meta name=\"apple-mobile-web-app-title\" content=\"codedamn\"/><meta name=\"format-detection\" content=\"telephone=no\"/><meta name=\"mobile-web-app-capable\" content=\"yes\"/><meta name=\"google-site-verification\" content=\"K3adKM0QaR6obX9d4z4AxJOT_uLqZFyz9PaZd_LQHXU\"/><meta name=\"msapplication-config\" content=\"/assets/images/favicons/browserconfig.xml\"/><meta name=\"msapplication-TileColor\" content=\"#000000\"/><meta name=\"msapplication-tap-highlight\" content=\"no\"/><link rel=\"apple-touch-icon\" sizes=\"180x180\" href=\"/assets/images/favicons/apple-icon-180x180.png\"/><link rel=\"icon\" type=\"image/png\" sizes=\"32x32\" href=\"/assets/images/favicons/favicon-32x32.png\"/><link rel=\"icon\" type=\"image/png\" sizes=\"16x16\" href=\"/assets/images/favicons/favicon-16x16.png\"/><link rel=\"manifest\" href=\"/manifest.json\"/><link rel=\"shortcut icon\" href=\"/assets/images/favicons/favicon-96x96.png\"/><meta name=\"next-head-count\" content=\"39\"/><link rel=\"preload\" href=\"/_next/static/media/2aaf0723e720e8b9-s.p.woff2\" as=\"font\" type=\"font/woff2\" crossorigin=\"anonymous\" data-next-font=\"size-adjust\"/><link rel=\"preload\" href=\"/_next/static/css/a047880d623db214.css\" as=\"style\"/><link rel=\"stylesheet\" href=\"/_next/static/css/a047880d623db214.css\" data-n-g=\"\"/><noscript data-n-css=\"\"></noscript><script defer=\"\" nomodule=\"\" src=\"/_next/static/chunks/polyfills-c67a75d1b6f99dc8.js\"></script><script src=\"https://polyfill.io/v3/polyfill.min.js?features=Set%2CResizeObserver%2Ces2020%2Ces2022%2Ces2021%2Ces5%2Ces6%2Ces7%2Ces2019%2Ces2018%2Ces2017%2Ces2016%2Ces2015&amp;flags=gated&amp;unknown=polyfill\" defer=\"\" data-nscript=\"beforeInteractive\"></script><script src=\"/_next/static/chunks/webpack-98ce5ea78205a4ad.js\" defer=\"\"></script><script src=\"/_next/static/chunks/framework-ca241945d620efbc.js\" defer=\"\"></script><script src=\"/_next/static/chunks/main-9b9729ed96f41437.js\" defer=\"\"></script><script src=\"/_next/static/chunks/pages/_app-74cbb1556eed839f.js\" defer=\"\"></script><script src=\"/_next/static/chunks/252f366e-3a3136165f406986.js\" defer=\"\"></script><script src=\"/_next/static/chunks/d0c16330-37597c4c52f13517.js\" defer=\"\"></script><script src=\"/_next/static/chunks/1a48c3c1-55acb4ad903cc0ec.js\" defer=\"\"></script><script src=\"/_next/static/chunks/d64684d8-033bf05a17796052.js\" defer=\"\"></script><script src=\"/_next/static/chunks/2962-6db9e1edbe71fab8.js\" defer=\"\"></script><script src=\"/_next/static/chunks/25675-fcd226bdf7a7bc7a.js\" defer=\"\"></script><script src=\"/_next/static/chunks/10541-75a986b2f22666e5.js\" defer=\"\"></script><script src=\"/_next/static/chunks/3836-0e33a64e2aaa6789.js\" defer=\"\"></script><script src=\"/_next/static/chunks/5459-b66364569675bcb9.js\" defer=\"\"></script><script src=\"/_next/static/chunks/82177-0385ab06b324c837.js\" defer=\"\"></script><script src=\"/_next/static/chunks/15223-84ee35782f612433.js\" defer=\"\"></script><script src=\"/_next/static/chunks/pages/%5Bhostname%5D-d8c70e9a0add6add.js\" defer=\"\"></script><script src=\"/_next/static/BnQYeNQf9ZNo-FGNh0MGw/_buildManifest.js\" defer=\"\"></script><script src=\"/_next/static/BnQYeNQf9ZNo-FGNh0MGw/_ssgManifest.js\" defer=\"\"></script></head><body class=\"lg:overscroll-y-none\"><div id=\"__next\"><div class=\"__className_0ec1f4\" id=\"root-wrapper\"><div id=\"root\" class=\"relative bg-white text-black dark:bg-gray-900 dark:text-white\"><div id=\"layout-mid-container\" class=\"relative flex flex-1 overflow-clip\"><div id=\"layout-content-container\" class=\"flex w-full flex-1 flex-col\"><div class=\"inset-x-0 top-0 z-30 w-full  fixed\"><header class=\"relative h-14 w-full px-2.5 z-40 md:px-4 text-gray-900 dark:text-gray-100 bg-transparent border-b-0\"><div id=\"header-navs-container\" class=\"mx-auto flex h-full w-full max-w-screen-2xl items-center 3xl:px-4\"><div class=\"flex-1\"><div class=\"flex items-center justify-between\"><div class=\"z-10 flex items-center gap-2\"><button type=\"button\" class=\"inline-flex min-w-max items-center gap-2 flex-shrink-0 dark:ring-offset-gray-900 border border-transparent font-semibold focus:outline-none disabled:shadow-none disabled:cursor-not-allowed disabled:opacity-60 focus:ring-primary-500 rounded-lg text-sm border-none bg-transparent text-opacity-90 hover:text-opacity-100 -m-2 flex-shrink-0 p-2 text-gray-800 dark:text-gray-200 sm:translate-y-px md:hidden\"><span class=\"sr-only\">Open menu</span><svg stroke=\"currentColor\" fill=\"currentColor\" stroke-width=\"0\" viewBox=\"0 0 24 24\" class=\"h-6 w-6 -scale-x-100\" height=\"1em\" width=\"1em\" xmlns=\"http://www.w3.org/2000/svg\"><path fill=\"none\" d=\"M0 0h24v24H0V0z\"></path><path d=\"M3 18h13v-2H3v2zm0-5h10v-2H3v2zm0-7v2h13V6H3zm18 9.59L17.42 12 21 8.41 19.59 7l-5 5 5 5L21 15.59z\"></path></svg></button><div class=\"flex items-center gap-2\"><a class=\"flex items-center gap-1 text-xl font-semibold\" data-testid=\"logo\" href=\"/\"><svg class=\"h-7 w-7\" viewBox=\"0 0 53 58\" fill=\"none\" xmlns=\"http://www.w3.org/2000/svg\"><mask id=\"mask0_1275_84\" style=\"mask-type:alpha\" maskUnits=\"userSpaceOnUse\" x=\"0\" y=\"29\" width=\"53\" height=\"29\"><rect y=\"29\" width=\"53\" height=\"29\" fill=\"#D9D9D9\"></rect></mask><g mask=\"url(#mask0_1275_84)\"><path d=\"M44 42.5L35.0351 37.1669C31.0351 42.6669 25 42 22 39.5C18.5003 36.7534 15.7595 25.3619 22 19C24.9828 15.9591 31.3219 14.982 35.0351 20.5L43.5 15C41.6667 11.8333 35.5351 6.00174 27.5351 6.00174C20.3685 5.88981 6.20348 10.5673 7.03507 30.166C7.83807 49.0909 21.0115 52.5116 27.5351 52.5C35.5351 52.4858 42.1667 45.6666 44 42.5Z\" fill=\"#EA3F40\"></path></g><mask id=\"mask1_1275_84\" style=\"mask-type:alpha\" maskUnits=\"userSpaceOnUse\" x=\"0\" y=\"0\" width=\"53\" height=\"29\"><rect width=\"53\" height=\"29\" transform=\"matrix(1 0 0 -1 0 29)\" fill=\"#D9D9D9\"></rect></mask><g mask=\"url(#mask1_1275_84)\"><path d=\"M44 15.5L35.0351 20.8331C31.0351 15.3331 25 16 22 18.5C18.5003 21.2466 15.7595 32.6381 22 39C24.9828 42.0409 31.3219 43.018 35.0351 37.5L43.5 43C41.6667 46.1667 35.5351 51.9983 27.5351 51.9983C20.3685 52.1102 6.20348 47.4327 7.03507 27.834C7.83807 8.90914 21.0115 5.48845 27.5351 5.5C35.5351 5.51417 42.1667 12.3334 44 15.5Z\" fill=\"#EA3F40\"></path></g></svg><span class=\"hidden dark:text-white sm:block\">codedamn</span></a><div class=\"w-[10ch]\"></div></div></div><div class=\"absolute inset-x-0 z-0 hidden h-14 w-full items-center justify-center md:flex md:flex-col\"><nav class=\"flex gap-8 self-center\"><div data-headlessui-state=\"\"><button class=\"text-gray-600 dark:text-gray-400 group inline-flex items-center rounded-md text-sm font-medium hover:text-gray-900 focus:outline-none dark:hover:text-white\" data-testid=\"learn-popover-btn\" type=\"button\" aria-expanded=\"false\" data-headlessui-state=\"\"><span>Learn</span><svg stroke=\"currentColor\" fill=\"currentColor\" stroke-width=\"0\" viewBox=\"0 0 20 20\" aria-hidden=\"true\" class=\"text-gray-500 -mb-px ml-0.5 h-4 w-4 group-hover:text-gray-800 dark:group-hover:text-gray-100\" height=\"1em\" width=\"1em\" xmlns=\"http://www.w3.org/2000/svg\"><path fill-rule=\"evenodd\" d=\"M5.293 7.293a1 1 0 011.414 0L10 10.586l3.293-3.293a1 1 0 111.414 1.414l-4 4a1 1 0 01-1.414 0l-4-4a1 1 0 010-1.414z\" clip-rule=\"evenodd\"></path></svg></button></div><div data-headlessui-state=\"\"><button class=\"text-gray-600 dark:text-gray-400 group inline-flex items-center rounded-md text-sm font-medium hover:text-gray-900 focus:outline-none dark:hover:text-white\" type=\"button\" aria-expanded=\"false\" data-headlessui-state=\"\"><span>Practice</span><svg stroke=\"currentColor\" fill=\"currentColor\" stroke-width=\"0\" viewBox=\"0 0 20 20\" aria-hidden=\"true\" class=\"text-gray-500 -mb-px ml-0.5 h-4 w-4 group-hover:text-gray-800 dark:group-hover:text-gray-100\" height=\"1em\" width=\"1em\" xmlns=\"http://www.w3.org/2000/svg\"><path fill-rule=\"evenodd\" d=\"M5.293 7.293a1 1 0 011.414 0L10 10.586l3.293-3.293a1 1 0 111.414 1.414l-4 4a1 1 0 01-1.414 0l-4-4a1 1 0 010-1.414z\" clip-rule=\"evenodd\"></path></svg></button></div><div data-headlessui-state=\"\"><button class=\"text-gray-600 dark:text-gray-400 group inline-flex items-center rounded-md text-sm font-medium hover:text-gray-900 focus:outline-none dark:hover:text-white\" type=\"button\" aria-expanded=\"false\" data-headlessui-state=\"\"><span>Company</span><svg stroke=\"currentColor\" fill=\"currentColor\" stroke-width=\"0\" viewBox=\"0 0 20 20\" aria-hidden=\"true\" class=\"text-gray-500 -mb-px ml-0.5 h-4 w-4 group-hover:text-gray-800 dark:group-hover:text-gray-100\" height=\"1em\" width=\"1em\" xmlns=\"http://www.w3.org/2000/svg\"><path fill-rule=\"evenodd\" d=\"M5.293 7.293a1 1 0 011.414 0L10 10.586l3.293-3.293a1 1 0 111.414 1.414l-4 4a1 1 0 01-1.414 0l-4-4a1 1 0 010-1.414z\" clip-rule=\"evenodd\"></path></svg></button></div><div><a class=\"text-sm font-medium text-gray-600 hover:text-gray-900 dark:text-gray-400 dark:hover:text-white\" href=\"/pricing\">Pricing</a></div></nav></div><div class=\"z-10 transition-opacity duration-300 ease-linear sm:min-w-[150px] opacity-0\"><div class=\"transition-opacity duration-500 ease-linear opacity-0\"></div></div></div></div></div></header></div><main class=\"w-full flex-grow\"><img alt=\"Gradient beams background image\" fetchpriority=\"high\" width=\"2610\" height=\"1305\" decoding=\"async\" data-nimg=\"1\" class=\"absolute -top-[1rem] left-1/2 z-0 -ml-[40rem] w-[163.125rem] max-w-none opacity-40 sm:-ml-[67.5rem]\" style=\"color:transparent\" srcSet=\"https://wsrv.nl/?url=https%3A%2F%2Fcodedamn.com%2Fassets%2Flanding-page-assets%2Fbeams.jpeg&amp;w=2610&amp;q=70&amp;output=webp 1x\" src=\"https://wsrv.nl/?url=https%3A%2F%2Fcodedamn.com%2Fassets%2Flanding-page-assets%2Fbeams.jpeg&amp;w=2610&amp;q=70&amp;output=webp\"/><section class=\"relative mt-14\"><div class=\"mx-auto h-[82vw] w-full max-w-screen-2xl overflow-hidden px-6 pt-12 sm:h-[min(70vw,64rem)] sm:overflow-visible sm:pt-16 md:px-8 lg:px-10\"><div class=\"relative z-10 aspect-1 w-full min-w-[200vw] -translate-x-[55vw] sm:min-w-0 sm:-translate-y-[24%] sm:translate-x-0\"><div data-id=\"css-animation\" class=\"relative h-full w-full animate-[fade-in_1500ms_linear_0ms_forwards] opacity-0\"><div class=\"absolute inset-0 h-full w-full rounded-full border border-x-2 border-gray-200 border-x-gray-300/75 p-[10%] sm:[mask-image:linear-gradient(transparent_15%,white_25%,white_85%,transparent_95%)]\"><div class=\"h-full w-full rounded-full border border-x-2 border-gray-200 border-x-gray-300/75 p-[12.25%]\"><div class=\"h-full w-full rounded-full border border-x-2 border-gray-200 border-x-gray-300/75\"></div></div></div><svg viewBox=\"0 0 152 162\" class=\"absolute left-[1.85%] top-[50.5%] hidden w-[11.75%] -rotate-[31deg] stroke-gray-300 sm:block\"><path fill=\"none\" d=\"M11.5 0.5C4.50029 20 -7.46644 47.5 8.74439 69.5C17.5867 81.5 41.7436 98.375 51.7436 104C74.2436 116.656 91.2435 121 93.2435 146.5C93.7435 156 88.7443 166.667 83.7443 176.5\" stroke-linecap=\"round\" stroke-linejoin=\"round\"></path></svg><svg viewBox=\"0 0 94 177\" class=\"to-succ absolute left-[38%] top-[10.05%] w-[6.85%] rotate-[100deg] -scale-x-100 stroke-gray-300 sm:left-[87.9%] sm:top-[60%] sm:w-[7%] sm:-rotate-1 sm:scale-x-100\"><path fill=\"none\" d=\"M11.5 0.5C4.50029 20 -7.46644 47.5 8.74439 69.5C17.5867 81.5 41.7436 98.375 51.7436 104C74.2436 116.656 91.2435 121 93.2435 146.5C93.7435 156 88.7443 166.667 83.7443 176.5\" stroke-linecap=\"round\" stroke-linejoin=\"round\"></path><defs><linearGradient id=\"LearnSvgGradient\"><stop offset=\"5%\" stop-color=\"#4f46e5\"></stop><stop offset=\"95%\" stop-color=\"#c084fc\"></stop></linearGradient><linearGradient id=\"ApplySvgGradient\"><stop offset=\"5%\" stop-color=\"#0ea5e9\"></stop><stop offset=\"95%\" stop-color=\"#22d3ee\"></stop></linearGradient><linearGradient id=\"GrowSvgGradient\"><stop offset=\"5%\" stop-color=\"#65a30d\"></stop><stop offset=\"95%\" stop-color=\"#84cc16\"></stop></linearGradient><linearGradient id=\"AccentSvgGradient\"><stop offset=\"10%\" stop-color=\"#fde047\"></stop><stop offset=\"90%\" stop-color=\"#bef264\"></stop></linearGradient></defs></svg></div><div data-id=\"css-animation\" class=\"absolute inset-0 animate-[fade-in_1500ms_ease-in-out_750ms_forwards] opacity-0\"><div class=\"hidden sm:block\"><img alt=\"Developer practicing HTML5\" fetchpriority=\"high\" width=\"64\" height=\"64\" decoding=\"async\" data-nimg=\"1\" class=\"absolute right-[9%] top-[56%] w-[4%] rounded-full border-2 border-gray-100/30 shadow\" style=\"color:transparent\" srcSet=\"https://wsrv.nl/?url=https%3A%2F%2Fcodedamn.com%2Fassets%2Flanding-page-assets%2Fprofiles%2Fthumb-1.png&amp;w=128&amp;q=70&amp;output=webp 1x, https://wsrv.nl/?url=https%3A%2F%2Fcodedamn.com%2Fassets%2Flanding-page-assets%2Fprofiles%2Fthumb-1.png&amp;w=128&amp;q=70&amp;output=webp 2x\" src=\"https://wsrv.nl/?url=https%3A%2F%2Fcodedamn.com%2Fassets%2Flanding-page-assets%2Fprofiles%2Fthumb-1.png&amp;w=128&amp;q=70&amp;output=webp\"/><span class=\"absolute right-[6%] top-[59.25%] whitespace-nowrap rounded-sm border border-gray-100 bg-white/90 px-[min(0.5%,8px)] text-[clamp(8px,0.77vw,12px)] font-medium shadow lg:rounded\">📚 Practice</span><svg id=\"HTML-5-logo\" class=\"absolute right-[4.5%] top-[64%] aspect-1 w-[8%]\" fill=\"none\" viewBox=\"0 0 133 141\"><path fill=\"#000\" d=\"M42.4 30l.2 46.3c0 .7.5 1.4 1.1 1.6l18.5 7.4h1l19.4-4.5c.6-.2 1.1-.8 1.3-1.4l7-45.8c0-1-.7-1.8-1.6-2l-45-3.2c-1 0-1.9.7-1.9 1.7z\"></path><path fill=\"url(#AccentSvgGradient)\" d=\"M80.4 47.5L57 45.8l.2 6.5L79.4 54l-2.8 18.4-13.3 3.2-12.7-5v-9.8l6.8.5L57 66l7 2.5 7.2-1.4 1.1-7.6L50.5 58V39.3l30.8 2.2-.9 6z\"></path></svg><svg class=\"absolute right-[5.5%] top-[73.5%] h-[3%] w-[3%] rounded-xl border border-gray-100 bg-white/75 p-[0.4%] shadow\" viewBox=\"0 0 24 24\"><path d=\"M21 7c-.8-1-2.2-1.4-4.2-1.4h-.3c0-1.8 0-3.8-3.7-3.8h-1.6c-3.7 0-3.7 2-3.7 3.7h-.3C5.2 5.6 3.8 6 3 7c-1 1-1 2.6-.8 3.6v.9l.3.3a17.9 17.9 0 006.8 2.7c0 1 .5 2 2.7 2s2.6-1 2.7-2c2-.3 4-1 5.8-2l.1-.2 1.2-.8.2-.3v-.8c.2-1 .1-2.4-.8-3.4zm-8 6.8c0 1 0 1.3-1.1 1.3-1.3 0-1.3-.2-1.3-1.3v-1.2h2.5v1.2zM9 5.6c0-1.8 0-2.4 2.2-2.4h1.6c2.3 0 2.3.6 2.3 2.3H8.9z\"></path><path d=\"M20.9 13.7c.3-.1.7.1.7.5l-.4 4c-.2 2-1 4-5.4 4H8.2c-4.4 0-5.2-2-5.4-4l-.4-3.7c0-.4.4-.7.7-.6 1.2.6 3.3 1.5 4.6 1.8l.3.3c.7 1.3 2 2 3.9 2s3.2-.7 3.8-2a34.6 34.6 0 005.2-2.3z\"></path></svg></div><div><img alt=\"Troubled Programmer, Stuck with a bug.\" fetchpriority=\"high\" width=\"64\" height=\"64\" decoding=\"async\" data-nimg=\"1\" class=\"absolute left-[30%] top-[12%] w-[4%] -rotate-12 rounded-full border-2 border-gray-100/30 shadow sm:-left-[2%] sm:top-[49%] sm:rotate-0\" style=\"color:transparent\" srcSet=\"https://wsrv.nl/?url=https%3A%2F%2Fcodedamn.com%2Fassets%2Flanding-page-assets%2Fprofiles%2Fthumb-2.png&amp;w=128&amp;q=70&amp;output=webp 1x, https://wsrv.nl/?url=https%3A%2F%2Fcodedamn.com%2Fassets%2Flanding-page-assets%2Fprofiles%2Fthumb-2.png&amp;w=128&amp;q=70&amp;output=webp 2x\" src=\"https://wsrv.nl/?url=https%3A%2F%2Fcodedamn.com%2Fassets%2Flanding-page-assets%2Fprofiles%2Fthumb-2.png&amp;w=128&amp;q=70&amp;output=webp\"/><span class=\"absolute left-[32.5%] top-[14.25%] -rotate-12 whitespace-nowrap rounded-sm border border-gray-100 bg-white/90 px-[min(0.5%,8px)] text-[clamp(8px,0.77vw,12px)] font-medium shadow sm:-left-[1%] sm:top-[52.5%] sm:rotate-0 lg:rounded\">😥 Stuck</span><span class=\"absolute left-[38.5%] top-[17%] -rotate-12 whitespace-nowrap rounded-sm border border-gray-100 bg-white/90 px-[min(0.5%,8px)] text-[clamp(8px,0.77vw,12px)] font-medium shadow sm:left-[3%] sm:top-[58%] sm:rotate-0 lg:rounded\">😄 Ask AI</span><svg viewBox=\"0 0 28 28\" fill=\"currentColor\" class=\"absolute left-[46.5%] top-[18.5%] h-[3%] w-[3%] -rotate-12 rounded-xl border border-gray-100 bg-white/75 p-[0.5%] text-black shadow sm:left-[11%] sm:top-[62%] sm:rotate-0\"><path d=\"M23 16.5h-2.6a1 1 0 0 0-.5.2l-3.1 2a2.9 2.9 0 0 1-4.4-1.7c0-.4-.4-.8-.8-1-.7-.3-1.3-.7-1.8-1.2A6.4 6.4 0 0 1 8 10.2V4.3c0-.5-.4-1-1-1h-.3c-3.6 0-6 1.8-6 6v7.2c0 4.2 2.4 6 6 6h5v3.8H7.9a1 1 0 0 0-1 1c0 .6.4 1 1 1h9.6c.5 0 1-.4 1-1 0-.5-.5-1-1-1h-3.8v-3.8h5c3.3 0 5.6-1.5 6-5 0-.5-.5-1-1-1H23Z\"></path><path d=\"M27.3 5v5.2c0 2-1 3.5-2.6 4-.5.2-1.1.3-1.7.3h-3.5l-3.8 2.6a.9.9 0 0 1-1.4-.7v-1.9c-1.3 0-2.4-.4-3.1-1.2a4.4 4.4 0 0 1-1.2-3.1V5c0-.6 0-1.2.3-1.7.6-1.6 2-2.6 4-2.6H23c2.6 0 4.3 1.7 4.3 4.3Z\"></path></svg></div><div><img alt=\"Programmer with a top rank in the leaderboard\" fetchpriority=\"high\" width=\"64\" height=\"64\" decoding=\"async\" data-nimg=\"1\" class=\"absolute right-[67%] top-[24.5%] w-[4%] -rotate-12 overflow-hidden rounded-full border-2 border-gray-100/30 shadow sm:right-[30%] sm:rotate-0\" style=\"color:transparent\" srcSet=\"https://wsrv.nl/?url=https%3A%2F%2Fcodedamn.com%2Fassets%2Flanding-page-assets%2Fprofiles%2Fthumb-3.png&amp;w=128&amp;q=70&amp;output=webp 1x, https://wsrv.nl/?url=https%3A%2F%2Fcodedamn.com%2Fassets%2Flanding-page-assets%2Fprofiles%2Fthumb-3.png&amp;w=128&amp;q=70&amp;output=webp 2x\" src=\"https://wsrv.nl/?url=https%3A%2F%2Fcodedamn.com%2Fassets%2Flanding-page-assets%2Fprofiles%2Fthumb-3.png&amp;w=128&amp;q=70&amp;output=webp\"/><svg viewBox=\"0 0 22 28\" class=\"absolute right-[65.5%] top-[27%] h-[3%] w-[3%] -rotate-12 rounded-full border border-gray-100 bg-white/90 p-[0.45%] shadow sm:right-[28.5%] sm:top-[27%] sm:rotate-0\"><path d=\"M18.7 5.3v1L14 3.6c-1.8-1-4.3-1-6 0L3.3 6.3v-1c0-3 1.6-4.6 4.6-4.6H14c3 0 4.6 1.6 4.6 4.6Z\"></path><path d=\"M18.8 8.6h-.2l-1.8-1.1L13 5.3c-1.1-.6-2.9-.6-4 0L5.2 7.5l-1.8 1-.2.2C.8 10.2.7 10.5.7 13v6c0 2.5.1 2.8 2.5 4.4L9 26.8a4 4 0 0 0 2 .5c.7 0 1.5-.1 2-.5l5.8-3.3c2.4-1.6 2.5-1.9 2.5-4.4v-6c0-2.6-.1-2.9-2.5-4.5Zm-4 7.4-.9 1a1 1 0 0 0-.2.6V19c.1.8-.4 1.2-1.2 1l-1.2-.6h-.6l-1.2.5c-.8.3-1.3-.1-1.3-1l.1-1.2c0-.2 0-.5-.2-.6l-.8-1c-.5-.6-.3-1.3.5-1.5l1.2-.3c.2 0 .4-.2.5-.4l.7-1c.5-.7 1.1-.7 1.6 0l.7 1c0 .2.3.4.5.4l1.2.3c.8.2 1 .9.5 1.5Z\"></path></svg></div><div><svg fill=\"none\" viewBox=\"0 0 50 51\" class=\"absolute right-[30%] top-[24%] aspect-1 w-[4%] rotate-6 rounded-md bg-black p-[0.4%] sm:right-[18.5%] sm:top-[46%] sm:w-[3%] sm:rotate-0 lg:rounded-lg\"><path fill=\"url(#AccentSvgGradient)\" d=\"M23.4 0h-.8a25 25 0 0 0-18 10.4 24.8 24.8 0 0 0-4.4 11C0 22.7 0 23 0 25a25.1 25.1 0 0 0 36.9 22s-2-2.5-4.1-5.5l-4-5.4-5-7.4-5-7.4a399.9 399.9 0 0 0-.2 14.8c-.1.2-.2.3-.5.4l-1 .1h-.8l-.3-.1a1 1 0 0 1-.3-.4v-20c.2 0 .3-.2.5-.3h1c1 0 1.2 0 1.5.2a924.8 924.8 0 0 1 15.9 24l4 6h.2c1.7-1.2 3.6-2.9 5-4.6a24.9 24.9 0 0 0 6-12.8c.2-1.3.2-1.7.2-3.6 0-1.9 0-2.3-.2-3.6A25.1 25.1 0 0 0 23.4 0zm10.2 15.1a1 1 0 0 1 .5.6v17.8L32.6 31 31 28.7V15.8a1 1 0 0 1 .5-.7h2.1z\"></path></svg></div><div><svg xmlns=\"http://www.w3.org/2000/svg\" fill=\"none\" viewBox=\"0 0 64 64\" class=\"absolute bottom-[40%] left-[20%] hidden aspect-1 w-[3%] rounded-md bg-black sm:block lg:rounded-lg\"><rect width=\"64\" height=\"64\" fill=\"black\" rx=\"15\"></rect><path fill=\"url(#AccentSvgGradient)\" d=\"M32 54c-.6 0-1.2-.2-1.7-.5L25 50.4c-.8-.5-.4-.6-.1-.7l2.4-1.1a.4.4 0 01.4 0l4.2 2.4a.5.5 0 00.5 0l16-9.3a.5.5 0 00.3-.4V22.7a.5.5 0 00-.2-.5L32.2 13a.5.5 0 00-.4 0l-16.2 9.3a.5.5 0 00-.2.5v18.6a.5.5 0 00.2.4l4.5 2.6c2.4 1.2 3.8-.2 3.8-1.7V24.3a.5.5 0 01.5-.5h2a.5.5 0 01.5.5v18.3c0 3.2-1.7 5-4.8 5-1.3.1-2.6-.2-3.7-1l-4.2-2.4a3.4 3.4 0 01-1.7-2.9V22.7a3.4 3.4 0 011.7-3l16.1-9.3a3.5 3.5 0 013.4 0l16.1 9.3a3.4 3.4 0 011.7 3v18.6a3.4 3.4 0 01-1.7 3l-16.1 9.2c-.5.3-1.1.5-1.7.5z\"></path><path fill=\"url(#AccentSvgGradient)\" d=\"M29 35a.5.5 0 01.4-.4h2.1a.5.5 0 01.5.4c.3 2.1 1.2 3.2 5.5 3.2 3.4 0 4.8-.8 4.8-2.6 0-1-.4-1.8-5.7-2.3-4.4-.5-7.1-1.4-7.1-5 0-3.2 2.7-5.1 7.3-5.1 5.2 0 7.8 1.7 8 5.6a.5.5 0 01-.4.5h-2a.5.5 0 01-.5-.4c-.5-2.2-1.8-3-5-3-3.8 0-4.2 1.4-4.2 2.3 0 1.2.5 1.6 5.5 2.2 5 .7 7.3 1.6 7.3 5 0 3.6-3 5.6-8 5.6-7 0-8.6-3.2-8.6-6z\"></path></svg></div><div><svg xmlns=\"http://www.w3.org/2000/svg\" fill=\"none\" viewBox=\"0 0 64 64\" class=\"absolute bottom-[19%] left-[45%] hidden aspect-1 w-[3%] rounded-md bg-black sm:block lg:rounded-lg\"><rect width=\"64\" height=\"64\" fill=\"black\" rx=\"15\"></rect><path fill=\"#bef264\" d=\"m32 10-.3 1v29l.3.4 13.5-8L32 10Z\"></path><path fill=\"#fde047\" d=\"M32 10 18.5 32.4l13.5 8V10Z\"></path><path fill=\"#bef264\" d=\"m32 43-.2.1v10.4l.2.5 13.5-19L32 43Z\"></path><path fill=\"#fde047\" d=\"M32 54V43l-13.5-8L32 54Z\"></path><path fill=\"#bef264\" d=\"m32 40.4 13.5-8L32 26.3v14Z\"></path><path fill=\"#fde047\" d=\"m18.5 32.4 13.5 8V26.3l-13.5 6.1Z\"></path></svg></div><div><img alt=\"Testimonial developer profile picture\" fetchpriority=\"high\" width=\"64\" height=\"64\" decoding=\"async\" data-nimg=\"1\" class=\"absolute right-[45%] top-[8.5%] w-[4%] rotate-2 overflow-hidden rounded-full border-2 border-gray-100/30 shadow sm:right-[30%] sm:top-[72%] sm:rotate-0\" style=\"color:transparent\" srcSet=\"https://wsrv.nl/?url=https%3A%2F%2Fcodedamn.com%2Fassets%2Flanding-page-assets%2Fprofiles%2Fthumb-4.png&amp;w=128&amp;q=70&amp;output=webp 1x, https://wsrv.nl/?url=https%3A%2F%2Fcodedamn.com%2Fassets%2Flanding-page-assets%2Fprofiles%2Fthumb-4.png&amp;w=128&amp;q=70&amp;output=webp 2x\" src=\"https://wsrv.nl/?url=https%3A%2F%2Fcodedamn.com%2Fassets%2Flanding-page-assets%2Fprofiles%2Fthumb-4.png&amp;w=128&amp;q=70&amp;output=webp\"/><div class=\"absolute right-[33%] top-[12%] flex max-w-[14%] rotate-3 flex-col rounded border border-gray-100 bg-white/90 p-[0.75%] text-[clamp(8px,0.77vw,12px)] shadow sm:right-[18%] sm:top-[75%] sm:rotate-0 lg:rounded-md\"><div class=\"inline-flex w-12 lg:w-16\"><div class=\"flex max-w-none items-center justify-center\"><svg width=\"100%\" height=\"100%\" viewBox=\"0 0 70 14\" xmlns=\"http://www.w3.org/2000/svg\"><defs><symbol id=\"icon-rating-star-:Rpsin2l6:\" viewBox=\"0 0 24 24\"><path d=\"M12 17.27L18.18 21l-1.64-7.03L22 9.24l-7.19-.61L12 2 9.19 8.63 2 9.24l5.46 4.73L5.82 21 12 17.27z\"></path></symbol></defs><mask id=\"star-rating-mask-:Rpsin2l6:\" data-purpose=\"star-rating-mask\"><rect x=\"0\" y=\"0\" width=\"100%\" height=\"100%\" fill=\"white\"></rect></mask><g fill=\"#fbbf24\" mask=\"url(#star-rating-mask-:Rpsin2l6:)\" data-purpose=\"star-filled\"><use xlink:href=\"#icon-rating-star-:Rpsin2l6:\" width=\"14\" height=\"14\" x=\"0\"></use><use xlink:href=\"#icon-rating-star-:Rpsin2l6:\" width=\"14\" height=\"14\" x=\"14\"></use><use xlink:href=\"#icon-rating-star-:Rpsin2l6:\" width=\"14\" height=\"14\" x=\"28\"></use><use xlink:href=\"#icon-rating-star-:Rpsin2l6:\" width=\"14\" height=\"14\" x=\"42\"></use><use xlink:href=\"#icon-rating-star-:Rpsin2l6:\" width=\"14\" height=\"14\" x=\"56\"></use></g><g fill=\"transparent\" stroke=\"#fbbf24\" stroke-width=\"2\" data-purpose=\"star-bordered\"><use xlink:href=\"#icon-rating-star-:Rpsin2l6:\" width=\"12\" height=\"12\" x=\"1\" y=\"1\"></use><use xlink:href=\"#icon-rating-star-:Rpsin2l6:\" width=\"12\" height=\"12\" x=\"15\" y=\"1\"></use><use xlink:href=\"#icon-rating-star-:Rpsin2l6:\" width=\"12\" height=\"12\" x=\"29\" y=\"1\"></use><use xlink:href=\"#icon-rating-star-:Rpsin2l6:\" width=\"12\" height=\"12\" x=\"43\" y=\"1\"></use><use xlink:href=\"#icon-rating-star-:Rpsin2l6:\" width=\"12\" height=\"12\" x=\"57\" y=\"1\"></use></g></svg></div></div><p class=\"mt-1 font-medium lg:mt-1.5\"><q>Great platform for learning to code.</q></p></div></div><div class=\"absolute -top-3 left-[27%] flex w-[27%] -rotate-3 sm:left-[6%] sm:top-[25%] sm:rotate-0 sm:justify-center lg:justify-end\"><div class=\"flex w-fit flex-col rounded-md border border-gray-100 bg-white/90 p-[5%] font-mono text-[clamp(8px,0.77vw,13px)] shadow lg:rounded-lg\"><div class=\"flex items-center gap-1 xl:gap-1.5\"><div class=\"aspect-1 w-[3.5%] rounded-full bg-destructive-500 shadow shadow-destructive-500\"></div><div class=\"aspect-1 w-[3.5%] rounded-full bg-warning-500 shadow shadow-warning-500\"></div><div class=\"aspect-1 w-[3.5%] rounded-full bg-success-500 shadow shadow-success-500\"></div></div><div class=\"mt-3 flex items-center lg:mt-4\"><div class=\"flex w-full flex-col gap-0.5 whitespace-nowrap font-medium sm:gap-1\"><span><span class=\"mr-1 font-semibold text-secondary-500\">&lt;h1&gt;</span>Learn programming<span class=\"ml-1 font-semibold text-secondary-500\">&lt;/h1&gt;</span></span><span><span class=\"mr-1 font-semibold text-secondary-500\">&lt;em&gt;</span>with AI support<span class=\"ml-1 font-semibold text-secondary-500\">&lt;/em&gt;</span></span></div></div></div><svg viewBox=\"0 0 28 28\" class=\"aspect-1 h-[12%] w-[12%] min-w-[24px] -translate-x-[60%] -translate-y-[35%] rounded-full border border-gray-100 bg-white/75 p-[1%] shadow\"><path d=\"M14 .7a13.3 13.3 0 1 0 0 26.6A13.3 13.3 0 0 0 14 .7ZM9.4 16c.4.3.4 1 0 1.4a1 1 0 0 1-.7.3 1 1 0 0 1-.7-.3l-2.7-2.7a1 1 0 0 1 0-1.4L8 10.6a1 1 0 0 1 1.4 0c.4.4.4 1 0 1.4l-2 2 2 2Zm6.9-4.7-2.7 6.2a1 1 0 0 1-1.3.5 1 1 0 0 1-.5-1.3l2.6-6.2a1 1 0 0 1 1.3-.5c.5.2.8.8.6 1.3Zm6.4 3.4L20 17.4a1 1 0 0 1-.7.3 1 1 0 0 1-.7-.3 1 1 0 0 1 0-1.4l2-2-2-2a1 1 0 0 1 0-1.4 1 1 0 0 1 1.4 0l2.7 2.7c.4.4.4 1 0 1.4Z\"></path></svg></div><div><svg fill=\"none\" class=\"absolute -top-[1%] left-[60%] aspect-1 w-[4%] rotate-6 rounded-md bg-black p-[0.4%] sm:left-[8%] sm:top-[43%] sm:-rotate-0 lg:rounded-lg\" viewBox=\"0 0 50 50\"><path fill=\"url(#AccentSvgGradient)\" d=\"M25.7 29.2a4.7 4.7 0 1 0-2.2-9 4.7 4.7 0 0 0 2.2 9Z\"></path><path stroke=\"url(#AccentSvgGradient)\" d=\"M39 14.4V14v.5c2.7.3 5 .9 6.6 1.7 1.7.8 2.6 1.8 2.8 2.8.3 1-.1 2.5-1.3 4-1.2 1.6-3 3.3-5.6 4.8a52 52 0 0 1-14.8 5.8c-5.9 1.4-11.6 2-16 1.7-2.9-.3-5.3-1-7-1.8-1.7-.9-2.7-2-2.9-3-.2-1 .1-2.3 1.2-3.8 1-1.4 2.7-3 5-4.4a54.6 54.6 0 0 1 31.9-7.8Z\"></path><path stroke=\"url(#AccentSvgGradient)\" d=\"M13.6 38.7A52 52 0 0 1 16 22.4v-.2c1.8-6 4.3-11.3 7-15 1.6-2.2 3.2-4 4.8-5 1.5-1 2.8-1.3 3.8-1 1 .3 2 1.4 2.8 3.2.8 1.8 1.3 4.2 1.4 7.2a52 52 0 0 1-2.4 15.7c-1.7 5.8-4 11-6.6 14.8l.4.2-.4-.2c-1.7 2.3-3.4 4-5 5s-3 1.4-4 1.1c-1-.3-2-1.2-2.7-2.9a21 21 0 0 1-1.4-6.6h-.5.5Z\"></path><path stroke=\"url(#AccentSvgGradient)\" d=\"M18 31a51.9 51.9 0 0 1-9.4-13.5 19.6 19.6 0 0 1-2-6.6C6.7 9 7 7.7 7.8 7c.8-.7 2.2-1 4.2-.8 1.9.2 4.3 1 6.9 2.4 3.9 2 8.3 5.6 12.4 9.9 4.2 4.4 7.6 9 9.5 13a20 20 0 0 1 1.9 7c0 1.9-.3 3.3-1.1 4-.7.7-2 1-3.9.9-1.7-.2-4-1-6.4-2.2l-.2.5.2-.5c-4-2-8.8-5.7-13.1-10.3Z\"></path></svg><div class=\"absolute left-[63%] top-[2.5%] z-10 inline-flex rotate-6 items-center gap-1 whitespace-nowrap rounded bg-gradient-to-r from-secondary-500 to-cyan-400 px-[min(0.5%,8px)] py-0.5 text-[clamp(8px,0.77vw,12px)] font-medium text-white shadow sm:left-[11%] sm:top-[46%] sm:rotate-0\"><svg stroke=\"currentColor\" fill=\"currentColor\" stroke-width=\"0\" viewBox=\"0 0 16 16\" height=\"1em\" width=\"1em\" xmlns=\"http://www.w3.org/2000/svg\"><path d=\"M16 8A8 8 0 1 1 0 8a8 8 0 0 1 16 0zm-3.97-3.03a.75.75 0 0 0-1.08.022L7.477 9.417 5.384 7.323a.75.75 0 0 0-1.06 1.06L6.97 11.03a.75.75 0 0 0 1.079-.02l3.992-4.99a.75.75 0 0 0-.01-1.05z\"></path></svg> Completed</div></div><div class=\"absolute bottom-[22%] left-[5%] hidden w-[24%] min-w-[180px] sm:block\"><div class=\"flex w-full items-center justify-between rounded-md border border-gray-100 bg-white/90 p-[5%] shadow lg:rounded-lg\"><div class=\"flex items-center gap-2 md:gap-3 lg:gap-4\"><svg stroke=\"currentColor\" fill=\"currentColor\" stroke-width=\"0\" viewBox=\"0 0 16 16\" class=\"h-3 w-3 flex-shrink-0 rounded-full text-secondary-400 ring-1 ring-secondary-400 ring-offset-1 md:h-3.5 md:w-3.5 md:ring min-[960px]:h-5 min-[960px]:w-5 xl:h-6 xl:w-6\" height=\"1em\" width=\"1em\" xmlns=\"http://www.w3.org/2000/svg\"><path d=\"M16 8A8 8 0 1 1 0 8a8 8 0 0 1 16 0zm-3.97-3.03a.75.75 0 0 0-1.08.022L7.477 9.417 5.384 7.323a.75.75 0 0 0-1.06 1.06L6.97 11.03a.75.75 0 0 0 1.079-.02l3.992-4.99a.75.75 0 0 0-.01-1.05z\"></path></svg><div class=\"flex flex-col\"><span class=\"mb-[1%] truncate text-[clamp(8px,1vw,16px)] font-semibold\">Complete a project</span><span class=\"truncate text-[clamp(6px,0.8vw,12px)] text-gray-600\">Get AI feedback for your code</span></div></div><div class=\"whitespace-nowrap rounded border border-success-200 bg-gradient-to-r from-secondary-500 to-cyan-400 px-[min(0.5vw,6px)] py-[min(0.2vw,2px)] text-[6px] font-semibold text-white md:text-[8px] min-[960px]:text-[10px] xl:text-xs\">20 XP</div></div></div><div class=\"absolute right-[2%] top-[25%] hidden w-[17%] sm:block\"><div class=\"flex w-full flex-col rounded-md border border-gray-100 bg-white/90 p-[10%] shadow lg:rounded-lg\"><svg viewBox=\"0 0 29 18\" class=\"h-5 w-5 rounded bg-black p-[3.5%] md:h-6 md:w-6 min-[960px]:h-8 min-[960px]:w-8 lg:rounded-md xl:h-10 xl:w-10\"><path fill=\"url(#AccentSvgGradient)\" d=\"M7.3 6.8C8.2 3 10.5 1 14.3 1c5.6-.1 6.4 4 9.2 4.7 1.9.4 3.5-.3 4.9-2.2-.9 3.8-3.2 5.7-7 5.8-5.6.1-6.4-4.1-9.2-4.7-1.9-.5-3.5.3-4.9 2.2ZM.5 15.4c.9-3.8 3.2-5.7 6.9-5.8 5.6-.1 6.4 4 9.2 4.7 2 .4 3.6-.3 5-2.2-1 3.8-3.2 5.7-7 5.8-5.6 0-6.4-4.1-9.2-4.8-2-.4-3.5.4-4.9 2.3Z\"></path></svg><div class=\"mt-3 flex flex-col lg:mt-4\"><span class=\"mb-[1%] text-[clamp(8px,1vw,15px)] font-semibold\">Apply as you learn</span><span class=\"text-[clamp(6px,0.8vw,12px)] leading-tight text-gray-600\">without leaving your browser</span></div><div class=\"relative mt-2 h-1.5 w-40 overflow-hidden rounded-full bg-secondary-100 md:h-2 lg:mt-3\"><div class=\"absolute inset-0 w-28 rounded-full bg-gradient-to-r from-secondary-500 to-cyan-400\"></div></div></div></div></div></div></div><div class=\"relative z-20 px-6 pb-12 text-center sm:absolute sm:left-1/2 sm:top-1/2 sm:flex sm:aspect-1 sm:w-full sm:max-w-[min(50%,50rem)] sm:-translate-x-1/2 sm:-translate-y-[46%] sm:flex-col sm:items-center sm:justify-center md:-translate-y-[49%] min-[900px]:-translate-y-[52%] lg:gap-4\"><h1 data-id=\"css-animation\" class=\"relative mb-6 animate-[fade-in-up_300ms_ease-in_200ms_forwards] text-center text-[min(10vw,4.5rem)] font-bold leading-none tracking-tight text-gray-900 opacity-0 sm:text-[min(4.5vw,4.5rem)]\"><span class=\"whitespace-nowrap\">Change the world</span><br/>with<!-- --> <span class=\"relative\"><span data-id=\"css-animation\" style=\"--_p:0%;--c1:#4f46e5;--c2:#c084fc\" class=\"hero-code w-full animate-[dim-opacity-start_8s_linear_infinite] bg-gradient-to-r from-primary-600 to-purple-400 bg-clip-text text-transparent will-change-[opacity]\">code</span><span data-id=\"css-animation\" class=\"absolute inset-0 w-full translate-y-[9%] animate-[dim-opacity-mid_8s_linear_infinite] bg-gradient-to-r from-secondary-600 to-secondary-400 bg-clip-text text-transparent will-change-[opacity]\">code</span><span data-id=\"css-animation\" class=\"absolute inset-0 w-full translate-y-[9%] animate-[dim-opacity-end_8s_linear_infinite] bg-gradient-to-r from-success-600 to-success-400 bg-clip-text text-transparent will-change-[opacity]\">code</span></span><span>damn</span></h1><h2 data-id=\"css-animation\" class=\"relative mx-auto max-w-xl animate-[fade-in-up_300ms_ease-in_300ms_forwards] text-center text-[min(5vw,1rem)] font-medium leading-relaxed text-gray-500 opacity-0 sm:text-[min(1.65vw,1.25rem)]\">Learn coding with your personal AI powered tutor and 100+ interactive courses. Become job ready 10x faster.</h2><div class=\"relative mt-10 flex w-full sm:mt-6 md:mt-8 lg:mt-10\"><div data-id=\"css-animation\" class=\"relative mx-auto w-full max-w-sm animate-[fade-in-up_300ms_ease-in_400ms_forwards] cursor-pointer rounded-md px-5 py-3 font-semibold text-white opacity-0 sm:w-fit sm:px-3 sm:py-2 sm:text-xs md:px-4 md:py-3 md:text-sm lg:rounded-lg lg:px-5 lg:text-base xl:px-7 xl:py-4 xl:text-lg\"><div data-id=\"css-animation\" class=\"absolute inset-0 z-0 h-full w-full animate-[dim-opacity-start_8s_linear_infinite] rounded-lg bg-gradient-to-r from-primary-600 to-purple-400\" style=\"box-shadow:0 0 10px 2px #6366f180\"></div><div data-id=\"css-animation\" class=\"absolute inset-0 z-0 h-full w-full animate-[dim-opacity-mid_8s_linear_infinite] rounded-lg bg-gradient-to-r from-secondary-600 to-cyan-400\" style=\"box-shadow:0 0 10px 2px #0ea5e980\"></div><div data-id=\"css-animation\" class=\"absolute inset-0 z-0 h-full w-full animate-[dim-opacity-end_8s_linear_infinite] rounded-lg bg-gradient-to-r from-success-600 to-success-400\" style=\"box-shadow:0 0 10px 2px #84cc1680\"></div><span class=\"relative z-10\">Begin your coding journey →</span></div></div></div></section><section class=\"relative z-0 overflow-hidden bg-gradient-to-b from-transparent to-white px-6 pb-8 pt-4 lg:pb-16 min-[1450px]:pt-16\"><h4 class=\"mb-6 block text-center text-xs font-bold uppercase leading-relaxed tracking-widest text-gray-600 sm:text-sm lg:mb-12\">Powering over <!-- -->260k<!-- --> developers to land their dream job</h4><div class=\"relative w-full max-w-full overflow-clip [mask-image:radial-gradient(circle,white_80%,transparent_100%)]\"><div class=\"relative mx-auto min-w-[max(100vw,1056px)] text-gray-600 lg:min-w-0 lg:max-w-3xl\"><div data-id=\"css-animation\" class=\"flex animate-[marquee-start_30s_linear_infinite] items-center justify-around lg:animate-none lg:justify-between\"><svg class=\"mx-4 max-h-[42px] w-[100px] flex-shrink-0 lg:w-auto lg:flex-shrink\"><use href=\"#google\"></use></svg><svg class=\"mx-4 max-h-[42px] w-[100px] flex-shrink-0 lg:w-auto lg:flex-shrink\"><use href=\"#apple\"></use></svg><svg class=\"mx-4 max-h-[42px] w-[100px] flex-shrink-0 lg:w-auto lg:flex-shrink\"><use href=\"#meta\"></use></svg><svg class=\"mx-4 max-h-[42px] w-[100px] flex-shrink-0 lg:w-auto lg:flex-shrink\"><use href=\"#microsoft\"></use></svg><svg class=\"mx-4 max-h-[42px] w-[100px] flex-shrink-0 lg:hidden\"><use href=\"#netflix\"></use></svg><svg class=\"mx-4 max-h-[42px] w-[100px] flex-shrink-0 lg:hidden\"><use href=\"#amazon\"></use></svg><svg class=\"mx-4 max-h-[42px] w-[100px] flex-shrink-0 lg:hidden\"><use href=\"#adobe\"></use></svg><svg class=\"mx-4 max-h-[42px] w-[100px] flex-shrink-0 lg:hidden\"><use href=\"#notion\"></use></svg></div><div data-id=\"css-animation\" class=\"absolute inset-0 flex w-full animate-[marquee-end_30s_linear_infinite] items-center justify-around lg:relative lg:mt-12 lg:animate-none lg:justify-between\"><svg class=\"mx-4 max-h-[42px] w-[100px] flex-shrink-0 lg:hidden\"><use href=\"#google\"></use></svg><svg class=\"mx-4 max-h-[42px] w-[100px] flex-shrink-0 lg:hidden\"><use href=\"#apple\"></use></svg><svg class=\"mx-4 max-h-[42px] w-[100px] flex-shrink-0 lg:hidden\"><use href=\"#meta\"></use></svg><svg class=\"mx-4 max-h-[42px] w-[100px] flex-shrink-0 lg:hidden\"><use href=\"#microsoft\"></use></svg><svg class=\"mx-4 max-h-[42px] w-[100px] flex-shrink-0 lg:-mt-1 lg:!max-h-[36px] lg:w-auto lg:flex-shrink\"><use href=\"#netflix\"></use></svg><svg class=\"mx-4 max-h-[42px] w-[100px] flex-shrink-0 lg:w-auto lg:flex-shrink lg:translate-y-1\"><use href=\"#amazon\"></use></svg><svg class=\"mx-4 max-h-[42px] w-[100px] flex-shrink-0 lg:w-auto lg:flex-shrink\"><use href=\"#adobe\"></use></svg><svg class=\"mx-4 max-h-[42px] w-[100px] flex-shrink-0 lg:max-h-[46px] lg:w-auto lg:flex-shrink\"><use href=\"#notion\"></use></svg></div></div></div><svg version=\"2.0\" class=\"hidden\"><defs><symbol xmlns=\"http://www.w3.org/2000/svg\" id=\"meta\" fill=\"currentColor\" viewBox=\"0 0 115 23\"><path d=\"M42.4.7h4.3L54.1 14 61.5.7h4.2v21.9h-3.5V5.8l-6.5 11.6h-3.3L45.9 5.8v16.8h-3.5V.7ZM77 23c-1.6 0-3-.4-4.2-1.1a7.6 7.6 0 0 1-3-3 10.5 10.5 0 0 1 0-8.9 7.6 7.6 0 0 1 7-4c1.6 0 2.9.3 4 1s2 1.8 2.6 3.1c.6 1.3 1 2.9 1 4.7v1h-12c.1 1.3.7 2.3 1.5 3 .9.8 2 1.2 3.3 1.2 1 0 2-.1 2.7-.5a7 7 0 0 0 2.2-1.4l1.8 2.3a9.8 9.8 0 0 1-6.8 2.6Zm2.7-13a3.9 3.9 0 0 0-3-1.1 4 4 0 0 0-2.9 1.1c-.8.8-1.3 1.8-1.5 3.1H81a4.9 4.9 0 0 0-1.2-3Zm8.9-.8h-3.3V6.3h3.3V1.5H92v4.8h5v2.9h-5v7.3c0 1.2.2 2.1.6 2.6.4.5 1.1.8 2.2.8a10 10 0 0 0 2.1-.2v2.9a9.6 9.6 0 0 1-2.8.4c-3.7 0-5.5-2-5.5-6V9.1Zm26.1 13.4h-3.4v-2.3a6 6 0 0 1-2.2 2c-1 .5-2 .7-3.2.7a7 7 0 0 1-3.8-1.1c-1-.7-2-1.8-2.6-3a10.6 10.6 0 0 1 0-8.9 7.1 7.1 0 0 1 6.6-4.1 6 6 0 0 1 3 .7 6 6 0 0 1 2.2 1.8V6.3h3.4v16.3ZM111.3 12a4.6 4.6 0 0 0-4.5-3c-1.4 0-2.6.5-3.5 1.5-.8 1-1.3 2.3-1.3 4 0 1.6.5 3 1.3 4 .8.9 2 1.4 3.4 1.4 1 0 2-.3 2.8-.8.8-.6 1.4-1.3 1.8-2.2V12Zm-107 3.2c0 1.3.2 2.3.6 3 .5.7 1.3 1 2 1 1 0 1.9-.2 3.6-2.6 1.4-1.9 3-4.5 4.1-6.2l1.9-2.9c1.2-2 2.7-4.1 4.4-5.6A6.8 6.8 0 0 1 25.3 0c2.6 0 5 1.5 6.8 4.2 2 3 3 6.9 3 10.8 0 2.3-.4 4-1.2 5.4a5.2 5.2 0 0 1-4.7 2.6v-3.7c2.1 0 2.6-2 2.6-4.2 0-3.2-.7-6.7-2.3-9.3C28.3 4.1 26.8 3 25.2 3c-1.8 0-3.3 1.3-4.9 3.7l-2.7 4.6-1.1 2a48.7 48.7 0 0 1-3.9 6.2C10.7 22 9.1 23 7 23a5.6 5.6 0 0 1-5.2-2.8A10 10 0 0 1 .5 15l3.8.2Z\"></path><path d=\"M3.5 4.5C5.2 1.8 7.7 0 10.5 0c1.6 0 3.3.5 5 1.9 1.8 1.5 3.8 4 6.3 8.1l1 1.5c2 3.6 3.3 5.4 4 6.3 1 1.1 1.6 1.5 2.4 1.5 2.1 0 2.6-2 2.6-4.2l3.3-.1c0 2.3-.4 4-1.2 5.4a5.2 5.2 0 0 1-4.7 2.6c-1.5 0-3-.3-4.4-1.8-1.2-1-2.5-3-3.6-4.7l-3-5.2a29 29 0 0 0-4-5.5c-.8-.9-2-2-3.8-2-1.4 0-2.7 1-3.7 2.6l-3.2-2Z\"></path><path d=\"M10.4 3.8c-1.4 0-2.7 1-3.7 2.6a16.7 16.7 0 0 0-2.4 8.8c0 1.3.2 2.3.6 3l-3.2 2A10 10 0 0 1 .5 15c0-3.7 1-7.5 3-10.5C5.2 1.8 7.7 0 10.5 0v3.8Z\"></path></symbol><symbol xmlns=\"http://www.w3.org/2000/svg\" id=\"microsoft\" fill=\"currentColor\" viewBox=\"0 0 160 34\"><path d=\"M66.3 6.8v20.4h-3.5v-16l-6.4 16H54l-6.4-16v16h-3.4V6.8h5.1l5.9 15.1h.1l6.2-15.1h4.8Zm3 1.6c0-.6.1-1 .5-1.5a3 3 0 0 1 1.5-.5 2 2 0 0 1 1.5.5 2 2 0 0 1 0 2.9c-.4.4-.9.5-1.5.5a2 2 0 0 1-1.5-.5c-.3-.4-.6-1-.6-1.4Zm3.8 4.2v14.6h-3.5V12.6h3.5Zm10.4 12.1c.5 0 1-.1 1.7-.4.6-.2 1.2-.5 1.7-1v3.3a6 6 0 0 1-1.9.7l-2.3.2a7 7 0 0 1-7.3-7.2c0-2.4.7-4.3 2-5.8a8 8 0 0 1 6-2.3 8.7 8.7 0 0 1 3.4.8v3.3c-.5-.3-1-.7-1.6-.9-.5-.1-1.1-.3-1.7-.3-1.3 0-2.4.4-3.3 1.3A5 5 0 0 0 79 20c0 1.5.4 2.7 1.2 3.5.8.8 2 1.2 3.3 1.2Zm13.2-12.4a3.8 3.8 0 0 1 1.3.2V16l-.8-.4-1.3-.2c-.8 0-1.6.4-2.1 1.1a5 5 0 0 0-1 3.3v7.4h-3.4V12.6H93v2.3c.4-.8.8-1.4 1.4-2a6 6 0 0 1 2.4-.6Zm1.5 7.8a8 8 0 0 1 2-5.7 7.5 7.5 0 0 1 5.7-2.2 7 7 0 0 1 5.3 2 8 8 0 0 1 2 5.6 8 8 0 0 1-2 5.7 7.4 7.4 0 0 1-5.7 2c-2.2 0-4-.6-5.3-2a7.6 7.6 0 0 1-2-5.4Zm3.6-.1c0 1.5.3 2.7 1 3.5.7.8 1.7 1.2 3 1.2 1.2 0 2.2-.4 2.9-1.2.6-.8 1-2 1-3.6s-.4-2.8-1-3.6a3.5 3.5 0 0 0-2.9-1.2c-1.3 0-2.2.4-2.9 1.2-.8 1-1.1 2.1-1.1 3.7Zm16.5-3.6c0 .5.1 1 .5 1.2.3.3 1 .6 2 1 1.4.6 2.4 1.2 3 1.9.5.7.8 1.5.8 2.5a4 4 0 0 1-1.6 3.3c-1 .9-2.5 1.2-4.3 1.2a11.2 11.2 0 0 1-4-.8v-3.4c.7.5 1.4.8 2 1 .8.3 1.5.4 2 .4.8 0 1.4 0 1.8-.3.3-.2.5-.6.5-1 0-.5-.2-1-.5-1.3l-2.2-1.1a6.5 6.5 0 0 1-2.7-1.8 4 4 0 0 1-.8-2.6 4 4 0 0 1 1.6-3.2c1-.9 2.4-1.3 4-1.3a19 19 0 0 1 3.3.6v3.4l-1.6-.8a5 5 0 0 0-1.8-.4 3 3 0 0 0-1.5.4c-.3.3-.5.7-.5 1.1Zm7.7 3.7a8 8 0 0 1 2-5.7 7.5 7.5 0 0 1 5.7-2.2 7 7 0 0 1 5.4 2c1.2 1.4 2 3.3 2 5.6a8 8 0 0 1-2.1 5.7 7.4 7.4 0 0 1-5.6 2 7 7 0 0 1-5.4-2 7.8 7.8 0 0 1-2-5.4Zm3.6-.1c0 1.5.4 2.7 1 3.5a4 4 0 0 0 3 1.2c1.3 0 2.3-.4 3-1.2.6-.8 1-2 1-3.6s-.4-2.8-1-3.6a3.5 3.5 0 0 0-3-1.2c-1.2 0-2.1.4-2.8 1.2-.8 1-1.2 2.1-1.2 3.7Zm22.9-4.6h-5.2v11.8h-3.5V15.4h-2.4v-2.8h2.4v-2c0-1.6.6-2.9 1.5-3.8 1-1 2.3-1.5 3.9-1.5h1.1l.9.2v3l-.7-.2-1-.2c-.7 0-1.2.3-1.6.7-.4.4-.6 1.1-.6 2v1.7h5.2V9.2l3.4-1v4.3h3.5v2.8H156v6.9c0 .9.2 1.5.5 1.9.3.4.8.6 1.6.6l.7-.2c.3 0 .5-.2.7-.3V27c-.3.2-.6.2-1.1.3l-1.5.2c-1.5 0-2.6-.4-3.3-1.1-.7-.8-1-2-1-3.5v-7.5ZM16.1 0H0v16.1h16.1V0ZM34 0H17.8v16.1H34V0ZM16.1 17.9H0V34h16.1V17.9Zm17.9 0H17.8V34H34V17.9Z\"></path></symbol><symbol xmlns=\"http://www.w3.org/2000/svg\" id=\"netflix\" fill=\"currentColor\" viewBox=\"0 0 126 35\"><path d=\"M83.8 0v25.5l9.1.5v5.4a434 434 0 0 0-14.4-.7V0h5.3ZM126 0l-7 16.6 7 18.4-6-.8-4-10.4-3.9 9.4-5.5-.6 6.7-16.1L107.1 0h5.8l3.4 9.2 3.9-9.2h5.8ZM60.3 30.4V0h14.8v5.5h-9.5v7h7.2V18h-7.2v12.5h-5.3Zm-19.8-25V0h16.4v5.5h-5.5v25l-5.3.2V5.5h-5.6Zm-18.1 27V0H37v5.5h-9.4v7.3h7.1v5.4h-7.1v8.2l9.4-.6v5.4c-5 .3-9.8.6-14.7 1.1ZM12 19.8V0h5.3v32.8l-5.8.7-6.2-18.3v19L0 35V0h5l7 19.8Zm85.3 12V0h5.3v32.2l-5.3-.4Z\"></path></symbol><symbol xmlns=\"http://www.w3.org/2000/svg\" id=\"notion\" fill=\"currentColor\" viewBox=\"0 0 154 54\"><path d=\"M32.8.1 3.2 2.3C.8 2.5 0 4.1 0 6v32.8c0 1.4.5 2.7 1.8 4.4l7 9.1c1 1.5 2.1 1.8 4.3 1.7l34.3-2.1c3-.2 3.8-1.6 3.8-3.9V11.1c0-1.1-.5-1.5-1.9-2.5l-.2-.2-9.5-6.7C37.4 0 36.4-.2 32.8.1Zm-19 10.4c-2.8.2-3.4.3-5-1l-4-3.3c-.4-.4-.2-1 .8-1L34 3a6 6 0 0 1 4.6 1.3L43.5 8c.2.1.7.7 0 .7l-29.3 1.8H14Zm-3.2 37.2V16.4c0-1.4.4-2 1.6-2.1l33.8-2c1.1-.1 1.6.6 1.6 2v31c0 1.4-.2 2.6-2 2.7l-32.3 1.9c-1.9 0-2.7-.5-2.7-2.2ZM42.4 18c.2 1 0 1.9-.9 2l-1.6.3v23a8 8 0 0 1-3.6 1.2c-1.6 0-2-.5-3.3-2L22.8 26.3V42l3.2.7s0 2-2.6 2l-7.1.4c-.2-.5 0-1.5.7-1.7l1.9-.5V22.2l-2.6-.2c-.2-1 .3-2.3 1.8-2.5l7.6-.5 10.6 16.4V20.9l-2.7-.3c-.2-1.2.6-2 1.7-2.1l7.1-.4Zm31.4 20.2V24h.3l10.1 14.3h3.2v-21H84v14.3h-.3L73.5 17.3h-3.3v21h3.6Zm23.7.3c4.7 0 7.5-3.1 7.5-8.3 0-5.1-2.8-8.2-7.5-8.2s-7.6 3.1-7.6 8.2c0 5.2 2.9 8.3 7.6 8.3Zm0-3c-2.5 0-4-2-4-5.3s1.5-5.2 4-5.2c2.4 0 3.9 2 3.9 5.2 0 3.3-1.4 5.3-4 5.3Zm10.8-17.1v4h-2.5v2.9h2.5V34c0 3 1.4 4.3 5 4.3l1.9-.1v-2.9l-1.2.1c-1.5 0-2.2-.7-2.2-2.3v-7.7h3.4v-3h-3.4v-3.9h-3.5Zm9 19.8h3.6v-16h-3.6v16Zm1.8-18.5c1.2 0 2.1-1 2.1-2.2 0-1.2-1-2.2-2.1-2.2-1.2 0-2.1 1-2.1 2.2 0 1.2 1 2.2 2 2.2Zm11.5 18.8c4.7 0 7.5-3.1 7.5-8.3 0-5.1-2.8-8.2-7.5-8.2s-7.6 3.1-7.6 8.2c0 5.2 2.9 8.3 7.6 8.3Zm0-3c-2.5 0-4-2-4-5.3s1.5-5.2 4-5.2 3.9 2 3.9 5.2c0 3.3-1.4 5.3-4 5.3Zm9.7 2.7h3.5V29c0-2.3 1.3-3.8 3.5-3.8 2.1 0 3.1 1.2 3.1 3.6v9.5h3.6V28c0-3.8-2-6-5.4-6-2.4 0-4 1.2-4.7 3h-.2v-2.6h-3.4v15.9Z\"></path></symbol><symbol xmlns=\"http://www.w3.org/2000/svg\" id=\"adobe\" fill=\"currentColor\" viewBox=\"0 0 134 35\"><path d=\"M15.5 0H1v35L15.5 0Zm10.3 0h14.6v35L25.8 0Zm-5.1 12.9L30 35h-6.1L21 28h-6.8l6.4-15.1Zm43.6 9.4 1.7 5h3.7c.1 0 .2 0 .1-.2L63 8.1c0-.2 0-.2-.2-.2h-4.1c-.2 0-.2 0-.2.2 0 1-.2 1.3-.3 1.6l-6.1 17.4c0 .2 0 .3.2.3h3c.2 0 .2 0 .3-.3l1.6-4.8h7.1ZM58.2 19l2.5-8.1 2.7 8.1h-5.2Zm20.5 8.7a14 14 0 0 0 5.6-1.2l.1-.2V6.4l-.2-.1h-3.3l-.1.2v6h-1.3c-5.2 0-8.4 3.4-8.4 7.7 0 5 3.3 7.5 7.6 7.5Zm2-3.3-1.7.2c-2.3 0-4.3-1.3-4.3-4.6 0-2.8 2-4.5 4.7-4.5.5 0 1 0 1.4.2v8.7Zm14.1-11.9c-4.5 0-7.3 3.4-7.3 7.6 0 3.8 2.2 7.6 7.2 7.6 4.2 0 7.1-3.1 7.1-7.7 0-4-2.5-7.5-7-7.5Zm-.2 3c2.5 0 3.6 2.1 3.6 4.6 0 3-1.6 4.6-3.4 4.6-2.3 0-3.6-2-3.6-4.7 0-2.8 1.4-4.5 3.4-4.5Zm10.6-9.2c-.2 0-.3 0-.3.2v20.3s.1.2.3.2c1.4.5 2.9.7 4.4.7 4.4 0 8.7-2.7 8.7-8.2 0-4-2.8-7-7-7-1 0-2 .1-2.7.4V6.5c0-.2-.1-.2-.3-.2h-3.1Zm9.4 13.5c0 3.3-2.2 4.9-4.7 4.9-.5 0-1 0-1.3-.2V16c.4-.2 1-.4 2-.4 2.4 0 4 1.5 4 4.3Zm15.7 1.1 3-.1c.2 0 .3-.1.3-.2l.1-1.9c0-2.8-1.7-6.2-6-6.2-4.5 0-7 3.6-7 7.7 0 3.7 2 7.5 7.3 7.5 2 0 3.3-.3 4.5-.9l.1-.3V24c0-.1 0-.1-.1 0-1.2.4-2.4.6-3.7.6-3 0-4.4-1.6-4.5-3.7h6Zm-6-2.6c.2-1.4 1.2-3 3.2-3 2.3 0 2.9 2 2.9 2.8v.2h-6.1Z\"></path></symbol><symbol xmlns=\"http://www.w3.org/2000/svg\" id=\"amazon\" fill=\"currentColor\" viewBox=\"0 0 113 34\"><path d=\"M70 26.6a43.9 43.9 0 0 1-53.9-3.9c-.6-.6 0-1.3.7-.9a59.6 59.6 0 0 0 52.3 3.3c1-.5 2 .7 1 1.5Z\"></path><path d=\"M72.7 23.5c-.8-1.1-5.5-.5-7.6-.3-.7 0-.8-.5-.2-.9 3.8-2.6 10-1.8 10.6-1 .8 1-.1 7-3.7 10-.5.5-1 .2-.8-.4.8-2 2.6-6.4 1.7-7.4ZM65.2 3.7V1.1c0-.3.3-.6.7-.6h11.5c.3 0 .6.3.6.6v2.2c0 .4-.3.9-.8 1.7l-6 8.4c2.2 0 4.6.3 6.6 1.5.4.2.5.6.6 1v2.7c0 .4-.4.8-.9.6-3.5-1.9-8.2-2-12.1 0-.4.2-.8-.2-.8-.6V16c0-.4 0-1.1.4-1.8l7-9.8h-6a.7.7 0 0 1-.7-.7Zm-41.8 16h-3.5a.7.7 0 0 1-.6-.6v-18c0-.3.3-.5.6-.5h3.3c.3 0 .6.2.6.5v2.4c1-2.3 2.5-3.3 4.7-3.3s3.5 1 4.5 3.3A5 5 0 0 1 37.8.2a5 5 0 0 1 4 2c1.2 1.4 1 3.6 1 5.5v11.4c0 .3-.4.6-.7.6h-3.5a.7.7 0 0 1-.6-.6V9.6l-.1-3.4c-.3-1.2-1-1.5-2-1.5S34 5.2 33.6 6c-.3 1-.3 2.4-.3 3.5V19c0 .3-.3.6-.7.6h-3.5a.7.7 0 0 1-.6-.6V9.6c0-2 .3-5-2.1-5-2.6 0-2.5 2.9-2.5 5V19c0 .3-.3.6-.6.6ZM88 .2c5 0 7.9 4.4 7.9 10 0 5.5-3.1 9.9-8 9.9-5 0-7.9-4.5-7.9-10C80 4.5 83 0 88 0Zm0 3.6c-2.6 0-2.8 3.5-2.8 5.7s0 6.9 2.7 6.9 2.8-3.8 2.8-6c0-1.6 0-3.4-.5-4.8-.4-1.3-1.2-1.8-2.3-1.8Zm14.6 15.9h-3.5a.7.7 0 0 1-.6-.6V1c0-.3.3-.5.7-.5h3.2c.3 0 .6.2.6.5v2.7h.1c1-2.5 2.3-3.6 4.8-3.6 1.5 0 3 .5 4 2s1 4 1 5.7V19c0 .4-.4.6-.7.6h-3.5a.7.7 0 0 1-.6-.6V9.4c0-2 .2-4.8-2.2-4.8-.9 0-1.7.6-2 1.4a8 8 0 0 0-.6 3.4v9.7c0 .3-.3.6-.7.6ZM56 11.1v-.7c-2.4 0-5.1.5-5.1 3.5 0 1.5.8 2.5 2.1 2.5 1 0 1.9-.6 2.4-1.5.7-1.3.7-2.4.7-3.8Zm3.6 8.6c-.2.2-.6.2-.8 0-1.2-1-1.4-1.4-2-2.3-2 2-3.3 2.6-5.8 2.6-3 0-5.2-1.9-5.2-5.5a6 6 0 0 1 3.7-5.7c2-.8 4.6-1 6.6-1.2V7c0-.8 0-1.8-.4-2.5-.5-.6-1.3-.9-2-.9-1.3 0-2.5.7-2.8 2.1 0 .3-.3.6-.6.6L46.9 6c-.3 0-.6-.3-.5-.8.8-4 4.5-5.3 7.8-5.3 1.7 0 4 .5 5.3 1.7 1.7 1.6 1.5 3.7 1.5 6v5.5c0 1.6.7 2.3 1.3 3.2.2.3.3.7 0 1l-2.7 2.3Zm-49.3-8.6v-.7c-2.5 0-5.2.5-5.2 3.5 0 1.5.8 2.5 2.1 2.5 1 0 1.9-.6 2.5-1.5.6-1.3.6-2.4.6-3.8Zm3.5 8.6c-.2.2-.5.2-.8 0-1.2-1-1.4-1.4-2-2.3-2 2-3.3 2.6-5.8 2.6C2.3 20 0 18 0 14.5a6 6 0 0 1 3.7-5.7c2-.8 4.6-1 6.6-1.2V7c0-.8 0-1.8-.4-2.5-.4-.6-1.3-.9-2-.9-1.3 0-2.5.7-2.8 2.1 0 .3-.3.6-.6.6L1.1 6c-.3 0-.6-.3-.5-.8.8-4 4.5-5.3 7.8-5.3 1.7 0 4 .5 5.3 1.7 1.7 1.6 1.5 3.7 1.5 6v5.5c0 1.6.7 2.3 1.3 3.2.3.3.3.7 0 1l-2.7 2.3Z\"></path></symbol><symbol xmlns=\"http://www.w3.org/2000/svg\" id=\"apple\" fill=\"currentColor\" viewBox=\"0 0 106 36\"><path d=\"M24.6 19.1c0-4.5 3.7-6.7 3.9-6.8a8.4 8.4 0 0 0-6.6-3.6c-2.8-.3-5.5 1.7-7 1.7-1.3 0-3.5-1.7-5.9-1.6-3 0-5.8 1.8-7.4 4.5C-1.6 18.8.8 27 3.9 31.4c1.5 2.2 3.3 4.7 5.6 4.6 2.3 0 3.2-1.5 6-1.5 2.7 0 3.5 1.5 5.9 1.5 2.4-.1 4-2.3 5.5-4.5 1.7-2.5 2.4-5 2.5-5.1 0 0-4.8-1.8-4.8-7.3ZM20 5.8A8 8 0 0 0 22 0a8 8 0 0 0-5.3 2.7 7.5 7.5 0 0 0-2 5.6c2.1.2 4.2-1 5.4-2.5m20.3 17.8-2 6.3h-2.7l6.8-20h3.1l6.9 20h-2.8l-2.1-6.3h-7.2Zm6.6-2-2-5.8-1-3.7-1 3.7-2 5.8h6Zm7.5-1.4-.1-4.7h2.3L57 18c1-1.8 2.8-2.8 5.1-2.8 3.5 0 6.1 3 6.1 7.3 0 5.2-3.1 7.8-6.5 7.8a5 5 0 0 1-4.4-2.3H57v7.8h-2.6V20.2Zm2.6 3.9.1 1a4 4 0 0 0 4 3.1c2.7 0 4.3-2.3 4.3-5.6 0-2.9-1.5-5.3-4.3-5.3a4.2 4.2 0 0 0-4 3.2v3.6H57Zm13.8-3.9-.2-4.7h2.4l.1 2.5a5.7 5.7 0 0 1 5.2-2.8c3.5 0 6.1 3 6.1 7.3 0 5.2-3.2 7.8-6.6 7.8a5 5 0 0 1-4.4-2.3v7.8h-2.6V20.2Zm2.6 3.9v1a4 4 0 0 0 4 3.1c2.8 0 4.4-2.3 4.4-5.6 0-2.9-1.5-5.3-4.3-5.3a4.2 4.2 0 0 0-4 3.2l-.1 1v2.6ZM87.2 8.8h2.6v21.1h-2.6V8.8Zm8 14.4c0 3.5 2.2 5 4.8 5 2 0 3-.3 4-.7l.5 1.8c-1 .4-2.5 1-4.8 1-4.4 0-7.1-3-7.1-7.3 0-4.4 2.6-7.8 6.8-7.8 4.7 0 6 4.1 6 6.8l-.2 1.2h-10Zm7.6-1.9c0-1.7-.7-4.2-3.6-4.2-2.7 0-3.9 2.4-4 4.2h7.6Z\"></path></symbol><symbol xmlns=\"http://www.w3.org/2000/svg\" id=\"google\" fill=\"currentColor\" viewBox=\"0 0 103 33\"><path d=\"M13 0h1c3 0 6.2 1.3 8.4 3.5L20 6A9.4 9.4 0 0 0 8.4 5a9.4 9.4 0 0 0-2 13.8c1.7 2 4.2 3.2 6.7 3.3a9 9 0 0 0 6.7-2.3c1.4-1.1 2-3 2.2-4.7h-8.5v-3.4h12c.6 3.7-.3 8-3.2 10.6-2 2-4.6 3-7.3 3.2a13.1 13.1 0 0 1-13.8-8.4A12.4 12.4 0 0 1 6 2.5C7.9 1 10.5.2 13 0Zm68.7.9h3.7V25h-3.7V.9ZM33.6 9.3c2.3-.4 4.7 0 6.6 1.4a8.3 8.3 0 0 1 1.6 11.9 8.4 8.4 0 0 1-7 3 8.4 8.4 0 0 1-6.3-3.3 8.4 8.4 0 0 1-1.2-7.7 8.1 8.1 0 0 1 6.3-5.3Zm.5 3.2c-1 .2-1.8.8-2.4 1.5-1.6 2-1.5 5.2.3 7a4.6 4.6 0 0 0 7.2-1c1.2-2 .9-4.9-.9-6.4a4.7 4.7 0 0 0-4.2-1.1Zm17.7-3.2c2.5-.5 5.4.2 7.3 2 3.2 2.8 3.5 8 .8 11.3a8.4 8.4 0 0 1-6.9 3 8.3 8.3 0 0 1-6.4-3.3 8.5 8.5 0 0 1-1-7.9 8.1 8.1 0 0 1 6.2-5.1Zm.5 3.2c-1 .2-1.8.8-2.4 1.5-1.7 2-1.6 5 .2 7a4.6 4.6 0 0 0 7.3-1c1.1-2 .8-4.9-1-6.4a4.6 4.6 0 0 0-4.1-1.1Z\"></path><path d=\"M67.2 10.3a7 7 0 0 1 6.7-.5c.6.2 1.2.7 1.7 1.2V9.6h3.5v15c0 2.3-.6 4.6-2.3 6.3a8.2 8.2 0 0 1-13-2.7l3.2-1.4a4.7 4.7 0 0 0 3.3 2.9c1.5.2 3.3-.1 4.3-1.4 1-1.3 1-3 1-4.6a6 6 0 0 1-2.8 1.7c-2.4.6-5-.2-6.8-1.8a8.3 8.3 0 0 1 1.2-13.3Zm3.5 2.1A5 5 0 0 0 68 14a5.4 5.4 0 0 0 0 6.8c1 1 2.4 1.7 3.9 1.5 1.3-.1 2.6-1 3.2-2.1 1.2-2 1-4.7-.5-6.4-1-1-2.5-1.6-3.9-1.4Zm19.1-1.3c2-1.9 5.2-2.5 7.8-1.5 2.5 1 4.1 3.3 5 5.7l-11.2 4.6c.5 1 1.3 1.8 2.4 2.2a4.8 4.8 0 0 0 5.8-2l2.8 1.8a8.3 8.3 0 0 1-6 3.6c-2.7.4-5.5-.7-7.3-2.7a8.6 8.6 0 0 1 .7-11.7Zm1.8 3.2c-.6.8-.8 1.8-.8 2.8l7.5-3a3 3 0 0 0-2.5-1.7c-1.6-.3-3.3.5-4.2 1.9Z\"></path></symbol></defs></svg></section><section class=\"relative border-y border-gray-100 pt-16 lg:pt-32\"><svg class=\"absolute inset-0 z-0 h-full w-full stroke-gray-100 [mask-image:radial-gradient(transparent,white)]\"><rect width=\"100%\" height=\"100%\" fill=\"url(#grid-2)\"></rect><defs><pattern id=\"grid-2\" width=\"145\" height=\"145\" x=\"50%\" y=\"-1\" patternUnits=\"userSpaceOnUse\"><path fill=\"none\" d=\"M.5 200V.5H200\"></path></pattern></defs></svg><svg class=\"absolute inset-0 z-10 h-full w-full stroke-gray-200 [mask-image:linear-gradient(90deg,white,transparent_18%,transparent_82%,white)]\"><rect width=\"100%\" height=\"100%\" fill=\"url(#grid-1)\"></rect><defs><pattern id=\"grid-1\" width=\"145\" height=\"145\" x=\"50%\" y=\"-1\" patternUnits=\"userSpaceOnUse\"><path fill=\"none\" d=\"M.5 200V.5H200\"></path></pattern></defs></svg><div class=\"relative z-20 mx-auto max-w-screen-2xl px-6\"><div class=\"flex flex-col items-stretch text-center\"><h4 class=\"mb-12 px-4 text-sm font-bold uppercase leading-relaxed tracking-widest text-gray-500 sm:text-base\">Explore the codedamn way</h4><span class=\"h-24 w-px self-center bg-gradient-to-t from-primary-600 to-white\"></span><span class=\"mb-6 flex h-10 w-10 items-center justify-center self-center rounded-full bg-gradient-to-r from-primary-600 to-purple-500 text-xl font-bold text-white\">1</span><span class=\"mb-4 bg-gradient-to-br from-primary-600 to-purple-600 bg-clip-text text-[28px] font-bold uppercase leading-9 tracking-tight text-transparent\">Learn</span><h2 class=\"bg-gradient-to-b from-black via-gray-700 to-black bg-clip-text pb-6 text-[40px] font-bold leading-[2.75rem] tracking-tighter text-transparent sm:text-6xl\">Instantly and Interactively</h2><span class=\"mx-auto mb-16 w-full max-w-3xl text-xl leading-8 tracking-tight text-gray-600 sm:mb-24\">Learn from carefully curated learning paths with up-to-date interactive courses, and receive 24x7 AI assistance as you develop your coding skills.</span><div class=\"mx-auto w-full\"><div class=\"flex w-full flex-col lg:flex-row\"><div class=\"order-3 w-full flex-auto py-12 lg:order-1\"><div class=\"flex w-full select-none lg:px-14\"><div class=\"relative mx-auto aspect-[16/9] w-full max-w-2xl p-[5%]\"><div class=\"flex h-full w-full overflow-hidden rounded-md bg-white shadow-2xl\"><div class=\"flex flex-[60%] flex-col\"><div class=\"flex border-b bg-white text-[min(1.6vw,10px)] lg:text-[min(0.8vw,11px)]\"><div class=\"flex w-[20%] items-center justify-center gap-[15%] px-[4%] py-[2%]\"><div class=\"aspect-1 w-2.5 rounded-full bg-red-400\"></div><div class=\"aspect-1 w-2.5 rounded-full bg-yellow-400\"></div><div class=\"aspect-1 w-2.5 rounded-full bg-green-400\"></div></div><div class=\"w-fit translate-y-px border-x bg-white px-[4%] py-[2%] text-gray-600\">index.jsx</div></div><div class=\"flex gap-[2.5%] font-mono text-[min(2vw,14px)] tracking-tight lg:text-[min(1vw,14px)]\"><div class=\"flex flex-col\"><span class=\"h-full bg-gray-50 px-1.5 text-gray-400\">05</span><span class=\"h-full bg-gray-50 px-1.5 text-gray-400\">06</span><span class=\"h-full bg-gray-50 px-1.5 text-gray-400\">07</span><span class=\"h-full bg-gray-50 px-1.5 text-gray-400\">08</span><span class=\"h-full bg-gray-50 px-1.5 text-gray-400\">09</span><span class=\"h-full bg-gray-50 px-1.5 text-gray-400\">10</span><span class=\"h-full bg-gray-50 px-1.5 text-gray-400\">11</span><span class=\"h-full bg-gray-50 px-1.5 text-gray-400\">12</span><span class=\"h-full bg-gray-50 px-1.5 text-gray-400\">13</span><span class=\"h-full bg-gray-50 px-1.5 text-gray-400\">14</span><span class=\"h-full bg-gray-50 px-1.5 text-gray-400\">15</span><span class=\"h-full bg-gray-50 px-1.5 text-gray-400\">16</span><span class=\"h-full bg-gray-50 px-1.5 text-gray-400\">17</span></div><code class=\"flex flex-col text-gray-600\" style=\"text-align:left;white-space:pre;word-spacing:normal;word-break:normal;tab-size:4;hyphens:none;overflow-wrap:normal\"><span class=\"text-gray-500\">....</span><span class=\"inline\"><span class=\"font-semibold\">export function </span><span>({ data }) =&gt; {</span></span><span><span>  </span><span class=\"font-semibold\">return </span><span>&lt;</span><span class=\"font-semibold text-purple-700\">Layout</span><span>&gt;</span></span><span class=\"inline-flex\">    <span class=\"text-gray-400\">/* Your code here */</span></span><span><span>  </span><span>&lt;/</span><span class=\"font-semibold text-purple-700\">Layout</span><span>&gt;</span></span><span>}</span><span class=\"text-gray-500\">....</span></code></div></div><div class=\"flex flex-[40%] flex-col border-l border-gray-200 text-[min(2vw,14px)] lg:text-[min(1vw,14px)]\"><div class=\"flex h-[10%] border-b border-gray-200 bg-white text-gray-500\"><svg stroke=\"currentColor\" fill=\"currentColor\" stroke-width=\"0.5\" viewBox=\"0 0 16 16\" class=\"ml-[5%] aspect-1 h-auto w-[7%]\" height=\"1em\" width=\"1em\" xmlns=\"http://www.w3.org/2000/svg\"><path fill-rule=\"evenodd\" d=\"M15 8a.5.5 0 0 0-.5-.5H2.707l3.147-3.146a.5.5 0 1 0-.708-.708l-4 4a.5.5 0 0 0 0 .708l4 4a.5.5 0 0 0 .708-.708L2.707 8.5H14.5A.5.5 0 0 0 15 8z\"></path></svg></div><div class=\"flex flex-1 animate-pulse items-center justify-center bg-gray-100\"><svg stroke=\"currentColor\" fill=\"currentColor\" stroke-width=\"0\" viewBox=\"0 0 16 16\" class=\"aspect-1 h-auto w-[15%] text-gray-400\" height=\"1em\" width=\"1em\" xmlns=\"http://www.w3.org/2000/svg\"><path d=\"M2.5 4a.5.5 0 1 0 0-1 .5.5 0 0 0 0 1zm2-.5a.5.5 0 1 1-1 0 .5.5 0 0 1 1 0zm1 .5a.5.5 0 1 0 0-1 .5.5 0 0 0 0 1z\"></path><path d=\"M2 1a2 2 0 0 0-2 2v10a2 2 0 0 0 2 2h12a2 2 0 0 0 2-2V3a2 2 0 0 0-2-2H2zm13 2v2H1V3a1 1 0 0 1 1-1h12a1 1 0 0 1 1 1zM2 14a1 1 0 0 1-1-1V6h14v7a1 1 0 0 1-1 1H2z\"></path></svg></div></div></div><div class=\"shadow-wxl absolute right-0 top-0 flex aspect-[16/9] w-full max-w-[35%] items-center justify-center overflow-hidden rounded-md bg-black bg-contain shadow-2xl shadow-gray-900/40\" style=\"opacity:0;transform:scale(0.75) translateZ(0)\"><div class=\"relative flex h-full w-full\"><svg stroke=\"currentColor\" fill=\"currentColor\" stroke-width=\"0\" viewBox=\"0 0 16 16\" class=\"absolute left-1/2 top-1/2 z-30 aspect-1 h-[35%] w-[35%] -translate-x-1/2 -translate-y-1/2 text-white\" height=\"1em\" width=\"1em\" xmlns=\"http://www.w3.org/2000/svg\"><path d=\"M16 8A8 8 0 1 1 0 8a8 8 0 0 1 16 0zM6.79 5.093A.5.5 0 0 0 6 5.5v5a.5.5 0 0 0 .79.407l3.5-2.5a.5.5 0 0 0 0-.814l-3.5-2.5z\"></path></svg><img alt=\"JavaScript course image\" loading=\"lazy\" width=\"640\" height=\"360\" decoding=\"async\" data-nimg=\"1\" class=\"absolute inset-0 z-0\" style=\"color:transparent\" srcSet=\"https://wsrv.nl/?url=https%3A%2F%2Fs3.us-east-1.amazonaws.com%2Fcreator-assets.codedamn.com%2Fcodedamn-61897bfe60f1140008feb00d%2FCOURSE_IMAGE%2F2023-02-10%2F95e0d9dc04bf4507aad9fcf0a3d8671829d86971&amp;w=1280&amp;q=70&amp;output=webp 1x, https://wsrv.nl/?url=https%3A%2F%2Fs3.us-east-1.amazonaws.com%2Fcreator-assets.codedamn.com%2Fcodedamn-61897bfe60f1140008feb00d%2FCOURSE_IMAGE%2F2023-02-10%2F95e0d9dc04bf4507aad9fcf0a3d8671829d86971&amp;w=1280&amp;q=70&amp;output=webp 2x\" src=\"https://wsrv.nl/?url=https%3A%2F%2Fs3.us-east-1.amazonaws.com%2Fcreator-assets.codedamn.com%2Fcodedamn-61897bfe60f1140008feb00d%2FCOURSE_IMAGE%2F2023-02-10%2F95e0d9dc04bf4507aad9fcf0a3d8671829d86971&amp;w=1280&amp;q=70&amp;output=webp\"/></div></div><div class=\"absolute bottom-0 left-0 flex max-w-[35%] flex-col rounded bg-gradient-to-br from-gray-800 via-gray-700 to-gray-800 px-[2.5%] py-[1.5%] text-[min(2vw,14px)] font-medium text-gray-100 shadow-2xl lg:text-[min(1vw,14px)]\"><span class=\"mb-[5%]\"><span class=\"text-[min(2.25vw,16px)] font-bold text-white lg:text-[min(1.125vw,16px)]\">0</span>/6 challenges completed</span><ul class=\"mb-[3%] grid grid-cols-6 gap-[5%]\" style=\"opacity:0\"><li class=\"w-full\" style=\"opacity:0;transform:scale(0) translateZ(0)\"><svg stroke=\"currentColor\" fill=\"currentColor\" stroke-width=\"0\" viewBox=\"0 0 16 16\" class=\"h-auto w-full rounded-full text-gray-300\" height=\"1em\" width=\"1em\" xmlns=\"http://www.w3.org/2000/svg\"><path d=\"M8 0c-.176 0-.35.006-.523.017l.064.998a7.117 7.117 0 0 1 .918 0l.064-.998A8.113 8.113 0 0 0 8 0zM6.44.152c-.346.069-.684.16-1.012.27l.321.948c.287-.098.582-.177.884-.237L6.44.153zm4.132.271a7.946 7.946 0 0 0-1.011-.27l-.194.98c.302.06.597.14.884.237l.321-.947zm1.873.925a8 8 0 0 0-.906-.524l-.443.896c.275.136.54.29.793.459l.556-.831zM4.46.824c-.314.155-.616.33-.905.524l.556.83a7.07 7.07 0 0 1 .793-.458L4.46.824zM2.725 1.985c-.262.23-.51.478-.74.74l.752.66c.202-.23.418-.446.648-.648l-.66-.752zm11.29.74a8.058 8.058 0 0 0-.74-.74l-.66.752c.23.202.447.418.648.648l.752-.66zm1.161 1.735a7.98 7.98 0 0 0-.524-.905l-.83.556c.169.253.322.518.458.793l.896-.443zM1.348 3.555c-.194.289-.37.591-.524.906l.896.443c.136-.275.29-.54.459-.793l-.831-.556zM.423 5.428a7.945 7.945 0 0 0-.27 1.011l.98.194c.06-.302.14-.597.237-.884l-.947-.321zM15.848 6.44a7.943 7.943 0 0 0-.27-1.012l-.948.321c.098.287.177.582.237.884l.98-.194zM.017 7.477a8.113 8.113 0 0 0 0 1.046l.998-.064a7.117 7.117 0 0 1 0-.918l-.998-.064zM16 8a8.1 8.1 0 0 0-.017-.523l-.998.064a7.11 7.11 0 0 1 0 .918l.998.064A8.1 8.1 0 0 0 16 8zM.152 9.56c.069.346.16.684.27 1.012l.948-.321a6.944 6.944 0 0 1-.237-.884l-.98.194zm15.425 1.012c.112-.328.202-.666.27-1.011l-.98-.194c-.06.302-.14.597-.237.884l.947.321zM.824 11.54a8 8 0 0 0 .524.905l.83-.556a6.999 6.999 0 0 1-.458-.793l-.896.443zm13.828.905c.194-.289.37-.591.524-.906l-.896-.443c-.136.275-.29.54-.459.793l.831.556zm-12.667.83c.23.262.478.51.74.74l.66-.752a7.047 7.047 0 0 1-.648-.648l-.752.66zm11.29.74c.262-.23.51-.478.74-.74l-.752-.66c-.201.23-.418.447-.648.648l.66.752zm-1.735 1.161c.314-.155.616-.33.905-.524l-.556-.83a7.07 7.07 0 0 1-.793.458l.443.896zm-7.985-.524c.289.194.591.37.906.524l.443-.896a6.998 6.998 0 0 1-.793-.459l-.556.831zm1.873.925c.328.112.666.202 1.011.27l.194-.98a6.953 6.953 0 0 1-.884-.237l-.321.947zm4.132.271a7.944 7.944 0 0 0 1.012-.27l-.321-.948a6.954 6.954 0 0 1-.884.237l.194.98zm-2.083.135a8.1 8.1 0 0 0 1.046 0l-.064-.998a7.11 7.11 0 0 1-.918 0l-.064.998zM4.5 7.5a.5.5 0 0 0 0 1h7a.5.5 0 0 0 0-1h-7z\"></path></svg></li><li class=\"w-full\" style=\"opacity:0;transform:scale(0) translateZ(0)\"><svg stroke=\"currentColor\" fill=\"currentColor\" stroke-width=\"0\" viewBox=\"0 0 16 16\" class=\"h-auto w-full rounded-full text-gray-300\" height=\"1em\" width=\"1em\" xmlns=\"http://www.w3.org/2000/svg\"><path d=\"M8 0c-.176 0-.35.006-.523.017l.064.998a7.117 7.117 0 0 1 .918 0l.064-.998A8.113 8.113 0 0 0 8 0zM6.44.152c-.346.069-.684.16-1.012.27l.321.948c.287-.098.582-.177.884-.237L6.44.153zm4.132.271a7.946 7.946 0 0 0-1.011-.27l-.194.98c.302.06.597.14.884.237l.321-.947zm1.873.925a8 8 0 0 0-.906-.524l-.443.896c.275.136.54.29.793.459l.556-.831zM4.46.824c-.314.155-.616.33-.905.524l.556.83a7.07 7.07 0 0 1 .793-.458L4.46.824zM2.725 1.985c-.262.23-.51.478-.74.74l.752.66c.202-.23.418-.446.648-.648l-.66-.752zm11.29.74a8.058 8.058 0 0 0-.74-.74l-.66.752c.23.202.447.418.648.648l.752-.66zm1.161 1.735a7.98 7.98 0 0 0-.524-.905l-.83.556c.169.253.322.518.458.793l.896-.443zM1.348 3.555c-.194.289-.37.591-.524.906l.896.443c.136-.275.29-.54.459-.793l-.831-.556zM.423 5.428a7.945 7.945 0 0 0-.27 1.011l.98.194c.06-.302.14-.597.237-.884l-.947-.321zM15.848 6.44a7.943 7.943 0 0 0-.27-1.012l-.948.321c.098.287.177.582.237.884l.98-.194zM.017 7.477a8.113 8.113 0 0 0 0 1.046l.998-.064a7.117 7.117 0 0 1 0-.918l-.998-.064zM16 8a8.1 8.1 0 0 0-.017-.523l-.998.064a7.11 7.11 0 0 1 0 .918l.998.064A8.1 8.1 0 0 0 16 8zM.152 9.56c.069.346.16.684.27 1.012l.948-.321a6.944 6.944 0 0 1-.237-.884l-.98.194zm15.425 1.012c.112-.328.202-.666.27-1.011l-.98-.194c-.06.302-.14.597-.237.884l.947.321zM.824 11.54a8 8 0 0 0 .524.905l.83-.556a6.999 6.999 0 0 1-.458-.793l-.896.443zm13.828.905c.194-.289.37-.591.524-.906l-.896-.443c-.136.275-.29.54-.459.793l.831.556zm-12.667.83c.23.262.478.51.74.74l.66-.752a7.047 7.047 0 0 1-.648-.648l-.752.66zm11.29.74c.262-.23.51-.478.74-.74l-.752-.66c-.201.23-.418.447-.648.648l.66.752zm-1.735 1.161c.314-.155.616-.33.905-.524l-.556-.83a7.07 7.07 0 0 1-.793.458l.443.896zm-7.985-.524c.289.194.591.37.906.524l.443-.896a6.998 6.998 0 0 1-.793-.459l-.556.831zm1.873.925c.328.112.666.202 1.011.27l.194-.98a6.953 6.953 0 0 1-.884-.237l-.321.947zm4.132.271a7.944 7.944 0 0 0 1.012-.27l-.321-.948a6.954 6.954 0 0 1-.884.237l.194.98zm-2.083.135a8.1 8.1 0 0 0 1.046 0l-.064-.998a7.11 7.11 0 0 1-.918 0l-.064.998zM4.5 7.5a.5.5 0 0 0 0 1h7a.5.5 0 0 0 0-1h-7z\"></path></svg></li><li class=\"w-full\" style=\"opacity:0;transform:scale(0) translateZ(0)\"><svg stroke=\"currentColor\" fill=\"currentColor\" stroke-width=\"0\" viewBox=\"0 0 16 16\" class=\"h-auto w-full rounded-full text-gray-300\" height=\"1em\" width=\"1em\" xmlns=\"http://www.w3.org/2000/svg\"><path d=\"M8 0c-.176 0-.35.006-.523.017l.064.998a7.117 7.117 0 0 1 .918 0l.064-.998A8.113 8.113 0 0 0 8 0zM6.44.152c-.346.069-.684.16-1.012.27l.321.948c.287-.098.582-.177.884-.237L6.44.153zm4.132.271a7.946 7.946 0 0 0-1.011-.27l-.194.98c.302.06.597.14.884.237l.321-.947zm1.873.925a8 8 0 0 0-.906-.524l-.443.896c.275.136.54.29.793.459l.556-.831zM4.46.824c-.314.155-.616.33-.905.524l.556.83a7.07 7.07 0 0 1 .793-.458L4.46.824zM2.725 1.985c-.262.23-.51.478-.74.74l.752.66c.202-.23.418-.446.648-.648l-.66-.752zm11.29.74a8.058 8.058 0 0 0-.74-.74l-.66.752c.23.202.447.418.648.648l.752-.66zm1.161 1.735a7.98 7.98 0 0 0-.524-.905l-.83.556c.169.253.322.518.458.793l.896-.443zM1.348 3.555c-.194.289-.37.591-.524.906l.896.443c.136-.275.29-.54.459-.793l-.831-.556zM.423 5.428a7.945 7.945 0 0 0-.27 1.011l.98.194c.06-.302.14-.597.237-.884l-.947-.321zM15.848 6.44a7.943 7.943 0 0 0-.27-1.012l-.948.321c.098.287.177.582.237.884l.98-.194zM.017 7.477a8.113 8.113 0 0 0 0 1.046l.998-.064a7.117 7.117 0 0 1 0-.918l-.998-.064zM16 8a8.1 8.1 0 0 0-.017-.523l-.998.064a7.11 7.11 0 0 1 0 .918l.998.064A8.1 8.1 0 0 0 16 8zM.152 9.56c.069.346.16.684.27 1.012l.948-.321a6.944 6.944 0 0 1-.237-.884l-.98.194zm15.425 1.012c.112-.328.202-.666.27-1.011l-.98-.194c-.06.302-.14.597-.237.884l.947.321zM.824 11.54a8 8 0 0 0 .524.905l.83-.556a6.999 6.999 0 0 1-.458-.793l-.896.443zm13.828.905c.194-.289.37-.591.524-.906l-.896-.443c-.136.275-.29.54-.459.793l.831.556zm-12.667.83c.23.262.478.51.74.74l.66-.752a7.047 7.047 0 0 1-.648-.648l-.752.66zm11.29.74c.262-.23.51-.478.74-.74l-.752-.66c-.201.23-.418.447-.648.648l.66.752zm-1.735 1.161c.314-.155.616-.33.905-.524l-.556-.83a7.07 7.07 0 0 1-.793.458l.443.896zm-7.985-.524c.289.194.591.37.906.524l.443-.896a6.998 6.998 0 0 1-.793-.459l-.556.831zm1.873.925c.328.112.666.202 1.011.27l.194-.98a6.953 6.953 0 0 1-.884-.237l-.321.947zm4.132.271a7.944 7.944 0 0 0 1.012-.27l-.321-.948a6.954 6.954 0 0 1-.884.237l.194.98zm-2.083.135a8.1 8.1 0 0 0 1.046 0l-.064-.998a7.11 7.11 0 0 1-.918 0l-.064.998zM4.5 7.5a.5.5 0 0 0 0 1h7a.5.5 0 0 0 0-1h-7z\"></path></svg></li><li class=\"w-full\" style=\"opacity:0;transform:scale(0) translateZ(0)\"><svg stroke=\"currentColor\" fill=\"currentColor\" stroke-width=\"0\" viewBox=\"0 0 16 16\" class=\"h-auto w-full rounded-full text-gray-300\" height=\"1em\" width=\"1em\" xmlns=\"http://www.w3.org/2000/svg\"><path d=\"M8 0c-.176 0-.35.006-.523.017l.064.998a7.117 7.117 0 0 1 .918 0l.064-.998A8.113 8.113 0 0 0 8 0zM6.44.152c-.346.069-.684.16-1.012.27l.321.948c.287-.098.582-.177.884-.237L6.44.153zm4.132.271a7.946 7.946 0 0 0-1.011-.27l-.194.98c.302.06.597.14.884.237l.321-.947zm1.873.925a8 8 0 0 0-.906-.524l-.443.896c.275.136.54.29.793.459l.556-.831zM4.46.824c-.314.155-.616.33-.905.524l.556.83a7.07 7.07 0 0 1 .793-.458L4.46.824zM2.725 1.985c-.262.23-.51.478-.74.74l.752.66c.202-.23.418-.446.648-.648l-.66-.752zm11.29.74a8.058 8.058 0 0 0-.74-.74l-.66.752c.23.202.447.418.648.648l.752-.66zm1.161 1.735a7.98 7.98 0 0 0-.524-.905l-.83.556c.169.253.322.518.458.793l.896-.443zM1.348 3.555c-.194.289-.37.591-.524.906l.896.443c.136-.275.29-.54.459-.793l-.831-.556zM.423 5.428a7.945 7.945 0 0 0-.27 1.011l.98.194c.06-.302.14-.597.237-.884l-.947-.321zM15.848 6.44a7.943 7.943 0 0 0-.27-1.012l-.948.321c.098.287.177.582.237.884l.98-.194zM.017 7.477a8.113 8.113 0 0 0 0 1.046l.998-.064a7.117 7.117 0 0 1 0-.918l-.998-.064zM16 8a8.1 8.1 0 0 0-.017-.523l-.998.064a7.11 7.11 0 0 1 0 .918l.998.064A8.1 8.1 0 0 0 16 8zM.152 9.56c.069.346.16.684.27 1.012l.948-.321a6.944 6.944 0 0 1-.237-.884l-.98.194zm15.425 1.012c.112-.328.202-.666.27-1.011l-.98-.194c-.06.302-.14.597-.237.884l.947.321zM.824 11.54a8 8 0 0 0 .524.905l.83-.556a6.999 6.999 0 0 1-.458-.793l-.896.443zm13.828.905c.194-.289.37-.591.524-.906l-.896-.443c-.136.275-.29.54-.459.793l.831.556zm-12.667.83c.23.262.478.51.74.74l.66-.752a7.047 7.047 0 0 1-.648-.648l-.752.66zm11.29.74c.262-.23.51-.478.74-.74l-.752-.66c-.201.23-.418.447-.648.648l.66.752zm-1.735 1.161c.314-.155.616-.33.905-.524l-.556-.83a7.07 7.07 0 0 1-.793.458l.443.896zm-7.985-.524c.289.194.591.37.906.524l.443-.896a6.998 6.998 0 0 1-.793-.459l-.556.831zm1.873.925c.328.112.666.202 1.011.27l.194-.98a6.953 6.953 0 0 1-.884-.237l-.321.947zm4.132.271a7.944 7.944 0 0 0 1.012-.27l-.321-.948a6.954 6.954 0 0 1-.884.237l.194.98zm-2.083.135a8.1 8.1 0 0 0 1.046 0l-.064-.998a7.11 7.11 0 0 1-.918 0l-.064.998zM4.5 7.5a.5.5 0 0 0 0 1h7a.5.5 0 0 0 0-1h-7z\"></path></svg></li><li class=\"w-full\" style=\"opacity:0;transform:scale(0) translateZ(0)\"><svg stroke=\"currentColor\" fill=\"currentColor\" stroke-width=\"0\" viewBox=\"0 0 16 16\" class=\"h-auto w-full rounded-full text-gray-300\" height=\"1em\" width=\"1em\" xmlns=\"http://www.w3.org/2000/svg\"><path d=\"M8 0c-.176 0-.35.006-.523.017l.064.998a7.117 7.117 0 0 1 .918 0l.064-.998A8.113 8.113 0 0 0 8 0zM6.44.152c-.346.069-.684.16-1.012.27l.321.948c.287-.098.582-.177.884-.237L6.44.153zm4.132.271a7.946 7.946 0 0 0-1.011-.27l-.194.98c.302.06.597.14.884.237l.321-.947zm1.873.925a8 8 0 0 0-.906-.524l-.443.896c.275.136.54.29.793.459l.556-.831zM4.46.824c-.314.155-.616.33-.905.524l.556.83a7.07 7.07 0 0 1 .793-.458L4.46.824zM2.725 1.985c-.262.23-.51.478-.74.74l.752.66c.202-.23.418-.446.648-.648l-.66-.752zm11.29.74a8.058 8.058 0 0 0-.74-.74l-.66.752c.23.202.447.418.648.648l.752-.66zm1.161 1.735a7.98 7.98 0 0 0-.524-.905l-.83.556c.169.253.322.518.458.793l.896-.443zM1.348 3.555c-.194.289-.37.591-.524.906l.896.443c.136-.275.29-.54.459-.793l-.831-.556zM.423 5.428a7.945 7.945 0 0 0-.27 1.011l.98.194c.06-.302.14-.597.237-.884l-.947-.321zM15.848 6.44a7.943 7.943 0 0 0-.27-1.012l-.948.321c.098.287.177.582.237.884l.98-.194zM.017 7.477a8.113 8.113 0 0 0 0 1.046l.998-.064a7.117 7.117 0 0 1 0-.918l-.998-.064zM16 8a8.1 8.1 0 0 0-.017-.523l-.998.064a7.11 7.11 0 0 1 0 .918l.998.064A8.1 8.1 0 0 0 16 8zM.152 9.56c.069.346.16.684.27 1.012l.948-.321a6.944 6.944 0 0 1-.237-.884l-.98.194zm15.425 1.012c.112-.328.202-.666.27-1.011l-.98-.194c-.06.302-.14.597-.237.884l.947.321zM.824 11.54a8 8 0 0 0 .524.905l.83-.556a6.999 6.999 0 0 1-.458-.793l-.896.443zm13.828.905c.194-.289.37-.591.524-.906l-.896-.443c-.136.275-.29.54-.459.793l.831.556zm-12.667.83c.23.262.478.51.74.74l.66-.752a7.047 7.047 0 0 1-.648-.648l-.752.66zm11.29.74c.262-.23.51-.478.74-.74l-.752-.66c-.201.23-.418.447-.648.648l.66.752zm-1.735 1.161c.314-.155.616-.33.905-.524l-.556-.83a7.07 7.07 0 0 1-.793.458l.443.896zm-7.985-.524c.289.194.591.37.906.524l.443-.896a6.998 6.998 0 0 1-.793-.459l-.556.831zm1.873.925c.328.112.666.202 1.011.27l.194-.98a6.953 6.953 0 0 1-.884-.237l-.321.947zm4.132.271a7.944 7.944 0 0 0 1.012-.27l-.321-.948a6.954 6.954 0 0 1-.884.237l.194.98zm-2.083.135a8.1 8.1 0 0 0 1.046 0l-.064-.998a7.11 7.11 0 0 1-.918 0l-.064.998zM4.5 7.5a.5.5 0 0 0 0 1h7a.5.5 0 0 0 0-1h-7z\"></path></svg></li><li class=\"w-full\" style=\"opacity:0;transform:scale(0) translateZ(0)\"><svg stroke=\"currentColor\" fill=\"currentColor\" stroke-width=\"0\" viewBox=\"0 0 16 16\" class=\"h-auto w-full rounded-full text-gray-300\" height=\"1em\" width=\"1em\" xmlns=\"http://www.w3.org/2000/svg\"><path d=\"M8 0c-.176 0-.35.006-.523.017l.064.998a7.117 7.117 0 0 1 .918 0l.064-.998A8.113 8.113 0 0 0 8 0zM6.44.152c-.346.069-.684.16-1.012.27l.321.948c.287-.098.582-.177.884-.237L6.44.153zm4.132.271a7.946 7.946 0 0 0-1.011-.27l-.194.98c.302.06.597.14.884.237l.321-.947zm1.873.925a8 8 0 0 0-.906-.524l-.443.896c.275.136.54.29.793.459l.556-.831zM4.46.824c-.314.155-.616.33-.905.524l.556.83a7.07 7.07 0 0 1 .793-.458L4.46.824zM2.725 1.985c-.262.23-.51.478-.74.74l.752.66c.202-.23.418-.446.648-.648l-.66-.752zm11.29.74a8.058 8.058 0 0 0-.74-.74l-.66.752c.23.202.447.418.648.648l.752-.66zm1.161 1.735a7.98 7.98 0 0 0-.524-.905l-.83.556c.169.253.322.518.458.793l.896-.443zM1.348 3.555c-.194.289-.37.591-.524.906l.896.443c.136-.275.29-.54.459-.793l-.831-.556zM.423 5.428a7.945 7.945 0 0 0-.27 1.011l.98.194c.06-.302.14-.597.237-.884l-.947-.321zM15.848 6.44a7.943 7.943 0 0 0-.27-1.012l-.948.321c.098.287.177.582.237.884l.98-.194zM.017 7.477a8.113 8.113 0 0 0 0 1.046l.998-.064a7.117 7.117 0 0 1 0-.918l-.998-.064zM16 8a8.1 8.1 0 0 0-.017-.523l-.998.064a7.11 7.11 0 0 1 0 .918l.998.064A8.1 8.1 0 0 0 16 8zM.152 9.56c.069.346.16.684.27 1.012l.948-.321a6.944 6.944 0 0 1-.237-.884l-.98.194zm15.425 1.012c.112-.328.202-.666.27-1.011l-.98-.194c-.06.302-.14.597-.237.884l.947.321zM.824 11.54a8 8 0 0 0 .524.905l.83-.556a6.999 6.999 0 0 1-.458-.793l-.896.443zm13.828.905c.194-.289.37-.591.524-.906l-.896-.443c-.136.275-.29.54-.459.793l.831.556zm-12.667.83c.23.262.478.51.74.74l.66-.752a7.047 7.047 0 0 1-.648-.648l-.752.66zm11.29.74c.262-.23.51-.478.74-.74l-.752-.66c-.201.23-.418.447-.648.648l.66.752zm-1.735 1.161c.314-.155.616-.33.905-.524l-.556-.83a7.07 7.07 0 0 1-.793.458l.443.896zm-7.985-.524c.289.194.591.37.906.524l.443-.896a6.998 6.998 0 0 1-.793-.459l-.556.831zm1.873.925c.328.112.666.202 1.011.27l.194-.98a6.953 6.953 0 0 1-.884-.237l-.321.947zm4.132.271a7.944 7.944 0 0 0 1.012-.27l-.321-.948a6.954 6.954 0 0 1-.884.237l.194.98zm-2.083.135a8.1 8.1 0 0 0 1.046 0l-.064-.998a7.11 7.11 0 0 1-.918 0l-.064.998zM4.5 7.5a.5.5 0 0 0 0 1h7a.5.5 0 0 0 0-1h-7z\"></path></svg></li></ul></div></div></div></div><div class=\"order-1 flex flex-col items-center lg:order-2\"><span class=\"h-24 w-px self-center bg-gradient-to-t from-gray-600 to-white lg:h-auto lg:flex-[1_1_25%]\"></span><span class=\"my-1 h-3 w-3 rounded-full border border-gray-600\"></span><span class=\"hidden w-px flex-[1_1_75%] self-center border-r border-dashed border-gray-600 lg:block\"></span></div><div class=\"order-2 mt-4 flex w-full flex-auto lg:order-3 lg:-mt-4 lg:translate-y-1/4\"><div class=\"mx-auto w-full max-w-xl lg:mx-0 lg:pl-14 lg:pr-8 lg:text-left\"><dt class=\"flex flex-col items-center gap-4 lg:items-start\"><svg xmlns=\"http://www.w3.org/2000/svg\" class=\"h-8 w-8 text-primary-600 [&amp;_rect]:fill-[currentColor]\" fill=\"none\" viewBox=\"0 0 186 186\"><path fill=\"url(#LearnSvgGradient)\" d=\"M17.438 0A17.437 17.437 0 000 17.438v81.374a17.438 17.438 0 0017.438 17.438H69.75v11.625H11.625A11.626 11.626 0 000 139.5v34.875A11.625 11.625 0 0011.625 186h162.75A11.625 11.625 0 00186 174.375V139.5a11.625 11.625 0 00-11.625-11.625H116.25V116.25h52.312A17.439 17.439 0 00186 98.812V17.439A17.438 17.438 0 00168.562 0H17.437zm0 11.625h151.124a5.814 5.814 0 015.813 5.813v81.374a5.813 5.813 0 01-5.813 5.813H17.437a5.812 5.812 0 01-5.812-5.813V17.439a5.813 5.813 0 015.813-5.813zM139.5 145.312a5.813 5.813 0 1111.626 0 5.813 5.813 0 01-11.626 0zm23.25 0a5.813 5.813 0 1111.626 0 5.813 5.813 0 01-11.626 0zM17.437 139.5h58.126a5.812 5.812 0 110 11.625H17.437a5.812 5.812 0 110-11.625zm-5.812 26.156a2.906 2.906 0 012.906-2.906H78.47a2.906 2.906 0 110 5.812H14.53a2.906 2.906 0 01-2.906-2.906z\"></path><rect width=\"114\" height=\"9\" x=\"27\" y=\"37\" rx=\"4.5\"></rect><rect width=\"69\" height=\"9\" x=\"27\" y=\"54\" rx=\"4.5\"></rect><rect width=\"114\" height=\"9\" x=\"27\" y=\"71\" rx=\"4.5\"></rect></svg><h3 class=\"mb-2 to-secondary-400 text-2xl font-semibold tracking-tight sm:text-[26px]\">Hands-on practice</h3></dt><dd class=\"leading-relaxed text-gray-600\">At codedamn, you get to learn by doing. Escape tutorial hell by solving real-world challenges in our interactive labs, all within your browser.</dd></div></div></div><div class=\"flex w-full translate-y-px flex-col lg:flex-row\"><div class=\"order-3 w-full flex-auto py-12 lg:order-1\"><div class=\"flex w-full flex-1 text-left lg:px-14\"><div class=\"relative mx-auto aspect-[16/9] w-full max-w-2xl p-[5%]\"><div class=\"flex h-full w-full overflow-hidden rounded-md bg-white shadow-2xl\"><div class=\"flex flex-[60%] flex-col\"><div class=\"flex border-b bg-white text-[min(1.6vw,10px)] lg:text-[min(0.8vw,11px)]\"><div class=\"flex w-[20%] items-center justify-center gap-[15%] px-[4%] py-[2%]\"><div class=\"aspect-1 w-2.5 rounded-full bg-destructive-400\"></div><div class=\"aspect-1 w-2.5 rounded-full bg-warning-400\"></div><div class=\"aspect-1 w-2.5 rounded-full bg-success-400\"></div></div><div class=\"w-fit translate-y-px border-x bg-white px-[4%] py-[2%] text-gray-600\">main.py</div></div><div class=\"flex gap-[2.5%] font-mono text-[min(2vw,14px)] tracking-tight lg:text-[min(1vw,14px)]\"><div class=\"flex flex-col\"><span class=\"h-full bg-gray-50 px-1.5 text-gray-400\">01</span><span class=\"h-full bg-gray-50 px-1.5 text-gray-400\">02</span><span class=\"h-full bg-gray-50 px-1.5 text-gray-400\">03</span><span class=\"h-full bg-gray-50 px-1.5 text-gray-400\">04</span><span class=\"h-full bg-gray-50 px-1.5 text-gray-400\">05</span><span class=\"h-full bg-gray-50 px-1.5 text-gray-400\">06</span><span class=\"h-full bg-gray-50 px-1.5 text-gray-400\">07</span><span class=\"h-full bg-gray-50 px-1.5 text-gray-400\">08</span><span class=\"h-full bg-gray-50 px-1.5 text-gray-400\">09</span><span class=\"h-full bg-gray-50 px-1.5 text-gray-400\">10</span><span class=\"h-full bg-gray-50 px-1.5 text-gray-400\">11</span><span class=\"h-full bg-gray-50 px-1.5 text-gray-400\">12</span><span class=\"h-full bg-gray-50 px-1.5 text-gray-400\">13</span></div><code class=\"flex flex-col text-gray-600\" style=\"text-align:left;white-space:pre;word-spacing:normal;word-break:normal;tab-size:4;hyphens:none;overflow-wrap:normal\"><span class=\"text-gray-400\"># Concatenate the parameters</span><span><span class=\"font-semibold\">def</span><span class=\"font-semibold text-purple-700\"> concat</span><span>(p1,p2)</span><span>:</span></span><span>  <span class=\"text-gray-400\">/* Your code here */</span></span><br/><span><span class=\"font-semibold\">param_1</span><span> = </span><span class=\"font-semibold text-purple-700\">13</span></span><span><span class=\"font-semibold\">param_2</span><span> = </span><span class=\"font-semibold text-purple-700\">37</span></span><span><span class=\"font-semibold text-purple-700\">print</span><span>(</span><span class=\"font-semibold text-purple-700\">concat</span><span>(param_1,param_2))</span></span></code></div></div><div class=\"flex flex-[40%] flex-col border-l border-gray-200 text-[min(1.75vw,12px)] lg:text-[min(0.85vw,12px)]\"><div class=\"flex h-[10%] border-b border-gray-200 bg-white text-gray-500\"><svg stroke=\"currentColor\" fill=\"currentColor\" stroke-width=\"0.5\" viewBox=\"0 0 16 16\" class=\"ml-[5%] aspect-1 h-auto w-[7%]\" height=\"1em\" width=\"1em\" xmlns=\"http://www.w3.org/2000/svg\"><path fill-rule=\"evenodd\" d=\"M15 8a.5.5 0 0 0-.5-.5H2.707l3.147-3.146a.5.5 0 1 0-.708-.708l-4 4a.5.5 0 0 0 0 .708l4 4a.5.5 0 0 0 .708-.708L2.707 8.5H14.5A.5.5 0 0 0 15 8z\"></path></svg></div><div class=\"flex flex-1 animate-pulse items-center justify-center bg-gray-100\"><svg stroke=\"currentColor\" fill=\"currentColor\" stroke-width=\"0\" viewBox=\"0 0 16 16\" class=\"aspect-1 h-auto w-[15%] text-gray-400\" height=\"1em\" width=\"1em\" xmlns=\"http://www.w3.org/2000/svg\"><path d=\"M2.5 4a.5.5 0 1 0 0-1 .5.5 0 0 0 0 1zm2-.5a.5.5 0 1 1-1 0 .5.5 0 0 1 1 0zm1 .5a.5.5 0 1 0 0-1 .5.5 0 0 0 0 1z\"></path><path d=\"M2 1a2 2 0 0 0-2 2v10a2 2 0 0 0 2 2h12a2 2 0 0 0 2-2V3a2 2 0 0 0-2-2H2zm13 2v2H1V3a1 1 0 0 1 1-1h12a1 1 0 0 1 1 1zM2 14a1 1 0 0 1-1-1V6h14v7a1 1 0 0 1-1 1H2z\"></path></svg></div></div></div><div class=\"absolute right-0 top-0 flex w-full max-w-[42%] flex-col items-center justify-between rounded bg-gradient-to-br from-gray-800 via-gray-700 to-gray-800 px-[2.5%] py-[1.5%] text-[min(2vw,13px)] text-white shadow-2xl lg:text-[min(1vw,13px)]\" style=\"opacity:0;transform:scale(0.75) translateZ(0)\"><span class=\"flex w-full\"><span>This seems like an easy challenge.</span></span><div class=\"mt-[4%] flex w-full items-center justify-between\"><div class=\"flex items-center gap-[10%]\"><img alt=\"Profile photo of the user\" loading=\"lazy\" width=\"32\" height=\"32\" decoding=\"async\" data-nimg=\"1\" class=\"aspect-1 h-auto w-[20%] rounded-full ring-offset-black md:w-[25%]\" style=\"color:transparent\" srcSet=\"https://wsrv.nl/?url=https%3A%2F%2Fcodedamn.com%2Fassets%2Flanding-page-assets%2Fprofiles%2Fthumb-3.png&amp;w=64&amp;q=70&amp;output=webp 1x, https://wsrv.nl/?url=https%3A%2F%2Fcodedamn.com%2Fassets%2Flanding-page-assets%2Fprofiles%2Fthumb-3.png&amp;w=64&amp;q=70&amp;output=webp 2x\" src=\"https://wsrv.nl/?url=https%3A%2F%2Fcodedamn.com%2Fassets%2Flanding-page-assets%2Fprofiles%2Fthumb-3.png&amp;w=64&amp;q=70&amp;output=webp\"/><span>Sarah</span></div><span class=\" font-mono text-[min(1.85vw,11px)] lg:text-[min(0.85vw,11px)]\">10:20 PM</span></div></div><div class=\"absolute bottom-0 left-0 flex w-full max-w-[42%] flex-col items-stretch justify-between rounded border border-gray-400/20 bg-gradient-to-br from-gray-100/95 via-white/90 to-gray-100/95 bg-clip-padding px-[2.5%] py-[1.5%] text-[min(2vw,13px)] shadow-2xl lg:text-[min(1vw,13px)]\"><span class=\"flex\"><span>I&#x27;m Jarvis, your 24x7 AI assistant here to help.</span></span><div class=\"mt-[4%] flex w-full items-center justify-between\"><div class=\"flex items-center gap-[10%]\"><img alt=\"Profile photo of the user\" loading=\"lazy\" width=\"32\" height=\"32\" decoding=\"async\" data-nimg=\"1\" class=\"aspect-1 h-auto w-[20%] rounded-full ring-offset-black md:w-[25%]\" style=\"color:transparent\" srcSet=\"https://wsrv.nl/?url=https%3A%2F%2Fcodedamn.com%2Fassets%2Flanding-page-assets%2Fprofiles%2Fjarvis.png&amp;w=64&amp;q=70&amp;output=webp 1x, https://wsrv.nl/?url=https%3A%2F%2Fcodedamn.com%2Fassets%2Flanding-page-assets%2Fprofiles%2Fjarvis.png&amp;w=64&amp;q=70&amp;output=webp 2x\" src=\"https://wsrv.nl/?url=https%3A%2F%2Fcodedamn.com%2Fassets%2Flanding-page-assets%2Fprofiles%2Fjarvis.png&amp;w=64&amp;q=70&amp;output=webp\"/><span>Jarvis</span></div><span class=\" font-mono text-[min(1.85vw,11px)] lg:text-[min(0.85vw,11px)]\">10:20 PM</span></div></div></div></div></div><div class=\"order-1 flex flex-col items-center lg:order-2\"><span class=\"h-24 w-px self-center bg-gradient-to-t from-gray-500 to-white lg:h-auto lg:flex-[1_1_25%] lg:border-r lg:border-dashed lg:border-gray-500 lg:bg-transparent\"></span><span class=\"my-1 h-3 w-3 rounded-full border border-gray-500\"></span><span class=\"hidden w-px flex-[1_1_75%] self-center bg-gradient-to-b from-gray-500 to-secondary-400 lg:block\"></span></div><div class=\"order-2 mt-4 flex w-full flex-auto lg:order-3 lg:-mt-4 lg:translate-y-1/4\"><div class=\"mx-auto w-full max-w-xl lg:mx-0 lg:pl-14 lg:pr-8 lg:text-left\"><dt class=\"flex flex-col items-center gap-4 lg:items-start\"><svg stroke=\"currentColor\" fill=\"url(#LearnSvgGradient)\" stroke-width=\"0\" viewBox=\"0 0 16 16\" class=\"h-8 w-8\" height=\"1em\" width=\"1em\" xmlns=\"http://www.w3.org/2000/svg\"><path d=\"M6 12.5a.5.5 0 0 1 .5-.5h3a.5.5 0 0 1 0 1h-3a.5.5 0 0 1-.5-.5ZM3 8.062C3 6.76 4.235 5.765 5.53 5.886a26.58 26.58 0 0 0 4.94 0C11.765 5.765 13 6.76 13 8.062v1.157a.933.933 0 0 1-.765.935c-.845.147-2.34.346-4.235.346-1.895 0-3.39-.2-4.235-.346A.933.933 0 0 1 3 9.219V8.062Zm4.542-.827a.25.25 0 0 0-.217.068l-.92.9a24.767 24.767 0 0 1-1.871-.183.25.25 0 0 0-.068.495c.55.076 1.232.149 2.02.193a.25.25 0 0 0 .189-.071l.754-.736.847 1.71a.25.25 0 0 0 .404.062l.932-.97a25.286 25.286 0 0 0 1.922-.188.25.25 0 0 0-.068-.495c-.538.074-1.207.145-1.98.189a.25.25 0 0 0-.166.076l-.754.785-.842-1.7a.25.25 0 0 0-.182-.135Z\"></path><path d=\"M8.5 1.866a1 1 0 1 0-1 0V3h-2A4.5 4.5 0 0 0 1 7.5V8a1 1 0 0 0-1 1v2a1 1 0 0 0 1 1v1a2 2 0 0 0 2 2h10a2 2 0 0 0 2-2v-1a1 1 0 0 0 1-1V9a1 1 0 0 0-1-1v-.5A4.5 4.5 0 0 0 10.5 3h-2V1.866ZM14 7.5V13a1 1 0 0 1-1 1H3a1 1 0 0 1-1-1V7.5A3.5 3.5 0 0 1 5.5 4h5A3.5 3.5 0 0 1 14 7.5Z\"></path></svg><h3 class=\"mb-2 text-2xl font-semibold tracking-tight sm:text-[26px]\">Instant help from Jarvis</h3></dt><dd class=\"leading-relaxed text-gray-600\">Meet Jarvis, your personal state-of-the-art AI assistant who is available 24x7 to clarify your doubts, solve problems and help you whenever you get stuck.</dd></div></div></div></div><span class=\"h-24 w-px self-center bg-gradient-to-t  from-secondary-400 to-cyan-50 lg:from-secondary-400 lg:to-cyan-400\"></span><span class=\"mb-6 flex h-10 w-10 items-center justify-center self-center rounded-full bg-gradient-to-r from-secondary-500 to-cyan-400 text-xl font-bold text-white\">2</span><span class=\"mb-4 bg-gradient-to-br from-secondary-600 to-cyan-400 bg-clip-text text-[28px] font-bold uppercase leading-9 tracking-tight text-transparent\">Apply</span><h2 class=\"bg-gradient-to-b from-black via-gray-700 to-black bg-clip-text pb-6 text-[40px] font-bold leading-[2.75rem] tracking-tighter text-transparent sm:text-6xl\">Powerful IDE with AI Tooling</h2><span class=\"mx-auto mb-16 w-full max-w-3xl text-xl leading-8 tracking-tight text-gray-600 sm:mb-24\">Become a better programmer by building tons of real-world projects and keep improving with detailed feedback on your code - generated by state-of-the-art AI.</span><div class=\"mx-auto mb-24 grid w-full lg:grid-cols-2\"><div class=\"mb-12 lg:mb-0\"><div class=\"flex h-full -translate-x-[1%] justify-center text-left lg:items-center lg:pl-14 lg:pr-[62px]\"><div class=\"relative mx-auto flex w-full max-w-xl flex-col\" style=\"transform:scale(0.95) translateZ(0)\"><div class=\"relative flex aspect-2 w-full max-w-[90%] flex-1 overflow-hidden rounded-sm border border-gray-400/20 shadow-xl\"><div class=\"flex h-full w-full flex-[6%] items-center justify-center rounded-l-sm bg-gradient-to-b from-gray-800 via-gray-700 to-gray-800 text-white\"><div class=\"flex h-[90%] w-[50%] flex-col gap-[6%]\"><svg stroke=\"currentColor\" fill=\"currentColor\" stroke-width=\"0\" viewBox=\"0 0 16 16\" class=\"h-auto w-full\" height=\"1em\" width=\"1em\" xmlns=\"http://www.w3.org/2000/svg\"><path d=\"M9.293 0H4a2 2 0 0 0-2 2v12a2 2 0 0 0 2 2h8a2 2 0 0 0 2-2V4.707A1 1 0 0 0 13.707 4L10 .293A1 1 0 0 0 9.293 0zM9.5 3.5v-2l3 3h-2a1 1 0 0 1-1-1zM6.646 7.646a.5.5 0 1 1 .708.708L5.707 10l1.647 1.646a.5.5 0 0 1-.708.708l-2-2a.5.5 0 0 1 0-.708l2-2zm2.708 0 2 2a.5.5 0 0 1 0 .708l-2 2a.5.5 0 0 1-.708-.708L10.293 10 8.646 8.354a.5.5 0 1 1 .708-.708z\"></path></svg><svg stroke=\"currentColor\" fill=\"currentColor\" stroke-width=\"0\" viewBox=\"0 0 16 16\" class=\"h-auto w-full\" height=\"1em\" width=\"1em\" xmlns=\"http://www.w3.org/2000/svg\"><path d=\"M11.742 10.344a6.5 6.5 0 1 0-1.397 1.398h-.001c.03.04.062.078.098.115l3.85 3.85a1 1 0 0 0 1.415-1.414l-3.85-3.85a1.007 1.007 0 0 0-.115-.1zM12 6.5a5.5 5.5 0 1 1-11 0 5.5 5.5 0 0 1 11 0z\"></path></svg><svg stroke=\"currentColor\" fill=\"currentColor\" stroke-width=\"0\" viewBox=\"0 0 16 16\" class=\"h-auto w-full\" height=\"1em\" width=\"1em\" xmlns=\"http://www.w3.org/2000/svg\"><path d=\"M2 1a1 1 0 0 0-1 1v8a1 1 0 0 0 1 1h9.586a2 2 0 0 1 1.414.586l2 2V2a1 1 0 0 0-1-1H2zm12-1a2 2 0 0 1 2 2v12.793a.5.5 0 0 1-.854.353l-2.853-2.853a1 1 0 0 0-.707-.293H2a2 2 0 0 1-2-2V2a2 2 0 0 1 2-2h12z\"></path><path d=\"M3 3.5a.5.5 0 0 1 .5-.5h9a.5.5 0 0 1 0 1h-9a.5.5 0 0 1-.5-.5zM3 6a.5.5 0 0 1 .5-.5h9a.5.5 0 0 1 0 1h-9A.5.5 0 0 1 3 6zm0 2.5a.5.5 0 0 1 .5-.5h5a.5.5 0 0 1 0 1h-5a.5.5 0 0 1-.5-.5z\"></path></svg><div class=\"flex-1\"></div><svg stroke=\"currentColor\" fill=\"currentColor\" stroke-width=\"0\" viewBox=\"0 0 16 16\" class=\"h-auto w-full\" height=\"1em\" width=\"1em\" xmlns=\"http://www.w3.org/2000/svg\"><path d=\"M8 4.754a3.246 3.246 0 1 0 0 6.492 3.246 3.246 0 0 0 0-6.492zM5.754 8a2.246 2.246 0 1 1 4.492 0 2.246 2.246 0 0 1-4.492 0z\"></path><path d=\"M9.796 1.343c-.527-1.79-3.065-1.79-3.592 0l-.094.319a.873.873 0 0 1-1.255.52l-.292-.16c-1.64-.892-3.433.902-2.54 2.541l.159.292a.873.873 0 0 1-.52 1.255l-.319.094c-1.79.527-1.79 3.065 0 3.592l.319.094a.873.873 0 0 1 .52 1.255l-.16.292c-.892 1.64.901 3.434 2.541 2.54l.292-.159a.873.873 0 0 1 1.255.52l.094.319c.527 1.79 3.065 1.79 3.592 0l.094-.319a.873.873 0 0 1 1.255-.52l.292.16c1.64.893 3.434-.902 2.54-2.541l-.159-.292a.873.873 0 0 1 .52-1.255l.319-.094c1.79-.527 1.79-3.065 0-3.592l-.319-.094a.873.873 0 0 1-.52-1.255l.16-.292c.893-1.64-.902-3.433-2.541-2.54l-.292.159a.873.873 0 0 1-1.255-.52l-.094-.319zm-2.633.283c.246-.835 1.428-.835 1.674 0l.094.319a1.873 1.873 0 0 0 2.693 1.115l.291-.16c.764-.415 1.6.42 1.184 1.185l-.159.292a1.873 1.873 0 0 0 1.116 2.692l.318.094c.835.246.835 1.428 0 1.674l-.319.094a1.873 1.873 0 0 0-1.115 2.693l.16.291c.415.764-.42 1.6-1.185 1.184l-.291-.159a1.873 1.873 0 0 0-2.693 1.116l-.094.318c-.246.835-1.428.835-1.674 0l-.094-.319a1.873 1.873 0 0 0-2.692-1.115l-.292.16c-.764.415-1.6-.42-1.184-1.185l.159-.291A1.873 1.873 0 0 0 1.945 8.93l-.319-.094c-.835-.246-.835-1.428 0-1.674l.319-.094A1.873 1.873 0 0 0 3.06 4.377l-.16-.292c-.415-.764.42-1.6 1.185-1.184l.292.159a1.873 1.873 0 0 0 2.692-1.115l.094-.319z\"></path></svg></div></div><div class=\"flex flex-[94%] overflow-hidden\"><div class=\"flex flex-[60%] flex-col\"><div class=\"flex border-b border-gray-100 bg-white text-[min(1.6vw,10px)] lg:text-[min(0.6vw,10px)]\"><div class=\"w-fit border border-transparent border-t-black px-[2%] py-[0.5%]\">Tesla.jsx</div><div class=\"w-fit border border-transparent border-x-gray-200 bg-gray-100 px-[2%] py-[0.5%]\">globals.css</div></div><div class=\"flex gap-1 bg-white py-[1%] font-mono text-[min(2vw,13px)] lg:text-[min(1vw,13px)]\"><div class=\"flex flex-col\"><span class=\"h-full bg-gray-50 px-[5px] text-gray-500\">01</span><span class=\"h-full bg-gray-50 px-[5px] text-gray-500\">02</span><span class=\"h-full bg-gray-50 px-[5px] text-gray-500\">03</span><span class=\"h-full bg-gray-50 px-[5px] text-gray-500\">04</span><span class=\"h-full bg-gray-50 px-[5px] text-gray-500\">05</span><span class=\"h-full bg-gray-50 px-[5px] text-gray-500\">06</span><span class=\"h-full bg-gray-50 px-[5px] text-gray-500\">07</span><span class=\"h-full bg-gray-50 px-[5px] text-gray-500\">08</span><span class=\"h-full bg-gray-50 px-[5px] text-gray-500\">09</span><span class=\"h-full bg-gray-50 px-[5px] text-gray-500\">10</span><span class=\"h-full bg-gray-50 px-[5px] text-gray-500\">11</span><span class=\"h-full bg-gray-50 px-[5px] text-gray-500\">12</span><span class=\"h-full bg-gray-50 px-[5px] text-gray-500\">13</span><span class=\"h-full bg-gray-50 px-[5px] text-gray-500\">14</span></div><code class=\"flex flex-col font-mono text-gray-600\" style=\"text-align:left;white-space:pre;word-spacing:normal;word-break:normal;tab-size:4;hyphens:none;overflow-wrap:normal\"><span><span class=\"text-gray-400\">// Tesla clone project</span></span><span class=\"text-gray-500\">....</span><span><span>&lt;</span><span class=\"font-semibold text-secondary-500\">Layout</span><span>&gt;</span></span><span><span> &lt;</span><span class=\"font-semibold text-secondary-500\">Container</span><span>&gt;</span></span><span class=\"inline-flex\">  <span class=\"text-gray-400\">/* Your code here */</span></span><span><span> &lt;/</span><span class=\"font-semibold text-secondary-500\">Container</span><span>&gt;</span></span><span><span>&lt;/</span><span class=\"font-semibold text-secondary-500\">Layout</span><span>&gt;</span></span><span class=\"text-gray-500\">....</span></code></div></div><div class=\"flex flex-[40%] flex-col border-l border-gray-100\"><div class=\"flex items-center justify-between border-b border-gray-100 bg-white\"><svg stroke=\"currentColor\" fill=\"currentColor\" stroke-width=\"0\" viewBox=\"0 0 16 16\" class=\"aspect-1 h-auto w-[10.5%] p-[2%]\" height=\"1em\" width=\"1em\" xmlns=\"http://www.w3.org/2000/svg\"><path fill-rule=\"evenodd\" d=\"M15 8a.5.5 0 0 0-.5-.5H2.707l3.147-3.146a.5.5 0 1 0-.708-.708l-4 4a.5.5 0 0 0 0 .708l4 4a.5.5 0 0 0 .708-.708L2.707 8.5H14.5A.5.5 0 0 0 15 8z\"></path></svg><span class=\"h-[50%] w-[75%] rounded-sm bg-gray-200\"></span><svg stroke=\"currentColor\" fill=\"currentColor\" stroke-width=\"0\" viewBox=\"0 0 16 16\" class=\"aspect-1 h-auto w-[10%] p-[2%]\" height=\"1em\" width=\"1em\" xmlns=\"http://www.w3.org/2000/svg\"><path d=\"M11.534 7h3.932a.25.25 0 0 1 .192.41l-1.966 2.36a.25.25 0 0 1-.384 0l-1.966-2.36a.25.25 0 0 1 .192-.41zm-11 2h3.932a.25.25 0 0 0 .192-.41L2.692 6.23a.25.25 0 0 0-.384 0L.342 8.59A.25.25 0 0 0 .534 9z\"></path><path fill-rule=\"evenodd\" d=\"M8 3c-1.552 0-2.94.707-3.857 1.818a.5.5 0 1 1-.771-.636A6.002 6.002 0 0 1 13.917 7H12.9A5.002 5.002 0 0 0 8 3zM3.1 9a5.002 5.002 0 0 0 8.757 2.182.5.5 0 1 1 .771.636A6.002 6.002 0 0 1 2.083 9H3.1z\"></path></svg></div><div class=\"flex flex-1 animate-pulse items-center justify-center bg-gray-100\"><svg stroke=\"currentColor\" fill=\"currentColor\" stroke-width=\"0\" viewBox=\"0 0 16 16\" class=\"aspect-1 h-auto w-[15%] text-gray-500\" height=\"1em\" width=\"1em\" xmlns=\"http://www.w3.org/2000/svg\"><path d=\"M2.5 4a.5.5 0 1 0 0-1 .5.5 0 0 0 0 1zm2-.5a.5.5 0 1 1-1 0 .5.5 0 0 1 1 0zm1 .5a.5.5 0 1 0 0-1 .5.5 0 0 0 0 1z\"></path><path d=\"M2 1a2 2 0 0 0-2 2v10a2 2 0 0 0 2 2h12a2 2 0 0 0 2-2V3a2 2 0 0 0-2-2H2zm13 2v2H1V3a1 1 0 0 1 1-1h12a1 1 0 0 1 1 1zM2 14a1 1 0 0 1-1-1V6h14v7a1 1 0 0 1-1 1H2z\"></path></svg></div></div></div></div><div class=\"relative left-[10%] -mt-[10%] mb-[10%] flex aspect-2 w-full max-w-[90%] flex-1 overflow-hidden rounded-sm border border-gray-400/30 bg-white shadow-xl \"><img alt=\"Silicon chip background in B/W\" loading=\"lazy\" width=\"519\" height=\"212\" decoding=\"async\" data-nimg=\"1\" class=\"absolute inset-0 z-0\" style=\"color:transparent\" srcSet=\"https://wsrv.nl/?url=https%3A%2F%2Fcodedamn.com%2Fassets%2Flanding-page-assets%2Fchip-bg.png&amp;w=1038&amp;q=70&amp;output=webp 1x, https://wsrv.nl/?url=https%3A%2F%2Fcodedamn.com%2Fassets%2Flanding-page-assets%2Fchip-bg.png&amp;w=1038&amp;q=70&amp;output=webp 2x\" src=\"https://wsrv.nl/?url=https%3A%2F%2Fcodedamn.com%2Fassets%2Flanding-page-assets%2Fchip-bg.png&amp;w=1038&amp;q=70&amp;output=webp\"/><div class=\"absolute inset-0 z-20 flex h-full w-full flex-col items-center justify-center rounded-md px-[4%] py-[3%] text-center\"><span class=\"text-[min(5vw,36px)] font-bold\">CodeReport™</span><span class=\"text-[min(2vw,12px)] font-semibold uppercase tracking-wider text-gray-600\">AI powered feedback for your code</span></div></div></div></div></div><div class=\"flex flex-col gap-16 px-1.5\"><div class=\"mx-auto w-full max-w-xl lg:mx-0 lg:pl-14 lg:pr-8 lg:text-left\"><dt class=\"flex flex-col items-center gap-4 lg:items-start\"><svg stroke=\"currentColor\" fill=\"url(#ApplySvgGradient)\" stroke-width=\"0\" viewBox=\"0 0 16 16\" class=\"h-8 w-8\" height=\"1em\" width=\"1em\" xmlns=\"http://www.w3.org/2000/svg\"><path d=\"M4.5 6a.5.5 0 1 0 0-1 .5.5 0 0 0 0 1ZM6 6a.5.5 0 1 0 0-1 .5.5 0 0 0 0 1Zm2-.5a.5.5 0 1 1-1 0 .5.5 0 0 1 1 0Z\"></path><path d=\"M12 1a2 2 0 0 1 2 2 2 2 0 0 1 2 2v8a2 2 0 0 1-2 2H4a2 2 0 0 1-2-2 2 2 0 0 1-2-2V3a2 2 0 0 1 2-2h10ZM2 12V5a2 2 0 0 1 2-2h9a1 1 0 0 0-1-1H2a1 1 0 0 0-1 1v8a1 1 0 0 0 1 1Zm1-4v5a1 1 0 0 0 1 1h10a1 1 0 0 0 1-1V8H3Zm12-1V5a1 1 0 0 0-1-1H4a1 1 0 0 0-1 1v2h12Z\"></path></svg><h3 class=\"mb-2 text-2xl font-semibold tracking-tight sm:text-[26px]\">Practice 100+ Projects</h3></dt><dd class=\"leading-relaxed text-gray-600\">Improve you skills by building. Choose from over 100+ projects to practice, build for your resume and showcase to the world.</dd></div><div class=\"mx-auto w-full max-w-xl lg:mx-0 lg:pl-14 lg:pr-8 lg:text-left\"><dt class=\"flex flex-col items-center gap-4 lg:items-start\"><svg stroke=\"currentColor\" fill=\"url(#ApplySvgGradient)\" stroke-width=\"0\" viewBox=\"0 0 16 16\" class=\"h-8 w-8\" height=\"1em\" width=\"1em\" xmlns=\"http://www.w3.org/2000/svg\"><path d=\"M2 1a1 1 0 0 0-1 1v8a1 1 0 0 0 1 1h9.586a2 2 0 0 1 1.414.586l2 2V2a1 1 0 0 0-1-1H2zm12-1a2 2 0 0 1 2 2v12.793a.5.5 0 0 1-.854.353l-2.853-2.853a1 1 0 0 0-.707-.293H2a2 2 0 0 1-2-2V2a2 2 0 0 1 2-2h12z\"></path><path d=\"M3 3.5a.5.5 0 0 1 .5-.5h9a.5.5 0 0 1 0 1h-9a.5.5 0 0 1-.5-.5zM3 6a.5.5 0 0 1 .5-.5h9a.5.5 0 0 1 0 1h-9A.5.5 0 0 1 3 6zm0 2.5a.5.5 0 0 1 .5-.5h5a.5.5 0 0 1 0 1h-5a.5.5 0 0 1-.5-.5z\"></path></svg><h3 class=\"mb-2 text-2xl font-semibold tracking-tight sm:text-[26px]\">Unlimited building and feedback</h3></dt><dd class=\"leading-relaxed text-gray-600\">For every great project you build, we help you make it better with CodeReport™. Get detailed feedback on your projects.</dd></div><div class=\"mx-auto w-full max-w-xl lg:mx-0 lg:pl-14 lg:pr-8 lg:text-left\"><dt class=\"flex flex-col items-center gap-4 lg:items-start\"><svg stroke=\"currentColor\" fill=\"url(#ApplySvgGradient)\" stroke-width=\"0\" viewBox=\"0 0 16 16\" class=\"h-8 w-9\" height=\"1em\" width=\"1em\" xmlns=\"http://www.w3.org/2000/svg\"><path d=\"M2 3a1 1 0 0 0-1 1v8a1 1 0 0 0 1 1h5.5a.5.5 0 0 1 0 1H2a2 2 0 0 1-2-2V4a2 2 0 0 1 2-2h11a2 2 0 0 1 2 2v4a.5.5 0 0 1-1 0V4a1 1 0 0 0-1-1H2Z\"></path><path d=\"M3.146 5.146a.5.5 0 0 1 .708 0L5.177 6.47a.75.75 0 0 1 0 1.06L3.854 8.854a.5.5 0 1 1-.708-.708L4.293 7 3.146 5.854a.5.5 0 0 1 0-.708ZM5.5 9a.5.5 0 0 1 .5-.5h2a.5.5 0 0 1 0 1H6a.5.5 0 0 1-.5-.5ZM16 12.5a3.5 3.5 0 1 1-7 0 3.5 3.5 0 0 1 7 0Zm-4.854-1.354a.5.5 0 0 0 0 .708l.647.646-.647.646a.5.5 0 0 0 .708.708l.646-.647.646.647a.5.5 0 0 0 .708-.708l-.647-.646.647-.646a.5.5 0 0 0-.708-.708l-.646.647-.646-.647a.5.5 0 0 0-.708 0Z\"></path></svg><h3 class=\"mb-2 text-2xl font-semibold tracking-tight sm:text-[26px]\">Brush away all the bugs</h3></dt><dd class=\"leading-relaxed text-gray-600\">Use code brushes in playgrounds to fix, debug, refactor or even write full code blocks - at a click of a button</dd></div></div></div><div class=\"relative mx-auto mb-24 w-full\"><div class=\"relative grid h-[min(40vh,384px)] grid-cols-2 items-start gap-8 overflow-hidden before:absolute before:inset-0 before:bg-white md:grid-cols-3 lg:h-[min(50vh,512px)] xl:grid-cols-4\"><div data-id=\"css-animation\" class=\"animate-marquee-vertical space-y-8 py-4 will-change-transform\" style=\"--marquee-duration:0ms\"><figure><img alt=\"Astral portfolio pproject thumbnail\" loading=\"lazy\" width=\"640\" height=\"360\" decoding=\"async\" data-nimg=\"1\" class=\"aspect-[16/9] object-cover\" style=\"color:transparent\" srcSet=\"https://wsrv.nl/?url=https%3A%2F%2Fcodedamn.com%2Fassets%2Flanding-page-assets%2Fthumbs-blurred%2Fastral-portfolio.png&amp;w=1280&amp;q=70&amp;output=webp 1x, https://wsrv.nl/?url=https%3A%2F%2Fcodedamn.com%2Fassets%2Flanding-page-assets%2Fthumbs-blurred%2Fastral-portfolio.png&amp;w=1280&amp;q=70&amp;output=webp 2x\" src=\"https://wsrv.nl/?url=https%3A%2F%2Fcodedamn.com%2Fassets%2Flanding-page-assets%2Fthumbs-blurred%2Fastral-portfolio.png&amp;w=1280&amp;q=70&amp;output=webp\"/></figure><figure><img alt=\"Bird app pproject thumbnail\" loading=\"lazy\" width=\"640\" height=\"360\" decoding=\"async\" data-nimg=\"1\" class=\"aspect-[16/9] object-cover\" style=\"color:transparent\" srcSet=\"https://wsrv.nl/?url=https%3A%2F%2Fcodedamn.com%2Fassets%2Flanding-page-assets%2Fthumbs-blurred%2Fbird-app.png&amp;w=1280&amp;q=70&amp;output=webp 1x, https://wsrv.nl/?url=https%3A%2F%2Fcodedamn.com%2Fassets%2Flanding-page-assets%2Fthumbs-blurred%2Fbird-app.png&amp;w=1280&amp;q=70&amp;output=webp 2x\" src=\"https://wsrv.nl/?url=https%3A%2F%2Fcodedamn.com%2Fassets%2Flanding-page-assets%2Fthumbs-blurred%2Fbird-app.png&amp;w=1280&amp;q=70&amp;output=webp\"/></figure><figure><img alt=\"Calculator clone project thumbnail\" loading=\"lazy\" width=\"640\" height=\"360\" decoding=\"async\" data-nimg=\"1\" class=\"aspect-[16/9] object-cover\" style=\"color:transparent\" srcSet=\"https://wsrv.nl/?url=https%3A%2F%2Fcodedamn.com%2Fassets%2Flanding-page-assets%2Fthumbs-blurred%2Fcalculator-clone.png&amp;w=1280&amp;q=70&amp;output=webp 1x, https://wsrv.nl/?url=https%3A%2F%2Fcodedamn.com%2Fassets%2Flanding-page-assets%2Fthumbs-blurred%2Fcalculator-clone.png&amp;w=1280&amp;q=70&amp;output=webp 2x\" src=\"https://wsrv.nl/?url=https%3A%2F%2Fcodedamn.com%2Fassets%2Flanding-page-assets%2Fthumbs-blurred%2Fcalculator-clone.png&amp;w=1280&amp;q=70&amp;output=webp\"/></figure><figure><img alt=\"Discord clone project thumbnail\" loading=\"lazy\" width=\"640\" height=\"360\" decoding=\"async\" data-nimg=\"1\" class=\"aspect-[16/9] object-cover\" style=\"color:transparent\" srcSet=\"https://wsrv.nl/?url=https%3A%2F%2Fcodedamn.com%2Fassets%2Flanding-page-assets%2Fthumbs-blurred%2Fdiscord-ui-clone.png&amp;w=1280&amp;q=70&amp;output=webp 1x, https://wsrv.nl/?url=https%3A%2F%2Fcodedamn.com%2Fassets%2Flanding-page-assets%2Fthumbs-blurred%2Fdiscord-ui-clone.png&amp;w=1280&amp;q=70&amp;output=webp 2x\" src=\"https://wsrv.nl/?url=https%3A%2F%2Fcodedamn.com%2Fassets%2Flanding-page-assets%2Fthumbs-blurred%2Fdiscord-ui-clone.png&amp;w=1280&amp;q=70&amp;output=webp\"/></figure><figure><img alt=\"Astral portfolio pproject thumbnail\" loading=\"lazy\" width=\"640\" height=\"360\" decoding=\"async\" data-nimg=\"1\" class=\"aspect-[16/9] object-cover\" style=\"color:transparent\" srcSet=\"https://wsrv.nl/?url=https%3A%2F%2Fcodedamn.com%2Fassets%2Flanding-page-assets%2Fthumbs-blurred%2Fastral-portfolio.png&amp;w=1280&amp;q=70&amp;output=webp 1x, https://wsrv.nl/?url=https%3A%2F%2Fcodedamn.com%2Fassets%2Flanding-page-assets%2Fthumbs-blurred%2Fastral-portfolio.png&amp;w=1280&amp;q=70&amp;output=webp 2x\" src=\"https://wsrv.nl/?url=https%3A%2F%2Fcodedamn.com%2Fassets%2Flanding-page-assets%2Fthumbs-blurred%2Fastral-portfolio.png&amp;w=1280&amp;q=70&amp;output=webp\"/></figure><figure><img alt=\"Bird app pproject thumbnail\" loading=\"lazy\" width=\"640\" height=\"360\" decoding=\"async\" data-nimg=\"1\" class=\"aspect-[16/9] object-cover\" style=\"color:transparent\" srcSet=\"https://wsrv.nl/?url=https%3A%2F%2Fcodedamn.com%2Fassets%2Flanding-page-assets%2Fthumbs-blurred%2Fbird-app.png&amp;w=1280&amp;q=70&amp;output=webp 1x, https://wsrv.nl/?url=https%3A%2F%2Fcodedamn.com%2Fassets%2Flanding-page-assets%2Fthumbs-blurred%2Fbird-app.png&amp;w=1280&amp;q=70&amp;output=webp 2x\" src=\"https://wsrv.nl/?url=https%3A%2F%2Fcodedamn.com%2Fassets%2Flanding-page-assets%2Fthumbs-blurred%2Fbird-app.png&amp;w=1280&amp;q=70&amp;output=webp\"/></figure><figure><img alt=\"Calculator clone project thumbnail\" loading=\"lazy\" width=\"640\" height=\"360\" decoding=\"async\" data-nimg=\"1\" class=\"aspect-[16/9] object-cover\" style=\"color:transparent\" srcSet=\"https://wsrv.nl/?url=https%3A%2F%2Fcodedamn.com%2Fassets%2Flanding-page-assets%2Fthumbs-blurred%2Fcalculator-clone.png&amp;w=1280&amp;q=70&amp;output=webp 1x, https://wsrv.nl/?url=https%3A%2F%2Fcodedamn.com%2Fassets%2Flanding-page-assets%2Fthumbs-blurred%2Fcalculator-clone.png&amp;w=1280&amp;q=70&amp;output=webp 2x\" src=\"https://wsrv.nl/?url=https%3A%2F%2Fcodedamn.com%2Fassets%2Flanding-page-assets%2Fthumbs-blurred%2Fcalculator-clone.png&amp;w=1280&amp;q=70&amp;output=webp\"/></figure><figure><img alt=\"Discord clone project thumbnail\" loading=\"lazy\" width=\"640\" height=\"360\" decoding=\"async\" data-nimg=\"1\" class=\"aspect-[16/9] object-cover\" style=\"color:transparent\" srcSet=\"https://wsrv.nl/?url=https%3A%2F%2Fcodedamn.com%2Fassets%2Flanding-page-assets%2Fthumbs-blurred%2Fdiscord-ui-clone.png&amp;w=1280&amp;q=70&amp;output=webp 1x, https://wsrv.nl/?url=https%3A%2F%2Fcodedamn.com%2Fassets%2Flanding-page-assets%2Fthumbs-blurred%2Fdiscord-ui-clone.png&amp;w=1280&amp;q=70&amp;output=webp 2x\" src=\"https://wsrv.nl/?url=https%3A%2F%2Fcodedamn.com%2Fassets%2Flanding-page-assets%2Fthumbs-blurred%2Fdiscord-ui-clone.png&amp;w=1280&amp;q=70&amp;output=webp\"/></figure></div><div data-id=\"css-animation\" class=\"animate-marquee-vertical space-y-8 py-4 will-change-transform\" style=\"--marquee-duration:0ms\"><figure><img alt=\"Disney clone project thumbnail\" loading=\"lazy\" width=\"640\" height=\"360\" decoding=\"async\" data-nimg=\"1\" class=\"aspect-[16/9] object-cover\" style=\"color:transparent\" srcSet=\"https://wsrv.nl/?url=https%3A%2F%2Fcodedamn.com%2Fassets%2Flanding-page-assets%2Fthumbs-blurred%2Fdisney-clone.png&amp;w=1280&amp;q=70&amp;output=webp 1x, https://wsrv.nl/?url=https%3A%2F%2Fcodedamn.com%2Fassets%2Flanding-page-assets%2Fthumbs-blurred%2Fdisney-clone.png&amp;w=1280&amp;q=70&amp;output=webp 2x\" src=\"https://wsrv.nl/?url=https%3A%2F%2Fcodedamn.com%2Fassets%2Flanding-page-assets%2Fthumbs-blurred%2Fdisney-clone.png&amp;w=1280&amp;q=70&amp;output=webp\"/></figure><figure><img alt=\"Facebook sign-up project thumbnail\" loading=\"lazy\" width=\"640\" height=\"360\" decoding=\"async\" data-nimg=\"1\" class=\"aspect-[16/9] object-cover\" style=\"color:transparent\" srcSet=\"https://wsrv.nl/?url=https%3A%2F%2Fcodedamn.com%2Fassets%2Flanding-page-assets%2Fthumbs-blurred%2Ffacebook-sign-up.png&amp;w=1280&amp;q=70&amp;output=webp 1x, https://wsrv.nl/?url=https%3A%2F%2Fcodedamn.com%2Fassets%2Flanding-page-assets%2Fthumbs-blurred%2Ffacebook-sign-up.png&amp;w=1280&amp;q=70&amp;output=webp 2x\" src=\"https://wsrv.nl/?url=https%3A%2F%2Fcodedamn.com%2Fassets%2Flanding-page-assets%2Fthumbs-blurred%2Ffacebook-sign-up.png&amp;w=1280&amp;q=70&amp;output=webp\"/></figure><figure><img alt=\"Multiverse project thumbnail\" loading=\"lazy\" width=\"640\" height=\"360\" decoding=\"async\" data-nimg=\"1\" class=\"aspect-[16/9] object-cover\" style=\"color:transparent\" srcSet=\"https://wsrv.nl/?url=https%3A%2F%2Fcodedamn.com%2Fassets%2Flanding-page-assets%2Fthumbs-blurred%2Fhtml-5-multiverse.png&amp;w=1280&amp;q=70&amp;output=webp 1x, https://wsrv.nl/?url=https%3A%2F%2Fcodedamn.com%2Fassets%2Flanding-page-assets%2Fthumbs-blurred%2Fhtml-5-multiverse.png&amp;w=1280&amp;q=70&amp;output=webp 2x\" src=\"https://wsrv.nl/?url=https%3A%2F%2Fcodedamn.com%2Fassets%2Flanding-page-assets%2Fthumbs-blurred%2Fhtml-5-multiverse.png&amp;w=1280&amp;q=70&amp;output=webp\"/></figure><figure><img alt=\"Hulu clone project thumbnail\" loading=\"lazy\" width=\"640\" height=\"360\" decoding=\"async\" data-nimg=\"1\" class=\"aspect-[16/9] object-cover\" style=\"color:transparent\" srcSet=\"https://wsrv.nl/?url=https%3A%2F%2Fcodedamn.com%2Fassets%2Flanding-page-assets%2Fthumbs-blurred%2Fhulu-clone.png&amp;w=1280&amp;q=70&amp;output=webp 1x, https://wsrv.nl/?url=https%3A%2F%2Fcodedamn.com%2Fassets%2Flanding-page-assets%2Fthumbs-blurred%2Fhulu-clone.png&amp;w=1280&amp;q=70&amp;output=webp 2x\" src=\"https://wsrv.nl/?url=https%3A%2F%2Fcodedamn.com%2Fassets%2Flanding-page-assets%2Fthumbs-blurred%2Fhulu-clone.png&amp;w=1280&amp;q=70&amp;output=webp\"/></figure><figure><img alt=\"Disney clone project thumbnail\" loading=\"lazy\" width=\"640\" height=\"360\" decoding=\"async\" data-nimg=\"1\" class=\"aspect-[16/9] object-cover\" style=\"color:transparent\" srcSet=\"https://wsrv.nl/?url=https%3A%2F%2Fcodedamn.com%2Fassets%2Flanding-page-assets%2Fthumbs-blurred%2Fdisney-clone.png&amp;w=1280&amp;q=70&amp;output=webp 1x, https://wsrv.nl/?url=https%3A%2F%2Fcodedamn.com%2Fassets%2Flanding-page-assets%2Fthumbs-blurred%2Fdisney-clone.png&amp;w=1280&amp;q=70&amp;output=webp 2x\" src=\"https://wsrv.nl/?url=https%3A%2F%2Fcodedamn.com%2Fassets%2Flanding-page-assets%2Fthumbs-blurred%2Fdisney-clone.png&amp;w=1280&amp;q=70&amp;output=webp\"/></figure><figure><img alt=\"Facebook sign-up project thumbnail\" loading=\"lazy\" width=\"640\" height=\"360\" decoding=\"async\" data-nimg=\"1\" class=\"aspect-[16/9] object-cover\" style=\"color:transparent\" srcSet=\"https://wsrv.nl/?url=https%3A%2F%2Fcodedamn.com%2Fassets%2Flanding-page-assets%2Fthumbs-blurred%2Ffacebook-sign-up.png&amp;w=1280&amp;q=70&amp;output=webp 1x, https://wsrv.nl/?url=https%3A%2F%2Fcodedamn.com%2Fassets%2Flanding-page-assets%2Fthumbs-blurred%2Ffacebook-sign-up.png&amp;w=1280&amp;q=70&amp;output=webp 2x\" src=\"https://wsrv.nl/?url=https%3A%2F%2Fcodedamn.com%2Fassets%2Flanding-page-assets%2Fthumbs-blurred%2Ffacebook-sign-up.png&amp;w=1280&amp;q=70&amp;output=webp\"/></figure><figure><img alt=\"Multiverse project thumbnail\" loading=\"lazy\" width=\"640\" height=\"360\" decoding=\"async\" data-nimg=\"1\" class=\"aspect-[16/9] object-cover\" style=\"color:transparent\" srcSet=\"https://wsrv.nl/?url=https%3A%2F%2Fcodedamn.com%2Fassets%2Flanding-page-assets%2Fthumbs-blurred%2Fhtml-5-multiverse.png&amp;w=1280&amp;q=70&amp;output=webp 1x, https://wsrv.nl/?url=https%3A%2F%2Fcodedamn.com%2Fassets%2Flanding-page-assets%2Fthumbs-blurred%2Fhtml-5-multiverse.png&amp;w=1280&amp;q=70&amp;output=webp 2x\" src=\"https://wsrv.nl/?url=https%3A%2F%2Fcodedamn.com%2Fassets%2Flanding-page-assets%2Fthumbs-blurred%2Fhtml-5-multiverse.png&amp;w=1280&amp;q=70&amp;output=webp\"/></figure><figure><img alt=\"Hulu clone project thumbnail\" loading=\"lazy\" width=\"640\" height=\"360\" decoding=\"async\" data-nimg=\"1\" class=\"aspect-[16/9] object-cover\" style=\"color:transparent\" srcSet=\"https://wsrv.nl/?url=https%3A%2F%2Fcodedamn.com%2Fassets%2Flanding-page-assets%2Fthumbs-blurred%2Fhulu-clone.png&amp;w=1280&amp;q=70&amp;output=webp 1x, https://wsrv.nl/?url=https%3A%2F%2Fcodedamn.com%2Fassets%2Flanding-page-assets%2Fthumbs-blurred%2Fhulu-clone.png&amp;w=1280&amp;q=70&amp;output=webp 2x\" src=\"https://wsrv.nl/?url=https%3A%2F%2Fcodedamn.com%2Fassets%2Flanding-page-assets%2Fthumbs-blurred%2Fhulu-clone.png&amp;w=1280&amp;q=70&amp;output=webp\"/></figure></div><div data-id=\"css-animation\" class=\"animate-marquee-vertical space-y-8 py-4 will-change-transform hidden lg:block\" style=\"--marquee-duration:0ms\"><figure><img alt=\"Instagram clone project thumbnail\" loading=\"lazy\" width=\"640\" height=\"360\" decoding=\"async\" data-nimg=\"1\" class=\"aspect-[16/9] object-cover\" style=\"color:transparent\" srcSet=\"https://wsrv.nl/?url=https%3A%2F%2Fcodedamn.com%2Fassets%2Flanding-page-assets%2Fthumbs-blurred%2Finstagram-clone.png&amp;w=1280&amp;q=70&amp;output=webp 1x, https://wsrv.nl/?url=https%3A%2F%2Fcodedamn.com%2Fassets%2Flanding-page-assets%2Fthumbs-blurred%2Finstagram-clone.png&amp;w=1280&amp;q=70&amp;output=webp 2x\" src=\"https://wsrv.nl/?url=https%3A%2F%2Fcodedamn.com%2Fassets%2Flanding-page-assets%2Fthumbs-blurred%2Finstagram-clone.png&amp;w=1280&amp;q=70&amp;output=webp\"/></figure><figure><img alt=\"Quiz app project thumbnail\" loading=\"lazy\" width=\"640\" height=\"360\" decoding=\"async\" data-nimg=\"1\" class=\"aspect-[16/9] object-cover\" style=\"color:transparent\" srcSet=\"https://wsrv.nl/?url=https%3A%2F%2Fcodedamn.com%2Fassets%2Flanding-page-assets%2Fthumbs-blurred%2Fjs-quiz-app.png&amp;w=1280&amp;q=70&amp;output=webp 1x, https://wsrv.nl/?url=https%3A%2F%2Fcodedamn.com%2Fassets%2Flanding-page-assets%2Fthumbs-blurred%2Fjs-quiz-app.png&amp;w=1280&amp;q=70&amp;output=webp 2x\" src=\"https://wsrv.nl/?url=https%3A%2F%2Fcodedamn.com%2Fassets%2Flanding-page-assets%2Fthumbs-blurred%2Fjs-quiz-app.png&amp;w=1280&amp;q=70&amp;output=webp\"/></figure><figure><img alt=\"Linkedin clone project thumbnail\" loading=\"lazy\" width=\"640\" height=\"360\" decoding=\"async\" data-nimg=\"1\" class=\"aspect-[16/9] object-cover\" style=\"color:transparent\" srcSet=\"https://wsrv.nl/?url=https%3A%2F%2Fcodedamn.com%2Fassets%2Flanding-page-assets%2Fthumbs-blurred%2Flinkedin-clone.png&amp;w=1280&amp;q=70&amp;output=webp 1x, https://wsrv.nl/?url=https%3A%2F%2Fcodedamn.com%2Fassets%2Flanding-page-assets%2Fthumbs-blurred%2Flinkedin-clone.png&amp;w=1280&amp;q=70&amp;output=webp 2x\" src=\"https://wsrv.nl/?url=https%3A%2F%2Fcodedamn.com%2Fassets%2Flanding-page-assets%2Fthumbs-blurred%2Flinkedin-clone.png&amp;w=1280&amp;q=70&amp;output=webp\"/></figure><figure><img alt=\"Massively project thumbnail\" loading=\"lazy\" width=\"640\" height=\"360\" decoding=\"async\" data-nimg=\"1\" class=\"aspect-[16/9] object-cover\" style=\"color:transparent\" srcSet=\"https://wsrv.nl/?url=https%3A%2F%2Fcodedamn.com%2Fassets%2Flanding-page-assets%2Fthumbs-blurred%2Fmassively-lp.png&amp;w=1280&amp;q=70&amp;output=webp 1x, https://wsrv.nl/?url=https%3A%2F%2Fcodedamn.com%2Fassets%2Flanding-page-assets%2Fthumbs-blurred%2Fmassively-lp.png&amp;w=1280&amp;q=70&amp;output=webp 2x\" src=\"https://wsrv.nl/?url=https%3A%2F%2Fcodedamn.com%2Fassets%2Flanding-page-assets%2Fthumbs-blurred%2Fmassively-lp.png&amp;w=1280&amp;q=70&amp;output=webp\"/></figure><figure><img alt=\"Instagram clone project thumbnail\" loading=\"lazy\" width=\"640\" height=\"360\" decoding=\"async\" data-nimg=\"1\" class=\"aspect-[16/9] object-cover\" style=\"color:transparent\" srcSet=\"https://wsrv.nl/?url=https%3A%2F%2Fcodedamn.com%2Fassets%2Flanding-page-assets%2Fthumbs-blurred%2Finstagram-clone.png&amp;w=1280&amp;q=70&amp;output=webp 1x, https://wsrv.nl/?url=https%3A%2F%2Fcodedamn.com%2Fassets%2Flanding-page-assets%2Fthumbs-blurred%2Finstagram-clone.png&amp;w=1280&amp;q=70&amp;output=webp 2x\" src=\"https://wsrv.nl/?url=https%3A%2F%2Fcodedamn.com%2Fassets%2Flanding-page-assets%2Fthumbs-blurred%2Finstagram-clone.png&amp;w=1280&amp;q=70&amp;output=webp\"/></figure><figure><img alt=\"Quiz app project thumbnail\" loading=\"lazy\" width=\"640\" height=\"360\" decoding=\"async\" data-nimg=\"1\" class=\"aspect-[16/9] object-cover\" style=\"color:transparent\" srcSet=\"https://wsrv.nl/?url=https%3A%2F%2Fcodedamn.com%2Fassets%2Flanding-page-assets%2Fthumbs-blurred%2Fjs-quiz-app.png&amp;w=1280&amp;q=70&amp;output=webp 1x, https://wsrv.nl/?url=https%3A%2F%2Fcodedamn.com%2Fassets%2Flanding-page-assets%2Fthumbs-blurred%2Fjs-quiz-app.png&amp;w=1280&amp;q=70&amp;output=webp 2x\" src=\"https://wsrv.nl/?url=https%3A%2F%2Fcodedamn.com%2Fassets%2Flanding-page-assets%2Fthumbs-blurred%2Fjs-quiz-app.png&amp;w=1280&amp;q=70&amp;output=webp\"/></figure><figure><img alt=\"Linkedin clone project thumbnail\" loading=\"lazy\" width=\"640\" height=\"360\" decoding=\"async\" data-nimg=\"1\" class=\"aspect-[16/9] object-cover\" style=\"color:transparent\" srcSet=\"https://wsrv.nl/?url=https%3A%2F%2Fcodedamn.com%2Fassets%2Flanding-page-assets%2Fthumbs-blurred%2Flinkedin-clone.png&amp;w=1280&amp;q=70&amp;output=webp 1x, https://wsrv.nl/?url=https%3A%2F%2Fcodedamn.com%2Fassets%2Flanding-page-assets%2Fthumbs-blurred%2Flinkedin-clone.png&amp;w=1280&amp;q=70&amp;output=webp 2x\" src=\"https://wsrv.nl/?url=https%3A%2F%2Fcodedamn.com%2Fassets%2Flanding-page-assets%2Fthumbs-blurred%2Flinkedin-clone.png&amp;w=1280&amp;q=70&amp;output=webp\"/></figure><figure><img alt=\"Massively project thumbnail\" loading=\"lazy\" width=\"640\" height=\"360\" decoding=\"async\" data-nimg=\"1\" class=\"aspect-[16/9] object-cover\" style=\"color:transparent\" srcSet=\"https://wsrv.nl/?url=https%3A%2F%2Fcodedamn.com%2Fassets%2Flanding-page-assets%2Fthumbs-blurred%2Fmassively-lp.png&amp;w=1280&amp;q=70&amp;output=webp 1x, https://wsrv.nl/?url=https%3A%2F%2Fcodedamn.com%2Fassets%2Flanding-page-assets%2Fthumbs-blurred%2Fmassively-lp.png&amp;w=1280&amp;q=70&amp;output=webp 2x\" src=\"https://wsrv.nl/?url=https%3A%2F%2Fcodedamn.com%2Fassets%2Flanding-page-assets%2Fthumbs-blurred%2Fmassively-lp.png&amp;w=1280&amp;q=70&amp;output=webp\"/></figure></div><div data-id=\"css-animation\" class=\"animate-marquee-vertical space-y-8 py-4 will-change-transform hidden md:block\" style=\"--marquee-duration:0ms\"><figure><img alt=\"Slack clone project thumbnail\" loading=\"lazy\" width=\"640\" height=\"360\" decoding=\"async\" data-nimg=\"1\" class=\"aspect-[16/9] object-cover\" style=\"color:transparent\" srcSet=\"https://wsrv.nl/?url=https%3A%2F%2Fcodedamn.com%2Fassets%2Flanding-page-assets%2Fthumbs-blurred%2Fslack-clone.png&amp;w=1280&amp;q=70&amp;output=webp 1x, https://wsrv.nl/?url=https%3A%2F%2Fcodedamn.com%2Fassets%2Flanding-page-assets%2Fthumbs-blurred%2Fslack-clone.png&amp;w=1280&amp;q=70&amp;output=webp 2x\" src=\"https://wsrv.nl/?url=https%3A%2F%2Fcodedamn.com%2Fassets%2Flanding-page-assets%2Fthumbs-blurred%2Fslack-clone.png&amp;w=1280&amp;q=70&amp;output=webp\"/></figure><figure><img alt=\"Tesla clone project thumbnail\" loading=\"lazy\" width=\"640\" height=\"360\" decoding=\"async\" data-nimg=\"1\" class=\"aspect-[16/9] object-cover\" style=\"color:transparent\" srcSet=\"https://wsrv.nl/?url=https%3A%2F%2Fcodedamn.com%2Fassets%2Flanding-page-assets%2Fthumbs-blurred%2Ftesla-clone.png&amp;w=1280&amp;q=70&amp;output=webp 1x, https://wsrv.nl/?url=https%3A%2F%2Fcodedamn.com%2Fassets%2Flanding-page-assets%2Fthumbs-blurred%2Ftesla-clone.png&amp;w=1280&amp;q=70&amp;output=webp 2x\" src=\"https://wsrv.nl/?url=https%3A%2F%2Fcodedamn.com%2Fassets%2Flanding-page-assets%2Fthumbs-blurred%2Ftesla-clone.png&amp;w=1280&amp;q=70&amp;output=webp\"/></figure><figure><img alt=\"To-do list project thumbnail\" loading=\"lazy\" width=\"640\" height=\"360\" decoding=\"async\" data-nimg=\"1\" class=\"aspect-[16/9] object-cover\" style=\"color:transparent\" srcSet=\"https://wsrv.nl/?url=https%3A%2F%2Fcodedamn.com%2Fassets%2Flanding-page-assets%2Fthumbs-blurred%2Fto-do-list.png&amp;w=1280&amp;q=70&amp;output=webp 1x, https://wsrv.nl/?url=https%3A%2F%2Fcodedamn.com%2Fassets%2Flanding-page-assets%2Fthumbs-blurred%2Fto-do-list.png&amp;w=1280&amp;q=70&amp;output=webp 2x\" src=\"https://wsrv.nl/?url=https%3A%2F%2Fcodedamn.com%2Fassets%2Flanding-page-assets%2Fthumbs-blurred%2Fto-do-list.png&amp;w=1280&amp;q=70&amp;output=webp\"/></figure><figure><img alt=\"Eventually landing page project thumbnail\" loading=\"lazy\" width=\"640\" height=\"360\" decoding=\"async\" data-nimg=\"1\" class=\"aspect-[16/9] object-cover\" style=\"color:transparent\" srcSet=\"https://wsrv.nl/?url=https%3A%2F%2Fcodedamn.com%2Fassets%2Flanding-page-assets%2Fthumbs-blurred%2Feventually.png&amp;w=1280&amp;q=70&amp;output=webp 1x, https://wsrv.nl/?url=https%3A%2F%2Fcodedamn.com%2Fassets%2Flanding-page-assets%2Fthumbs-blurred%2Feventually.png&amp;w=1280&amp;q=70&amp;output=webp 2x\" src=\"https://wsrv.nl/?url=https%3A%2F%2Fcodedamn.com%2Fassets%2Flanding-page-assets%2Fthumbs-blurred%2Feventually.png&amp;w=1280&amp;q=70&amp;output=webp\"/></figure><figure><img alt=\"Slack clone project thumbnail\" loading=\"lazy\" width=\"640\" height=\"360\" decoding=\"async\" data-nimg=\"1\" class=\"aspect-[16/9] object-cover\" style=\"color:transparent\" srcSet=\"https://wsrv.nl/?url=https%3A%2F%2Fcodedamn.com%2Fassets%2Flanding-page-assets%2Fthumbs-blurred%2Fslack-clone.png&amp;w=1280&amp;q=70&amp;output=webp 1x, https://wsrv.nl/?url=https%3A%2F%2Fcodedamn.com%2Fassets%2Flanding-page-assets%2Fthumbs-blurred%2Fslack-clone.png&amp;w=1280&amp;q=70&amp;output=webp 2x\" src=\"https://wsrv.nl/?url=https%3A%2F%2Fcodedamn.com%2Fassets%2Flanding-page-assets%2Fthumbs-blurred%2Fslack-clone.png&amp;w=1280&amp;q=70&amp;output=webp\"/></figure><figure><img alt=\"Tesla clone project thumbnail\" loading=\"lazy\" width=\"640\" height=\"360\" decoding=\"async\" data-nimg=\"1\" class=\"aspect-[16/9] object-cover\" style=\"color:transparent\" srcSet=\"https://wsrv.nl/?url=https%3A%2F%2Fcodedamn.com%2Fassets%2Flanding-page-assets%2Fthumbs-blurred%2Ftesla-clone.png&amp;w=1280&amp;q=70&amp;output=webp 1x, https://wsrv.nl/?url=https%3A%2F%2Fcodedamn.com%2Fassets%2Flanding-page-assets%2Fthumbs-blurred%2Ftesla-clone.png&amp;w=1280&amp;q=70&amp;output=webp 2x\" src=\"https://wsrv.nl/?url=https%3A%2F%2Fcodedamn.com%2Fassets%2Flanding-page-assets%2Fthumbs-blurred%2Ftesla-clone.png&amp;w=1280&amp;q=70&amp;output=webp\"/></figure><figure><img alt=\"To-do list project thumbnail\" loading=\"lazy\" width=\"640\" height=\"360\" decoding=\"async\" data-nimg=\"1\" class=\"aspect-[16/9] object-cover\" style=\"color:transparent\" srcSet=\"https://wsrv.nl/?url=https%3A%2F%2Fcodedamn.com%2Fassets%2Flanding-page-assets%2Fthumbs-blurred%2Fto-do-list.png&amp;w=1280&amp;q=70&amp;output=webp 1x, https://wsrv.nl/?url=https%3A%2F%2Fcodedamn.com%2Fassets%2Flanding-page-assets%2Fthumbs-blurred%2Fto-do-list.png&amp;w=1280&amp;q=70&amp;output=webp 2x\" src=\"https://wsrv.nl/?url=https%3A%2F%2Fcodedamn.com%2Fassets%2Flanding-page-assets%2Fthumbs-blurred%2Fto-do-list.png&amp;w=1280&amp;q=70&amp;output=webp\"/></figure><figure><img alt=\"Eventually landing page project thumbnail\" loading=\"lazy\" width=\"640\" height=\"360\" decoding=\"async\" data-nimg=\"1\" class=\"aspect-[16/9] object-cover\" style=\"color:transparent\" srcSet=\"https://wsrv.nl/?url=https%3A%2F%2Fcodedamn.com%2Fassets%2Flanding-page-assets%2Fthumbs-blurred%2Feventually.png&amp;w=1280&amp;q=70&amp;output=webp 1x, https://wsrv.nl/?url=https%3A%2F%2Fcodedamn.com%2Fassets%2Flanding-page-assets%2Fthumbs-blurred%2Feventually.png&amp;w=1280&amp;q=70&amp;output=webp 2x\" src=\"https://wsrv.nl/?url=https%3A%2F%2Fcodedamn.com%2Fassets%2Flanding-page-assets%2Fthumbs-blurred%2Feventually.png&amp;w=1280&amp;q=70&amp;output=webp\"/></figure></div><div class=\"pointer-events-none absolute inset-x-0 top-0 h-32 bg-gradient-to-b from-white\"></div><div class=\"pointer-events-none absolute inset-x-0 bottom-0 h-32 bg-gradient-to-t from-white\"></div></div><div class=\"absolute inset-0 flex items-center justify-center\"><span class=\"mb-4 overflow-hidden rounded-md bg-gradient-to-r from-gray-100/95 via-white/90 to-gray-100/95 bg-clip-padding p-[4%] text-center text-2xl font-extrabold tracking-tight shadow-2xl sm:py-[2%] md:text-3xl lg:text-4xl\">Build your portfolio with 100+ projects</span></div></div><div class=\"mb-24 flex flex-col\"><h4 class=\"mb-12 px-4 text-sm font-bold uppercase leading-relaxed tracking-widest text-gray-500 sm:text-base\">boot playgrounds with over 25+ templates</h4><div class=\"mx-auto grid max-w-xl grid-cols-4 place-items-center gap-8 sm:grid-cols-8 [&amp;_svg]:h-12 [&amp;_svg]:w-12\"><div class=\"has-tooltip\"><a target=\"_blank noreferrer\" href=\"/playgrounds?template=react-vite\"><svg fill=\"none\" class=\"transition-transform hover:scale-110\" viewBox=\"-10.5 -9.4 21 18.9\"><circle r=\"2\" fill=\"#00D8FF\"></circle><g stroke=\"#00D8FF\"><ellipse rx=\"10\" ry=\"4.5\"></ellipse><ellipse rx=\"10\" ry=\"4.5\" transform=\"rotate(60)\"></ellipse><ellipse rx=\"10\" ry=\"4.5\" transform=\"rotate(120)\"></ellipse></g></svg></a><span class=\"tooltip -translate-x-1/2 translate-y-4 whitespace-nowrap rounded border border-gray-500 bg-gradient-to-br from-gray-800 via-gray-600 to-gray-800 px-2.5 py-1.5 text-xs font-semibold text-white shadow-lg\"><span class=\"relative h-full w-full\">Boot a React playground</span></span></div><div class=\"has-tooltip\"><a target=\"_blank noreferrer\" href=\"/playgrounds?template=html\"><svg fill=\"none\" viewBox=\"0 0 400 400\" class=\"transition-transform hover:scale-110\"><path fill=\"#E44D26\" d=\"M56 360 24 0h353l-32 360-145 40\"></path><path fill=\"#F16529\" d=\"M200 369V30h145l-28 307\"></path><path fill=\"#EBEBEB\" d=\"M90 74h110v44h-62l4 45h58v44h-98L90 74Zm14 155h44l3 35 49 14v46l-90-26\"></path><path fill=\"#fff\" d=\"M311 74H200v44h107l4-44Zm-8 89H200v44h55l-6 57-49 14v46l91-26\"></path></svg></a><span class=\"tooltip -translate-x-1/2 translate-y-4 whitespace-nowrap rounded border border-gray-500 bg-gradient-to-br from-gray-800 via-gray-600 to-gray-800 px-2.5 py-1.5 text-xs font-semibold text-white shadow-lg\"><span class=\"relative h-full w-full\">Boot a HTML playground</span></span></div><div class=\"has-tooltip\"><a target=\"_blank noreferrer\" href=\"/playgrounds?template=java\"><svg class=\"transition-transform hover:scale-110\" fill=\"none\" viewBox=\"0 0 400 400\"><path fill=\"#5382A1\" d=\"M147 309s-15 9 11 12c32 4 48 3 83-3l22 10c-79 34-177-1-116-19Zm-10-43s-17 12 9 15c34 3 61 4 107-5 0 0 7 6 17 10-95 28-200 2-133-20Z\"></path><path fill=\"#E76F00\" d=\"M218 191c19 22-5 42-5 42s49-25 27-56c-21-30-38-45 50-95 0 0-137 34-72 109Z\"></path><path fill=\"#5382A1\" d=\"M322 342s11 9-13 16c-45 14-188 18-228 1-14-6 13-15 21-17 9-2 14-1 14-1-16-12-102 22-44 31 160 26 291-12 250-30ZM154 220s-72 17-25 24c19 2 59 2 96-1l60-8s-11 4-18 10c-74 19-217 10-176-10 35-17 63-15 63-15Zm131 73c75-39 40-76 16-71l-9 2 7-5c48-17 84 50-16 76l2-2Z\"></path><path fill=\"#E76F00\" d=\"M240 0s41 42-40 106c-65 51-15 80 0 113-38-34-66-64-47-92 27-41 103-61 87-127Z\"></path><path fill=\"#5382A1\" d=\"M162 399c72 4 182-3 185-37 0 0-5 13-60 23-61 12-137 11-182 3 0 0 9 8 57 11Z\"></path></svg></a><span class=\"tooltip -translate-x-1/2 translate-y-4 whitespace-nowrap rounded border border-gray-500 bg-gradient-to-br from-gray-800 via-gray-600 to-gray-800 px-2.5 py-1.5 text-xs font-semibold text-white shadow-lg\"><span class=\"relative h-full w-full\">Boot a Java playground</span></span></div><div class=\"has-tooltip\"><a target=\"_blank noreferrer\" href=\"/playgrounds?template=node\"><svg fill=\"none\" viewBox=\"0 0 400 400\" class=\"transition-transform hover:scale-110\"><path fill=\"#539E43\" d=\"M200 400c-5 0-10-1-15-4l-49-29c-7-4-3-6-1-6l22-10h3l38 23h4l147-85 2-4V115l-2-4-147-84h-4L51 111l-2 4v170l2 4 40 23c22 11 36-2 36-15V130c0-2 1-5 4-5h19c2 0 4 2 4 5v167c0 29-16 46-43 46-9 0-15 0-34-9l-39-22c-9-6-15-16-15-27V116c0-11 6-22 15-27L185 4c9-5 22-5 31 0l147 85c9 5 15 16 15 27v169c0 11-6 21-15 27l-147 85c-5 2-10 3-16 3Zm46-116c-65 0-78-30-78-55 0-2 2-4 5-4h19c2 0 4 1 4 3 3 20 11 29 50 29 31 0 44-7 44-23 0-10-4-17-52-21-40-4-65-13-65-45 0-30 25-48 67-48 47 0 70 17 73 52l-1 3-3 2h-19c-2 0-4-2-4-4-4-20-16-27-46-27-34 0-38 12-38 21 0 11 5 14 51 20 45 6 66 14 66 46s-27 51-73 51Z\"></path></svg></a><span class=\"tooltip -translate-x-1/2 translate-y-4 whitespace-nowrap rounded border border-gray-500 bg-gradient-to-br from-gray-800 via-gray-600 to-gray-800 px-2.5 py-1.5 text-xs font-semibold text-white shadow-lg\"><span class=\"relative h-full w-full\">Boot a Node playground</span></span></div><div class=\"has-tooltip\"><a target=\"_blank noreferrer\" href=\"/playgrounds?template=python\"><svg class=\"transition-transform hover:scale-110\" fill=\"none\" viewBox=\"0 0 400 400\"><path fill=\"url(#a)\" d=\"M199 1c-102 0-96 44-96 44v46h97v13H65S0 97 0 199c0 103 57 99 57 99h34v-47s-2-57 55-57h96s54 1 54-52V54s9-53-97-53Zm-54 31a17 17 0 1 1 0 35 17 17 0 0 1 0-35Z\"></path><path fill=\"url(#b)\" d=\"M201 399c102 0 96-44 96-44v-46h-97v-13h135s65 7 65-96c0-102-57-98-57-98h-34v47s2 57-55 57h-96s-54-1-54 52v88s-9 53 97 53Zm54-31a17 17 0 1 1 0-35 17 17 0 0 1 0 35Z\"></path><defs><linearGradient id=\"a\" x1=\"38.4\" x2=\"236.7\" y1=\"36.8\" y2=\"233\" gradientUnits=\"userSpaceOnUse\"><stop stop-color=\"#387EB8\"></stop><stop offset=\"1\" stop-color=\"#366994\"></stop></linearGradient><linearGradient id=\"b\" x1=\"160.1\" x2=\"373\" y1=\"162.8\" y2=\"364\" gradientUnits=\"userSpaceOnUse\"><stop stop-color=\"#FFE052\"></stop><stop offset=\"1\" stop-color=\"#FFC331\"></stop></linearGradient></defs></svg></a><span class=\"tooltip -translate-x-1/2 translate-y-4 whitespace-nowrap rounded border border-gray-500 bg-gradient-to-br from-gray-800 via-gray-600 to-gray-800 px-2.5 py-1.5 text-xs font-semibold text-white shadow-lg\"><span class=\"relative h-full w-full\">Boot a Python playground</span></span></div><div class=\"has-tooltip\"><a target=\"_blank noreferrer\" href=\"/playgrounds?template=ethereum-hardhat\"><svg fill=\"none\" viewBox=\"0 0 400 400\" class=\"transition-transform hover:scale-110\"><path fill=\"#000\" d=\"m264 0-64 114H71L135 0h129\" opacity=\".5\"></path><path fill=\"#000\" d=\"M200 114h128L264 0H135l65 114Z\" opacity=\".6\"></path><path fill=\"#000\" d=\"m135 229 65-115L135 0 71 114l64 115Z\" opacity=\".8\"></path><path fill=\"#000\" d=\"m136 400 64-114h129l-65 114H136Z\" opacity=\".5\"></path><path fill=\"#000\" d=\"M200 286H72l64 114h128l-64-114Z\" opacity=\".6\"></path><path fill=\"#000\" d=\"m264 171-64 115 64 114 65-114-65-115Z\" opacity=\".8\"></path></svg></a><span class=\"tooltip -translate-x-1/2 translate-y-4 whitespace-nowrap rounded border border-gray-500 bg-gradient-to-br from-gray-800 via-gray-600 to-gray-800 px-2.5 py-1.5 text-xs font-semibold text-white shadow-lg\"><span class=\"relative h-full w-full\">Boot a Solidity playground</span></span></div><div class=\"has-tooltip\"><a target=\"_blank noreferrer\" href=\"/playgrounds?template=rust\"><svg class=\"transition-transform hover:scale-110\" fill=\"none\" viewBox=\"0 0 400 400\"><path fill=\"#000\" d=\"m397 195-17-10v-5l14-14a6 6 0 0 0-1-9l-19-7-1-5 11-16a6 6 0 0 0-4-9l-19-3-2-5 8-17a6 6 0 0 0-6-9l-19 1-4-4 5-19a6 6 0 0 0-7-7l-19 5-4-4 1-19a6 6 0 0 0-8-6l-18 8-5-2-3-19a6 6 0 0 0-9-4l-16 11-5-1-7-19a6 6 0 0 0-9-1l-14 14h-5L205 3a6 6 0 0 0-10 0l-10 17h-5L166 6a6 6 0 0 0-9 1l-7 19-5 1-16-11a6 6 0 0 0-9 4l-3 19-5 2-18-8a6 6 0 0 0-8 6l1 19-4 4-19-5a6 6 0 0 0-7 7l5 19-4 4-19-1c-2 0-4 1-5 3s-2 4-1 6l8 17-2 5-19 3a6 6 0 0 0-4 9l11 16-1 5-19 7a6 6 0 0 0-1 9l14 14v5L3 195a6 6 0 0 0 0 10l17 10v5L6 234a6 6 0 0 0 1 9l19 7 1 5-11 16a6 6 0 0 0 4 9l19 3 2 5-8 18a6 6 0 0 0 6 8l19-1 4 4-5 19a6 6 0 0 0 7 7l19-5 4 4-1 19a6 6 0 0 0 8 6l18-8 5 2 3 19a6 6 0 0 0 9 4l16-11 5 1 7 19a6 6 0 0 0 9 1l14-14h5l10 17a6 6 0 0 0 10 0l10-17h5l14 14a6 6 0 0 0 9-1l7-19 5-1 16 11a6 6 0 0 0 9-4l3-19 5-2 18 8a6 6 0 0 0 8-6l-1-19 4-4 19 5a6 6 0 0 0 7-7l-5-19 4-4 19 1a6 6 0 0 0 6-8l-8-18 2-5 19-3a6 6 0 0 0 4-9l-11-16 1-5 19-7a6 6 0 0 0 1-9l-14-14v-5l17-10a6 6 0 0 0 0-10ZM285 334a12 12 0 1 1 5-23 12 12 0 0 1-5 23Zm-6-38c-6-1-11 2-13 8l-6 28a146 146 0 0 1-122-1l-6-27c-1-6-7-10-12-9l-25 5-13-14h120l2-2v-42l-2-2h-35v-26h38c3 0 18 0 23 20l7 31c2 7 11 21 21 21h60l2-1-14 16-25-5Zm-165 38a12 12 0 1 1-5-23 12 12 0 0 1 5 23ZM69 150a12 12 0 1 1-22 10 12 12 0 0 1 22-10Zm-14 33 25-11c6-3 8-9 6-15l-6-12h21v94H59a146 146 0 0 1-4-56Zm112-9v-28h49c3 0 18 3 18 15 0 9-12 13-21 13h-46Zm179 25v11h-15c-2 0-2 1-2 2v7c0 16-9 20-17 21-8 0-17-4-18-8-4-26-12-31-23-40 14-10 30-23 30-42 0-20-14-32-23-39-13-8-28-10-32-10H91c21-23 50-40 82-46l18 19c4 5 11 5 15 1l21-20c43 8 79 35 100 71l-14 32c-2 5 0 12 6 14l27 12v15ZM191 39a12 12 0 1 1 17 17 12 12 0 1 1-17-17Zm139 112a12 12 0 1 1 22 9 12 12 0 1 1-22-9Z\"></path></svg></a><span class=\"tooltip -translate-x-1/2 translate-y-4 whitespace-nowrap rounded border border-gray-500 bg-gradient-to-br from-gray-800 via-gray-600 to-gray-800 px-2.5 py-1.5 text-xs font-semibold text-white shadow-lg\"><span class=\"relative h-full w-full\">Boot a Rust playground</span></span></div><div class=\"has-tooltip\"><a target=\"_blank noreferrer\" href=\"/playgrounds?template=cpp\"><svg class=\"transition-transform hover:scale-110\" fill=\"none\" viewBox=\"0 0 400 400\"><path fill=\"#649AD2\" d=\"M378 118c0-7-2-13-4-18-3-5-8-9-13-13L218 5c-12-7-25-7-37 1L39 87c-11 7-17 17-17 31v164c0 7 1 13 4 18s7 9 13 13l142 81c12 8 25 8 37 1l143-82c6-4 10-8 13-13s4-11 4-18V118Z\"></path><path fill=\"#004482\" d=\"M200 199 26 300c3 5 7 9 13 13l142 81c12 8 25 8 37 1l143-82c6-4 10-8 13-13L200 199Z\"></path><path fill=\"#1A4674\" d=\"M149 229a59 59 0 0 0 102 0l-51-30-51 30Z\"></path><path fill=\"#01589C\" d=\"M378 118c0-7-2-13-4-18l-174 99 174 101c3-5 4-11 4-18V118Z\"></path><path fill=\"#fff\" d=\"M368 207h-13v13h-14v-13h-13v-14h13v-13h14v13h13v14ZM200 82c43 0 81 23 102 58v1l-51 29a59 59 0 1 0 0 59l52 30A118 118 0 1 1 200 82Zm105 98v13h14v14h-14v13h-13v-13h-14v-14h14v-13h13Z\"></path></svg></a><span class=\"tooltip -translate-x-1/2 translate-y-4 whitespace-nowrap rounded border border-gray-500 bg-gradient-to-br from-gray-800 via-gray-600 to-gray-800 px-2.5 py-1.5 text-xs font-semibold text-white shadow-lg\"><span class=\"relative h-full w-full\">Boot a C++ playground</span></span></div></div></div></div></div><div class=\"relative z-10 flex flex-col items-stretch bg-gradient-to-b from-transparent via-white to-white text-center\"><span class=\"h-24 w-px self-center bg-gradient-to-t from-success-600 to-white\"></span><span class=\"mb-6 flex h-10 w-10 items-center justify-center self-center rounded-full bg-gradient-to-r from-success-600 to-success-400 text-xl font-bold text-white\">3</span><span class=\"mb-4 bg-gradient-to-br from-success-600 to-success-400 bg-clip-text text-[28px] font-bold uppercase leading-9 tracking-tight text-transparent\">Grow</span><h2 class=\"w-full bg-gradient-to-b from-black via-gray-700 to-black bg-clip-text pb-6 text-center text-[40px] font-bold leading-[2.75rem] tracking-tighter text-transparent sm:text-6xl\"><span>Expand your </span><br class=\"min-[512px]:hidden\"/><span>Potential</span></h2><div class=\"relative mx-auto flex w-full max-w-screen-2xl flex-col items-center overflow-hidden text-center lg:items-start lg:pr-0 lg:text-left\"><div class=\"relative z-20 max-w-[650px] px-6\"><h5 class=\"mb-3 mt-8 text-3xl font-bold tracking-tight lg:mt-20\">Join the community<span class=\"hidden sm:inline\"> <!-- -->of developers changing the world</span></h5><div class=\"w-full max-w-lg text-lg text-gray-600 md:max-w-xl\">Transform the way you learn coding and connect with other like minded developers across the globe.</div></div><dl class=\"relative z-20 mt-14 flex max-w-lg flex-col gap-14 px-6 lg:mb-24\"><div><dt class=\"flex flex-col items-center lg:items-start\"><svg stroke=\"currentColor\" fill=\"url(#GrowSvgGradient)\" stroke-width=\"0\" viewBox=\"0 0 16 16\" class=\"mb-4 h-8 w-8\" height=\"1em\" width=\"1em\" xmlns=\"http://www.w3.org/2000/svg\"><path d=\"M9.752 6.193c.599.6 1.73.437 2.528-.362.798-.799.96-1.932.362-2.531-.599-.6-1.73-.438-2.528.361-.798.8-.96 1.933-.362 2.532Z\"></path><path d=\"M15.811 3.312c-.363 1.534-1.334 3.626-3.64 6.218l-.24 2.408a2.56 2.56 0 0 1-.732 1.526L8.817 15.85a.51.51 0 0 1-.867-.434l.27-1.899c.04-.28-.013-.593-.131-.956a9.42 9.42 0 0 0-.249-.657l-.082-.202c-.815-.197-1.578-.662-2.191-1.277-.614-.615-1.079-1.379-1.275-2.195l-.203-.083a9.556 9.556 0 0 0-.655-.248c-.363-.119-.675-.172-.955-.132l-1.896.27A.51.51 0 0 1 .15 7.17l2.382-2.386c.41-.41.947-.67 1.524-.734h.006l2.4-.238C9.005 1.55 11.087.582 12.623.208c.89-.217 1.59-.232 2.08-.188.244.023.435.06.57.093.067.017.12.033.16.045.184.06.279.13.351.295l.029.073a3.475 3.475 0 0 1 .157.721c.055.485.051 1.178-.159 2.065Zm-4.828 7.475.04-.04-.107 1.081a1.536 1.536 0 0 1-.44.913l-1.298 1.3.054-.38c.072-.506-.034-.993-.172-1.418a8.548 8.548 0 0 0-.164-.45c.738-.065 1.462-.38 2.087-1.006ZM5.205 5c-.625.626-.94 1.351-1.004 2.09a8.497 8.497 0 0 0-.45-.164c-.424-.138-.91-.244-1.416-.172l-.38.054 1.3-1.3c.245-.246.566-.401.91-.44l1.08-.107-.04.039Zm9.406-3.961c-.38-.034-.967-.027-1.746.163-1.558.38-3.917 1.496-6.937 4.521-.62.62-.799 1.34-.687 2.051.107.676.483 1.362 1.048 1.928.564.565 1.25.941 1.924 1.049.71.112 1.429-.067 2.048-.688 3.079-3.083 4.192-5.444 4.556-6.987.183-.771.18-1.345.138-1.713a2.835 2.835 0 0 0-.045-.283 3.078 3.078 0 0 0-.3-.041Z\"></path><path d=\"M7.009 12.139a7.632 7.632 0 0 1-1.804-1.352A7.568 7.568 0 0 1 3.794 8.86c-1.102.992-1.965 5.054-1.839 5.18.125.126 3.936-.896 5.054-1.902Z\"></path></svg><p class=\"mb-2 text-2xl font-semibold tracking-tight sm:text-[26px]\">Make something great</p></dt><dd class=\"leading-relaxed text-gray-600\">Start a playground, invite your friends and build your projects collaboratively, from anywhere around the globe.</dd></div><div><dt class=\"flex flex-col items-center lg:items-start\"><svg class=\"mb-3 h-9 w-9\" fill=\"#84cc16\" stroke-width=\"2\" stroke=\"url(#GrowSvgGradient)\" viewBox=\"0 0 64 64\"><path d=\"M40 30a4 4.5 0 1 0 0 9 4 4.5 0 1 0 0-9Z\"></path><path d=\"M52.3 16a31 31 0 0 0-13.4-5 1 1 0 0 0-1 .6s-.6 1.2-.8 2.7a39.5 39.5 0 0 0-10.4 0c-.2-1.5-.8-2.7-.8-2.7a1 1 0 0 0-1-.6c-.4 0-8.3 1-13.2 5A54.7 54.7 0 0 0 4 44.5c3.5 6 13.6 8.4 15.9 8.5.3 0 .6-.1.8-.4l3.5-4.3a39.6 39.6 0 0 0 15.4 0l3.5 4.3c.2.3.5.4.8.4 2.3 0 12.4-2.5 15.9-8.5l.1-.5c0-11.9-5.1-25.7-7.7-28zm-7.8 35-2.6-3.2c5.6-1.5 8.6-3.9 8.7-4a1 1 0 0 0-1.2-1.6S43.4 47 32 47a29.3 29.3 0 0 1-17.4-4.8 1 1 0 1 0-1.2 1.6c.1.1 3 2.5 8.7 4L19.6 51c-3-.4-10.8-2.7-13.6-7.3a55 55 0 0 1 7-26.2c3.5-2.9 9.3-4 11.3-4.4l.4 1.6a26 26 0 0 0-9.2 3.5 1 1 0 1 0 1 1.6C22 16.5 28.5 16 32 16a30.6 30.6 0 0 1 16 4 1 1 0 0 0 .5-1.8c-3-2-6.4-3-9.4-3.6 0-.6.2-1.1.3-1.5 2.1.3 8 1.5 11.6 4.4 2 1.8 7 14.9 7 26.2-2.8 4.6-10.6 7-13.5 7.3z\"></path><path d=\"M24 30a4 4.5 0 1 0 0 9 4 4.5 0 1 0 0-9Z\"></path></svg><p class=\"mb-2 text-2xl font-semibold tracking-tight sm:text-[26px]\">Connect on Discord</p></dt><dd class=\"leading-relaxed text-gray-600\">Find developers, mentors, and new friends. Attend exclusive events organized by codedamn and have fun while growing your skills.</dd></div><div class=\"flex items-start justify-center gap-8\"><div class=\"relative mx-auto flex w-full max-w-sm cursor-pointer items-center justify-center rounded-md px-5 py-3 font-semibold text-white sm:px-4 sm:py-3 sm:text-base lg:max-w-none lg:rounded-lg xl:px-7 xl:py-3.5 xl:text-lg\"><div class=\"absolute inset-0 z-0 h-full w-full rounded-lg bg-gradient-to-r from-success-600 to-success-400\" style=\"box-shadow:0 0 10px 2px #84cc1680\"></div><span class=\"relative z-10\">Begin your coding journey →</span></div></div></dl><div class=\"relative -mb-[50%] mt-16 aspect-1 w-full overflow-hidden lg:absolute lg:bottom-[unset] lg:left-[460px] lg:right-auto lg:-mt-8 lg:mb-0 lg:h-[1100px] lg:w-[1100px] lg:translate-x-0 lg:[mask-image:linear-gradient(to_bottom,white_20%,transparent_75%)]\"><div class=\"relative left-1/2 top-0 flex h-full w-full -translate-x-1/2 items-end justify-center\"><div class=\"absolute left-0 top-0 z-0 h-full w-full animate-[fade-in_1s_ease-out_forwards] opacity-0 lg:-mt-4\"><canvas style=\"height:100%;width:100%;aspect-ratio:1;contain:layout paint size;cursor:grab;overflow:clip;overflow-clip-margin:context-box\"></canvas></div></div></div></div><div class=\"relative z-10 border border-b-0 border-gray-100 bg-gray-50 bg-opacity-80 bg-clip-padding py-12 sm:py-8\"><dl class=\"mx-auto grid max-w-screen-2xl gap-12 text-center uppercase sm:grid-cols-4 sm:gap-0\"><div class=\"flex flex-col sm:border-r\"><dt class=\"order-2 mt-2 text-sm font-bold leading-6 tracking-wider text-gray-600\">Developers</dt><dd class=\"order-1 text-6xl font-extrabold sm:text-4xl lg:text-5xl\">260k<!-- -->+</dd></div><div class=\"flex flex-col sm:border-r\"><dt class=\"order-2 mt-2 text-sm font-bold leading-6 tracking-wider text-gray-600\">Playgrounds booted</dt><dd class=\"order-1 text-6xl font-extrabold sm:text-4xl lg:text-5xl\">1.4M<!-- -->+</dd></div><div class=\"flex flex-col sm:border-r\"><dt class=\"order-2 mt-2 text-sm font-bold leading-6 tracking-wider text-gray-600\">Doubts solved by jarvis</dt><dd class=\"order-1 text-6xl font-extrabold sm:text-4xl lg:text-5xl\">252k<!-- -->+</dd></div><div class=\"flex flex-col\"><dt class=\"order-2 mt-2 text-sm font-bold leading-6 tracking-wider text-gray-600\">Hours of learning</dt><dd class=\"order-1 text-6xl font-extrabold sm:text-4xl lg:text-5xl\">100K<!-- -->+</dd></div></dl></div></div></section><section><div class=\"relative z-10 md:px-6\"><svg class=\"absolute inset-0 z-0 h-full w-full stroke-gray-200 [mask-image:radial-gradient(transparent,white)] md:[mask-image:radial-gradient(white,transparent)]\"><rect width=\"100%\" height=\"100%\" fill=\"url(#grid-3)\"></rect><defs><pattern id=\"grid-3\" width=\"50\" height=\"50\" x=\"50%\" y=\"-1\" patternUnits=\"userSpaceOnUse\"><path fill=\"none\" d=\"M.5 200V.5H200\"></path></pattern></defs></svg><svg stroke=\"currentColor\" fill=\"currentColor\" stroke-width=\"0\" viewBox=\"0 0 16 16\" class=\"absolute left-2 top-1/2 z-20 h-9 w-9 -translate-y-1/2 text-gray-700 hover:text-gray-800 md:hidden \" height=\"1em\" width=\"1em\" xmlns=\"http://www.w3.org/2000/svg\"><path d=\"M8 0a8 8 0 1 0 0 16A8 8 0 0 0 8 0zm3.5 7.5a.5.5 0 0 1 0 1H5.707l2.147 2.146a.5.5 0 0 1-.708.708l-3-3a.5.5 0 0 1 0-.708l3-3a.5.5 0 1 1 .708.708L5.707 7.5H11.5z\"></path></svg><svg stroke=\"currentColor\" fill=\"currentColor\" stroke-width=\"0\" viewBox=\"0 0 16 16\" class=\"absolute right-2 top-1/2 z-20 h-9 w-9 -translate-y-1/2 text-gray-700 hover:text-gray-800 md:hidden \" height=\"1em\" width=\"1em\" xmlns=\"http://www.w3.org/2000/svg\"><path d=\"M8 0a8 8 0 1 1 0 16A8 8 0 0 1 8 0zM4.5 7.5a.5.5 0 0 0 0 1h5.793l-2.147 2.146a.5.5 0 0 0 .708.708l3-3a.5.5 0 0 0 0-.708l-3-3a.5.5 0 1 0-.708.708L10.293 7.5H4.5z\"></path></svg><div id=\"testimonials-container\" class=\"relative z-10 mx-auto flex w-full max-w-screen-2xl snap-x snap-mandatory overflow-x-scroll py-20 md:block md:columns-2 lg:columns-3\"><div class=\"flex\"><figure class=\"mx-[5vw] mb-4 flex min-w-[90vw] snap-center flex-col justify-between rounded-xl border border-gray-100 bg-white p-6 shadow-xl shadow-gray-900/10 md:mx-0 md:inline-block md:min-w-fit\"><blockquote class=\"relative text-gray-900\"><div class=\"flex\"><svg viewBox=\"0 0 20 20\" aria-hidden=\"true\" class=\"h-6 w-6 fill-warning-400\"><path d=\"M9.049 2.927c.3-.921 1.603-.921 1.902 0l1.07 3.292a1 1 0 00.95.69h3.462c.969 0 1.371 1.24.588 1.81l-2.8 2.034a1 1 0 00-.364 1.118l1.07 3.292c.3.921-.755 1.688-1.54 1.118l-2.8-2.034a1 1 0 00-1.175 0l-2.8 2.034c-.784.57-1.838-.197-1.539-1.118l1.07-3.292a1 1 0 00-.364-1.118L2.98 8.72c-.783-.57-.38-1.81.588-1.81h3.461a1 1 0 00.951-.69l1.07-3.292z\"></path></svg><svg viewBox=\"0 0 20 20\" aria-hidden=\"true\" class=\"h-6 w-6 fill-warning-400\"><path d=\"M9.049 2.927c.3-.921 1.603-.921 1.902 0l1.07 3.292a1 1 0 00.95.69h3.462c.969 0 1.371 1.24.588 1.81l-2.8 2.034a1 1 0 00-.364 1.118l1.07 3.292c.3.921-.755 1.688-1.54 1.118l-2.8-2.034a1 1 0 00-1.175 0l-2.8 2.034c-.784.57-1.838-.197-1.539-1.118l1.07-3.292a1 1 0 00-.364-1.118L2.98 8.72c-.783-.57-.38-1.81.588-1.81h3.461a1 1 0 00.951-.69l1.07-3.292z\"></path></svg><svg viewBox=\"0 0 20 20\" aria-hidden=\"true\" class=\"h-6 w-6 fill-warning-400\"><path d=\"M9.049 2.927c.3-.921 1.603-.921 1.902 0l1.07 3.292a1 1 0 00.95.69h3.462c.969 0 1.371 1.24.588 1.81l-2.8 2.034a1 1 0 00-.364 1.118l1.07 3.292c.3.921-.755 1.688-1.54 1.118l-2.8-2.034a1 1 0 00-1.175 0l-2.8 2.034c-.784.57-1.838-.197-1.539-1.118l1.07-3.292a1 1 0 00-.364-1.118L2.98 8.72c-.783-.57-.38-1.81.588-1.81h3.461a1 1 0 00.951-.69l1.07-3.292z\"></path></svg><svg viewBox=\"0 0 20 20\" aria-hidden=\"true\" class=\"h-6 w-6 fill-warning-400\"><path d=\"M9.049 2.927c.3-.921 1.603-.921 1.902 0l1.07 3.292a1 1 0 00.95.69h3.462c.969 0 1.371 1.24.588 1.81l-2.8 2.034a1 1 0 00-.364 1.118l1.07 3.292c.3.921-.755 1.688-1.54 1.118l-2.8-2.034a1 1 0 00-1.175 0l-2.8 2.034c-.784.57-1.838-.197-1.539-1.118l1.07-3.292a1 1 0 00-.364-1.118L2.98 8.72c-.783-.57-.38-1.81.588-1.81h3.461a1 1 0 00.951-.69l1.07-3.292z\"></path></svg><svg viewBox=\"0 0 20 20\" aria-hidden=\"true\" class=\"h-6 w-6 fill-warning-400\"><path d=\"M9.049 2.927c.3-.921 1.603-.921 1.902 0l1.07 3.292a1 1 0 00.95.69h3.462c.969 0 1.371 1.24.588 1.81l-2.8 2.034a1 1 0 00-.364 1.118l1.07 3.292c.3.921-.755 1.688-1.54 1.118l-2.8-2.034a1 1 0 00-1.175 0l-2.8 2.034c-.784.57-1.838-.197-1.539-1.118l1.07-3.292a1 1 0 00-.364-1.118L2.98 8.72c-.783-.57-.38-1.81.588-1.81h3.461a1 1 0 00.951-.69l1.07-3.292z\"></path></svg></div><p class=\"relative py-5 leading-7 xl:text-lg\"><q>I have seen so many courses but finding course that gives lecture + playground to code is difficult to find. But codedamn is totally amazing in this perspective even quality of content is unmatchable and helped me many times in understanding concepts in depth</q></p></blockquote><figcaption class=\"border-t border-gray-400/20 pt-5 text-sm text-gray-600\"><div class=\"flex items-center justify-between\"><div class=\"ml-3\"><p class=\"font-semibold text-gray-700 group-hover:text-gray-900 xl:text-lg\">Ashish Kumar</p><p class=\"text-xs font-medium text-gray-500 group-hover:text-gray-600 xl:text-sm\">Software Engineer</p></div><div><img alt=\"Profile picture of Ashish Kumar\" loading=\"lazy\" width=\"36\" height=\"36\" decoding=\"async\" data-nimg=\"1\" class=\"inline-block h-9 w-9 rounded-full xl:h-11 xl:w-11\" style=\"color:transparent\" srcSet=\"https://wsrv.nl/?url=https%3A%2F%2Fpbs.twimg.com%2Fprofile_images%2F1470303070122754050%2FzO2SevAz_400x400.jpg&amp;w=72&amp;q=70&amp;output=webp 1x, https://wsrv.nl/?url=https%3A%2F%2Fpbs.twimg.com%2Fprofile_images%2F1470303070122754050%2FzO2SevAz_400x400.jpg&amp;w=72&amp;q=70&amp;output=webp 2x\" src=\"https://wsrv.nl/?url=https%3A%2F%2Fpbs.twimg.com%2Fprofile_images%2F1470303070122754050%2FzO2SevAz_400x400.jpg&amp;w=72&amp;q=70&amp;output=webp\"/></div></div></figcaption></figure></div><figure class=\"mx-[5vw] mb-4 flex min-w-[90vw] snap-center flex-col justify-between rounded-xl border border-gray-100 bg-white p-6 shadow-xl shadow-gray-900/10 md:mx-0 md:inline-block md:min-w-fit\"><blockquote class=\"relative text-gray-900\"><div class=\"flex\"><svg viewBox=\"0 0 20 20\" aria-hidden=\"true\" class=\"h-6 w-6 fill-warning-400\"><path d=\"M9.049 2.927c.3-.921 1.603-.921 1.902 0l1.07 3.292a1 1 0 00.95.69h3.462c.969 0 1.371 1.24.588 1.81l-2.8 2.034a1 1 0 00-.364 1.118l1.07 3.292c.3.921-.755 1.688-1.54 1.118l-2.8-2.034a1 1 0 00-1.175 0l-2.8 2.034c-.784.57-1.838-.197-1.539-1.118l1.07-3.292a1 1 0 00-.364-1.118L2.98 8.72c-.783-.57-.38-1.81.588-1.81h3.461a1 1 0 00.951-.69l1.07-3.292z\"></path></svg><svg viewBox=\"0 0 20 20\" aria-hidden=\"true\" class=\"h-6 w-6 fill-warning-400\"><path d=\"M9.049 2.927c.3-.921 1.603-.921 1.902 0l1.07 3.292a1 1 0 00.95.69h3.462c.969 0 1.371 1.24.588 1.81l-2.8 2.034a1 1 0 00-.364 1.118l1.07 3.292c.3.921-.755 1.688-1.54 1.118l-2.8-2.034a1 1 0 00-1.175 0l-2.8 2.034c-.784.57-1.838-.197-1.539-1.118l1.07-3.292a1 1 0 00-.364-1.118L2.98 8.72c-.783-.57-.38-1.81.588-1.81h3.461a1 1 0 00.951-.69l1.07-3.292z\"></path></svg><svg viewBox=\"0 0 20 20\" aria-hidden=\"true\" class=\"h-6 w-6 fill-warning-400\"><path d=\"M9.049 2.927c.3-.921 1.603-.921 1.902 0l1.07 3.292a1 1 0 00.95.69h3.462c.969 0 1.371 1.24.588 1.81l-2.8 2.034a1 1 0 00-.364 1.118l1.07 3.292c.3.921-.755 1.688-1.54 1.118l-2.8-2.034a1 1 0 00-1.175 0l-2.8 2.034c-.784.57-1.838-.197-1.539-1.118l1.07-3.292a1 1 0 00-.364-1.118L2.98 8.72c-.783-.57-.38-1.81.588-1.81h3.461a1 1 0 00.951-.69l1.07-3.292z\"></path></svg><svg viewBox=\"0 0 20 20\" aria-hidden=\"true\" class=\"h-6 w-6 fill-warning-400\"><path d=\"M9.049 2.927c.3-.921 1.603-.921 1.902 0l1.07 3.292a1 1 0 00.95.69h3.462c.969 0 1.371 1.24.588 1.81l-2.8 2.034a1 1 0 00-.364 1.118l1.07 3.292c.3.921-.755 1.688-1.54 1.118l-2.8-2.034a1 1 0 00-1.175 0l-2.8 2.034c-.784.57-1.838-.197-1.539-1.118l1.07-3.292a1 1 0 00-.364-1.118L2.98 8.72c-.783-.57-.38-1.81.588-1.81h3.461a1 1 0 00.951-.69l1.07-3.292z\"></path></svg><svg viewBox=\"0 0 20 20\" aria-hidden=\"true\" class=\"h-6 w-6 fill-warning-400\"><path d=\"M9.049 2.927c.3-.921 1.603-.921 1.902 0l1.07 3.292a1 1 0 00.95.69h3.462c.969 0 1.371 1.24.588 1.81l-2.8 2.034a1 1 0 00-.364 1.118l1.07 3.292c.3.921-.755 1.688-1.54 1.118l-2.8-2.034a1 1 0 00-1.175 0l-2.8 2.034c-.784.57-1.838-.197-1.539-1.118l1.07-3.292a1 1 0 00-.364-1.118L2.98 8.72c-.783-.57-.38-1.81.588-1.81h3.461a1 1 0 00.951-.69l1.07-3.292z\"></path></svg></div><p class=\"relative py-5 leading-7 xl:text-lg\"><q>Codedamn is building a killer ecosystem. Really amazed to see what they have brought in the last 6 months 🤯</q></p></blockquote><figcaption class=\"border-t border-gray-400/20 pt-5 text-sm text-gray-600\"><div class=\"flex items-center justify-between\"><div class=\"ml-3\"><p class=\"font-semibold text-gray-700 group-hover:text-gray-900 xl:text-lg\">Riten Debnath</p><p class=\"text-xs font-medium text-gray-500 group-hover:text-gray-600 xl:text-sm\">Founder &amp; CEO @Fueler</p></div><div><img alt=\"Profile picture of Riten Debnath\" loading=\"lazy\" width=\"36\" height=\"36\" decoding=\"async\" data-nimg=\"1\" class=\"inline-block h-9 w-9 rounded-full xl:h-11 xl:w-11\" style=\"color:transparent\" srcSet=\"https://wsrv.nl/?url=https%3A%2F%2Ffueler.io%2Fstorage%2Fusers%2Favatar%2Fritendnavatar1625944320.png&amp;w=72&amp;q=70&amp;output=webp 1x, https://wsrv.nl/?url=https%3A%2F%2Ffueler.io%2Fstorage%2Fusers%2Favatar%2Fritendnavatar1625944320.png&amp;w=72&amp;q=70&amp;output=webp 2x\" src=\"https://wsrv.nl/?url=https%3A%2F%2Ffueler.io%2Fstorage%2Fusers%2Favatar%2Fritendnavatar1625944320.png&amp;w=72&amp;q=70&amp;output=webp\"/></div></div></figcaption></figure><figure class=\"mx-[5vw] mb-4 flex min-w-[90vw] snap-center flex-col justify-between rounded-xl border border-gray-100 bg-white p-6 shadow-xl shadow-gray-900/10 md:mx-0 md:inline-block md:min-w-fit\"><blockquote class=\"relative text-gray-900\"><div class=\"flex\"><svg viewBox=\"0 0 20 20\" aria-hidden=\"true\" class=\"h-6 w-6 fill-warning-400\"><path d=\"M9.049 2.927c.3-.921 1.603-.921 1.902 0l1.07 3.292a1 1 0 00.95.69h3.462c.969 0 1.371 1.24.588 1.81l-2.8 2.034a1 1 0 00-.364 1.118l1.07 3.292c.3.921-.755 1.688-1.54 1.118l-2.8-2.034a1 1 0 00-1.175 0l-2.8 2.034c-.784.57-1.838-.197-1.539-1.118l1.07-3.292a1 1 0 00-.364-1.118L2.98 8.72c-.783-.57-.38-1.81.588-1.81h3.461a1 1 0 00.951-.69l1.07-3.292z\"></path></svg><svg viewBox=\"0 0 20 20\" aria-hidden=\"true\" class=\"h-6 w-6 fill-warning-400\"><path d=\"M9.049 2.927c.3-.921 1.603-.921 1.902 0l1.07 3.292a1 1 0 00.95.69h3.462c.969 0 1.371 1.24.588 1.81l-2.8 2.034a1 1 0 00-.364 1.118l1.07 3.292c.3.921-.755 1.688-1.54 1.118l-2.8-2.034a1 1 0 00-1.175 0l-2.8 2.034c-.784.57-1.838-.197-1.539-1.118l1.07-3.292a1 1 0 00-.364-1.118L2.98 8.72c-.783-.57-.38-1.81.588-1.81h3.461a1 1 0 00.951-.69l1.07-3.292z\"></path></svg><svg viewBox=\"0 0 20 20\" aria-hidden=\"true\" class=\"h-6 w-6 fill-warning-400\"><path d=\"M9.049 2.927c.3-.921 1.603-.921 1.902 0l1.07 3.292a1 1 0 00.95.69h3.462c.969 0 1.371 1.24.588 1.81l-2.8 2.034a1 1 0 00-.364 1.118l1.07 3.292c.3.921-.755 1.688-1.54 1.118l-2.8-2.034a1 1 0 00-1.175 0l-2.8 2.034c-.784.57-1.838-.197-1.539-1.118l1.07-3.292a1 1 0 00-.364-1.118L2.98 8.72c-.783-.57-.38-1.81.588-1.81h3.461a1 1 0 00.951-.69l1.07-3.292z\"></path></svg><svg viewBox=\"0 0 20 20\" aria-hidden=\"true\" class=\"h-6 w-6 fill-warning-400\"><path d=\"M9.049 2.927c.3-.921 1.603-.921 1.902 0l1.07 3.292a1 1 0 00.95.69h3.462c.969 0 1.371 1.24.588 1.81l-2.8 2.034a1 1 0 00-.364 1.118l1.07 3.292c.3.921-.755 1.688-1.54 1.118l-2.8-2.034a1 1 0 00-1.175 0l-2.8 2.034c-.784.57-1.838-.197-1.539-1.118l1.07-3.292a1 1 0 00-.364-1.118L2.98 8.72c-.783-.57-.38-1.81.588-1.81h3.461a1 1 0 00.951-.69l1.07-3.292z\"></path></svg><svg viewBox=\"0 0 20 20\" aria-hidden=\"true\" class=\"h-6 w-6 fill-warning-400\"><path d=\"M9.049 2.927c.3-.921 1.603-.921 1.902 0l1.07 3.292a1 1 0 00.95.69h3.462c.969 0 1.371 1.24.588 1.81l-2.8 2.034a1 1 0 00-.364 1.118l1.07 3.292c.3.921-.755 1.688-1.54 1.118l-2.8-2.034a1 1 0 00-1.175 0l-2.8 2.034c-.784.57-1.838-.197-1.539-1.118l1.07-3.292a1 1 0 00-.364-1.118L2.98 8.72c-.783-.57-.38-1.81.588-1.81h3.461a1 1 0 00.951-.69l1.07-3.292z\"></path></svg></div><p class=\"relative py-5 leading-7 xl:text-lg\"><q>I enrolled in the Solidity course and honestly, it is extremely good! The speaker is well versed in Solidity and the environment that codedamn provides for learning and interaction is very impressive✨</q></p></blockquote><figcaption class=\"border-t border-gray-400/20 pt-5 text-sm text-gray-600\"><div class=\"flex items-center justify-between\"><div class=\"ml-3\"><p class=\"font-semibold text-gray-700 group-hover:text-gray-900 xl:text-lg\">Tanishka Borkar</p><p class=\"text-xs font-medium text-gray-500 group-hover:text-gray-600 xl:text-sm\">University Student, KJSIEIT</p></div><div><img alt=\"Profile picture of Tanishka Borkar\" loading=\"lazy\" width=\"36\" height=\"36\" decoding=\"async\" data-nimg=\"1\" class=\"inline-block h-9 w-9 rounded-full xl:h-11 xl:w-11\" style=\"color:transparent\" srcSet=\"https://wsrv.nl/?url=https%3A%2F%2Fpbs.twimg.com%2Fprofile_images%2F1553250475083829249%2FynLCnzey_400x400.jpg&amp;w=72&amp;q=70&amp;output=webp 1x, https://wsrv.nl/?url=https%3A%2F%2Fpbs.twimg.com%2Fprofile_images%2F1553250475083829249%2FynLCnzey_400x400.jpg&amp;w=72&amp;q=70&amp;output=webp 2x\" src=\"https://wsrv.nl/?url=https%3A%2F%2Fpbs.twimg.com%2Fprofile_images%2F1553250475083829249%2FynLCnzey_400x400.jpg&amp;w=72&amp;q=70&amp;output=webp\"/></div></div></figcaption></figure><figure class=\"mx-[5vw] mb-4 flex min-w-[90vw] snap-center flex-col justify-between rounded-xl border border-gray-100 bg-white p-6 shadow-xl shadow-gray-900/10 md:mx-0 md:inline-block md:min-w-fit\"><blockquote class=\"relative text-gray-900\"><div class=\"flex\"><svg viewBox=\"0 0 20 20\" aria-hidden=\"true\" class=\"h-6 w-6 fill-warning-400\"><path d=\"M9.049 2.927c.3-.921 1.603-.921 1.902 0l1.07 3.292a1 1 0 00.95.69h3.462c.969 0 1.371 1.24.588 1.81l-2.8 2.034a1 1 0 00-.364 1.118l1.07 3.292c.3.921-.755 1.688-1.54 1.118l-2.8-2.034a1 1 0 00-1.175 0l-2.8 2.034c-.784.57-1.838-.197-1.539-1.118l1.07-3.292a1 1 0 00-.364-1.118L2.98 8.72c-.783-.57-.38-1.81.588-1.81h3.461a1 1 0 00.951-.69l1.07-3.292z\"></path></svg><svg viewBox=\"0 0 20 20\" aria-hidden=\"true\" class=\"h-6 w-6 fill-warning-400\"><path d=\"M9.049 2.927c.3-.921 1.603-.921 1.902 0l1.07 3.292a1 1 0 00.95.69h3.462c.969 0 1.371 1.24.588 1.81l-2.8 2.034a1 1 0 00-.364 1.118l1.07 3.292c.3.921-.755 1.688-1.54 1.118l-2.8-2.034a1 1 0 00-1.175 0l-2.8 2.034c-.784.57-1.838-.197-1.539-1.118l1.07-3.292a1 1 0 00-.364-1.118L2.98 8.72c-.783-.57-.38-1.81.588-1.81h3.461a1 1 0 00.951-.69l1.07-3.292z\"></path></svg><svg viewBox=\"0 0 20 20\" aria-hidden=\"true\" class=\"h-6 w-6 fill-warning-400\"><path d=\"M9.049 2.927c.3-.921 1.603-.921 1.902 0l1.07 3.292a1 1 0 00.95.69h3.462c.969 0 1.371 1.24.588 1.81l-2.8 2.034a1 1 0 00-.364 1.118l1.07 3.292c.3.921-.755 1.688-1.54 1.118l-2.8-2.034a1 1 0 00-1.175 0l-2.8 2.034c-.784.57-1.838-.197-1.539-1.118l1.07-3.292a1 1 0 00-.364-1.118L2.98 8.72c-.783-.57-.38-1.81.588-1.81h3.461a1 1 0 00.951-.69l1.07-3.292z\"></path></svg><svg viewBox=\"0 0 20 20\" aria-hidden=\"true\" class=\"h-6 w-6 fill-warning-400\"><path d=\"M9.049 2.927c.3-.921 1.603-.921 1.902 0l1.07 3.292a1 1 0 00.95.69h3.462c.969 0 1.371 1.24.588 1.81l-2.8 2.034a1 1 0 00-.364 1.118l1.07 3.292c.3.921-.755 1.688-1.54 1.118l-2.8-2.034a1 1 0 00-1.175 0l-2.8 2.034c-.784.57-1.838-.197-1.539-1.118l1.07-3.292a1 1 0 00-.364-1.118L2.98 8.72c-.783-.57-.38-1.81.588-1.81h3.461a1 1 0 00.951-.69l1.07-3.292z\"></path></svg><svg viewBox=\"0 0 20 20\" aria-hidden=\"true\" class=\"h-6 w-6 fill-warning-400\"><path d=\"M9.049 2.927c.3-.921 1.603-.921 1.902 0l1.07 3.292a1 1 0 00.95.69h3.462c.969 0 1.371 1.24.588 1.81l-2.8 2.034a1 1 0 00-.364 1.118l1.07 3.292c.3.921-.755 1.688-1.54 1.118l-2.8-2.034a1 1 0 00-1.175 0l-2.8 2.034c-.784.57-1.838-.197-1.539-1.118l1.07-3.292a1 1 0 00-.364-1.118L2.98 8.72c-.783-.57-.38-1.81.588-1.81h3.461a1 1 0 00.951-.69l1.07-3.292z\"></path></svg></div><p class=\"relative py-5 leading-7 xl:text-lg\"><q>Day by Day, codedamn is turning me into a Front-End Superman 🦸‍♂️</q></p></blockquote><figcaption class=\"border-t border-gray-400/20 pt-5 text-sm text-gray-600\"><div class=\"flex items-center justify-between\"><div class=\"ml-3\"><p class=\"font-semibold text-gray-700 group-hover:text-gray-900 xl:text-lg\">Manuraj Shukla</p><p class=\"text-xs font-medium text-gray-500 group-hover:text-gray-600 xl:text-sm\">Frontend developer @buildoor</p></div><div><img alt=\"Profile picture of Manuraj Shukla\" loading=\"lazy\" width=\"36\" height=\"36\" decoding=\"async\" data-nimg=\"1\" class=\"inline-block h-9 w-9 rounded-full xl:h-11 xl:w-11\" style=\"color:transparent\" srcSet=\"https://wsrv.nl/?url=https%3A%2F%2Ffueler.io%2Fstorage%2Fusers%2Favatar%2Fmanuraj1107avatar1661707625.png&amp;w=72&amp;q=70&amp;output=webp 1x, https://wsrv.nl/?url=https%3A%2F%2Ffueler.io%2Fstorage%2Fusers%2Favatar%2Fmanuraj1107avatar1661707625.png&amp;w=72&amp;q=70&amp;output=webp 2x\" src=\"https://wsrv.nl/?url=https%3A%2F%2Ffueler.io%2Fstorage%2Fusers%2Favatar%2Fmanuraj1107avatar1661707625.png&amp;w=72&amp;q=70&amp;output=webp\"/></div></div></figcaption></figure><figure class=\"mx-[5vw] mb-4 flex min-w-[90vw] snap-center flex-col justify-between rounded-xl border border-gray-100 bg-white p-6 shadow-xl shadow-gray-900/10 md:mx-0 md:inline-block md:min-w-fit\"><blockquote class=\"relative text-gray-900\"><div class=\"flex\"><svg viewBox=\"0 0 20 20\" aria-hidden=\"true\" class=\"h-6 w-6 fill-warning-400\"><path d=\"M9.049 2.927c.3-.921 1.603-.921 1.902 0l1.07 3.292a1 1 0 00.95.69h3.462c.969 0 1.371 1.24.588 1.81l-2.8 2.034a1 1 0 00-.364 1.118l1.07 3.292c.3.921-.755 1.688-1.54 1.118l-2.8-2.034a1 1 0 00-1.175 0l-2.8 2.034c-.784.57-1.838-.197-1.539-1.118l1.07-3.292a1 1 0 00-.364-1.118L2.98 8.72c-.783-.57-.38-1.81.588-1.81h3.461a1 1 0 00.951-.69l1.07-3.292z\"></path></svg><svg viewBox=\"0 0 20 20\" aria-hidden=\"true\" class=\"h-6 w-6 fill-warning-400\"><path d=\"M9.049 2.927c.3-.921 1.603-.921 1.902 0l1.07 3.292a1 1 0 00.95.69h3.462c.969 0 1.371 1.24.588 1.81l-2.8 2.034a1 1 0 00-.364 1.118l1.07 3.292c.3.921-.755 1.688-1.54 1.118l-2.8-2.034a1 1 0 00-1.175 0l-2.8 2.034c-.784.57-1.838-.197-1.539-1.118l1.07-3.292a1 1 0 00-.364-1.118L2.98 8.72c-.783-.57-.38-1.81.588-1.81h3.461a1 1 0 00.951-.69l1.07-3.292z\"></path></svg><svg viewBox=\"0 0 20 20\" aria-hidden=\"true\" class=\"h-6 w-6 fill-warning-400\"><path d=\"M9.049 2.927c.3-.921 1.603-.921 1.902 0l1.07 3.292a1 1 0 00.95.69h3.462c.969 0 1.371 1.24.588 1.81l-2.8 2.034a1 1 0 00-.364 1.118l1.07 3.292c.3.921-.755 1.688-1.54 1.118l-2.8-2.034a1 1 0 00-1.175 0l-2.8 2.034c-.784.57-1.838-.197-1.539-1.118l1.07-3.292a1 1 0 00-.364-1.118L2.98 8.72c-.783-.57-.38-1.81.588-1.81h3.461a1 1 0 00.951-.69l1.07-3.292z\"></path></svg><svg viewBox=\"0 0 20 20\" aria-hidden=\"true\" class=\"h-6 w-6 fill-warning-400\"><path d=\"M9.049 2.927c.3-.921 1.603-.921 1.902 0l1.07 3.292a1 1 0 00.95.69h3.462c.969 0 1.371 1.24.588 1.81l-2.8 2.034a1 1 0 00-.364 1.118l1.07 3.292c.3.921-.755 1.688-1.54 1.118l-2.8-2.034a1 1 0 00-1.175 0l-2.8 2.034c-.784.57-1.838-.197-1.539-1.118l1.07-3.292a1 1 0 00-.364-1.118L2.98 8.72c-.783-.57-.38-1.81.588-1.81h3.461a1 1 0 00.951-.69l1.07-3.292z\"></path></svg><svg viewBox=\"0 0 20 20\" aria-hidden=\"true\" class=\"h-6 w-6 fill-warning-400\"><path d=\"M9.049 2.927c.3-.921 1.603-.921 1.902 0l1.07 3.292a1 1 0 00.95.69h3.462c.969 0 1.371 1.24.588 1.81l-2.8 2.034a1 1 0 00-.364 1.118l1.07 3.292c.3.921-.755 1.688-1.54 1.118l-2.8-2.034a1 1 0 00-1.175 0l-2.8 2.034c-.784.57-1.838-.197-1.539-1.118l1.07-3.292a1 1 0 00-.364-1.118L2.98 8.72c-.783-.57-.38-1.81.588-1.81h3.461a1 1 0 00.951-.69l1.07-3.292z\"></path></svg></div><p class=\"relative py-5 leading-7 xl:text-lg\"><q>Codedamn is a super slick platform that teaches in demand tech stacks. It&#x27;s great to start with because the practice exercises and tasks are completed in the browser in a super cool IDE👾</q></p></blockquote><figcaption class=\"border-t border-gray-400/20 pt-5 text-sm text-gray-600\"><div class=\"flex items-center justify-between\"><div class=\"ml-3\"><p class=\"font-semibold text-gray-700 group-hover:text-gray-900 xl:text-lg\">Jess Klette</p><p class=\"text-xs font-medium text-gray-500 group-hover:text-gray-600 xl:text-sm\">Software Engineer</p></div><div><img alt=\"Profile picture of Jess Klette\" loading=\"lazy\" width=\"36\" height=\"36\" decoding=\"async\" data-nimg=\"1\" class=\"inline-block h-9 w-9 rounded-full xl:h-11 xl:w-11\" style=\"color:transparent\" srcSet=\"https://wsrv.nl/?url=https%3A%2F%2Fpbs.twimg.com%2Fprofile_images%2F1534639743727812615%2Fs4cz-sTk_400x400.jpg&amp;w=72&amp;q=70&amp;output=webp 1x, https://wsrv.nl/?url=https%3A%2F%2Fpbs.twimg.com%2Fprofile_images%2F1534639743727812615%2Fs4cz-sTk_400x400.jpg&amp;w=72&amp;q=70&amp;output=webp 2x\" src=\"https://wsrv.nl/?url=https%3A%2F%2Fpbs.twimg.com%2Fprofile_images%2F1534639743727812615%2Fs4cz-sTk_400x400.jpg&amp;w=72&amp;q=70&amp;output=webp\"/></div></div></figcaption></figure><figure class=\"mx-[5vw] mb-4 flex min-w-[90vw] snap-center flex-col justify-between rounded-xl border border-gray-100 bg-white p-6 shadow-xl shadow-gray-900/10 md:mx-0 md:inline-block md:min-w-fit\"><blockquote class=\"relative text-gray-900\"><div class=\"flex\"><svg viewBox=\"0 0 20 20\" aria-hidden=\"true\" class=\"h-6 w-6 fill-warning-400\"><path d=\"M9.049 2.927c.3-.921 1.603-.921 1.902 0l1.07 3.292a1 1 0 00.95.69h3.462c.969 0 1.371 1.24.588 1.81l-2.8 2.034a1 1 0 00-.364 1.118l1.07 3.292c.3.921-.755 1.688-1.54 1.118l-2.8-2.034a1 1 0 00-1.175 0l-2.8 2.034c-.784.57-1.838-.197-1.539-1.118l1.07-3.292a1 1 0 00-.364-1.118L2.98 8.72c-.783-.57-.38-1.81.588-1.81h3.461a1 1 0 00.951-.69l1.07-3.292z\"></path></svg><svg viewBox=\"0 0 20 20\" aria-hidden=\"true\" class=\"h-6 w-6 fill-warning-400\"><path d=\"M9.049 2.927c.3-.921 1.603-.921 1.902 0l1.07 3.292a1 1 0 00.95.69h3.462c.969 0 1.371 1.24.588 1.81l-2.8 2.034a1 1 0 00-.364 1.118l1.07 3.292c.3.921-.755 1.688-1.54 1.118l-2.8-2.034a1 1 0 00-1.175 0l-2.8 2.034c-.784.57-1.838-.197-1.539-1.118l1.07-3.292a1 1 0 00-.364-1.118L2.98 8.72c-.783-.57-.38-1.81.588-1.81h3.461a1 1 0 00.951-.69l1.07-3.292z\"></path></svg><svg viewBox=\"0 0 20 20\" aria-hidden=\"true\" class=\"h-6 w-6 fill-warning-400\"><path d=\"M9.049 2.927c.3-.921 1.603-.921 1.902 0l1.07 3.292a1 1 0 00.95.69h3.462c.969 0 1.371 1.24.588 1.81l-2.8 2.034a1 1 0 00-.364 1.118l1.07 3.292c.3.921-.755 1.688-1.54 1.118l-2.8-2.034a1 1 0 00-1.175 0l-2.8 2.034c-.784.57-1.838-.197-1.539-1.118l1.07-3.292a1 1 0 00-.364-1.118L2.98 8.72c-.783-.57-.38-1.81.588-1.81h3.461a1 1 0 00.951-.69l1.07-3.292z\"></path></svg><svg viewBox=\"0 0 20 20\" aria-hidden=\"true\" class=\"h-6 w-6 fill-warning-400\"><path d=\"M9.049 2.927c.3-.921 1.603-.921 1.902 0l1.07 3.292a1 1 0 00.95.69h3.462c.969 0 1.371 1.24.588 1.81l-2.8 2.034a1 1 0 00-.364 1.118l1.07 3.292c.3.921-.755 1.688-1.54 1.118l-2.8-2.034a1 1 0 00-1.175 0l-2.8 2.034c-.784.57-1.838-.197-1.539-1.118l1.07-3.292a1 1 0 00-.364-1.118L2.98 8.72c-.783-.57-.38-1.81.588-1.81h3.461a1 1 0 00.951-.69l1.07-3.292z\"></path></svg><svg viewBox=\"0 0 20 20\" aria-hidden=\"true\" class=\"h-6 w-6 fill-warning-400\"><path d=\"M9.049 2.927c.3-.921 1.603-.921 1.902 0l1.07 3.292a1 1 0 00.95.69h3.462c.969 0 1.371 1.24.588 1.81l-2.8 2.034a1 1 0 00-.364 1.118l1.07 3.292c.3.921-.755 1.688-1.54 1.118l-2.8-2.034a1 1 0 00-1.175 0l-2.8 2.034c-.784.57-1.838-.197-1.539-1.118l1.07-3.292a1 1 0 00-.364-1.118L2.98 8.72c-.783-.57-.38-1.81.588-1.81h3.461a1 1 0 00.951-.69l1.07-3.292z\"></path></svg></div><p class=\"relative py-5 leading-7 xl:text-lg\"><q>For my full-stack learning path, I chose codedamn over other options like Masai, Newton, etc. The subscription cost is bare minimum, their inbuilt IDE works great and the support is amazing.</q></p></blockquote><figcaption class=\"border-t border-gray-400/20 pt-5 text-sm text-gray-600\"><div class=\"flex items-center justify-between\"><div class=\"ml-3\"><p class=\"font-semibold text-gray-700 group-hover:text-gray-900 xl:text-lg\">Sandeep Tomar</p><p class=\"text-xs font-medium text-gray-500 group-hover:text-gray-600 xl:text-sm\">Product Manager @K2FocusOnForce</p></div><div><img alt=\"Profile picture of Sandeep Tomar\" loading=\"lazy\" width=\"36\" height=\"36\" decoding=\"async\" data-nimg=\"1\" class=\"inline-block h-9 w-9 rounded-full xl:h-11 xl:w-11\" style=\"color:transparent\" srcSet=\"https://wsrv.nl/?url=https%3A%2F%2Fpbs.twimg.com%2Fprofile_images%2F1497083494346129409%2FHvqJWPEg_400x400.jpg&amp;w=72&amp;q=70&amp;output=webp 1x, https://wsrv.nl/?url=https%3A%2F%2Fpbs.twimg.com%2Fprofile_images%2F1497083494346129409%2FHvqJWPEg_400x400.jpg&amp;w=72&amp;q=70&amp;output=webp 2x\" src=\"https://wsrv.nl/?url=https%3A%2F%2Fpbs.twimg.com%2Fprofile_images%2F1497083494346129409%2FHvqJWPEg_400x400.jpg&amp;w=72&amp;q=70&amp;output=webp\"/></div></div></figcaption></figure><figure class=\"mx-[5vw] mb-4 flex min-w-[90vw] snap-center flex-col justify-between rounded-xl border border-gray-100 bg-white p-6 shadow-xl shadow-gray-900/10 md:mx-0 md:inline-block md:min-w-fit\"><blockquote class=\"relative text-gray-900\"><div class=\"flex\"><svg viewBox=\"0 0 20 20\" aria-hidden=\"true\" class=\"h-6 w-6 fill-warning-400\"><path d=\"M9.049 2.927c.3-.921 1.603-.921 1.902 0l1.07 3.292a1 1 0 00.95.69h3.462c.969 0 1.371 1.24.588 1.81l-2.8 2.034a1 1 0 00-.364 1.118l1.07 3.292c.3.921-.755 1.688-1.54 1.118l-2.8-2.034a1 1 0 00-1.175 0l-2.8 2.034c-.784.57-1.838-.197-1.539-1.118l1.07-3.292a1 1 0 00-.364-1.118L2.98 8.72c-.783-.57-.38-1.81.588-1.81h3.461a1 1 0 00.951-.69l1.07-3.292z\"></path></svg><svg viewBox=\"0 0 20 20\" aria-hidden=\"true\" class=\"h-6 w-6 fill-warning-400\"><path d=\"M9.049 2.927c.3-.921 1.603-.921 1.902 0l1.07 3.292a1 1 0 00.95.69h3.462c.969 0 1.371 1.24.588 1.81l-2.8 2.034a1 1 0 00-.364 1.118l1.07 3.292c.3.921-.755 1.688-1.54 1.118l-2.8-2.034a1 1 0 00-1.175 0l-2.8 2.034c-.784.57-1.838-.197-1.539-1.118l1.07-3.292a1 1 0 00-.364-1.118L2.98 8.72c-.783-.57-.38-1.81.588-1.81h3.461a1 1 0 00.951-.69l1.07-3.292z\"></path></svg><svg viewBox=\"0 0 20 20\" aria-hidden=\"true\" class=\"h-6 w-6 fill-warning-400\"><path d=\"M9.049 2.927c.3-.921 1.603-.921 1.902 0l1.07 3.292a1 1 0 00.95.69h3.462c.969 0 1.371 1.24.588 1.81l-2.8 2.034a1 1 0 00-.364 1.118l1.07 3.292c.3.921-.755 1.688-1.54 1.118l-2.8-2.034a1 1 0 00-1.175 0l-2.8 2.034c-.784.57-1.838-.197-1.539-1.118l1.07-3.292a1 1 0 00-.364-1.118L2.98 8.72c-.783-.57-.38-1.81.588-1.81h3.461a1 1 0 00.951-.69l1.07-3.292z\"></path></svg><svg viewBox=\"0 0 20 20\" aria-hidden=\"true\" class=\"h-6 w-6 fill-warning-400\"><path d=\"M9.049 2.927c.3-.921 1.603-.921 1.902 0l1.07 3.292a1 1 0 00.95.69h3.462c.969 0 1.371 1.24.588 1.81l-2.8 2.034a1 1 0 00-.364 1.118l1.07 3.292c.3.921-.755 1.688-1.54 1.118l-2.8-2.034a1 1 0 00-1.175 0l-2.8 2.034c-.784.57-1.838-.197-1.539-1.118l1.07-3.292a1 1 0 00-.364-1.118L2.98 8.72c-.783-.57-.38-1.81.588-1.81h3.461a1 1 0 00.951-.69l1.07-3.292z\"></path></svg><svg viewBox=\"0 0 20 20\" aria-hidden=\"true\" class=\"h-6 w-6 fill-warning-400\"><path d=\"M9.049 2.927c.3-.921 1.603-.921 1.902 0l1.07 3.292a1 1 0 00.95.69h3.462c.969 0 1.371 1.24.588 1.81l-2.8 2.034a1 1 0 00-.364 1.118l1.07 3.292c.3.921-.755 1.688-1.54 1.118l-2.8-2.034a1 1 0 00-1.175 0l-2.8 2.034c-.784.57-1.838-.197-1.539-1.118l1.07-3.292a1 1 0 00-.364-1.118L2.98 8.72c-.783-.57-.38-1.81.588-1.81h3.461a1 1 0 00.951-.69l1.07-3.292z\"></path></svg></div><p class=\"relative py-5 leading-7 xl:text-lg\"><q>In my experience, codedamn is an extremely effective tool for learning how to code. They provide a structured curriculum as well as many amazing projects. I&#x27;m becoming more productive and better at programming.</q></p></blockquote><figcaption class=\"border-t border-gray-400/20 pt-5 text-sm text-gray-600\"><div class=\"flex items-center justify-between\"><div class=\"ml-3\"><p class=\"font-semibold text-gray-700 group-hover:text-gray-900 xl:text-lg\">Bhumika Chauhan</p><p class=\"text-xs font-medium text-gray-500 group-hover:text-gray-600 xl:text-sm\">University Student, AKTU</p></div><div><img alt=\"Profile picture of Bhumika Chauhan\" loading=\"lazy\" width=\"36\" height=\"36\" decoding=\"async\" data-nimg=\"1\" class=\"inline-block h-9 w-9 rounded-full xl:h-11 xl:w-11\" style=\"color:transparent\" srcSet=\"https://wsrv.nl/?url=https%3A%2F%2Fpbs.twimg.com%2Fprofile_images%2F1560181149347233792%2FW3b164H4_400x400.jpg&amp;w=72&amp;q=70&amp;output=webp 1x, https://wsrv.nl/?url=https%3A%2F%2Fpbs.twimg.com%2Fprofile_images%2F1560181149347233792%2FW3b164H4_400x400.jpg&amp;w=72&amp;q=70&amp;output=webp 2x\" src=\"https://wsrv.nl/?url=https%3A%2F%2Fpbs.twimg.com%2Fprofile_images%2F1560181149347233792%2FW3b164H4_400x400.jpg&amp;w=72&amp;q=70&amp;output=webp\"/></div></div></figcaption></figure><figure class=\"mx-[5vw] mb-4 flex min-w-[90vw] snap-center flex-col justify-between rounded-xl border border-gray-100 bg-white p-6 shadow-xl shadow-gray-900/10 md:mx-0 md:inline-block md:min-w-fit\"><blockquote class=\"relative text-gray-900\"><div class=\"flex\"><svg viewBox=\"0 0 20 20\" aria-hidden=\"true\" class=\"h-6 w-6 fill-warning-400\"><path d=\"M9.049 2.927c.3-.921 1.603-.921 1.902 0l1.07 3.292a1 1 0 00.95.69h3.462c.969 0 1.371 1.24.588 1.81l-2.8 2.034a1 1 0 00-.364 1.118l1.07 3.292c.3.921-.755 1.688-1.54 1.118l-2.8-2.034a1 1 0 00-1.175 0l-2.8 2.034c-.784.57-1.838-.197-1.539-1.118l1.07-3.292a1 1 0 00-.364-1.118L2.98 8.72c-.783-.57-.38-1.81.588-1.81h3.461a1 1 0 00.951-.69l1.07-3.292z\"></path></svg><svg viewBox=\"0 0 20 20\" aria-hidden=\"true\" class=\"h-6 w-6 fill-warning-400\"><path d=\"M9.049 2.927c.3-.921 1.603-.921 1.902 0l1.07 3.292a1 1 0 00.95.69h3.462c.969 0 1.371 1.24.588 1.81l-2.8 2.034a1 1 0 00-.364 1.118l1.07 3.292c.3.921-.755 1.688-1.54 1.118l-2.8-2.034a1 1 0 00-1.175 0l-2.8 2.034c-.784.57-1.838-.197-1.539-1.118l1.07-3.292a1 1 0 00-.364-1.118L2.98 8.72c-.783-.57-.38-1.81.588-1.81h3.461a1 1 0 00.951-.69l1.07-3.292z\"></path></svg><svg viewBox=\"0 0 20 20\" aria-hidden=\"true\" class=\"h-6 w-6 fill-warning-400\"><path d=\"M9.049 2.927c.3-.921 1.603-.921 1.902 0l1.07 3.292a1 1 0 00.95.69h3.462c.969 0 1.371 1.24.588 1.81l-2.8 2.034a1 1 0 00-.364 1.118l1.07 3.292c.3.921-.755 1.688-1.54 1.118l-2.8-2.034a1 1 0 00-1.175 0l-2.8 2.034c-.784.57-1.838-.197-1.539-1.118l1.07-3.292a1 1 0 00-.364-1.118L2.98 8.72c-.783-.57-.38-1.81.588-1.81h3.461a1 1 0 00.951-.69l1.07-3.292z\"></path></svg><svg viewBox=\"0 0 20 20\" aria-hidden=\"true\" class=\"h-6 w-6 fill-warning-400\"><path d=\"M9.049 2.927c.3-.921 1.603-.921 1.902 0l1.07 3.292a1 1 0 00.95.69h3.462c.969 0 1.371 1.24.588 1.81l-2.8 2.034a1 1 0 00-.364 1.118l1.07 3.292c.3.921-.755 1.688-1.54 1.118l-2.8-2.034a1 1 0 00-1.175 0l-2.8 2.034c-.784.57-1.838-.197-1.539-1.118l1.07-3.292a1 1 0 00-.364-1.118L2.98 8.72c-.783-.57-.38-1.81.588-1.81h3.461a1 1 0 00.951-.69l1.07-3.292z\"></path></svg><svg viewBox=\"0 0 20 20\" aria-hidden=\"true\" class=\"h-6 w-6 fill-warning-400\"><path d=\"M9.049 2.927c.3-.921 1.603-.921 1.902 0l1.07 3.292a1 1 0 00.95.69h3.462c.969 0 1.371 1.24.588 1.81l-2.8 2.034a1 1 0 00-.364 1.118l1.07 3.292c.3.921-.755 1.688-1.54 1.118l-2.8-2.034a1 1 0 00-1.175 0l-2.8 2.034c-.784.57-1.838-.197-1.539-1.118l1.07-3.292a1 1 0 00-.364-1.118L2.98 8.72c-.783-.57-.38-1.81.588-1.81h3.461a1 1 0 00.951-.69l1.07-3.292z\"></path></svg></div><p class=\"relative py-5 leading-7 xl:text-lg\"><q>I&#x27;ve had a great time making projects using codedamn playgrounds. I chose it because it was fast and free in comparison to other platforms I explored.</q></p></blockquote><figcaption class=\"border-t border-gray-400/20 pt-5 text-sm text-gray-600\"><div class=\"flex items-center justify-between\"><div class=\"ml-3\"><p class=\"font-semibold text-gray-700 group-hover:text-gray-900 xl:text-lg\">‍Aniket Saha</p><p class=\"text-xs font-medium text-gray-500 group-hover:text-gray-600 xl:text-sm\">University Student</p></div><div><img alt=\"Profile picture of ‍Aniket Saha\" loading=\"lazy\" width=\"36\" height=\"36\" decoding=\"async\" data-nimg=\"1\" class=\"inline-block h-9 w-9 rounded-full xl:h-11 xl:w-11\" style=\"color:transparent\" srcSet=\"https://wsrv.nl/?url=https%3A%2F%2Fpbs.twimg.com%2Fprofile_images%2F1474785148784631810%2F-g7O0QUF_400x400.jpg&amp;w=72&amp;q=70&amp;output=webp 1x, https://wsrv.nl/?url=https%3A%2F%2Fpbs.twimg.com%2Fprofile_images%2F1474785148784631810%2F-g7O0QUF_400x400.jpg&amp;w=72&amp;q=70&amp;output=webp 2x\" src=\"https://wsrv.nl/?url=https%3A%2F%2Fpbs.twimg.com%2Fprofile_images%2F1474785148784631810%2F-g7O0QUF_400x400.jpg&amp;w=72&amp;q=70&amp;output=webp\"/></div></div></figcaption></figure><figure class=\"mx-[5vw] mb-4 flex min-w-[90vw] snap-center flex-col justify-between rounded-xl border border-gray-100 bg-white p-6 shadow-xl shadow-gray-900/10 md:mx-0 md:inline-block md:min-w-fit\"><blockquote class=\"relative text-gray-900\"><div class=\"flex\"><svg viewBox=\"0 0 20 20\" aria-hidden=\"true\" class=\"h-6 w-6 fill-warning-400\"><path d=\"M9.049 2.927c.3-.921 1.603-.921 1.902 0l1.07 3.292a1 1 0 00.95.69h3.462c.969 0 1.371 1.24.588 1.81l-2.8 2.034a1 1 0 00-.364 1.118l1.07 3.292c.3.921-.755 1.688-1.54 1.118l-2.8-2.034a1 1 0 00-1.175 0l-2.8 2.034c-.784.57-1.838-.197-1.539-1.118l1.07-3.292a1 1 0 00-.364-1.118L2.98 8.72c-.783-.57-.38-1.81.588-1.81h3.461a1 1 0 00.951-.69l1.07-3.292z\"></path></svg><svg viewBox=\"0 0 20 20\" aria-hidden=\"true\" class=\"h-6 w-6 fill-warning-400\"><path d=\"M9.049 2.927c.3-.921 1.603-.921 1.902 0l1.07 3.292a1 1 0 00.95.69h3.462c.969 0 1.371 1.24.588 1.81l-2.8 2.034a1 1 0 00-.364 1.118l1.07 3.292c.3.921-.755 1.688-1.54 1.118l-2.8-2.034a1 1 0 00-1.175 0l-2.8 2.034c-.784.57-1.838-.197-1.539-1.118l1.07-3.292a1 1 0 00-.364-1.118L2.98 8.72c-.783-.57-.38-1.81.588-1.81h3.461a1 1 0 00.951-.69l1.07-3.292z\"></path></svg><svg viewBox=\"0 0 20 20\" aria-hidden=\"true\" class=\"h-6 w-6 fill-warning-400\"><path d=\"M9.049 2.927c.3-.921 1.603-.921 1.902 0l1.07 3.292a1 1 0 00.95.69h3.462c.969 0 1.371 1.24.588 1.81l-2.8 2.034a1 1 0 00-.364 1.118l1.07 3.292c.3.921-.755 1.688-1.54 1.118l-2.8-2.034a1 1 0 00-1.175 0l-2.8 2.034c-.784.57-1.838-.197-1.539-1.118l1.07-3.292a1 1 0 00-.364-1.118L2.98 8.72c-.783-.57-.38-1.81.588-1.81h3.461a1 1 0 00.951-.69l1.07-3.292z\"></path></svg><svg viewBox=\"0 0 20 20\" aria-hidden=\"true\" class=\"h-6 w-6 fill-warning-400\"><path d=\"M9.049 2.927c.3-.921 1.603-.921 1.902 0l1.07 3.292a1 1 0 00.95.69h3.462c.969 0 1.371 1.24.588 1.81l-2.8 2.034a1 1 0 00-.364 1.118l1.07 3.292c.3.921-.755 1.688-1.54 1.118l-2.8-2.034a1 1 0 00-1.175 0l-2.8 2.034c-.784.57-1.838-.197-1.539-1.118l1.07-3.292a1 1 0 00-.364-1.118L2.98 8.72c-.783-.57-.38-1.81.588-1.81h3.461a1 1 0 00.951-.69l1.07-3.292z\"></path></svg><svg viewBox=\"0 0 20 20\" aria-hidden=\"true\" class=\"h-6 w-6 fill-warning-400\"><path d=\"M9.049 2.927c.3-.921 1.603-.921 1.902 0l1.07 3.292a1 1 0 00.95.69h3.462c.969 0 1.371 1.24.588 1.81l-2.8 2.034a1 1 0 00-.364 1.118l1.07 3.292c.3.921-.755 1.688-1.54 1.118l-2.8-2.034a1 1 0 00-1.175 0l-2.8 2.034c-.784.57-1.838-.197-1.539-1.118l1.07-3.292a1 1 0 00-.364-1.118L2.98 8.72c-.783-.57-.38-1.81.588-1.81h3.461a1 1 0 00.951-.69l1.07-3.292z\"></path></svg></div><p class=\"relative py-5 leading-7 xl:text-lg\"><q>I decided to learn on codedamn and have not regretted it at all! They have easy to follow videos that break down every concept. As someone who needs a bit longer time to process things, I appreciated this so much.</q></p></blockquote><figcaption class=\"border-t border-gray-400/20 pt-5 text-sm text-gray-600\"><div class=\"flex items-center justify-between\"><div class=\"ml-3\"><p class=\"font-semibold text-gray-700 group-hover:text-gray-900 xl:text-lg\">Sam</p><p class=\"text-xs font-medium text-gray-500 group-hover:text-gray-600 xl:text-sm\">Music marketing professional</p></div><div><img alt=\"Profile picture of Sam\" loading=\"lazy\" width=\"36\" height=\"36\" decoding=\"async\" data-nimg=\"1\" class=\"inline-block h-9 w-9 rounded-full xl:h-11 xl:w-11\" style=\"color:transparent\" srcSet=\"https://wsrv.nl/?url=https%3A%2F%2Fpbs.twimg.com%2Fprofile_images%2F1618790588022935552%2FdxKFB3X7_400x400.jpg&amp;w=72&amp;q=70&amp;output=webp 1x, https://wsrv.nl/?url=https%3A%2F%2Fpbs.twimg.com%2Fprofile_images%2F1618790588022935552%2FdxKFB3X7_400x400.jpg&amp;w=72&amp;q=70&amp;output=webp 2x\" src=\"https://wsrv.nl/?url=https%3A%2F%2Fpbs.twimg.com%2Fprofile_images%2F1618790588022935552%2FdxKFB3X7_400x400.jpg&amp;w=72&amp;q=70&amp;output=webp\"/></div></div></figcaption></figure><figure class=\"mx-[5vw] mb-4 flex min-w-[90vw] snap-center flex-col justify-between rounded-xl border border-gray-100 bg-white p-6 shadow-xl shadow-gray-900/10 md:mx-0 md:inline-block md:min-w-fit\"><blockquote class=\"relative text-gray-900\"><div class=\"flex\"><svg viewBox=\"0 0 20 20\" aria-hidden=\"true\" class=\"h-6 w-6 fill-warning-400\"><path d=\"M9.049 2.927c.3-.921 1.603-.921 1.902 0l1.07 3.292a1 1 0 00.95.69h3.462c.969 0 1.371 1.24.588 1.81l-2.8 2.034a1 1 0 00-.364 1.118l1.07 3.292c.3.921-.755 1.688-1.54 1.118l-2.8-2.034a1 1 0 00-1.175 0l-2.8 2.034c-.784.57-1.838-.197-1.539-1.118l1.07-3.292a1 1 0 00-.364-1.118L2.98 8.72c-.783-.57-.38-1.81.588-1.81h3.461a1 1 0 00.951-.69l1.07-3.292z\"></path></svg><svg viewBox=\"0 0 20 20\" aria-hidden=\"true\" class=\"h-6 w-6 fill-warning-400\"><path d=\"M9.049 2.927c.3-.921 1.603-.921 1.902 0l1.07 3.292a1 1 0 00.95.69h3.462c.969 0 1.371 1.24.588 1.81l-2.8 2.034a1 1 0 00-.364 1.118l1.07 3.292c.3.921-.755 1.688-1.54 1.118l-2.8-2.034a1 1 0 00-1.175 0l-2.8 2.034c-.784.57-1.838-.197-1.539-1.118l1.07-3.292a1 1 0 00-.364-1.118L2.98 8.72c-.783-.57-.38-1.81.588-1.81h3.461a1 1 0 00.951-.69l1.07-3.292z\"></path></svg><svg viewBox=\"0 0 20 20\" aria-hidden=\"true\" class=\"h-6 w-6 fill-warning-400\"><path d=\"M9.049 2.927c.3-.921 1.603-.921 1.902 0l1.07 3.292a1 1 0 00.95.69h3.462c.969 0 1.371 1.24.588 1.81l-2.8 2.034a1 1 0 00-.364 1.118l1.07 3.292c.3.921-.755 1.688-1.54 1.118l-2.8-2.034a1 1 0 00-1.175 0l-2.8 2.034c-.784.57-1.838-.197-1.539-1.118l1.07-3.292a1 1 0 00-.364-1.118L2.98 8.72c-.783-.57-.38-1.81.588-1.81h3.461a1 1 0 00.951-.69l1.07-3.292z\"></path></svg><svg viewBox=\"0 0 20 20\" aria-hidden=\"true\" class=\"h-6 w-6 fill-warning-400\"><path d=\"M9.049 2.927c.3-.921 1.603-.921 1.902 0l1.07 3.292a1 1 0 00.95.69h3.462c.969 0 1.371 1.24.588 1.81l-2.8 2.034a1 1 0 00-.364 1.118l1.07 3.292c.3.921-.755 1.688-1.54 1.118l-2.8-2.034a1 1 0 00-1.175 0l-2.8 2.034c-.784.57-1.838-.197-1.539-1.118l1.07-3.292a1 1 0 00-.364-1.118L2.98 8.72c-.783-.57-.38-1.81.588-1.81h3.461a1 1 0 00.951-.69l1.07-3.292z\"></path></svg><svg viewBox=\"0 0 20 20\" aria-hidden=\"true\" class=\"h-6 w-6 fill-warning-400\"><path d=\"M9.049 2.927c.3-.921 1.603-.921 1.902 0l1.07 3.292a1 1 0 00.95.69h3.462c.969 0 1.371 1.24.588 1.81l-2.8 2.034a1 1 0 00-.364 1.118l1.07 3.292c.3.921-.755 1.688-1.54 1.118l-2.8-2.034a1 1 0 00-1.175 0l-2.8 2.034c-.784.57-1.838-.197-1.539-1.118l1.07-3.292a1 1 0 00-.364-1.118L2.98 8.72c-.783-.57-.38-1.81.588-1.81h3.461a1 1 0 00.951-.69l1.07-3.292z\"></path></svg></div><p class=\"relative py-5 leading-7 xl:text-lg\"><q>Codedamn has many roadmaps you can explore to learn how to code and build skills as a dev. It’s very well structured and the Pro version is pretty affordable as well, giving you unlimited access to all the features.</q></p></blockquote><figcaption class=\"border-t border-gray-400/20 pt-5 text-sm text-gray-600\"><div class=\"flex items-center justify-between\"><div class=\"ml-3\"><p class=\"font-semibold text-gray-700 group-hover:text-gray-900 xl:text-lg\">gayboredape.eth</p><p class=\"text-xs font-medium text-gray-500 group-hover:text-gray-600 xl:text-sm\">Founder ABY, Blockchain enthusiast</p></div><div><img alt=\"Profile picture of gayboredape.eth\" loading=\"lazy\" width=\"36\" height=\"36\" decoding=\"async\" data-nimg=\"1\" class=\"inline-block h-9 w-9 rounded-full xl:h-11 xl:w-11\" style=\"color:transparent\" srcSet=\"https://wsrv.nl/?url=https%3A%2F%2Fpbs.twimg.com%2Fprofile_images%2F1611916843194662912%2FYpsQHaQ6_400x400.jpg&amp;w=72&amp;q=70&amp;output=webp 1x, https://wsrv.nl/?url=https%3A%2F%2Fpbs.twimg.com%2Fprofile_images%2F1611916843194662912%2FYpsQHaQ6_400x400.jpg&amp;w=72&amp;q=70&amp;output=webp 2x\" src=\"https://wsrv.nl/?url=https%3A%2F%2Fpbs.twimg.com%2Fprofile_images%2F1611916843194662912%2FYpsQHaQ6_400x400.jpg&amp;w=72&amp;q=70&amp;output=webp\"/></div></div></figcaption></figure><figure class=\"mx-[5vw] mb-4 flex min-w-[90vw] snap-center flex-col justify-between rounded-xl border border-gray-100 bg-white p-6 shadow-xl shadow-gray-900/10 md:mx-0 md:inline-block md:min-w-fit\"><blockquote class=\"relative text-gray-900\"><div class=\"flex\"><svg viewBox=\"0 0 20 20\" aria-hidden=\"true\" class=\"h-6 w-6 fill-warning-400\"><path d=\"M9.049 2.927c.3-.921 1.603-.921 1.902 0l1.07 3.292a1 1 0 00.95.69h3.462c.969 0 1.371 1.24.588 1.81l-2.8 2.034a1 1 0 00-.364 1.118l1.07 3.292c.3.921-.755 1.688-1.54 1.118l-2.8-2.034a1 1 0 00-1.175 0l-2.8 2.034c-.784.57-1.838-.197-1.539-1.118l1.07-3.292a1 1 0 00-.364-1.118L2.98 8.72c-.783-.57-.38-1.81.588-1.81h3.461a1 1 0 00.951-.69l1.07-3.292z\"></path></svg><svg viewBox=\"0 0 20 20\" aria-hidden=\"true\" class=\"h-6 w-6 fill-warning-400\"><path d=\"M9.049 2.927c.3-.921 1.603-.921 1.902 0l1.07 3.292a1 1 0 00.95.69h3.462c.969 0 1.371 1.24.588 1.81l-2.8 2.034a1 1 0 00-.364 1.118l1.07 3.292c.3.921-.755 1.688-1.54 1.118l-2.8-2.034a1 1 0 00-1.175 0l-2.8 2.034c-.784.57-1.838-.197-1.539-1.118l1.07-3.292a1 1 0 00-.364-1.118L2.98 8.72c-.783-.57-.38-1.81.588-1.81h3.461a1 1 0 00.951-.69l1.07-3.292z\"></path></svg><svg viewBox=\"0 0 20 20\" aria-hidden=\"true\" class=\"h-6 w-6 fill-warning-400\"><path d=\"M9.049 2.927c.3-.921 1.603-.921 1.902 0l1.07 3.292a1 1 0 00.95.69h3.462c.969 0 1.371 1.24.588 1.81l-2.8 2.034a1 1 0 00-.364 1.118l1.07 3.292c.3.921-.755 1.688-1.54 1.118l-2.8-2.034a1 1 0 00-1.175 0l-2.8 2.034c-.784.57-1.838-.197-1.539-1.118l1.07-3.292a1 1 0 00-.364-1.118L2.98 8.72c-.783-.57-.38-1.81.588-1.81h3.461a1 1 0 00.951-.69l1.07-3.292z\"></path></svg><svg viewBox=\"0 0 20 20\" aria-hidden=\"true\" class=\"h-6 w-6 fill-warning-400\"><path d=\"M9.049 2.927c.3-.921 1.603-.921 1.902 0l1.07 3.292a1 1 0 00.95.69h3.462c.969 0 1.371 1.24.588 1.81l-2.8 2.034a1 1 0 00-.364 1.118l1.07 3.292c.3.921-.755 1.688-1.54 1.118l-2.8-2.034a1 1 0 00-1.175 0l-2.8 2.034c-.784.57-1.838-.197-1.539-1.118l1.07-3.292a1 1 0 00-.364-1.118L2.98 8.72c-.783-.57-.38-1.81.588-1.81h3.461a1 1 0 00.951-.69l1.07-3.292z\"></path></svg><svg viewBox=\"0 0 20 20\" aria-hidden=\"true\" class=\"h-6 w-6 fill-warning-400\"><path d=\"M9.049 2.927c.3-.921 1.603-.921 1.902 0l1.07 3.292a1 1 0 00.95.69h3.462c.969 0 1.371 1.24.588 1.81l-2.8 2.034a1 1 0 00-.364 1.118l1.07 3.292c.3.921-.755 1.688-1.54 1.118l-2.8-2.034a1 1 0 00-1.175 0l-2.8 2.034c-.784.57-1.838-.197-1.539-1.118l1.07-3.292a1 1 0 00-.364-1.118L2.98 8.72c-.783-.57-.38-1.81.588-1.81h3.461a1 1 0 00.951-.69l1.07-3.292z\"></path></svg></div><p class=\"relative py-5 leading-7 xl:text-lg\"><q>I feel codedamn has high potential and they provide free learning material. Mehul has done a great job by founding such a good platform.</q></p></blockquote><figcaption class=\"border-t border-gray-400/20 pt-5 text-sm text-gray-600\"><div class=\"flex items-center justify-between\"><div class=\"ml-3\"><p class=\"font-semibold text-gray-700 group-hover:text-gray-900 xl:text-lg\">Muralidhara Bhat</p><p class=\"text-xs font-medium text-gray-500 group-hover:text-gray-600 xl:text-sm\">University Student</p></div><div><img alt=\"Profile picture of Muralidhara Bhat\" loading=\"lazy\" width=\"36\" height=\"36\" decoding=\"async\" data-nimg=\"1\" class=\"inline-block h-9 w-9 rounded-full xl:h-11 xl:w-11\" style=\"color:transparent\" srcSet=\"https://wsrv.nl/?url=https%3A%2F%2Fpbs.twimg.com%2Fprofile_images%2F1267856067293089792%2FFUPKERSJ_400x400.jpg&amp;w=72&amp;q=70&amp;output=webp 1x, https://wsrv.nl/?url=https%3A%2F%2Fpbs.twimg.com%2Fprofile_images%2F1267856067293089792%2FFUPKERSJ_400x400.jpg&amp;w=72&amp;q=70&amp;output=webp 2x\" src=\"https://wsrv.nl/?url=https%3A%2F%2Fpbs.twimg.com%2Fprofile_images%2F1267856067293089792%2FFUPKERSJ_400x400.jpg&amp;w=72&amp;q=70&amp;output=webp\"/></div></div></figcaption></figure><div class=\"flex\"><figure class=\"mx-[5vw] mb-4 flex min-w-[90vw] snap-center flex-col justify-between rounded-xl border border-gray-100 bg-white p-6 shadow-xl shadow-gray-900/10 md:mx-0 md:inline-block md:min-w-fit\"><blockquote class=\"relative text-gray-900\"><div class=\"flex\"><svg viewBox=\"0 0 20 20\" aria-hidden=\"true\" class=\"h-6 w-6 fill-warning-400\"><path d=\"M9.049 2.927c.3-.921 1.603-.921 1.902 0l1.07 3.292a1 1 0 00.95.69h3.462c.969 0 1.371 1.24.588 1.81l-2.8 2.034a1 1 0 00-.364 1.118l1.07 3.292c.3.921-.755 1.688-1.54 1.118l-2.8-2.034a1 1 0 00-1.175 0l-2.8 2.034c-.784.57-1.838-.197-1.539-1.118l1.07-3.292a1 1 0 00-.364-1.118L2.98 8.72c-.783-.57-.38-1.81.588-1.81h3.461a1 1 0 00.951-.69l1.07-3.292z\"></path></svg><svg viewBox=\"0 0 20 20\" aria-hidden=\"true\" class=\"h-6 w-6 fill-warning-400\"><path d=\"M9.049 2.927c.3-.921 1.603-.921 1.902 0l1.07 3.292a1 1 0 00.95.69h3.462c.969 0 1.371 1.24.588 1.81l-2.8 2.034a1 1 0 00-.364 1.118l1.07 3.292c.3.921-.755 1.688-1.54 1.118l-2.8-2.034a1 1 0 00-1.175 0l-2.8 2.034c-.784.57-1.838-.197-1.539-1.118l1.07-3.292a1 1 0 00-.364-1.118L2.98 8.72c-.783-.57-.38-1.81.588-1.81h3.461a1 1 0 00.951-.69l1.07-3.292z\"></path></svg><svg viewBox=\"0 0 20 20\" aria-hidden=\"true\" class=\"h-6 w-6 fill-warning-400\"><path d=\"M9.049 2.927c.3-.921 1.603-.921 1.902 0l1.07 3.292a1 1 0 00.95.69h3.462c.969 0 1.371 1.24.588 1.81l-2.8 2.034a1 1 0 00-.364 1.118l1.07 3.292c.3.921-.755 1.688-1.54 1.118l-2.8-2.034a1 1 0 00-1.175 0l-2.8 2.034c-.784.57-1.838-.197-1.539-1.118l1.07-3.292a1 1 0 00-.364-1.118L2.98 8.72c-.783-.57-.38-1.81.588-1.81h3.461a1 1 0 00.951-.69l1.07-3.292z\"></path></svg><svg viewBox=\"0 0 20 20\" aria-hidden=\"true\" class=\"h-6 w-6 fill-warning-400\"><path d=\"M9.049 2.927c.3-.921 1.603-.921 1.902 0l1.07 3.292a1 1 0 00.95.69h3.462c.969 0 1.371 1.24.588 1.81l-2.8 2.034a1 1 0 00-.364 1.118l1.07 3.292c.3.921-.755 1.688-1.54 1.118l-2.8-2.034a1 1 0 00-1.175 0l-2.8 2.034c-.784.57-1.838-.197-1.539-1.118l1.07-3.292a1 1 0 00-.364-1.118L2.98 8.72c-.783-.57-.38-1.81.588-1.81h3.461a1 1 0 00.951-.69l1.07-3.292z\"></path></svg><svg viewBox=\"0 0 20 20\" aria-hidden=\"true\" class=\"h-6 w-6 fill-warning-400\"><path d=\"M9.049 2.927c.3-.921 1.603-.921 1.902 0l1.07 3.292a1 1 0 00.95.69h3.462c.969 0 1.371 1.24.588 1.81l-2.8 2.034a1 1 0 00-.364 1.118l1.07 3.292c.3.921-.755 1.688-1.54 1.118l-2.8-2.034a1 1 0 00-1.175 0l-2.8 2.034c-.784.57-1.838-.197-1.539-1.118l1.07-3.292a1 1 0 00-.364-1.118L2.98 8.72c-.783-.57-.38-1.81.588-1.81h3.461a1 1 0 00.951-.69l1.07-3.292z\"></path></svg></div><p class=\"relative py-5 leading-7 xl:text-lg\"><q>Courses on codedamn are really beginner-friendly and the exercises are great for practicing as you learn.</q></p></blockquote><figcaption class=\"border-t border-gray-400/20 pt-5 text-sm text-gray-600\"><div class=\"flex items-center justify-between\"><div class=\"ml-3\"><p class=\"font-semibold text-gray-700 group-hover:text-gray-900 xl:text-lg\">Anurag Srivastava</p><p class=\"text-xs font-medium text-gray-500 group-hover:text-gray-600 xl:text-sm\">University Student, KIIT</p></div><div><img alt=\"Profile picture of Anurag Srivastava\" loading=\"lazy\" width=\"36\" height=\"36\" decoding=\"async\" data-nimg=\"1\" class=\"inline-block h-9 w-9 rounded-full xl:h-11 xl:w-11\" style=\"color:transparent\" srcSet=\"https://wsrv.nl/?url=https%3A%2F%2Fpbs.twimg.com%2Fprofile_images%2F1307433401314541568%2FRunEXN2U_400x400.jpg&amp;w=72&amp;q=70&amp;output=webp 1x, https://wsrv.nl/?url=https%3A%2F%2Fpbs.twimg.com%2Fprofile_images%2F1307433401314541568%2FRunEXN2U_400x400.jpg&amp;w=72&amp;q=70&amp;output=webp 2x\" src=\"https://wsrv.nl/?url=https%3A%2F%2Fpbs.twimg.com%2Fprofile_images%2F1307433401314541568%2FRunEXN2U_400x400.jpg&amp;w=72&amp;q=70&amp;output=webp\"/></div></div></figcaption></figure></div></div></div></section><section class=\"relative overflow-hidden border-t border-gray-200 bg-white sm:bg-gray-50/75 md:border-y\" id=\"register\"><div data-id=\"css-animation\" class=\"absolute inset-0 z-10 flex animate-[dim-opacity-start_8s_linear_infinite] items-center justify-center overflow-hidden will-change-[opacity]\"><img alt=\"Indigo gradient background\" loading=\"lazy\" width=\"1536\" height=\"864\" decoding=\"async\" data-nimg=\"1\" class=\"mx-auto aspect-[1155/678] h-auto w-full max-w-screen-2xl\" style=\"color:transparent\" srcSet=\"https://wsrv.nl/?url=https%3A%2F%2Fcodedamn.com%2Fassets%2Flanding-page-assets%2FLearnBlurBg.png&amp;w=1536&amp;q=70&amp;output=webp 1x, https://wsrv.nl/?url=https%3A%2F%2Fcodedamn.com%2Fassets%2Flanding-page-assets%2FLearnBlurBg.png&amp;w=1536&amp;q=70&amp;output=webp 2x\" src=\"https://wsrv.nl/?url=https%3A%2F%2Fcodedamn.com%2Fassets%2Flanding-page-assets%2FLearnBlurBg.png&amp;w=1536&amp;q=70&amp;output=webp\"/></div><div data-id=\"css-animation\" class=\"absolute inset-0 z-10 flex animate-[dim-opacity-mid_8s_linear_infinite] items-center justify-center overflow-hidden will-change-[opacity]\"><img alt=\"Indigo gradient background\" loading=\"lazy\" width=\"1536\" height=\"864\" decoding=\"async\" data-nimg=\"1\" class=\"mx-auto aspect-[1155/678] h-auto w-full max-w-screen-2xl\" style=\"color:transparent\" srcSet=\"https://wsrv.nl/?url=https%3A%2F%2Fcodedamn.com%2Fassets%2Flanding-page-assets%2FApplyBlurBg.png&amp;w=1536&amp;q=70&amp;output=webp 1x, https://wsrv.nl/?url=https%3A%2F%2Fcodedamn.com%2Fassets%2Flanding-page-assets%2FApplyBlurBg.png&amp;w=1536&amp;q=70&amp;output=webp 2x\" src=\"https://wsrv.nl/?url=https%3A%2F%2Fcodedamn.com%2Fassets%2Flanding-page-assets%2FApplyBlurBg.png&amp;w=1536&amp;q=70&amp;output=webp\"/></div><div data-id=\"css-animation\" class=\"absolute inset-0 z-10 flex animate-[dim-opacity-end_8s_linear_infinite] items-center justify-center overflow-hidden will-change-[opacity]\"><img alt=\"Indigo gradient background\" loading=\"lazy\" width=\"1536\" height=\"864\" decoding=\"async\" data-nimg=\"1\" class=\"mx-auto aspect-[1155/678] h-auto w-full max-w-screen-2xl\" style=\"color:transparent\" srcSet=\"https://wsrv.nl/?url=https%3A%2F%2Fcodedamn.com%2Fassets%2Flanding-page-assets%2FGrowBlurBg.png&amp;w=1536&amp;q=70&amp;output=webp 1x, https://wsrv.nl/?url=https%3A%2F%2Fcodedamn.com%2Fassets%2Flanding-page-assets%2FGrowBlurBg.png&amp;w=1536&amp;q=70&amp;output=webp 2x\" src=\"https://wsrv.nl/?url=https%3A%2F%2Fcodedamn.com%2Fassets%2Flanding-page-assets%2FGrowBlurBg.png&amp;w=1536&amp;q=70&amp;output=webp\"/></div><div class=\"relative z-20 pt-12 sm:px-6 md:pb-12 md:pt-20\"><h4 class=\"mb-8 w-full px-4 text-center text-sm font-bold uppercase leading-relaxed tracking-widest text-gray-500 sm:text-base lg:mb-16\">begin your journey with codedamn</h4><span class=\"flex items-center justify-center gap-4 lg:hidden\"><h3 data-id=\"css-animation\" class=\"relative block text-3xl font-bold uppercase tracking-tight before:absolute before:inset-0 before:z-0 before:block before:w-full before:animate-[dim-opacity-inverted-start_8s_linear_infinite] before:text-gray-600 before:will-change-[opacity] before:content-[&#x27;Learn&#x27;]\"><span data-id=\"css-animation\" class=\"relative z-10 animate-[dim-opacity-start_8s_linear_infinite] bg-gradient-to-r from-primary-600 to-purple-400 bg-clip-text text-transparent will-change-[opacity]\">Learn</span></h3><h3 data-id=\"css-animation\" class=\"relative block text-3xl font-bold uppercase tracking-tight before:absolute before:inset-0 before:z-0 before:block before:w-full before:animate-[dim-opacity-inverted-mid_8s_linear_infinite] before:text-gray-600 before:will-change-[opacity] before:content-[&#x27;Apply&#x27;]\"><span data-id=\"css-animation\" class=\"relative z-10 animate-[dim-opacity-mid_8s_linear_infinite] bg-gradient-to-r from-secondary-600 to-cyan-400 bg-clip-text text-transparent will-change-[opacity]\">Apply</span></h3><h3 data-id=\"css-animation\" class=\"relative block text-3xl font-bold uppercase tracking-tight before:absolute before:inset-0 before:z-0 before:block before:w-full before:animate-[dim-opacity-inverted-end_8s_linear_infinite] before:text-gray-600 before:will-change-[opacity] before:content-[&#x27;Grow&#x27;]\"><span data-id=\"css-animation\" class=\"relative z-10 animate-[dim-opacity-end_8s_linear_infinite] bg-gradient-to-r from-success-600 to-success-400 bg-clip-text text-transparent will-change-[opacity]\">Grow</span></h3></span><div class=\"mx-auto my-8 sm:mt-12 sm:max-w-xl lg:my-16 lg:mt-0 lg:flex lg:max-w-6xl lg:flex-row-reverse lg:items-center\"><div class=\"relative z-10 p-px ring-1 ring-slate-900/10 sm:rounded-xl lg:w-1/2 lg:flex-none lg:-translate-x-5\"><div class=\"relative z-10 flex min-h-[448px] items-center justify-center bg-white px-6 pb-6 pt-8 sm:rounded-xl sm:px-10\"><div class=\"flex w-full max-w-sm flex-col gap-4\"><button type=\"button\" class=\"inline-flex items-center justify-center rounded-md border border-gray-300 bg-gray-50 px-6 py-3 text-base font-medium shadow-sm hover:bg-gray-100 focus:outline-none focus:ring-2 focus:ring-primary-500 focus:ring-offset-2\"><svg class=\"-ml-1 mr-3 h-5 w-5\" aria-hidden=\"true\" preserveAspectRatio=\"xMidYMid\" viewBox=\"0 0 256 262\"><path fill=\"#4285F4\" d=\"M256 133c0-10-1-18-3-26H131v48h71c-1 12-9 30-26 43v1l38 30h3c25-22 39-56 39-96\"></path><path fill=\"#34A853\" d=\"M131 261c35 0 64-12 86-32l-41-31a80 80 0 0 1-120-42l-1 1-41 31v1c21 43 65 72 117 72\"></path><path fill=\"#FBBC05\" d=\"M56 156a80 80 0 0 1 0-51v-2L15 71l-1 1a131 131 0 0 0 0 117l42-33\"></path><path fill=\"#EB4335\" d=\"M131 50c24 0 41 11 50 20l37-36A130 130 0 0 0 14 72l42 33c11-32 40-55 75-55\"></path></svg>Continue with Google</button><button type=\"button\" class=\"inline-flex items-center justify-center rounded-md border border-gray-900 bg-gray-800 px-6 py-3 text-base font-medium text-white shadow-sm hover:bg-gray-900 focus:outline-none focus:ring-2 focus:ring-primary-500 focus:ring-offset-2\"><svg class=\"-ml-1 mr-3 h-5 w-5\" preserveAspectRatio=\"xMidYMid\" viewBox=\"0 0 256 250\"><path fill=\"#FFF\" d=\"M128 0a128 128 0 0 0-40 249c6 2 8-2 8-6v-24c-36 8-43-15-43-15-6-14-14-18-14-18-12-8 1-8 1-8 12 1 19 13 19 13 12 20 30 14 38 11 1-9 4-14 8-17-29-4-59-15-59-64 0-14 5-25 14-34-2-3-6-16 1-34 0 0 11-3 35 13a123 123 0 0 1 64 0c24-16 35-13 35-13 7 18 3 31 1 34 9 9 14 20 14 34 0 49-30 60-59 63 5 4 9 12 9 24v35c0 4 2 8 9 6A128 128 0 0 0 128 0zM48 182l-2 1-1-2 2-1 1 2zm6 6-2-1-1-2h3v3zm5 7c-1 1-3 0-3-1v-3c1-1 2 0 3 1v3zm7 8h-3c-2-1-2-3-1-3h3l1 3zm9 3c0 1-1 2-3 1l-2-2c0-1 2-2 3-1 2 0 3 1 2 2zm11 1c0 2-1 2-3 2l-2-1c0-2 1-2 2-2l3 1zm11 0c0 1-1 2-3 2-1 1-3 0-3-1s1-2 3-2c1-1 2 0 3 1z\"></path></svg>Continue with GitHub</button><div class=\"relative my-2\"><div class=\"absolute inset-0 flex items-center\" aria-hidden=\"true\"><div class=\"w-full border-t border-gray-300\"></div></div><div class=\"relative flex justify-center text-sm\"><span class=\"rounded-full bg-white/80 px-2 text-gray-500\">or register with email</span></div></div><form class=\"flex w-full flex-col gap-4\"><div class=\"relative mt-1 rounded-md shadow-sm\"><input type=\"email\" name=\"email\" id=\"email\" class=\"block w-full rounded-md border-gray-300 shadow-sm focus:border-primary-500 focus:ring-primary-500\" placeholder=\"Your email here\" required=\"\" value=\"\"/></div><button type=\"submit\" class=\"inline-flex items-center justify-center rounded-md border border-transparent bg-primary-600 px-6 py-2.5 text-base font-medium text-white shadow-sm hover:bg-primary-900 focus:outline-none focus:ring-2 focus:ring-primary-500 focus:ring-offset-2\"><svg stroke=\"currentColor\" fill=\"currentColor\" stroke-width=\"0\" viewBox=\"0 0 16 16\" class=\"-ml-0.5 mr-2.5 h-5 w-5\" aria-hidden=\"true\" height=\"1em\" width=\"1em\" xmlns=\"http://www.w3.org/2000/svg\"><path d=\"M.05 3.555A2 2 0 0 1 2 2h12a2 2 0 0 1 1.95 1.555L8 8.414.05 3.555ZM0 4.697v7.104l5.803-3.558L0 4.697ZM6.761 8.83l-6.57 4.027A2 2 0 0 0 2 14h12a2 2 0 0 0 1.808-1.144l-6.57-4.027L8 9.586l-1.239-.757Zm3.436-.586L16 11.801V4.697l-5.803 3.546Z\"></path></svg>Continue with Email</button></form></div></div></div><div class=\"relative mt-10 hidden translate-x-5 bg-white bg-opacity-75 bg-clip-padding lg:mt-0 lg:block lg:w-1/2 lg:flex-none\"><div class=\"absolute -inset-y-8 -left-2 w-px bg-primary-900/20 [mask-image:linear-gradient(to_top,transparent,white_4rem,white_calc(100%-4rem),transparent)] sm:left-0\"></div><div class=\"absolute -inset-y-8 -right-2 w-px bg-primary-900/20 [mask-image:linear-gradient(to_top,transparent,white_4rem,white_calc(100%-4rem),transparent)] sm:right-0 lg:hidden\"></div><div class=\"absolute -inset-x-8 top-0 h-px bg-primary-900/20 [mask-image:linear-gradient(to_right,transparent,white_4rem,white_calc(100%-4rem),transparent)]\"></div><div class=\"absolute -inset-x-8 bottom-0 h-px bg-primary-900/20 [mask-image:linear-gradient(to_right,transparent,white_4rem,white_calc(100%-4rem),transparent)]\"></div><ul><li class=\"relative px-2 py-6 sm:px-10\"><h3 data-id=\"css-animation\" class=\"relative mb-2 block text-3xl font-bold uppercase tracking-tight before:absolute before:inset-0 before:z-0 before:block before:w-full before:animate-[dim-opacity-inverted-start_8s_linear_infinite] before:text-gray-600 before:will-change-[opacity] before:content-[&#x27;Learn&#x27;]\"><span data-id=\"css-animation\" class=\"relative z-10 animate-[dim-opacity-start_8s_linear_infinite] bg-gradient-to-r from-primary-600 to-purple-400 bg-clip-text text-transparent will-change-[opacity]\">Learn</span></h3><p class=\"leading-6 text-gray-600\">Get access to 100+ courses from renowned instructors.</p></li><li class=\"relative px-2 py-6 sm:px-10\"><div class=\"absolute -inset-x-8 top-0 h-px bg-primary-900/20 [mask-image:linear-gradient(to_right,transparent,white_4rem,white_calc(100%-4rem),transparent)]\"></div><h3 data-id=\"css-animation\" class=\"relative mb-2 block text-3xl font-bold uppercase tracking-tight before:absolute before:inset-0 before:z-0 before:block before:w-full before:animate-[dim-opacity-inverted-mid_8s_linear_infinite] before:text-gray-600 before:will-change-[opacity] before:content-[&#x27;Apply&#x27;]\"><span data-id=\"css-animation\" class=\"relative z-10 animate-[dim-opacity-mid_8s_linear_infinite] bg-gradient-to-r from-secondary-600 to-cyan-400 bg-clip-text text-transparent will-change-[opacity]\">Apply</span></h3><p class=\"leading-6 text-gray-600\">Build projects and boot playgrounds, all within your browser.</p></li><li class=\"relative px-2 py-6 sm:px-10\"><div class=\"absolute -inset-x-8 top-0 h-px bg-primary-900/20 [mask-image:linear-gradient(to_right,transparent,white_4rem,white_calc(100%-4rem),transparent)]\"></div><h3 data-id=\"css-animation\" class=\"relative mb-2 block text-3xl font-bold uppercase tracking-tight before:absolute before:inset-0 before:z-0 before:block before:w-full before:animate-[dim-opacity-inverted-end_8s_linear_infinite] before:text-gray-600 before:will-change-[opacity] before:content-[&#x27;Grow&#x27;]\"><span data-id=\"css-animation\" class=\"relative z-10 animate-[dim-opacity-end_8s_linear_infinite] bg-gradient-to-r from-success-600 to-success-400 bg-clip-text text-transparent will-change-[opacity]\">Grow</span></h3><p class=\"leading-6 text-gray-600\">Upskill yourself with codedamn and land your dream job.</p></li></ul></div></div></div></section><section class=\"relative overflow-hidden bg-white pb-24 pt-12 md:pt-24\"><img alt=\"bg\" loading=\"lazy\" width=\"2610\" height=\"1305\" decoding=\"async\" data-nimg=\"1\" class=\"absolute -top-[1rem] left-1/2 -ml-[40rem] w-[163.125rem] max-w-none opacity-40 sm:-ml-[67.5rem]\" style=\"color:transparent\" srcSet=\"https://wsrv.nl/?url=https%3A%2F%2Fcodedamn.com%2Fassets%2Flanding-page-assets%2Fbeams.jpeg&amp;w=2610&amp;q=70&amp;output=webp 1x\" src=\"https://wsrv.nl/?url=https%3A%2F%2Fcodedamn.com%2Fassets%2Flanding-page-assets%2Fbeams.jpeg&amp;w=2610&amp;q=70&amp;output=webp\"/><div class=\"relative z-10 mx-auto max-w-screen-2xl overflow-hidden\"><div class=\"grid grid-cols-1 gap-x-8 gap-y-16 px-6 sm:gap-y-20 lg:grid-cols-2 lg:items-start\"><div class=\"relative order-2 mx-auto flex h-full w-full max-w-4xl items-center justify-center lg:order-1\"><div class=\"absolute inset-0 h-full w-full rounded-full border border-x-2 border-gray-200 border-x-gray-300/75 p-[10%] [mask-image:linear-gradient(to_bottom,white_30%,transparent_90%)]\"><div class=\"h-full w-full rounded-full border border-x-2 border-gray-200 border-x-gray-300/75 p-[12.25%]\"><div class=\"h-full w-full rounded-full border border-l-2 border-gray-200 border-l-gray-300/75\"></div></div></div><img alt=\"Mockup of iphone showcasing the codedamn app\" loading=\"lazy\" width=\"900\" height=\"900\" decoding=\"async\" data-nimg=\"1\" class=\"relative z-10 aspect-1 w-full\" style=\"color:transparent\" srcSet=\"https://wsrv.nl/?url=https%3A%2F%2Fcodedamn.com%2Fassets%2Flanding-page-assets%2Fmobile-mock.png&amp;w=900&amp;q=70&amp;output=webp 1x, https://wsrv.nl/?url=https%3A%2F%2Fcodedamn.com%2Fassets%2Flanding-page-assets%2Fmobile-mock.png&amp;w=900&amp;q=70&amp;output=webp 2x\" src=\"https://wsrv.nl/?url=https%3A%2F%2Fcodedamn.com%2Fassets%2Flanding-page-assets%2Fmobile-mock.png&amp;w=900&amp;q=70&amp;output=webp\"/></div><div class=\"order-1 flex h-full items-center justify-center lg:order-2 lg:pr-4 lg:pt-4\"><div class=\"mx-auto max-w-2xl text-center lg:mx-0 lg:max-w-lg lg:text-left\"><h3 class=\"mt-2 text-3xl font-bold tracking-tight text-gray-900 sm:text-4xl\">All of codedamn at your fingertips.</h3><p class=\"mt-6 text-lg leading-8 text-gray-600\">Codedamn’s mobile app keeps you connected to your progress and enables learning programming on-the-go from anywhere around the globe.</p><div class=\"mt-12 flex justify-center gap-4 lg:justify-start\"><img alt=\"App download QR code\" loading=\"lazy\" width=\"256\" height=\"256\" decoding=\"async\" data-nimg=\"1\" class=\"hidden aspect-1 w-28 sm:block\" style=\"color:transparent\" srcSet=\"https://wsrv.nl/?url=https%3A%2F%2Fcodedamn-website-assets.s3.us-east-1.amazonaws.com%2Fuploads%2Fxub_CMyvjKT0bfZ-oJYJd%2Fqr.png&amp;w=512&amp;q=70&amp;output=webp 1x, https://wsrv.nl/?url=https%3A%2F%2Fcodedamn-website-assets.s3.us-east-1.amazonaws.com%2Fuploads%2Fxub_CMyvjKT0bfZ-oJYJd%2Fqr.png&amp;w=512&amp;q=70&amp;output=webp 2x\" src=\"https://wsrv.nl/?url=https%3A%2F%2Fcodedamn-website-assets.s3.us-east-1.amazonaws.com%2Fuploads%2Fxub_CMyvjKT0bfZ-oJYJd%2Fqr.png&amp;w=512&amp;q=70&amp;output=webp\"/><div class=\"flex max-w-xs justify-between gap-4 sm:h-28 sm:max-w-none sm:flex-col sm:gap-0\"><a target=\"_blank noreferrer\" href=\"https://apps.apple.com/in/app/codedamn/id1426709377?referrer=utm_source%3Dcodedamn-landing-page%26utm_medium%3Dwebpage%26utm_term%3Dmobile%252Bapp%252Blearn-on-the-go%26utm_content%3Dlearn%2520on%2520the%2520go%2520with%2520codedamn%26utm_campaign%3Dcodedamn%2520mobile%2520app\"><svg class=\"aspect-[3.375] w-full max-w-[172px] rounded\" viewBox=\"0 0 135 40\"><path fill=\"#A6A6A6\" d=\"M130.2 40H4.7A4.7 4.7 0 0 1 0 35.3V4.7A4.7 4.7 0 0 1 4.7 0h125.5c2.6 0 4.8 2.1 4.8 4.7v30.6c0 2.6-2.2 4.7-4.8 4.7z\"></path><path d=\"M134 35.3a3.8 3.8 0 0 1-3.8 3.8H4.7A3.8 3.8 0 0 1 1 35.3V4.7A3.8 3.8 0 0 1 4.7 1h125.5a3.8 3.8 0 0 1 3.8 3.8v30.6z\"></path><path fill=\"#FFF\" d=\"M30.1 19.8c0-3.2 2.7-4.8 2.8-4.9a6 6 0 0 0-4.7-2.5c-2-.2-3.9 1.2-4.9 1.2-1 0-2.5-1.2-4.2-1.2a6.2 6.2 0 0 0-5.2 3.2c-2.3 4-.6 9.7 1.6 12.9 1 1.6 2.3 3.3 4 3.2 1.6 0 2.2-1 4.2-1s2.5 1 4.2 1c1.7 0 2.8-1.6 3.9-3.1 1.2-1.8 1.7-3.6 1.7-3.7 0 0-3.3-1.3-3.4-5.1zM27 10.3c.9-1 1.5-2.6 1.3-4-1.2 0-2.8.8-3.7 1.9-.8.9-1.5 2.4-1.4 3.9 1.5.1 3-.7 3.8-1.8zm26.6 21.2h-2.2L50 27.6h-4.3l-1.2 3.9h-2.2l4.3-13.3h2.6l4.3 13.3zM49.8 26l-1.2-3.5L48 20a96.8 96.8 0 0 1-.7 2.5L46.2 26h3.6zm14.9.6c0 1.6-.5 3-1.4 3.9-.8.8-1.7 1.2-2.9 1.2-1.3 0-2.2-.4-2.7-1.3v5h-2.2V22h1.8l.1 1.5a3.6 3.6 0 0 1 3.3-1.7c1.1 0 2 .5 2.8 1.4.8.8 1.2 2 1.2 3.5zm-2.2 0a4 4 0 0 0-.6-2.2c-.5-.7-1.1-1-1.9-1-.5 0-1 .2-1.4.5a2.8 2.8 0 0 0-1 2v1.7c0 .7.2 1.2.7 1.7s1 .7 1.6.7c.8 0 1.5-.3 2-.9a4 4 0 0 0 .6-2.4zm13.2 0c0 1.6-.4 3-1.3 3.9-.8.8-1.8 1.2-3 1.2s-2.1-.4-2.7-1.3v5h-2.2V22h1.8l.2 1.5a3.5 3.5 0 0 1 3.2-1.7c1.2 0 2.1.5 2.9 1.4.7.8 1.1 2 1.1 3.5zm-2.2 0a4 4 0 0 0-.6-2.2c-.5-.7-1-1-1.9-1a2.2 2.2 0 0 0-1.4.5c-.4.4-.7.8-.8 1.4l-.1.7v1.6c0 .7.2 1.2.6 1.7.4.5 1 .7 1.7.7.8 0 1.4-.3 1.9-.9a4 4 0 0 0 .6-2.4zM88 27.9c0 1.1-.4 2-1.1 2.7-1 .8-2.1 1.2-3.7 1.2-1.4 0-2.5-.3-3.4-.8l.5-1.8c1 .6 2 .8 3 .8a3 3 0 0 0 2-.5c.4-.4.6-.8.6-1.5 0-.5-.2-1-.5-1.3-.4-.4-1-.7-1.9-1-2.3-1-3.5-2.2-3.5-3.9 0-1 .4-2 1.2-2.7.9-.7 2-1 3.3-1 1.2 0 2.2.2 3 .6l-.5 1.8c-.8-.4-1.6-.6-2.6-.6-.7 0-1.3.1-1.7.5a1.6 1.6 0 0 0-.5 1.2c0 .5.2 1 .6 1.3.3.3 1 .7 1.9 1 1.1.5 2 1 2.5 1.7.6.6.8 1.4.8 2.3zm7-4.3h-2.3v4.7c0 1.2.5 1.7 1.3 1.7h1v1.6l-1.7.2c-.8 0-1.5-.3-2-.8-.4-.5-.7-1.3-.7-2.6v-4.8h-1.4V22h1.4v-1.8l2.1-.6V22h2.4v1.6zm10.7 3.1c0 1.5-.4 2.7-1.3 3.7s-2 1.4-3.5 1.4c-1.4 0-2.5-.4-3.4-1.4s-1.2-2-1.2-3.5.4-2.7 1.3-3.7c.8-1 2-1.4 3.5-1.4 1.4 0 2.5.5 3.4 1.4a5 5 0 0 1 1.2 3.5zm-2.2.1c0-.9-.2-1.6-.6-2.3-.4-.7-1-1.1-2-1.1-.8 0-1.4.4-1.9 1.1a5.6 5.6 0 0 0 0 4.6c.5.8 1.1 1.2 2 1.2.8 0 1.4-.4 1.9-1.2.4-.7.6-1.4.6-2.3zm9.1-3a3.7 3.7 0 0 0-.7 0 2 2 0 0 0-1.7.9c-.3.5-.5 1.1-.5 1.9v5h-2.2V22h1.8l.1 1.8c.3-.6.7-1 1.1-1.5a2.6 2.6 0 0 1 1.6-.5h.5v2zm9.6 2.6a5 5 0 0 1-.1 1h-6.4c0 .9.3 1.6 1 2 .4.5 1.1.8 2 .8a7 7 0 0 0 2.6-.5l.3 1.5a8 8 0 0 1-3.2.6 5 5 0 0 1-3.5-1.3c-.8-1-1.3-2-1.3-3.6 0-1.4.4-2.6 1.2-3.6a4 4 0 0 1 3.4-1.5c1.4 0 2.4.5 3.1 1.5.6.8.9 1.9.9 3zm-2-.6c0-.6-.2-1.2-.5-1.6a2 2 0 0 0-1.7-1 2 2 0 0 0-1.7 1c-.3.4-.6 1-.6 1.6h4.4zM49 10c0 1.2-.3 2-1 2.7-.7.5-1.6.8-2.8.8h-1.5V7l1.8-.2a4 4 0 0 1 2.6.8c.6.6 1 1.4 1 2.4zm-1 0c0-.7-.3-1.3-.7-1.7-.4-.4-1-.6-1.7-.6h-.9v5h.7c.8 0 1.5-.3 1.9-.7s.6-1.1.6-2zm7 1c0 .8-.3 1.4-.7 1.8-.4.5-1 .7-1.7.7s-1.3-.2-1.7-.6c-.4-.5-.6-1-.6-1.8 0-.7.2-1.3.6-1.8s1-.7 1.7-.7 1.3.3 1.7.7c.4.5.6 1 .6 1.7zm-1.2 0c0-.4 0-.7-.3-1a1 1 0 0 0-.9-.6 1 1 0 0 0-1 .6l-.2 1c0 .5 0 .9.2 1.2.3.4.6.6 1 .6s.7-.2 1-.6l.2-1.1zm9-2.3-1.5 4.7h-1l-.6-2a15.3 15.3 0 0 1-.4-1.5 11.2 11.2 0 0 1-.4 1.5l-.6 2h-1L56 8.7h1l.5 2.3.4 1.5c0-.4.2-1 .4-1.5l.6-2.3h.9l.6 2.2.4 1.6.4-1.6.5-2.2h1zm5.4 4.7h-1v-2.7c0-.8-.4-1.2-1-1.2a1 1 0 0 0-.8.3 1.2 1.2 0 0 0-.2.8v2.8H64V8.7h.9v.8l.6-.6c.3-.2.6-.3 1-.3s.8.2 1 .4c.4.4.6 1 .6 1.6v2.8zm2.9 0h-1V6.6h1v6.8zm6.2-2.4c0 .8-.2 1.4-.7 1.8-.4.5-1 .7-1.7.7s-1.2-.2-1.6-.6c-.5-.5-.7-1-.7-1.8 0-.7.3-1.3.7-1.8s1-.7 1.7-.7 1.2.3 1.7.7c.4.5.6 1 .6 1.7zm-1.1 0c0-.4-.1-.7-.3-1a1 1 0 0 0-1-.6 1 1 0 0 0-1 .6l-.2 1c0 .5.1.9.3 1.2.2.4.5.6 1 .6.3 0 .7-.2.9-.6.2-.3.3-.7.3-1.1zm6.1 2.4h-1V13c-.3.4-.8.6-1.4.6-.4 0-.8-.1-1-.4a1.3 1.3 0 0 1-.4-1c0-.5.2-1 .7-1.3.5-.3 1.1-.4 2-.4v-.1c0-.6-.3-1-1-1-.4 0-.8.2-1.2.4l-.2-.7a3 3 0 0 1 1.6-.4c1.2 0 1.9.7 1.9 2v2.8zm-1-1.6v-.7c-1.2 0-1.8.3-1.8 1 0 .2 0 .4.2.5a.7.7 0 0 0 .5.2l.7-.2a.9.9 0 0 0 .3-.8zm7 1.6h-1v-.7c-.3.6-.8.8-1.5.8-.6 0-1-.2-1.5-.6s-.5-1-.5-1.8c0-.7.2-1.3.6-1.8.4-.5.9-.7 1.5-.7s1 .2 1.3.7V6.6h1v6.8zm-1.1-2v-.7a1.2 1.2 0 0 0-.4-1 1 1 0 0 0-.7-.3 1 1 0 0 0-1 .5 2 2 0 0 0-.3 1.2c0 .5.1.8.4 1.1.2.3.5.5.9.5.3 0 .6-.1.8-.4.2-.2.3-.5.3-.9zm10-.4c0 .8-.2 1.4-.6 1.8-.4.5-1 .7-1.7.7s-1.2-.2-1.7-.6c-.4-.5-.6-1-.6-1.8 0-.7.2-1.3.7-1.8s1-.7 1.7-.7 1.2.3 1.6.7c.4.5.6 1 .6 1.7zm-1 0c0-.4-.1-.7-.3-1a1 1 0 0 0-1-.6 1 1 0 0 0-1 .6l-.2 1c0 .5 0 .9.3 1.2.2.4.5.6 1 .6.3 0 .6-.2.9-.6.2-.3.3-.7.3-1.1zm6.7 2.4h-1v-2.7c0-.8-.4-1.2-1-1.2-.3 0-.6.1-.8.3s-.3.5-.3.8v2.8h-1V8.7h.9v.8a1.5 1.5 0 0 1 .6-.6c.3-.2.6-.3 1-.3s.7.2 1 .4c.4.4.6 1 .6 1.6v2.8zm7-3.9h-1.1v2.3c0 .6.2.9.6.9h.5v.7l-.8.1c-.4 0-.8-.1-1-.3-.2-.3-.3-.7-.3-1.3V9.5h-.7v-.8h.7V8l1-.4v1.2h1.1v.8zm5.6 4h-1v-2.7c0-.9-.4-1.3-1-1.3-.5 0-.8.2-1 .7a1.3 1.3 0 0 0 0 .4v2.8h-1.1V6.6h1v2.8c.4-.5.9-.8 1.5-.8.4 0 .8.2 1 .4.4.4.6 1 .6 1.6v2.8zm5.7-2.6v.4H118c0 .5.2.8.5 1 .2.3.6.4 1 .4.5 0 .9 0 1.3-.2l.1.7a4 4 0 0 1-1.5.3c-.8 0-1.3-.2-1.8-.6-.4-.5-.6-1-.6-1.8 0-.7.2-1.3.6-1.7a2 2 0 0 1 1.6-.8 2 2 0 0 1 1.6.8c.3.4.4.9.4 1.5zm-1-.3a1.4 1.4 0 0 0-.2-.8 1 1 0 0 0-.8-.5 1 1 0 0 0-.9.5 1.6 1.6 0 0 0-.3.8h2.2z\"></path></svg></a><a target=\"_blank noreferrer\" href=\"https://play.google.com/store/apps/details?id=com.codedamn&amp;referrer=utm_source%3Dcodedamn-landing-page%26utm_medium%3Dwebpage%26utm_term%3Dmobile%252Bapp%252Blearn-on-the-go%26utm_content%3Dlearn%2520on%2520the%2520go%2520with%2520codedamn%26utm_campaign%3Dcodedamn%2520mobile%2520app\"><svg xmlns=\"http://www.w3.org/2000/svg\" fill=\"none\" viewBox=\"0 0 135 40\" class=\"aspect-[3.375] w-full max-w-[172px] rounded\"><rect width=\"134\" height=\"39\" x=\"0.5\" y=\"0.5\" fill=\"#000\" rx=\"4.5\"></rect><path fill=\"#fff\" d=\"M68.136 21.75c-2.352 0-4.269 1.79-4.269 4.254 0 2.449 1.917 4.253 4.269 4.253 2.353 0 4.27-1.804 4.27-4.253-.001-2.464-1.918-4.253-4.27-4.253zm0 6.833c-1.289 0-2.4-1.063-2.4-2.578 0-1.531 1.112-2.578 2.4-2.578 1.289 0 2.4 1.047 2.4 2.578 0 1.514-1.111 2.578-2.4 2.578zm-9.314-6.832c-2.352 0-4.269 1.789-4.269 4.253 0 2.449 1.917 4.253 4.269 4.253 2.353 0 4.27-1.804 4.27-4.253 0-2.464-1.917-4.253-4.27-4.253zm0 6.832c-1.289 0-2.4-1.063-2.4-2.578 0-1.531 1.112-2.578 2.4-2.578 1.289 0 2.4 1.047 2.4 2.578.001 1.514-1.111 2.578-2.4 2.578zm-11.078-5.526v1.804h4.318c-.129 1.015-.467 1.756-.983 2.27-.628.629-1.611 1.322-3.335 1.322-2.658 0-4.736-2.143-4.736-4.801 0-2.658 2.078-4.801 4.736-4.801 1.434 0 2.481.564 3.254 1.289l1.273-1.273c-1.08-1.031-2.513-1.82-4.527-1.82-3.641 0-6.702 2.964-6.702 6.605 0 3.64 3.061 6.605 6.702 6.605 1.965 0 3.448-.645 4.607-1.853 1.192-1.192 1.563-2.868 1.563-4.221 0-.418-.032-.805-.097-1.127h-6.073zm45.308 1.4c-.354-.95-1.434-2.706-3.641-2.706-2.191 0-4.012 1.724-4.012 4.253 0 2.384 1.805 4.253 4.221 4.253 1.949 0 3.077-1.192 3.545-1.885l-1.45-.967c-.483.709-1.144 1.176-2.095 1.176-.95 0-1.627-.435-2.062-1.29l5.687-2.351-.193-.482zm-5.8 1.419c-.048-1.644 1.273-2.481 2.224-2.481.741 0 1.369.37 1.579.902l-3.803 1.579zM82.629 30h1.868V17.499h-1.868v12.5zm-3.062-7.298h-.064c-.419-.5-1.225-.951-2.239-.951-2.127 0-4.076 1.869-4.076 4.27 0 2.384 1.949 4.237 4.076 4.237 1.015 0 1.82-.451 2.239-.966h.064v.612c0 1.627-.87 2.497-2.271 2.497-1.144 0-1.853-.821-2.143-1.514l-1.627.677c.467 1.127 1.707 2.513 3.77 2.513 2.191 0 4.044-1.29 4.044-4.431V22.01h-1.772v.692h-.001zm-2.142 5.88c-1.289 0-2.368-1.08-2.368-2.561 0-1.5 1.079-2.594 2.368-2.594 1.272 0 2.271 1.095 2.271 2.594 0 1.482-.999 2.562-2.271 2.562zM101.806 17.5h-4.471v12.5H99.2v-4.735h2.605c2.068 0 4.102-1.497 4.102-3.882s-2.033-3.883-4.101-3.883zm.048 6.025H99.2v-4.285h2.654c1.395 0 2.187 1.155 2.187 2.143 0 .968-.792 2.142-2.187 2.142zm11.532-1.795c-1.351 0-2.75.595-3.329 1.914l1.656.69c.354-.69 1.014-.916 1.705-.916.965 0 1.946.579 1.962 1.608v.129c-.338-.193-1.062-.482-1.946-.482-1.785 0-3.603.98-3.603 2.814 0 1.673 1.464 2.75 3.104 2.75 1.254 0 1.946-.563 2.38-1.223h.064v.965h1.802v-4.793c.001-2.218-1.657-3.456-3.795-3.456zm-.226 6.85c-.61 0-1.463-.305-1.463-1.061 0-.965 1.062-1.335 1.979-1.335.819 0 1.206.177 1.704.418a2.262 2.262 0 01-2.22 1.979zm10.583-6.577l-2.139 5.42h-.064l-2.22-5.42h-2.01l3.329 7.575-1.898 4.214h1.946L125.818 22h-2.075zM106.937 30h1.865V17.499h-1.865v12.5zM47.418 10.243c0 .838-.248 1.505-.745 2.003-.564.592-1.3.888-2.204.888-.866 0-1.603-.3-2.208-.9-.606-.6-.909-1.345-.909-2.233 0-.889.303-1.633.91-2.233.604-.6 1.341-.9 2.207-.9.43 0 .841.083 1.231.25.391.168.704.391.938.67l-.527.528c-.397-.475-.944-.712-1.643-.712-.632 0-1.178.222-1.639.666-.461.444-.69 1.021-.69 1.73 0 .71.229 1.286.69 1.73a2.282 2.282 0 001.639.666c.67 0 1.23-.223 1.676-.67.29-.29.458-.696.503-1.215h-2.179v-.72h2.907c.03.156.043.307.043.452zM52.028 7.737h-2.732V9.64h2.464v.721h-2.464v1.902h2.732V13h-3.503V7h3.503v.737zM55.279 13h-.771V7.737h-1.676V7h4.123v.737h-1.676V13zM59.938 13V7h.771v6h-.771zM64.128 13h-.77V7.737H61.68V7h4.123v.737h-1.676V13zM73.609 12.225c-.59.606-1.323.91-2.2.91-.877 0-1.61-.304-2.2-.91-.59-.606-.883-1.348-.883-2.225s.294-1.619.884-2.225c.589-.606 1.322-.91 2.199-.91.872 0 1.604.305 2.196.914.592.61.888 1.35.888 2.221 0 .877-.295 1.62-.884 2.225zm-3.83-.503a2.2 2.2 0 001.63.674c.643 0 1.187-.225 1.63-.674.444-.45.667-1.024.667-1.722s-.223-1.272-.667-1.722a2.199 2.199 0 00-1.63-.674c-.643 0-1.186.225-1.63.674-.443.45-.666 1.024-.666 1.722s.223 1.272.666 1.722zM75.575 13V7h.938l2.916 4.667h.033l-.033-1.156v-3.51h.77v6h-.804l-3.051-4.895h-.033l.033 1.156V13h-.77z\"></path><path stroke=\"#fff\" stroke-miterlimit=\"10\" stroke-width=\"0.2\" d=\"M47.418 10.243c0 .838-.248 1.505-.745 2.003-.564.592-1.3.888-2.204.888-.866 0-1.603-.3-2.208-.9-.606-.6-.909-1.345-.909-2.233 0-.889.303-1.633.91-2.233.604-.6 1.341-.9 2.207-.9.43 0 .841.083 1.231.25.391.168.704.391.938.67l-.527.528c-.397-.475-.944-.712-1.643-.712-.632 0-1.178.222-1.639.666-.461.444-.69 1.021-.69 1.73 0 .71.229 1.286.69 1.73a2.282 2.282 0 001.639.666c.67 0 1.23-.223 1.676-.67.29-.29.458-.696.503-1.215h-2.179v-.72h2.907c.03.156.043.307.043.452zM52.028 7.737h-2.732V9.64h2.464v.721h-2.464v1.902h2.732V13h-3.503V7h3.503v.737zM55.279 13h-.771V7.737h-1.676V7h4.123v.737h-1.676V13zM59.938 13V7h.771v6h-.771zM64.128 13h-.77V7.737H61.68V7h4.123v.737h-1.676V13zM73.609 12.225c-.59.606-1.323.91-2.2.91-.877 0-1.61-.304-2.2-.91-.59-.606-.883-1.348-.883-2.225s.294-1.619.884-2.225c.589-.606 1.322-.91 2.199-.91.872 0 1.604.305 2.196.914.592.61.888 1.35.888 2.221 0 .877-.295 1.62-.884 2.225zm-3.83-.503a2.2 2.2 0 001.63.674c.643 0 1.187-.225 1.63-.674.444-.45.667-1.024.667-1.722s-.223-1.272-.667-1.722a2.199 2.199 0 00-1.63-.674c-.643 0-1.186.225-1.63.674-.443.45-.666 1.024-.666 1.722s.223 1.272.666 1.722zM75.575 13V7h.938l2.916 4.667h.033l-.033-1.156v-3.51h.77v6h-.804l-3.051-4.895h-.033l.033 1.156V13h-.77z\"></path><g filter=\"url(#filter0_ii_2092_139931)\"><path fill=\"url(#paint0_linear_2092_139931)\" d=\"M10.436 7.538c-.29.308-.463.786-.463 1.405v22.116c0 .62.172 1.097.463 1.405l.074.072 12.39-12.39v-.291L10.51 7.465l-.074.073z\"></path><path fill=\"url(#paint1_linear_2092_139931)\" d=\"M27.028 24.278l-4.13-4.131v-.292l4.13-4.13.094.053 4.893 2.78c1.397.794 1.397 2.093 0 2.888l-4.893 2.78-.094.052z\"></path><g filter=\"url(#filter1_i_2092_139931)\"><path fill=\"url(#paint2_linear_2092_139931)\" d=\"M27.122 24.225l-4.224-4.224-12.462 12.463c.46.488 1.221.548 2.078.062l14.608-8.301z\"></path></g><path fill=\"url(#paint3_linear_2092_139931)\" d=\"M27.122 15.777l-14.608-8.3c-.857-.487-1.618-.426-2.078.062l12.463 12.463 4.223-4.225z\"></path></g><rect width=\"134\" height=\"39\" x=\"0.5\" y=\"0.5\" stroke=\"#A6A6A6\" rx=\"4.5\"></rect><defs><filter id=\"filter0_ii_2092_139931\" width=\"23.089\" height=\"25.721\" x=\"9.973\" y=\"7.141\" color-interpolation-filters=\"sRGB\" filterUnits=\"userSpaceOnUse\"><feFlood flood-opacity=\"0\" result=\"BackgroundImageFix\"></feFlood><feBlend in=\"SourceGraphic\" in2=\"BackgroundImageFix\" result=\"shape\"></feBlend><feColorMatrix in=\"SourceAlpha\" result=\"hardAlpha\" values=\"0 0 0 0 0 0 0 0 0 0 0 0 0 0 0 0 0 0 127 0\"></feColorMatrix><feOffset dy=\"-0.15\"></feOffset><feComposite in2=\"hardAlpha\" k2=\"-1\" k3=\"1\" operator=\"arithmetic\"></feComposite><feColorMatrix values=\"0 0 0 0 0 0 0 0 0 0 0 0 0 0 0 0 0 0 0.12 0\"></feColorMatrix><feBlend in2=\"shape\" result=\"effect1_innerShadow_2092_139931\"></feBlend><feColorMatrix in=\"SourceAlpha\" result=\"hardAlpha\" values=\"0 0 0 0 0 0 0 0 0 0 0 0 0 0 0 0 0 0 127 0\"></feColorMatrix><feOffset dy=\"0.15\"></feOffset><feComposite in2=\"hardAlpha\" k2=\"-1\" k3=\"1\" operator=\"arithmetic\"></feComposite><feColorMatrix values=\"0 0 0 0 1 0 0 0 0 1 0 0 0 0 1 0 0 0 0.25 0\"></feColorMatrix><feBlend in2=\"effect1_innerShadow_2092_139931\" result=\"effect2_innerShadow_2092_139931\"></feBlend></filter><filter id=\"filter1_i_2092_139931\" width=\"16.686\" height=\"12.86\" x=\"10.436\" y=\"20.001\" color-interpolation-filters=\"sRGB\" filterUnits=\"userSpaceOnUse\"><feFlood flood-opacity=\"0\" result=\"BackgroundImageFix\"></feFlood><feBlend in=\"SourceGraphic\" in2=\"BackgroundImageFix\" result=\"shape\"></feBlend><feColorMatrix in=\"SourceAlpha\" result=\"hardAlpha\" values=\"0 0 0 0 0 0 0 0 0 0 0 0 0 0 0 0 0 0 127 0\"></feColorMatrix><feOffset dy=\"-0.15\"></feOffset><feComposite in2=\"hardAlpha\" k2=\"-1\" k3=\"1\" operator=\"arithmetic\"></feComposite><feColorMatrix values=\"0 0 0 0 0 0 0 0 0 0 0 0 0 0 0 0 0 0 0.08 0\"></feColorMatrix><feBlend in2=\"shape\" result=\"effect1_innerShadow_2092_139931\"></feBlend></filter><linearGradient id=\"paint0_linear_2092_139931\" x1=\"21.801\" x2=\"5.019\" y1=\"8.709\" y2=\"25.491\" gradientUnits=\"userSpaceOnUse\"><stop stop-color=\"#00A0FF\"></stop><stop offset=\"0.007\" stop-color=\"#00A1FF\"></stop><stop offset=\"0.26\" stop-color=\"#00BEFF\"></stop><stop offset=\"0.512\" stop-color=\"#00D2FF\"></stop><stop offset=\"0.76\" stop-color=\"#00DFFF\"></stop><stop offset=\"1\" stop-color=\"#00E3FF\"></stop></linearGradient><linearGradient id=\"paint1_linear_2092_139931\" x1=\"33.833\" x2=\"9.638\" y1=\"20.001\" y2=\"20.001\" gradientUnits=\"userSpaceOnUse\"><stop stop-color=\"#FFE000\"></stop><stop offset=\"0.409\" stop-color=\"#FFBD00\"></stop><stop offset=\"0.775\" stop-color=\"orange\"></stop><stop offset=\"1\" stop-color=\"#FF9C00\"></stop></linearGradient><linearGradient id=\"paint2_linear_2092_139931\" x1=\"24.828\" x2=\"2.07\" y1=\"22.295\" y2=\"45.053\" gradientUnits=\"userSpaceOnUse\"><stop stop-color=\"#FF3A44\"></stop><stop offset=\"1\" stop-color=\"#C31162\"></stop></linearGradient><linearGradient id=\"paint3_linear_2092_139931\" x1=\"7.297\" x2=\"17.46\" y1=\"0.177\" y2=\"10.339\" gradientUnits=\"userSpaceOnUse\"><stop stop-color=\"#32A071\"></stop><stop offset=\"0.069\" stop-color=\"#2DA771\"></stop><stop offset=\"0.476\" stop-color=\"#15CF74\"></stop><stop offset=\"0.801\" stop-color=\"#06E775\"></stop><stop offset=\"1\" stop-color=\"#00F076\"></stop></linearGradient></defs></svg></a></div></div></div></div></div></div></section></main></div></div><div class=\"\"><footer class=\"z-40 border-t border-gray-200 bg-gray-50 dark:border-gray-700 dark:bg-gray-900\" aria-labelledby=\"footer-heading\"><h2 id=\"footer-heading\" class=\"sr-only\">Footer</h2><div class=\"mx-auto max-w-screen-2xl px-4 py-12 sm:px-6 lg:px-8 lg:py-16\"><div class=\"xl:grid xl:grid-cols-3 xl:gap-8\"><div class=\"space-y-8 dark:text-white xl:col-span-1\"><svg viewBox=\"0 0 168 268\" class=\"aspect-[0.64] h-auto w-12\" fill=\"currentColor\" xmlns=\"http://www.w3.org/2000/svg\"><path d=\"M41.78 157.47L28.15 157.5L0.829987 117.95L28.5 76.5H52.83L25.17 116.79L52.83 157.5L41.78 157.47Z\"></path><path d=\"M126.22 157.47L139.85 157.5L167.17 117.95L139.5 76.5H115.17L142.83 116.79L115.17 157.5L126.22 157.47Z\"></path><path d=\"M99.7 136.57C96.92 140.75 92.9 143.39 88.41 143.39C80.03 143.39 73.23 134.22 73.23 122.91C73.23 111.6 80.03 102.43 88.41 102.43C92.81 102.43 96.77 104.97 99.54 109.01L113.02 99.59C106.98 90.99 97.74 85.48 87.36 85.48C69.16 85.48 54.41 102.39 54.41 123.25C54.41 144.11 69.16 161.02 87.36 161.02C98.63 161.02 108.57 154.53 114.51 144.63L99.7 136.57Z\"></path><path d=\"M84.83 0.5C67.16 0.5 52.83 17.39 52.83 38.23C52.83 59.07 67.16 75.96 84.83 75.96C102.5 75.96 116.83 59.07 116.83 38.23C116.83 17.39 102.51 0.5 84.83 0.5ZM85.15 59.66C77.26 59.66 70.87 50.35 70.87 38.88C70.87 27.41 77.26 18.1 85.15 18.1C93.04 18.1 99.43 27.41 99.43 38.88C99.43 50.35 93.04 59.66 85.15 59.66Z\"></path><path d=\"M74.54 171.5H97.57L124.97 267.5H103.1L86.29 199.27L68.79 267.5H47.83L74.54 171.5Z\"></path></svg><p class=\"text-base text-gray-700 dark:text-gray-300\">Learn to code interactively - without ever leaving your browser.</p><div class=\"flex space-x-6\"><a class=\"text-gray-500 hover:text-gray-700 dark:text-gray-400 dark:hover:text-gray-200\" target=\"_blank\" href=\"https://www.facebook.com/codedamncom/\"><span class=\"sr-only\">Facebook</span><svg fill=\"currentColor\" viewBox=\"0 0 24 24\" class=\"h-6 w-6\" aria-hidden=\"true\"><path fill-rule=\"evenodd\" d=\"M22 12c0-5.523-4.477-10-10-10S2 6.477 2 12c0 4.991 3.657 9.128 8.438 9.878v-6.987h-2.54V12h2.54V9.797c0-2.506 1.492-3.89 3.777-3.89 1.094 0 2.238.195 2.238.195v2.46h-1.26c-1.243 0-1.63.771-1.63 1.562V12h2.773l-.443 2.89h-2.33v6.988C18.343 21.128 22 16.991 22 12z\" clip-rule=\"evenodd\"></path></svg></a><a class=\"text-gray-500 hover:text-gray-700 dark:text-gray-400 dark:hover:text-gray-200\" target=\"_blank\" href=\"https://www.instagram.com/codedamn/\"><span class=\"sr-only\">Instagram</span><svg fill=\"currentColor\" viewBox=\"0 0 24 24\" class=\"h-6 w-6\" aria-hidden=\"true\"><path fill-rule=\"evenodd\" d=\"M12.315 2c2.43 0 2.784.013 3.808.06 1.064.049 1.791.218 2.427.465a4.902 4.902 0 011.772 1.153 4.902 4.902 0 011.153 1.772c.247.636.416 1.363.465 2.427.048 1.067.06 1.407.06 4.123v.08c0 2.643-.012 2.987-.06 4.043-.049 1.064-.218 1.791-.465 2.427a4.902 4.902 0 01-1.153 1.772 4.902 4.902 0 01-1.772 1.153c-.636.247-1.363.416-2.427.465-1.067.048-1.407.06-4.123.06h-.08c-2.643 0-2.987-.012-4.043-.06-1.064-.049-1.791-.218-2.427-.465a4.902 4.902 0 01-1.772-1.153 4.902 4.902 0 01-1.153-1.772c-.247-.636-.416-1.363-.465-2.427-.047-1.024-.06-1.379-.06-3.808v-.63c0-2.43.013-2.784.06-3.808.049-1.064.218-1.791.465-2.427a4.902 4.902 0 011.153-1.772A4.902 4.902 0 015.45 2.525c.636-.247 1.363-.416 2.427-.465C8.901 2.013 9.256 2 11.685 2h.63zm-.081 1.802h-.468c-2.456 0-2.784.011-3.807.058-.975.045-1.504.207-1.857.344-.467.182-.8.398-1.15.748-.35.35-.566.683-.748 1.15-.137.353-.3.882-.344 1.857-.047 1.023-.058 1.351-.058 3.807v.468c0 2.456.011 2.784.058 3.807.045.975.207 1.504.344 1.857.182.466.399.8.748 1.15.35.35.683.566 1.15.748.353.137.882.3 1.857.344 1.054.048 1.37.058 4.041.058h.08c2.597 0 2.917-.01 3.96-.058.976-.045 1.505-.207 1.858-.344.466-.182.8-.398 1.15-.748.35-.35.566-.683.748-1.15.137-.353.3-.882.344-1.857.048-1.055.058-1.37.058-4.041v-.08c0-2.597-.01-2.917-.058-3.96-.045-.976-.207-1.505-.344-1.858a3.097 3.097 0 00-.748-1.15 3.098 3.098 0 00-1.15-.748c-.353-.137-.882-.3-1.857-.344-1.023-.047-1.351-.058-3.807-.058zM12 6.865a5.135 5.135 0 110 10.27 5.135 5.135 0 010-10.27zm0 1.802a3.333 3.333 0 100 6.666 3.333 3.333 0 000-6.666zm5.338-3.205a1.2 1.2 0 110 2.4 1.2 1.2 0 010-2.4z\" clip-rule=\"evenodd\"></path></svg></a><a class=\"text-gray-500 hover:text-gray-700 dark:text-gray-400 dark:hover:text-gray-200\" target=\"_blank\" href=\"https://twitter.com/codedamncom\"><span class=\"sr-only\">Twitter</span><svg fill=\"currentColor\" viewBox=\"0 0 24 24\" class=\"h-6 w-6\" aria-hidden=\"true\"><path d=\"M8.29 20.251c7.547 0 11.675-6.253 11.675-11.675 0-.178 0-.355-.012-.53A8.348 8.348 0 0022 5.92a8.19 8.19 0 01-2.357.646 4.118 4.118 0 001.804-2.27 8.224 8.224 0 01-2.605.996 4.107 4.107 0 00-6.993 3.743 11.65 11.65 0 01-8.457-4.287 4.106 4.106 0 001.27 5.477A4.072 4.072 0 012.8 9.713v.052a4.105 4.105 0 003.292 4.022 4.095 4.095 0 01-1.853.07 4.108 4.108 0 003.834 2.85A8.233 8.233 0 012 18.407a11.616 11.616 0 006.29 1.84\"></path></svg></a><a class=\"text-gray-500 hover:text-gray-700 dark:text-gray-400 dark:hover:text-gray-200\" target=\"_blank\" href=\"https://github.com/codedamn/core\"><span class=\"sr-only\">GitHub</span><svg fill=\"currentColor\" viewBox=\"0 0 24 24\" class=\"h-6 w-6\" aria-hidden=\"true\"><path fill-rule=\"evenodd\" d=\"M12 2C6.477 2 2 6.484 2 12.017c0 4.425 2.865 8.18 6.839 9.504.5.092.682-.217.682-.483 0-.237-.008-.868-.013-1.703-2.782.605-3.369-1.343-3.369-1.343-.454-1.158-1.11-1.466-1.11-1.466-.908-.62.069-.608.069-.608 1.003.07 1.531 1.032 1.531 1.032.892 1.53 2.341 1.088 2.91.832.092-.647.35-1.088.636-1.338-2.22-.253-4.555-1.113-4.555-4.951 0-1.093.39-1.988 1.029-2.688-.103-.253-.446-1.272.098-2.65 0 0 .84-.27 2.75 1.026A9.564 9.564 0 0112 6.844c.85.004 1.705.115 2.504.337 1.909-1.296 2.747-1.027 2.747-1.027.546 1.379.202 2.398.1 2.651.64.7 1.028 1.595 1.028 2.688 0 3.848-2.339 4.695-4.566 4.943.359.309.678.92.678 1.855 0 1.338-.012 2.419-.012 2.747 0 .268.18.58.688.482A10.019 10.019 0 0022 12.017C22 6.484 17.522 2 12 2z\" clip-rule=\"evenodd\"></path></svg></a><a class=\"text-gray-500 hover:text-gray-700 dark:text-gray-400 dark:hover:text-gray-200\" target=\"_blank\" href=\"https://www.youtube.com/codedamn\"><span class=\"sr-only\">YouTube</span><svg class=\"h-6 w-6\" aria-hidden=\"true\" fill=\"currentColor\" viewBox=\"0 0 75 75\"><defs><clipPath id=\"clip1\"><path d=\"M 0 9.609375 L 75 9.609375 L 75 64.828125 L 0 64.828125 Z M 0 9.609375 \"></path></clipPath></defs><g id=\"surface1\"><g clip-path=\"url(#clip1)\" clip-rule=\"nonzero\"><path fill=\"currentColor\" d=\"M 72.910156 19.132812 C 72.214844 15.34375 68.914062 12.585938 65.078125 11.722656 C 59.339844 10.519531 48.722656 9.65625 37.234375 9.65625 C 25.753906 9.65625 14.96875 10.519531 9.222656 11.722656 C 5.398438 12.585938 2.085938 15.167969 1.394531 19.132812 C 0.691406 23.4375 0 29.46875 0 37.21875 C 0 44.972656 0.691406 51 1.5625 55.308594 C 2.261719 59.09375 5.566406 61.855469 9.394531 62.714844 C 15.484375 63.921875 25.925781 64.78125 37.414062 64.78125 C 48.902344 64.78125 59.339844 63.921875 65.433594 62.714844 C 69.257812 61.855469 72.5625 59.269531 73.261719 55.308594 C 73.957031 51 74.824219 44.796875 75.003906 37.21875 C 74.648438 29.46875 73.777344 23.4375 72.910156 19.132812 Z M 27.84375 49.277344 L 27.84375 25.160156 L 49.070312 37.21875 Z M 27.84375 49.277344 \"></path></g></g></svg></a><a class=\"text-gray-500 hover:text-gray-700 dark:text-gray-400 dark:hover:text-gray-200\" target=\"_blank\" href=\"https://discord.com/invite/brtAY92J2r\"><span class=\"sr-only\">Discord</span><svg class=\"h-6 w-6\" aria-hidden=\"true\" fill=\"currentColor\" viewBox=\"0 0 50 50\"><path d=\"M 41.625 10.769531 C 37.644531 7.566406 31.347656 7.023438 31.078125 7.003906 C 30.660156 6.96875 30.261719 7.203125 30.089844 7.589844 C 30.074219 7.613281 29.9375 7.929688 29.785156 8.421875 C 32.417969 8.867188 35.652344 9.761719 38.578125 11.578125 C 39.046875 11.867188 39.191406 12.484375 38.902344 12.953125 C 38.710938 13.261719 38.386719 13.429688 38.050781 13.429688 C 37.871094 13.429688 37.6875 13.378906 37.523438 13.277344 C 32.492188 10.15625 26.210938 10 25 10 C 23.789063 10 17.503906 10.15625 12.476563 13.277344 C 12.007813 13.570313 11.390625 13.425781 11.101563 12.957031 C 10.808594 12.484375 10.953125 11.871094 11.421875 11.578125 C 14.347656 9.765625 17.582031 8.867188 20.214844 8.425781 C 20.0625 7.929688 19.925781 7.617188 19.914063 7.589844 C 19.738281 7.203125 19.34375 6.960938 18.921875 7.003906 C 18.652344 7.023438 12.355469 7.566406 8.320313 10.8125 C 6.214844 12.761719 2 24.152344 2 34 C 2 34.175781 2.046875 34.34375 2.132813 34.496094 C 5.039063 39.605469 12.972656 40.941406 14.78125 41 C 14.789063 41 14.800781 41 14.8125 41 C 15.132813 41 15.433594 40.847656 15.621094 40.589844 L 17.449219 38.074219 C 12.515625 36.800781 9.996094 34.636719 9.851563 34.507813 C 9.4375 34.144531 9.398438 33.511719 9.765625 33.097656 C 10.128906 32.683594 10.761719 32.644531 11.175781 33.007813 C 11.234375 33.0625 15.875 37 25 37 C 34.140625 37 38.78125 33.046875 38.828125 33.007813 C 39.242188 32.648438 39.871094 32.683594 40.238281 33.101563 C 40.601563 33.515625 40.5625 34.144531 40.148438 34.507813 C 40.003906 34.636719 37.484375 36.800781 32.550781 38.074219 L 34.378906 40.589844 C 34.566406 40.847656 34.867188 41 35.1875 41 C 35.199219 41 35.210938 41 35.21875 41 C 37.027344 40.941406 44.960938 39.605469 47.867188 34.496094 C 47.953125 34.34375 48 34.175781 48 34 C 48 24.152344 43.785156 12.761719 41.625 10.769531 Z M 18.5 30 C 16.566406 30 15 28.210938 15 26 C 15 23.789063 16.566406 22 18.5 22 C 20.433594 22 22 23.789063 22 26 C 22 28.210938 20.433594 30 18.5 30 Z M 31.5 30 C 29.566406 30 28 28.210938 28 26 C 28 23.789063 29.566406 22 31.5 22 C 33.433594 22 35 23.789063 35 26 C 35 28.210938 33.433594 30 31.5 30 Z\"></path></svg></a></div></div><div class=\"mt-12 grid grid-cols-2 gap-8 xl:col-span-2 xl:mt-0\"><div class=\"md:grid md:grid-cols-2 md:gap-8\"><div><h3 class=\"text-sm font-semibold uppercase tracking-wider text-gray-600 dark:text-gray-300\">Solutions</h3><ul role=\"list\" class=\"mt-4 space-y-4\"><li><a class=\"text-base text-gray-500 hover:text-gray-900 dark:text-gray-400 dark:hover:text-gray-100\" target=\"_self\" href=\"/learning-paths\">Learning paths</a></li><li><a class=\"text-base text-gray-500 hover:text-gray-900 dark:text-gray-400 dark:hover:text-gray-100\" target=\"_self\" href=\"/courses\">Explore courses</a></li><li><a class=\"text-base text-gray-500 hover:text-gray-900 dark:text-gray-400 dark:hover:text-gray-100\" target=\"_self\" href=\"/projects\">Build projects</a></li><li><a class=\"text-base text-gray-500 hover:text-gray-900 dark:text-gray-400 dark:hover:text-gray-100\" target=\"_self\" href=\"/playgrounds\">Boot playgrounds</a></li><li><a class=\"text-base text-gray-500 hover:text-gray-900 dark:text-gray-400 dark:hover:text-gray-100\" target=\"_self\" href=\"/instructor\">Teach on codedamn</a></li></ul></div><div class=\"mt-12 md:mt-0\"><h3 class=\"text-sm font-semibold uppercase tracking-wider text-gray-600 dark:text-gray-300\">Resources</h3><ul role=\"list\" class=\"mt-4 space-y-4\"><li><a class=\"text-base text-gray-500 hover:text-gray-900 dark:text-gray-400 dark:hover:text-gray-100\" target=\"_self\" href=\"/pricing\">Pricing</a></li><li><a class=\"text-base text-gray-500 hover:text-gray-900 dark:text-gray-400 dark:hover:text-gray-100\" target=\"_self\" href=\"/student\">Student account</a></li><li><a class=\"text-base text-gray-500 hover:text-gray-900 dark:text-gray-400 dark:hover:text-gray-100\" target=\"_self\" href=\"/news\">Developer blog</a></li><li><a class=\"text-base text-gray-500 hover:text-gray-900 dark:text-gray-400 dark:hover:text-gray-100\" target=\"_self\" href=\"/refer\">Refer and earn</a></li><li><a class=\"text-base text-gray-500 hover:text-gray-900 dark:text-gray-400 dark:hover:text-gray-100\" target=\"_blank\" href=\"https://partner.codedamn.com/register\">Affiliate program</a></li><li><a class=\"text-base text-gray-500 hover:text-gray-900 dark:text-gray-400 dark:hover:text-gray-100\" target=\"_self\" href=\"/online-compiler\">Online compilers</a></li><li><a class=\"text-base text-gray-500 hover:text-gray-900 dark:text-gray-400 dark:hover:text-gray-100\" target=\"_self\" href=\"/tool\">Online web tools</a></li><li><a class=\"text-base text-gray-500 hover:text-gray-900 dark:text-gray-400 dark:hover:text-gray-100\" target=\"_self\" href=\"/career-path-quiz\">Choose your career</a></li></ul></div></div><div class=\"md:grid md:grid-cols-2 md:gap-8\"><div><h3 class=\"text-sm font-semibold uppercase tracking-wider text-gray-600 dark:text-gray-300\">Company</h3><ul role=\"list\" class=\"mt-4 space-y-4\"><li><a class=\"text-base text-gray-500 hover:text-gray-900 dark:text-gray-400 dark:hover:text-gray-100\" target=\"_self\" href=\"/about\">About</a></li><li><a class=\"text-base text-gray-500 hover:text-gray-900 dark:text-gray-400 dark:hover:text-gray-100\" target=\"_blank\" href=\"https://careers.codedamn.com/jobs\">Careers</a></li><li><a class=\"text-base text-gray-500 hover:text-gray-900 dark:text-gray-400 dark:hover:text-gray-100\" target=\"_self\" href=\"/contact\">Support</a></li><li><a class=\"text-base text-gray-500 hover:text-gray-900 dark:text-gray-400 dark:hover:text-gray-100\" target=\"_self\" href=\"/terms-of-service\">Terms</a></li><li><a class=\"text-base text-gray-500 hover:text-gray-900 dark:text-gray-400 dark:hover:text-gray-100\" target=\"_self\" href=\"/privacy-policy\">Privacy</a></li><li><a class=\"text-base text-gray-500 hover:text-gray-900 dark:text-gray-400 dark:hover:text-gray-100\" target=\"_blank\" href=\"https://feedback.codedamn.com/\">Feedback</a></li></ul></div><div class=\"mt-12 md:mt-0\"><h3 class=\"text-sm font-semibold uppercase tracking-wider text-gray-600 dark:text-gray-300\">Popular</h3><ul role=\"list\" class=\"mt-4 space-y-4\"><li><a class=\"text-base text-gray-500 hover:text-gray-900 dark:text-gray-400 dark:hover:text-gray-100\" target=\"_self\" href=\"/news/reactjs/react-prerequisites-javascript\">How much JS before React?</a></li><li><a class=\"text-base text-gray-500 hover:text-gray-900 dark:text-gray-400 dark:hover:text-gray-100\" target=\"_self\" href=\"/news/solidity/what-is-require-in-solidity\">Solidity require keyword</a></li><li><a class=\"text-base text-gray-500 hover:text-gray-900 dark:text-gray-400 dark:hover:text-gray-100\" target=\"_self\" href=\"/news/nextjs/next-js-vs-nuxt-js\">Next.js vs Nuxt.js</a></li><li><a class=\"text-base text-gray-500 hover:text-gray-900 dark:text-gray-400 dark:hover:text-gray-100\" target=\"_self\" href=\"/online-compiler/reactjs\">React.js online compiler</a></li><li><a class=\"text-base text-gray-500 hover:text-gray-900 dark:text-gray-400 dark:hover:text-gray-100\" target=\"_self\" href=\"/online-compiler/python\">Python online IDE</a></li><li><a class=\"text-base text-gray-500 hover:text-gray-900 dark:text-gray-400 dark:hover:text-gray-100\" target=\"_self\" href=\"/news/nextjs/next-js-best-practices\">Next.js best practices</a></li><li><a class=\"text-base text-gray-500 hover:text-gray-900 dark:text-gray-400 dark:hover:text-gray-100\" target=\"_self\" href=\"/news/solidity/payable-function-in-solidity-example-how-to-use-it\">Payable function solidity</a></li><li><a class=\"text-base text-gray-500 hover:text-gray-900 dark:text-gray-400 dark:hover:text-gray-100\" target=\"_self\" href=\"/online-compiler/solidity\">Solidity online compiler</a></li></ul></div></div></div></div><div class=\"mt-12 border-t border-gray-200 pt-8 dark:border-gray-700\"><p class=\"text-base text-gray-400 xl:text-center\">© codedamn™ <!-- -->2023<!-- --> | All rights reserved.</p></div></div></footer></div></div><div style=\"position:fixed;z-index:200000;top:16px;left:16px;right:16px;bottom:16px;pointer-events:none\"></div></div></div><div id=\"react-contextify-portal\"></div><script id=\"__NEXT_DATA__\" type=\"application/json\">{\"props\":{\"pageProps\":{\"sitewideContext\":{\"hostname\":\"codedamn.com\",\"companyName\":\"\"},\"markers\":[{\"location\":[36.7528,3.042],\"size\":0.022},{\"location\":[45.5017,-73.5673],\"size\":0.026},{\"location\":[28.6139,77.209],\"size\":0.02},{\"location\":[34.0522,-118.2437],\"size\":0.038},{\"location\":[12.9716,77.5946],\"size\":0.05},{\"location\":[59.3293,18.0686],\"size\":0.032},{\"location\":[-12.0464,-77.0428],\"size\":0.047},{\"location\":[19.076,72.8777],\"size\":0.048},{\"location\":[34.0837,74.7973],\"size\":0.046},{\"location\":[23.8315,91.2868],\"size\":0.036},{\"location\":[22.7196,75.8577],\"size\":0.021},{\"location\":[10.4806,-66.9036],\"size\":0.032},{\"location\":[52.52,13.405],\"size\":0.036},{\"location\":[25.5788,91.8933],\"size\":0.049},{\"location\":[25.3176,82.9739],\"size\":0.021},{\"location\":[31.2304,121.4737],\"size\":0.021}],\"__typename\":\"LandingPageStats\",\"userCount\":\"260k\",\"learningHoursCount\":\"100K\",\"playgroundsBootedCount\":\"1.4M\",\"doubtsSolvedCount\":\"252k\"},\"__N_SSG\":true},\"page\":\"/[hostname]\",\"query\":{\"hostname\":\"codedamn.com\"},\"buildId\":\"BnQYeNQf9ZNo-FGNh0MGw\",\"isFallback\":false,\"gsp\":true,\"scriptLoader\":[]}</script></body></html>\n",
      "200\n"
     ]
    }
   ],
   "source": [
    "import requests\n",
    "\n",
    "res = requests.get('https://codedamn.com')\n",
    "\n",
    "print(res.text)\n",
    "print(res.status_code)"
   ]
  },
  {
   "cell_type": "code",
   "execution_count": 42,
   "id": "bcfe8958",
   "metadata": {},
   "outputs": [
    {
     "name": "stdout",
     "output_type": "stream",
     "text": [
      "<!DOCTYPE html>\n",
      "<html lang=\"en\">\n",
      "\t<head>\n",
      "\t\t<!-- Anti-flicker snippet (recommended)  -->\n",
      "\t\t<style>\n",
      "\t\t\t.async-hide {\n",
      "\t\t\t\topacity: 0 !important;\n",
      "\t\t\t}\n",
      "\t\t</style>\n",
      "\t\t<title>codedamn Web Scraper demo</title>\n",
      "\t\t<meta charset=\"utf-8\" />\n",
      "\t\t<meta http-equiv=\"X-UA-Compatible\" content=\"IE=edge,chrome=1\" />\n",
      "\n",
      "\t\t<meta\n",
      "\t\t\tname=\"keywords\"\n",
      "\t\t\tcontent=\"web scraping,Web Scraper,Chrome extension,Crawling,Cross platform scraper, \"\n",
      "\t\t/>\n",
      "\t\t<meta name=\"description\" content=\"The most popular web scraping website.\" />\n",
      "\t\t<link\n",
      "\t\t\trel=\"icon\"\n",
      "\t\t\tsizes=\"128x128\"\n",
      "\t\t\thref=\"/webscraper-python-codedamn-classroom-website/favicon.png\"\n",
      "\t\t/>\n",
      "\n",
      "\t\t<meta name=\"viewport\" content=\"width=device-width, initial-scale=1.0\" />\n",
      "\n",
      "\t\t<link rel=\"stylesheet\" href=\"/webscraper-python-codedamn-classroom-website/app.css\" />\n",
      "\n",
      "\t\t<link\n",
      "\t\t\trel=\"apple-touch-icon\"\n",
      "\t\t\thref=\"/webscraper-python-codedamn-classroom-website/logo-icon.png\"\n",
      "\t\t/>\n",
      "\n",
      "\t\t<script defer src=\"/webscraper-python-codedamn-classroom-website/app.js\"></script>\n",
      "\t</head>\n",
      "\t<body>\n",
      "\t\t<header role=\"banner\" class=\"navbar navbar-fixed-top navbar-static\">\n",
      "\t\t\t<div class=\"container\">\n",
      "\t\t\t\t<div class=\"navbar-header\">\n",
      "\t\t\t\t\t<a\n",
      "\t\t\t\t\t\tdata-toggle=\"collapse-side\"\n",
      "\t\t\t\t\t\tdata-target=\".side-collapse\"\n",
      "\t\t\t\t\t\tdata-target-2=\".side-collapse-container\"\n",
      "\t\t\t\t\t>\n",
      "\t\t\t\t\t\t<button\n",
      "\t\t\t\t\t\t\ttype=\"button\"\n",
      "\t\t\t\t\t\t\tclass=\"navbar-toggle pull-right collapsed\"\n",
      "\t\t\t\t\t\t\tdata-toggle=\"collapse\"\n",
      "\t\t\t\t\t\t\tdata-target=\"#navbar\"\n",
      "\t\t\t\t\t\t\tdata-target-2=\".side-collapse-container\"\n",
      "\t\t\t\t\t\t\tdata-target-3=\".side-collapse\"\n",
      "\t\t\t\t\t\t\taria-expanded=\"false\"\n",
      "\t\t\t\t\t\t\taria-controls=\"navbar\"\n",
      "\t\t\t\t\t\t>\n",
      "\t\t\t\t\t\t\t<span class=\"sr-only\">Toggle navigation</span>\n",
      "\t\t\t\t\t\t\t<span class=\"icon-bar top-bar\"></span>\n",
      "\t\t\t\t\t\t\t<span class=\"icon-bar middle-bar\"></span>\n",
      "\t\t\t\t\t\t\t<span class=\"icon-bar bottom-bar\"></span>\n",
      "\t\t\t\t\t\t</button>\n",
      "\t\t\t\t\t</a>\n",
      "\t\t\t\t\t<div class=\"navbar-brand\">\n",
      "\t\t\t\t\t\t<a href=\"/webscraper-python-codedamn-classroom-website/\"\n",
      "\t\t\t\t\t\t\t><img\n",
      "\t\t\t\t\t\t\t\tsrc=\"/webscraper-python-codedamn-classroom-website/logo_white.svg\"\n",
      "\t\t\t\t\t\t\t\talt=\"Web Scraper\"\n",
      "\t\t\t\t\t\t/></a>\n",
      "\t\t\t\t\t</div>\n",
      "\t\t\t\t</div>\n",
      "\n",
      "\t\t\t\t<div class=\"side-collapse in\">\n",
      "\t\t\t\t\t<nav id=\"navbar\" role=\"navigation\" class=\"navbar-collapse collapse\">\n",
      "\t\t\t\t\t\t<ul class=\"nav navbar-nav navbar-right\">\n",
      "\t\t\t\t\t\t\t<li class=\"hidden\">\n",
      "\t\t\t\t\t\t\t\t<a href=\"#page-top\"></a>\n",
      "\t\t\t\t\t\t\t</li>\n",
      "\n",
      "\t\t\t\t\t\t\t<li>\n",
      "\t\t\t\t\t\t\t\t<a\n",
      "\t\t\t\t\t\t\t\t\thref=\"/webscraper-python-codedamn-classroom-website/\"\n",
      "\t\t\t\t\t\t\t\t\tclass=\"menuitm\"\n",
      "\t\t\t\t\t\t\t\t>\n",
      "\t\t\t\t\t\t\t\t\t<p>Web Scraper</p>\n",
      "\t\t\t\t\t\t\t\t\t<div class=\"crta\"></div>\n",
      "\t\t\t\t\t\t\t\t</a>\n",
      "\t\t\t\t\t\t\t</li>\n",
      "\t\t\t\t\t\t\t<li>\n",
      "\t\t\t\t\t\t\t\t<a\n",
      "\t\t\t\t\t\t\t\t\thref=\"/webscraper-python-codedamn-classroom-website/cloud-scraper\"\n",
      "\t\t\t\t\t\t\t\t\tclass=\"menuitm\"\n",
      "\t\t\t\t\t\t\t\t>\n",
      "\t\t\t\t\t\t\t\t\t<p>Cloud Scraper</p>\n",
      "\t\t\t\t\t\t\t\t\t<div class=\"crta\"></div>\n",
      "\t\t\t\t\t\t\t\t</a>\n",
      "\t\t\t\t\t\t\t</li>\n",
      "\t\t\t\t\t\t\t<li>\n",
      "\t\t\t\t\t\t\t\t<a\n",
      "\t\t\t\t\t\t\t\t\thref=\"/webscraper-python-codedamn-classroom-website/pricing\"\n",
      "\t\t\t\t\t\t\t\t\tclass=\"menuitm\"\n",
      "\t\t\t\t\t\t\t\t>\n",
      "\t\t\t\t\t\t\t\t\t<p>Pricing</p>\n",
      "\t\t\t\t\t\t\t\t\t<div class=\"crta\"></div>\n",
      "\t\t\t\t\t\t\t\t</a>\n",
      "\t\t\t\t\t\t\t</li>\n",
      "\n",
      "\t\t\t\t\t\t\t<li class=\"dropdown\">\n",
      "\t\t\t\t\t\t\t\t<a\n",
      "\t\t\t\t\t\t\t\t\thref=\"#section3\"\n",
      "\t\t\t\t\t\t\t\t\tclass=\"menuitm dropdown-toggle\"\n",
      "\t\t\t\t\t\t\t\t\tdata-toggle=\"dropdown\"\n",
      "\t\t\t\t\t\t\t\t>\n",
      "\t\t\t\t\t\t\t\t\t<p>Learn</p>\n",
      "\t\t\t\t\t\t\t\t\t<div class=\"crta\"></div>\n",
      "\t\t\t\t\t\t\t\t</a>\n",
      "\t\t\t\t\t\t\t\t<ul class=\"dropdown-menu\">\n",
      "\t\t\t\t\t\t\t\t\t<li>\n",
      "\t\t\t\t\t\t\t\t\t\t<a\n",
      "\t\t\t\t\t\t\t\t\t\t\thref=\"/webscraper-python-codedamn-classroom-website/documentation\"\n",
      "\t\t\t\t\t\t\t\t\t\t\t>Documentation</a\n",
      "\t\t\t\t\t\t\t\t\t\t>\n",
      "\t\t\t\t\t\t\t\t\t</li>\n",
      "\t\t\t\t\t\t\t\t\t<li>\n",
      "\t\t\t\t\t\t\t\t\t\t<a\n",
      "\t\t\t\t\t\t\t\t\t\t\thref=\"/webscraper-python-codedamn-classroom-website/tutorials\"\n",
      "\t\t\t\t\t\t\t\t\t\t\t>Video Tutorials</a\n",
      "\t\t\t\t\t\t\t\t\t\t>\n",
      "\t\t\t\t\t\t\t\t\t</li>\n",
      "\t\t\t\t\t\t\t\t\t<li>\n",
      "\t\t\t\t\t\t\t\t\t\t<a\n",
      "\t\t\t\t\t\t\t\t\t\t\thref=\"/webscraper-python-codedamn-classroom-website/how-to-videos\"\n",
      "\t\t\t\t\t\t\t\t\t\t\t>How to</a\n",
      "\t\t\t\t\t\t\t\t\t\t>\n",
      "\t\t\t\t\t\t\t\t\t</li>\n",
      "\t\t\t\t\t\t\t\t\t<li>\n",
      "\t\t\t\t\t\t\t\t\t\t<a\n",
      "\t\t\t\t\t\t\t\t\t\t\thref=\"/webscraper-python-codedamn-classroom-website/test-sites\"\n",
      "\t\t\t\t\t\t\t\t\t\t\t>Test Sites</a\n",
      "\t\t\t\t\t\t\t\t\t\t>\n",
      "\t\t\t\t\t\t\t\t\t</li>\n",
      "\t\t\t\t\t\t\t\t\t<li>\n",
      "\t\t\t\t\t\t\t\t\t\t<a\n",
      "\t\t\t\t\t\t\t\t\t\t\thref=\"https://forum.webscraper.io/\"\n",
      "\t\t\t\t\t\t\t\t\t\t\ttarget=\"_blank\"\n",
      "\t\t\t\t\t\t\t\t\t\t\trel=\"noopener\"\n",
      "\t\t\t\t\t\t\t\t\t\t\t>Forum</a\n",
      "\t\t\t\t\t\t\t\t\t\t>\n",
      "\t\t\t\t\t\t\t\t\t</li>\n",
      "\t\t\t\t\t\t\t\t</ul>\n",
      "\t\t\t\t\t\t\t</li>\n",
      "\t\t\t\t\t\t\t<li>\n",
      "\t\t\t\t\t\t\t\t<a\n",
      "\t\t\t\t\t\t\t\t\ttarget=\"_blank\"\n",
      "\t\t\t\t\t\t\t\t\thref=\"https://chrome.google.com/webstore/detail/web-scraper/jnhgnonknehpejjnehehllkliplmbmhn?hl=en\"\n",
      "\t\t\t\t\t\t\t\t\tclass=\"btn-menu1 install-extension\"\n",
      "\t\t\t\t\t\t\t\t\trel=\"noopener\"\n",
      "\t\t\t\t\t\t\t\t\t>Install</a\n",
      "\t\t\t\t\t\t\t\t>\n",
      "\t\t\t\t\t\t\t</li>\n",
      "\t\t\t\t\t\t\t<li>\n",
      "\t\t\t\t\t\t\t\t<a href=\"https://cloud.webscraper.io/\" class=\"btn-menu2\">Login</a>\n",
      "\t\t\t\t\t\t\t</li>\n",
      "\t\t\t\t\t\t</ul>\n",
      "\t\t\t\t\t</nav>\n",
      "\t\t\t\t</div>\n",
      "\t\t\t</div>\n",
      "\t\t</header>\n",
      "\n",
      "\t\t<div class=\"wrapper\">\n",
      "\t\t\t<div class=\"formenu-here container-fluid\"></div>\n",
      "\t\t\t<div class=\"container-fluid blog-hero\">\n",
      "\t\t\t\t<div class=\"container\">\n",
      "\t\t\t\t\t<div class=\"row\">\n",
      "\t\t\t\t\t\t<div class=\"col-md-12\">\n",
      "\t\t\t\t\t\t\t<h1>Test Sites</h1>\n",
      "\t\t\t\t\t\t</div>\n",
      "\t\t\t\t\t</div>\n",
      "\t\t\t\t</div>\n",
      "\t\t\t</div>\n",
      "\n",
      "\t\t\t<div class=\"container test-site\">\n",
      "\t\t\t\t<div class=\"row\">\n",
      "\t\t\t\t\t<div class=\"col-md-3 sidebar\">\n",
      "\t\t\t\t\t\t<div class=\"navbar-default sidebar\" role=\"navigation\">\n",
      "\t\t\t\t\t\t\t<div class=\"sidebar-nav navbar-collapse\">\n",
      "\t\t\t\t\t\t\t\t<ul class=\"nav\" id=\"side-menu\">\n",
      "\t\t\t\t\t\t\t\t\t<li class=\"active\">\n",
      "\t\t\t\t\t\t\t\t\t\t<a\n",
      "\t\t\t\t\t\t\t\t\t\t\thref=\"/webscraper-python-codedamn-classroom-website/test-sites/e-commerce/allinone\"\n",
      "\t\t\t\t\t\t\t\t\t\t\t>Home</a\n",
      "\t\t\t\t\t\t\t\t\t\t>\n",
      "\t\t\t\t\t\t\t\t\t</li>\n",
      "\n",
      "\t\t\t\t\t\t\t\t\t<li>\n",
      "\t\t\t\t\t\t\t\t\t\t<a\n",
      "\t\t\t\t\t\t\t\t\t\t\thref=\"/webscraper-python-codedamn-classroom-website/test-sites/e-commerce/allinone/computers\"\n",
      "\t\t\t\t\t\t\t\t\t\t\tclass=\"category-link\"\n",
      "\t\t\t\t\t\t\t\t\t\t>\n",
      "\t\t\t\t\t\t\t\t\t\t\tComputers\n",
      "\t\t\t\t\t\t\t\t\t\t\t<span class=\"fa arrow\"></span>\n",
      "\t\t\t\t\t\t\t\t\t\t</a>\n",
      "\t\t\t\t\t\t\t\t\t</li>\n",
      "\t\t\t\t\t\t\t\t\t<li>\n",
      "\t\t\t\t\t\t\t\t\t\t<a\n",
      "\t\t\t\t\t\t\t\t\t\t\thref=\"/webscraper-python-codedamn-classroom-website/test-sites/e-commerce/allinone/phones\"\n",
      "\t\t\t\t\t\t\t\t\t\t\tclass=\"category-link\"\n",
      "\t\t\t\t\t\t\t\t\t\t>\n",
      "\t\t\t\t\t\t\t\t\t\t\tPhones\n",
      "\t\t\t\t\t\t\t\t\t\t\t<span class=\"fa arrow\"></span>\n",
      "\t\t\t\t\t\t\t\t\t\t</a>\n",
      "\t\t\t\t\t\t\t\t\t</li>\n",
      "\t\t\t\t\t\t\t\t</ul>\n",
      "\t\t\t\t\t\t\t</div>\n",
      "\t\t\t\t\t\t</div>\n",
      "\t\t\t\t\t</div>\n",
      "\t\t\t\t\t<div class=\"col-md-9\">\n",
      "\t\t\t\t\t\t<div class=\"jumbotron\">\n",
      "\t\t\t\t\t\t\t<h1>E-commerce training site</h1>\n",
      "\t\t\t\t\t\t\t<p>\n",
      "\t\t\t\t\t\t\t\tWelcome to WebScraper e-commerce site. You can use this site for\n",
      "\t\t\t\t\t\t\t\ttraining to learn how to use the Web Scraper. Items listed here are\n",
      "\t\t\t\t\t\t\t\tnot for sale.\n",
      "\t\t\t\t\t\t\t</p>\n",
      "\t\t\t\t\t\t</div>\n",
      "\n",
      "\t\t\t\t\t\t<h2>Top items being scraped right now</h2>\n",
      "\n",
      "\t\t\t\t\t\t<div class=\"row\">\n",
      "\t\t\t\t\t\t\t<div class=\"col-sm-4 col-lg-4 col-md-4\">\n",
      "\t\t\t\t\t\t\t\t<div class=\"thumbnail\">\n",
      "\t\t\t\t\t\t\t\t\t<img\n",
      "\t\t\t\t\t\t\t\t\t\tclass=\"img-responsive\"\n",
      "\t\t\t\t\t\t\t\t\t\talt=\"item\"\n",
      "\t\t\t\t\t\t\t\t\t\tsrc=\"/webscraper-python-codedamn-classroom-website/cart2.png\"\n",
      "\t\t\t\t\t\t\t\t\t/>\n",
      "\t\t\t\t\t\t\t\t\t<div class=\"caption\">\n",
      "\t\t\t\t\t\t\t\t\t\t<h4 class=\"pull-right price\">$1139.54</h4>\n",
      "\t\t\t\t\t\t\t\t\t\t<h4>\n",
      "\t\t\t\t\t\t\t\t\t\t\t<a\n",
      "\t\t\t\t\t\t\t\t\t\t\t\thref=\"/webscraper-python-codedamn-classroom-website/test-sites/e-commerce/allinone/product/593\"\n",
      "\t\t\t\t\t\t\t\t\t\t\t\tclass=\"title\"\n",
      "\t\t\t\t\t\t\t\t\t\t\t\ttitle=\"Asus AsusPro Advanced BU401LA-FA271G Dark Grey\"\n",
      "\t\t\t\t\t\t\t\t\t\t\t\t>Asus AsusPro Adv...</a\n",
      "\t\t\t\t\t\t\t\t\t\t\t>\n",
      "\t\t\t\t\t\t\t\t\t\t</h4>\n",
      "\t\t\t\t\t\t\t\t\t\t<p class=\"description\">\n",
      "\t\t\t\t\t\t\t\t\t\t\tAsus AsusPro Advanced BU401LA-FA271G Dark Grey,\n",
      "\t\t\t\t\t\t\t\t\t\t\t14&quot;, Core i5-4210U, 4GB, 128GB SSD, Win7 Pro 64bit,\n",
      "\t\t\t\t\t\t\t\t\t\t\tENG\n",
      "\t\t\t\t\t\t\t\t\t\t</p>\n",
      "\t\t\t\t\t\t\t\t\t</div>\n",
      "\t\t\t\t\t\t\t\t\t<div class=\"ratings\">\n",
      "\t\t\t\t\t\t\t\t\t\t<p class=\"pull-right\">7 reviews</p>\n",
      "\t\t\t\t\t\t\t\t\t\t<p data-rating=\"3\">\n",
      "\t\t\t\t\t\t\t\t\t\t\t<span class=\"glyphicon glyphicon-star\"></span>\n",
      "\t\t\t\t\t\t\t\t\t\t\t<span class=\"glyphicon glyphicon-star\"></span>\n",
      "\t\t\t\t\t\t\t\t\t\t\t<span class=\"glyphicon glyphicon-star\"></span>\n",
      "\t\t\t\t\t\t\t\t\t\t</p>\n",
      "\t\t\t\t\t\t\t\t\t</div>\n",
      "\t\t\t\t\t\t\t\t</div>\n",
      "\t\t\t\t\t\t\t</div>\n",
      "\t\t\t\t\t\t\t<div class=\"col-sm-4 col-lg-4 col-md-4\">\n",
      "\t\t\t\t\t\t\t\t<div class=\"thumbnail\">\n",
      "\t\t\t\t\t\t\t\t\t<img\n",
      "\t\t\t\t\t\t\t\t\t\tclass=\"img-responsive\"\n",
      "\t\t\t\t\t\t\t\t\t\talt=\"item\"\n",
      "\t\t\t\t\t\t\t\t\t\tsrc=\"/webscraper-python-codedamn-classroom-website/cart2.png\"\n",
      "\t\t\t\t\t\t\t\t\t/>\n",
      "\t\t\t\t\t\t\t\t\t<div class=\"caption\">\n",
      "\t\t\t\t\t\t\t\t\t\t<h4 class=\"pull-right price\">$1101.83</h4>\n",
      "\t\t\t\t\t\t\t\t\t\t<h4>\n",
      "\t\t\t\t\t\t\t\t\t\t\t<a\n",
      "\t\t\t\t\t\t\t\t\t\t\t\thref=\"/webscraper-python-codedamn-classroom-website/test-sites/e-commerce/allinone/product/583\"\n",
      "\t\t\t\t\t\t\t\t\t\t\t\tclass=\"title\"\n",
      "\t\t\t\t\t\t\t\t\t\t\t\ttitle=\"Asus ROG Strix GL553VD-DM535T\"\n",
      "\t\t\t\t\t\t\t\t\t\t\t\t>Asus ROG Strix G...</a\n",
      "\t\t\t\t\t\t\t\t\t\t\t>\n",
      "\t\t\t\t\t\t\t\t\t\t</h4>\n",
      "\t\t\t\t\t\t\t\t\t\t<p class=\"description\">\n",
      "\t\t\t\t\t\t\t\t\t\t\tApple MacBook Air 13.3&quot;, Core i5 1.8GHz, 8GB, 128GB\n",
      "\t\t\t\t\t\t\t\t\t\t\tSSD, Intel HD 4000, RUS\n",
      "\t\t\t\t\t\t\t\t\t\t</p>\n",
      "\t\t\t\t\t\t\t\t\t</div>\n",
      "\t\t\t\t\t\t\t\t\t<div class=\"ratings\">\n",
      "\t\t\t\t\t\t\t\t\t\t<p class=\"pull-right\">4 reviews</p>\n",
      "\t\t\t\t\t\t\t\t\t\t<p data-rating=\"2\">\n",
      "\t\t\t\t\t\t\t\t\t\t\t<span class=\"glyphicon glyphicon-star\"></span>\n",
      "\t\t\t\t\t\t\t\t\t\t\t<span class=\"glyphicon glyphicon-star\"></span>\n",
      "\t\t\t\t\t\t\t\t\t\t</p>\n",
      "\t\t\t\t\t\t\t\t\t</div>\n",
      "\t\t\t\t\t\t\t\t</div>\n",
      "\t\t\t\t\t\t\t</div>\n",
      "\t\t\t\t\t\t\t<div class=\"col-sm-4 col-lg-4 col-md-4\">\n",
      "\t\t\t\t\t\t\t\t<div class=\"thumbnail\">\n",
      "\t\t\t\t\t\t\t\t\t<img\n",
      "\t\t\t\t\t\t\t\t\t\tclass=\"img-responsive\"\n",
      "\t\t\t\t\t\t\t\t\t\talt=\"item\"\n",
      "\t\t\t\t\t\t\t\t\t\tsrc=\"/webscraper-python-codedamn-classroom-website/cart2.png\"\n",
      "\t\t\t\t\t\t\t\t\t/>\n",
      "\t\t\t\t\t\t\t\t\t<div class=\"caption\">\n",
      "\t\t\t\t\t\t\t\t\t\t<h4 class=\"pull-right price\">$494.71</h4>\n",
      "\t\t\t\t\t\t\t\t\t\t<h4>\n",
      "\t\t\t\t\t\t\t\t\t\t\t<a\n",
      "\t\t\t\t\t\t\t\t\t\t\t\thref=\"/webscraper-python-codedamn-classroom-website/test-sites/e-commerce/allinone/product/576\"\n",
      "\t\t\t\t\t\t\t\t\t\t\t\tclass=\"title\"\n",
      "\t\t\t\t\t\t\t\t\t\t\t\ttitle=\"Acer Aspire 3 A315-51 Black\"\n",
      "\t\t\t\t\t\t\t\t\t\t\t\t>Acer Aspire 3 A3...</a\n",
      "\t\t\t\t\t\t\t\t\t\t\t>\n",
      "\t\t\t\t\t\t\t\t\t\t</h4>\n",
      "\t\t\t\t\t\t\t\t\t\t<p class=\"description\">\n",
      "\t\t\t\t\t\t\t\t\t\t\tAcer Aspire 3 A315-51 Black, 15.6&quot; FHD, Core\n",
      "\t\t\t\t\t\t\t\t\t\t\ti3-7100U, 4GB, 500GB + 128GB SSD, Windows 10 Home\n",
      "\t\t\t\t\t\t\t\t\t\t</p>\n",
      "\t\t\t\t\t\t\t\t\t</div>\n",
      "\t\t\t\t\t\t\t\t\t<div class=\"ratings\">\n",
      "\t\t\t\t\t\t\t\t\t\t<p class=\"pull-right\">2 reviews</p>\n",
      "\t\t\t\t\t\t\t\t\t\t<p data-rating=\"4\">\n",
      "\t\t\t\t\t\t\t\t\t\t\t<span class=\"glyphicon glyphicon-star\"></span>\n",
      "\t\t\t\t\t\t\t\t\t\t\t<span class=\"glyphicon glyphicon-star\"></span>\n",
      "\t\t\t\t\t\t\t\t\t\t\t<span class=\"glyphicon glyphicon-star\"></span>\n",
      "\t\t\t\t\t\t\t\t\t\t\t<span class=\"glyphicon glyphicon-star\"></span>\n",
      "\t\t\t\t\t\t\t\t\t\t</p>\n",
      "\t\t\t\t\t\t\t\t\t</div>\n",
      "\t\t\t\t\t\t\t\t</div>\n",
      "\t\t\t\t\t\t\t</div>\n",
      "\t\t\t\t\t\t</div>\n",
      "\t\t\t\t\t</div>\n",
      "\t\t\t\t</div>\n",
      "\t\t\t</div>\n",
      "\t\t\t<div class=\"clearfix\"></div>\n",
      "\t\t\t<div class=\"push\"></div>\n",
      "\t\t</div>\n",
      "\n",
      "\t\t<div class=\"container-fluid footer\" id=\"layout-footer\">\n",
      "\t\t\t<div class=\"container\">\n",
      "\t\t\t\t<div class=\"row\">\n",
      "\t\t\t\t\t<div class=\"col-md-3\">\n",
      "\t\t\t\t\t\t<ul>\n",
      "\t\t\t\t\t\t\t<li><p>Products</p></li>\n",
      "\t\t\t\t\t\t\t<li>\n",
      "\t\t\t\t\t\t\t\t<a href=\"/webscraper-python-codedamn-classroom-website/\"\n",
      "\t\t\t\t\t\t\t\t\t>Web Scraper browser extension</a\n",
      "\t\t\t\t\t\t\t\t>\n",
      "\t\t\t\t\t\t\t</li>\n",
      "\t\t\t\t\t\t\t<li>\n",
      "\t\t\t\t\t\t\t\t<a href=\"/webscraper-python-codedamn-classroom-website/pricing\"\n",
      "\t\t\t\t\t\t\t\t\t>Web Scraper Cloud</a\n",
      "\t\t\t\t\t\t\t\t>\n",
      "\t\t\t\t\t\t\t</li>\n",
      "\t\t\t\t\t\t</ul>\n",
      "\t\t\t\t\t</div>\n",
      "\t\t\t\t\t<div class=\"col-md-3\">\n",
      "\t\t\t\t\t\t<ul>\n",
      "\t\t\t\t\t\t\t<li><p>Company</p></li>\n",
      "\n",
      "\t\t\t\t\t\t\t<li>\n",
      "\t\t\t\t\t\t\t\t<a href=\"/webscraper-python-codedamn-classroom-website/contact\"\n",
      "\t\t\t\t\t\t\t\t\t>Contact</a\n",
      "\t\t\t\t\t\t\t\t>\n",
      "\t\t\t\t\t\t\t</li>\n",
      "\n",
      "\t\t\t\t\t\t\t<li>\n",
      "\t\t\t\t\t\t\t\t<a\n",
      "\t\t\t\t\t\t\t\t\thref=\"/webscraper-python-codedamn-classroom-website/privacy-policy\"\n",
      "\t\t\t\t\t\t\t\t\t>Website Privacy Policy</a\n",
      "\t\t\t\t\t\t\t\t>\n",
      "\t\t\t\t\t\t\t</li>\n",
      "\t\t\t\t\t\t\t<li>\n",
      "\t\t\t\t\t\t\t\t<a\n",
      "\t\t\t\t\t\t\t\t\thref=\"/webscraper-python-codedamn-classroom-website/extension-privacy-policy\"\n",
      "\t\t\t\t\t\t\t\t\t>Browser Extension Privacy Policy</a\n",
      "\t\t\t\t\t\t\t\t>\n",
      "\t\t\t\t\t\t\t</li>\n",
      "\t\t\t\t\t\t\t<li>\n",
      "\t\t\t\t\t\t\t\t<a\n",
      "\t\t\t\t\t\t\t\t\thref=\"http://webscraperio.us-east-1.elasticbeanstalk.com/downloads/Web_Scraper_Media_Kit.zip\"\n",
      "\t\t\t\t\t\t\t\t\t>Media kit</a\n",
      "\t\t\t\t\t\t\t\t>\n",
      "\t\t\t\t\t\t\t</li>\n",
      "\n",
      "\t\t\t\t\t\t\t<li>\n",
      "\t\t\t\t\t\t\t\t<a href=\"/webscraper-python-codedamn-classroom-website/jobs\"\n",
      "\t\t\t\t\t\t\t\t\t>Jobs</a\n",
      "\t\t\t\t\t\t\t\t>\n",
      "\t\t\t\t\t\t\t</li>\n",
      "\t\t\t\t\t\t</ul>\n",
      "\t\t\t\t\t</div>\n",
      "\t\t\t\t\t<div class=\"col-md-3\">\n",
      "\t\t\t\t\t\t<ul>\n",
      "\t\t\t\t\t\t\t<li><p>Resources</p></li>\n",
      "\t\t\t\t\t\t\t<li>\n",
      "\t\t\t\t\t\t\t\t<a href=\"/webscraper-python-codedamn-classroom-website/blog\"\n",
      "\t\t\t\t\t\t\t\t\t>Blog</a\n",
      "\t\t\t\t\t\t\t\t>\n",
      "\t\t\t\t\t\t\t</li>\n",
      "\t\t\t\t\t\t\t<li>\n",
      "\t\t\t\t\t\t\t\t<a\n",
      "\t\t\t\t\t\t\t\t\thref=\"/webscraper-python-codedamn-classroom-website/documentation\"\n",
      "\t\t\t\t\t\t\t\t\t>Documentation</a\n",
      "\t\t\t\t\t\t\t\t>\n",
      "\t\t\t\t\t\t\t</li>\n",
      "\t\t\t\t\t\t\t<li>\n",
      "\t\t\t\t\t\t\t\t<a href=\"/webscraper-python-codedamn-classroom-website/tutorials\"\n",
      "\t\t\t\t\t\t\t\t\t>Video Tutorials</a\n",
      "\t\t\t\t\t\t\t\t>\n",
      "\t\t\t\t\t\t\t</li>\n",
      "\t\t\t\t\t\t\t<li>\n",
      "\t\t\t\t\t\t\t\t<a href=\"/webscraper-python-codedamn-classroom-website/screenshots\"\n",
      "\t\t\t\t\t\t\t\t\t>Screenshots</a\n",
      "\t\t\t\t\t\t\t\t>\n",
      "\t\t\t\t\t\t\t</li>\n",
      "\t\t\t\t\t\t\t<li>\n",
      "\t\t\t\t\t\t\t\t<a href=\"/webscraper-python-codedamn-classroom-website/test-sites\"\n",
      "\t\t\t\t\t\t\t\t\t>Test Sites</a\n",
      "\t\t\t\t\t\t\t\t>\n",
      "\t\t\t\t\t\t\t</li>\n",
      "\t\t\t\t\t\t\t<li>\n",
      "\t\t\t\t\t\t\t\t<a\n",
      "\t\t\t\t\t\t\t\t\ttarget=\"_blank\"\n",
      "\t\t\t\t\t\t\t\t\thref=\"https://forum.webscraper.io/\"\n",
      "\t\t\t\t\t\t\t\t\trel=\"noopener\"\n",
      "\t\t\t\t\t\t\t\t\t>Forum</a\n",
      "\t\t\t\t\t\t\t\t>\n",
      "\t\t\t\t\t\t\t</li>\n",
      "\t\t\t\t\t\t</ul>\n",
      "\t\t\t\t\t</div>\n",
      "\t\t\t\t\t<div class=\"col-md-3\">\n",
      "\t\t\t\t\t\t<ul>\n",
      "\t\t\t\t\t\t\t<li><p>CONTACT US</p></li>\n",
      "\t\t\t\t\t\t\t<li>\n",
      "\t\t\t\t\t\t\t\t<a href=\"mailto:info@webscraper.io\">info@webscraper.io</a>\n",
      "\t\t\t\t\t\t\t</li>\n",
      "\n",
      "\t\t\t\t\t\t\t<li>\n",
      "\t\t\t\t\t\t\t\tRupniecibas iela 30,<br />\n",
      "\t\t\t\t\t\t\t\tRiga, Latvia, LV-1045\n",
      "\t\t\t\t\t\t\t</li>\n",
      "\t\t\t\t\t\t</ul>\n",
      "\t\t\t\t\t\t<ul class=\"smedia\">\n",
      "\t\t\t\t\t\t\t<li>\n",
      "\t\t\t\t\t\t\t\t<a\n",
      "\t\t\t\t\t\t\t\t\thref=\"https://www.facebook.com/webscraperio/\"\n",
      "\t\t\t\t\t\t\t\t\ttarget=\"_blank\"\n",
      "\t\t\t\t\t\t\t\t\trel=\"noopener\"\n",
      "\t\t\t\t\t\t\t\t\t><img\n",
      "\t\t\t\t\t\t\t\t\t\tsrc=\"/webscraper-python-codedamn-classroom-website/fbicon.png\"\n",
      "\t\t\t\t\t\t\t\t\t\talt=\"Web Scraper on Facebook\"\n",
      "\t\t\t\t\t\t\t\t/></a>\n",
      "\t\t\t\t\t\t\t</li>\n",
      "\t\t\t\t\t\t\t<li>\n",
      "\t\t\t\t\t\t\t\t<a\n",
      "\t\t\t\t\t\t\t\t\thref=\"https://twitter.com/webscraperio\"\n",
      "\t\t\t\t\t\t\t\t\ttarget=\"_blank\"\n",
      "\t\t\t\t\t\t\t\t\trel=\"noopener\"\n",
      "\t\t\t\t\t\t\t\t\t><img\n",
      "\t\t\t\t\t\t\t\t\t\tsrc=\"/webscraper-python-codedamn-classroom-website/twicon.png\"\n",
      "\t\t\t\t\t\t\t\t\t\talt=\"Web Scraper on Twitter\"\n",
      "\t\t\t\t\t\t\t\t/></a>\n",
      "\t\t\t\t\t\t\t</li>\n",
      "\t\t\t\t\t\t</ul>\n",
      "\t\t\t\t\t</div>\n",
      "\t\t\t\t</div>\n",
      "\t\t\t\t<div class=\"row\">\n",
      "\t\t\t\t\t<div class=\"col-md-12\">\n",
      "\t\t\t\t\t\t<p class=\"copyright\">\n",
      "\t\t\t\t\t\t\tCopyright &copy 2020 <a href=\"#\">Web Scraper</a> | All rights reserved |\n",
      "\t\t\t\t\t\t\tRemixed by codedamn\n",
      "\t\t\t\t\t\t</p>\n",
      "\t\t\t\t\t</div>\n",
      "\t\t\t\t</div>\n",
      "\t\t\t</div>\n",
      "\t\t</div>\n",
      "\t</body>\n",
      "</html>\n",
      " 200\n"
     ]
    }
   ],
   "source": [
    "import requests\n",
    "\n",
    "# Make a request to https://codedamn-classrooms.github.io/webscraper-python-codedamn-classroom-website/\n",
    "# Store the result in 'res' variable\n",
    "res = requests.get(\n",
    "    'https://codedamn-classrooms.github.io/webscraper-python-codedamn-classroom-website/')\n",
    "txt = res.text\n",
    "status = res.status_code\n",
    "\n",
    "print(txt, status)\n",
    "# print the result"
   ]
  },
  {
   "cell_type": "code",
   "execution_count": 43,
   "id": "5d5b90e6",
   "metadata": {},
   "outputs": [],
   "source": [
    "from bs4 import BeautifulSoup\n",
    "\n",
    "page = requests.get(\"https://codedamn.com\")\n",
    "soup = BeautifulSoup(page.content, 'html.parser')\n",
    "title = soup.title.text # gets you the text of the <title>(...)</title>\n"
   ]
  },
  {
   "cell_type": "code",
   "execution_count": 44,
   "id": "8e1aba14",
   "metadata": {},
   "outputs": [
    {
     "name": "stdout",
     "output_type": "stream",
     "text": [
      "codedamn Web Scraper demo\n"
     ]
    }
   ],
   "source": [
    "import requests\n",
    "from bs4 import BeautifulSoup\n",
    "\n",
    "# Make a request to https://codedamn-classrooms.github.io/webscraper-python-codedamn-classroom-website/\n",
    "page = requests.get(\n",
    "    \"https://codedamn-classrooms.github.io/webscraper-python-codedamn-classroom-website/\")\n",
    "soup = BeautifulSoup(page.content, 'html.parser')\n",
    "\n",
    "# Extract title of page\n",
    "page_title = soup.title.text\n",
    "\n",
    "# print the result\n",
    "print(page_title)"
   ]
  },
  {
   "cell_type": "code",
   "execution_count": 45,
   "id": "c4fdbab7",
   "metadata": {},
   "outputs": [
    {
     "name": "stdout",
     "output_type": "stream",
     "text": [
      "<body class=\"lg:overscroll-y-none\"><div id=\"__next\"><div class=\"__className_0ec1f4\" id=\"root-wrapper\"><div class=\"relative bg-white text-black dark:bg-gray-900 dark:text-white\" id=\"root\"><div class=\"relative flex flex-1 overflow-clip\" id=\"layout-mid-container\"><div class=\"flex w-full flex-1 flex-col\" id=\"layout-content-container\"><div class=\"inset-x-0 top-0 z-30 w-full fixed\"><header class=\"relative h-14 w-full px-2.5 z-40 md:px-4 text-gray-900 dark:text-gray-100 bg-transparent border-b-0\"><div class=\"mx-auto flex h-full w-full max-w-screen-2xl items-center 3xl:px-4\" id=\"header-navs-container\"><div class=\"flex-1\"><div class=\"flex items-center justify-between\"><div class=\"z-10 flex items-center gap-2\"><button class=\"inline-flex min-w-max items-center gap-2 flex-shrink-0 dark:ring-offset-gray-900 border border-transparent font-semibold focus:outline-none disabled:shadow-none disabled:cursor-not-allowed disabled:opacity-60 focus:ring-primary-500 rounded-lg text-sm border-none bg-transparent text-opacity-90 hover:text-opacity-100 -m-2 flex-shrink-0 p-2 text-gray-800 dark:text-gray-200 sm:translate-y-px md:hidden\" type=\"button\"><span class=\"sr-only\">Open menu</span><svg class=\"h-6 w-6 -scale-x-100\" fill=\"currentColor\" height=\"1em\" stroke=\"currentColor\" stroke-width=\"0\" viewbox=\"0 0 24 24\" width=\"1em\" xmlns=\"http://www.w3.org/2000/svg\"><path d=\"M0 0h24v24H0V0z\" fill=\"none\"></path><path d=\"M3 18h13v-2H3v2zm0-5h10v-2H3v2zm0-7v2h13V6H3zm18 9.59L17.42 12 21 8.41 19.59 7l-5 5 5 5L21 15.59z\"></path></svg></button><div class=\"flex items-center gap-2\"><a class=\"flex items-center gap-1 text-xl font-semibold\" data-testid=\"logo\" href=\"/\"><svg class=\"h-7 w-7\" fill=\"none\" viewbox=\"0 0 53 58\" xmlns=\"http://www.w3.org/2000/svg\"><mask height=\"29\" id=\"mask0_1275_84\" maskunits=\"userSpaceOnUse\" style=\"mask-type:alpha\" width=\"53\" x=\"0\" y=\"29\"><rect fill=\"#D9D9D9\" height=\"29\" width=\"53\" y=\"29\"></rect></mask><g mask=\"url(#mask0_1275_84)\"><path d=\"M44 42.5L35.0351 37.1669C31.0351 42.6669 25 42 22 39.5C18.5003 36.7534 15.7595 25.3619 22 19C24.9828 15.9591 31.3219 14.982 35.0351 20.5L43.5 15C41.6667 11.8333 35.5351 6.00174 27.5351 6.00174C20.3685 5.88981 6.20348 10.5673 7.03507 30.166C7.83807 49.0909 21.0115 52.5116 27.5351 52.5C35.5351 52.4858 42.1667 45.6666 44 42.5Z\" fill=\"#EA3F40\"></path></g><mask height=\"29\" id=\"mask1_1275_84\" maskunits=\"userSpaceOnUse\" style=\"mask-type:alpha\" width=\"53\" x=\"0\" y=\"0\"><rect fill=\"#D9D9D9\" height=\"29\" transform=\"matrix(1 0 0 -1 0 29)\" width=\"53\"></rect></mask><g mask=\"url(#mask1_1275_84)\"><path d=\"M44 15.5L35.0351 20.8331C31.0351 15.3331 25 16 22 18.5C18.5003 21.2466 15.7595 32.6381 22 39C24.9828 42.0409 31.3219 43.018 35.0351 37.5L43.5 43C41.6667 46.1667 35.5351 51.9983 27.5351 51.9983C20.3685 52.1102 6.20348 47.4327 7.03507 27.834C7.83807 8.90914 21.0115 5.48845 27.5351 5.5C35.5351 5.51417 42.1667 12.3334 44 15.5Z\" fill=\"#EA3F40\"></path></g></svg><span class=\"hidden dark:text-white sm:block\">codedamn</span></a><div class=\"w-[10ch]\"></div></div></div><div class=\"absolute inset-x-0 z-0 hidden h-14 w-full items-center justify-center md:flex md:flex-col\"><nav class=\"flex gap-8 self-center\"><div data-headlessui-state=\"\"><button aria-expanded=\"false\" class=\"text-gray-600 dark:text-gray-400 group inline-flex items-center rounded-md text-sm font-medium hover:text-gray-900 focus:outline-none dark:hover:text-white\" data-headlessui-state=\"\" data-testid=\"learn-popover-btn\" type=\"button\"><span>Learn</span><svg aria-hidden=\"true\" class=\"text-gray-500 -mb-px ml-0.5 h-4 w-4 group-hover:text-gray-800 dark:group-hover:text-gray-100\" fill=\"currentColor\" height=\"1em\" stroke=\"currentColor\" stroke-width=\"0\" viewbox=\"0 0 20 20\" width=\"1em\" xmlns=\"http://www.w3.org/2000/svg\"><path clip-rule=\"evenodd\" d=\"M5.293 7.293a1 1 0 011.414 0L10 10.586l3.293-3.293a1 1 0 111.414 1.414l-4 4a1 1 0 01-1.414 0l-4-4a1 1 0 010-1.414z\" fill-rule=\"evenodd\"></path></svg></button></div><div data-headlessui-state=\"\"><button aria-expanded=\"false\" class=\"text-gray-600 dark:text-gray-400 group inline-flex items-center rounded-md text-sm font-medium hover:text-gray-900 focus:outline-none dark:hover:text-white\" data-headlessui-state=\"\" type=\"button\"><span>Practice</span><svg aria-hidden=\"true\" class=\"text-gray-500 -mb-px ml-0.5 h-4 w-4 group-hover:text-gray-800 dark:group-hover:text-gray-100\" fill=\"currentColor\" height=\"1em\" stroke=\"currentColor\" stroke-width=\"0\" viewbox=\"0 0 20 20\" width=\"1em\" xmlns=\"http://www.w3.org/2000/svg\"><path clip-rule=\"evenodd\" d=\"M5.293 7.293a1 1 0 011.414 0L10 10.586l3.293-3.293a1 1 0 111.414 1.414l-4 4a1 1 0 01-1.414 0l-4-4a1 1 0 010-1.414z\" fill-rule=\"evenodd\"></path></svg></button></div><div data-headlessui-state=\"\"><button aria-expanded=\"false\" class=\"text-gray-600 dark:text-gray-400 group inline-flex items-center rounded-md text-sm font-medium hover:text-gray-900 focus:outline-none dark:hover:text-white\" data-headlessui-state=\"\" type=\"button\"><span>Company</span><svg aria-hidden=\"true\" class=\"text-gray-500 -mb-px ml-0.5 h-4 w-4 group-hover:text-gray-800 dark:group-hover:text-gray-100\" fill=\"currentColor\" height=\"1em\" stroke=\"currentColor\" stroke-width=\"0\" viewbox=\"0 0 20 20\" width=\"1em\" xmlns=\"http://www.w3.org/2000/svg\"><path clip-rule=\"evenodd\" d=\"M5.293 7.293a1 1 0 011.414 0L10 10.586l3.293-3.293a1 1 0 111.414 1.414l-4 4a1 1 0 01-1.414 0l-4-4a1 1 0 010-1.414z\" fill-rule=\"evenodd\"></path></svg></button></div><div><a class=\"text-sm font-medium text-gray-600 hover:text-gray-900 dark:text-gray-400 dark:hover:text-white\" href=\"/pricing\">Pricing</a></div></nav></div><div class=\"z-10 transition-opacity duration-300 ease-linear sm:min-w-[150px] opacity-0\"><div class=\"transition-opacity duration-500 ease-linear opacity-0\"></div></div></div></div></div></header></div><main class=\"w-full flex-grow\"><img alt=\"Gradient beams background image\" class=\"absolute -top-[1rem] left-1/2 z-0 -ml-[40rem] w-[163.125rem] max-w-none opacity-40 sm:-ml-[67.5rem]\" data-nimg=\"1\" decoding=\"async\" fetchpriority=\"high\" height=\"1305\" src=\"https://wsrv.nl/?url=https%3A%2F%2Fcodedamn.com%2Fassets%2Flanding-page-assets%2Fbeams.jpeg&amp;w=2610&amp;q=70&amp;output=webp\" srcset=\"https://wsrv.nl/?url=https%3A%2F%2Fcodedamn.com%2Fassets%2Flanding-page-assets%2Fbeams.jpeg&amp;w=2610&amp;q=70&amp;output=webp 1x\" style=\"color:transparent\" width=\"2610\"/><section class=\"relative mt-14\"><div class=\"mx-auto h-[82vw] w-full max-w-screen-2xl overflow-hidden px-6 pt-12 sm:h-[min(70vw,64rem)] sm:overflow-visible sm:pt-16 md:px-8 lg:px-10\"><div class=\"relative z-10 aspect-1 w-full min-w-[200vw] -translate-x-[55vw] sm:min-w-0 sm:-translate-y-[24%] sm:translate-x-0\"><div class=\"relative h-full w-full animate-[fade-in_1500ms_linear_0ms_forwards] opacity-0\" data-id=\"css-animation\"><div class=\"absolute inset-0 h-full w-full rounded-full border border-x-2 border-gray-200 border-x-gray-300/75 p-[10%] sm:[mask-image:linear-gradient(transparent_15%,white_25%,white_85%,transparent_95%)]\"><div class=\"h-full w-full rounded-full border border-x-2 border-gray-200 border-x-gray-300/75 p-[12.25%]\"><div class=\"h-full w-full rounded-full border border-x-2 border-gray-200 border-x-gray-300/75\"></div></div></div><svg class=\"absolute left-[1.85%] top-[50.5%] hidden w-[11.75%] -rotate-[31deg] stroke-gray-300 sm:block\" viewbox=\"0 0 152 162\"><path d=\"M11.5 0.5C4.50029 20 -7.46644 47.5 8.74439 69.5C17.5867 81.5 41.7436 98.375 51.7436 104C74.2436 116.656 91.2435 121 93.2435 146.5C93.7435 156 88.7443 166.667 83.7443 176.5\" fill=\"none\" stroke-linecap=\"round\" stroke-linejoin=\"round\"></path></svg><svg class=\"to-succ absolute left-[38%] top-[10.05%] w-[6.85%] rotate-[100deg] -scale-x-100 stroke-gray-300 sm:left-[87.9%] sm:top-[60%] sm:w-[7%] sm:-rotate-1 sm:scale-x-100\" viewbox=\"0 0 94 177\"><path d=\"M11.5 0.5C4.50029 20 -7.46644 47.5 8.74439 69.5C17.5867 81.5 41.7436 98.375 51.7436 104C74.2436 116.656 91.2435 121 93.2435 146.5C93.7435 156 88.7443 166.667 83.7443 176.5\" fill=\"none\" stroke-linecap=\"round\" stroke-linejoin=\"round\"></path><defs><lineargradient id=\"LearnSvgGradient\"><stop offset=\"5%\" stop-color=\"#4f46e5\"></stop><stop offset=\"95%\" stop-color=\"#c084fc\"></stop></lineargradient><lineargradient id=\"ApplySvgGradient\"><stop offset=\"5%\" stop-color=\"#0ea5e9\"></stop><stop offset=\"95%\" stop-color=\"#22d3ee\"></stop></lineargradient><lineargradient id=\"GrowSvgGradient\"><stop offset=\"5%\" stop-color=\"#65a30d\"></stop><stop offset=\"95%\" stop-color=\"#84cc16\"></stop></lineargradient><lineargradient id=\"AccentSvgGradient\"><stop offset=\"10%\" stop-color=\"#fde047\"></stop><stop offset=\"90%\" stop-color=\"#bef264\"></stop></lineargradient></defs></svg></div><div class=\"absolute inset-0 animate-[fade-in_1500ms_ease-in-out_750ms_forwards] opacity-0\" data-id=\"css-animation\"><div class=\"hidden sm:block\"><img alt=\"Developer practicing HTML5\" class=\"absolute right-[9%] top-[56%] w-[4%] rounded-full border-2 border-gray-100/30 shadow\" data-nimg=\"1\" decoding=\"async\" fetchpriority=\"high\" height=\"64\" src=\"https://wsrv.nl/?url=https%3A%2F%2Fcodedamn.com%2Fassets%2Flanding-page-assets%2Fprofiles%2Fthumb-1.png&amp;w=128&amp;q=70&amp;output=webp\" srcset=\"https://wsrv.nl/?url=https%3A%2F%2Fcodedamn.com%2Fassets%2Flanding-page-assets%2Fprofiles%2Fthumb-1.png&amp;w=128&amp;q=70&amp;output=webp 1x, https://wsrv.nl/?url=https%3A%2F%2Fcodedamn.com%2Fassets%2Flanding-page-assets%2Fprofiles%2Fthumb-1.png&amp;w=128&amp;q=70&amp;output=webp 2x\" style=\"color:transparent\" width=\"64\"/><span class=\"absolute right-[6%] top-[59.25%] whitespace-nowrap rounded-sm border border-gray-100 bg-white/90 px-[min(0.5%,8px)] text-[clamp(8px,0.77vw,12px)] font-medium shadow lg:rounded\">📚 Practice</span><svg class=\"absolute right-[4.5%] top-[64%] aspect-1 w-[8%]\" fill=\"none\" id=\"HTML-5-logo\" viewbox=\"0 0 133 141\"><path d=\"M42.4 30l.2 46.3c0 .7.5 1.4 1.1 1.6l18.5 7.4h1l19.4-4.5c.6-.2 1.1-.8 1.3-1.4l7-45.8c0-1-.7-1.8-1.6-2l-45-3.2c-1 0-1.9.7-1.9 1.7z\" fill=\"#000\"></path><path d=\"M80.4 47.5L57 45.8l.2 6.5L79.4 54l-2.8 18.4-13.3 3.2-12.7-5v-9.8l6.8.5L57 66l7 2.5 7.2-1.4 1.1-7.6L50.5 58V39.3l30.8 2.2-.9 6z\" fill=\"url(#AccentSvgGradient)\"></path></svg><svg class=\"absolute right-[5.5%] top-[73.5%] h-[3%] w-[3%] rounded-xl border border-gray-100 bg-white/75 p-[0.4%] shadow\" viewbox=\"0 0 24 24\"><path d=\"M21 7c-.8-1-2.2-1.4-4.2-1.4h-.3c0-1.8 0-3.8-3.7-3.8h-1.6c-3.7 0-3.7 2-3.7 3.7h-.3C5.2 5.6 3.8 6 3 7c-1 1-1 2.6-.8 3.6v.9l.3.3a17.9 17.9 0 006.8 2.7c0 1 .5 2 2.7 2s2.6-1 2.7-2c2-.3 4-1 5.8-2l.1-.2 1.2-.8.2-.3v-.8c.2-1 .1-2.4-.8-3.4zm-8 6.8c0 1 0 1.3-1.1 1.3-1.3 0-1.3-.2-1.3-1.3v-1.2h2.5v1.2zM9 5.6c0-1.8 0-2.4 2.2-2.4h1.6c2.3 0 2.3.6 2.3 2.3H8.9z\"></path><path d=\"M20.9 13.7c.3-.1.7.1.7.5l-.4 4c-.2 2-1 4-5.4 4H8.2c-4.4 0-5.2-2-5.4-4l-.4-3.7c0-.4.4-.7.7-.6 1.2.6 3.3 1.5 4.6 1.8l.3.3c.7 1.3 2 2 3.9 2s3.2-.7 3.8-2a34.6 34.6 0 005.2-2.3z\"></path></svg></div><div><img alt=\"Troubled Programmer, Stuck with a bug.\" class=\"absolute left-[30%] top-[12%] w-[4%] -rotate-12 rounded-full border-2 border-gray-100/30 shadow sm:-left-[2%] sm:top-[49%] sm:rotate-0\" data-nimg=\"1\" decoding=\"async\" fetchpriority=\"high\" height=\"64\" src=\"https://wsrv.nl/?url=https%3A%2F%2Fcodedamn.com%2Fassets%2Flanding-page-assets%2Fprofiles%2Fthumb-2.png&amp;w=128&amp;q=70&amp;output=webp\" srcset=\"https://wsrv.nl/?url=https%3A%2F%2Fcodedamn.com%2Fassets%2Flanding-page-assets%2Fprofiles%2Fthumb-2.png&amp;w=128&amp;q=70&amp;output=webp 1x, https://wsrv.nl/?url=https%3A%2F%2Fcodedamn.com%2Fassets%2Flanding-page-assets%2Fprofiles%2Fthumb-2.png&amp;w=128&amp;q=70&amp;output=webp 2x\" style=\"color:transparent\" width=\"64\"/><span class=\"absolute left-[32.5%] top-[14.25%] -rotate-12 whitespace-nowrap rounded-sm border border-gray-100 bg-white/90 px-[min(0.5%,8px)] text-[clamp(8px,0.77vw,12px)] font-medium shadow sm:-left-[1%] sm:top-[52.5%] sm:rotate-0 lg:rounded\">😥 Stuck</span><span class=\"absolute left-[38.5%] top-[17%] -rotate-12 whitespace-nowrap rounded-sm border border-gray-100 bg-white/90 px-[min(0.5%,8px)] text-[clamp(8px,0.77vw,12px)] font-medium shadow sm:left-[3%] sm:top-[58%] sm:rotate-0 lg:rounded\">😄 Ask AI</span><svg class=\"absolute left-[46.5%] top-[18.5%] h-[3%] w-[3%] -rotate-12 rounded-xl border border-gray-100 bg-white/75 p-[0.5%] text-black shadow sm:left-[11%] sm:top-[62%] sm:rotate-0\" fill=\"currentColor\" viewbox=\"0 0 28 28\"><path d=\"M23 16.5h-2.6a1 1 0 0 0-.5.2l-3.1 2a2.9 2.9 0 0 1-4.4-1.7c0-.4-.4-.8-.8-1-.7-.3-1.3-.7-1.8-1.2A6.4 6.4 0 0 1 8 10.2V4.3c0-.5-.4-1-1-1h-.3c-3.6 0-6 1.8-6 6v7.2c0 4.2 2.4 6 6 6h5v3.8H7.9a1 1 0 0 0-1 1c0 .6.4 1 1 1h9.6c.5 0 1-.4 1-1 0-.5-.5-1-1-1h-3.8v-3.8h5c3.3 0 5.6-1.5 6-5 0-.5-.5-1-1-1H23Z\"></path><path d=\"M27.3 5v5.2c0 2-1 3.5-2.6 4-.5.2-1.1.3-1.7.3h-3.5l-3.8 2.6a.9.9 0 0 1-1.4-.7v-1.9c-1.3 0-2.4-.4-3.1-1.2a4.4 4.4 0 0 1-1.2-3.1V5c0-.6 0-1.2.3-1.7.6-1.6 2-2.6 4-2.6H23c2.6 0 4.3 1.7 4.3 4.3Z\"></path></svg></div><div><img alt=\"Programmer with a top rank in the leaderboard\" class=\"absolute right-[67%] top-[24.5%] w-[4%] -rotate-12 overflow-hidden rounded-full border-2 border-gray-100/30 shadow sm:right-[30%] sm:rotate-0\" data-nimg=\"1\" decoding=\"async\" fetchpriority=\"high\" height=\"64\" src=\"https://wsrv.nl/?url=https%3A%2F%2Fcodedamn.com%2Fassets%2Flanding-page-assets%2Fprofiles%2Fthumb-3.png&amp;w=128&amp;q=70&amp;output=webp\" srcset=\"https://wsrv.nl/?url=https%3A%2F%2Fcodedamn.com%2Fassets%2Flanding-page-assets%2Fprofiles%2Fthumb-3.png&amp;w=128&amp;q=70&amp;output=webp 1x, https://wsrv.nl/?url=https%3A%2F%2Fcodedamn.com%2Fassets%2Flanding-page-assets%2Fprofiles%2Fthumb-3.png&amp;w=128&amp;q=70&amp;output=webp 2x\" style=\"color:transparent\" width=\"64\"/><svg class=\"absolute right-[65.5%] top-[27%] h-[3%] w-[3%] -rotate-12 rounded-full border border-gray-100 bg-white/90 p-[0.45%] shadow sm:right-[28.5%] sm:top-[27%] sm:rotate-0\" viewbox=\"0 0 22 28\"><path d=\"M18.7 5.3v1L14 3.6c-1.8-1-4.3-1-6 0L3.3 6.3v-1c0-3 1.6-4.6 4.6-4.6H14c3 0 4.6 1.6 4.6 4.6Z\"></path><path d=\"M18.8 8.6h-.2l-1.8-1.1L13 5.3c-1.1-.6-2.9-.6-4 0L5.2 7.5l-1.8 1-.2.2C.8 10.2.7 10.5.7 13v6c0 2.5.1 2.8 2.5 4.4L9 26.8a4 4 0 0 0 2 .5c.7 0 1.5-.1 2-.5l5.8-3.3c2.4-1.6 2.5-1.9 2.5-4.4v-6c0-2.6-.1-2.9-2.5-4.5Zm-4 7.4-.9 1a1 1 0 0 0-.2.6V19c.1.8-.4 1.2-1.2 1l-1.2-.6h-.6l-1.2.5c-.8.3-1.3-.1-1.3-1l.1-1.2c0-.2 0-.5-.2-.6l-.8-1c-.5-.6-.3-1.3.5-1.5l1.2-.3c.2 0 .4-.2.5-.4l.7-1c.5-.7 1.1-.7 1.6 0l.7 1c0 .2.3.4.5.4l1.2.3c.8.2 1 .9.5 1.5Z\"></path></svg></div><div><svg class=\"absolute right-[30%] top-[24%] aspect-1 w-[4%] rotate-6 rounded-md bg-black p-[0.4%] sm:right-[18.5%] sm:top-[46%] sm:w-[3%] sm:rotate-0 lg:rounded-lg\" fill=\"none\" viewbox=\"0 0 50 51\"><path d=\"M23.4 0h-.8a25 25 0 0 0-18 10.4 24.8 24.8 0 0 0-4.4 11C0 22.7 0 23 0 25a25.1 25.1 0 0 0 36.9 22s-2-2.5-4.1-5.5l-4-5.4-5-7.4-5-7.4a399.9 399.9 0 0 0-.2 14.8c-.1.2-.2.3-.5.4l-1 .1h-.8l-.3-.1a1 1 0 0 1-.3-.4v-20c.2 0 .3-.2.5-.3h1c1 0 1.2 0 1.5.2a924.8 924.8 0 0 1 15.9 24l4 6h.2c1.7-1.2 3.6-2.9 5-4.6a24.9 24.9 0 0 0 6-12.8c.2-1.3.2-1.7.2-3.6 0-1.9 0-2.3-.2-3.6A25.1 25.1 0 0 0 23.4 0zm10.2 15.1a1 1 0 0 1 .5.6v17.8L32.6 31 31 28.7V15.8a1 1 0 0 1 .5-.7h2.1z\" fill=\"url(#AccentSvgGradient)\"></path></svg></div><div><svg class=\"absolute bottom-[40%] left-[20%] hidden aspect-1 w-[3%] rounded-md bg-black sm:block lg:rounded-lg\" fill=\"none\" viewbox=\"0 0 64 64\" xmlns=\"http://www.w3.org/2000/svg\"><rect fill=\"black\" height=\"64\" rx=\"15\" width=\"64\"></rect><path d=\"M32 54c-.6 0-1.2-.2-1.7-.5L25 50.4c-.8-.5-.4-.6-.1-.7l2.4-1.1a.4.4 0 01.4 0l4.2 2.4a.5.5 0 00.5 0l16-9.3a.5.5 0 00.3-.4V22.7a.5.5 0 00-.2-.5L32.2 13a.5.5 0 00-.4 0l-16.2 9.3a.5.5 0 00-.2.5v18.6a.5.5 0 00.2.4l4.5 2.6c2.4 1.2 3.8-.2 3.8-1.7V24.3a.5.5 0 01.5-.5h2a.5.5 0 01.5.5v18.3c0 3.2-1.7 5-4.8 5-1.3.1-2.6-.2-3.7-1l-4.2-2.4a3.4 3.4 0 01-1.7-2.9V22.7a3.4 3.4 0 011.7-3l16.1-9.3a3.5 3.5 0 013.4 0l16.1 9.3a3.4 3.4 0 011.7 3v18.6a3.4 3.4 0 01-1.7 3l-16.1 9.2c-.5.3-1.1.5-1.7.5z\" fill=\"url(#AccentSvgGradient)\"></path><path d=\"M29 35a.5.5 0 01.4-.4h2.1a.5.5 0 01.5.4c.3 2.1 1.2 3.2 5.5 3.2 3.4 0 4.8-.8 4.8-2.6 0-1-.4-1.8-5.7-2.3-4.4-.5-7.1-1.4-7.1-5 0-3.2 2.7-5.1 7.3-5.1 5.2 0 7.8 1.7 8 5.6a.5.5 0 01-.4.5h-2a.5.5 0 01-.5-.4c-.5-2.2-1.8-3-5-3-3.8 0-4.2 1.4-4.2 2.3 0 1.2.5 1.6 5.5 2.2 5 .7 7.3 1.6 7.3 5 0 3.6-3 5.6-8 5.6-7 0-8.6-3.2-8.6-6z\" fill=\"url(#AccentSvgGradient)\"></path></svg></div><div><svg class=\"absolute bottom-[19%] left-[45%] hidden aspect-1 w-[3%] rounded-md bg-black sm:block lg:rounded-lg\" fill=\"none\" viewbox=\"0 0 64 64\" xmlns=\"http://www.w3.org/2000/svg\"><rect fill=\"black\" height=\"64\" rx=\"15\" width=\"64\"></rect><path d=\"m32 10-.3 1v29l.3.4 13.5-8L32 10Z\" fill=\"#bef264\"></path><path d=\"M32 10 18.5 32.4l13.5 8V10Z\" fill=\"#fde047\"></path><path d=\"m32 43-.2.1v10.4l.2.5 13.5-19L32 43Z\" fill=\"#bef264\"></path><path d=\"M32 54V43l-13.5-8L32 54Z\" fill=\"#fde047\"></path><path d=\"m32 40.4 13.5-8L32 26.3v14Z\" fill=\"#bef264\"></path><path d=\"m18.5 32.4 13.5 8V26.3l-13.5 6.1Z\" fill=\"#fde047\"></path></svg></div><div><img alt=\"Testimonial developer profile picture\" class=\"absolute right-[45%] top-[8.5%] w-[4%] rotate-2 overflow-hidden rounded-full border-2 border-gray-100/30 shadow sm:right-[30%] sm:top-[72%] sm:rotate-0\" data-nimg=\"1\" decoding=\"async\" fetchpriority=\"high\" height=\"64\" src=\"https://wsrv.nl/?url=https%3A%2F%2Fcodedamn.com%2Fassets%2Flanding-page-assets%2Fprofiles%2Fthumb-4.png&amp;w=128&amp;q=70&amp;output=webp\" srcset=\"https://wsrv.nl/?url=https%3A%2F%2Fcodedamn.com%2Fassets%2Flanding-page-assets%2Fprofiles%2Fthumb-4.png&amp;w=128&amp;q=70&amp;output=webp 1x, https://wsrv.nl/?url=https%3A%2F%2Fcodedamn.com%2Fassets%2Flanding-page-assets%2Fprofiles%2Fthumb-4.png&amp;w=128&amp;q=70&amp;output=webp 2x\" style=\"color:transparent\" width=\"64\"/><div class=\"absolute right-[33%] top-[12%] flex max-w-[14%] rotate-3 flex-col rounded border border-gray-100 bg-white/90 p-[0.75%] text-[clamp(8px,0.77vw,12px)] shadow sm:right-[18%] sm:top-[75%] sm:rotate-0 lg:rounded-md\"><div class=\"inline-flex w-12 lg:w-16\"><div class=\"flex max-w-none items-center justify-center\"><svg height=\"100%\" viewbox=\"0 0 70 14\" width=\"100%\" xmlns=\"http://www.w3.org/2000/svg\"><defs><symbol id=\"icon-rating-star-:Rpsin2l6:\" viewbox=\"0 0 24 24\"><path d=\"M12 17.27L18.18 21l-1.64-7.03L22 9.24l-7.19-.61L12 2 9.19 8.63 2 9.24l5.46 4.73L5.82 21 12 17.27z\"></path></symbol></defs><mask data-purpose=\"star-rating-mask\" id=\"star-rating-mask-:Rpsin2l6:\"><rect fill=\"white\" height=\"100%\" width=\"100%\" x=\"0\" y=\"0\"></rect></mask><g data-purpose=\"star-filled\" fill=\"#fbbf24\" mask=\"url(#star-rating-mask-:Rpsin2l6:)\"><use height=\"14\" width=\"14\" x=\"0\" xlink:href=\"#icon-rating-star-:Rpsin2l6:\"></use><use height=\"14\" width=\"14\" x=\"14\" xlink:href=\"#icon-rating-star-:Rpsin2l6:\"></use><use height=\"14\" width=\"14\" x=\"28\" xlink:href=\"#icon-rating-star-:Rpsin2l6:\"></use><use height=\"14\" width=\"14\" x=\"42\" xlink:href=\"#icon-rating-star-:Rpsin2l6:\"></use><use height=\"14\" width=\"14\" x=\"56\" xlink:href=\"#icon-rating-star-:Rpsin2l6:\"></use></g><g data-purpose=\"star-bordered\" fill=\"transparent\" stroke=\"#fbbf24\" stroke-width=\"2\"><use height=\"12\" width=\"12\" x=\"1\" xlink:href=\"#icon-rating-star-:Rpsin2l6:\" y=\"1\"></use><use height=\"12\" width=\"12\" x=\"15\" xlink:href=\"#icon-rating-star-:Rpsin2l6:\" y=\"1\"></use><use height=\"12\" width=\"12\" x=\"29\" xlink:href=\"#icon-rating-star-:Rpsin2l6:\" y=\"1\"></use><use height=\"12\" width=\"12\" x=\"43\" xlink:href=\"#icon-rating-star-:Rpsin2l6:\" y=\"1\"></use><use height=\"12\" width=\"12\" x=\"57\" xlink:href=\"#icon-rating-star-:Rpsin2l6:\" y=\"1\"></use></g></svg></div></div><p class=\"mt-1 font-medium lg:mt-1.5\"><q>Great platform for learning to code.</q></p></div></div><div class=\"absolute -top-3 left-[27%] flex w-[27%] -rotate-3 sm:left-[6%] sm:top-[25%] sm:rotate-0 sm:justify-center lg:justify-end\"><div class=\"flex w-fit flex-col rounded-md border border-gray-100 bg-white/90 p-[5%] font-mono text-[clamp(8px,0.77vw,13px)] shadow lg:rounded-lg\"><div class=\"flex items-center gap-1 xl:gap-1.5\"><div class=\"aspect-1 w-[3.5%] rounded-full bg-destructive-500 shadow shadow-destructive-500\"></div><div class=\"aspect-1 w-[3.5%] rounded-full bg-warning-500 shadow shadow-warning-500\"></div><div class=\"aspect-1 w-[3.5%] rounded-full bg-success-500 shadow shadow-success-500\"></div></div><div class=\"mt-3 flex items-center lg:mt-4\"><div class=\"flex w-full flex-col gap-0.5 whitespace-nowrap font-medium sm:gap-1\"><span><span class=\"mr-1 font-semibold text-secondary-500\">&lt;h1&gt;</span>Learn programming<span class=\"ml-1 font-semibold text-secondary-500\">&lt;/h1&gt;</span></span><span><span class=\"mr-1 font-semibold text-secondary-500\">&lt;em&gt;</span>with AI support<span class=\"ml-1 font-semibold text-secondary-500\">&lt;/em&gt;</span></span></div></div></div><svg class=\"aspect-1 h-[12%] w-[12%] min-w-[24px] -translate-x-[60%] -translate-y-[35%] rounded-full border border-gray-100 bg-white/75 p-[1%] shadow\" viewbox=\"0 0 28 28\"><path d=\"M14 .7a13.3 13.3 0 1 0 0 26.6A13.3 13.3 0 0 0 14 .7ZM9.4 16c.4.3.4 1 0 1.4a1 1 0 0 1-.7.3 1 1 0 0 1-.7-.3l-2.7-2.7a1 1 0 0 1 0-1.4L8 10.6a1 1 0 0 1 1.4 0c.4.4.4 1 0 1.4l-2 2 2 2Zm6.9-4.7-2.7 6.2a1 1 0 0 1-1.3.5 1 1 0 0 1-.5-1.3l2.6-6.2a1 1 0 0 1 1.3-.5c.5.2.8.8.6 1.3Zm6.4 3.4L20 17.4a1 1 0 0 1-.7.3 1 1 0 0 1-.7-.3 1 1 0 0 1 0-1.4l2-2-2-2a1 1 0 0 1 0-1.4 1 1 0 0 1 1.4 0l2.7 2.7c.4.4.4 1 0 1.4Z\"></path></svg></div><div><svg class=\"absolute -top-[1%] left-[60%] aspect-1 w-[4%] rotate-6 rounded-md bg-black p-[0.4%] sm:left-[8%] sm:top-[43%] sm:-rotate-0 lg:rounded-lg\" fill=\"none\" viewbox=\"0 0 50 50\"><path d=\"M25.7 29.2a4.7 4.7 0 1 0-2.2-9 4.7 4.7 0 0 0 2.2 9Z\" fill=\"url(#AccentSvgGradient)\"></path><path d=\"M39 14.4V14v.5c2.7.3 5 .9 6.6 1.7 1.7.8 2.6 1.8 2.8 2.8.3 1-.1 2.5-1.3 4-1.2 1.6-3 3.3-5.6 4.8a52 52 0 0 1-14.8 5.8c-5.9 1.4-11.6 2-16 1.7-2.9-.3-5.3-1-7-1.8-1.7-.9-2.7-2-2.9-3-.2-1 .1-2.3 1.2-3.8 1-1.4 2.7-3 5-4.4a54.6 54.6 0 0 1 31.9-7.8Z\" stroke=\"url(#AccentSvgGradient)\"></path><path d=\"M13.6 38.7A52 52 0 0 1 16 22.4v-.2c1.8-6 4.3-11.3 7-15 1.6-2.2 3.2-4 4.8-5 1.5-1 2.8-1.3 3.8-1 1 .3 2 1.4 2.8 3.2.8 1.8 1.3 4.2 1.4 7.2a52 52 0 0 1-2.4 15.7c-1.7 5.8-4 11-6.6 14.8l.4.2-.4-.2c-1.7 2.3-3.4 4-5 5s-3 1.4-4 1.1c-1-.3-2-1.2-2.7-2.9a21 21 0 0 1-1.4-6.6h-.5.5Z\" stroke=\"url(#AccentSvgGradient)\"></path><path d=\"M18 31a51.9 51.9 0 0 1-9.4-13.5 19.6 19.6 0 0 1-2-6.6C6.7 9 7 7.7 7.8 7c.8-.7 2.2-1 4.2-.8 1.9.2 4.3 1 6.9 2.4 3.9 2 8.3 5.6 12.4 9.9 4.2 4.4 7.6 9 9.5 13a20 20 0 0 1 1.9 7c0 1.9-.3 3.3-1.1 4-.7.7-2 1-3.9.9-1.7-.2-4-1-6.4-2.2l-.2.5.2-.5c-4-2-8.8-5.7-13.1-10.3Z\" stroke=\"url(#AccentSvgGradient)\"></path></svg><div class=\"absolute left-[63%] top-[2.5%] z-10 inline-flex rotate-6 items-center gap-1 whitespace-nowrap rounded bg-gradient-to-r from-secondary-500 to-cyan-400 px-[min(0.5%,8px)] py-0.5 text-[clamp(8px,0.77vw,12px)] font-medium text-white shadow sm:left-[11%] sm:top-[46%] sm:rotate-0\"><svg fill=\"currentColor\" height=\"1em\" stroke=\"currentColor\" stroke-width=\"0\" viewbox=\"0 0 16 16\" width=\"1em\" xmlns=\"http://www.w3.org/2000/svg\"><path d=\"M16 8A8 8 0 1 1 0 8a8 8 0 0 1 16 0zm-3.97-3.03a.75.75 0 0 0-1.08.022L7.477 9.417 5.384 7.323a.75.75 0 0 0-1.06 1.06L6.97 11.03a.75.75 0 0 0 1.079-.02l3.992-4.99a.75.75 0 0 0-.01-1.05z\"></path></svg> Completed</div></div><div class=\"absolute bottom-[22%] left-[5%] hidden w-[24%] min-w-[180px] sm:block\"><div class=\"flex w-full items-center justify-between rounded-md border border-gray-100 bg-white/90 p-[5%] shadow lg:rounded-lg\"><div class=\"flex items-center gap-2 md:gap-3 lg:gap-4\"><svg class=\"h-3 w-3 flex-shrink-0 rounded-full text-secondary-400 ring-1 ring-secondary-400 ring-offset-1 md:h-3.5 md:w-3.5 md:ring min-[960px]:h-5 min-[960px]:w-5 xl:h-6 xl:w-6\" fill=\"currentColor\" height=\"1em\" stroke=\"currentColor\" stroke-width=\"0\" viewbox=\"0 0 16 16\" width=\"1em\" xmlns=\"http://www.w3.org/2000/svg\"><path d=\"M16 8A8 8 0 1 1 0 8a8 8 0 0 1 16 0zm-3.97-3.03a.75.75 0 0 0-1.08.022L7.477 9.417 5.384 7.323a.75.75 0 0 0-1.06 1.06L6.97 11.03a.75.75 0 0 0 1.079-.02l3.992-4.99a.75.75 0 0 0-.01-1.05z\"></path></svg><div class=\"flex flex-col\"><span class=\"mb-[1%] truncate text-[clamp(8px,1vw,16px)] font-semibold\">Complete a project</span><span class=\"truncate text-[clamp(6px,0.8vw,12px)] text-gray-600\">Get AI feedback for your code</span></div></div><div class=\"whitespace-nowrap rounded border border-success-200 bg-gradient-to-r from-secondary-500 to-cyan-400 px-[min(0.5vw,6px)] py-[min(0.2vw,2px)] text-[6px] font-semibold text-white md:text-[8px] min-[960px]:text-[10px] xl:text-xs\">20 XP</div></div></div><div class=\"absolute right-[2%] top-[25%] hidden w-[17%] sm:block\"><div class=\"flex w-full flex-col rounded-md border border-gray-100 bg-white/90 p-[10%] shadow lg:rounded-lg\"><svg class=\"h-5 w-5 rounded bg-black p-[3.5%] md:h-6 md:w-6 min-[960px]:h-8 min-[960px]:w-8 lg:rounded-md xl:h-10 xl:w-10\" viewbox=\"0 0 29 18\"><path d=\"M7.3 6.8C8.2 3 10.5 1 14.3 1c5.6-.1 6.4 4 9.2 4.7 1.9.4 3.5-.3 4.9-2.2-.9 3.8-3.2 5.7-7 5.8-5.6.1-6.4-4.1-9.2-4.7-1.9-.5-3.5.3-4.9 2.2ZM.5 15.4c.9-3.8 3.2-5.7 6.9-5.8 5.6-.1 6.4 4 9.2 4.7 2 .4 3.6-.3 5-2.2-1 3.8-3.2 5.7-7 5.8-5.6 0-6.4-4.1-9.2-4.8-2-.4-3.5.4-4.9 2.3Z\" fill=\"url(#AccentSvgGradient)\"></path></svg><div class=\"mt-3 flex flex-col lg:mt-4\"><span class=\"mb-[1%] text-[clamp(8px,1vw,15px)] font-semibold\">Apply as you learn</span><span class=\"text-[clamp(6px,0.8vw,12px)] leading-tight text-gray-600\">without leaving your browser</span></div><div class=\"relative mt-2 h-1.5 w-40 overflow-hidden rounded-full bg-secondary-100 md:h-2 lg:mt-3\"><div class=\"absolute inset-0 w-28 rounded-full bg-gradient-to-r from-secondary-500 to-cyan-400\"></div></div></div></div></div></div></div><div class=\"relative z-20 px-6 pb-12 text-center sm:absolute sm:left-1/2 sm:top-1/2 sm:flex sm:aspect-1 sm:w-full sm:max-w-[min(50%,50rem)] sm:-translate-x-1/2 sm:-translate-y-[46%] sm:flex-col sm:items-center sm:justify-center md:-translate-y-[49%] min-[900px]:-translate-y-[52%] lg:gap-4\"><h1 class=\"relative mb-6 animate-[fade-in-up_300ms_ease-in_200ms_forwards] text-center text-[min(10vw,4.5rem)] font-bold leading-none tracking-tight text-gray-900 opacity-0 sm:text-[min(4.5vw,4.5rem)]\" data-id=\"css-animation\"><span class=\"whitespace-nowrap\">Change the world</span><br/>with<!-- --> <span class=\"relative\"><span class=\"hero-code w-full animate-[dim-opacity-start_8s_linear_infinite] bg-gradient-to-r from-primary-600 to-purple-400 bg-clip-text text-transparent will-change-[opacity]\" data-id=\"css-animation\" style=\"--_p:0%;--c1:#4f46e5;--c2:#c084fc\">code</span><span class=\"absolute inset-0 w-full translate-y-[9%] animate-[dim-opacity-mid_8s_linear_infinite] bg-gradient-to-r from-secondary-600 to-secondary-400 bg-clip-text text-transparent will-change-[opacity]\" data-id=\"css-animation\">code</span><span class=\"absolute inset-0 w-full translate-y-[9%] animate-[dim-opacity-end_8s_linear_infinite] bg-gradient-to-r from-success-600 to-success-400 bg-clip-text text-transparent will-change-[opacity]\" data-id=\"css-animation\">code</span></span><span>damn</span></h1><h2 class=\"relative mx-auto max-w-xl animate-[fade-in-up_300ms_ease-in_300ms_forwards] text-center text-[min(5vw,1rem)] font-medium leading-relaxed text-gray-500 opacity-0 sm:text-[min(1.65vw,1.25rem)]\" data-id=\"css-animation\">Learn coding with your personal AI powered tutor and 100+ interactive courses. Become job ready 10x faster.</h2><div class=\"relative mt-10 flex w-full sm:mt-6 md:mt-8 lg:mt-10\"><div class=\"relative mx-auto w-full max-w-sm animate-[fade-in-up_300ms_ease-in_400ms_forwards] cursor-pointer rounded-md px-5 py-3 font-semibold text-white opacity-0 sm:w-fit sm:px-3 sm:py-2 sm:text-xs md:px-4 md:py-3 md:text-sm lg:rounded-lg lg:px-5 lg:text-base xl:px-7 xl:py-4 xl:text-lg\" data-id=\"css-animation\"><div class=\"absolute inset-0 z-0 h-full w-full animate-[dim-opacity-start_8s_linear_infinite] rounded-lg bg-gradient-to-r from-primary-600 to-purple-400\" data-id=\"css-animation\" style=\"box-shadow:0 0 10px 2px #6366f180\"></div><div class=\"absolute inset-0 z-0 h-full w-full animate-[dim-opacity-mid_8s_linear_infinite] rounded-lg bg-gradient-to-r from-secondary-600 to-cyan-400\" data-id=\"css-animation\" style=\"box-shadow:0 0 10px 2px #0ea5e980\"></div><div class=\"absolute inset-0 z-0 h-full w-full animate-[dim-opacity-end_8s_linear_infinite] rounded-lg bg-gradient-to-r from-success-600 to-success-400\" data-id=\"css-animation\" style=\"box-shadow:0 0 10px 2px #84cc1680\"></div><span class=\"relative z-10\">Begin your coding journey →</span></div></div></div></section><section class=\"relative z-0 overflow-hidden bg-gradient-to-b from-transparent to-white px-6 pb-8 pt-4 lg:pb-16 min-[1450px]:pt-16\"><h4 class=\"mb-6 block text-center text-xs font-bold uppercase leading-relaxed tracking-widest text-gray-600 sm:text-sm lg:mb-12\">Powering over <!-- -->260k<!-- --> developers to land their dream job</h4><div class=\"relative w-full max-w-full overflow-clip [mask-image:radial-gradient(circle,white_80%,transparent_100%)]\"><div class=\"relative mx-auto min-w-[max(100vw,1056px)] text-gray-600 lg:min-w-0 lg:max-w-3xl\"><div class=\"flex animate-[marquee-start_30s_linear_infinite] items-center justify-around lg:animate-none lg:justify-between\" data-id=\"css-animation\"><svg class=\"mx-4 max-h-[42px] w-[100px] flex-shrink-0 lg:w-auto lg:flex-shrink\"><use href=\"#google\"></use></svg><svg class=\"mx-4 max-h-[42px] w-[100px] flex-shrink-0 lg:w-auto lg:flex-shrink\"><use href=\"#apple\"></use></svg><svg class=\"mx-4 max-h-[42px] w-[100px] flex-shrink-0 lg:w-auto lg:flex-shrink\"><use href=\"#meta\"></use></svg><svg class=\"mx-4 max-h-[42px] w-[100px] flex-shrink-0 lg:w-auto lg:flex-shrink\"><use href=\"#microsoft\"></use></svg><svg class=\"mx-4 max-h-[42px] w-[100px] flex-shrink-0 lg:hidden\"><use href=\"#netflix\"></use></svg><svg class=\"mx-4 max-h-[42px] w-[100px] flex-shrink-0 lg:hidden\"><use href=\"#amazon\"></use></svg><svg class=\"mx-4 max-h-[42px] w-[100px] flex-shrink-0 lg:hidden\"><use href=\"#adobe\"></use></svg><svg class=\"mx-4 max-h-[42px] w-[100px] flex-shrink-0 lg:hidden\"><use href=\"#notion\"></use></svg></div><div class=\"absolute inset-0 flex w-full animate-[marquee-end_30s_linear_infinite] items-center justify-around lg:relative lg:mt-12 lg:animate-none lg:justify-between\" data-id=\"css-animation\"><svg class=\"mx-4 max-h-[42px] w-[100px] flex-shrink-0 lg:hidden\"><use href=\"#google\"></use></svg><svg class=\"mx-4 max-h-[42px] w-[100px] flex-shrink-0 lg:hidden\"><use href=\"#apple\"></use></svg><svg class=\"mx-4 max-h-[42px] w-[100px] flex-shrink-0 lg:hidden\"><use href=\"#meta\"></use></svg><svg class=\"mx-4 max-h-[42px] w-[100px] flex-shrink-0 lg:hidden\"><use href=\"#microsoft\"></use></svg><svg class=\"mx-4 max-h-[42px] w-[100px] flex-shrink-0 lg:-mt-1 lg:!max-h-[36px] lg:w-auto lg:flex-shrink\"><use href=\"#netflix\"></use></svg><svg class=\"mx-4 max-h-[42px] w-[100px] flex-shrink-0 lg:w-auto lg:flex-shrink lg:translate-y-1\"><use href=\"#amazon\"></use></svg><svg class=\"mx-4 max-h-[42px] w-[100px] flex-shrink-0 lg:w-auto lg:flex-shrink\"><use href=\"#adobe\"></use></svg><svg class=\"mx-4 max-h-[42px] w-[100px] flex-shrink-0 lg:max-h-[46px] lg:w-auto lg:flex-shrink\"><use href=\"#notion\"></use></svg></div></div></div><svg class=\"hidden\" version=\"2.0\"><defs><symbol fill=\"currentColor\" id=\"meta\" viewbox=\"0 0 115 23\" xmlns=\"http://www.w3.org/2000/svg\"><path d=\"M42.4.7h4.3L54.1 14 61.5.7h4.2v21.9h-3.5V5.8l-6.5 11.6h-3.3L45.9 5.8v16.8h-3.5V.7ZM77 23c-1.6 0-3-.4-4.2-1.1a7.6 7.6 0 0 1-3-3 10.5 10.5 0 0 1 0-8.9 7.6 7.6 0 0 1 7-4c1.6 0 2.9.3 4 1s2 1.8 2.6 3.1c.6 1.3 1 2.9 1 4.7v1h-12c.1 1.3.7 2.3 1.5 3 .9.8 2 1.2 3.3 1.2 1 0 2-.1 2.7-.5a7 7 0 0 0 2.2-1.4l1.8 2.3a9.8 9.8 0 0 1-6.8 2.6Zm2.7-13a3.9 3.9 0 0 0-3-1.1 4 4 0 0 0-2.9 1.1c-.8.8-1.3 1.8-1.5 3.1H81a4.9 4.9 0 0 0-1.2-3Zm8.9-.8h-3.3V6.3h3.3V1.5H92v4.8h5v2.9h-5v7.3c0 1.2.2 2.1.6 2.6.4.5 1.1.8 2.2.8a10 10 0 0 0 2.1-.2v2.9a9.6 9.6 0 0 1-2.8.4c-3.7 0-5.5-2-5.5-6V9.1Zm26.1 13.4h-3.4v-2.3a6 6 0 0 1-2.2 2c-1 .5-2 .7-3.2.7a7 7 0 0 1-3.8-1.1c-1-.7-2-1.8-2.6-3a10.6 10.6 0 0 1 0-8.9 7.1 7.1 0 0 1 6.6-4.1 6 6 0 0 1 3 .7 6 6 0 0 1 2.2 1.8V6.3h3.4v16.3ZM111.3 12a4.6 4.6 0 0 0-4.5-3c-1.4 0-2.6.5-3.5 1.5-.8 1-1.3 2.3-1.3 4 0 1.6.5 3 1.3 4 .8.9 2 1.4 3.4 1.4 1 0 2-.3 2.8-.8.8-.6 1.4-1.3 1.8-2.2V12Zm-107 3.2c0 1.3.2 2.3.6 3 .5.7 1.3 1 2 1 1 0 1.9-.2 3.6-2.6 1.4-1.9 3-4.5 4.1-6.2l1.9-2.9c1.2-2 2.7-4.1 4.4-5.6A6.8 6.8 0 0 1 25.3 0c2.6 0 5 1.5 6.8 4.2 2 3 3 6.9 3 10.8 0 2.3-.4 4-1.2 5.4a5.2 5.2 0 0 1-4.7 2.6v-3.7c2.1 0 2.6-2 2.6-4.2 0-3.2-.7-6.7-2.3-9.3C28.3 4.1 26.8 3 25.2 3c-1.8 0-3.3 1.3-4.9 3.7l-2.7 4.6-1.1 2a48.7 48.7 0 0 1-3.9 6.2C10.7 22 9.1 23 7 23a5.6 5.6 0 0 1-5.2-2.8A10 10 0 0 1 .5 15l3.8.2Z\"></path><path d=\"M3.5 4.5C5.2 1.8 7.7 0 10.5 0c1.6 0 3.3.5 5 1.9 1.8 1.5 3.8 4 6.3 8.1l1 1.5c2 3.6 3.3 5.4 4 6.3 1 1.1 1.6 1.5 2.4 1.5 2.1 0 2.6-2 2.6-4.2l3.3-.1c0 2.3-.4 4-1.2 5.4a5.2 5.2 0 0 1-4.7 2.6c-1.5 0-3-.3-4.4-1.8-1.2-1-2.5-3-3.6-4.7l-3-5.2a29 29 0 0 0-4-5.5c-.8-.9-2-2-3.8-2-1.4 0-2.7 1-3.7 2.6l-3.2-2Z\"></path><path d=\"M10.4 3.8c-1.4 0-2.7 1-3.7 2.6a16.7 16.7 0 0 0-2.4 8.8c0 1.3.2 2.3.6 3l-3.2 2A10 10 0 0 1 .5 15c0-3.7 1-7.5 3-10.5C5.2 1.8 7.7 0 10.5 0v3.8Z\"></path></symbol><symbol fill=\"currentColor\" id=\"microsoft\" viewbox=\"0 0 160 34\" xmlns=\"http://www.w3.org/2000/svg\"><path d=\"M66.3 6.8v20.4h-3.5v-16l-6.4 16H54l-6.4-16v16h-3.4V6.8h5.1l5.9 15.1h.1l6.2-15.1h4.8Zm3 1.6c0-.6.1-1 .5-1.5a3 3 0 0 1 1.5-.5 2 2 0 0 1 1.5.5 2 2 0 0 1 0 2.9c-.4.4-.9.5-1.5.5a2 2 0 0 1-1.5-.5c-.3-.4-.6-1-.6-1.4Zm3.8 4.2v14.6h-3.5V12.6h3.5Zm10.4 12.1c.5 0 1-.1 1.7-.4.6-.2 1.2-.5 1.7-1v3.3a6 6 0 0 1-1.9.7l-2.3.2a7 7 0 0 1-7.3-7.2c0-2.4.7-4.3 2-5.8a8 8 0 0 1 6-2.3 8.7 8.7 0 0 1 3.4.8v3.3c-.5-.3-1-.7-1.6-.9-.5-.1-1.1-.3-1.7-.3-1.3 0-2.4.4-3.3 1.3A5 5 0 0 0 79 20c0 1.5.4 2.7 1.2 3.5.8.8 2 1.2 3.3 1.2Zm13.2-12.4a3.8 3.8 0 0 1 1.3.2V16l-.8-.4-1.3-.2c-.8 0-1.6.4-2.1 1.1a5 5 0 0 0-1 3.3v7.4h-3.4V12.6H93v2.3c.4-.8.8-1.4 1.4-2a6 6 0 0 1 2.4-.6Zm1.5 7.8a8 8 0 0 1 2-5.7 7.5 7.5 0 0 1 5.7-2.2 7 7 0 0 1 5.3 2 8 8 0 0 1 2 5.6 8 8 0 0 1-2 5.7 7.4 7.4 0 0 1-5.7 2c-2.2 0-4-.6-5.3-2a7.6 7.6 0 0 1-2-5.4Zm3.6-.1c0 1.5.3 2.7 1 3.5.7.8 1.7 1.2 3 1.2 1.2 0 2.2-.4 2.9-1.2.6-.8 1-2 1-3.6s-.4-2.8-1-3.6a3.5 3.5 0 0 0-2.9-1.2c-1.3 0-2.2.4-2.9 1.2-.8 1-1.1 2.1-1.1 3.7Zm16.5-3.6c0 .5.1 1 .5 1.2.3.3 1 .6 2 1 1.4.6 2.4 1.2 3 1.9.5.7.8 1.5.8 2.5a4 4 0 0 1-1.6 3.3c-1 .9-2.5 1.2-4.3 1.2a11.2 11.2 0 0 1-4-.8v-3.4c.7.5 1.4.8 2 1 .8.3 1.5.4 2 .4.8 0 1.4 0 1.8-.3.3-.2.5-.6.5-1 0-.5-.2-1-.5-1.3l-2.2-1.1a6.5 6.5 0 0 1-2.7-1.8 4 4 0 0 1-.8-2.6 4 4 0 0 1 1.6-3.2c1-.9 2.4-1.3 4-1.3a19 19 0 0 1 3.3.6v3.4l-1.6-.8a5 5 0 0 0-1.8-.4 3 3 0 0 0-1.5.4c-.3.3-.5.7-.5 1.1Zm7.7 3.7a8 8 0 0 1 2-5.7 7.5 7.5 0 0 1 5.7-2.2 7 7 0 0 1 5.4 2c1.2 1.4 2 3.3 2 5.6a8 8 0 0 1-2.1 5.7 7.4 7.4 0 0 1-5.6 2 7 7 0 0 1-5.4-2 7.8 7.8 0 0 1-2-5.4Zm3.6-.1c0 1.5.4 2.7 1 3.5a4 4 0 0 0 3 1.2c1.3 0 2.3-.4 3-1.2.6-.8 1-2 1-3.6s-.4-2.8-1-3.6a3.5 3.5 0 0 0-3-1.2c-1.2 0-2.1.4-2.8 1.2-.8 1-1.2 2.1-1.2 3.7Zm22.9-4.6h-5.2v11.8h-3.5V15.4h-2.4v-2.8h2.4v-2c0-1.6.6-2.9 1.5-3.8 1-1 2.3-1.5 3.9-1.5h1.1l.9.2v3l-.7-.2-1-.2c-.7 0-1.2.3-1.6.7-.4.4-.6 1.1-.6 2v1.7h5.2V9.2l3.4-1v4.3h3.5v2.8H156v6.9c0 .9.2 1.5.5 1.9.3.4.8.6 1.6.6l.7-.2c.3 0 .5-.2.7-.3V27c-.3.2-.6.2-1.1.3l-1.5.2c-1.5 0-2.6-.4-3.3-1.1-.7-.8-1-2-1-3.5v-7.5ZM16.1 0H0v16.1h16.1V0ZM34 0H17.8v16.1H34V0ZM16.1 17.9H0V34h16.1V17.9Zm17.9 0H17.8V34H34V17.9Z\"></path></symbol><symbol fill=\"currentColor\" id=\"netflix\" viewbox=\"0 0 126 35\" xmlns=\"http://www.w3.org/2000/svg\"><path d=\"M83.8 0v25.5l9.1.5v5.4a434 434 0 0 0-14.4-.7V0h5.3ZM126 0l-7 16.6 7 18.4-6-.8-4-10.4-3.9 9.4-5.5-.6 6.7-16.1L107.1 0h5.8l3.4 9.2 3.9-9.2h5.8ZM60.3 30.4V0h14.8v5.5h-9.5v7h7.2V18h-7.2v12.5h-5.3Zm-19.8-25V0h16.4v5.5h-5.5v25l-5.3.2V5.5h-5.6Zm-18.1 27V0H37v5.5h-9.4v7.3h7.1v5.4h-7.1v8.2l9.4-.6v5.4c-5 .3-9.8.6-14.7 1.1ZM12 19.8V0h5.3v32.8l-5.8.7-6.2-18.3v19L0 35V0h5l7 19.8Zm85.3 12V0h5.3v32.2l-5.3-.4Z\"></path></symbol><symbol fill=\"currentColor\" id=\"notion\" viewbox=\"0 0 154 54\" xmlns=\"http://www.w3.org/2000/svg\"><path d=\"M32.8.1 3.2 2.3C.8 2.5 0 4.1 0 6v32.8c0 1.4.5 2.7 1.8 4.4l7 9.1c1 1.5 2.1 1.8 4.3 1.7l34.3-2.1c3-.2 3.8-1.6 3.8-3.9V11.1c0-1.1-.5-1.5-1.9-2.5l-.2-.2-9.5-6.7C37.4 0 36.4-.2 32.8.1Zm-19 10.4c-2.8.2-3.4.3-5-1l-4-3.3c-.4-.4-.2-1 .8-1L34 3a6 6 0 0 1 4.6 1.3L43.5 8c.2.1.7.7 0 .7l-29.3 1.8H14Zm-3.2 37.2V16.4c0-1.4.4-2 1.6-2.1l33.8-2c1.1-.1 1.6.6 1.6 2v31c0 1.4-.2 2.6-2 2.7l-32.3 1.9c-1.9 0-2.7-.5-2.7-2.2ZM42.4 18c.2 1 0 1.9-.9 2l-1.6.3v23a8 8 0 0 1-3.6 1.2c-1.6 0-2-.5-3.3-2L22.8 26.3V42l3.2.7s0 2-2.6 2l-7.1.4c-.2-.5 0-1.5.7-1.7l1.9-.5V22.2l-2.6-.2c-.2-1 .3-2.3 1.8-2.5l7.6-.5 10.6 16.4V20.9l-2.7-.3c-.2-1.2.6-2 1.7-2.1l7.1-.4Zm31.4 20.2V24h.3l10.1 14.3h3.2v-21H84v14.3h-.3L73.5 17.3h-3.3v21h3.6Zm23.7.3c4.7 0 7.5-3.1 7.5-8.3 0-5.1-2.8-8.2-7.5-8.2s-7.6 3.1-7.6 8.2c0 5.2 2.9 8.3 7.6 8.3Zm0-3c-2.5 0-4-2-4-5.3s1.5-5.2 4-5.2c2.4 0 3.9 2 3.9 5.2 0 3.3-1.4 5.3-4 5.3Zm10.8-17.1v4h-2.5v2.9h2.5V34c0 3 1.4 4.3 5 4.3l1.9-.1v-2.9l-1.2.1c-1.5 0-2.2-.7-2.2-2.3v-7.7h3.4v-3h-3.4v-3.9h-3.5Zm9 19.8h3.6v-16h-3.6v16Zm1.8-18.5c1.2 0 2.1-1 2.1-2.2 0-1.2-1-2.2-2.1-2.2-1.2 0-2.1 1-2.1 2.2 0 1.2 1 2.2 2 2.2Zm11.5 18.8c4.7 0 7.5-3.1 7.5-8.3 0-5.1-2.8-8.2-7.5-8.2s-7.6 3.1-7.6 8.2c0 5.2 2.9 8.3 7.6 8.3Zm0-3c-2.5 0-4-2-4-5.3s1.5-5.2 4-5.2 3.9 2 3.9 5.2c0 3.3-1.4 5.3-4 5.3Zm9.7 2.7h3.5V29c0-2.3 1.3-3.8 3.5-3.8 2.1 0 3.1 1.2 3.1 3.6v9.5h3.6V28c0-3.8-2-6-5.4-6-2.4 0-4 1.2-4.7 3h-.2v-2.6h-3.4v15.9Z\"></path></symbol><symbol fill=\"currentColor\" id=\"adobe\" viewbox=\"0 0 134 35\" xmlns=\"http://www.w3.org/2000/svg\"><path d=\"M15.5 0H1v35L15.5 0Zm10.3 0h14.6v35L25.8 0Zm-5.1 12.9L30 35h-6.1L21 28h-6.8l6.4-15.1Zm43.6 9.4 1.7 5h3.7c.1 0 .2 0 .1-.2L63 8.1c0-.2 0-.2-.2-.2h-4.1c-.2 0-.2 0-.2.2 0 1-.2 1.3-.3 1.6l-6.1 17.4c0 .2 0 .3.2.3h3c.2 0 .2 0 .3-.3l1.6-4.8h7.1ZM58.2 19l2.5-8.1 2.7 8.1h-5.2Zm20.5 8.7a14 14 0 0 0 5.6-1.2l.1-.2V6.4l-.2-.1h-3.3l-.1.2v6h-1.3c-5.2 0-8.4 3.4-8.4 7.7 0 5 3.3 7.5 7.6 7.5Zm2-3.3-1.7.2c-2.3 0-4.3-1.3-4.3-4.6 0-2.8 2-4.5 4.7-4.5.5 0 1 0 1.4.2v8.7Zm14.1-11.9c-4.5 0-7.3 3.4-7.3 7.6 0 3.8 2.2 7.6 7.2 7.6 4.2 0 7.1-3.1 7.1-7.7 0-4-2.5-7.5-7-7.5Zm-.2 3c2.5 0 3.6 2.1 3.6 4.6 0 3-1.6 4.6-3.4 4.6-2.3 0-3.6-2-3.6-4.7 0-2.8 1.4-4.5 3.4-4.5Zm10.6-9.2c-.2 0-.3 0-.3.2v20.3s.1.2.3.2c1.4.5 2.9.7 4.4.7 4.4 0 8.7-2.7 8.7-8.2 0-4-2.8-7-7-7-1 0-2 .1-2.7.4V6.5c0-.2-.1-.2-.3-.2h-3.1Zm9.4 13.5c0 3.3-2.2 4.9-4.7 4.9-.5 0-1 0-1.3-.2V16c.4-.2 1-.4 2-.4 2.4 0 4 1.5 4 4.3Zm15.7 1.1 3-.1c.2 0 .3-.1.3-.2l.1-1.9c0-2.8-1.7-6.2-6-6.2-4.5 0-7 3.6-7 7.7 0 3.7 2 7.5 7.3 7.5 2 0 3.3-.3 4.5-.9l.1-.3V24c0-.1 0-.1-.1 0-1.2.4-2.4.6-3.7.6-3 0-4.4-1.6-4.5-3.7h6Zm-6-2.6c.2-1.4 1.2-3 3.2-3 2.3 0 2.9 2 2.9 2.8v.2h-6.1Z\"></path></symbol><symbol fill=\"currentColor\" id=\"amazon\" viewbox=\"0 0 113 34\" xmlns=\"http://www.w3.org/2000/svg\"><path d=\"M70 26.6a43.9 43.9 0 0 1-53.9-3.9c-.6-.6 0-1.3.7-.9a59.6 59.6 0 0 0 52.3 3.3c1-.5 2 .7 1 1.5Z\"></path><path d=\"M72.7 23.5c-.8-1.1-5.5-.5-7.6-.3-.7 0-.8-.5-.2-.9 3.8-2.6 10-1.8 10.6-1 .8 1-.1 7-3.7 10-.5.5-1 .2-.8-.4.8-2 2.6-6.4 1.7-7.4ZM65.2 3.7V1.1c0-.3.3-.6.7-.6h11.5c.3 0 .6.3.6.6v2.2c0 .4-.3.9-.8 1.7l-6 8.4c2.2 0 4.6.3 6.6 1.5.4.2.5.6.6 1v2.7c0 .4-.4.8-.9.6-3.5-1.9-8.2-2-12.1 0-.4.2-.8-.2-.8-.6V16c0-.4 0-1.1.4-1.8l7-9.8h-6a.7.7 0 0 1-.7-.7Zm-41.8 16h-3.5a.7.7 0 0 1-.6-.6v-18c0-.3.3-.5.6-.5h3.3c.3 0 .6.2.6.5v2.4c1-2.3 2.5-3.3 4.7-3.3s3.5 1 4.5 3.3A5 5 0 0 1 37.8.2a5 5 0 0 1 4 2c1.2 1.4 1 3.6 1 5.5v11.4c0 .3-.4.6-.7.6h-3.5a.7.7 0 0 1-.6-.6V9.6l-.1-3.4c-.3-1.2-1-1.5-2-1.5S34 5.2 33.6 6c-.3 1-.3 2.4-.3 3.5V19c0 .3-.3.6-.7.6h-3.5a.7.7 0 0 1-.6-.6V9.6c0-2 .3-5-2.1-5-2.6 0-2.5 2.9-2.5 5V19c0 .3-.3.6-.6.6ZM88 .2c5 0 7.9 4.4 7.9 10 0 5.5-3.1 9.9-8 9.9-5 0-7.9-4.5-7.9-10C80 4.5 83 0 88 0Zm0 3.6c-2.6 0-2.8 3.5-2.8 5.7s0 6.9 2.7 6.9 2.8-3.8 2.8-6c0-1.6 0-3.4-.5-4.8-.4-1.3-1.2-1.8-2.3-1.8Zm14.6 15.9h-3.5a.7.7 0 0 1-.6-.6V1c0-.3.3-.5.7-.5h3.2c.3 0 .6.2.6.5v2.7h.1c1-2.5 2.3-3.6 4.8-3.6 1.5 0 3 .5 4 2s1 4 1 5.7V19c0 .4-.4.6-.7.6h-3.5a.7.7 0 0 1-.6-.6V9.4c0-2 .2-4.8-2.2-4.8-.9 0-1.7.6-2 1.4a8 8 0 0 0-.6 3.4v9.7c0 .3-.3.6-.7.6ZM56 11.1v-.7c-2.4 0-5.1.5-5.1 3.5 0 1.5.8 2.5 2.1 2.5 1 0 1.9-.6 2.4-1.5.7-1.3.7-2.4.7-3.8Zm3.6 8.6c-.2.2-.6.2-.8 0-1.2-1-1.4-1.4-2-2.3-2 2-3.3 2.6-5.8 2.6-3 0-5.2-1.9-5.2-5.5a6 6 0 0 1 3.7-5.7c2-.8 4.6-1 6.6-1.2V7c0-.8 0-1.8-.4-2.5-.5-.6-1.3-.9-2-.9-1.3 0-2.5.7-2.8 2.1 0 .3-.3.6-.6.6L46.9 6c-.3 0-.6-.3-.5-.8.8-4 4.5-5.3 7.8-5.3 1.7 0 4 .5 5.3 1.7 1.7 1.6 1.5 3.7 1.5 6v5.5c0 1.6.7 2.3 1.3 3.2.2.3.3.7 0 1l-2.7 2.3Zm-49.3-8.6v-.7c-2.5 0-5.2.5-5.2 3.5 0 1.5.8 2.5 2.1 2.5 1 0 1.9-.6 2.5-1.5.6-1.3.6-2.4.6-3.8Zm3.5 8.6c-.2.2-.5.2-.8 0-1.2-1-1.4-1.4-2-2.3-2 2-3.3 2.6-5.8 2.6C2.3 20 0 18 0 14.5a6 6 0 0 1 3.7-5.7c2-.8 4.6-1 6.6-1.2V7c0-.8 0-1.8-.4-2.5-.4-.6-1.3-.9-2-.9-1.3 0-2.5.7-2.8 2.1 0 .3-.3.6-.6.6L1.1 6c-.3 0-.6-.3-.5-.8.8-4 4.5-5.3 7.8-5.3 1.7 0 4 .5 5.3 1.7 1.7 1.6 1.5 3.7 1.5 6v5.5c0 1.6.7 2.3 1.3 3.2.3.3.3.7 0 1l-2.7 2.3Z\"></path></symbol><symbol fill=\"currentColor\" id=\"apple\" viewbox=\"0 0 106 36\" xmlns=\"http://www.w3.org/2000/svg\"><path d=\"M24.6 19.1c0-4.5 3.7-6.7 3.9-6.8a8.4 8.4 0 0 0-6.6-3.6c-2.8-.3-5.5 1.7-7 1.7-1.3 0-3.5-1.7-5.9-1.6-3 0-5.8 1.8-7.4 4.5C-1.6 18.8.8 27 3.9 31.4c1.5 2.2 3.3 4.7 5.6 4.6 2.3 0 3.2-1.5 6-1.5 2.7 0 3.5 1.5 5.9 1.5 2.4-.1 4-2.3 5.5-4.5 1.7-2.5 2.4-5 2.5-5.1 0 0-4.8-1.8-4.8-7.3ZM20 5.8A8 8 0 0 0 22 0a8 8 0 0 0-5.3 2.7 7.5 7.5 0 0 0-2 5.6c2.1.2 4.2-1 5.4-2.5m20.3 17.8-2 6.3h-2.7l6.8-20h3.1l6.9 20h-2.8l-2.1-6.3h-7.2Zm6.6-2-2-5.8-1-3.7-1 3.7-2 5.8h6Zm7.5-1.4-.1-4.7h2.3L57 18c1-1.8 2.8-2.8 5.1-2.8 3.5 0 6.1 3 6.1 7.3 0 5.2-3.1 7.8-6.5 7.8a5 5 0 0 1-4.4-2.3H57v7.8h-2.6V20.2Zm2.6 3.9.1 1a4 4 0 0 0 4 3.1c2.7 0 4.3-2.3 4.3-5.6 0-2.9-1.5-5.3-4.3-5.3a4.2 4.2 0 0 0-4 3.2v3.6H57Zm13.8-3.9-.2-4.7h2.4l.1 2.5a5.7 5.7 0 0 1 5.2-2.8c3.5 0 6.1 3 6.1 7.3 0 5.2-3.2 7.8-6.6 7.8a5 5 0 0 1-4.4-2.3v7.8h-2.6V20.2Zm2.6 3.9v1a4 4 0 0 0 4 3.1c2.8 0 4.4-2.3 4.4-5.6 0-2.9-1.5-5.3-4.3-5.3a4.2 4.2 0 0 0-4 3.2l-.1 1v2.6ZM87.2 8.8h2.6v21.1h-2.6V8.8Zm8 14.4c0 3.5 2.2 5 4.8 5 2 0 3-.3 4-.7l.5 1.8c-1 .4-2.5 1-4.8 1-4.4 0-7.1-3-7.1-7.3 0-4.4 2.6-7.8 6.8-7.8 4.7 0 6 4.1 6 6.8l-.2 1.2h-10Zm7.6-1.9c0-1.7-.7-4.2-3.6-4.2-2.7 0-3.9 2.4-4 4.2h7.6Z\"></path></symbol><symbol fill=\"currentColor\" id=\"google\" viewbox=\"0 0 103 33\" xmlns=\"http://www.w3.org/2000/svg\"><path d=\"M13 0h1c3 0 6.2 1.3 8.4 3.5L20 6A9.4 9.4 0 0 0 8.4 5a9.4 9.4 0 0 0-2 13.8c1.7 2 4.2 3.2 6.7 3.3a9 9 0 0 0 6.7-2.3c1.4-1.1 2-3 2.2-4.7h-8.5v-3.4h12c.6 3.7-.3 8-3.2 10.6-2 2-4.6 3-7.3 3.2a13.1 13.1 0 0 1-13.8-8.4A12.4 12.4 0 0 1 6 2.5C7.9 1 10.5.2 13 0Zm68.7.9h3.7V25h-3.7V.9ZM33.6 9.3c2.3-.4 4.7 0 6.6 1.4a8.3 8.3 0 0 1 1.6 11.9 8.4 8.4 0 0 1-7 3 8.4 8.4 0 0 1-6.3-3.3 8.4 8.4 0 0 1-1.2-7.7 8.1 8.1 0 0 1 6.3-5.3Zm.5 3.2c-1 .2-1.8.8-2.4 1.5-1.6 2-1.5 5.2.3 7a4.6 4.6 0 0 0 7.2-1c1.2-2 .9-4.9-.9-6.4a4.7 4.7 0 0 0-4.2-1.1Zm17.7-3.2c2.5-.5 5.4.2 7.3 2 3.2 2.8 3.5 8 .8 11.3a8.4 8.4 0 0 1-6.9 3 8.3 8.3 0 0 1-6.4-3.3 8.5 8.5 0 0 1-1-7.9 8.1 8.1 0 0 1 6.2-5.1Zm.5 3.2c-1 .2-1.8.8-2.4 1.5-1.7 2-1.6 5 .2 7a4.6 4.6 0 0 0 7.3-1c1.1-2 .8-4.9-1-6.4a4.6 4.6 0 0 0-4.1-1.1Z\"></path><path d=\"M67.2 10.3a7 7 0 0 1 6.7-.5c.6.2 1.2.7 1.7 1.2V9.6h3.5v15c0 2.3-.6 4.6-2.3 6.3a8.2 8.2 0 0 1-13-2.7l3.2-1.4a4.7 4.7 0 0 0 3.3 2.9c1.5.2 3.3-.1 4.3-1.4 1-1.3 1-3 1-4.6a6 6 0 0 1-2.8 1.7c-2.4.6-5-.2-6.8-1.8a8.3 8.3 0 0 1 1.2-13.3Zm3.5 2.1A5 5 0 0 0 68 14a5.4 5.4 0 0 0 0 6.8c1 1 2.4 1.7 3.9 1.5 1.3-.1 2.6-1 3.2-2.1 1.2-2 1-4.7-.5-6.4-1-1-2.5-1.6-3.9-1.4Zm19.1-1.3c2-1.9 5.2-2.5 7.8-1.5 2.5 1 4.1 3.3 5 5.7l-11.2 4.6c.5 1 1.3 1.8 2.4 2.2a4.8 4.8 0 0 0 5.8-2l2.8 1.8a8.3 8.3 0 0 1-6 3.6c-2.7.4-5.5-.7-7.3-2.7a8.6 8.6 0 0 1 .7-11.7Zm1.8 3.2c-.6.8-.8 1.8-.8 2.8l7.5-3a3 3 0 0 0-2.5-1.7c-1.6-.3-3.3.5-4.2 1.9Z\"></path></symbol></defs></svg></section><section class=\"relative border-y border-gray-100 pt-16 lg:pt-32\"><svg class=\"absolute inset-0 z-0 h-full w-full stroke-gray-100 [mask-image:radial-gradient(transparent,white)]\"><rect fill=\"url(#grid-2)\" height=\"100%\" width=\"100%\"></rect><defs><pattern height=\"145\" id=\"grid-2\" patternunits=\"userSpaceOnUse\" width=\"145\" x=\"50%\" y=\"-1\"><path d=\"M.5 200V.5H200\" fill=\"none\"></path></pattern></defs></svg><svg class=\"absolute inset-0 z-10 h-full w-full stroke-gray-200 [mask-image:linear-gradient(90deg,white,transparent_18%,transparent_82%,white)]\"><rect fill=\"url(#grid-1)\" height=\"100%\" width=\"100%\"></rect><defs><pattern height=\"145\" id=\"grid-1\" patternunits=\"userSpaceOnUse\" width=\"145\" x=\"50%\" y=\"-1\"><path d=\"M.5 200V.5H200\" fill=\"none\"></path></pattern></defs></svg><div class=\"relative z-20 mx-auto max-w-screen-2xl px-6\"><div class=\"flex flex-col items-stretch text-center\"><h4 class=\"mb-12 px-4 text-sm font-bold uppercase leading-relaxed tracking-widest text-gray-500 sm:text-base\">Explore the codedamn way</h4><span class=\"h-24 w-px self-center bg-gradient-to-t from-primary-600 to-white\"></span><span class=\"mb-6 flex h-10 w-10 items-center justify-center self-center rounded-full bg-gradient-to-r from-primary-600 to-purple-500 text-xl font-bold text-white\">1</span><span class=\"mb-4 bg-gradient-to-br from-primary-600 to-purple-600 bg-clip-text text-[28px] font-bold uppercase leading-9 tracking-tight text-transparent\">Learn</span><h2 class=\"bg-gradient-to-b from-black via-gray-700 to-black bg-clip-text pb-6 text-[40px] font-bold leading-[2.75rem] tracking-tighter text-transparent sm:text-6xl\">Instantly and Interactively</h2><span class=\"mx-auto mb-16 w-full max-w-3xl text-xl leading-8 tracking-tight text-gray-600 sm:mb-24\">Learn from carefully curated learning paths with up-to-date interactive courses, and receive 24x7 AI assistance as you develop your coding skills.</span><div class=\"mx-auto w-full\"><div class=\"flex w-full flex-col lg:flex-row\"><div class=\"order-3 w-full flex-auto py-12 lg:order-1\"><div class=\"flex w-full select-none lg:px-14\"><div class=\"relative mx-auto aspect-[16/9] w-full max-w-2xl p-[5%]\"><div class=\"flex h-full w-full overflow-hidden rounded-md bg-white shadow-2xl\"><div class=\"flex flex-[60%] flex-col\"><div class=\"flex border-b bg-white text-[min(1.6vw,10px)] lg:text-[min(0.8vw,11px)]\"><div class=\"flex w-[20%] items-center justify-center gap-[15%] px-[4%] py-[2%]\"><div class=\"aspect-1 w-2.5 rounded-full bg-red-400\"></div><div class=\"aspect-1 w-2.5 rounded-full bg-yellow-400\"></div><div class=\"aspect-1 w-2.5 rounded-full bg-green-400\"></div></div><div class=\"w-fit translate-y-px border-x bg-white px-[4%] py-[2%] text-gray-600\">index.jsx</div></div><div class=\"flex gap-[2.5%] font-mono text-[min(2vw,14px)] tracking-tight lg:text-[min(1vw,14px)]\"><div class=\"flex flex-col\"><span class=\"h-full bg-gray-50 px-1.5 text-gray-400\">05</span><span class=\"h-full bg-gray-50 px-1.5 text-gray-400\">06</span><span class=\"h-full bg-gray-50 px-1.5 text-gray-400\">07</span><span class=\"h-full bg-gray-50 px-1.5 text-gray-400\">08</span><span class=\"h-full bg-gray-50 px-1.5 text-gray-400\">09</span><span class=\"h-full bg-gray-50 px-1.5 text-gray-400\">10</span><span class=\"h-full bg-gray-50 px-1.5 text-gray-400\">11</span><span class=\"h-full bg-gray-50 px-1.5 text-gray-400\">12</span><span class=\"h-full bg-gray-50 px-1.5 text-gray-400\">13</span><span class=\"h-full bg-gray-50 px-1.5 text-gray-400\">14</span><span class=\"h-full bg-gray-50 px-1.5 text-gray-400\">15</span><span class=\"h-full bg-gray-50 px-1.5 text-gray-400\">16</span><span class=\"h-full bg-gray-50 px-1.5 text-gray-400\">17</span></div><code class=\"flex flex-col text-gray-600\" style=\"text-align:left;white-space:pre;word-spacing:normal;word-break:normal;tab-size:4;hyphens:none;overflow-wrap:normal\"><span class=\"text-gray-500\">....</span><span class=\"inline\"><span class=\"font-semibold\">export function </span><span>({ data }) =&gt; {</span></span><span><span>  </span><span class=\"font-semibold\">return </span><span>&lt;</span><span class=\"font-semibold text-purple-700\">Layout</span><span>&gt;</span></span><span class=\"inline-flex\">    <span class=\"text-gray-400\">/* Your code here */</span></span><span><span>  </span><span>&lt;/</span><span class=\"font-semibold text-purple-700\">Layout</span><span>&gt;</span></span><span>}</span><span class=\"text-gray-500\">....</span></code></div></div><div class=\"flex flex-[40%] flex-col border-l border-gray-200 text-[min(2vw,14px)] lg:text-[min(1vw,14px)]\"><div class=\"flex h-[10%] border-b border-gray-200 bg-white text-gray-500\"><svg class=\"ml-[5%] aspect-1 h-auto w-[7%]\" fill=\"currentColor\" height=\"1em\" stroke=\"currentColor\" stroke-width=\"0.5\" viewbox=\"0 0 16 16\" width=\"1em\" xmlns=\"http://www.w3.org/2000/svg\"><path d=\"M15 8a.5.5 0 0 0-.5-.5H2.707l3.147-3.146a.5.5 0 1 0-.708-.708l-4 4a.5.5 0 0 0 0 .708l4 4a.5.5 0 0 0 .708-.708L2.707 8.5H14.5A.5.5 0 0 0 15 8z\" fill-rule=\"evenodd\"></path></svg></div><div class=\"flex flex-1 animate-pulse items-center justify-center bg-gray-100\"><svg class=\"aspect-1 h-auto w-[15%] text-gray-400\" fill=\"currentColor\" height=\"1em\" stroke=\"currentColor\" stroke-width=\"0\" viewbox=\"0 0 16 16\" width=\"1em\" xmlns=\"http://www.w3.org/2000/svg\"><path d=\"M2.5 4a.5.5 0 1 0 0-1 .5.5 0 0 0 0 1zm2-.5a.5.5 0 1 1-1 0 .5.5 0 0 1 1 0zm1 .5a.5.5 0 1 0 0-1 .5.5 0 0 0 0 1z\"></path><path d=\"M2 1a2 2 0 0 0-2 2v10a2 2 0 0 0 2 2h12a2 2 0 0 0 2-2V3a2 2 0 0 0-2-2H2zm13 2v2H1V3a1 1 0 0 1 1-1h12a1 1 0 0 1 1 1zM2 14a1 1 0 0 1-1-1V6h14v7a1 1 0 0 1-1 1H2z\"></path></svg></div></div></div><div class=\"shadow-wxl absolute right-0 top-0 flex aspect-[16/9] w-full max-w-[35%] items-center justify-center overflow-hidden rounded-md bg-black bg-contain shadow-2xl shadow-gray-900/40\" style=\"opacity:0;transform:scale(0.75) translateZ(0)\"><div class=\"relative flex h-full w-full\"><svg class=\"absolute left-1/2 top-1/2 z-30 aspect-1 h-[35%] w-[35%] -translate-x-1/2 -translate-y-1/2 text-white\" fill=\"currentColor\" height=\"1em\" stroke=\"currentColor\" stroke-width=\"0\" viewbox=\"0 0 16 16\" width=\"1em\" xmlns=\"http://www.w3.org/2000/svg\"><path d=\"M16 8A8 8 0 1 1 0 8a8 8 0 0 1 16 0zM6.79 5.093A.5.5 0 0 0 6 5.5v5a.5.5 0 0 0 .79.407l3.5-2.5a.5.5 0 0 0 0-.814l-3.5-2.5z\"></path></svg><img alt=\"JavaScript course image\" class=\"absolute inset-0 z-0\" data-nimg=\"1\" decoding=\"async\" height=\"360\" loading=\"lazy\" src=\"https://wsrv.nl/?url=https%3A%2F%2Fs3.us-east-1.amazonaws.com%2Fcreator-assets.codedamn.com%2Fcodedamn-61897bfe60f1140008feb00d%2FCOURSE_IMAGE%2F2023-02-10%2F95e0d9dc04bf4507aad9fcf0a3d8671829d86971&amp;w=1280&amp;q=70&amp;output=webp\" srcset=\"https://wsrv.nl/?url=https%3A%2F%2Fs3.us-east-1.amazonaws.com%2Fcreator-assets.codedamn.com%2Fcodedamn-61897bfe60f1140008feb00d%2FCOURSE_IMAGE%2F2023-02-10%2F95e0d9dc04bf4507aad9fcf0a3d8671829d86971&amp;w=1280&amp;q=70&amp;output=webp 1x, https://wsrv.nl/?url=https%3A%2F%2Fs3.us-east-1.amazonaws.com%2Fcreator-assets.codedamn.com%2Fcodedamn-61897bfe60f1140008feb00d%2FCOURSE_IMAGE%2F2023-02-10%2F95e0d9dc04bf4507aad9fcf0a3d8671829d86971&amp;w=1280&amp;q=70&amp;output=webp 2x\" style=\"color:transparent\" width=\"640\"/></div></div><div class=\"absolute bottom-0 left-0 flex max-w-[35%] flex-col rounded bg-gradient-to-br from-gray-800 via-gray-700 to-gray-800 px-[2.5%] py-[1.5%] text-[min(2vw,14px)] font-medium text-gray-100 shadow-2xl lg:text-[min(1vw,14px)]\"><span class=\"mb-[5%]\"><span class=\"text-[min(2.25vw,16px)] font-bold text-white lg:text-[min(1.125vw,16px)]\">0</span>/6 challenges completed</span><ul class=\"mb-[3%] grid grid-cols-6 gap-[5%]\" style=\"opacity:0\"><li class=\"w-full\" style=\"opacity:0;transform:scale(0) translateZ(0)\"><svg class=\"h-auto w-full rounded-full text-gray-300\" fill=\"currentColor\" height=\"1em\" stroke=\"currentColor\" stroke-width=\"0\" viewbox=\"0 0 16 16\" width=\"1em\" xmlns=\"http://www.w3.org/2000/svg\"><path d=\"M8 0c-.176 0-.35.006-.523.017l.064.998a7.117 7.117 0 0 1 .918 0l.064-.998A8.113 8.113 0 0 0 8 0zM6.44.152c-.346.069-.684.16-1.012.27l.321.948c.287-.098.582-.177.884-.237L6.44.153zm4.132.271a7.946 7.946 0 0 0-1.011-.27l-.194.98c.302.06.597.14.884.237l.321-.947zm1.873.925a8 8 0 0 0-.906-.524l-.443.896c.275.136.54.29.793.459l.556-.831zM4.46.824c-.314.155-.616.33-.905.524l.556.83a7.07 7.07 0 0 1 .793-.458L4.46.824zM2.725 1.985c-.262.23-.51.478-.74.74l.752.66c.202-.23.418-.446.648-.648l-.66-.752zm11.29.74a8.058 8.058 0 0 0-.74-.74l-.66.752c.23.202.447.418.648.648l.752-.66zm1.161 1.735a7.98 7.98 0 0 0-.524-.905l-.83.556c.169.253.322.518.458.793l.896-.443zM1.348 3.555c-.194.289-.37.591-.524.906l.896.443c.136-.275.29-.54.459-.793l-.831-.556zM.423 5.428a7.945 7.945 0 0 0-.27 1.011l.98.194c.06-.302.14-.597.237-.884l-.947-.321zM15.848 6.44a7.943 7.943 0 0 0-.27-1.012l-.948.321c.098.287.177.582.237.884l.98-.194zM.017 7.477a8.113 8.113 0 0 0 0 1.046l.998-.064a7.117 7.117 0 0 1 0-.918l-.998-.064zM16 8a8.1 8.1 0 0 0-.017-.523l-.998.064a7.11 7.11 0 0 1 0 .918l.998.064A8.1 8.1 0 0 0 16 8zM.152 9.56c.069.346.16.684.27 1.012l.948-.321a6.944 6.944 0 0 1-.237-.884l-.98.194zm15.425 1.012c.112-.328.202-.666.27-1.011l-.98-.194c-.06.302-.14.597-.237.884l.947.321zM.824 11.54a8 8 0 0 0 .524.905l.83-.556a6.999 6.999 0 0 1-.458-.793l-.896.443zm13.828.905c.194-.289.37-.591.524-.906l-.896-.443c-.136.275-.29.54-.459.793l.831.556zm-12.667.83c.23.262.478.51.74.74l.66-.752a7.047 7.047 0 0 1-.648-.648l-.752.66zm11.29.74c.262-.23.51-.478.74-.74l-.752-.66c-.201.23-.418.447-.648.648l.66.752zm-1.735 1.161c.314-.155.616-.33.905-.524l-.556-.83a7.07 7.07 0 0 1-.793.458l.443.896zm-7.985-.524c.289.194.591.37.906.524l.443-.896a6.998 6.998 0 0 1-.793-.459l-.556.831zm1.873.925c.328.112.666.202 1.011.27l.194-.98a6.953 6.953 0 0 1-.884-.237l-.321.947zm4.132.271a7.944 7.944 0 0 0 1.012-.27l-.321-.948a6.954 6.954 0 0 1-.884.237l.194.98zm-2.083.135a8.1 8.1 0 0 0 1.046 0l-.064-.998a7.11 7.11 0 0 1-.918 0l-.064.998zM4.5 7.5a.5.5 0 0 0 0 1h7a.5.5 0 0 0 0-1h-7z\"></path></svg></li><li class=\"w-full\" style=\"opacity:0;transform:scale(0) translateZ(0)\"><svg class=\"h-auto w-full rounded-full text-gray-300\" fill=\"currentColor\" height=\"1em\" stroke=\"currentColor\" stroke-width=\"0\" viewbox=\"0 0 16 16\" width=\"1em\" xmlns=\"http://www.w3.org/2000/svg\"><path d=\"M8 0c-.176 0-.35.006-.523.017l.064.998a7.117 7.117 0 0 1 .918 0l.064-.998A8.113 8.113 0 0 0 8 0zM6.44.152c-.346.069-.684.16-1.012.27l.321.948c.287-.098.582-.177.884-.237L6.44.153zm4.132.271a7.946 7.946 0 0 0-1.011-.27l-.194.98c.302.06.597.14.884.237l.321-.947zm1.873.925a8 8 0 0 0-.906-.524l-.443.896c.275.136.54.29.793.459l.556-.831zM4.46.824c-.314.155-.616.33-.905.524l.556.83a7.07 7.07 0 0 1 .793-.458L4.46.824zM2.725 1.985c-.262.23-.51.478-.74.74l.752.66c.202-.23.418-.446.648-.648l-.66-.752zm11.29.74a8.058 8.058 0 0 0-.74-.74l-.66.752c.23.202.447.418.648.648l.752-.66zm1.161 1.735a7.98 7.98 0 0 0-.524-.905l-.83.556c.169.253.322.518.458.793l.896-.443zM1.348 3.555c-.194.289-.37.591-.524.906l.896.443c.136-.275.29-.54.459-.793l-.831-.556zM.423 5.428a7.945 7.945 0 0 0-.27 1.011l.98.194c.06-.302.14-.597.237-.884l-.947-.321zM15.848 6.44a7.943 7.943 0 0 0-.27-1.012l-.948.321c.098.287.177.582.237.884l.98-.194zM.017 7.477a8.113 8.113 0 0 0 0 1.046l.998-.064a7.117 7.117 0 0 1 0-.918l-.998-.064zM16 8a8.1 8.1 0 0 0-.017-.523l-.998.064a7.11 7.11 0 0 1 0 .918l.998.064A8.1 8.1 0 0 0 16 8zM.152 9.56c.069.346.16.684.27 1.012l.948-.321a6.944 6.944 0 0 1-.237-.884l-.98.194zm15.425 1.012c.112-.328.202-.666.27-1.011l-.98-.194c-.06.302-.14.597-.237.884l.947.321zM.824 11.54a8 8 0 0 0 .524.905l.83-.556a6.999 6.999 0 0 1-.458-.793l-.896.443zm13.828.905c.194-.289.37-.591.524-.906l-.896-.443c-.136.275-.29.54-.459.793l.831.556zm-12.667.83c.23.262.478.51.74.74l.66-.752a7.047 7.047 0 0 1-.648-.648l-.752.66zm11.29.74c.262-.23.51-.478.74-.74l-.752-.66c-.201.23-.418.447-.648.648l.66.752zm-1.735 1.161c.314-.155.616-.33.905-.524l-.556-.83a7.07 7.07 0 0 1-.793.458l.443.896zm-7.985-.524c.289.194.591.37.906.524l.443-.896a6.998 6.998 0 0 1-.793-.459l-.556.831zm1.873.925c.328.112.666.202 1.011.27l.194-.98a6.953 6.953 0 0 1-.884-.237l-.321.947zm4.132.271a7.944 7.944 0 0 0 1.012-.27l-.321-.948a6.954 6.954 0 0 1-.884.237l.194.98zm-2.083.135a8.1 8.1 0 0 0 1.046 0l-.064-.998a7.11 7.11 0 0 1-.918 0l-.064.998zM4.5 7.5a.5.5 0 0 0 0 1h7a.5.5 0 0 0 0-1h-7z\"></path></svg></li><li class=\"w-full\" style=\"opacity:0;transform:scale(0) translateZ(0)\"><svg class=\"h-auto w-full rounded-full text-gray-300\" fill=\"currentColor\" height=\"1em\" stroke=\"currentColor\" stroke-width=\"0\" viewbox=\"0 0 16 16\" width=\"1em\" xmlns=\"http://www.w3.org/2000/svg\"><path d=\"M8 0c-.176 0-.35.006-.523.017l.064.998a7.117 7.117 0 0 1 .918 0l.064-.998A8.113 8.113 0 0 0 8 0zM6.44.152c-.346.069-.684.16-1.012.27l.321.948c.287-.098.582-.177.884-.237L6.44.153zm4.132.271a7.946 7.946 0 0 0-1.011-.27l-.194.98c.302.06.597.14.884.237l.321-.947zm1.873.925a8 8 0 0 0-.906-.524l-.443.896c.275.136.54.29.793.459l.556-.831zM4.46.824c-.314.155-.616.33-.905.524l.556.83a7.07 7.07 0 0 1 .793-.458L4.46.824zM2.725 1.985c-.262.23-.51.478-.74.74l.752.66c.202-.23.418-.446.648-.648l-.66-.752zm11.29.74a8.058 8.058 0 0 0-.74-.74l-.66.752c.23.202.447.418.648.648l.752-.66zm1.161 1.735a7.98 7.98 0 0 0-.524-.905l-.83.556c.169.253.322.518.458.793l.896-.443zM1.348 3.555c-.194.289-.37.591-.524.906l.896.443c.136-.275.29-.54.459-.793l-.831-.556zM.423 5.428a7.945 7.945 0 0 0-.27 1.011l.98.194c.06-.302.14-.597.237-.884l-.947-.321zM15.848 6.44a7.943 7.943 0 0 0-.27-1.012l-.948.321c.098.287.177.582.237.884l.98-.194zM.017 7.477a8.113 8.113 0 0 0 0 1.046l.998-.064a7.117 7.117 0 0 1 0-.918l-.998-.064zM16 8a8.1 8.1 0 0 0-.017-.523l-.998.064a7.11 7.11 0 0 1 0 .918l.998.064A8.1 8.1 0 0 0 16 8zM.152 9.56c.069.346.16.684.27 1.012l.948-.321a6.944 6.944 0 0 1-.237-.884l-.98.194zm15.425 1.012c.112-.328.202-.666.27-1.011l-.98-.194c-.06.302-.14.597-.237.884l.947.321zM.824 11.54a8 8 0 0 0 .524.905l.83-.556a6.999 6.999 0 0 1-.458-.793l-.896.443zm13.828.905c.194-.289.37-.591.524-.906l-.896-.443c-.136.275-.29.54-.459.793l.831.556zm-12.667.83c.23.262.478.51.74.74l.66-.752a7.047 7.047 0 0 1-.648-.648l-.752.66zm11.29.74c.262-.23.51-.478.74-.74l-.752-.66c-.201.23-.418.447-.648.648l.66.752zm-1.735 1.161c.314-.155.616-.33.905-.524l-.556-.83a7.07 7.07 0 0 1-.793.458l.443.896zm-7.985-.524c.289.194.591.37.906.524l.443-.896a6.998 6.998 0 0 1-.793-.459l-.556.831zm1.873.925c.328.112.666.202 1.011.27l.194-.98a6.953 6.953 0 0 1-.884-.237l-.321.947zm4.132.271a7.944 7.944 0 0 0 1.012-.27l-.321-.948a6.954 6.954 0 0 1-.884.237l.194.98zm-2.083.135a8.1 8.1 0 0 0 1.046 0l-.064-.998a7.11 7.11 0 0 1-.918 0l-.064.998zM4.5 7.5a.5.5 0 0 0 0 1h7a.5.5 0 0 0 0-1h-7z\"></path></svg></li><li class=\"w-full\" style=\"opacity:0;transform:scale(0) translateZ(0)\"><svg class=\"h-auto w-full rounded-full text-gray-300\" fill=\"currentColor\" height=\"1em\" stroke=\"currentColor\" stroke-width=\"0\" viewbox=\"0 0 16 16\" width=\"1em\" xmlns=\"http://www.w3.org/2000/svg\"><path d=\"M8 0c-.176 0-.35.006-.523.017l.064.998a7.117 7.117 0 0 1 .918 0l.064-.998A8.113 8.113 0 0 0 8 0zM6.44.152c-.346.069-.684.16-1.012.27l.321.948c.287-.098.582-.177.884-.237L6.44.153zm4.132.271a7.946 7.946 0 0 0-1.011-.27l-.194.98c.302.06.597.14.884.237l.321-.947zm1.873.925a8 8 0 0 0-.906-.524l-.443.896c.275.136.54.29.793.459l.556-.831zM4.46.824c-.314.155-.616.33-.905.524l.556.83a7.07 7.07 0 0 1 .793-.458L4.46.824zM2.725 1.985c-.262.23-.51.478-.74.74l.752.66c.202-.23.418-.446.648-.648l-.66-.752zm11.29.74a8.058 8.058 0 0 0-.74-.74l-.66.752c.23.202.447.418.648.648l.752-.66zm1.161 1.735a7.98 7.98 0 0 0-.524-.905l-.83.556c.169.253.322.518.458.793l.896-.443zM1.348 3.555c-.194.289-.37.591-.524.906l.896.443c.136-.275.29-.54.459-.793l-.831-.556zM.423 5.428a7.945 7.945 0 0 0-.27 1.011l.98.194c.06-.302.14-.597.237-.884l-.947-.321zM15.848 6.44a7.943 7.943 0 0 0-.27-1.012l-.948.321c.098.287.177.582.237.884l.98-.194zM.017 7.477a8.113 8.113 0 0 0 0 1.046l.998-.064a7.117 7.117 0 0 1 0-.918l-.998-.064zM16 8a8.1 8.1 0 0 0-.017-.523l-.998.064a7.11 7.11 0 0 1 0 .918l.998.064A8.1 8.1 0 0 0 16 8zM.152 9.56c.069.346.16.684.27 1.012l.948-.321a6.944 6.944 0 0 1-.237-.884l-.98.194zm15.425 1.012c.112-.328.202-.666.27-1.011l-.98-.194c-.06.302-.14.597-.237.884l.947.321zM.824 11.54a8 8 0 0 0 .524.905l.83-.556a6.999 6.999 0 0 1-.458-.793l-.896.443zm13.828.905c.194-.289.37-.591.524-.906l-.896-.443c-.136.275-.29.54-.459.793l.831.556zm-12.667.83c.23.262.478.51.74.74l.66-.752a7.047 7.047 0 0 1-.648-.648l-.752.66zm11.29.74c.262-.23.51-.478.74-.74l-.752-.66c-.201.23-.418.447-.648.648l.66.752zm-1.735 1.161c.314-.155.616-.33.905-.524l-.556-.83a7.07 7.07 0 0 1-.793.458l.443.896zm-7.985-.524c.289.194.591.37.906.524l.443-.896a6.998 6.998 0 0 1-.793-.459l-.556.831zm1.873.925c.328.112.666.202 1.011.27l.194-.98a6.953 6.953 0 0 1-.884-.237l-.321.947zm4.132.271a7.944 7.944 0 0 0 1.012-.27l-.321-.948a6.954 6.954 0 0 1-.884.237l.194.98zm-2.083.135a8.1 8.1 0 0 0 1.046 0l-.064-.998a7.11 7.11 0 0 1-.918 0l-.064.998zM4.5 7.5a.5.5 0 0 0 0 1h7a.5.5 0 0 0 0-1h-7z\"></path></svg></li><li class=\"w-full\" style=\"opacity:0;transform:scale(0) translateZ(0)\"><svg class=\"h-auto w-full rounded-full text-gray-300\" fill=\"currentColor\" height=\"1em\" stroke=\"currentColor\" stroke-width=\"0\" viewbox=\"0 0 16 16\" width=\"1em\" xmlns=\"http://www.w3.org/2000/svg\"><path d=\"M8 0c-.176 0-.35.006-.523.017l.064.998a7.117 7.117 0 0 1 .918 0l.064-.998A8.113 8.113 0 0 0 8 0zM6.44.152c-.346.069-.684.16-1.012.27l.321.948c.287-.098.582-.177.884-.237L6.44.153zm4.132.271a7.946 7.946 0 0 0-1.011-.27l-.194.98c.302.06.597.14.884.237l.321-.947zm1.873.925a8 8 0 0 0-.906-.524l-.443.896c.275.136.54.29.793.459l.556-.831zM4.46.824c-.314.155-.616.33-.905.524l.556.83a7.07 7.07 0 0 1 .793-.458L4.46.824zM2.725 1.985c-.262.23-.51.478-.74.74l.752.66c.202-.23.418-.446.648-.648l-.66-.752zm11.29.74a8.058 8.058 0 0 0-.74-.74l-.66.752c.23.202.447.418.648.648l.752-.66zm1.161 1.735a7.98 7.98 0 0 0-.524-.905l-.83.556c.169.253.322.518.458.793l.896-.443zM1.348 3.555c-.194.289-.37.591-.524.906l.896.443c.136-.275.29-.54.459-.793l-.831-.556zM.423 5.428a7.945 7.945 0 0 0-.27 1.011l.98.194c.06-.302.14-.597.237-.884l-.947-.321zM15.848 6.44a7.943 7.943 0 0 0-.27-1.012l-.948.321c.098.287.177.582.237.884l.98-.194zM.017 7.477a8.113 8.113 0 0 0 0 1.046l.998-.064a7.117 7.117 0 0 1 0-.918l-.998-.064zM16 8a8.1 8.1 0 0 0-.017-.523l-.998.064a7.11 7.11 0 0 1 0 .918l.998.064A8.1 8.1 0 0 0 16 8zM.152 9.56c.069.346.16.684.27 1.012l.948-.321a6.944 6.944 0 0 1-.237-.884l-.98.194zm15.425 1.012c.112-.328.202-.666.27-1.011l-.98-.194c-.06.302-.14.597-.237.884l.947.321zM.824 11.54a8 8 0 0 0 .524.905l.83-.556a6.999 6.999 0 0 1-.458-.793l-.896.443zm13.828.905c.194-.289.37-.591.524-.906l-.896-.443c-.136.275-.29.54-.459.793l.831.556zm-12.667.83c.23.262.478.51.74.74l.66-.752a7.047 7.047 0 0 1-.648-.648l-.752.66zm11.29.74c.262-.23.51-.478.74-.74l-.752-.66c-.201.23-.418.447-.648.648l.66.752zm-1.735 1.161c.314-.155.616-.33.905-.524l-.556-.83a7.07 7.07 0 0 1-.793.458l.443.896zm-7.985-.524c.289.194.591.37.906.524l.443-.896a6.998 6.998 0 0 1-.793-.459l-.556.831zm1.873.925c.328.112.666.202 1.011.27l.194-.98a6.953 6.953 0 0 1-.884-.237l-.321.947zm4.132.271a7.944 7.944 0 0 0 1.012-.27l-.321-.948a6.954 6.954 0 0 1-.884.237l.194.98zm-2.083.135a8.1 8.1 0 0 0 1.046 0l-.064-.998a7.11 7.11 0 0 1-.918 0l-.064.998zM4.5 7.5a.5.5 0 0 0 0 1h7a.5.5 0 0 0 0-1h-7z\"></path></svg></li><li class=\"w-full\" style=\"opacity:0;transform:scale(0) translateZ(0)\"><svg class=\"h-auto w-full rounded-full text-gray-300\" fill=\"currentColor\" height=\"1em\" stroke=\"currentColor\" stroke-width=\"0\" viewbox=\"0 0 16 16\" width=\"1em\" xmlns=\"http://www.w3.org/2000/svg\"><path d=\"M8 0c-.176 0-.35.006-.523.017l.064.998a7.117 7.117 0 0 1 .918 0l.064-.998A8.113 8.113 0 0 0 8 0zM6.44.152c-.346.069-.684.16-1.012.27l.321.948c.287-.098.582-.177.884-.237L6.44.153zm4.132.271a7.946 7.946 0 0 0-1.011-.27l-.194.98c.302.06.597.14.884.237l.321-.947zm1.873.925a8 8 0 0 0-.906-.524l-.443.896c.275.136.54.29.793.459l.556-.831zM4.46.824c-.314.155-.616.33-.905.524l.556.83a7.07 7.07 0 0 1 .793-.458L4.46.824zM2.725 1.985c-.262.23-.51.478-.74.74l.752.66c.202-.23.418-.446.648-.648l-.66-.752zm11.29.74a8.058 8.058 0 0 0-.74-.74l-.66.752c.23.202.447.418.648.648l.752-.66zm1.161 1.735a7.98 7.98 0 0 0-.524-.905l-.83.556c.169.253.322.518.458.793l.896-.443zM1.348 3.555c-.194.289-.37.591-.524.906l.896.443c.136-.275.29-.54.459-.793l-.831-.556zM.423 5.428a7.945 7.945 0 0 0-.27 1.011l.98.194c.06-.302.14-.597.237-.884l-.947-.321zM15.848 6.44a7.943 7.943 0 0 0-.27-1.012l-.948.321c.098.287.177.582.237.884l.98-.194zM.017 7.477a8.113 8.113 0 0 0 0 1.046l.998-.064a7.117 7.117 0 0 1 0-.918l-.998-.064zM16 8a8.1 8.1 0 0 0-.017-.523l-.998.064a7.11 7.11 0 0 1 0 .918l.998.064A8.1 8.1 0 0 0 16 8zM.152 9.56c.069.346.16.684.27 1.012l.948-.321a6.944 6.944 0 0 1-.237-.884l-.98.194zm15.425 1.012c.112-.328.202-.666.27-1.011l-.98-.194c-.06.302-.14.597-.237.884l.947.321zM.824 11.54a8 8 0 0 0 .524.905l.83-.556a6.999 6.999 0 0 1-.458-.793l-.896.443zm13.828.905c.194-.289.37-.591.524-.906l-.896-.443c-.136.275-.29.54-.459.793l.831.556zm-12.667.83c.23.262.478.51.74.74l.66-.752a7.047 7.047 0 0 1-.648-.648l-.752.66zm11.29.74c.262-.23.51-.478.74-.74l-.752-.66c-.201.23-.418.447-.648.648l.66.752zm-1.735 1.161c.314-.155.616-.33.905-.524l-.556-.83a7.07 7.07 0 0 1-.793.458l.443.896zm-7.985-.524c.289.194.591.37.906.524l.443-.896a6.998 6.998 0 0 1-.793-.459l-.556.831zm1.873.925c.328.112.666.202 1.011.27l.194-.98a6.953 6.953 0 0 1-.884-.237l-.321.947zm4.132.271a7.944 7.944 0 0 0 1.012-.27l-.321-.948a6.954 6.954 0 0 1-.884.237l.194.98zm-2.083.135a8.1 8.1 0 0 0 1.046 0l-.064-.998a7.11 7.11 0 0 1-.918 0l-.064.998zM4.5 7.5a.5.5 0 0 0 0 1h7a.5.5 0 0 0 0-1h-7z\"></path></svg></li></ul></div></div></div></div><div class=\"order-1 flex flex-col items-center lg:order-2\"><span class=\"h-24 w-px self-center bg-gradient-to-t from-gray-600 to-white lg:h-auto lg:flex-[1_1_25%]\"></span><span class=\"my-1 h-3 w-3 rounded-full border border-gray-600\"></span><span class=\"hidden w-px flex-[1_1_75%] self-center border-r border-dashed border-gray-600 lg:block\"></span></div><div class=\"order-2 mt-4 flex w-full flex-auto lg:order-3 lg:-mt-4 lg:translate-y-1/4\"><div class=\"mx-auto w-full max-w-xl lg:mx-0 lg:pl-14 lg:pr-8 lg:text-left\"><dt class=\"flex flex-col items-center gap-4 lg:items-start\"><svg class=\"h-8 w-8 text-primary-600 [&amp;_rect]:fill-[currentColor]\" fill=\"none\" viewbox=\"0 0 186 186\" xmlns=\"http://www.w3.org/2000/svg\"><path d=\"M17.438 0A17.437 17.437 0 000 17.438v81.374a17.438 17.438 0 0017.438 17.438H69.75v11.625H11.625A11.626 11.626 0 000 139.5v34.875A11.625 11.625 0 0011.625 186h162.75A11.625 11.625 0 00186 174.375V139.5a11.625 11.625 0 00-11.625-11.625H116.25V116.25h52.312A17.439 17.439 0 00186 98.812V17.439A17.438 17.438 0 00168.562 0H17.437zm0 11.625h151.124a5.814 5.814 0 015.813 5.813v81.374a5.813 5.813 0 01-5.813 5.813H17.437a5.812 5.812 0 01-5.812-5.813V17.439a5.813 5.813 0 015.813-5.813zM139.5 145.312a5.813 5.813 0 1111.626 0 5.813 5.813 0 01-11.626 0zm23.25 0a5.813 5.813 0 1111.626 0 5.813 5.813 0 01-11.626 0zM17.437 139.5h58.126a5.812 5.812 0 110 11.625H17.437a5.812 5.812 0 110-11.625zm-5.812 26.156a2.906 2.906 0 012.906-2.906H78.47a2.906 2.906 0 110 5.812H14.53a2.906 2.906 0 01-2.906-2.906z\" fill=\"url(#LearnSvgGradient)\"></path><rect height=\"9\" rx=\"4.5\" width=\"114\" x=\"27\" y=\"37\"></rect><rect height=\"9\" rx=\"4.5\" width=\"69\" x=\"27\" y=\"54\"></rect><rect height=\"9\" rx=\"4.5\" width=\"114\" x=\"27\" y=\"71\"></rect></svg><h3 class=\"mb-2 to-secondary-400 text-2xl font-semibold tracking-tight sm:text-[26px]\">Hands-on practice</h3></dt><dd class=\"leading-relaxed text-gray-600\">At codedamn, you get to learn by doing. Escape tutorial hell by solving real-world challenges in our interactive labs, all within your browser.</dd></div></div></div><div class=\"flex w-full translate-y-px flex-col lg:flex-row\"><div class=\"order-3 w-full flex-auto py-12 lg:order-1\"><div class=\"flex w-full flex-1 text-left lg:px-14\"><div class=\"relative mx-auto aspect-[16/9] w-full max-w-2xl p-[5%]\"><div class=\"flex h-full w-full overflow-hidden rounded-md bg-white shadow-2xl\"><div class=\"flex flex-[60%] flex-col\"><div class=\"flex border-b bg-white text-[min(1.6vw,10px)] lg:text-[min(0.8vw,11px)]\"><div class=\"flex w-[20%] items-center justify-center gap-[15%] px-[4%] py-[2%]\"><div class=\"aspect-1 w-2.5 rounded-full bg-destructive-400\"></div><div class=\"aspect-1 w-2.5 rounded-full bg-warning-400\"></div><div class=\"aspect-1 w-2.5 rounded-full bg-success-400\"></div></div><div class=\"w-fit translate-y-px border-x bg-white px-[4%] py-[2%] text-gray-600\">main.py</div></div><div class=\"flex gap-[2.5%] font-mono text-[min(2vw,14px)] tracking-tight lg:text-[min(1vw,14px)]\"><div class=\"flex flex-col\"><span class=\"h-full bg-gray-50 px-1.5 text-gray-400\">01</span><span class=\"h-full bg-gray-50 px-1.5 text-gray-400\">02</span><span class=\"h-full bg-gray-50 px-1.5 text-gray-400\">03</span><span class=\"h-full bg-gray-50 px-1.5 text-gray-400\">04</span><span class=\"h-full bg-gray-50 px-1.5 text-gray-400\">05</span><span class=\"h-full bg-gray-50 px-1.5 text-gray-400\">06</span><span class=\"h-full bg-gray-50 px-1.5 text-gray-400\">07</span><span class=\"h-full bg-gray-50 px-1.5 text-gray-400\">08</span><span class=\"h-full bg-gray-50 px-1.5 text-gray-400\">09</span><span class=\"h-full bg-gray-50 px-1.5 text-gray-400\">10</span><span class=\"h-full bg-gray-50 px-1.5 text-gray-400\">11</span><span class=\"h-full bg-gray-50 px-1.5 text-gray-400\">12</span><span class=\"h-full bg-gray-50 px-1.5 text-gray-400\">13</span></div><code class=\"flex flex-col text-gray-600\" style=\"text-align:left;white-space:pre;word-spacing:normal;word-break:normal;tab-size:4;hyphens:none;overflow-wrap:normal\"><span class=\"text-gray-400\"># Concatenate the parameters</span><span><span class=\"font-semibold\">def</span><span class=\"font-semibold text-purple-700\"> concat</span><span>(p1,p2)</span><span>:</span></span><span>  <span class=\"text-gray-400\">/* Your code here */</span></span><br/><span><span class=\"font-semibold\">param_1</span><span> = </span><span class=\"font-semibold text-purple-700\">13</span></span><span><span class=\"font-semibold\">param_2</span><span> = </span><span class=\"font-semibold text-purple-700\">37</span></span><span><span class=\"font-semibold text-purple-700\">print</span><span>(</span><span class=\"font-semibold text-purple-700\">concat</span><span>(param_1,param_2))</span></span></code></div></div><div class=\"flex flex-[40%] flex-col border-l border-gray-200 text-[min(1.75vw,12px)] lg:text-[min(0.85vw,12px)]\"><div class=\"flex h-[10%] border-b border-gray-200 bg-white text-gray-500\"><svg class=\"ml-[5%] aspect-1 h-auto w-[7%]\" fill=\"currentColor\" height=\"1em\" stroke=\"currentColor\" stroke-width=\"0.5\" viewbox=\"0 0 16 16\" width=\"1em\" xmlns=\"http://www.w3.org/2000/svg\"><path d=\"M15 8a.5.5 0 0 0-.5-.5H2.707l3.147-3.146a.5.5 0 1 0-.708-.708l-4 4a.5.5 0 0 0 0 .708l4 4a.5.5 0 0 0 .708-.708L2.707 8.5H14.5A.5.5 0 0 0 15 8z\" fill-rule=\"evenodd\"></path></svg></div><div class=\"flex flex-1 animate-pulse items-center justify-center bg-gray-100\"><svg class=\"aspect-1 h-auto w-[15%] text-gray-400\" fill=\"currentColor\" height=\"1em\" stroke=\"currentColor\" stroke-width=\"0\" viewbox=\"0 0 16 16\" width=\"1em\" xmlns=\"http://www.w3.org/2000/svg\"><path d=\"M2.5 4a.5.5 0 1 0 0-1 .5.5 0 0 0 0 1zm2-.5a.5.5 0 1 1-1 0 .5.5 0 0 1 1 0zm1 .5a.5.5 0 1 0 0-1 .5.5 0 0 0 0 1z\"></path><path d=\"M2 1a2 2 0 0 0-2 2v10a2 2 0 0 0 2 2h12a2 2 0 0 0 2-2V3a2 2 0 0 0-2-2H2zm13 2v2H1V3a1 1 0 0 1 1-1h12a1 1 0 0 1 1 1zM2 14a1 1 0 0 1-1-1V6h14v7a1 1 0 0 1-1 1H2z\"></path></svg></div></div></div><div class=\"absolute right-0 top-0 flex w-full max-w-[42%] flex-col items-center justify-between rounded bg-gradient-to-br from-gray-800 via-gray-700 to-gray-800 px-[2.5%] py-[1.5%] text-[min(2vw,13px)] text-white shadow-2xl lg:text-[min(1vw,13px)]\" style=\"opacity:0;transform:scale(0.75) translateZ(0)\"><span class=\"flex w-full\"><span>This seems like an easy challenge.</span></span><div class=\"mt-[4%] flex w-full items-center justify-between\"><div class=\"flex items-center gap-[10%]\"><img alt=\"Profile photo of the user\" class=\"aspect-1 h-auto w-[20%] rounded-full ring-offset-black md:w-[25%]\" data-nimg=\"1\" decoding=\"async\" height=\"32\" loading=\"lazy\" src=\"https://wsrv.nl/?url=https%3A%2F%2Fcodedamn.com%2Fassets%2Flanding-page-assets%2Fprofiles%2Fthumb-3.png&amp;w=64&amp;q=70&amp;output=webp\" srcset=\"https://wsrv.nl/?url=https%3A%2F%2Fcodedamn.com%2Fassets%2Flanding-page-assets%2Fprofiles%2Fthumb-3.png&amp;w=64&amp;q=70&amp;output=webp 1x, https://wsrv.nl/?url=https%3A%2F%2Fcodedamn.com%2Fassets%2Flanding-page-assets%2Fprofiles%2Fthumb-3.png&amp;w=64&amp;q=70&amp;output=webp 2x\" style=\"color:transparent\" width=\"32\"/><span>Sarah</span></div><span class=\"font-mono text-[min(1.85vw,11px)] lg:text-[min(0.85vw,11px)]\">10:20 PM</span></div></div><div class=\"absolute bottom-0 left-0 flex w-full max-w-[42%] flex-col items-stretch justify-between rounded border border-gray-400/20 bg-gradient-to-br from-gray-100/95 via-white/90 to-gray-100/95 bg-clip-padding px-[2.5%] py-[1.5%] text-[min(2vw,13px)] shadow-2xl lg:text-[min(1vw,13px)]\"><span class=\"flex\"><span>I'm Jarvis, your 24x7 AI assistant here to help.</span></span><div class=\"mt-[4%] flex w-full items-center justify-between\"><div class=\"flex items-center gap-[10%]\"><img alt=\"Profile photo of the user\" class=\"aspect-1 h-auto w-[20%] rounded-full ring-offset-black md:w-[25%]\" data-nimg=\"1\" decoding=\"async\" height=\"32\" loading=\"lazy\" src=\"https://wsrv.nl/?url=https%3A%2F%2Fcodedamn.com%2Fassets%2Flanding-page-assets%2Fprofiles%2Fjarvis.png&amp;w=64&amp;q=70&amp;output=webp\" srcset=\"https://wsrv.nl/?url=https%3A%2F%2Fcodedamn.com%2Fassets%2Flanding-page-assets%2Fprofiles%2Fjarvis.png&amp;w=64&amp;q=70&amp;output=webp 1x, https://wsrv.nl/?url=https%3A%2F%2Fcodedamn.com%2Fassets%2Flanding-page-assets%2Fprofiles%2Fjarvis.png&amp;w=64&amp;q=70&amp;output=webp 2x\" style=\"color:transparent\" width=\"32\"/><span>Jarvis</span></div><span class=\"font-mono text-[min(1.85vw,11px)] lg:text-[min(0.85vw,11px)]\">10:20 PM</span></div></div></div></div></div><div class=\"order-1 flex flex-col items-center lg:order-2\"><span class=\"h-24 w-px self-center bg-gradient-to-t from-gray-500 to-white lg:h-auto lg:flex-[1_1_25%] lg:border-r lg:border-dashed lg:border-gray-500 lg:bg-transparent\"></span><span class=\"my-1 h-3 w-3 rounded-full border border-gray-500\"></span><span class=\"hidden w-px flex-[1_1_75%] self-center bg-gradient-to-b from-gray-500 to-secondary-400 lg:block\"></span></div><div class=\"order-2 mt-4 flex w-full flex-auto lg:order-3 lg:-mt-4 lg:translate-y-1/4\"><div class=\"mx-auto w-full max-w-xl lg:mx-0 lg:pl-14 lg:pr-8 lg:text-left\"><dt class=\"flex flex-col items-center gap-4 lg:items-start\"><svg class=\"h-8 w-8\" fill=\"url(#LearnSvgGradient)\" height=\"1em\" stroke=\"currentColor\" stroke-width=\"0\" viewbox=\"0 0 16 16\" width=\"1em\" xmlns=\"http://www.w3.org/2000/svg\"><path d=\"M6 12.5a.5.5 0 0 1 .5-.5h3a.5.5 0 0 1 0 1h-3a.5.5 0 0 1-.5-.5ZM3 8.062C3 6.76 4.235 5.765 5.53 5.886a26.58 26.58 0 0 0 4.94 0C11.765 5.765 13 6.76 13 8.062v1.157a.933.933 0 0 1-.765.935c-.845.147-2.34.346-4.235.346-1.895 0-3.39-.2-4.235-.346A.933.933 0 0 1 3 9.219V8.062Zm4.542-.827a.25.25 0 0 0-.217.068l-.92.9a24.767 24.767 0 0 1-1.871-.183.25.25 0 0 0-.068.495c.55.076 1.232.149 2.02.193a.25.25 0 0 0 .189-.071l.754-.736.847 1.71a.25.25 0 0 0 .404.062l.932-.97a25.286 25.286 0 0 0 1.922-.188.25.25 0 0 0-.068-.495c-.538.074-1.207.145-1.98.189a.25.25 0 0 0-.166.076l-.754.785-.842-1.7a.25.25 0 0 0-.182-.135Z\"></path><path d=\"M8.5 1.866a1 1 0 1 0-1 0V3h-2A4.5 4.5 0 0 0 1 7.5V8a1 1 0 0 0-1 1v2a1 1 0 0 0 1 1v1a2 2 0 0 0 2 2h10a2 2 0 0 0 2-2v-1a1 1 0 0 0 1-1V9a1 1 0 0 0-1-1v-.5A4.5 4.5 0 0 0 10.5 3h-2V1.866ZM14 7.5V13a1 1 0 0 1-1 1H3a1 1 0 0 1-1-1V7.5A3.5 3.5 0 0 1 5.5 4h5A3.5 3.5 0 0 1 14 7.5Z\"></path></svg><h3 class=\"mb-2 text-2xl font-semibold tracking-tight sm:text-[26px]\">Instant help from Jarvis</h3></dt><dd class=\"leading-relaxed text-gray-600\">Meet Jarvis, your personal state-of-the-art AI assistant who is available 24x7 to clarify your doubts, solve problems and help you whenever you get stuck.</dd></div></div></div></div><span class=\"h-24 w-px self-center bg-gradient-to-t from-secondary-400 to-cyan-50 lg:from-secondary-400 lg:to-cyan-400\"></span><span class=\"mb-6 flex h-10 w-10 items-center justify-center self-center rounded-full bg-gradient-to-r from-secondary-500 to-cyan-400 text-xl font-bold text-white\">2</span><span class=\"mb-4 bg-gradient-to-br from-secondary-600 to-cyan-400 bg-clip-text text-[28px] font-bold uppercase leading-9 tracking-tight text-transparent\">Apply</span><h2 class=\"bg-gradient-to-b from-black via-gray-700 to-black bg-clip-text pb-6 text-[40px] font-bold leading-[2.75rem] tracking-tighter text-transparent sm:text-6xl\">Powerful IDE with AI Tooling</h2><span class=\"mx-auto mb-16 w-full max-w-3xl text-xl leading-8 tracking-tight text-gray-600 sm:mb-24\">Become a better programmer by building tons of real-world projects and keep improving with detailed feedback on your code - generated by state-of-the-art AI.</span><div class=\"mx-auto mb-24 grid w-full lg:grid-cols-2\"><div class=\"mb-12 lg:mb-0\"><div class=\"flex h-full -translate-x-[1%] justify-center text-left lg:items-center lg:pl-14 lg:pr-[62px]\"><div class=\"relative mx-auto flex w-full max-w-xl flex-col\" style=\"transform:scale(0.95) translateZ(0)\"><div class=\"relative flex aspect-2 w-full max-w-[90%] flex-1 overflow-hidden rounded-sm border border-gray-400/20 shadow-xl\"><div class=\"flex h-full w-full flex-[6%] items-center justify-center rounded-l-sm bg-gradient-to-b from-gray-800 via-gray-700 to-gray-800 text-white\"><div class=\"flex h-[90%] w-[50%] flex-col gap-[6%]\"><svg class=\"h-auto w-full\" fill=\"currentColor\" height=\"1em\" stroke=\"currentColor\" stroke-width=\"0\" viewbox=\"0 0 16 16\" width=\"1em\" xmlns=\"http://www.w3.org/2000/svg\"><path d=\"M9.293 0H4a2 2 0 0 0-2 2v12a2 2 0 0 0 2 2h8a2 2 0 0 0 2-2V4.707A1 1 0 0 0 13.707 4L10 .293A1 1 0 0 0 9.293 0zM9.5 3.5v-2l3 3h-2a1 1 0 0 1-1-1zM6.646 7.646a.5.5 0 1 1 .708.708L5.707 10l1.647 1.646a.5.5 0 0 1-.708.708l-2-2a.5.5 0 0 1 0-.708l2-2zm2.708 0 2 2a.5.5 0 0 1 0 .708l-2 2a.5.5 0 0 1-.708-.708L10.293 10 8.646 8.354a.5.5 0 1 1 .708-.708z\"></path></svg><svg class=\"h-auto w-full\" fill=\"currentColor\" height=\"1em\" stroke=\"currentColor\" stroke-width=\"0\" viewbox=\"0 0 16 16\" width=\"1em\" xmlns=\"http://www.w3.org/2000/svg\"><path d=\"M11.742 10.344a6.5 6.5 0 1 0-1.397 1.398h-.001c.03.04.062.078.098.115l3.85 3.85a1 1 0 0 0 1.415-1.414l-3.85-3.85a1.007 1.007 0 0 0-.115-.1zM12 6.5a5.5 5.5 0 1 1-11 0 5.5 5.5 0 0 1 11 0z\"></path></svg><svg class=\"h-auto w-full\" fill=\"currentColor\" height=\"1em\" stroke=\"currentColor\" stroke-width=\"0\" viewbox=\"0 0 16 16\" width=\"1em\" xmlns=\"http://www.w3.org/2000/svg\"><path d=\"M2 1a1 1 0 0 0-1 1v8a1 1 0 0 0 1 1h9.586a2 2 0 0 1 1.414.586l2 2V2a1 1 0 0 0-1-1H2zm12-1a2 2 0 0 1 2 2v12.793a.5.5 0 0 1-.854.353l-2.853-2.853a1 1 0 0 0-.707-.293H2a2 2 0 0 1-2-2V2a2 2 0 0 1 2-2h12z\"></path><path d=\"M3 3.5a.5.5 0 0 1 .5-.5h9a.5.5 0 0 1 0 1h-9a.5.5 0 0 1-.5-.5zM3 6a.5.5 0 0 1 .5-.5h9a.5.5 0 0 1 0 1h-9A.5.5 0 0 1 3 6zm0 2.5a.5.5 0 0 1 .5-.5h5a.5.5 0 0 1 0 1h-5a.5.5 0 0 1-.5-.5z\"></path></svg><div class=\"flex-1\"></div><svg class=\"h-auto w-full\" fill=\"currentColor\" height=\"1em\" stroke=\"currentColor\" stroke-width=\"0\" viewbox=\"0 0 16 16\" width=\"1em\" xmlns=\"http://www.w3.org/2000/svg\"><path d=\"M8 4.754a3.246 3.246 0 1 0 0 6.492 3.246 3.246 0 0 0 0-6.492zM5.754 8a2.246 2.246 0 1 1 4.492 0 2.246 2.246 0 0 1-4.492 0z\"></path><path d=\"M9.796 1.343c-.527-1.79-3.065-1.79-3.592 0l-.094.319a.873.873 0 0 1-1.255.52l-.292-.16c-1.64-.892-3.433.902-2.54 2.541l.159.292a.873.873 0 0 1-.52 1.255l-.319.094c-1.79.527-1.79 3.065 0 3.592l.319.094a.873.873 0 0 1 .52 1.255l-.16.292c-.892 1.64.901 3.434 2.541 2.54l.292-.159a.873.873 0 0 1 1.255.52l.094.319c.527 1.79 3.065 1.79 3.592 0l.094-.319a.873.873 0 0 1 1.255-.52l.292.16c1.64.893 3.434-.902 2.54-2.541l-.159-.292a.873.873 0 0 1 .52-1.255l.319-.094c1.79-.527 1.79-3.065 0-3.592l-.319-.094a.873.873 0 0 1-.52-1.255l.16-.292c.893-1.64-.902-3.433-2.541-2.54l-.292.159a.873.873 0 0 1-1.255-.52l-.094-.319zm-2.633.283c.246-.835 1.428-.835 1.674 0l.094.319a1.873 1.873 0 0 0 2.693 1.115l.291-.16c.764-.415 1.6.42 1.184 1.185l-.159.292a1.873 1.873 0 0 0 1.116 2.692l.318.094c.835.246.835 1.428 0 1.674l-.319.094a1.873 1.873 0 0 0-1.115 2.693l.16.291c.415.764-.42 1.6-1.185 1.184l-.291-.159a1.873 1.873 0 0 0-2.693 1.116l-.094.318c-.246.835-1.428.835-1.674 0l-.094-.319a1.873 1.873 0 0 0-2.692-1.115l-.292.16c-.764.415-1.6-.42-1.184-1.185l.159-.291A1.873 1.873 0 0 0 1.945 8.93l-.319-.094c-.835-.246-.835-1.428 0-1.674l.319-.094A1.873 1.873 0 0 0 3.06 4.377l-.16-.292c-.415-.764.42-1.6 1.185-1.184l.292.159a1.873 1.873 0 0 0 2.692-1.115l.094-.319z\"></path></svg></div></div><div class=\"flex flex-[94%] overflow-hidden\"><div class=\"flex flex-[60%] flex-col\"><div class=\"flex border-b border-gray-100 bg-white text-[min(1.6vw,10px)] lg:text-[min(0.6vw,10px)]\"><div class=\"w-fit border border-transparent border-t-black px-[2%] py-[0.5%]\">Tesla.jsx</div><div class=\"w-fit border border-transparent border-x-gray-200 bg-gray-100 px-[2%] py-[0.5%]\">globals.css</div></div><div class=\"flex gap-1 bg-white py-[1%] font-mono text-[min(2vw,13px)] lg:text-[min(1vw,13px)]\"><div class=\"flex flex-col\"><span class=\"h-full bg-gray-50 px-[5px] text-gray-500\">01</span><span class=\"h-full bg-gray-50 px-[5px] text-gray-500\">02</span><span class=\"h-full bg-gray-50 px-[5px] text-gray-500\">03</span><span class=\"h-full bg-gray-50 px-[5px] text-gray-500\">04</span><span class=\"h-full bg-gray-50 px-[5px] text-gray-500\">05</span><span class=\"h-full bg-gray-50 px-[5px] text-gray-500\">06</span><span class=\"h-full bg-gray-50 px-[5px] text-gray-500\">07</span><span class=\"h-full bg-gray-50 px-[5px] text-gray-500\">08</span><span class=\"h-full bg-gray-50 px-[5px] text-gray-500\">09</span><span class=\"h-full bg-gray-50 px-[5px] text-gray-500\">10</span><span class=\"h-full bg-gray-50 px-[5px] text-gray-500\">11</span><span class=\"h-full bg-gray-50 px-[5px] text-gray-500\">12</span><span class=\"h-full bg-gray-50 px-[5px] text-gray-500\">13</span><span class=\"h-full bg-gray-50 px-[5px] text-gray-500\">14</span></div><code class=\"flex flex-col font-mono text-gray-600\" style=\"text-align:left;white-space:pre;word-spacing:normal;word-break:normal;tab-size:4;hyphens:none;overflow-wrap:normal\"><span><span class=\"text-gray-400\">// Tesla clone project</span></span><span class=\"text-gray-500\">....</span><span><span>&lt;</span><span class=\"font-semibold text-secondary-500\">Layout</span><span>&gt;</span></span><span><span> &lt;</span><span class=\"font-semibold text-secondary-500\">Container</span><span>&gt;</span></span><span class=\"inline-flex\">  <span class=\"text-gray-400\">/* Your code here */</span></span><span><span> &lt;/</span><span class=\"font-semibold text-secondary-500\">Container</span><span>&gt;</span></span><span><span>&lt;/</span><span class=\"font-semibold text-secondary-500\">Layout</span><span>&gt;</span></span><span class=\"text-gray-500\">....</span></code></div></div><div class=\"flex flex-[40%] flex-col border-l border-gray-100\"><div class=\"flex items-center justify-between border-b border-gray-100 bg-white\"><svg class=\"aspect-1 h-auto w-[10.5%] p-[2%]\" fill=\"currentColor\" height=\"1em\" stroke=\"currentColor\" stroke-width=\"0\" viewbox=\"0 0 16 16\" width=\"1em\" xmlns=\"http://www.w3.org/2000/svg\"><path d=\"M15 8a.5.5 0 0 0-.5-.5H2.707l3.147-3.146a.5.5 0 1 0-.708-.708l-4 4a.5.5 0 0 0 0 .708l4 4a.5.5 0 0 0 .708-.708L2.707 8.5H14.5A.5.5 0 0 0 15 8z\" fill-rule=\"evenodd\"></path></svg><span class=\"h-[50%] w-[75%] rounded-sm bg-gray-200\"></span><svg class=\"aspect-1 h-auto w-[10%] p-[2%]\" fill=\"currentColor\" height=\"1em\" stroke=\"currentColor\" stroke-width=\"0\" viewbox=\"0 0 16 16\" width=\"1em\" xmlns=\"http://www.w3.org/2000/svg\"><path d=\"M11.534 7h3.932a.25.25 0 0 1 .192.41l-1.966 2.36a.25.25 0 0 1-.384 0l-1.966-2.36a.25.25 0 0 1 .192-.41zm-11 2h3.932a.25.25 0 0 0 .192-.41L2.692 6.23a.25.25 0 0 0-.384 0L.342 8.59A.25.25 0 0 0 .534 9z\"></path><path d=\"M8 3c-1.552 0-2.94.707-3.857 1.818a.5.5 0 1 1-.771-.636A6.002 6.002 0 0 1 13.917 7H12.9A5.002 5.002 0 0 0 8 3zM3.1 9a5.002 5.002 0 0 0 8.757 2.182.5.5 0 1 1 .771.636A6.002 6.002 0 0 1 2.083 9H3.1z\" fill-rule=\"evenodd\"></path></svg></div><div class=\"flex flex-1 animate-pulse items-center justify-center bg-gray-100\"><svg class=\"aspect-1 h-auto w-[15%] text-gray-500\" fill=\"currentColor\" height=\"1em\" stroke=\"currentColor\" stroke-width=\"0\" viewbox=\"0 0 16 16\" width=\"1em\" xmlns=\"http://www.w3.org/2000/svg\"><path d=\"M2.5 4a.5.5 0 1 0 0-1 .5.5 0 0 0 0 1zm2-.5a.5.5 0 1 1-1 0 .5.5 0 0 1 1 0zm1 .5a.5.5 0 1 0 0-1 .5.5 0 0 0 0 1z\"></path><path d=\"M2 1a2 2 0 0 0-2 2v10a2 2 0 0 0 2 2h12a2 2 0 0 0 2-2V3a2 2 0 0 0-2-2H2zm13 2v2H1V3a1 1 0 0 1 1-1h12a1 1 0 0 1 1 1zM2 14a1 1 0 0 1-1-1V6h14v7a1 1 0 0 1-1 1H2z\"></path></svg></div></div></div></div><div class=\"relative left-[10%] -mt-[10%] mb-[10%] flex aspect-2 w-full max-w-[90%] flex-1 overflow-hidden rounded-sm border border-gray-400/30 bg-white shadow-xl\"><img alt=\"Silicon chip background in B/W\" class=\"absolute inset-0 z-0\" data-nimg=\"1\" decoding=\"async\" height=\"212\" loading=\"lazy\" src=\"https://wsrv.nl/?url=https%3A%2F%2Fcodedamn.com%2Fassets%2Flanding-page-assets%2Fchip-bg.png&amp;w=1038&amp;q=70&amp;output=webp\" srcset=\"https://wsrv.nl/?url=https%3A%2F%2Fcodedamn.com%2Fassets%2Flanding-page-assets%2Fchip-bg.png&amp;w=1038&amp;q=70&amp;output=webp 1x, https://wsrv.nl/?url=https%3A%2F%2Fcodedamn.com%2Fassets%2Flanding-page-assets%2Fchip-bg.png&amp;w=1038&amp;q=70&amp;output=webp 2x\" style=\"color:transparent\" width=\"519\"/><div class=\"absolute inset-0 z-20 flex h-full w-full flex-col items-center justify-center rounded-md px-[4%] py-[3%] text-center\"><span class=\"text-[min(5vw,36px)] font-bold\">CodeReport™</span><span class=\"text-[min(2vw,12px)] font-semibold uppercase tracking-wider text-gray-600\">AI powered feedback for your code</span></div></div></div></div></div><div class=\"flex flex-col gap-16 px-1.5\"><div class=\"mx-auto w-full max-w-xl lg:mx-0 lg:pl-14 lg:pr-8 lg:text-left\"><dt class=\"flex flex-col items-center gap-4 lg:items-start\"><svg class=\"h-8 w-8\" fill=\"url(#ApplySvgGradient)\" height=\"1em\" stroke=\"currentColor\" stroke-width=\"0\" viewbox=\"0 0 16 16\" width=\"1em\" xmlns=\"http://www.w3.org/2000/svg\"><path d=\"M4.5 6a.5.5 0 1 0 0-1 .5.5 0 0 0 0 1ZM6 6a.5.5 0 1 0 0-1 .5.5 0 0 0 0 1Zm2-.5a.5.5 0 1 1-1 0 .5.5 0 0 1 1 0Z\"></path><path d=\"M12 1a2 2 0 0 1 2 2 2 2 0 0 1 2 2v8a2 2 0 0 1-2 2H4a2 2 0 0 1-2-2 2 2 0 0 1-2-2V3a2 2 0 0 1 2-2h10ZM2 12V5a2 2 0 0 1 2-2h9a1 1 0 0 0-1-1H2a1 1 0 0 0-1 1v8a1 1 0 0 0 1 1Zm1-4v5a1 1 0 0 0 1 1h10a1 1 0 0 0 1-1V8H3Zm12-1V5a1 1 0 0 0-1-1H4a1 1 0 0 0-1 1v2h12Z\"></path></svg><h3 class=\"mb-2 text-2xl font-semibold tracking-tight sm:text-[26px]\">Practice 100+ Projects</h3></dt><dd class=\"leading-relaxed text-gray-600\">Improve you skills by building. Choose from over 100+ projects to practice, build for your resume and showcase to the world.</dd></div><div class=\"mx-auto w-full max-w-xl lg:mx-0 lg:pl-14 lg:pr-8 lg:text-left\"><dt class=\"flex flex-col items-center gap-4 lg:items-start\"><svg class=\"h-8 w-8\" fill=\"url(#ApplySvgGradient)\" height=\"1em\" stroke=\"currentColor\" stroke-width=\"0\" viewbox=\"0 0 16 16\" width=\"1em\" xmlns=\"http://www.w3.org/2000/svg\"><path d=\"M2 1a1 1 0 0 0-1 1v8a1 1 0 0 0 1 1h9.586a2 2 0 0 1 1.414.586l2 2V2a1 1 0 0 0-1-1H2zm12-1a2 2 0 0 1 2 2v12.793a.5.5 0 0 1-.854.353l-2.853-2.853a1 1 0 0 0-.707-.293H2a2 2 0 0 1-2-2V2a2 2 0 0 1 2-2h12z\"></path><path d=\"M3 3.5a.5.5 0 0 1 .5-.5h9a.5.5 0 0 1 0 1h-9a.5.5 0 0 1-.5-.5zM3 6a.5.5 0 0 1 .5-.5h9a.5.5 0 0 1 0 1h-9A.5.5 0 0 1 3 6zm0 2.5a.5.5 0 0 1 .5-.5h5a.5.5 0 0 1 0 1h-5a.5.5 0 0 1-.5-.5z\"></path></svg><h3 class=\"mb-2 text-2xl font-semibold tracking-tight sm:text-[26px]\">Unlimited building and feedback</h3></dt><dd class=\"leading-relaxed text-gray-600\">For every great project you build, we help you make it better with CodeReport™. Get detailed feedback on your projects.</dd></div><div class=\"mx-auto w-full max-w-xl lg:mx-0 lg:pl-14 lg:pr-8 lg:text-left\"><dt class=\"flex flex-col items-center gap-4 lg:items-start\"><svg class=\"h-8 w-9\" fill=\"url(#ApplySvgGradient)\" height=\"1em\" stroke=\"currentColor\" stroke-width=\"0\" viewbox=\"0 0 16 16\" width=\"1em\" xmlns=\"http://www.w3.org/2000/svg\"><path d=\"M2 3a1 1 0 0 0-1 1v8a1 1 0 0 0 1 1h5.5a.5.5 0 0 1 0 1H2a2 2 0 0 1-2-2V4a2 2 0 0 1 2-2h11a2 2 0 0 1 2 2v4a.5.5 0 0 1-1 0V4a1 1 0 0 0-1-1H2Z\"></path><path d=\"M3.146 5.146a.5.5 0 0 1 .708 0L5.177 6.47a.75.75 0 0 1 0 1.06L3.854 8.854a.5.5 0 1 1-.708-.708L4.293 7 3.146 5.854a.5.5 0 0 1 0-.708ZM5.5 9a.5.5 0 0 1 .5-.5h2a.5.5 0 0 1 0 1H6a.5.5 0 0 1-.5-.5ZM16 12.5a3.5 3.5 0 1 1-7 0 3.5 3.5 0 0 1 7 0Zm-4.854-1.354a.5.5 0 0 0 0 .708l.647.646-.647.646a.5.5 0 0 0 .708.708l.646-.647.646.647a.5.5 0 0 0 .708-.708l-.647-.646.647-.646a.5.5 0 0 0-.708-.708l-.646.647-.646-.647a.5.5 0 0 0-.708 0Z\"></path></svg><h3 class=\"mb-2 text-2xl font-semibold tracking-tight sm:text-[26px]\">Brush away all the bugs</h3></dt><dd class=\"leading-relaxed text-gray-600\">Use code brushes in playgrounds to fix, debug, refactor or even write full code blocks - at a click of a button</dd></div></div></div><div class=\"relative mx-auto mb-24 w-full\"><div class=\"relative grid h-[min(40vh,384px)] grid-cols-2 items-start gap-8 overflow-hidden before:absolute before:inset-0 before:bg-white md:grid-cols-3 lg:h-[min(50vh,512px)] xl:grid-cols-4\"><div class=\"animate-marquee-vertical space-y-8 py-4 will-change-transform\" data-id=\"css-animation\" style=\"--marquee-duration:0ms\"><figure><img alt=\"Astral portfolio pproject thumbnail\" class=\"aspect-[16/9] object-cover\" data-nimg=\"1\" decoding=\"async\" height=\"360\" loading=\"lazy\" src=\"https://wsrv.nl/?url=https%3A%2F%2Fcodedamn.com%2Fassets%2Flanding-page-assets%2Fthumbs-blurred%2Fastral-portfolio.png&amp;w=1280&amp;q=70&amp;output=webp\" srcset=\"https://wsrv.nl/?url=https%3A%2F%2Fcodedamn.com%2Fassets%2Flanding-page-assets%2Fthumbs-blurred%2Fastral-portfolio.png&amp;w=1280&amp;q=70&amp;output=webp 1x, https://wsrv.nl/?url=https%3A%2F%2Fcodedamn.com%2Fassets%2Flanding-page-assets%2Fthumbs-blurred%2Fastral-portfolio.png&amp;w=1280&amp;q=70&amp;output=webp 2x\" style=\"color:transparent\" width=\"640\"/></figure><figure><img alt=\"Bird app pproject thumbnail\" class=\"aspect-[16/9] object-cover\" data-nimg=\"1\" decoding=\"async\" height=\"360\" loading=\"lazy\" src=\"https://wsrv.nl/?url=https%3A%2F%2Fcodedamn.com%2Fassets%2Flanding-page-assets%2Fthumbs-blurred%2Fbird-app.png&amp;w=1280&amp;q=70&amp;output=webp\" srcset=\"https://wsrv.nl/?url=https%3A%2F%2Fcodedamn.com%2Fassets%2Flanding-page-assets%2Fthumbs-blurred%2Fbird-app.png&amp;w=1280&amp;q=70&amp;output=webp 1x, https://wsrv.nl/?url=https%3A%2F%2Fcodedamn.com%2Fassets%2Flanding-page-assets%2Fthumbs-blurred%2Fbird-app.png&amp;w=1280&amp;q=70&amp;output=webp 2x\" style=\"color:transparent\" width=\"640\"/></figure><figure><img alt=\"Calculator clone project thumbnail\" class=\"aspect-[16/9] object-cover\" data-nimg=\"1\" decoding=\"async\" height=\"360\" loading=\"lazy\" src=\"https://wsrv.nl/?url=https%3A%2F%2Fcodedamn.com%2Fassets%2Flanding-page-assets%2Fthumbs-blurred%2Fcalculator-clone.png&amp;w=1280&amp;q=70&amp;output=webp\" srcset=\"https://wsrv.nl/?url=https%3A%2F%2Fcodedamn.com%2Fassets%2Flanding-page-assets%2Fthumbs-blurred%2Fcalculator-clone.png&amp;w=1280&amp;q=70&amp;output=webp 1x, https://wsrv.nl/?url=https%3A%2F%2Fcodedamn.com%2Fassets%2Flanding-page-assets%2Fthumbs-blurred%2Fcalculator-clone.png&amp;w=1280&amp;q=70&amp;output=webp 2x\" style=\"color:transparent\" width=\"640\"/></figure><figure><img alt=\"Discord clone project thumbnail\" class=\"aspect-[16/9] object-cover\" data-nimg=\"1\" decoding=\"async\" height=\"360\" loading=\"lazy\" src=\"https://wsrv.nl/?url=https%3A%2F%2Fcodedamn.com%2Fassets%2Flanding-page-assets%2Fthumbs-blurred%2Fdiscord-ui-clone.png&amp;w=1280&amp;q=70&amp;output=webp\" srcset=\"https://wsrv.nl/?url=https%3A%2F%2Fcodedamn.com%2Fassets%2Flanding-page-assets%2Fthumbs-blurred%2Fdiscord-ui-clone.png&amp;w=1280&amp;q=70&amp;output=webp 1x, https://wsrv.nl/?url=https%3A%2F%2Fcodedamn.com%2Fassets%2Flanding-page-assets%2Fthumbs-blurred%2Fdiscord-ui-clone.png&amp;w=1280&amp;q=70&amp;output=webp 2x\" style=\"color:transparent\" width=\"640\"/></figure><figure><img alt=\"Astral portfolio pproject thumbnail\" class=\"aspect-[16/9] object-cover\" data-nimg=\"1\" decoding=\"async\" height=\"360\" loading=\"lazy\" src=\"https://wsrv.nl/?url=https%3A%2F%2Fcodedamn.com%2Fassets%2Flanding-page-assets%2Fthumbs-blurred%2Fastral-portfolio.png&amp;w=1280&amp;q=70&amp;output=webp\" srcset=\"https://wsrv.nl/?url=https%3A%2F%2Fcodedamn.com%2Fassets%2Flanding-page-assets%2Fthumbs-blurred%2Fastral-portfolio.png&amp;w=1280&amp;q=70&amp;output=webp 1x, https://wsrv.nl/?url=https%3A%2F%2Fcodedamn.com%2Fassets%2Flanding-page-assets%2Fthumbs-blurred%2Fastral-portfolio.png&amp;w=1280&amp;q=70&amp;output=webp 2x\" style=\"color:transparent\" width=\"640\"/></figure><figure><img alt=\"Bird app pproject thumbnail\" class=\"aspect-[16/9] object-cover\" data-nimg=\"1\" decoding=\"async\" height=\"360\" loading=\"lazy\" src=\"https://wsrv.nl/?url=https%3A%2F%2Fcodedamn.com%2Fassets%2Flanding-page-assets%2Fthumbs-blurred%2Fbird-app.png&amp;w=1280&amp;q=70&amp;output=webp\" srcset=\"https://wsrv.nl/?url=https%3A%2F%2Fcodedamn.com%2Fassets%2Flanding-page-assets%2Fthumbs-blurred%2Fbird-app.png&amp;w=1280&amp;q=70&amp;output=webp 1x, https://wsrv.nl/?url=https%3A%2F%2Fcodedamn.com%2Fassets%2Flanding-page-assets%2Fthumbs-blurred%2Fbird-app.png&amp;w=1280&amp;q=70&amp;output=webp 2x\" style=\"color:transparent\" width=\"640\"/></figure><figure><img alt=\"Calculator clone project thumbnail\" class=\"aspect-[16/9] object-cover\" data-nimg=\"1\" decoding=\"async\" height=\"360\" loading=\"lazy\" src=\"https://wsrv.nl/?url=https%3A%2F%2Fcodedamn.com%2Fassets%2Flanding-page-assets%2Fthumbs-blurred%2Fcalculator-clone.png&amp;w=1280&amp;q=70&amp;output=webp\" srcset=\"https://wsrv.nl/?url=https%3A%2F%2Fcodedamn.com%2Fassets%2Flanding-page-assets%2Fthumbs-blurred%2Fcalculator-clone.png&amp;w=1280&amp;q=70&amp;output=webp 1x, https://wsrv.nl/?url=https%3A%2F%2Fcodedamn.com%2Fassets%2Flanding-page-assets%2Fthumbs-blurred%2Fcalculator-clone.png&amp;w=1280&amp;q=70&amp;output=webp 2x\" style=\"color:transparent\" width=\"640\"/></figure><figure><img alt=\"Discord clone project thumbnail\" class=\"aspect-[16/9] object-cover\" data-nimg=\"1\" decoding=\"async\" height=\"360\" loading=\"lazy\" src=\"https://wsrv.nl/?url=https%3A%2F%2Fcodedamn.com%2Fassets%2Flanding-page-assets%2Fthumbs-blurred%2Fdiscord-ui-clone.png&amp;w=1280&amp;q=70&amp;output=webp\" srcset=\"https://wsrv.nl/?url=https%3A%2F%2Fcodedamn.com%2Fassets%2Flanding-page-assets%2Fthumbs-blurred%2Fdiscord-ui-clone.png&amp;w=1280&amp;q=70&amp;output=webp 1x, https://wsrv.nl/?url=https%3A%2F%2Fcodedamn.com%2Fassets%2Flanding-page-assets%2Fthumbs-blurred%2Fdiscord-ui-clone.png&amp;w=1280&amp;q=70&amp;output=webp 2x\" style=\"color:transparent\" width=\"640\"/></figure></div><div class=\"animate-marquee-vertical space-y-8 py-4 will-change-transform\" data-id=\"css-animation\" style=\"--marquee-duration:0ms\"><figure><img alt=\"Disney clone project thumbnail\" class=\"aspect-[16/9] object-cover\" data-nimg=\"1\" decoding=\"async\" height=\"360\" loading=\"lazy\" src=\"https://wsrv.nl/?url=https%3A%2F%2Fcodedamn.com%2Fassets%2Flanding-page-assets%2Fthumbs-blurred%2Fdisney-clone.png&amp;w=1280&amp;q=70&amp;output=webp\" srcset=\"https://wsrv.nl/?url=https%3A%2F%2Fcodedamn.com%2Fassets%2Flanding-page-assets%2Fthumbs-blurred%2Fdisney-clone.png&amp;w=1280&amp;q=70&amp;output=webp 1x, https://wsrv.nl/?url=https%3A%2F%2Fcodedamn.com%2Fassets%2Flanding-page-assets%2Fthumbs-blurred%2Fdisney-clone.png&amp;w=1280&amp;q=70&amp;output=webp 2x\" style=\"color:transparent\" width=\"640\"/></figure><figure><img alt=\"Facebook sign-up project thumbnail\" class=\"aspect-[16/9] object-cover\" data-nimg=\"1\" decoding=\"async\" height=\"360\" loading=\"lazy\" src=\"https://wsrv.nl/?url=https%3A%2F%2Fcodedamn.com%2Fassets%2Flanding-page-assets%2Fthumbs-blurred%2Ffacebook-sign-up.png&amp;w=1280&amp;q=70&amp;output=webp\" srcset=\"https://wsrv.nl/?url=https%3A%2F%2Fcodedamn.com%2Fassets%2Flanding-page-assets%2Fthumbs-blurred%2Ffacebook-sign-up.png&amp;w=1280&amp;q=70&amp;output=webp 1x, https://wsrv.nl/?url=https%3A%2F%2Fcodedamn.com%2Fassets%2Flanding-page-assets%2Fthumbs-blurred%2Ffacebook-sign-up.png&amp;w=1280&amp;q=70&amp;output=webp 2x\" style=\"color:transparent\" width=\"640\"/></figure><figure><img alt=\"Multiverse project thumbnail\" class=\"aspect-[16/9] object-cover\" data-nimg=\"1\" decoding=\"async\" height=\"360\" loading=\"lazy\" src=\"https://wsrv.nl/?url=https%3A%2F%2Fcodedamn.com%2Fassets%2Flanding-page-assets%2Fthumbs-blurred%2Fhtml-5-multiverse.png&amp;w=1280&amp;q=70&amp;output=webp\" srcset=\"https://wsrv.nl/?url=https%3A%2F%2Fcodedamn.com%2Fassets%2Flanding-page-assets%2Fthumbs-blurred%2Fhtml-5-multiverse.png&amp;w=1280&amp;q=70&amp;output=webp 1x, https://wsrv.nl/?url=https%3A%2F%2Fcodedamn.com%2Fassets%2Flanding-page-assets%2Fthumbs-blurred%2Fhtml-5-multiverse.png&amp;w=1280&amp;q=70&amp;output=webp 2x\" style=\"color:transparent\" width=\"640\"/></figure><figure><img alt=\"Hulu clone project thumbnail\" class=\"aspect-[16/9] object-cover\" data-nimg=\"1\" decoding=\"async\" height=\"360\" loading=\"lazy\" src=\"https://wsrv.nl/?url=https%3A%2F%2Fcodedamn.com%2Fassets%2Flanding-page-assets%2Fthumbs-blurred%2Fhulu-clone.png&amp;w=1280&amp;q=70&amp;output=webp\" srcset=\"https://wsrv.nl/?url=https%3A%2F%2Fcodedamn.com%2Fassets%2Flanding-page-assets%2Fthumbs-blurred%2Fhulu-clone.png&amp;w=1280&amp;q=70&amp;output=webp 1x, https://wsrv.nl/?url=https%3A%2F%2Fcodedamn.com%2Fassets%2Flanding-page-assets%2Fthumbs-blurred%2Fhulu-clone.png&amp;w=1280&amp;q=70&amp;output=webp 2x\" style=\"color:transparent\" width=\"640\"/></figure><figure><img alt=\"Disney clone project thumbnail\" class=\"aspect-[16/9] object-cover\" data-nimg=\"1\" decoding=\"async\" height=\"360\" loading=\"lazy\" src=\"https://wsrv.nl/?url=https%3A%2F%2Fcodedamn.com%2Fassets%2Flanding-page-assets%2Fthumbs-blurred%2Fdisney-clone.png&amp;w=1280&amp;q=70&amp;output=webp\" srcset=\"https://wsrv.nl/?url=https%3A%2F%2Fcodedamn.com%2Fassets%2Flanding-page-assets%2Fthumbs-blurred%2Fdisney-clone.png&amp;w=1280&amp;q=70&amp;output=webp 1x, https://wsrv.nl/?url=https%3A%2F%2Fcodedamn.com%2Fassets%2Flanding-page-assets%2Fthumbs-blurred%2Fdisney-clone.png&amp;w=1280&amp;q=70&amp;output=webp 2x\" style=\"color:transparent\" width=\"640\"/></figure><figure><img alt=\"Facebook sign-up project thumbnail\" class=\"aspect-[16/9] object-cover\" data-nimg=\"1\" decoding=\"async\" height=\"360\" loading=\"lazy\" src=\"https://wsrv.nl/?url=https%3A%2F%2Fcodedamn.com%2Fassets%2Flanding-page-assets%2Fthumbs-blurred%2Ffacebook-sign-up.png&amp;w=1280&amp;q=70&amp;output=webp\" srcset=\"https://wsrv.nl/?url=https%3A%2F%2Fcodedamn.com%2Fassets%2Flanding-page-assets%2Fthumbs-blurred%2Ffacebook-sign-up.png&amp;w=1280&amp;q=70&amp;output=webp 1x, https://wsrv.nl/?url=https%3A%2F%2Fcodedamn.com%2Fassets%2Flanding-page-assets%2Fthumbs-blurred%2Ffacebook-sign-up.png&amp;w=1280&amp;q=70&amp;output=webp 2x\" style=\"color:transparent\" width=\"640\"/></figure><figure><img alt=\"Multiverse project thumbnail\" class=\"aspect-[16/9] object-cover\" data-nimg=\"1\" decoding=\"async\" height=\"360\" loading=\"lazy\" src=\"https://wsrv.nl/?url=https%3A%2F%2Fcodedamn.com%2Fassets%2Flanding-page-assets%2Fthumbs-blurred%2Fhtml-5-multiverse.png&amp;w=1280&amp;q=70&amp;output=webp\" srcset=\"https://wsrv.nl/?url=https%3A%2F%2Fcodedamn.com%2Fassets%2Flanding-page-assets%2Fthumbs-blurred%2Fhtml-5-multiverse.png&amp;w=1280&amp;q=70&amp;output=webp 1x, https://wsrv.nl/?url=https%3A%2F%2Fcodedamn.com%2Fassets%2Flanding-page-assets%2Fthumbs-blurred%2Fhtml-5-multiverse.png&amp;w=1280&amp;q=70&amp;output=webp 2x\" style=\"color:transparent\" width=\"640\"/></figure><figure><img alt=\"Hulu clone project thumbnail\" class=\"aspect-[16/9] object-cover\" data-nimg=\"1\" decoding=\"async\" height=\"360\" loading=\"lazy\" src=\"https://wsrv.nl/?url=https%3A%2F%2Fcodedamn.com%2Fassets%2Flanding-page-assets%2Fthumbs-blurred%2Fhulu-clone.png&amp;w=1280&amp;q=70&amp;output=webp\" srcset=\"https://wsrv.nl/?url=https%3A%2F%2Fcodedamn.com%2Fassets%2Flanding-page-assets%2Fthumbs-blurred%2Fhulu-clone.png&amp;w=1280&amp;q=70&amp;output=webp 1x, https://wsrv.nl/?url=https%3A%2F%2Fcodedamn.com%2Fassets%2Flanding-page-assets%2Fthumbs-blurred%2Fhulu-clone.png&amp;w=1280&amp;q=70&amp;output=webp 2x\" style=\"color:transparent\" width=\"640\"/></figure></div><div class=\"animate-marquee-vertical space-y-8 py-4 will-change-transform hidden lg:block\" data-id=\"css-animation\" style=\"--marquee-duration:0ms\"><figure><img alt=\"Instagram clone project thumbnail\" class=\"aspect-[16/9] object-cover\" data-nimg=\"1\" decoding=\"async\" height=\"360\" loading=\"lazy\" src=\"https://wsrv.nl/?url=https%3A%2F%2Fcodedamn.com%2Fassets%2Flanding-page-assets%2Fthumbs-blurred%2Finstagram-clone.png&amp;w=1280&amp;q=70&amp;output=webp\" srcset=\"https://wsrv.nl/?url=https%3A%2F%2Fcodedamn.com%2Fassets%2Flanding-page-assets%2Fthumbs-blurred%2Finstagram-clone.png&amp;w=1280&amp;q=70&amp;output=webp 1x, https://wsrv.nl/?url=https%3A%2F%2Fcodedamn.com%2Fassets%2Flanding-page-assets%2Fthumbs-blurred%2Finstagram-clone.png&amp;w=1280&amp;q=70&amp;output=webp 2x\" style=\"color:transparent\" width=\"640\"/></figure><figure><img alt=\"Quiz app project thumbnail\" class=\"aspect-[16/9] object-cover\" data-nimg=\"1\" decoding=\"async\" height=\"360\" loading=\"lazy\" src=\"https://wsrv.nl/?url=https%3A%2F%2Fcodedamn.com%2Fassets%2Flanding-page-assets%2Fthumbs-blurred%2Fjs-quiz-app.png&amp;w=1280&amp;q=70&amp;output=webp\" srcset=\"https://wsrv.nl/?url=https%3A%2F%2Fcodedamn.com%2Fassets%2Flanding-page-assets%2Fthumbs-blurred%2Fjs-quiz-app.png&amp;w=1280&amp;q=70&amp;output=webp 1x, https://wsrv.nl/?url=https%3A%2F%2Fcodedamn.com%2Fassets%2Flanding-page-assets%2Fthumbs-blurred%2Fjs-quiz-app.png&amp;w=1280&amp;q=70&amp;output=webp 2x\" style=\"color:transparent\" width=\"640\"/></figure><figure><img alt=\"Linkedin clone project thumbnail\" class=\"aspect-[16/9] object-cover\" data-nimg=\"1\" decoding=\"async\" height=\"360\" loading=\"lazy\" src=\"https://wsrv.nl/?url=https%3A%2F%2Fcodedamn.com%2Fassets%2Flanding-page-assets%2Fthumbs-blurred%2Flinkedin-clone.png&amp;w=1280&amp;q=70&amp;output=webp\" srcset=\"https://wsrv.nl/?url=https%3A%2F%2Fcodedamn.com%2Fassets%2Flanding-page-assets%2Fthumbs-blurred%2Flinkedin-clone.png&amp;w=1280&amp;q=70&amp;output=webp 1x, https://wsrv.nl/?url=https%3A%2F%2Fcodedamn.com%2Fassets%2Flanding-page-assets%2Fthumbs-blurred%2Flinkedin-clone.png&amp;w=1280&amp;q=70&amp;output=webp 2x\" style=\"color:transparent\" width=\"640\"/></figure><figure><img alt=\"Massively project thumbnail\" class=\"aspect-[16/9] object-cover\" data-nimg=\"1\" decoding=\"async\" height=\"360\" loading=\"lazy\" src=\"https://wsrv.nl/?url=https%3A%2F%2Fcodedamn.com%2Fassets%2Flanding-page-assets%2Fthumbs-blurred%2Fmassively-lp.png&amp;w=1280&amp;q=70&amp;output=webp\" srcset=\"https://wsrv.nl/?url=https%3A%2F%2Fcodedamn.com%2Fassets%2Flanding-page-assets%2Fthumbs-blurred%2Fmassively-lp.png&amp;w=1280&amp;q=70&amp;output=webp 1x, https://wsrv.nl/?url=https%3A%2F%2Fcodedamn.com%2Fassets%2Flanding-page-assets%2Fthumbs-blurred%2Fmassively-lp.png&amp;w=1280&amp;q=70&amp;output=webp 2x\" style=\"color:transparent\" width=\"640\"/></figure><figure><img alt=\"Instagram clone project thumbnail\" class=\"aspect-[16/9] object-cover\" data-nimg=\"1\" decoding=\"async\" height=\"360\" loading=\"lazy\" src=\"https://wsrv.nl/?url=https%3A%2F%2Fcodedamn.com%2Fassets%2Flanding-page-assets%2Fthumbs-blurred%2Finstagram-clone.png&amp;w=1280&amp;q=70&amp;output=webp\" srcset=\"https://wsrv.nl/?url=https%3A%2F%2Fcodedamn.com%2Fassets%2Flanding-page-assets%2Fthumbs-blurred%2Finstagram-clone.png&amp;w=1280&amp;q=70&amp;output=webp 1x, https://wsrv.nl/?url=https%3A%2F%2Fcodedamn.com%2Fassets%2Flanding-page-assets%2Fthumbs-blurred%2Finstagram-clone.png&amp;w=1280&amp;q=70&amp;output=webp 2x\" style=\"color:transparent\" width=\"640\"/></figure><figure><img alt=\"Quiz app project thumbnail\" class=\"aspect-[16/9] object-cover\" data-nimg=\"1\" decoding=\"async\" height=\"360\" loading=\"lazy\" src=\"https://wsrv.nl/?url=https%3A%2F%2Fcodedamn.com%2Fassets%2Flanding-page-assets%2Fthumbs-blurred%2Fjs-quiz-app.png&amp;w=1280&amp;q=70&amp;output=webp\" srcset=\"https://wsrv.nl/?url=https%3A%2F%2Fcodedamn.com%2Fassets%2Flanding-page-assets%2Fthumbs-blurred%2Fjs-quiz-app.png&amp;w=1280&amp;q=70&amp;output=webp 1x, https://wsrv.nl/?url=https%3A%2F%2Fcodedamn.com%2Fassets%2Flanding-page-assets%2Fthumbs-blurred%2Fjs-quiz-app.png&amp;w=1280&amp;q=70&amp;output=webp 2x\" style=\"color:transparent\" width=\"640\"/></figure><figure><img alt=\"Linkedin clone project thumbnail\" class=\"aspect-[16/9] object-cover\" data-nimg=\"1\" decoding=\"async\" height=\"360\" loading=\"lazy\" src=\"https://wsrv.nl/?url=https%3A%2F%2Fcodedamn.com%2Fassets%2Flanding-page-assets%2Fthumbs-blurred%2Flinkedin-clone.png&amp;w=1280&amp;q=70&amp;output=webp\" srcset=\"https://wsrv.nl/?url=https%3A%2F%2Fcodedamn.com%2Fassets%2Flanding-page-assets%2Fthumbs-blurred%2Flinkedin-clone.png&amp;w=1280&amp;q=70&amp;output=webp 1x, https://wsrv.nl/?url=https%3A%2F%2Fcodedamn.com%2Fassets%2Flanding-page-assets%2Fthumbs-blurred%2Flinkedin-clone.png&amp;w=1280&amp;q=70&amp;output=webp 2x\" style=\"color:transparent\" width=\"640\"/></figure><figure><img alt=\"Massively project thumbnail\" class=\"aspect-[16/9] object-cover\" data-nimg=\"1\" decoding=\"async\" height=\"360\" loading=\"lazy\" src=\"https://wsrv.nl/?url=https%3A%2F%2Fcodedamn.com%2Fassets%2Flanding-page-assets%2Fthumbs-blurred%2Fmassively-lp.png&amp;w=1280&amp;q=70&amp;output=webp\" srcset=\"https://wsrv.nl/?url=https%3A%2F%2Fcodedamn.com%2Fassets%2Flanding-page-assets%2Fthumbs-blurred%2Fmassively-lp.png&amp;w=1280&amp;q=70&amp;output=webp 1x, https://wsrv.nl/?url=https%3A%2F%2Fcodedamn.com%2Fassets%2Flanding-page-assets%2Fthumbs-blurred%2Fmassively-lp.png&amp;w=1280&amp;q=70&amp;output=webp 2x\" style=\"color:transparent\" width=\"640\"/></figure></div><div class=\"animate-marquee-vertical space-y-8 py-4 will-change-transform hidden md:block\" data-id=\"css-animation\" style=\"--marquee-duration:0ms\"><figure><img alt=\"Slack clone project thumbnail\" class=\"aspect-[16/9] object-cover\" data-nimg=\"1\" decoding=\"async\" height=\"360\" loading=\"lazy\" src=\"https://wsrv.nl/?url=https%3A%2F%2Fcodedamn.com%2Fassets%2Flanding-page-assets%2Fthumbs-blurred%2Fslack-clone.png&amp;w=1280&amp;q=70&amp;output=webp\" srcset=\"https://wsrv.nl/?url=https%3A%2F%2Fcodedamn.com%2Fassets%2Flanding-page-assets%2Fthumbs-blurred%2Fslack-clone.png&amp;w=1280&amp;q=70&amp;output=webp 1x, https://wsrv.nl/?url=https%3A%2F%2Fcodedamn.com%2Fassets%2Flanding-page-assets%2Fthumbs-blurred%2Fslack-clone.png&amp;w=1280&amp;q=70&amp;output=webp 2x\" style=\"color:transparent\" width=\"640\"/></figure><figure><img alt=\"Tesla clone project thumbnail\" class=\"aspect-[16/9] object-cover\" data-nimg=\"1\" decoding=\"async\" height=\"360\" loading=\"lazy\" src=\"https://wsrv.nl/?url=https%3A%2F%2Fcodedamn.com%2Fassets%2Flanding-page-assets%2Fthumbs-blurred%2Ftesla-clone.png&amp;w=1280&amp;q=70&amp;output=webp\" srcset=\"https://wsrv.nl/?url=https%3A%2F%2Fcodedamn.com%2Fassets%2Flanding-page-assets%2Fthumbs-blurred%2Ftesla-clone.png&amp;w=1280&amp;q=70&amp;output=webp 1x, https://wsrv.nl/?url=https%3A%2F%2Fcodedamn.com%2Fassets%2Flanding-page-assets%2Fthumbs-blurred%2Ftesla-clone.png&amp;w=1280&amp;q=70&amp;output=webp 2x\" style=\"color:transparent\" width=\"640\"/></figure><figure><img alt=\"To-do list project thumbnail\" class=\"aspect-[16/9] object-cover\" data-nimg=\"1\" decoding=\"async\" height=\"360\" loading=\"lazy\" src=\"https://wsrv.nl/?url=https%3A%2F%2Fcodedamn.com%2Fassets%2Flanding-page-assets%2Fthumbs-blurred%2Fto-do-list.png&amp;w=1280&amp;q=70&amp;output=webp\" srcset=\"https://wsrv.nl/?url=https%3A%2F%2Fcodedamn.com%2Fassets%2Flanding-page-assets%2Fthumbs-blurred%2Fto-do-list.png&amp;w=1280&amp;q=70&amp;output=webp 1x, https://wsrv.nl/?url=https%3A%2F%2Fcodedamn.com%2Fassets%2Flanding-page-assets%2Fthumbs-blurred%2Fto-do-list.png&amp;w=1280&amp;q=70&amp;output=webp 2x\" style=\"color:transparent\" width=\"640\"/></figure><figure><img alt=\"Eventually landing page project thumbnail\" class=\"aspect-[16/9] object-cover\" data-nimg=\"1\" decoding=\"async\" height=\"360\" loading=\"lazy\" src=\"https://wsrv.nl/?url=https%3A%2F%2Fcodedamn.com%2Fassets%2Flanding-page-assets%2Fthumbs-blurred%2Feventually.png&amp;w=1280&amp;q=70&amp;output=webp\" srcset=\"https://wsrv.nl/?url=https%3A%2F%2Fcodedamn.com%2Fassets%2Flanding-page-assets%2Fthumbs-blurred%2Feventually.png&amp;w=1280&amp;q=70&amp;output=webp 1x, https://wsrv.nl/?url=https%3A%2F%2Fcodedamn.com%2Fassets%2Flanding-page-assets%2Fthumbs-blurred%2Feventually.png&amp;w=1280&amp;q=70&amp;output=webp 2x\" style=\"color:transparent\" width=\"640\"/></figure><figure><img alt=\"Slack clone project thumbnail\" class=\"aspect-[16/9] object-cover\" data-nimg=\"1\" decoding=\"async\" height=\"360\" loading=\"lazy\" src=\"https://wsrv.nl/?url=https%3A%2F%2Fcodedamn.com%2Fassets%2Flanding-page-assets%2Fthumbs-blurred%2Fslack-clone.png&amp;w=1280&amp;q=70&amp;output=webp\" srcset=\"https://wsrv.nl/?url=https%3A%2F%2Fcodedamn.com%2Fassets%2Flanding-page-assets%2Fthumbs-blurred%2Fslack-clone.png&amp;w=1280&amp;q=70&amp;output=webp 1x, https://wsrv.nl/?url=https%3A%2F%2Fcodedamn.com%2Fassets%2Flanding-page-assets%2Fthumbs-blurred%2Fslack-clone.png&amp;w=1280&amp;q=70&amp;output=webp 2x\" style=\"color:transparent\" width=\"640\"/></figure><figure><img alt=\"Tesla clone project thumbnail\" class=\"aspect-[16/9] object-cover\" data-nimg=\"1\" decoding=\"async\" height=\"360\" loading=\"lazy\" src=\"https://wsrv.nl/?url=https%3A%2F%2Fcodedamn.com%2Fassets%2Flanding-page-assets%2Fthumbs-blurred%2Ftesla-clone.png&amp;w=1280&amp;q=70&amp;output=webp\" srcset=\"https://wsrv.nl/?url=https%3A%2F%2Fcodedamn.com%2Fassets%2Flanding-page-assets%2Fthumbs-blurred%2Ftesla-clone.png&amp;w=1280&amp;q=70&amp;output=webp 1x, https://wsrv.nl/?url=https%3A%2F%2Fcodedamn.com%2Fassets%2Flanding-page-assets%2Fthumbs-blurred%2Ftesla-clone.png&amp;w=1280&amp;q=70&amp;output=webp 2x\" style=\"color:transparent\" width=\"640\"/></figure><figure><img alt=\"To-do list project thumbnail\" class=\"aspect-[16/9] object-cover\" data-nimg=\"1\" decoding=\"async\" height=\"360\" loading=\"lazy\" src=\"https://wsrv.nl/?url=https%3A%2F%2Fcodedamn.com%2Fassets%2Flanding-page-assets%2Fthumbs-blurred%2Fto-do-list.png&amp;w=1280&amp;q=70&amp;output=webp\" srcset=\"https://wsrv.nl/?url=https%3A%2F%2Fcodedamn.com%2Fassets%2Flanding-page-assets%2Fthumbs-blurred%2Fto-do-list.png&amp;w=1280&amp;q=70&amp;output=webp 1x, https://wsrv.nl/?url=https%3A%2F%2Fcodedamn.com%2Fassets%2Flanding-page-assets%2Fthumbs-blurred%2Fto-do-list.png&amp;w=1280&amp;q=70&amp;output=webp 2x\" style=\"color:transparent\" width=\"640\"/></figure><figure><img alt=\"Eventually landing page project thumbnail\" class=\"aspect-[16/9] object-cover\" data-nimg=\"1\" decoding=\"async\" height=\"360\" loading=\"lazy\" src=\"https://wsrv.nl/?url=https%3A%2F%2Fcodedamn.com%2Fassets%2Flanding-page-assets%2Fthumbs-blurred%2Feventually.png&amp;w=1280&amp;q=70&amp;output=webp\" srcset=\"https://wsrv.nl/?url=https%3A%2F%2Fcodedamn.com%2Fassets%2Flanding-page-assets%2Fthumbs-blurred%2Feventually.png&amp;w=1280&amp;q=70&amp;output=webp 1x, https://wsrv.nl/?url=https%3A%2F%2Fcodedamn.com%2Fassets%2Flanding-page-assets%2Fthumbs-blurred%2Feventually.png&amp;w=1280&amp;q=70&amp;output=webp 2x\" style=\"color:transparent\" width=\"640\"/></figure></div><div class=\"pointer-events-none absolute inset-x-0 top-0 h-32 bg-gradient-to-b from-white\"></div><div class=\"pointer-events-none absolute inset-x-0 bottom-0 h-32 bg-gradient-to-t from-white\"></div></div><div class=\"absolute inset-0 flex items-center justify-center\"><span class=\"mb-4 overflow-hidden rounded-md bg-gradient-to-r from-gray-100/95 via-white/90 to-gray-100/95 bg-clip-padding p-[4%] text-center text-2xl font-extrabold tracking-tight shadow-2xl sm:py-[2%] md:text-3xl lg:text-4xl\">Build your portfolio with 100+ projects</span></div></div><div class=\"mb-24 flex flex-col\"><h4 class=\"mb-12 px-4 text-sm font-bold uppercase leading-relaxed tracking-widest text-gray-500 sm:text-base\">boot playgrounds with over 25+ templates</h4><div class=\"mx-auto grid max-w-xl grid-cols-4 place-items-center gap-8 sm:grid-cols-8 [&amp;_svg]:h-12 [&amp;_svg]:w-12\"><div class=\"has-tooltip\"><a href=\"/playgrounds?template=react-vite\" target=\"_blank noreferrer\"><svg class=\"transition-transform hover:scale-110\" fill=\"none\" viewbox=\"-10.5 -9.4 21 18.9\"><circle fill=\"#00D8FF\" r=\"2\"></circle><g stroke=\"#00D8FF\"><ellipse rx=\"10\" ry=\"4.5\"></ellipse><ellipse rx=\"10\" ry=\"4.5\" transform=\"rotate(60)\"></ellipse><ellipse rx=\"10\" ry=\"4.5\" transform=\"rotate(120)\"></ellipse></g></svg></a><span class=\"tooltip -translate-x-1/2 translate-y-4 whitespace-nowrap rounded border border-gray-500 bg-gradient-to-br from-gray-800 via-gray-600 to-gray-800 px-2.5 py-1.5 text-xs font-semibold text-white shadow-lg\"><span class=\"relative h-full w-full\">Boot a React playground</span></span></div><div class=\"has-tooltip\"><a href=\"/playgrounds?template=html\" target=\"_blank noreferrer\"><svg class=\"transition-transform hover:scale-110\" fill=\"none\" viewbox=\"0 0 400 400\"><path d=\"M56 360 24 0h353l-32 360-145 40\" fill=\"#E44D26\"></path><path d=\"M200 369V30h145l-28 307\" fill=\"#F16529\"></path><path d=\"M90 74h110v44h-62l4 45h58v44h-98L90 74Zm14 155h44l3 35 49 14v46l-90-26\" fill=\"#EBEBEB\"></path><path d=\"M311 74H200v44h107l4-44Zm-8 89H200v44h55l-6 57-49 14v46l91-26\" fill=\"#fff\"></path></svg></a><span class=\"tooltip -translate-x-1/2 translate-y-4 whitespace-nowrap rounded border border-gray-500 bg-gradient-to-br from-gray-800 via-gray-600 to-gray-800 px-2.5 py-1.5 text-xs font-semibold text-white shadow-lg\"><span class=\"relative h-full w-full\">Boot a HTML playground</span></span></div><div class=\"has-tooltip\"><a href=\"/playgrounds?template=java\" target=\"_blank noreferrer\"><svg class=\"transition-transform hover:scale-110\" fill=\"none\" viewbox=\"0 0 400 400\"><path d=\"M147 309s-15 9 11 12c32 4 48 3 83-3l22 10c-79 34-177-1-116-19Zm-10-43s-17 12 9 15c34 3 61 4 107-5 0 0 7 6 17 10-95 28-200 2-133-20Z\" fill=\"#5382A1\"></path><path d=\"M218 191c19 22-5 42-5 42s49-25 27-56c-21-30-38-45 50-95 0 0-137 34-72 109Z\" fill=\"#E76F00\"></path><path d=\"M322 342s11 9-13 16c-45 14-188 18-228 1-14-6 13-15 21-17 9-2 14-1 14-1-16-12-102 22-44 31 160 26 291-12 250-30ZM154 220s-72 17-25 24c19 2 59 2 96-1l60-8s-11 4-18 10c-74 19-217 10-176-10 35-17 63-15 63-15Zm131 73c75-39 40-76 16-71l-9 2 7-5c48-17 84 50-16 76l2-2Z\" fill=\"#5382A1\"></path><path d=\"M240 0s41 42-40 106c-65 51-15 80 0 113-38-34-66-64-47-92 27-41 103-61 87-127Z\" fill=\"#E76F00\"></path><path d=\"M162 399c72 4 182-3 185-37 0 0-5 13-60 23-61 12-137 11-182 3 0 0 9 8 57 11Z\" fill=\"#5382A1\"></path></svg></a><span class=\"tooltip -translate-x-1/2 translate-y-4 whitespace-nowrap rounded border border-gray-500 bg-gradient-to-br from-gray-800 via-gray-600 to-gray-800 px-2.5 py-1.5 text-xs font-semibold text-white shadow-lg\"><span class=\"relative h-full w-full\">Boot a Java playground</span></span></div><div class=\"has-tooltip\"><a href=\"/playgrounds?template=node\" target=\"_blank noreferrer\"><svg class=\"transition-transform hover:scale-110\" fill=\"none\" viewbox=\"0 0 400 400\"><path d=\"M200 400c-5 0-10-1-15-4l-49-29c-7-4-3-6-1-6l22-10h3l38 23h4l147-85 2-4V115l-2-4-147-84h-4L51 111l-2 4v170l2 4 40 23c22 11 36-2 36-15V130c0-2 1-5 4-5h19c2 0 4 2 4 5v167c0 29-16 46-43 46-9 0-15 0-34-9l-39-22c-9-6-15-16-15-27V116c0-11 6-22 15-27L185 4c9-5 22-5 31 0l147 85c9 5 15 16 15 27v169c0 11-6 21-15 27l-147 85c-5 2-10 3-16 3Zm46-116c-65 0-78-30-78-55 0-2 2-4 5-4h19c2 0 4 1 4 3 3 20 11 29 50 29 31 0 44-7 44-23 0-10-4-17-52-21-40-4-65-13-65-45 0-30 25-48 67-48 47 0 70 17 73 52l-1 3-3 2h-19c-2 0-4-2-4-4-4-20-16-27-46-27-34 0-38 12-38 21 0 11 5 14 51 20 45 6 66 14 66 46s-27 51-73 51Z\" fill=\"#539E43\"></path></svg></a><span class=\"tooltip -translate-x-1/2 translate-y-4 whitespace-nowrap rounded border border-gray-500 bg-gradient-to-br from-gray-800 via-gray-600 to-gray-800 px-2.5 py-1.5 text-xs font-semibold text-white shadow-lg\"><span class=\"relative h-full w-full\">Boot a Node playground</span></span></div><div class=\"has-tooltip\"><a href=\"/playgrounds?template=python\" target=\"_blank noreferrer\"><svg class=\"transition-transform hover:scale-110\" fill=\"none\" viewbox=\"0 0 400 400\"><path d=\"M199 1c-102 0-96 44-96 44v46h97v13H65S0 97 0 199c0 103 57 99 57 99h34v-47s-2-57 55-57h96s54 1 54-52V54s9-53-97-53Zm-54 31a17 17 0 1 1 0 35 17 17 0 0 1 0-35Z\" fill=\"url(#a)\"></path><path d=\"M201 399c102 0 96-44 96-44v-46h-97v-13h135s65 7 65-96c0-102-57-98-57-98h-34v47s2 57-55 57h-96s-54-1-54 52v88s-9 53 97 53Zm54-31a17 17 0 1 1 0-35 17 17 0 0 1 0 35Z\" fill=\"url(#b)\"></path><defs><lineargradient gradientunits=\"userSpaceOnUse\" id=\"a\" x1=\"38.4\" x2=\"236.7\" y1=\"36.8\" y2=\"233\"><stop stop-color=\"#387EB8\"></stop><stop offset=\"1\" stop-color=\"#366994\"></stop></lineargradient><lineargradient gradientunits=\"userSpaceOnUse\" id=\"b\" x1=\"160.1\" x2=\"373\" y1=\"162.8\" y2=\"364\"><stop stop-color=\"#FFE052\"></stop><stop offset=\"1\" stop-color=\"#FFC331\"></stop></lineargradient></defs></svg></a><span class=\"tooltip -translate-x-1/2 translate-y-4 whitespace-nowrap rounded border border-gray-500 bg-gradient-to-br from-gray-800 via-gray-600 to-gray-800 px-2.5 py-1.5 text-xs font-semibold text-white shadow-lg\"><span class=\"relative h-full w-full\">Boot a Python playground</span></span></div><div class=\"has-tooltip\"><a href=\"/playgrounds?template=ethereum-hardhat\" target=\"_blank noreferrer\"><svg class=\"transition-transform hover:scale-110\" fill=\"none\" viewbox=\"0 0 400 400\"><path d=\"m264 0-64 114H71L135 0h129\" fill=\"#000\" opacity=\".5\"></path><path d=\"M200 114h128L264 0H135l65 114Z\" fill=\"#000\" opacity=\".6\"></path><path d=\"m135 229 65-115L135 0 71 114l64 115Z\" fill=\"#000\" opacity=\".8\"></path><path d=\"m136 400 64-114h129l-65 114H136Z\" fill=\"#000\" opacity=\".5\"></path><path d=\"M200 286H72l64 114h128l-64-114Z\" fill=\"#000\" opacity=\".6\"></path><path d=\"m264 171-64 115 64 114 65-114-65-115Z\" fill=\"#000\" opacity=\".8\"></path></svg></a><span class=\"tooltip -translate-x-1/2 translate-y-4 whitespace-nowrap rounded border border-gray-500 bg-gradient-to-br from-gray-800 via-gray-600 to-gray-800 px-2.5 py-1.5 text-xs font-semibold text-white shadow-lg\"><span class=\"relative h-full w-full\">Boot a Solidity playground</span></span></div><div class=\"has-tooltip\"><a href=\"/playgrounds?template=rust\" target=\"_blank noreferrer\"><svg class=\"transition-transform hover:scale-110\" fill=\"none\" viewbox=\"0 0 400 400\"><path d=\"m397 195-17-10v-5l14-14a6 6 0 0 0-1-9l-19-7-1-5 11-16a6 6 0 0 0-4-9l-19-3-2-5 8-17a6 6 0 0 0-6-9l-19 1-4-4 5-19a6 6 0 0 0-7-7l-19 5-4-4 1-19a6 6 0 0 0-8-6l-18 8-5-2-3-19a6 6 0 0 0-9-4l-16 11-5-1-7-19a6 6 0 0 0-9-1l-14 14h-5L205 3a6 6 0 0 0-10 0l-10 17h-5L166 6a6 6 0 0 0-9 1l-7 19-5 1-16-11a6 6 0 0 0-9 4l-3 19-5 2-18-8a6 6 0 0 0-8 6l1 19-4 4-19-5a6 6 0 0 0-7 7l5 19-4 4-19-1c-2 0-4 1-5 3s-2 4-1 6l8 17-2 5-19 3a6 6 0 0 0-4 9l11 16-1 5-19 7a6 6 0 0 0-1 9l14 14v5L3 195a6 6 0 0 0 0 10l17 10v5L6 234a6 6 0 0 0 1 9l19 7 1 5-11 16a6 6 0 0 0 4 9l19 3 2 5-8 18a6 6 0 0 0 6 8l19-1 4 4-5 19a6 6 0 0 0 7 7l19-5 4 4-1 19a6 6 0 0 0 8 6l18-8 5 2 3 19a6 6 0 0 0 9 4l16-11 5 1 7 19a6 6 0 0 0 9 1l14-14h5l10 17a6 6 0 0 0 10 0l10-17h5l14 14a6 6 0 0 0 9-1l7-19 5-1 16 11a6 6 0 0 0 9-4l3-19 5-2 18 8a6 6 0 0 0 8-6l-1-19 4-4 19 5a6 6 0 0 0 7-7l-5-19 4-4 19 1a6 6 0 0 0 6-8l-8-18 2-5 19-3a6 6 0 0 0 4-9l-11-16 1-5 19-7a6 6 0 0 0 1-9l-14-14v-5l17-10a6 6 0 0 0 0-10ZM285 334a12 12 0 1 1 5-23 12 12 0 0 1-5 23Zm-6-38c-6-1-11 2-13 8l-6 28a146 146 0 0 1-122-1l-6-27c-1-6-7-10-12-9l-25 5-13-14h120l2-2v-42l-2-2h-35v-26h38c3 0 18 0 23 20l7 31c2 7 11 21 21 21h60l2-1-14 16-25-5Zm-165 38a12 12 0 1 1-5-23 12 12 0 0 1 5 23ZM69 150a12 12 0 1 1-22 10 12 12 0 0 1 22-10Zm-14 33 25-11c6-3 8-9 6-15l-6-12h21v94H59a146 146 0 0 1-4-56Zm112-9v-28h49c3 0 18 3 18 15 0 9-12 13-21 13h-46Zm179 25v11h-15c-2 0-2 1-2 2v7c0 16-9 20-17 21-8 0-17-4-18-8-4-26-12-31-23-40 14-10 30-23 30-42 0-20-14-32-23-39-13-8-28-10-32-10H91c21-23 50-40 82-46l18 19c4 5 11 5 15 1l21-20c43 8 79 35 100 71l-14 32c-2 5 0 12 6 14l27 12v15ZM191 39a12 12 0 1 1 17 17 12 12 0 1 1-17-17Zm139 112a12 12 0 1 1 22 9 12 12 0 1 1-22-9Z\" fill=\"#000\"></path></svg></a><span class=\"tooltip -translate-x-1/2 translate-y-4 whitespace-nowrap rounded border border-gray-500 bg-gradient-to-br from-gray-800 via-gray-600 to-gray-800 px-2.5 py-1.5 text-xs font-semibold text-white shadow-lg\"><span class=\"relative h-full w-full\">Boot a Rust playground</span></span></div><div class=\"has-tooltip\"><a href=\"/playgrounds?template=cpp\" target=\"_blank noreferrer\"><svg class=\"transition-transform hover:scale-110\" fill=\"none\" viewbox=\"0 0 400 400\"><path d=\"M378 118c0-7-2-13-4-18-3-5-8-9-13-13L218 5c-12-7-25-7-37 1L39 87c-11 7-17 17-17 31v164c0 7 1 13 4 18s7 9 13 13l142 81c12 8 25 8 37 1l143-82c6-4 10-8 13-13s4-11 4-18V118Z\" fill=\"#649AD2\"></path><path d=\"M200 199 26 300c3 5 7 9 13 13l142 81c12 8 25 8 37 1l143-82c6-4 10-8 13-13L200 199Z\" fill=\"#004482\"></path><path d=\"M149 229a59 59 0 0 0 102 0l-51-30-51 30Z\" fill=\"#1A4674\"></path><path d=\"M378 118c0-7-2-13-4-18l-174 99 174 101c3-5 4-11 4-18V118Z\" fill=\"#01589C\"></path><path d=\"M368 207h-13v13h-14v-13h-13v-14h13v-13h14v13h13v14ZM200 82c43 0 81 23 102 58v1l-51 29a59 59 0 1 0 0 59l52 30A118 118 0 1 1 200 82Zm105 98v13h14v14h-14v13h-13v-13h-14v-14h14v-13h13Z\" fill=\"#fff\"></path></svg></a><span class=\"tooltip -translate-x-1/2 translate-y-4 whitespace-nowrap rounded border border-gray-500 bg-gradient-to-br from-gray-800 via-gray-600 to-gray-800 px-2.5 py-1.5 text-xs font-semibold text-white shadow-lg\"><span class=\"relative h-full w-full\">Boot a C++ playground</span></span></div></div></div></div></div><div class=\"relative z-10 flex flex-col items-stretch bg-gradient-to-b from-transparent via-white to-white text-center\"><span class=\"h-24 w-px self-center bg-gradient-to-t from-success-600 to-white\"></span><span class=\"mb-6 flex h-10 w-10 items-center justify-center self-center rounded-full bg-gradient-to-r from-success-600 to-success-400 text-xl font-bold text-white\">3</span><span class=\"mb-4 bg-gradient-to-br from-success-600 to-success-400 bg-clip-text text-[28px] font-bold uppercase leading-9 tracking-tight text-transparent\">Grow</span><h2 class=\"w-full bg-gradient-to-b from-black via-gray-700 to-black bg-clip-text pb-6 text-center text-[40px] font-bold leading-[2.75rem] tracking-tighter text-transparent sm:text-6xl\"><span>Expand your </span><br class=\"min-[512px]:hidden\"/><span>Potential</span></h2><div class=\"relative mx-auto flex w-full max-w-screen-2xl flex-col items-center overflow-hidden text-center lg:items-start lg:pr-0 lg:text-left\"><div class=\"relative z-20 max-w-[650px] px-6\"><h5 class=\"mb-3 mt-8 text-3xl font-bold tracking-tight lg:mt-20\">Join the community<span class=\"hidden sm:inline\"> <!-- -->of developers changing the world</span></h5><div class=\"w-full max-w-lg text-lg text-gray-600 md:max-w-xl\">Transform the way you learn coding and connect with other like minded developers across the globe.</div></div><dl class=\"relative z-20 mt-14 flex max-w-lg flex-col gap-14 px-6 lg:mb-24\"><div><dt class=\"flex flex-col items-center lg:items-start\"><svg class=\"mb-4 h-8 w-8\" fill=\"url(#GrowSvgGradient)\" height=\"1em\" stroke=\"currentColor\" stroke-width=\"0\" viewbox=\"0 0 16 16\" width=\"1em\" xmlns=\"http://www.w3.org/2000/svg\"><path d=\"M9.752 6.193c.599.6 1.73.437 2.528-.362.798-.799.96-1.932.362-2.531-.599-.6-1.73-.438-2.528.361-.798.8-.96 1.933-.362 2.532Z\"></path><path d=\"M15.811 3.312c-.363 1.534-1.334 3.626-3.64 6.218l-.24 2.408a2.56 2.56 0 0 1-.732 1.526L8.817 15.85a.51.51 0 0 1-.867-.434l.27-1.899c.04-.28-.013-.593-.131-.956a9.42 9.42 0 0 0-.249-.657l-.082-.202c-.815-.197-1.578-.662-2.191-1.277-.614-.615-1.079-1.379-1.275-2.195l-.203-.083a9.556 9.556 0 0 0-.655-.248c-.363-.119-.675-.172-.955-.132l-1.896.27A.51.51 0 0 1 .15 7.17l2.382-2.386c.41-.41.947-.67 1.524-.734h.006l2.4-.238C9.005 1.55 11.087.582 12.623.208c.89-.217 1.59-.232 2.08-.188.244.023.435.06.57.093.067.017.12.033.16.045.184.06.279.13.351.295l.029.073a3.475 3.475 0 0 1 .157.721c.055.485.051 1.178-.159 2.065Zm-4.828 7.475.04-.04-.107 1.081a1.536 1.536 0 0 1-.44.913l-1.298 1.3.054-.38c.072-.506-.034-.993-.172-1.418a8.548 8.548 0 0 0-.164-.45c.738-.065 1.462-.38 2.087-1.006ZM5.205 5c-.625.626-.94 1.351-1.004 2.09a8.497 8.497 0 0 0-.45-.164c-.424-.138-.91-.244-1.416-.172l-.38.054 1.3-1.3c.245-.246.566-.401.91-.44l1.08-.107-.04.039Zm9.406-3.961c-.38-.034-.967-.027-1.746.163-1.558.38-3.917 1.496-6.937 4.521-.62.62-.799 1.34-.687 2.051.107.676.483 1.362 1.048 1.928.564.565 1.25.941 1.924 1.049.71.112 1.429-.067 2.048-.688 3.079-3.083 4.192-5.444 4.556-6.987.183-.771.18-1.345.138-1.713a2.835 2.835 0 0 0-.045-.283 3.078 3.078 0 0 0-.3-.041Z\"></path><path d=\"M7.009 12.139a7.632 7.632 0 0 1-1.804-1.352A7.568 7.568 0 0 1 3.794 8.86c-1.102.992-1.965 5.054-1.839 5.18.125.126 3.936-.896 5.054-1.902Z\"></path></svg><p class=\"mb-2 text-2xl font-semibold tracking-tight sm:text-[26px]\">Make something great</p></dt><dd class=\"leading-relaxed text-gray-600\">Start a playground, invite your friends and build your projects collaboratively, from anywhere around the globe.</dd></div><div><dt class=\"flex flex-col items-center lg:items-start\"><svg class=\"mb-3 h-9 w-9\" fill=\"#84cc16\" stroke=\"url(#GrowSvgGradient)\" stroke-width=\"2\" viewbox=\"0 0 64 64\"><path d=\"M40 30a4 4.5 0 1 0 0 9 4 4.5 0 1 0 0-9Z\"></path><path d=\"M52.3 16a31 31 0 0 0-13.4-5 1 1 0 0 0-1 .6s-.6 1.2-.8 2.7a39.5 39.5 0 0 0-10.4 0c-.2-1.5-.8-2.7-.8-2.7a1 1 0 0 0-1-.6c-.4 0-8.3 1-13.2 5A54.7 54.7 0 0 0 4 44.5c3.5 6 13.6 8.4 15.9 8.5.3 0 .6-.1.8-.4l3.5-4.3a39.6 39.6 0 0 0 15.4 0l3.5 4.3c.2.3.5.4.8.4 2.3 0 12.4-2.5 15.9-8.5l.1-.5c0-11.9-5.1-25.7-7.7-28zm-7.8 35-2.6-3.2c5.6-1.5 8.6-3.9 8.7-4a1 1 0 0 0-1.2-1.6S43.4 47 32 47a29.3 29.3 0 0 1-17.4-4.8 1 1 0 1 0-1.2 1.6c.1.1 3 2.5 8.7 4L19.6 51c-3-.4-10.8-2.7-13.6-7.3a55 55 0 0 1 7-26.2c3.5-2.9 9.3-4 11.3-4.4l.4 1.6a26 26 0 0 0-9.2 3.5 1 1 0 1 0 1 1.6C22 16.5 28.5 16 32 16a30.6 30.6 0 0 1 16 4 1 1 0 0 0 .5-1.8c-3-2-6.4-3-9.4-3.6 0-.6.2-1.1.3-1.5 2.1.3 8 1.5 11.6 4.4 2 1.8 7 14.9 7 26.2-2.8 4.6-10.6 7-13.5 7.3z\"></path><path d=\"M24 30a4 4.5 0 1 0 0 9 4 4.5 0 1 0 0-9Z\"></path></svg><p class=\"mb-2 text-2xl font-semibold tracking-tight sm:text-[26px]\">Connect on Discord</p></dt><dd class=\"leading-relaxed text-gray-600\">Find developers, mentors, and new friends. Attend exclusive events organized by codedamn and have fun while growing your skills.</dd></div><div class=\"flex items-start justify-center gap-8\"><div class=\"relative mx-auto flex w-full max-w-sm cursor-pointer items-center justify-center rounded-md px-5 py-3 font-semibold text-white sm:px-4 sm:py-3 sm:text-base lg:max-w-none lg:rounded-lg xl:px-7 xl:py-3.5 xl:text-lg\"><div class=\"absolute inset-0 z-0 h-full w-full rounded-lg bg-gradient-to-r from-success-600 to-success-400\" style=\"box-shadow:0 0 10px 2px #84cc1680\"></div><span class=\"relative z-10\">Begin your coding journey →</span></div></div></dl><div class=\"relative -mb-[50%] mt-16 aspect-1 w-full overflow-hidden lg:absolute lg:bottom-[unset] lg:left-[460px] lg:right-auto lg:-mt-8 lg:mb-0 lg:h-[1100px] lg:w-[1100px] lg:translate-x-0 lg:[mask-image:linear-gradient(to_bottom,white_20%,transparent_75%)]\"><div class=\"relative left-1/2 top-0 flex h-full w-full -translate-x-1/2 items-end justify-center\"><div class=\"absolute left-0 top-0 z-0 h-full w-full animate-[fade-in_1s_ease-out_forwards] opacity-0 lg:-mt-4\"><canvas style=\"height:100%;width:100%;aspect-ratio:1;contain:layout paint size;cursor:grab;overflow:clip;overflow-clip-margin:context-box\"></canvas></div></div></div></div><div class=\"relative z-10 border border-b-0 border-gray-100 bg-gray-50 bg-opacity-80 bg-clip-padding py-12 sm:py-8\"><dl class=\"mx-auto grid max-w-screen-2xl gap-12 text-center uppercase sm:grid-cols-4 sm:gap-0\"><div class=\"flex flex-col sm:border-r\"><dt class=\"order-2 mt-2 text-sm font-bold leading-6 tracking-wider text-gray-600\">Developers</dt><dd class=\"order-1 text-6xl font-extrabold sm:text-4xl lg:text-5xl\">260k<!-- -->+</dd></div><div class=\"flex flex-col sm:border-r\"><dt class=\"order-2 mt-2 text-sm font-bold leading-6 tracking-wider text-gray-600\">Playgrounds booted</dt><dd class=\"order-1 text-6xl font-extrabold sm:text-4xl lg:text-5xl\">1.4M<!-- -->+</dd></div><div class=\"flex flex-col sm:border-r\"><dt class=\"order-2 mt-2 text-sm font-bold leading-6 tracking-wider text-gray-600\">Doubts solved by jarvis</dt><dd class=\"order-1 text-6xl font-extrabold sm:text-4xl lg:text-5xl\">252k<!-- -->+</dd></div><div class=\"flex flex-col\"><dt class=\"order-2 mt-2 text-sm font-bold leading-6 tracking-wider text-gray-600\">Hours of learning</dt><dd class=\"order-1 text-6xl font-extrabold sm:text-4xl lg:text-5xl\">100K<!-- -->+</dd></div></dl></div></div></section><section><div class=\"relative z-10 md:px-6\"><svg class=\"absolute inset-0 z-0 h-full w-full stroke-gray-200 [mask-image:radial-gradient(transparent,white)] md:[mask-image:radial-gradient(white,transparent)]\"><rect fill=\"url(#grid-3)\" height=\"100%\" width=\"100%\"></rect><defs><pattern height=\"50\" id=\"grid-3\" patternunits=\"userSpaceOnUse\" width=\"50\" x=\"50%\" y=\"-1\"><path d=\"M.5 200V.5H200\" fill=\"none\"></path></pattern></defs></svg><svg class=\"absolute left-2 top-1/2 z-20 h-9 w-9 -translate-y-1/2 text-gray-700 hover:text-gray-800 md:hidden\" fill=\"currentColor\" height=\"1em\" stroke=\"currentColor\" stroke-width=\"0\" viewbox=\"0 0 16 16\" width=\"1em\" xmlns=\"http://www.w3.org/2000/svg\"><path d=\"M8 0a8 8 0 1 0 0 16A8 8 0 0 0 8 0zm3.5 7.5a.5.5 0 0 1 0 1H5.707l2.147 2.146a.5.5 0 0 1-.708.708l-3-3a.5.5 0 0 1 0-.708l3-3a.5.5 0 1 1 .708.708L5.707 7.5H11.5z\"></path></svg><svg class=\"absolute right-2 top-1/2 z-20 h-9 w-9 -translate-y-1/2 text-gray-700 hover:text-gray-800 md:hidden\" fill=\"currentColor\" height=\"1em\" stroke=\"currentColor\" stroke-width=\"0\" viewbox=\"0 0 16 16\" width=\"1em\" xmlns=\"http://www.w3.org/2000/svg\"><path d=\"M8 0a8 8 0 1 1 0 16A8 8 0 0 1 8 0zM4.5 7.5a.5.5 0 0 0 0 1h5.793l-2.147 2.146a.5.5 0 0 0 .708.708l3-3a.5.5 0 0 0 0-.708l-3-3a.5.5 0 1 0-.708.708L10.293 7.5H4.5z\"></path></svg><div class=\"relative z-10 mx-auto flex w-full max-w-screen-2xl snap-x snap-mandatory overflow-x-scroll py-20 md:block md:columns-2 lg:columns-3\" id=\"testimonials-container\"><div class=\"flex\"><figure class=\"mx-[5vw] mb-4 flex min-w-[90vw] snap-center flex-col justify-between rounded-xl border border-gray-100 bg-white p-6 shadow-xl shadow-gray-900/10 md:mx-0 md:inline-block md:min-w-fit\"><blockquote class=\"relative text-gray-900\"><div class=\"flex\"><svg aria-hidden=\"true\" class=\"h-6 w-6 fill-warning-400\" viewbox=\"0 0 20 20\"><path d=\"M9.049 2.927c.3-.921 1.603-.921 1.902 0l1.07 3.292a1 1 0 00.95.69h3.462c.969 0 1.371 1.24.588 1.81l-2.8 2.034a1 1 0 00-.364 1.118l1.07 3.292c.3.921-.755 1.688-1.54 1.118l-2.8-2.034a1 1 0 00-1.175 0l-2.8 2.034c-.784.57-1.838-.197-1.539-1.118l1.07-3.292a1 1 0 00-.364-1.118L2.98 8.72c-.783-.57-.38-1.81.588-1.81h3.461a1 1 0 00.951-.69l1.07-3.292z\"></path></svg><svg aria-hidden=\"true\" class=\"h-6 w-6 fill-warning-400\" viewbox=\"0 0 20 20\"><path d=\"M9.049 2.927c.3-.921 1.603-.921 1.902 0l1.07 3.292a1 1 0 00.95.69h3.462c.969 0 1.371 1.24.588 1.81l-2.8 2.034a1 1 0 00-.364 1.118l1.07 3.292c.3.921-.755 1.688-1.54 1.118l-2.8-2.034a1 1 0 00-1.175 0l-2.8 2.034c-.784.57-1.838-.197-1.539-1.118l1.07-3.292a1 1 0 00-.364-1.118L2.98 8.72c-.783-.57-.38-1.81.588-1.81h3.461a1 1 0 00.951-.69l1.07-3.292z\"></path></svg><svg aria-hidden=\"true\" class=\"h-6 w-6 fill-warning-400\" viewbox=\"0 0 20 20\"><path d=\"M9.049 2.927c.3-.921 1.603-.921 1.902 0l1.07 3.292a1 1 0 00.95.69h3.462c.969 0 1.371 1.24.588 1.81l-2.8 2.034a1 1 0 00-.364 1.118l1.07 3.292c.3.921-.755 1.688-1.54 1.118l-2.8-2.034a1 1 0 00-1.175 0l-2.8 2.034c-.784.57-1.838-.197-1.539-1.118l1.07-3.292a1 1 0 00-.364-1.118L2.98 8.72c-.783-.57-.38-1.81.588-1.81h3.461a1 1 0 00.951-.69l1.07-3.292z\"></path></svg><svg aria-hidden=\"true\" class=\"h-6 w-6 fill-warning-400\" viewbox=\"0 0 20 20\"><path d=\"M9.049 2.927c.3-.921 1.603-.921 1.902 0l1.07 3.292a1 1 0 00.95.69h3.462c.969 0 1.371 1.24.588 1.81l-2.8 2.034a1 1 0 00-.364 1.118l1.07 3.292c.3.921-.755 1.688-1.54 1.118l-2.8-2.034a1 1 0 00-1.175 0l-2.8 2.034c-.784.57-1.838-.197-1.539-1.118l1.07-3.292a1 1 0 00-.364-1.118L2.98 8.72c-.783-.57-.38-1.81.588-1.81h3.461a1 1 0 00.951-.69l1.07-3.292z\"></path></svg><svg aria-hidden=\"true\" class=\"h-6 w-6 fill-warning-400\" viewbox=\"0 0 20 20\"><path d=\"M9.049 2.927c.3-.921 1.603-.921 1.902 0l1.07 3.292a1 1 0 00.95.69h3.462c.969 0 1.371 1.24.588 1.81l-2.8 2.034a1 1 0 00-.364 1.118l1.07 3.292c.3.921-.755 1.688-1.54 1.118l-2.8-2.034a1 1 0 00-1.175 0l-2.8 2.034c-.784.57-1.838-.197-1.539-1.118l1.07-3.292a1 1 0 00-.364-1.118L2.98 8.72c-.783-.57-.38-1.81.588-1.81h3.461a1 1 0 00.951-.69l1.07-3.292z\"></path></svg></div><p class=\"relative py-5 leading-7 xl:text-lg\"><q>I have seen so many courses but finding course that gives lecture + playground to code is difficult to find. But codedamn is totally amazing in this perspective even quality of content is unmatchable and helped me many times in understanding concepts in depth</q></p></blockquote><figcaption class=\"border-t border-gray-400/20 pt-5 text-sm text-gray-600\"><div class=\"flex items-center justify-between\"><div class=\"ml-3\"><p class=\"font-semibold text-gray-700 group-hover:text-gray-900 xl:text-lg\">Ashish Kumar</p><p class=\"text-xs font-medium text-gray-500 group-hover:text-gray-600 xl:text-sm\">Software Engineer</p></div><div><img alt=\"Profile picture of Ashish Kumar\" class=\"inline-block h-9 w-9 rounded-full xl:h-11 xl:w-11\" data-nimg=\"1\" decoding=\"async\" height=\"36\" loading=\"lazy\" src=\"https://wsrv.nl/?url=https%3A%2F%2Fpbs.twimg.com%2Fprofile_images%2F1470303070122754050%2FzO2SevAz_400x400.jpg&amp;w=72&amp;q=70&amp;output=webp\" srcset=\"https://wsrv.nl/?url=https%3A%2F%2Fpbs.twimg.com%2Fprofile_images%2F1470303070122754050%2FzO2SevAz_400x400.jpg&amp;w=72&amp;q=70&amp;output=webp 1x, https://wsrv.nl/?url=https%3A%2F%2Fpbs.twimg.com%2Fprofile_images%2F1470303070122754050%2FzO2SevAz_400x400.jpg&amp;w=72&amp;q=70&amp;output=webp 2x\" style=\"color:transparent\" width=\"36\"/></div></div></figcaption></figure></div><figure class=\"mx-[5vw] mb-4 flex min-w-[90vw] snap-center flex-col justify-between rounded-xl border border-gray-100 bg-white p-6 shadow-xl shadow-gray-900/10 md:mx-0 md:inline-block md:min-w-fit\"><blockquote class=\"relative text-gray-900\"><div class=\"flex\"><svg aria-hidden=\"true\" class=\"h-6 w-6 fill-warning-400\" viewbox=\"0 0 20 20\"><path d=\"M9.049 2.927c.3-.921 1.603-.921 1.902 0l1.07 3.292a1 1 0 00.95.69h3.462c.969 0 1.371 1.24.588 1.81l-2.8 2.034a1 1 0 00-.364 1.118l1.07 3.292c.3.921-.755 1.688-1.54 1.118l-2.8-2.034a1 1 0 00-1.175 0l-2.8 2.034c-.784.57-1.838-.197-1.539-1.118l1.07-3.292a1 1 0 00-.364-1.118L2.98 8.72c-.783-.57-.38-1.81.588-1.81h3.461a1 1 0 00.951-.69l1.07-3.292z\"></path></svg><svg aria-hidden=\"true\" class=\"h-6 w-6 fill-warning-400\" viewbox=\"0 0 20 20\"><path d=\"M9.049 2.927c.3-.921 1.603-.921 1.902 0l1.07 3.292a1 1 0 00.95.69h3.462c.969 0 1.371 1.24.588 1.81l-2.8 2.034a1 1 0 00-.364 1.118l1.07 3.292c.3.921-.755 1.688-1.54 1.118l-2.8-2.034a1 1 0 00-1.175 0l-2.8 2.034c-.784.57-1.838-.197-1.539-1.118l1.07-3.292a1 1 0 00-.364-1.118L2.98 8.72c-.783-.57-.38-1.81.588-1.81h3.461a1 1 0 00.951-.69l1.07-3.292z\"></path></svg><svg aria-hidden=\"true\" class=\"h-6 w-6 fill-warning-400\" viewbox=\"0 0 20 20\"><path d=\"M9.049 2.927c.3-.921 1.603-.921 1.902 0l1.07 3.292a1 1 0 00.95.69h3.462c.969 0 1.371 1.24.588 1.81l-2.8 2.034a1 1 0 00-.364 1.118l1.07 3.292c.3.921-.755 1.688-1.54 1.118l-2.8-2.034a1 1 0 00-1.175 0l-2.8 2.034c-.784.57-1.838-.197-1.539-1.118l1.07-3.292a1 1 0 00-.364-1.118L2.98 8.72c-.783-.57-.38-1.81.588-1.81h3.461a1 1 0 00.951-.69l1.07-3.292z\"></path></svg><svg aria-hidden=\"true\" class=\"h-6 w-6 fill-warning-400\" viewbox=\"0 0 20 20\"><path d=\"M9.049 2.927c.3-.921 1.603-.921 1.902 0l1.07 3.292a1 1 0 00.95.69h3.462c.969 0 1.371 1.24.588 1.81l-2.8 2.034a1 1 0 00-.364 1.118l1.07 3.292c.3.921-.755 1.688-1.54 1.118l-2.8-2.034a1 1 0 00-1.175 0l-2.8 2.034c-.784.57-1.838-.197-1.539-1.118l1.07-3.292a1 1 0 00-.364-1.118L2.98 8.72c-.783-.57-.38-1.81.588-1.81h3.461a1 1 0 00.951-.69l1.07-3.292z\"></path></svg><svg aria-hidden=\"true\" class=\"h-6 w-6 fill-warning-400\" viewbox=\"0 0 20 20\"><path d=\"M9.049 2.927c.3-.921 1.603-.921 1.902 0l1.07 3.292a1 1 0 00.95.69h3.462c.969 0 1.371 1.24.588 1.81l-2.8 2.034a1 1 0 00-.364 1.118l1.07 3.292c.3.921-.755 1.688-1.54 1.118l-2.8-2.034a1 1 0 00-1.175 0l-2.8 2.034c-.784.57-1.838-.197-1.539-1.118l1.07-3.292a1 1 0 00-.364-1.118L2.98 8.72c-.783-.57-.38-1.81.588-1.81h3.461a1 1 0 00.951-.69l1.07-3.292z\"></path></svg></div><p class=\"relative py-5 leading-7 xl:text-lg\"><q>Codedamn is building a killer ecosystem. Really amazed to see what they have brought in the last 6 months 🤯</q></p></blockquote><figcaption class=\"border-t border-gray-400/20 pt-5 text-sm text-gray-600\"><div class=\"flex items-center justify-between\"><div class=\"ml-3\"><p class=\"font-semibold text-gray-700 group-hover:text-gray-900 xl:text-lg\">Riten Debnath</p><p class=\"text-xs font-medium text-gray-500 group-hover:text-gray-600 xl:text-sm\">Founder &amp; CEO @Fueler</p></div><div><img alt=\"Profile picture of Riten Debnath\" class=\"inline-block h-9 w-9 rounded-full xl:h-11 xl:w-11\" data-nimg=\"1\" decoding=\"async\" height=\"36\" loading=\"lazy\" src=\"https://wsrv.nl/?url=https%3A%2F%2Ffueler.io%2Fstorage%2Fusers%2Favatar%2Fritendnavatar1625944320.png&amp;w=72&amp;q=70&amp;output=webp\" srcset=\"https://wsrv.nl/?url=https%3A%2F%2Ffueler.io%2Fstorage%2Fusers%2Favatar%2Fritendnavatar1625944320.png&amp;w=72&amp;q=70&amp;output=webp 1x, https://wsrv.nl/?url=https%3A%2F%2Ffueler.io%2Fstorage%2Fusers%2Favatar%2Fritendnavatar1625944320.png&amp;w=72&amp;q=70&amp;output=webp 2x\" style=\"color:transparent\" width=\"36\"/></div></div></figcaption></figure><figure class=\"mx-[5vw] mb-4 flex min-w-[90vw] snap-center flex-col justify-between rounded-xl border border-gray-100 bg-white p-6 shadow-xl shadow-gray-900/10 md:mx-0 md:inline-block md:min-w-fit\"><blockquote class=\"relative text-gray-900\"><div class=\"flex\"><svg aria-hidden=\"true\" class=\"h-6 w-6 fill-warning-400\" viewbox=\"0 0 20 20\"><path d=\"M9.049 2.927c.3-.921 1.603-.921 1.902 0l1.07 3.292a1 1 0 00.95.69h3.462c.969 0 1.371 1.24.588 1.81l-2.8 2.034a1 1 0 00-.364 1.118l1.07 3.292c.3.921-.755 1.688-1.54 1.118l-2.8-2.034a1 1 0 00-1.175 0l-2.8 2.034c-.784.57-1.838-.197-1.539-1.118l1.07-3.292a1 1 0 00-.364-1.118L2.98 8.72c-.783-.57-.38-1.81.588-1.81h3.461a1 1 0 00.951-.69l1.07-3.292z\"></path></svg><svg aria-hidden=\"true\" class=\"h-6 w-6 fill-warning-400\" viewbox=\"0 0 20 20\"><path d=\"M9.049 2.927c.3-.921 1.603-.921 1.902 0l1.07 3.292a1 1 0 00.95.69h3.462c.969 0 1.371 1.24.588 1.81l-2.8 2.034a1 1 0 00-.364 1.118l1.07 3.292c.3.921-.755 1.688-1.54 1.118l-2.8-2.034a1 1 0 00-1.175 0l-2.8 2.034c-.784.57-1.838-.197-1.539-1.118l1.07-3.292a1 1 0 00-.364-1.118L2.98 8.72c-.783-.57-.38-1.81.588-1.81h3.461a1 1 0 00.951-.69l1.07-3.292z\"></path></svg><svg aria-hidden=\"true\" class=\"h-6 w-6 fill-warning-400\" viewbox=\"0 0 20 20\"><path d=\"M9.049 2.927c.3-.921 1.603-.921 1.902 0l1.07 3.292a1 1 0 00.95.69h3.462c.969 0 1.371 1.24.588 1.81l-2.8 2.034a1 1 0 00-.364 1.118l1.07 3.292c.3.921-.755 1.688-1.54 1.118l-2.8-2.034a1 1 0 00-1.175 0l-2.8 2.034c-.784.57-1.838-.197-1.539-1.118l1.07-3.292a1 1 0 00-.364-1.118L2.98 8.72c-.783-.57-.38-1.81.588-1.81h3.461a1 1 0 00.951-.69l1.07-3.292z\"></path></svg><svg aria-hidden=\"true\" class=\"h-6 w-6 fill-warning-400\" viewbox=\"0 0 20 20\"><path d=\"M9.049 2.927c.3-.921 1.603-.921 1.902 0l1.07 3.292a1 1 0 00.95.69h3.462c.969 0 1.371 1.24.588 1.81l-2.8 2.034a1 1 0 00-.364 1.118l1.07 3.292c.3.921-.755 1.688-1.54 1.118l-2.8-2.034a1 1 0 00-1.175 0l-2.8 2.034c-.784.57-1.838-.197-1.539-1.118l1.07-3.292a1 1 0 00-.364-1.118L2.98 8.72c-.783-.57-.38-1.81.588-1.81h3.461a1 1 0 00.951-.69l1.07-3.292z\"></path></svg><svg aria-hidden=\"true\" class=\"h-6 w-6 fill-warning-400\" viewbox=\"0 0 20 20\"><path d=\"M9.049 2.927c.3-.921 1.603-.921 1.902 0l1.07 3.292a1 1 0 00.95.69h3.462c.969 0 1.371 1.24.588 1.81l-2.8 2.034a1 1 0 00-.364 1.118l1.07 3.292c.3.921-.755 1.688-1.54 1.118l-2.8-2.034a1 1 0 00-1.175 0l-2.8 2.034c-.784.57-1.838-.197-1.539-1.118l1.07-3.292a1 1 0 00-.364-1.118L2.98 8.72c-.783-.57-.38-1.81.588-1.81h3.461a1 1 0 00.951-.69l1.07-3.292z\"></path></svg></div><p class=\"relative py-5 leading-7 xl:text-lg\"><q>I enrolled in the Solidity course and honestly, it is extremely good! The speaker is well versed in Solidity and the environment that codedamn provides for learning and interaction is very impressive✨</q></p></blockquote><figcaption class=\"border-t border-gray-400/20 pt-5 text-sm text-gray-600\"><div class=\"flex items-center justify-between\"><div class=\"ml-3\"><p class=\"font-semibold text-gray-700 group-hover:text-gray-900 xl:text-lg\">Tanishka Borkar</p><p class=\"text-xs font-medium text-gray-500 group-hover:text-gray-600 xl:text-sm\">University Student, KJSIEIT</p></div><div><img alt=\"Profile picture of Tanishka Borkar\" class=\"inline-block h-9 w-9 rounded-full xl:h-11 xl:w-11\" data-nimg=\"1\" decoding=\"async\" height=\"36\" loading=\"lazy\" src=\"https://wsrv.nl/?url=https%3A%2F%2Fpbs.twimg.com%2Fprofile_images%2F1553250475083829249%2FynLCnzey_400x400.jpg&amp;w=72&amp;q=70&amp;output=webp\" srcset=\"https://wsrv.nl/?url=https%3A%2F%2Fpbs.twimg.com%2Fprofile_images%2F1553250475083829249%2FynLCnzey_400x400.jpg&amp;w=72&amp;q=70&amp;output=webp 1x, https://wsrv.nl/?url=https%3A%2F%2Fpbs.twimg.com%2Fprofile_images%2F1553250475083829249%2FynLCnzey_400x400.jpg&amp;w=72&amp;q=70&amp;output=webp 2x\" style=\"color:transparent\" width=\"36\"/></div></div></figcaption></figure><figure class=\"mx-[5vw] mb-4 flex min-w-[90vw] snap-center flex-col justify-between rounded-xl border border-gray-100 bg-white p-6 shadow-xl shadow-gray-900/10 md:mx-0 md:inline-block md:min-w-fit\"><blockquote class=\"relative text-gray-900\"><div class=\"flex\"><svg aria-hidden=\"true\" class=\"h-6 w-6 fill-warning-400\" viewbox=\"0 0 20 20\"><path d=\"M9.049 2.927c.3-.921 1.603-.921 1.902 0l1.07 3.292a1 1 0 00.95.69h3.462c.969 0 1.371 1.24.588 1.81l-2.8 2.034a1 1 0 00-.364 1.118l1.07 3.292c.3.921-.755 1.688-1.54 1.118l-2.8-2.034a1 1 0 00-1.175 0l-2.8 2.034c-.784.57-1.838-.197-1.539-1.118l1.07-3.292a1 1 0 00-.364-1.118L2.98 8.72c-.783-.57-.38-1.81.588-1.81h3.461a1 1 0 00.951-.69l1.07-3.292z\"></path></svg><svg aria-hidden=\"true\" class=\"h-6 w-6 fill-warning-400\" viewbox=\"0 0 20 20\"><path d=\"M9.049 2.927c.3-.921 1.603-.921 1.902 0l1.07 3.292a1 1 0 00.95.69h3.462c.969 0 1.371 1.24.588 1.81l-2.8 2.034a1 1 0 00-.364 1.118l1.07 3.292c.3.921-.755 1.688-1.54 1.118l-2.8-2.034a1 1 0 00-1.175 0l-2.8 2.034c-.784.57-1.838-.197-1.539-1.118l1.07-3.292a1 1 0 00-.364-1.118L2.98 8.72c-.783-.57-.38-1.81.588-1.81h3.461a1 1 0 00.951-.69l1.07-3.292z\"></path></svg><svg aria-hidden=\"true\" class=\"h-6 w-6 fill-warning-400\" viewbox=\"0 0 20 20\"><path d=\"M9.049 2.927c.3-.921 1.603-.921 1.902 0l1.07 3.292a1 1 0 00.95.69h3.462c.969 0 1.371 1.24.588 1.81l-2.8 2.034a1 1 0 00-.364 1.118l1.07 3.292c.3.921-.755 1.688-1.54 1.118l-2.8-2.034a1 1 0 00-1.175 0l-2.8 2.034c-.784.57-1.838-.197-1.539-1.118l1.07-3.292a1 1 0 00-.364-1.118L2.98 8.72c-.783-.57-.38-1.81.588-1.81h3.461a1 1 0 00.951-.69l1.07-3.292z\"></path></svg><svg aria-hidden=\"true\" class=\"h-6 w-6 fill-warning-400\" viewbox=\"0 0 20 20\"><path d=\"M9.049 2.927c.3-.921 1.603-.921 1.902 0l1.07 3.292a1 1 0 00.95.69h3.462c.969 0 1.371 1.24.588 1.81l-2.8 2.034a1 1 0 00-.364 1.118l1.07 3.292c.3.921-.755 1.688-1.54 1.118l-2.8-2.034a1 1 0 00-1.175 0l-2.8 2.034c-.784.57-1.838-.197-1.539-1.118l1.07-3.292a1 1 0 00-.364-1.118L2.98 8.72c-.783-.57-.38-1.81.588-1.81h3.461a1 1 0 00.951-.69l1.07-3.292z\"></path></svg><svg aria-hidden=\"true\" class=\"h-6 w-6 fill-warning-400\" viewbox=\"0 0 20 20\"><path d=\"M9.049 2.927c.3-.921 1.603-.921 1.902 0l1.07 3.292a1 1 0 00.95.69h3.462c.969 0 1.371 1.24.588 1.81l-2.8 2.034a1 1 0 00-.364 1.118l1.07 3.292c.3.921-.755 1.688-1.54 1.118l-2.8-2.034a1 1 0 00-1.175 0l-2.8 2.034c-.784.57-1.838-.197-1.539-1.118l1.07-3.292a1 1 0 00-.364-1.118L2.98 8.72c-.783-.57-.38-1.81.588-1.81h3.461a1 1 0 00.951-.69l1.07-3.292z\"></path></svg></div><p class=\"relative py-5 leading-7 xl:text-lg\"><q>Day by Day, codedamn is turning me into a Front-End Superman 🦸‍♂️</q></p></blockquote><figcaption class=\"border-t border-gray-400/20 pt-5 text-sm text-gray-600\"><div class=\"flex items-center justify-between\"><div class=\"ml-3\"><p class=\"font-semibold text-gray-700 group-hover:text-gray-900 xl:text-lg\">Manuraj Shukla</p><p class=\"text-xs font-medium text-gray-500 group-hover:text-gray-600 xl:text-sm\">Frontend developer @buildoor</p></div><div><img alt=\"Profile picture of Manuraj Shukla\" class=\"inline-block h-9 w-9 rounded-full xl:h-11 xl:w-11\" data-nimg=\"1\" decoding=\"async\" height=\"36\" loading=\"lazy\" src=\"https://wsrv.nl/?url=https%3A%2F%2Ffueler.io%2Fstorage%2Fusers%2Favatar%2Fmanuraj1107avatar1661707625.png&amp;w=72&amp;q=70&amp;output=webp\" srcset=\"https://wsrv.nl/?url=https%3A%2F%2Ffueler.io%2Fstorage%2Fusers%2Favatar%2Fmanuraj1107avatar1661707625.png&amp;w=72&amp;q=70&amp;output=webp 1x, https://wsrv.nl/?url=https%3A%2F%2Ffueler.io%2Fstorage%2Fusers%2Favatar%2Fmanuraj1107avatar1661707625.png&amp;w=72&amp;q=70&amp;output=webp 2x\" style=\"color:transparent\" width=\"36\"/></div></div></figcaption></figure><figure class=\"mx-[5vw] mb-4 flex min-w-[90vw] snap-center flex-col justify-between rounded-xl border border-gray-100 bg-white p-6 shadow-xl shadow-gray-900/10 md:mx-0 md:inline-block md:min-w-fit\"><blockquote class=\"relative text-gray-900\"><div class=\"flex\"><svg aria-hidden=\"true\" class=\"h-6 w-6 fill-warning-400\" viewbox=\"0 0 20 20\"><path d=\"M9.049 2.927c.3-.921 1.603-.921 1.902 0l1.07 3.292a1 1 0 00.95.69h3.462c.969 0 1.371 1.24.588 1.81l-2.8 2.034a1 1 0 00-.364 1.118l1.07 3.292c.3.921-.755 1.688-1.54 1.118l-2.8-2.034a1 1 0 00-1.175 0l-2.8 2.034c-.784.57-1.838-.197-1.539-1.118l1.07-3.292a1 1 0 00-.364-1.118L2.98 8.72c-.783-.57-.38-1.81.588-1.81h3.461a1 1 0 00.951-.69l1.07-3.292z\"></path></svg><svg aria-hidden=\"true\" class=\"h-6 w-6 fill-warning-400\" viewbox=\"0 0 20 20\"><path d=\"M9.049 2.927c.3-.921 1.603-.921 1.902 0l1.07 3.292a1 1 0 00.95.69h3.462c.969 0 1.371 1.24.588 1.81l-2.8 2.034a1 1 0 00-.364 1.118l1.07 3.292c.3.921-.755 1.688-1.54 1.118l-2.8-2.034a1 1 0 00-1.175 0l-2.8 2.034c-.784.57-1.838-.197-1.539-1.118l1.07-3.292a1 1 0 00-.364-1.118L2.98 8.72c-.783-.57-.38-1.81.588-1.81h3.461a1 1 0 00.951-.69l1.07-3.292z\"></path></svg><svg aria-hidden=\"true\" class=\"h-6 w-6 fill-warning-400\" viewbox=\"0 0 20 20\"><path d=\"M9.049 2.927c.3-.921 1.603-.921 1.902 0l1.07 3.292a1 1 0 00.95.69h3.462c.969 0 1.371 1.24.588 1.81l-2.8 2.034a1 1 0 00-.364 1.118l1.07 3.292c.3.921-.755 1.688-1.54 1.118l-2.8-2.034a1 1 0 00-1.175 0l-2.8 2.034c-.784.57-1.838-.197-1.539-1.118l1.07-3.292a1 1 0 00-.364-1.118L2.98 8.72c-.783-.57-.38-1.81.588-1.81h3.461a1 1 0 00.951-.69l1.07-3.292z\"></path></svg><svg aria-hidden=\"true\" class=\"h-6 w-6 fill-warning-400\" viewbox=\"0 0 20 20\"><path d=\"M9.049 2.927c.3-.921 1.603-.921 1.902 0l1.07 3.292a1 1 0 00.95.69h3.462c.969 0 1.371 1.24.588 1.81l-2.8 2.034a1 1 0 00-.364 1.118l1.07 3.292c.3.921-.755 1.688-1.54 1.118l-2.8-2.034a1 1 0 00-1.175 0l-2.8 2.034c-.784.57-1.838-.197-1.539-1.118l1.07-3.292a1 1 0 00-.364-1.118L2.98 8.72c-.783-.57-.38-1.81.588-1.81h3.461a1 1 0 00.951-.69l1.07-3.292z\"></path></svg><svg aria-hidden=\"true\" class=\"h-6 w-6 fill-warning-400\" viewbox=\"0 0 20 20\"><path d=\"M9.049 2.927c.3-.921 1.603-.921 1.902 0l1.07 3.292a1 1 0 00.95.69h3.462c.969 0 1.371 1.24.588 1.81l-2.8 2.034a1 1 0 00-.364 1.118l1.07 3.292c.3.921-.755 1.688-1.54 1.118l-2.8-2.034a1 1 0 00-1.175 0l-2.8 2.034c-.784.57-1.838-.197-1.539-1.118l1.07-3.292a1 1 0 00-.364-1.118L2.98 8.72c-.783-.57-.38-1.81.588-1.81h3.461a1 1 0 00.951-.69l1.07-3.292z\"></path></svg></div><p class=\"relative py-5 leading-7 xl:text-lg\"><q>Codedamn is a super slick platform that teaches in demand tech stacks. It's great to start with because the practice exercises and tasks are completed in the browser in a super cool IDE👾</q></p></blockquote><figcaption class=\"border-t border-gray-400/20 pt-5 text-sm text-gray-600\"><div class=\"flex items-center justify-between\"><div class=\"ml-3\"><p class=\"font-semibold text-gray-700 group-hover:text-gray-900 xl:text-lg\">Jess Klette</p><p class=\"text-xs font-medium text-gray-500 group-hover:text-gray-600 xl:text-sm\">Software Engineer</p></div><div><img alt=\"Profile picture of Jess Klette\" class=\"inline-block h-9 w-9 rounded-full xl:h-11 xl:w-11\" data-nimg=\"1\" decoding=\"async\" height=\"36\" loading=\"lazy\" src=\"https://wsrv.nl/?url=https%3A%2F%2Fpbs.twimg.com%2Fprofile_images%2F1534639743727812615%2Fs4cz-sTk_400x400.jpg&amp;w=72&amp;q=70&amp;output=webp\" srcset=\"https://wsrv.nl/?url=https%3A%2F%2Fpbs.twimg.com%2Fprofile_images%2F1534639743727812615%2Fs4cz-sTk_400x400.jpg&amp;w=72&amp;q=70&amp;output=webp 1x, https://wsrv.nl/?url=https%3A%2F%2Fpbs.twimg.com%2Fprofile_images%2F1534639743727812615%2Fs4cz-sTk_400x400.jpg&amp;w=72&amp;q=70&amp;output=webp 2x\" style=\"color:transparent\" width=\"36\"/></div></div></figcaption></figure><figure class=\"mx-[5vw] mb-4 flex min-w-[90vw] snap-center flex-col justify-between rounded-xl border border-gray-100 bg-white p-6 shadow-xl shadow-gray-900/10 md:mx-0 md:inline-block md:min-w-fit\"><blockquote class=\"relative text-gray-900\"><div class=\"flex\"><svg aria-hidden=\"true\" class=\"h-6 w-6 fill-warning-400\" viewbox=\"0 0 20 20\"><path d=\"M9.049 2.927c.3-.921 1.603-.921 1.902 0l1.07 3.292a1 1 0 00.95.69h3.462c.969 0 1.371 1.24.588 1.81l-2.8 2.034a1 1 0 00-.364 1.118l1.07 3.292c.3.921-.755 1.688-1.54 1.118l-2.8-2.034a1 1 0 00-1.175 0l-2.8 2.034c-.784.57-1.838-.197-1.539-1.118l1.07-3.292a1 1 0 00-.364-1.118L2.98 8.72c-.783-.57-.38-1.81.588-1.81h3.461a1 1 0 00.951-.69l1.07-3.292z\"></path></svg><svg aria-hidden=\"true\" class=\"h-6 w-6 fill-warning-400\" viewbox=\"0 0 20 20\"><path d=\"M9.049 2.927c.3-.921 1.603-.921 1.902 0l1.07 3.292a1 1 0 00.95.69h3.462c.969 0 1.371 1.24.588 1.81l-2.8 2.034a1 1 0 00-.364 1.118l1.07 3.292c.3.921-.755 1.688-1.54 1.118l-2.8-2.034a1 1 0 00-1.175 0l-2.8 2.034c-.784.57-1.838-.197-1.539-1.118l1.07-3.292a1 1 0 00-.364-1.118L2.98 8.72c-.783-.57-.38-1.81.588-1.81h3.461a1 1 0 00.951-.69l1.07-3.292z\"></path></svg><svg aria-hidden=\"true\" class=\"h-6 w-6 fill-warning-400\" viewbox=\"0 0 20 20\"><path d=\"M9.049 2.927c.3-.921 1.603-.921 1.902 0l1.07 3.292a1 1 0 00.95.69h3.462c.969 0 1.371 1.24.588 1.81l-2.8 2.034a1 1 0 00-.364 1.118l1.07 3.292c.3.921-.755 1.688-1.54 1.118l-2.8-2.034a1 1 0 00-1.175 0l-2.8 2.034c-.784.57-1.838-.197-1.539-1.118l1.07-3.292a1 1 0 00-.364-1.118L2.98 8.72c-.783-.57-.38-1.81.588-1.81h3.461a1 1 0 00.951-.69l1.07-3.292z\"></path></svg><svg aria-hidden=\"true\" class=\"h-6 w-6 fill-warning-400\" viewbox=\"0 0 20 20\"><path d=\"M9.049 2.927c.3-.921 1.603-.921 1.902 0l1.07 3.292a1 1 0 00.95.69h3.462c.969 0 1.371 1.24.588 1.81l-2.8 2.034a1 1 0 00-.364 1.118l1.07 3.292c.3.921-.755 1.688-1.54 1.118l-2.8-2.034a1 1 0 00-1.175 0l-2.8 2.034c-.784.57-1.838-.197-1.539-1.118l1.07-3.292a1 1 0 00-.364-1.118L2.98 8.72c-.783-.57-.38-1.81.588-1.81h3.461a1 1 0 00.951-.69l1.07-3.292z\"></path></svg><svg aria-hidden=\"true\" class=\"h-6 w-6 fill-warning-400\" viewbox=\"0 0 20 20\"><path d=\"M9.049 2.927c.3-.921 1.603-.921 1.902 0l1.07 3.292a1 1 0 00.95.69h3.462c.969 0 1.371 1.24.588 1.81l-2.8 2.034a1 1 0 00-.364 1.118l1.07 3.292c.3.921-.755 1.688-1.54 1.118l-2.8-2.034a1 1 0 00-1.175 0l-2.8 2.034c-.784.57-1.838-.197-1.539-1.118l1.07-3.292a1 1 0 00-.364-1.118L2.98 8.72c-.783-.57-.38-1.81.588-1.81h3.461a1 1 0 00.951-.69l1.07-3.292z\"></path></svg></div><p class=\"relative py-5 leading-7 xl:text-lg\"><q>For my full-stack learning path, I chose codedamn over other options like Masai, Newton, etc. The subscription cost is bare minimum, their inbuilt IDE works great and the support is amazing.</q></p></blockquote><figcaption class=\"border-t border-gray-400/20 pt-5 text-sm text-gray-600\"><div class=\"flex items-center justify-between\"><div class=\"ml-3\"><p class=\"font-semibold text-gray-700 group-hover:text-gray-900 xl:text-lg\">Sandeep Tomar</p><p class=\"text-xs font-medium text-gray-500 group-hover:text-gray-600 xl:text-sm\">Product Manager @K2FocusOnForce</p></div><div><img alt=\"Profile picture of Sandeep Tomar\" class=\"inline-block h-9 w-9 rounded-full xl:h-11 xl:w-11\" data-nimg=\"1\" decoding=\"async\" height=\"36\" loading=\"lazy\" src=\"https://wsrv.nl/?url=https%3A%2F%2Fpbs.twimg.com%2Fprofile_images%2F1497083494346129409%2FHvqJWPEg_400x400.jpg&amp;w=72&amp;q=70&amp;output=webp\" srcset=\"https://wsrv.nl/?url=https%3A%2F%2Fpbs.twimg.com%2Fprofile_images%2F1497083494346129409%2FHvqJWPEg_400x400.jpg&amp;w=72&amp;q=70&amp;output=webp 1x, https://wsrv.nl/?url=https%3A%2F%2Fpbs.twimg.com%2Fprofile_images%2F1497083494346129409%2FHvqJWPEg_400x400.jpg&amp;w=72&amp;q=70&amp;output=webp 2x\" style=\"color:transparent\" width=\"36\"/></div></div></figcaption></figure><figure class=\"mx-[5vw] mb-4 flex min-w-[90vw] snap-center flex-col justify-between rounded-xl border border-gray-100 bg-white p-6 shadow-xl shadow-gray-900/10 md:mx-0 md:inline-block md:min-w-fit\"><blockquote class=\"relative text-gray-900\"><div class=\"flex\"><svg aria-hidden=\"true\" class=\"h-6 w-6 fill-warning-400\" viewbox=\"0 0 20 20\"><path d=\"M9.049 2.927c.3-.921 1.603-.921 1.902 0l1.07 3.292a1 1 0 00.95.69h3.462c.969 0 1.371 1.24.588 1.81l-2.8 2.034a1 1 0 00-.364 1.118l1.07 3.292c.3.921-.755 1.688-1.54 1.118l-2.8-2.034a1 1 0 00-1.175 0l-2.8 2.034c-.784.57-1.838-.197-1.539-1.118l1.07-3.292a1 1 0 00-.364-1.118L2.98 8.72c-.783-.57-.38-1.81.588-1.81h3.461a1 1 0 00.951-.69l1.07-3.292z\"></path></svg><svg aria-hidden=\"true\" class=\"h-6 w-6 fill-warning-400\" viewbox=\"0 0 20 20\"><path d=\"M9.049 2.927c.3-.921 1.603-.921 1.902 0l1.07 3.292a1 1 0 00.95.69h3.462c.969 0 1.371 1.24.588 1.81l-2.8 2.034a1 1 0 00-.364 1.118l1.07 3.292c.3.921-.755 1.688-1.54 1.118l-2.8-2.034a1 1 0 00-1.175 0l-2.8 2.034c-.784.57-1.838-.197-1.539-1.118l1.07-3.292a1 1 0 00-.364-1.118L2.98 8.72c-.783-.57-.38-1.81.588-1.81h3.461a1 1 0 00.951-.69l1.07-3.292z\"></path></svg><svg aria-hidden=\"true\" class=\"h-6 w-6 fill-warning-400\" viewbox=\"0 0 20 20\"><path d=\"M9.049 2.927c.3-.921 1.603-.921 1.902 0l1.07 3.292a1 1 0 00.95.69h3.462c.969 0 1.371 1.24.588 1.81l-2.8 2.034a1 1 0 00-.364 1.118l1.07 3.292c.3.921-.755 1.688-1.54 1.118l-2.8-2.034a1 1 0 00-1.175 0l-2.8 2.034c-.784.57-1.838-.197-1.539-1.118l1.07-3.292a1 1 0 00-.364-1.118L2.98 8.72c-.783-.57-.38-1.81.588-1.81h3.461a1 1 0 00.951-.69l1.07-3.292z\"></path></svg><svg aria-hidden=\"true\" class=\"h-6 w-6 fill-warning-400\" viewbox=\"0 0 20 20\"><path d=\"M9.049 2.927c.3-.921 1.603-.921 1.902 0l1.07 3.292a1 1 0 00.95.69h3.462c.969 0 1.371 1.24.588 1.81l-2.8 2.034a1 1 0 00-.364 1.118l1.07 3.292c.3.921-.755 1.688-1.54 1.118l-2.8-2.034a1 1 0 00-1.175 0l-2.8 2.034c-.784.57-1.838-.197-1.539-1.118l1.07-3.292a1 1 0 00-.364-1.118L2.98 8.72c-.783-.57-.38-1.81.588-1.81h3.461a1 1 0 00.951-.69l1.07-3.292z\"></path></svg><svg aria-hidden=\"true\" class=\"h-6 w-6 fill-warning-400\" viewbox=\"0 0 20 20\"><path d=\"M9.049 2.927c.3-.921 1.603-.921 1.902 0l1.07 3.292a1 1 0 00.95.69h3.462c.969 0 1.371 1.24.588 1.81l-2.8 2.034a1 1 0 00-.364 1.118l1.07 3.292c.3.921-.755 1.688-1.54 1.118l-2.8-2.034a1 1 0 00-1.175 0l-2.8 2.034c-.784.57-1.838-.197-1.539-1.118l1.07-3.292a1 1 0 00-.364-1.118L2.98 8.72c-.783-.57-.38-1.81.588-1.81h3.461a1 1 0 00.951-.69l1.07-3.292z\"></path></svg></div><p class=\"relative py-5 leading-7 xl:text-lg\"><q>In my experience, codedamn is an extremely effective tool for learning how to code. They provide a structured curriculum as well as many amazing projects. I'm becoming more productive and better at programming.</q></p></blockquote><figcaption class=\"border-t border-gray-400/20 pt-5 text-sm text-gray-600\"><div class=\"flex items-center justify-between\"><div class=\"ml-3\"><p class=\"font-semibold text-gray-700 group-hover:text-gray-900 xl:text-lg\">Bhumika Chauhan</p><p class=\"text-xs font-medium text-gray-500 group-hover:text-gray-600 xl:text-sm\">University Student, AKTU</p></div><div><img alt=\"Profile picture of Bhumika Chauhan\" class=\"inline-block h-9 w-9 rounded-full xl:h-11 xl:w-11\" data-nimg=\"1\" decoding=\"async\" height=\"36\" loading=\"lazy\" src=\"https://wsrv.nl/?url=https%3A%2F%2Fpbs.twimg.com%2Fprofile_images%2F1560181149347233792%2FW3b164H4_400x400.jpg&amp;w=72&amp;q=70&amp;output=webp\" srcset=\"https://wsrv.nl/?url=https%3A%2F%2Fpbs.twimg.com%2Fprofile_images%2F1560181149347233792%2FW3b164H4_400x400.jpg&amp;w=72&amp;q=70&amp;output=webp 1x, https://wsrv.nl/?url=https%3A%2F%2Fpbs.twimg.com%2Fprofile_images%2F1560181149347233792%2FW3b164H4_400x400.jpg&amp;w=72&amp;q=70&amp;output=webp 2x\" style=\"color:transparent\" width=\"36\"/></div></div></figcaption></figure><figure class=\"mx-[5vw] mb-4 flex min-w-[90vw] snap-center flex-col justify-between rounded-xl border border-gray-100 bg-white p-6 shadow-xl shadow-gray-900/10 md:mx-0 md:inline-block md:min-w-fit\"><blockquote class=\"relative text-gray-900\"><div class=\"flex\"><svg aria-hidden=\"true\" class=\"h-6 w-6 fill-warning-400\" viewbox=\"0 0 20 20\"><path d=\"M9.049 2.927c.3-.921 1.603-.921 1.902 0l1.07 3.292a1 1 0 00.95.69h3.462c.969 0 1.371 1.24.588 1.81l-2.8 2.034a1 1 0 00-.364 1.118l1.07 3.292c.3.921-.755 1.688-1.54 1.118l-2.8-2.034a1 1 0 00-1.175 0l-2.8 2.034c-.784.57-1.838-.197-1.539-1.118l1.07-3.292a1 1 0 00-.364-1.118L2.98 8.72c-.783-.57-.38-1.81.588-1.81h3.461a1 1 0 00.951-.69l1.07-3.292z\"></path></svg><svg aria-hidden=\"true\" class=\"h-6 w-6 fill-warning-400\" viewbox=\"0 0 20 20\"><path d=\"M9.049 2.927c.3-.921 1.603-.921 1.902 0l1.07 3.292a1 1 0 00.95.69h3.462c.969 0 1.371 1.24.588 1.81l-2.8 2.034a1 1 0 00-.364 1.118l1.07 3.292c.3.921-.755 1.688-1.54 1.118l-2.8-2.034a1 1 0 00-1.175 0l-2.8 2.034c-.784.57-1.838-.197-1.539-1.118l1.07-3.292a1 1 0 00-.364-1.118L2.98 8.72c-.783-.57-.38-1.81.588-1.81h3.461a1 1 0 00.951-.69l1.07-3.292z\"></path></svg><svg aria-hidden=\"true\" class=\"h-6 w-6 fill-warning-400\" viewbox=\"0 0 20 20\"><path d=\"M9.049 2.927c.3-.921 1.603-.921 1.902 0l1.07 3.292a1 1 0 00.95.69h3.462c.969 0 1.371 1.24.588 1.81l-2.8 2.034a1 1 0 00-.364 1.118l1.07 3.292c.3.921-.755 1.688-1.54 1.118l-2.8-2.034a1 1 0 00-1.175 0l-2.8 2.034c-.784.57-1.838-.197-1.539-1.118l1.07-3.292a1 1 0 00-.364-1.118L2.98 8.72c-.783-.57-.38-1.81.588-1.81h3.461a1 1 0 00.951-.69l1.07-3.292z\"></path></svg><svg aria-hidden=\"true\" class=\"h-6 w-6 fill-warning-400\" viewbox=\"0 0 20 20\"><path d=\"M9.049 2.927c.3-.921 1.603-.921 1.902 0l1.07 3.292a1 1 0 00.95.69h3.462c.969 0 1.371 1.24.588 1.81l-2.8 2.034a1 1 0 00-.364 1.118l1.07 3.292c.3.921-.755 1.688-1.54 1.118l-2.8-2.034a1 1 0 00-1.175 0l-2.8 2.034c-.784.57-1.838-.197-1.539-1.118l1.07-3.292a1 1 0 00-.364-1.118L2.98 8.72c-.783-.57-.38-1.81.588-1.81h3.461a1 1 0 00.951-.69l1.07-3.292z\"></path></svg><svg aria-hidden=\"true\" class=\"h-6 w-6 fill-warning-400\" viewbox=\"0 0 20 20\"><path d=\"M9.049 2.927c.3-.921 1.603-.921 1.902 0l1.07 3.292a1 1 0 00.95.69h3.462c.969 0 1.371 1.24.588 1.81l-2.8 2.034a1 1 0 00-.364 1.118l1.07 3.292c.3.921-.755 1.688-1.54 1.118l-2.8-2.034a1 1 0 00-1.175 0l-2.8 2.034c-.784.57-1.838-.197-1.539-1.118l1.07-3.292a1 1 0 00-.364-1.118L2.98 8.72c-.783-.57-.38-1.81.588-1.81h3.461a1 1 0 00.951-.69l1.07-3.292z\"></path></svg></div><p class=\"relative py-5 leading-7 xl:text-lg\"><q>I've had a great time making projects using codedamn playgrounds. I chose it because it was fast and free in comparison to other platforms I explored.</q></p></blockquote><figcaption class=\"border-t border-gray-400/20 pt-5 text-sm text-gray-600\"><div class=\"flex items-center justify-between\"><div class=\"ml-3\"><p class=\"font-semibold text-gray-700 group-hover:text-gray-900 xl:text-lg\">‍Aniket Saha</p><p class=\"text-xs font-medium text-gray-500 group-hover:text-gray-600 xl:text-sm\">University Student</p></div><div><img alt=\"Profile picture of ‍Aniket Saha\" class=\"inline-block h-9 w-9 rounded-full xl:h-11 xl:w-11\" data-nimg=\"1\" decoding=\"async\" height=\"36\" loading=\"lazy\" src=\"https://wsrv.nl/?url=https%3A%2F%2Fpbs.twimg.com%2Fprofile_images%2F1474785148784631810%2F-g7O0QUF_400x400.jpg&amp;w=72&amp;q=70&amp;output=webp\" srcset=\"https://wsrv.nl/?url=https%3A%2F%2Fpbs.twimg.com%2Fprofile_images%2F1474785148784631810%2F-g7O0QUF_400x400.jpg&amp;w=72&amp;q=70&amp;output=webp 1x, https://wsrv.nl/?url=https%3A%2F%2Fpbs.twimg.com%2Fprofile_images%2F1474785148784631810%2F-g7O0QUF_400x400.jpg&amp;w=72&amp;q=70&amp;output=webp 2x\" style=\"color:transparent\" width=\"36\"/></div></div></figcaption></figure><figure class=\"mx-[5vw] mb-4 flex min-w-[90vw] snap-center flex-col justify-between rounded-xl border border-gray-100 bg-white p-6 shadow-xl shadow-gray-900/10 md:mx-0 md:inline-block md:min-w-fit\"><blockquote class=\"relative text-gray-900\"><div class=\"flex\"><svg aria-hidden=\"true\" class=\"h-6 w-6 fill-warning-400\" viewbox=\"0 0 20 20\"><path d=\"M9.049 2.927c.3-.921 1.603-.921 1.902 0l1.07 3.292a1 1 0 00.95.69h3.462c.969 0 1.371 1.24.588 1.81l-2.8 2.034a1 1 0 00-.364 1.118l1.07 3.292c.3.921-.755 1.688-1.54 1.118l-2.8-2.034a1 1 0 00-1.175 0l-2.8 2.034c-.784.57-1.838-.197-1.539-1.118l1.07-3.292a1 1 0 00-.364-1.118L2.98 8.72c-.783-.57-.38-1.81.588-1.81h3.461a1 1 0 00.951-.69l1.07-3.292z\"></path></svg><svg aria-hidden=\"true\" class=\"h-6 w-6 fill-warning-400\" viewbox=\"0 0 20 20\"><path d=\"M9.049 2.927c.3-.921 1.603-.921 1.902 0l1.07 3.292a1 1 0 00.95.69h3.462c.969 0 1.371 1.24.588 1.81l-2.8 2.034a1 1 0 00-.364 1.118l1.07 3.292c.3.921-.755 1.688-1.54 1.118l-2.8-2.034a1 1 0 00-1.175 0l-2.8 2.034c-.784.57-1.838-.197-1.539-1.118l1.07-3.292a1 1 0 00-.364-1.118L2.98 8.72c-.783-.57-.38-1.81.588-1.81h3.461a1 1 0 00.951-.69l1.07-3.292z\"></path></svg><svg aria-hidden=\"true\" class=\"h-6 w-6 fill-warning-400\" viewbox=\"0 0 20 20\"><path d=\"M9.049 2.927c.3-.921 1.603-.921 1.902 0l1.07 3.292a1 1 0 00.95.69h3.462c.969 0 1.371 1.24.588 1.81l-2.8 2.034a1 1 0 00-.364 1.118l1.07 3.292c.3.921-.755 1.688-1.54 1.118l-2.8-2.034a1 1 0 00-1.175 0l-2.8 2.034c-.784.57-1.838-.197-1.539-1.118l1.07-3.292a1 1 0 00-.364-1.118L2.98 8.72c-.783-.57-.38-1.81.588-1.81h3.461a1 1 0 00.951-.69l1.07-3.292z\"></path></svg><svg aria-hidden=\"true\" class=\"h-6 w-6 fill-warning-400\" viewbox=\"0 0 20 20\"><path d=\"M9.049 2.927c.3-.921 1.603-.921 1.902 0l1.07 3.292a1 1 0 00.95.69h3.462c.969 0 1.371 1.24.588 1.81l-2.8 2.034a1 1 0 00-.364 1.118l1.07 3.292c.3.921-.755 1.688-1.54 1.118l-2.8-2.034a1 1 0 00-1.175 0l-2.8 2.034c-.784.57-1.838-.197-1.539-1.118l1.07-3.292a1 1 0 00-.364-1.118L2.98 8.72c-.783-.57-.38-1.81.588-1.81h3.461a1 1 0 00.951-.69l1.07-3.292z\"></path></svg><svg aria-hidden=\"true\" class=\"h-6 w-6 fill-warning-400\" viewbox=\"0 0 20 20\"><path d=\"M9.049 2.927c.3-.921 1.603-.921 1.902 0l1.07 3.292a1 1 0 00.95.69h3.462c.969 0 1.371 1.24.588 1.81l-2.8 2.034a1 1 0 00-.364 1.118l1.07 3.292c.3.921-.755 1.688-1.54 1.118l-2.8-2.034a1 1 0 00-1.175 0l-2.8 2.034c-.784.57-1.838-.197-1.539-1.118l1.07-3.292a1 1 0 00-.364-1.118L2.98 8.72c-.783-.57-.38-1.81.588-1.81h3.461a1 1 0 00.951-.69l1.07-3.292z\"></path></svg></div><p class=\"relative py-5 leading-7 xl:text-lg\"><q>I decided to learn on codedamn and have not regretted it at all! They have easy to follow videos that break down every concept. As someone who needs a bit longer time to process things, I appreciated this so much.</q></p></blockquote><figcaption class=\"border-t border-gray-400/20 pt-5 text-sm text-gray-600\"><div class=\"flex items-center justify-between\"><div class=\"ml-3\"><p class=\"font-semibold text-gray-700 group-hover:text-gray-900 xl:text-lg\">Sam</p><p class=\"text-xs font-medium text-gray-500 group-hover:text-gray-600 xl:text-sm\">Music marketing professional</p></div><div><img alt=\"Profile picture of Sam\" class=\"inline-block h-9 w-9 rounded-full xl:h-11 xl:w-11\" data-nimg=\"1\" decoding=\"async\" height=\"36\" loading=\"lazy\" src=\"https://wsrv.nl/?url=https%3A%2F%2Fpbs.twimg.com%2Fprofile_images%2F1618790588022935552%2FdxKFB3X7_400x400.jpg&amp;w=72&amp;q=70&amp;output=webp\" srcset=\"https://wsrv.nl/?url=https%3A%2F%2Fpbs.twimg.com%2Fprofile_images%2F1618790588022935552%2FdxKFB3X7_400x400.jpg&amp;w=72&amp;q=70&amp;output=webp 1x, https://wsrv.nl/?url=https%3A%2F%2Fpbs.twimg.com%2Fprofile_images%2F1618790588022935552%2FdxKFB3X7_400x400.jpg&amp;w=72&amp;q=70&amp;output=webp 2x\" style=\"color:transparent\" width=\"36\"/></div></div></figcaption></figure><figure class=\"mx-[5vw] mb-4 flex min-w-[90vw] snap-center flex-col justify-between rounded-xl border border-gray-100 bg-white p-6 shadow-xl shadow-gray-900/10 md:mx-0 md:inline-block md:min-w-fit\"><blockquote class=\"relative text-gray-900\"><div class=\"flex\"><svg aria-hidden=\"true\" class=\"h-6 w-6 fill-warning-400\" viewbox=\"0 0 20 20\"><path d=\"M9.049 2.927c.3-.921 1.603-.921 1.902 0l1.07 3.292a1 1 0 00.95.69h3.462c.969 0 1.371 1.24.588 1.81l-2.8 2.034a1 1 0 00-.364 1.118l1.07 3.292c.3.921-.755 1.688-1.54 1.118l-2.8-2.034a1 1 0 00-1.175 0l-2.8 2.034c-.784.57-1.838-.197-1.539-1.118l1.07-3.292a1 1 0 00-.364-1.118L2.98 8.72c-.783-.57-.38-1.81.588-1.81h3.461a1 1 0 00.951-.69l1.07-3.292z\"></path></svg><svg aria-hidden=\"true\" class=\"h-6 w-6 fill-warning-400\" viewbox=\"0 0 20 20\"><path d=\"M9.049 2.927c.3-.921 1.603-.921 1.902 0l1.07 3.292a1 1 0 00.95.69h3.462c.969 0 1.371 1.24.588 1.81l-2.8 2.034a1 1 0 00-.364 1.118l1.07 3.292c.3.921-.755 1.688-1.54 1.118l-2.8-2.034a1 1 0 00-1.175 0l-2.8 2.034c-.784.57-1.838-.197-1.539-1.118l1.07-3.292a1 1 0 00-.364-1.118L2.98 8.72c-.783-.57-.38-1.81.588-1.81h3.461a1 1 0 00.951-.69l1.07-3.292z\"></path></svg><svg aria-hidden=\"true\" class=\"h-6 w-6 fill-warning-400\" viewbox=\"0 0 20 20\"><path d=\"M9.049 2.927c.3-.921 1.603-.921 1.902 0l1.07 3.292a1 1 0 00.95.69h3.462c.969 0 1.371 1.24.588 1.81l-2.8 2.034a1 1 0 00-.364 1.118l1.07 3.292c.3.921-.755 1.688-1.54 1.118l-2.8-2.034a1 1 0 00-1.175 0l-2.8 2.034c-.784.57-1.838-.197-1.539-1.118l1.07-3.292a1 1 0 00-.364-1.118L2.98 8.72c-.783-.57-.38-1.81.588-1.81h3.461a1 1 0 00.951-.69l1.07-3.292z\"></path></svg><svg aria-hidden=\"true\" class=\"h-6 w-6 fill-warning-400\" viewbox=\"0 0 20 20\"><path d=\"M9.049 2.927c.3-.921 1.603-.921 1.902 0l1.07 3.292a1 1 0 00.95.69h3.462c.969 0 1.371 1.24.588 1.81l-2.8 2.034a1 1 0 00-.364 1.118l1.07 3.292c.3.921-.755 1.688-1.54 1.118l-2.8-2.034a1 1 0 00-1.175 0l-2.8 2.034c-.784.57-1.838-.197-1.539-1.118l1.07-3.292a1 1 0 00-.364-1.118L2.98 8.72c-.783-.57-.38-1.81.588-1.81h3.461a1 1 0 00.951-.69l1.07-3.292z\"></path></svg><svg aria-hidden=\"true\" class=\"h-6 w-6 fill-warning-400\" viewbox=\"0 0 20 20\"><path d=\"M9.049 2.927c.3-.921 1.603-.921 1.902 0l1.07 3.292a1 1 0 00.95.69h3.462c.969 0 1.371 1.24.588 1.81l-2.8 2.034a1 1 0 00-.364 1.118l1.07 3.292c.3.921-.755 1.688-1.54 1.118l-2.8-2.034a1 1 0 00-1.175 0l-2.8 2.034c-.784.57-1.838-.197-1.539-1.118l1.07-3.292a1 1 0 00-.364-1.118L2.98 8.72c-.783-.57-.38-1.81.588-1.81h3.461a1 1 0 00.951-.69l1.07-3.292z\"></path></svg></div><p class=\"relative py-5 leading-7 xl:text-lg\"><q>Codedamn has many roadmaps you can explore to learn how to code and build skills as a dev. It’s very well structured and the Pro version is pretty affordable as well, giving you unlimited access to all the features.</q></p></blockquote><figcaption class=\"border-t border-gray-400/20 pt-5 text-sm text-gray-600\"><div class=\"flex items-center justify-between\"><div class=\"ml-3\"><p class=\"font-semibold text-gray-700 group-hover:text-gray-900 xl:text-lg\">gayboredape.eth</p><p class=\"text-xs font-medium text-gray-500 group-hover:text-gray-600 xl:text-sm\">Founder ABY, Blockchain enthusiast</p></div><div><img alt=\"Profile picture of gayboredape.eth\" class=\"inline-block h-9 w-9 rounded-full xl:h-11 xl:w-11\" data-nimg=\"1\" decoding=\"async\" height=\"36\" loading=\"lazy\" src=\"https://wsrv.nl/?url=https%3A%2F%2Fpbs.twimg.com%2Fprofile_images%2F1611916843194662912%2FYpsQHaQ6_400x400.jpg&amp;w=72&amp;q=70&amp;output=webp\" srcset=\"https://wsrv.nl/?url=https%3A%2F%2Fpbs.twimg.com%2Fprofile_images%2F1611916843194662912%2FYpsQHaQ6_400x400.jpg&amp;w=72&amp;q=70&amp;output=webp 1x, https://wsrv.nl/?url=https%3A%2F%2Fpbs.twimg.com%2Fprofile_images%2F1611916843194662912%2FYpsQHaQ6_400x400.jpg&amp;w=72&amp;q=70&amp;output=webp 2x\" style=\"color:transparent\" width=\"36\"/></div></div></figcaption></figure><figure class=\"mx-[5vw] mb-4 flex min-w-[90vw] snap-center flex-col justify-between rounded-xl border border-gray-100 bg-white p-6 shadow-xl shadow-gray-900/10 md:mx-0 md:inline-block md:min-w-fit\"><blockquote class=\"relative text-gray-900\"><div class=\"flex\"><svg aria-hidden=\"true\" class=\"h-6 w-6 fill-warning-400\" viewbox=\"0 0 20 20\"><path d=\"M9.049 2.927c.3-.921 1.603-.921 1.902 0l1.07 3.292a1 1 0 00.95.69h3.462c.969 0 1.371 1.24.588 1.81l-2.8 2.034a1 1 0 00-.364 1.118l1.07 3.292c.3.921-.755 1.688-1.54 1.118l-2.8-2.034a1 1 0 00-1.175 0l-2.8 2.034c-.784.57-1.838-.197-1.539-1.118l1.07-3.292a1 1 0 00-.364-1.118L2.98 8.72c-.783-.57-.38-1.81.588-1.81h3.461a1 1 0 00.951-.69l1.07-3.292z\"></path></svg><svg aria-hidden=\"true\" class=\"h-6 w-6 fill-warning-400\" viewbox=\"0 0 20 20\"><path d=\"M9.049 2.927c.3-.921 1.603-.921 1.902 0l1.07 3.292a1 1 0 00.95.69h3.462c.969 0 1.371 1.24.588 1.81l-2.8 2.034a1 1 0 00-.364 1.118l1.07 3.292c.3.921-.755 1.688-1.54 1.118l-2.8-2.034a1 1 0 00-1.175 0l-2.8 2.034c-.784.57-1.838-.197-1.539-1.118l1.07-3.292a1 1 0 00-.364-1.118L2.98 8.72c-.783-.57-.38-1.81.588-1.81h3.461a1 1 0 00.951-.69l1.07-3.292z\"></path></svg><svg aria-hidden=\"true\" class=\"h-6 w-6 fill-warning-400\" viewbox=\"0 0 20 20\"><path d=\"M9.049 2.927c.3-.921 1.603-.921 1.902 0l1.07 3.292a1 1 0 00.95.69h3.462c.969 0 1.371 1.24.588 1.81l-2.8 2.034a1 1 0 00-.364 1.118l1.07 3.292c.3.921-.755 1.688-1.54 1.118l-2.8-2.034a1 1 0 00-1.175 0l-2.8 2.034c-.784.57-1.838-.197-1.539-1.118l1.07-3.292a1 1 0 00-.364-1.118L2.98 8.72c-.783-.57-.38-1.81.588-1.81h3.461a1 1 0 00.951-.69l1.07-3.292z\"></path></svg><svg aria-hidden=\"true\" class=\"h-6 w-6 fill-warning-400\" viewbox=\"0 0 20 20\"><path d=\"M9.049 2.927c.3-.921 1.603-.921 1.902 0l1.07 3.292a1 1 0 00.95.69h3.462c.969 0 1.371 1.24.588 1.81l-2.8 2.034a1 1 0 00-.364 1.118l1.07 3.292c.3.921-.755 1.688-1.54 1.118l-2.8-2.034a1 1 0 00-1.175 0l-2.8 2.034c-.784.57-1.838-.197-1.539-1.118l1.07-3.292a1 1 0 00-.364-1.118L2.98 8.72c-.783-.57-.38-1.81.588-1.81h3.461a1 1 0 00.951-.69l1.07-3.292z\"></path></svg><svg aria-hidden=\"true\" class=\"h-6 w-6 fill-warning-400\" viewbox=\"0 0 20 20\"><path d=\"M9.049 2.927c.3-.921 1.603-.921 1.902 0l1.07 3.292a1 1 0 00.95.69h3.462c.969 0 1.371 1.24.588 1.81l-2.8 2.034a1 1 0 00-.364 1.118l1.07 3.292c.3.921-.755 1.688-1.54 1.118l-2.8-2.034a1 1 0 00-1.175 0l-2.8 2.034c-.784.57-1.838-.197-1.539-1.118l1.07-3.292a1 1 0 00-.364-1.118L2.98 8.72c-.783-.57-.38-1.81.588-1.81h3.461a1 1 0 00.951-.69l1.07-3.292z\"></path></svg></div><p class=\"relative py-5 leading-7 xl:text-lg\"><q>I feel codedamn has high potential and they provide free learning material. Mehul has done a great job by founding such a good platform.</q></p></blockquote><figcaption class=\"border-t border-gray-400/20 pt-5 text-sm text-gray-600\"><div class=\"flex items-center justify-between\"><div class=\"ml-3\"><p class=\"font-semibold text-gray-700 group-hover:text-gray-900 xl:text-lg\">Muralidhara Bhat</p><p class=\"text-xs font-medium text-gray-500 group-hover:text-gray-600 xl:text-sm\">University Student</p></div><div><img alt=\"Profile picture of Muralidhara Bhat\" class=\"inline-block h-9 w-9 rounded-full xl:h-11 xl:w-11\" data-nimg=\"1\" decoding=\"async\" height=\"36\" loading=\"lazy\" src=\"https://wsrv.nl/?url=https%3A%2F%2Fpbs.twimg.com%2Fprofile_images%2F1267856067293089792%2FFUPKERSJ_400x400.jpg&amp;w=72&amp;q=70&amp;output=webp\" srcset=\"https://wsrv.nl/?url=https%3A%2F%2Fpbs.twimg.com%2Fprofile_images%2F1267856067293089792%2FFUPKERSJ_400x400.jpg&amp;w=72&amp;q=70&amp;output=webp 1x, https://wsrv.nl/?url=https%3A%2F%2Fpbs.twimg.com%2Fprofile_images%2F1267856067293089792%2FFUPKERSJ_400x400.jpg&amp;w=72&amp;q=70&amp;output=webp 2x\" style=\"color:transparent\" width=\"36\"/></div></div></figcaption></figure><div class=\"flex\"><figure class=\"mx-[5vw] mb-4 flex min-w-[90vw] snap-center flex-col justify-between rounded-xl border border-gray-100 bg-white p-6 shadow-xl shadow-gray-900/10 md:mx-0 md:inline-block md:min-w-fit\"><blockquote class=\"relative text-gray-900\"><div class=\"flex\"><svg aria-hidden=\"true\" class=\"h-6 w-6 fill-warning-400\" viewbox=\"0 0 20 20\"><path d=\"M9.049 2.927c.3-.921 1.603-.921 1.902 0l1.07 3.292a1 1 0 00.95.69h3.462c.969 0 1.371 1.24.588 1.81l-2.8 2.034a1 1 0 00-.364 1.118l1.07 3.292c.3.921-.755 1.688-1.54 1.118l-2.8-2.034a1 1 0 00-1.175 0l-2.8 2.034c-.784.57-1.838-.197-1.539-1.118l1.07-3.292a1 1 0 00-.364-1.118L2.98 8.72c-.783-.57-.38-1.81.588-1.81h3.461a1 1 0 00.951-.69l1.07-3.292z\"></path></svg><svg aria-hidden=\"true\" class=\"h-6 w-6 fill-warning-400\" viewbox=\"0 0 20 20\"><path d=\"M9.049 2.927c.3-.921 1.603-.921 1.902 0l1.07 3.292a1 1 0 00.95.69h3.462c.969 0 1.371 1.24.588 1.81l-2.8 2.034a1 1 0 00-.364 1.118l1.07 3.292c.3.921-.755 1.688-1.54 1.118l-2.8-2.034a1 1 0 00-1.175 0l-2.8 2.034c-.784.57-1.838-.197-1.539-1.118l1.07-3.292a1 1 0 00-.364-1.118L2.98 8.72c-.783-.57-.38-1.81.588-1.81h3.461a1 1 0 00.951-.69l1.07-3.292z\"></path></svg><svg aria-hidden=\"true\" class=\"h-6 w-6 fill-warning-400\" viewbox=\"0 0 20 20\"><path d=\"M9.049 2.927c.3-.921 1.603-.921 1.902 0l1.07 3.292a1 1 0 00.95.69h3.462c.969 0 1.371 1.24.588 1.81l-2.8 2.034a1 1 0 00-.364 1.118l1.07 3.292c.3.921-.755 1.688-1.54 1.118l-2.8-2.034a1 1 0 00-1.175 0l-2.8 2.034c-.784.57-1.838-.197-1.539-1.118l1.07-3.292a1 1 0 00-.364-1.118L2.98 8.72c-.783-.57-.38-1.81.588-1.81h3.461a1 1 0 00.951-.69l1.07-3.292z\"></path></svg><svg aria-hidden=\"true\" class=\"h-6 w-6 fill-warning-400\" viewbox=\"0 0 20 20\"><path d=\"M9.049 2.927c.3-.921 1.603-.921 1.902 0l1.07 3.292a1 1 0 00.95.69h3.462c.969 0 1.371 1.24.588 1.81l-2.8 2.034a1 1 0 00-.364 1.118l1.07 3.292c.3.921-.755 1.688-1.54 1.118l-2.8-2.034a1 1 0 00-1.175 0l-2.8 2.034c-.784.57-1.838-.197-1.539-1.118l1.07-3.292a1 1 0 00-.364-1.118L2.98 8.72c-.783-.57-.38-1.81.588-1.81h3.461a1 1 0 00.951-.69l1.07-3.292z\"></path></svg><svg aria-hidden=\"true\" class=\"h-6 w-6 fill-warning-400\" viewbox=\"0 0 20 20\"><path d=\"M9.049 2.927c.3-.921 1.603-.921 1.902 0l1.07 3.292a1 1 0 00.95.69h3.462c.969 0 1.371 1.24.588 1.81l-2.8 2.034a1 1 0 00-.364 1.118l1.07 3.292c.3.921-.755 1.688-1.54 1.118l-2.8-2.034a1 1 0 00-1.175 0l-2.8 2.034c-.784.57-1.838-.197-1.539-1.118l1.07-3.292a1 1 0 00-.364-1.118L2.98 8.72c-.783-.57-.38-1.81.588-1.81h3.461a1 1 0 00.951-.69l1.07-3.292z\"></path></svg></div><p class=\"relative py-5 leading-7 xl:text-lg\"><q>Courses on codedamn are really beginner-friendly and the exercises are great for practicing as you learn.</q></p></blockquote><figcaption class=\"border-t border-gray-400/20 pt-5 text-sm text-gray-600\"><div class=\"flex items-center justify-between\"><div class=\"ml-3\"><p class=\"font-semibold text-gray-700 group-hover:text-gray-900 xl:text-lg\">Anurag Srivastava</p><p class=\"text-xs font-medium text-gray-500 group-hover:text-gray-600 xl:text-sm\">University Student, KIIT</p></div><div><img alt=\"Profile picture of Anurag Srivastava\" class=\"inline-block h-9 w-9 rounded-full xl:h-11 xl:w-11\" data-nimg=\"1\" decoding=\"async\" height=\"36\" loading=\"lazy\" src=\"https://wsrv.nl/?url=https%3A%2F%2Fpbs.twimg.com%2Fprofile_images%2F1307433401314541568%2FRunEXN2U_400x400.jpg&amp;w=72&amp;q=70&amp;output=webp\" srcset=\"https://wsrv.nl/?url=https%3A%2F%2Fpbs.twimg.com%2Fprofile_images%2F1307433401314541568%2FRunEXN2U_400x400.jpg&amp;w=72&amp;q=70&amp;output=webp 1x, https://wsrv.nl/?url=https%3A%2F%2Fpbs.twimg.com%2Fprofile_images%2F1307433401314541568%2FRunEXN2U_400x400.jpg&amp;w=72&amp;q=70&amp;output=webp 2x\" style=\"color:transparent\" width=\"36\"/></div></div></figcaption></figure></div></div></div></section><section class=\"relative overflow-hidden border-t border-gray-200 bg-white sm:bg-gray-50/75 md:border-y\" id=\"register\"><div class=\"absolute inset-0 z-10 flex animate-[dim-opacity-start_8s_linear_infinite] items-center justify-center overflow-hidden will-change-[opacity]\" data-id=\"css-animation\"><img alt=\"Indigo gradient background\" class=\"mx-auto aspect-[1155/678] h-auto w-full max-w-screen-2xl\" data-nimg=\"1\" decoding=\"async\" height=\"864\" loading=\"lazy\" src=\"https://wsrv.nl/?url=https%3A%2F%2Fcodedamn.com%2Fassets%2Flanding-page-assets%2FLearnBlurBg.png&amp;w=1536&amp;q=70&amp;output=webp\" srcset=\"https://wsrv.nl/?url=https%3A%2F%2Fcodedamn.com%2Fassets%2Flanding-page-assets%2FLearnBlurBg.png&amp;w=1536&amp;q=70&amp;output=webp 1x, https://wsrv.nl/?url=https%3A%2F%2Fcodedamn.com%2Fassets%2Flanding-page-assets%2FLearnBlurBg.png&amp;w=1536&amp;q=70&amp;output=webp 2x\" style=\"color:transparent\" width=\"1536\"/></div><div class=\"absolute inset-0 z-10 flex animate-[dim-opacity-mid_8s_linear_infinite] items-center justify-center overflow-hidden will-change-[opacity]\" data-id=\"css-animation\"><img alt=\"Indigo gradient background\" class=\"mx-auto aspect-[1155/678] h-auto w-full max-w-screen-2xl\" data-nimg=\"1\" decoding=\"async\" height=\"864\" loading=\"lazy\" src=\"https://wsrv.nl/?url=https%3A%2F%2Fcodedamn.com%2Fassets%2Flanding-page-assets%2FApplyBlurBg.png&amp;w=1536&amp;q=70&amp;output=webp\" srcset=\"https://wsrv.nl/?url=https%3A%2F%2Fcodedamn.com%2Fassets%2Flanding-page-assets%2FApplyBlurBg.png&amp;w=1536&amp;q=70&amp;output=webp 1x, https://wsrv.nl/?url=https%3A%2F%2Fcodedamn.com%2Fassets%2Flanding-page-assets%2FApplyBlurBg.png&amp;w=1536&amp;q=70&amp;output=webp 2x\" style=\"color:transparent\" width=\"1536\"/></div><div class=\"absolute inset-0 z-10 flex animate-[dim-opacity-end_8s_linear_infinite] items-center justify-center overflow-hidden will-change-[opacity]\" data-id=\"css-animation\"><img alt=\"Indigo gradient background\" class=\"mx-auto aspect-[1155/678] h-auto w-full max-w-screen-2xl\" data-nimg=\"1\" decoding=\"async\" height=\"864\" loading=\"lazy\" src=\"https://wsrv.nl/?url=https%3A%2F%2Fcodedamn.com%2Fassets%2Flanding-page-assets%2FGrowBlurBg.png&amp;w=1536&amp;q=70&amp;output=webp\" srcset=\"https://wsrv.nl/?url=https%3A%2F%2Fcodedamn.com%2Fassets%2Flanding-page-assets%2FGrowBlurBg.png&amp;w=1536&amp;q=70&amp;output=webp 1x, https://wsrv.nl/?url=https%3A%2F%2Fcodedamn.com%2Fassets%2Flanding-page-assets%2FGrowBlurBg.png&amp;w=1536&amp;q=70&amp;output=webp 2x\" style=\"color:transparent\" width=\"1536\"/></div><div class=\"relative z-20 pt-12 sm:px-6 md:pb-12 md:pt-20\"><h4 class=\"mb-8 w-full px-4 text-center text-sm font-bold uppercase leading-relaxed tracking-widest text-gray-500 sm:text-base lg:mb-16\">begin your journey with codedamn</h4><span class=\"flex items-center justify-center gap-4 lg:hidden\"><h3 class=\"relative block text-3xl font-bold uppercase tracking-tight before:absolute before:inset-0 before:z-0 before:block before:w-full before:animate-[dim-opacity-inverted-start_8s_linear_infinite] before:text-gray-600 before:will-change-[opacity] before:content-['Learn']\" data-id=\"css-animation\"><span class=\"relative z-10 animate-[dim-opacity-start_8s_linear_infinite] bg-gradient-to-r from-primary-600 to-purple-400 bg-clip-text text-transparent will-change-[opacity]\" data-id=\"css-animation\">Learn</span></h3><h3 class=\"relative block text-3xl font-bold uppercase tracking-tight before:absolute before:inset-0 before:z-0 before:block before:w-full before:animate-[dim-opacity-inverted-mid_8s_linear_infinite] before:text-gray-600 before:will-change-[opacity] before:content-['Apply']\" data-id=\"css-animation\"><span class=\"relative z-10 animate-[dim-opacity-mid_8s_linear_infinite] bg-gradient-to-r from-secondary-600 to-cyan-400 bg-clip-text text-transparent will-change-[opacity]\" data-id=\"css-animation\">Apply</span></h3><h3 class=\"relative block text-3xl font-bold uppercase tracking-tight before:absolute before:inset-0 before:z-0 before:block before:w-full before:animate-[dim-opacity-inverted-end_8s_linear_infinite] before:text-gray-600 before:will-change-[opacity] before:content-['Grow']\" data-id=\"css-animation\"><span class=\"relative z-10 animate-[dim-opacity-end_8s_linear_infinite] bg-gradient-to-r from-success-600 to-success-400 bg-clip-text text-transparent will-change-[opacity]\" data-id=\"css-animation\">Grow</span></h3></span><div class=\"mx-auto my-8 sm:mt-12 sm:max-w-xl lg:my-16 lg:mt-0 lg:flex lg:max-w-6xl lg:flex-row-reverse lg:items-center\"><div class=\"relative z-10 p-px ring-1 ring-slate-900/10 sm:rounded-xl lg:w-1/2 lg:flex-none lg:-translate-x-5\"><div class=\"relative z-10 flex min-h-[448px] items-center justify-center bg-white px-6 pb-6 pt-8 sm:rounded-xl sm:px-10\"><div class=\"flex w-full max-w-sm flex-col gap-4\"><button class=\"inline-flex items-center justify-center rounded-md border border-gray-300 bg-gray-50 px-6 py-3 text-base font-medium shadow-sm hover:bg-gray-100 focus:outline-none focus:ring-2 focus:ring-primary-500 focus:ring-offset-2\" type=\"button\"><svg aria-hidden=\"true\" class=\"-ml-1 mr-3 h-5 w-5\" preserveaspectratio=\"xMidYMid\" viewbox=\"0 0 256 262\"><path d=\"M256 133c0-10-1-18-3-26H131v48h71c-1 12-9 30-26 43v1l38 30h3c25-22 39-56 39-96\" fill=\"#4285F4\"></path><path d=\"M131 261c35 0 64-12 86-32l-41-31a80 80 0 0 1-120-42l-1 1-41 31v1c21 43 65 72 117 72\" fill=\"#34A853\"></path><path d=\"M56 156a80 80 0 0 1 0-51v-2L15 71l-1 1a131 131 0 0 0 0 117l42-33\" fill=\"#FBBC05\"></path><path d=\"M131 50c24 0 41 11 50 20l37-36A130 130 0 0 0 14 72l42 33c11-32 40-55 75-55\" fill=\"#EB4335\"></path></svg>Continue with Google</button><button class=\"inline-flex items-center justify-center rounded-md border border-gray-900 bg-gray-800 px-6 py-3 text-base font-medium text-white shadow-sm hover:bg-gray-900 focus:outline-none focus:ring-2 focus:ring-primary-500 focus:ring-offset-2\" type=\"button\"><svg class=\"-ml-1 mr-3 h-5 w-5\" preserveaspectratio=\"xMidYMid\" viewbox=\"0 0 256 250\"><path d=\"M128 0a128 128 0 0 0-40 249c6 2 8-2 8-6v-24c-36 8-43-15-43-15-6-14-14-18-14-18-12-8 1-8 1-8 12 1 19 13 19 13 12 20 30 14 38 11 1-9 4-14 8-17-29-4-59-15-59-64 0-14 5-25 14-34-2-3-6-16 1-34 0 0 11-3 35 13a123 123 0 0 1 64 0c24-16 35-13 35-13 7 18 3 31 1 34 9 9 14 20 14 34 0 49-30 60-59 63 5 4 9 12 9 24v35c0 4 2 8 9 6A128 128 0 0 0 128 0zM48 182l-2 1-1-2 2-1 1 2zm6 6-2-1-1-2h3v3zm5 7c-1 1-3 0-3-1v-3c1-1 2 0 3 1v3zm7 8h-3c-2-1-2-3-1-3h3l1 3zm9 3c0 1-1 2-3 1l-2-2c0-1 2-2 3-1 2 0 3 1 2 2zm11 1c0 2-1 2-3 2l-2-1c0-2 1-2 2-2l3 1zm11 0c0 1-1 2-3 2-1 1-3 0-3-1s1-2 3-2c1-1 2 0 3 1z\" fill=\"#FFF\"></path></svg>Continue with GitHub</button><div class=\"relative my-2\"><div aria-hidden=\"true\" class=\"absolute inset-0 flex items-center\"><div class=\"w-full border-t border-gray-300\"></div></div><div class=\"relative flex justify-center text-sm\"><span class=\"rounded-full bg-white/80 px-2 text-gray-500\">or register with email</span></div></div><form class=\"flex w-full flex-col gap-4\"><div class=\"relative mt-1 rounded-md shadow-sm\"><input class=\"block w-full rounded-md border-gray-300 shadow-sm focus:border-primary-500 focus:ring-primary-500\" id=\"email\" name=\"email\" placeholder=\"Your email here\" required=\"\" type=\"email\" value=\"\"/></div><button class=\"inline-flex items-center justify-center rounded-md border border-transparent bg-primary-600 px-6 py-2.5 text-base font-medium text-white shadow-sm hover:bg-primary-900 focus:outline-none focus:ring-2 focus:ring-primary-500 focus:ring-offset-2\" type=\"submit\"><svg aria-hidden=\"true\" class=\"-ml-0.5 mr-2.5 h-5 w-5\" fill=\"currentColor\" height=\"1em\" stroke=\"currentColor\" stroke-width=\"0\" viewbox=\"0 0 16 16\" width=\"1em\" xmlns=\"http://www.w3.org/2000/svg\"><path d=\"M.05 3.555A2 2 0 0 1 2 2h12a2 2 0 0 1 1.95 1.555L8 8.414.05 3.555ZM0 4.697v7.104l5.803-3.558L0 4.697ZM6.761 8.83l-6.57 4.027A2 2 0 0 0 2 14h12a2 2 0 0 0 1.808-1.144l-6.57-4.027L8 9.586l-1.239-.757Zm3.436-.586L16 11.801V4.697l-5.803 3.546Z\"></path></svg>Continue with Email</button></form></div></div></div><div class=\"relative mt-10 hidden translate-x-5 bg-white bg-opacity-75 bg-clip-padding lg:mt-0 lg:block lg:w-1/2 lg:flex-none\"><div class=\"absolute -inset-y-8 -left-2 w-px bg-primary-900/20 [mask-image:linear-gradient(to_top,transparent,white_4rem,white_calc(100%-4rem),transparent)] sm:left-0\"></div><div class=\"absolute -inset-y-8 -right-2 w-px bg-primary-900/20 [mask-image:linear-gradient(to_top,transparent,white_4rem,white_calc(100%-4rem),transparent)] sm:right-0 lg:hidden\"></div><div class=\"absolute -inset-x-8 top-0 h-px bg-primary-900/20 [mask-image:linear-gradient(to_right,transparent,white_4rem,white_calc(100%-4rem),transparent)]\"></div><div class=\"absolute -inset-x-8 bottom-0 h-px bg-primary-900/20 [mask-image:linear-gradient(to_right,transparent,white_4rem,white_calc(100%-4rem),transparent)]\"></div><ul><li class=\"relative px-2 py-6 sm:px-10\"><h3 class=\"relative mb-2 block text-3xl font-bold uppercase tracking-tight before:absolute before:inset-0 before:z-0 before:block before:w-full before:animate-[dim-opacity-inverted-start_8s_linear_infinite] before:text-gray-600 before:will-change-[opacity] before:content-['Learn']\" data-id=\"css-animation\"><span class=\"relative z-10 animate-[dim-opacity-start_8s_linear_infinite] bg-gradient-to-r from-primary-600 to-purple-400 bg-clip-text text-transparent will-change-[opacity]\" data-id=\"css-animation\">Learn</span></h3><p class=\"leading-6 text-gray-600\">Get access to 100+ courses from renowned instructors.</p></li><li class=\"relative px-2 py-6 sm:px-10\"><div class=\"absolute -inset-x-8 top-0 h-px bg-primary-900/20 [mask-image:linear-gradient(to_right,transparent,white_4rem,white_calc(100%-4rem),transparent)]\"></div><h3 class=\"relative mb-2 block text-3xl font-bold uppercase tracking-tight before:absolute before:inset-0 before:z-0 before:block before:w-full before:animate-[dim-opacity-inverted-mid_8s_linear_infinite] before:text-gray-600 before:will-change-[opacity] before:content-['Apply']\" data-id=\"css-animation\"><span class=\"relative z-10 animate-[dim-opacity-mid_8s_linear_infinite] bg-gradient-to-r from-secondary-600 to-cyan-400 bg-clip-text text-transparent will-change-[opacity]\" data-id=\"css-animation\">Apply</span></h3><p class=\"leading-6 text-gray-600\">Build projects and boot playgrounds, all within your browser.</p></li><li class=\"relative px-2 py-6 sm:px-10\"><div class=\"absolute -inset-x-8 top-0 h-px bg-primary-900/20 [mask-image:linear-gradient(to_right,transparent,white_4rem,white_calc(100%-4rem),transparent)]\"></div><h3 class=\"relative mb-2 block text-3xl font-bold uppercase tracking-tight before:absolute before:inset-0 before:z-0 before:block before:w-full before:animate-[dim-opacity-inverted-end_8s_linear_infinite] before:text-gray-600 before:will-change-[opacity] before:content-['Grow']\" data-id=\"css-animation\"><span class=\"relative z-10 animate-[dim-opacity-end_8s_linear_infinite] bg-gradient-to-r from-success-600 to-success-400 bg-clip-text text-transparent will-change-[opacity]\" data-id=\"css-animation\">Grow</span></h3><p class=\"leading-6 text-gray-600\">Upskill yourself with codedamn and land your dream job.</p></li></ul></div></div></div></section><section class=\"relative overflow-hidden bg-white pb-24 pt-12 md:pt-24\"><img alt=\"bg\" class=\"absolute -top-[1rem] left-1/2 -ml-[40rem] w-[163.125rem] max-w-none opacity-40 sm:-ml-[67.5rem]\" data-nimg=\"1\" decoding=\"async\" height=\"1305\" loading=\"lazy\" src=\"https://wsrv.nl/?url=https%3A%2F%2Fcodedamn.com%2Fassets%2Flanding-page-assets%2Fbeams.jpeg&amp;w=2610&amp;q=70&amp;output=webp\" srcset=\"https://wsrv.nl/?url=https%3A%2F%2Fcodedamn.com%2Fassets%2Flanding-page-assets%2Fbeams.jpeg&amp;w=2610&amp;q=70&amp;output=webp 1x\" style=\"color:transparent\" width=\"2610\"/><div class=\"relative z-10 mx-auto max-w-screen-2xl overflow-hidden\"><div class=\"grid grid-cols-1 gap-x-8 gap-y-16 px-6 sm:gap-y-20 lg:grid-cols-2 lg:items-start\"><div class=\"relative order-2 mx-auto flex h-full w-full max-w-4xl items-center justify-center lg:order-1\"><div class=\"absolute inset-0 h-full w-full rounded-full border border-x-2 border-gray-200 border-x-gray-300/75 p-[10%] [mask-image:linear-gradient(to_bottom,white_30%,transparent_90%)]\"><div class=\"h-full w-full rounded-full border border-x-2 border-gray-200 border-x-gray-300/75 p-[12.25%]\"><div class=\"h-full w-full rounded-full border border-l-2 border-gray-200 border-l-gray-300/75\"></div></div></div><img alt=\"Mockup of iphone showcasing the codedamn app\" class=\"relative z-10 aspect-1 w-full\" data-nimg=\"1\" decoding=\"async\" height=\"900\" loading=\"lazy\" src=\"https://wsrv.nl/?url=https%3A%2F%2Fcodedamn.com%2Fassets%2Flanding-page-assets%2Fmobile-mock.png&amp;w=900&amp;q=70&amp;output=webp\" srcset=\"https://wsrv.nl/?url=https%3A%2F%2Fcodedamn.com%2Fassets%2Flanding-page-assets%2Fmobile-mock.png&amp;w=900&amp;q=70&amp;output=webp 1x, https://wsrv.nl/?url=https%3A%2F%2Fcodedamn.com%2Fassets%2Flanding-page-assets%2Fmobile-mock.png&amp;w=900&amp;q=70&amp;output=webp 2x\" style=\"color:transparent\" width=\"900\"/></div><div class=\"order-1 flex h-full items-center justify-center lg:order-2 lg:pr-4 lg:pt-4\"><div class=\"mx-auto max-w-2xl text-center lg:mx-0 lg:max-w-lg lg:text-left\"><h3 class=\"mt-2 text-3xl font-bold tracking-tight text-gray-900 sm:text-4xl\">All of codedamn at your fingertips.</h3><p class=\"mt-6 text-lg leading-8 text-gray-600\">Codedamn’s mobile app keeps you connected to your progress and enables learning programming on-the-go from anywhere around the globe.</p><div class=\"mt-12 flex justify-center gap-4 lg:justify-start\"><img alt=\"App download QR code\" class=\"hidden aspect-1 w-28 sm:block\" data-nimg=\"1\" decoding=\"async\" height=\"256\" loading=\"lazy\" src=\"https://wsrv.nl/?url=https%3A%2F%2Fcodedamn-website-assets.s3.us-east-1.amazonaws.com%2Fuploads%2Fxub_CMyvjKT0bfZ-oJYJd%2Fqr.png&amp;w=512&amp;q=70&amp;output=webp\" srcset=\"https://wsrv.nl/?url=https%3A%2F%2Fcodedamn-website-assets.s3.us-east-1.amazonaws.com%2Fuploads%2Fxub_CMyvjKT0bfZ-oJYJd%2Fqr.png&amp;w=512&amp;q=70&amp;output=webp 1x, https://wsrv.nl/?url=https%3A%2F%2Fcodedamn-website-assets.s3.us-east-1.amazonaws.com%2Fuploads%2Fxub_CMyvjKT0bfZ-oJYJd%2Fqr.png&amp;w=512&amp;q=70&amp;output=webp 2x\" style=\"color:transparent\" width=\"256\"/><div class=\"flex max-w-xs justify-between gap-4 sm:h-28 sm:max-w-none sm:flex-col sm:gap-0\"><a href=\"https://apps.apple.com/in/app/codedamn/id1426709377?referrer=utm_source%3Dcodedamn-landing-page%26utm_medium%3Dwebpage%26utm_term%3Dmobile%252Bapp%252Blearn-on-the-go%26utm_content%3Dlearn%2520on%2520the%2520go%2520with%2520codedamn%26utm_campaign%3Dcodedamn%2520mobile%2520app\" target=\"_blank noreferrer\"><svg class=\"aspect-[3.375] w-full max-w-[172px] rounded\" viewbox=\"0 0 135 40\"><path d=\"M130.2 40H4.7A4.7 4.7 0 0 1 0 35.3V4.7A4.7 4.7 0 0 1 4.7 0h125.5c2.6 0 4.8 2.1 4.8 4.7v30.6c0 2.6-2.2 4.7-4.8 4.7z\" fill=\"#A6A6A6\"></path><path d=\"M134 35.3a3.8 3.8 0 0 1-3.8 3.8H4.7A3.8 3.8 0 0 1 1 35.3V4.7A3.8 3.8 0 0 1 4.7 1h125.5a3.8 3.8 0 0 1 3.8 3.8v30.6z\"></path><path d=\"M30.1 19.8c0-3.2 2.7-4.8 2.8-4.9a6 6 0 0 0-4.7-2.5c-2-.2-3.9 1.2-4.9 1.2-1 0-2.5-1.2-4.2-1.2a6.2 6.2 0 0 0-5.2 3.2c-2.3 4-.6 9.7 1.6 12.9 1 1.6 2.3 3.3 4 3.2 1.6 0 2.2-1 4.2-1s2.5 1 4.2 1c1.7 0 2.8-1.6 3.9-3.1 1.2-1.8 1.7-3.6 1.7-3.7 0 0-3.3-1.3-3.4-5.1zM27 10.3c.9-1 1.5-2.6 1.3-4-1.2 0-2.8.8-3.7 1.9-.8.9-1.5 2.4-1.4 3.9 1.5.1 3-.7 3.8-1.8zm26.6 21.2h-2.2L50 27.6h-4.3l-1.2 3.9h-2.2l4.3-13.3h2.6l4.3 13.3zM49.8 26l-1.2-3.5L48 20a96.8 96.8 0 0 1-.7 2.5L46.2 26h3.6zm14.9.6c0 1.6-.5 3-1.4 3.9-.8.8-1.7 1.2-2.9 1.2-1.3 0-2.2-.4-2.7-1.3v5h-2.2V22h1.8l.1 1.5a3.6 3.6 0 0 1 3.3-1.7c1.1 0 2 .5 2.8 1.4.8.8 1.2 2 1.2 3.5zm-2.2 0a4 4 0 0 0-.6-2.2c-.5-.7-1.1-1-1.9-1-.5 0-1 .2-1.4.5a2.8 2.8 0 0 0-1 2v1.7c0 .7.2 1.2.7 1.7s1 .7 1.6.7c.8 0 1.5-.3 2-.9a4 4 0 0 0 .6-2.4zm13.2 0c0 1.6-.4 3-1.3 3.9-.8.8-1.8 1.2-3 1.2s-2.1-.4-2.7-1.3v5h-2.2V22h1.8l.2 1.5a3.5 3.5 0 0 1 3.2-1.7c1.2 0 2.1.5 2.9 1.4.7.8 1.1 2 1.1 3.5zm-2.2 0a4 4 0 0 0-.6-2.2c-.5-.7-1-1-1.9-1a2.2 2.2 0 0 0-1.4.5c-.4.4-.7.8-.8 1.4l-.1.7v1.6c0 .7.2 1.2.6 1.7.4.5 1 .7 1.7.7.8 0 1.4-.3 1.9-.9a4 4 0 0 0 .6-2.4zM88 27.9c0 1.1-.4 2-1.1 2.7-1 .8-2.1 1.2-3.7 1.2-1.4 0-2.5-.3-3.4-.8l.5-1.8c1 .6 2 .8 3 .8a3 3 0 0 0 2-.5c.4-.4.6-.8.6-1.5 0-.5-.2-1-.5-1.3-.4-.4-1-.7-1.9-1-2.3-1-3.5-2.2-3.5-3.9 0-1 .4-2 1.2-2.7.9-.7 2-1 3.3-1 1.2 0 2.2.2 3 .6l-.5 1.8c-.8-.4-1.6-.6-2.6-.6-.7 0-1.3.1-1.7.5a1.6 1.6 0 0 0-.5 1.2c0 .5.2 1 .6 1.3.3.3 1 .7 1.9 1 1.1.5 2 1 2.5 1.7.6.6.8 1.4.8 2.3zm7-4.3h-2.3v4.7c0 1.2.5 1.7 1.3 1.7h1v1.6l-1.7.2c-.8 0-1.5-.3-2-.8-.4-.5-.7-1.3-.7-2.6v-4.8h-1.4V22h1.4v-1.8l2.1-.6V22h2.4v1.6zm10.7 3.1c0 1.5-.4 2.7-1.3 3.7s-2 1.4-3.5 1.4c-1.4 0-2.5-.4-3.4-1.4s-1.2-2-1.2-3.5.4-2.7 1.3-3.7c.8-1 2-1.4 3.5-1.4 1.4 0 2.5.5 3.4 1.4a5 5 0 0 1 1.2 3.5zm-2.2.1c0-.9-.2-1.6-.6-2.3-.4-.7-1-1.1-2-1.1-.8 0-1.4.4-1.9 1.1a5.6 5.6 0 0 0 0 4.6c.5.8 1.1 1.2 2 1.2.8 0 1.4-.4 1.9-1.2.4-.7.6-1.4.6-2.3zm9.1-3a3.7 3.7 0 0 0-.7 0 2 2 0 0 0-1.7.9c-.3.5-.5 1.1-.5 1.9v5h-2.2V22h1.8l.1 1.8c.3-.6.7-1 1.1-1.5a2.6 2.6 0 0 1 1.6-.5h.5v2zm9.6 2.6a5 5 0 0 1-.1 1h-6.4c0 .9.3 1.6 1 2 .4.5 1.1.8 2 .8a7 7 0 0 0 2.6-.5l.3 1.5a8 8 0 0 1-3.2.6 5 5 0 0 1-3.5-1.3c-.8-1-1.3-2-1.3-3.6 0-1.4.4-2.6 1.2-3.6a4 4 0 0 1 3.4-1.5c1.4 0 2.4.5 3.1 1.5.6.8.9 1.9.9 3zm-2-.6c0-.6-.2-1.2-.5-1.6a2 2 0 0 0-1.7-1 2 2 0 0 0-1.7 1c-.3.4-.6 1-.6 1.6h4.4zM49 10c0 1.2-.3 2-1 2.7-.7.5-1.6.8-2.8.8h-1.5V7l1.8-.2a4 4 0 0 1 2.6.8c.6.6 1 1.4 1 2.4zm-1 0c0-.7-.3-1.3-.7-1.7-.4-.4-1-.6-1.7-.6h-.9v5h.7c.8 0 1.5-.3 1.9-.7s.6-1.1.6-2zm7 1c0 .8-.3 1.4-.7 1.8-.4.5-1 .7-1.7.7s-1.3-.2-1.7-.6c-.4-.5-.6-1-.6-1.8 0-.7.2-1.3.6-1.8s1-.7 1.7-.7 1.3.3 1.7.7c.4.5.6 1 .6 1.7zm-1.2 0c0-.4 0-.7-.3-1a1 1 0 0 0-.9-.6 1 1 0 0 0-1 .6l-.2 1c0 .5 0 .9.2 1.2.3.4.6.6 1 .6s.7-.2 1-.6l.2-1.1zm9-2.3-1.5 4.7h-1l-.6-2a15.3 15.3 0 0 1-.4-1.5 11.2 11.2 0 0 1-.4 1.5l-.6 2h-1L56 8.7h1l.5 2.3.4 1.5c0-.4.2-1 .4-1.5l.6-2.3h.9l.6 2.2.4 1.6.4-1.6.5-2.2h1zm5.4 4.7h-1v-2.7c0-.8-.4-1.2-1-1.2a1 1 0 0 0-.8.3 1.2 1.2 0 0 0-.2.8v2.8H64V8.7h.9v.8l.6-.6c.3-.2.6-.3 1-.3s.8.2 1 .4c.4.4.6 1 .6 1.6v2.8zm2.9 0h-1V6.6h1v6.8zm6.2-2.4c0 .8-.2 1.4-.7 1.8-.4.5-1 .7-1.7.7s-1.2-.2-1.6-.6c-.5-.5-.7-1-.7-1.8 0-.7.3-1.3.7-1.8s1-.7 1.7-.7 1.2.3 1.7.7c.4.5.6 1 .6 1.7zm-1.1 0c0-.4-.1-.7-.3-1a1 1 0 0 0-1-.6 1 1 0 0 0-1 .6l-.2 1c0 .5.1.9.3 1.2.2.4.5.6 1 .6.3 0 .7-.2.9-.6.2-.3.3-.7.3-1.1zm6.1 2.4h-1V13c-.3.4-.8.6-1.4.6-.4 0-.8-.1-1-.4a1.3 1.3 0 0 1-.4-1c0-.5.2-1 .7-1.3.5-.3 1.1-.4 2-.4v-.1c0-.6-.3-1-1-1-.4 0-.8.2-1.2.4l-.2-.7a3 3 0 0 1 1.6-.4c1.2 0 1.9.7 1.9 2v2.8zm-1-1.6v-.7c-1.2 0-1.8.3-1.8 1 0 .2 0 .4.2.5a.7.7 0 0 0 .5.2l.7-.2a.9.9 0 0 0 .3-.8zm7 1.6h-1v-.7c-.3.6-.8.8-1.5.8-.6 0-1-.2-1.5-.6s-.5-1-.5-1.8c0-.7.2-1.3.6-1.8.4-.5.9-.7 1.5-.7s1 .2 1.3.7V6.6h1v6.8zm-1.1-2v-.7a1.2 1.2 0 0 0-.4-1 1 1 0 0 0-.7-.3 1 1 0 0 0-1 .5 2 2 0 0 0-.3 1.2c0 .5.1.8.4 1.1.2.3.5.5.9.5.3 0 .6-.1.8-.4.2-.2.3-.5.3-.9zm10-.4c0 .8-.2 1.4-.6 1.8-.4.5-1 .7-1.7.7s-1.2-.2-1.7-.6c-.4-.5-.6-1-.6-1.8 0-.7.2-1.3.7-1.8s1-.7 1.7-.7 1.2.3 1.6.7c.4.5.6 1 .6 1.7zm-1 0c0-.4-.1-.7-.3-1a1 1 0 0 0-1-.6 1 1 0 0 0-1 .6l-.2 1c0 .5 0 .9.3 1.2.2.4.5.6 1 .6.3 0 .6-.2.9-.6.2-.3.3-.7.3-1.1zm6.7 2.4h-1v-2.7c0-.8-.4-1.2-1-1.2-.3 0-.6.1-.8.3s-.3.5-.3.8v2.8h-1V8.7h.9v.8a1.5 1.5 0 0 1 .6-.6c.3-.2.6-.3 1-.3s.7.2 1 .4c.4.4.6 1 .6 1.6v2.8zm7-3.9h-1.1v2.3c0 .6.2.9.6.9h.5v.7l-.8.1c-.4 0-.8-.1-1-.3-.2-.3-.3-.7-.3-1.3V9.5h-.7v-.8h.7V8l1-.4v1.2h1.1v.8zm5.6 4h-1v-2.7c0-.9-.4-1.3-1-1.3-.5 0-.8.2-1 .7a1.3 1.3 0 0 0 0 .4v2.8h-1.1V6.6h1v2.8c.4-.5.9-.8 1.5-.8.4 0 .8.2 1 .4.4.4.6 1 .6 1.6v2.8zm5.7-2.6v.4H118c0 .5.2.8.5 1 .2.3.6.4 1 .4.5 0 .9 0 1.3-.2l.1.7a4 4 0 0 1-1.5.3c-.8 0-1.3-.2-1.8-.6-.4-.5-.6-1-.6-1.8 0-.7.2-1.3.6-1.7a2 2 0 0 1 1.6-.8 2 2 0 0 1 1.6.8c.3.4.4.9.4 1.5zm-1-.3a1.4 1.4 0 0 0-.2-.8 1 1 0 0 0-.8-.5 1 1 0 0 0-.9.5 1.6 1.6 0 0 0-.3.8h2.2z\" fill=\"#FFF\"></path></svg></a><a href=\"https://play.google.com/store/apps/details?id=com.codedamn&amp;referrer=utm_source%3Dcodedamn-landing-page%26utm_medium%3Dwebpage%26utm_term%3Dmobile%252Bapp%252Blearn-on-the-go%26utm_content%3Dlearn%2520on%2520the%2520go%2520with%2520codedamn%26utm_campaign%3Dcodedamn%2520mobile%2520app\" target=\"_blank noreferrer\"><svg class=\"aspect-[3.375] w-full max-w-[172px] rounded\" fill=\"none\" viewbox=\"0 0 135 40\" xmlns=\"http://www.w3.org/2000/svg\"><rect fill=\"#000\" height=\"39\" rx=\"4.5\" width=\"134\" x=\"0.5\" y=\"0.5\"></rect><path d=\"M68.136 21.75c-2.352 0-4.269 1.79-4.269 4.254 0 2.449 1.917 4.253 4.269 4.253 2.353 0 4.27-1.804 4.27-4.253-.001-2.464-1.918-4.253-4.27-4.253zm0 6.833c-1.289 0-2.4-1.063-2.4-2.578 0-1.531 1.112-2.578 2.4-2.578 1.289 0 2.4 1.047 2.4 2.578 0 1.514-1.111 2.578-2.4 2.578zm-9.314-6.832c-2.352 0-4.269 1.789-4.269 4.253 0 2.449 1.917 4.253 4.269 4.253 2.353 0 4.27-1.804 4.27-4.253 0-2.464-1.917-4.253-4.27-4.253zm0 6.832c-1.289 0-2.4-1.063-2.4-2.578 0-1.531 1.112-2.578 2.4-2.578 1.289 0 2.4 1.047 2.4 2.578.001 1.514-1.111 2.578-2.4 2.578zm-11.078-5.526v1.804h4.318c-.129 1.015-.467 1.756-.983 2.27-.628.629-1.611 1.322-3.335 1.322-2.658 0-4.736-2.143-4.736-4.801 0-2.658 2.078-4.801 4.736-4.801 1.434 0 2.481.564 3.254 1.289l1.273-1.273c-1.08-1.031-2.513-1.82-4.527-1.82-3.641 0-6.702 2.964-6.702 6.605 0 3.64 3.061 6.605 6.702 6.605 1.965 0 3.448-.645 4.607-1.853 1.192-1.192 1.563-2.868 1.563-4.221 0-.418-.032-.805-.097-1.127h-6.073zm45.308 1.4c-.354-.95-1.434-2.706-3.641-2.706-2.191 0-4.012 1.724-4.012 4.253 0 2.384 1.805 4.253 4.221 4.253 1.949 0 3.077-1.192 3.545-1.885l-1.45-.967c-.483.709-1.144 1.176-2.095 1.176-.95 0-1.627-.435-2.062-1.29l5.687-2.351-.193-.482zm-5.8 1.419c-.048-1.644 1.273-2.481 2.224-2.481.741 0 1.369.37 1.579.902l-3.803 1.579zM82.629 30h1.868V17.499h-1.868v12.5zm-3.062-7.298h-.064c-.419-.5-1.225-.951-2.239-.951-2.127 0-4.076 1.869-4.076 4.27 0 2.384 1.949 4.237 4.076 4.237 1.015 0 1.82-.451 2.239-.966h.064v.612c0 1.627-.87 2.497-2.271 2.497-1.144 0-1.853-.821-2.143-1.514l-1.627.677c.467 1.127 1.707 2.513 3.77 2.513 2.191 0 4.044-1.29 4.044-4.431V22.01h-1.772v.692h-.001zm-2.142 5.88c-1.289 0-2.368-1.08-2.368-2.561 0-1.5 1.079-2.594 2.368-2.594 1.272 0 2.271 1.095 2.271 2.594 0 1.482-.999 2.562-2.271 2.562zM101.806 17.5h-4.471v12.5H99.2v-4.735h2.605c2.068 0 4.102-1.497 4.102-3.882s-2.033-3.883-4.101-3.883zm.048 6.025H99.2v-4.285h2.654c1.395 0 2.187 1.155 2.187 2.143 0 .968-.792 2.142-2.187 2.142zm11.532-1.795c-1.351 0-2.75.595-3.329 1.914l1.656.69c.354-.69 1.014-.916 1.705-.916.965 0 1.946.579 1.962 1.608v.129c-.338-.193-1.062-.482-1.946-.482-1.785 0-3.603.98-3.603 2.814 0 1.673 1.464 2.75 3.104 2.75 1.254 0 1.946-.563 2.38-1.223h.064v.965h1.802v-4.793c.001-2.218-1.657-3.456-3.795-3.456zm-.226 6.85c-.61 0-1.463-.305-1.463-1.061 0-.965 1.062-1.335 1.979-1.335.819 0 1.206.177 1.704.418a2.262 2.262 0 01-2.22 1.979zm10.583-6.577l-2.139 5.42h-.064l-2.22-5.42h-2.01l3.329 7.575-1.898 4.214h1.946L125.818 22h-2.075zM106.937 30h1.865V17.499h-1.865v12.5zM47.418 10.243c0 .838-.248 1.505-.745 2.003-.564.592-1.3.888-2.204.888-.866 0-1.603-.3-2.208-.9-.606-.6-.909-1.345-.909-2.233 0-.889.303-1.633.91-2.233.604-.6 1.341-.9 2.207-.9.43 0 .841.083 1.231.25.391.168.704.391.938.67l-.527.528c-.397-.475-.944-.712-1.643-.712-.632 0-1.178.222-1.639.666-.461.444-.69 1.021-.69 1.73 0 .71.229 1.286.69 1.73a2.282 2.282 0 001.639.666c.67 0 1.23-.223 1.676-.67.29-.29.458-.696.503-1.215h-2.179v-.72h2.907c.03.156.043.307.043.452zM52.028 7.737h-2.732V9.64h2.464v.721h-2.464v1.902h2.732V13h-3.503V7h3.503v.737zM55.279 13h-.771V7.737h-1.676V7h4.123v.737h-1.676V13zM59.938 13V7h.771v6h-.771zM64.128 13h-.77V7.737H61.68V7h4.123v.737h-1.676V13zM73.609 12.225c-.59.606-1.323.91-2.2.91-.877 0-1.61-.304-2.2-.91-.59-.606-.883-1.348-.883-2.225s.294-1.619.884-2.225c.589-.606 1.322-.91 2.199-.91.872 0 1.604.305 2.196.914.592.61.888 1.35.888 2.221 0 .877-.295 1.62-.884 2.225zm-3.83-.503a2.2 2.2 0 001.63.674c.643 0 1.187-.225 1.63-.674.444-.45.667-1.024.667-1.722s-.223-1.272-.667-1.722a2.199 2.199 0 00-1.63-.674c-.643 0-1.186.225-1.63.674-.443.45-.666 1.024-.666 1.722s.223 1.272.666 1.722zM75.575 13V7h.938l2.916 4.667h.033l-.033-1.156v-3.51h.77v6h-.804l-3.051-4.895h-.033l.033 1.156V13h-.77z\" fill=\"#fff\"></path><path d=\"M47.418 10.243c0 .838-.248 1.505-.745 2.003-.564.592-1.3.888-2.204.888-.866 0-1.603-.3-2.208-.9-.606-.6-.909-1.345-.909-2.233 0-.889.303-1.633.91-2.233.604-.6 1.341-.9 2.207-.9.43 0 .841.083 1.231.25.391.168.704.391.938.67l-.527.528c-.397-.475-.944-.712-1.643-.712-.632 0-1.178.222-1.639.666-.461.444-.69 1.021-.69 1.73 0 .71.229 1.286.69 1.73a2.282 2.282 0 001.639.666c.67 0 1.23-.223 1.676-.67.29-.29.458-.696.503-1.215h-2.179v-.72h2.907c.03.156.043.307.043.452zM52.028 7.737h-2.732V9.64h2.464v.721h-2.464v1.902h2.732V13h-3.503V7h3.503v.737zM55.279 13h-.771V7.737h-1.676V7h4.123v.737h-1.676V13zM59.938 13V7h.771v6h-.771zM64.128 13h-.77V7.737H61.68V7h4.123v.737h-1.676V13zM73.609 12.225c-.59.606-1.323.91-2.2.91-.877 0-1.61-.304-2.2-.91-.59-.606-.883-1.348-.883-2.225s.294-1.619.884-2.225c.589-.606 1.322-.91 2.199-.91.872 0 1.604.305 2.196.914.592.61.888 1.35.888 2.221 0 .877-.295 1.62-.884 2.225zm-3.83-.503a2.2 2.2 0 001.63.674c.643 0 1.187-.225 1.63-.674.444-.45.667-1.024.667-1.722s-.223-1.272-.667-1.722a2.199 2.199 0 00-1.63-.674c-.643 0-1.186.225-1.63.674-.443.45-.666 1.024-.666 1.722s.223 1.272.666 1.722zM75.575 13V7h.938l2.916 4.667h.033l-.033-1.156v-3.51h.77v6h-.804l-3.051-4.895h-.033l.033 1.156V13h-.77z\" stroke=\"#fff\" stroke-miterlimit=\"10\" stroke-width=\"0.2\"></path><g filter=\"url(#filter0_ii_2092_139931)\"><path d=\"M10.436 7.538c-.29.308-.463.786-.463 1.405v22.116c0 .62.172 1.097.463 1.405l.074.072 12.39-12.39v-.291L10.51 7.465l-.074.073z\" fill=\"url(#paint0_linear_2092_139931)\"></path><path d=\"M27.028 24.278l-4.13-4.131v-.292l4.13-4.13.094.053 4.893 2.78c1.397.794 1.397 2.093 0 2.888l-4.893 2.78-.094.052z\" fill=\"url(#paint1_linear_2092_139931)\"></path><g filter=\"url(#filter1_i_2092_139931)\"><path d=\"M27.122 24.225l-4.224-4.224-12.462 12.463c.46.488 1.221.548 2.078.062l14.608-8.301z\" fill=\"url(#paint2_linear_2092_139931)\"></path></g><path d=\"M27.122 15.777l-14.608-8.3c-.857-.487-1.618-.426-2.078.062l12.463 12.463 4.223-4.225z\" fill=\"url(#paint3_linear_2092_139931)\"></path></g><rect height=\"39\" rx=\"4.5\" stroke=\"#A6A6A6\" width=\"134\" x=\"0.5\" y=\"0.5\"></rect><defs><filter color-interpolation-filters=\"sRGB\" filterunits=\"userSpaceOnUse\" height=\"25.721\" id=\"filter0_ii_2092_139931\" width=\"23.089\" x=\"9.973\" y=\"7.141\"><feflood flood-opacity=\"0\" result=\"BackgroundImageFix\"></feflood><feblend in=\"SourceGraphic\" in2=\"BackgroundImageFix\" result=\"shape\"></feblend><fecolormatrix in=\"SourceAlpha\" result=\"hardAlpha\" values=\"0 0 0 0 0 0 0 0 0 0 0 0 0 0 0 0 0 0 127 0\"></fecolormatrix><feoffset dy=\"-0.15\"></feoffset><fecomposite in2=\"hardAlpha\" k2=\"-1\" k3=\"1\" operator=\"arithmetic\"></fecomposite><fecolormatrix values=\"0 0 0 0 0 0 0 0 0 0 0 0 0 0 0 0 0 0 0.12 0\"></fecolormatrix><feblend in2=\"shape\" result=\"effect1_innerShadow_2092_139931\"></feblend><fecolormatrix in=\"SourceAlpha\" result=\"hardAlpha\" values=\"0 0 0 0 0 0 0 0 0 0 0 0 0 0 0 0 0 0 127 0\"></fecolormatrix><feoffset dy=\"0.15\"></feoffset><fecomposite in2=\"hardAlpha\" k2=\"-1\" k3=\"1\" operator=\"arithmetic\"></fecomposite><fecolormatrix values=\"0 0 0 0 1 0 0 0 0 1 0 0 0 0 1 0 0 0 0.25 0\"></fecolormatrix><feblend in2=\"effect1_innerShadow_2092_139931\" result=\"effect2_innerShadow_2092_139931\"></feblend></filter><filter color-interpolation-filters=\"sRGB\" filterunits=\"userSpaceOnUse\" height=\"12.86\" id=\"filter1_i_2092_139931\" width=\"16.686\" x=\"10.436\" y=\"20.001\"><feflood flood-opacity=\"0\" result=\"BackgroundImageFix\"></feflood><feblend in=\"SourceGraphic\" in2=\"BackgroundImageFix\" result=\"shape\"></feblend><fecolormatrix in=\"SourceAlpha\" result=\"hardAlpha\" values=\"0 0 0 0 0 0 0 0 0 0 0 0 0 0 0 0 0 0 127 0\"></fecolormatrix><feoffset dy=\"-0.15\"></feoffset><fecomposite in2=\"hardAlpha\" k2=\"-1\" k3=\"1\" operator=\"arithmetic\"></fecomposite><fecolormatrix values=\"0 0 0 0 0 0 0 0 0 0 0 0 0 0 0 0 0 0 0.08 0\"></fecolormatrix><feblend in2=\"shape\" result=\"effect1_innerShadow_2092_139931\"></feblend></filter><lineargradient gradientunits=\"userSpaceOnUse\" id=\"paint0_linear_2092_139931\" x1=\"21.801\" x2=\"5.019\" y1=\"8.709\" y2=\"25.491\"><stop stop-color=\"#00A0FF\"></stop><stop offset=\"0.007\" stop-color=\"#00A1FF\"></stop><stop offset=\"0.26\" stop-color=\"#00BEFF\"></stop><stop offset=\"0.512\" stop-color=\"#00D2FF\"></stop><stop offset=\"0.76\" stop-color=\"#00DFFF\"></stop><stop offset=\"1\" stop-color=\"#00E3FF\"></stop></lineargradient><lineargradient gradientunits=\"userSpaceOnUse\" id=\"paint1_linear_2092_139931\" x1=\"33.833\" x2=\"9.638\" y1=\"20.001\" y2=\"20.001\"><stop stop-color=\"#FFE000\"></stop><stop offset=\"0.409\" stop-color=\"#FFBD00\"></stop><stop offset=\"0.775\" stop-color=\"orange\"></stop><stop offset=\"1\" stop-color=\"#FF9C00\"></stop></lineargradient><lineargradient gradientunits=\"userSpaceOnUse\" id=\"paint2_linear_2092_139931\" x1=\"24.828\" x2=\"2.07\" y1=\"22.295\" y2=\"45.053\"><stop stop-color=\"#FF3A44\"></stop><stop offset=\"1\" stop-color=\"#C31162\"></stop></lineargradient><lineargradient gradientunits=\"userSpaceOnUse\" id=\"paint3_linear_2092_139931\" x1=\"7.297\" x2=\"17.46\" y1=\"0.177\" y2=\"10.339\"><stop stop-color=\"#32A071\"></stop><stop offset=\"0.069\" stop-color=\"#2DA771\"></stop><stop offset=\"0.476\" stop-color=\"#15CF74\"></stop><stop offset=\"0.801\" stop-color=\"#06E775\"></stop><stop offset=\"1\" stop-color=\"#00F076\"></stop></lineargradient></defs></svg></a></div></div></div></div></div></div></section></main></div></div><div class=\"\"><footer aria-labelledby=\"footer-heading\" class=\"z-40 border-t border-gray-200 bg-gray-50 dark:border-gray-700 dark:bg-gray-900\"><h2 class=\"sr-only\" id=\"footer-heading\">Footer</h2><div class=\"mx-auto max-w-screen-2xl px-4 py-12 sm:px-6 lg:px-8 lg:py-16\"><div class=\"xl:grid xl:grid-cols-3 xl:gap-8\"><div class=\"space-y-8 dark:text-white xl:col-span-1\"><svg class=\"aspect-[0.64] h-auto w-12\" fill=\"currentColor\" viewbox=\"0 0 168 268\" xmlns=\"http://www.w3.org/2000/svg\"><path d=\"M41.78 157.47L28.15 157.5L0.829987 117.95L28.5 76.5H52.83L25.17 116.79L52.83 157.5L41.78 157.47Z\"></path><path d=\"M126.22 157.47L139.85 157.5L167.17 117.95L139.5 76.5H115.17L142.83 116.79L115.17 157.5L126.22 157.47Z\"></path><path d=\"M99.7 136.57C96.92 140.75 92.9 143.39 88.41 143.39C80.03 143.39 73.23 134.22 73.23 122.91C73.23 111.6 80.03 102.43 88.41 102.43C92.81 102.43 96.77 104.97 99.54 109.01L113.02 99.59C106.98 90.99 97.74 85.48 87.36 85.48C69.16 85.48 54.41 102.39 54.41 123.25C54.41 144.11 69.16 161.02 87.36 161.02C98.63 161.02 108.57 154.53 114.51 144.63L99.7 136.57Z\"></path><path d=\"M84.83 0.5C67.16 0.5 52.83 17.39 52.83 38.23C52.83 59.07 67.16 75.96 84.83 75.96C102.5 75.96 116.83 59.07 116.83 38.23C116.83 17.39 102.51 0.5 84.83 0.5ZM85.15 59.66C77.26 59.66 70.87 50.35 70.87 38.88C70.87 27.41 77.26 18.1 85.15 18.1C93.04 18.1 99.43 27.41 99.43 38.88C99.43 50.35 93.04 59.66 85.15 59.66Z\"></path><path d=\"M74.54 171.5H97.57L124.97 267.5H103.1L86.29 199.27L68.79 267.5H47.83L74.54 171.5Z\"></path></svg><p class=\"text-base text-gray-700 dark:text-gray-300\">Learn to code interactively - without ever leaving your browser.</p><div class=\"flex space-x-6\"><a class=\"text-gray-500 hover:text-gray-700 dark:text-gray-400 dark:hover:text-gray-200\" href=\"https://www.facebook.com/codedamncom/\" target=\"_blank\"><span class=\"sr-only\">Facebook</span><svg aria-hidden=\"true\" class=\"h-6 w-6\" fill=\"currentColor\" viewbox=\"0 0 24 24\"><path clip-rule=\"evenodd\" d=\"M22 12c0-5.523-4.477-10-10-10S2 6.477 2 12c0 4.991 3.657 9.128 8.438 9.878v-6.987h-2.54V12h2.54V9.797c0-2.506 1.492-3.89 3.777-3.89 1.094 0 2.238.195 2.238.195v2.46h-1.26c-1.243 0-1.63.771-1.63 1.562V12h2.773l-.443 2.89h-2.33v6.988C18.343 21.128 22 16.991 22 12z\" fill-rule=\"evenodd\"></path></svg></a><a class=\"text-gray-500 hover:text-gray-700 dark:text-gray-400 dark:hover:text-gray-200\" href=\"https://www.instagram.com/codedamn/\" target=\"_blank\"><span class=\"sr-only\">Instagram</span><svg aria-hidden=\"true\" class=\"h-6 w-6\" fill=\"currentColor\" viewbox=\"0 0 24 24\"><path clip-rule=\"evenodd\" d=\"M12.315 2c2.43 0 2.784.013 3.808.06 1.064.049 1.791.218 2.427.465a4.902 4.902 0 011.772 1.153 4.902 4.902 0 011.153 1.772c.247.636.416 1.363.465 2.427.048 1.067.06 1.407.06 4.123v.08c0 2.643-.012 2.987-.06 4.043-.049 1.064-.218 1.791-.465 2.427a4.902 4.902 0 01-1.153 1.772 4.902 4.902 0 01-1.772 1.153c-.636.247-1.363.416-2.427.465-1.067.048-1.407.06-4.123.06h-.08c-2.643 0-2.987-.012-4.043-.06-1.064-.049-1.791-.218-2.427-.465a4.902 4.902 0 01-1.772-1.153 4.902 4.902 0 01-1.153-1.772c-.247-.636-.416-1.363-.465-2.427-.047-1.024-.06-1.379-.06-3.808v-.63c0-2.43.013-2.784.06-3.808.049-1.064.218-1.791.465-2.427a4.902 4.902 0 011.153-1.772A4.902 4.902 0 015.45 2.525c.636-.247 1.363-.416 2.427-.465C8.901 2.013 9.256 2 11.685 2h.63zm-.081 1.802h-.468c-2.456 0-2.784.011-3.807.058-.975.045-1.504.207-1.857.344-.467.182-.8.398-1.15.748-.35.35-.566.683-.748 1.15-.137.353-.3.882-.344 1.857-.047 1.023-.058 1.351-.058 3.807v.468c0 2.456.011 2.784.058 3.807.045.975.207 1.504.344 1.857.182.466.399.8.748 1.15.35.35.683.566 1.15.748.353.137.882.3 1.857.344 1.054.048 1.37.058 4.041.058h.08c2.597 0 2.917-.01 3.96-.058.976-.045 1.505-.207 1.858-.344.466-.182.8-.398 1.15-.748.35-.35.566-.683.748-1.15.137-.353.3-.882.344-1.857.048-1.055.058-1.37.058-4.041v-.08c0-2.597-.01-2.917-.058-3.96-.045-.976-.207-1.505-.344-1.858a3.097 3.097 0 00-.748-1.15 3.098 3.098 0 00-1.15-.748c-.353-.137-.882-.3-1.857-.344-1.023-.047-1.351-.058-3.807-.058zM12 6.865a5.135 5.135 0 110 10.27 5.135 5.135 0 010-10.27zm0 1.802a3.333 3.333 0 100 6.666 3.333 3.333 0 000-6.666zm5.338-3.205a1.2 1.2 0 110 2.4 1.2 1.2 0 010-2.4z\" fill-rule=\"evenodd\"></path></svg></a><a class=\"text-gray-500 hover:text-gray-700 dark:text-gray-400 dark:hover:text-gray-200\" href=\"https://twitter.com/codedamncom\" target=\"_blank\"><span class=\"sr-only\">Twitter</span><svg aria-hidden=\"true\" class=\"h-6 w-6\" fill=\"currentColor\" viewbox=\"0 0 24 24\"><path d=\"M8.29 20.251c7.547 0 11.675-6.253 11.675-11.675 0-.178 0-.355-.012-.53A8.348 8.348 0 0022 5.92a8.19 8.19 0 01-2.357.646 4.118 4.118 0 001.804-2.27 8.224 8.224 0 01-2.605.996 4.107 4.107 0 00-6.993 3.743 11.65 11.65 0 01-8.457-4.287 4.106 4.106 0 001.27 5.477A4.072 4.072 0 012.8 9.713v.052a4.105 4.105 0 003.292 4.022 4.095 4.095 0 01-1.853.07 4.108 4.108 0 003.834 2.85A8.233 8.233 0 012 18.407a11.616 11.616 0 006.29 1.84\"></path></svg></a><a class=\"text-gray-500 hover:text-gray-700 dark:text-gray-400 dark:hover:text-gray-200\" href=\"https://github.com/codedamn/core\" target=\"_blank\"><span class=\"sr-only\">GitHub</span><svg aria-hidden=\"true\" class=\"h-6 w-6\" fill=\"currentColor\" viewbox=\"0 0 24 24\"><path clip-rule=\"evenodd\" d=\"M12 2C6.477 2 2 6.484 2 12.017c0 4.425 2.865 8.18 6.839 9.504.5.092.682-.217.682-.483 0-.237-.008-.868-.013-1.703-2.782.605-3.369-1.343-3.369-1.343-.454-1.158-1.11-1.466-1.11-1.466-.908-.62.069-.608.069-.608 1.003.07 1.531 1.032 1.531 1.032.892 1.53 2.341 1.088 2.91.832.092-.647.35-1.088.636-1.338-2.22-.253-4.555-1.113-4.555-4.951 0-1.093.39-1.988 1.029-2.688-.103-.253-.446-1.272.098-2.65 0 0 .84-.27 2.75 1.026A9.564 9.564 0 0112 6.844c.85.004 1.705.115 2.504.337 1.909-1.296 2.747-1.027 2.747-1.027.546 1.379.202 2.398.1 2.651.64.7 1.028 1.595 1.028 2.688 0 3.848-2.339 4.695-4.566 4.943.359.309.678.92.678 1.855 0 1.338-.012 2.419-.012 2.747 0 .268.18.58.688.482A10.019 10.019 0 0022 12.017C22 6.484 17.522 2 12 2z\" fill-rule=\"evenodd\"></path></svg></a><a class=\"text-gray-500 hover:text-gray-700 dark:text-gray-400 dark:hover:text-gray-200\" href=\"https://www.youtube.com/codedamn\" target=\"_blank\"><span class=\"sr-only\">YouTube</span><svg aria-hidden=\"true\" class=\"h-6 w-6\" fill=\"currentColor\" viewbox=\"0 0 75 75\"><defs><clippath id=\"clip1\"><path d=\"M 0 9.609375 L 75 9.609375 L 75 64.828125 L 0 64.828125 Z M 0 9.609375 \"></path></clippath></defs><g id=\"surface1\"><g clip-path=\"url(#clip1)\" clip-rule=\"nonzero\"><path d=\"M 72.910156 19.132812 C 72.214844 15.34375 68.914062 12.585938 65.078125 11.722656 C 59.339844 10.519531 48.722656 9.65625 37.234375 9.65625 C 25.753906 9.65625 14.96875 10.519531 9.222656 11.722656 C 5.398438 12.585938 2.085938 15.167969 1.394531 19.132812 C 0.691406 23.4375 0 29.46875 0 37.21875 C 0 44.972656 0.691406 51 1.5625 55.308594 C 2.261719 59.09375 5.566406 61.855469 9.394531 62.714844 C 15.484375 63.921875 25.925781 64.78125 37.414062 64.78125 C 48.902344 64.78125 59.339844 63.921875 65.433594 62.714844 C 69.257812 61.855469 72.5625 59.269531 73.261719 55.308594 C 73.957031 51 74.824219 44.796875 75.003906 37.21875 C 74.648438 29.46875 73.777344 23.4375 72.910156 19.132812 Z M 27.84375 49.277344 L 27.84375 25.160156 L 49.070312 37.21875 Z M 27.84375 49.277344 \" fill=\"currentColor\"></path></g></g></svg></a><a class=\"text-gray-500 hover:text-gray-700 dark:text-gray-400 dark:hover:text-gray-200\" href=\"https://discord.com/invite/brtAY92J2r\" target=\"_blank\"><span class=\"sr-only\">Discord</span><svg aria-hidden=\"true\" class=\"h-6 w-6\" fill=\"currentColor\" viewbox=\"0 0 50 50\"><path d=\"M 41.625 10.769531 C 37.644531 7.566406 31.347656 7.023438 31.078125 7.003906 C 30.660156 6.96875 30.261719 7.203125 30.089844 7.589844 C 30.074219 7.613281 29.9375 7.929688 29.785156 8.421875 C 32.417969 8.867188 35.652344 9.761719 38.578125 11.578125 C 39.046875 11.867188 39.191406 12.484375 38.902344 12.953125 C 38.710938 13.261719 38.386719 13.429688 38.050781 13.429688 C 37.871094 13.429688 37.6875 13.378906 37.523438 13.277344 C 32.492188 10.15625 26.210938 10 25 10 C 23.789063 10 17.503906 10.15625 12.476563 13.277344 C 12.007813 13.570313 11.390625 13.425781 11.101563 12.957031 C 10.808594 12.484375 10.953125 11.871094 11.421875 11.578125 C 14.347656 9.765625 17.582031 8.867188 20.214844 8.425781 C 20.0625 7.929688 19.925781 7.617188 19.914063 7.589844 C 19.738281 7.203125 19.34375 6.960938 18.921875 7.003906 C 18.652344 7.023438 12.355469 7.566406 8.320313 10.8125 C 6.214844 12.761719 2 24.152344 2 34 C 2 34.175781 2.046875 34.34375 2.132813 34.496094 C 5.039063 39.605469 12.972656 40.941406 14.78125 41 C 14.789063 41 14.800781 41 14.8125 41 C 15.132813 41 15.433594 40.847656 15.621094 40.589844 L 17.449219 38.074219 C 12.515625 36.800781 9.996094 34.636719 9.851563 34.507813 C 9.4375 34.144531 9.398438 33.511719 9.765625 33.097656 C 10.128906 32.683594 10.761719 32.644531 11.175781 33.007813 C 11.234375 33.0625 15.875 37 25 37 C 34.140625 37 38.78125 33.046875 38.828125 33.007813 C 39.242188 32.648438 39.871094 32.683594 40.238281 33.101563 C 40.601563 33.515625 40.5625 34.144531 40.148438 34.507813 C 40.003906 34.636719 37.484375 36.800781 32.550781 38.074219 L 34.378906 40.589844 C 34.566406 40.847656 34.867188 41 35.1875 41 C 35.199219 41 35.210938 41 35.21875 41 C 37.027344 40.941406 44.960938 39.605469 47.867188 34.496094 C 47.953125 34.34375 48 34.175781 48 34 C 48 24.152344 43.785156 12.761719 41.625 10.769531 Z M 18.5 30 C 16.566406 30 15 28.210938 15 26 C 15 23.789063 16.566406 22 18.5 22 C 20.433594 22 22 23.789063 22 26 C 22 28.210938 20.433594 30 18.5 30 Z M 31.5 30 C 29.566406 30 28 28.210938 28 26 C 28 23.789063 29.566406 22 31.5 22 C 33.433594 22 35 23.789063 35 26 C 35 28.210938 33.433594 30 31.5 30 Z\"></path></svg></a></div></div><div class=\"mt-12 grid grid-cols-2 gap-8 xl:col-span-2 xl:mt-0\"><div class=\"md:grid md:grid-cols-2 md:gap-8\"><div><h3 class=\"text-sm font-semibold uppercase tracking-wider text-gray-600 dark:text-gray-300\">Solutions</h3><ul class=\"mt-4 space-y-4\" role=\"list\"><li><a class=\"text-base text-gray-500 hover:text-gray-900 dark:text-gray-400 dark:hover:text-gray-100\" href=\"/learning-paths\" target=\"_self\">Learning paths</a></li><li><a class=\"text-base text-gray-500 hover:text-gray-900 dark:text-gray-400 dark:hover:text-gray-100\" href=\"/courses\" target=\"_self\">Explore courses</a></li><li><a class=\"text-base text-gray-500 hover:text-gray-900 dark:text-gray-400 dark:hover:text-gray-100\" href=\"/projects\" target=\"_self\">Build projects</a></li><li><a class=\"text-base text-gray-500 hover:text-gray-900 dark:text-gray-400 dark:hover:text-gray-100\" href=\"/playgrounds\" target=\"_self\">Boot playgrounds</a></li><li><a class=\"text-base text-gray-500 hover:text-gray-900 dark:text-gray-400 dark:hover:text-gray-100\" href=\"/instructor\" target=\"_self\">Teach on codedamn</a></li></ul></div><div class=\"mt-12 md:mt-0\"><h3 class=\"text-sm font-semibold uppercase tracking-wider text-gray-600 dark:text-gray-300\">Resources</h3><ul class=\"mt-4 space-y-4\" role=\"list\"><li><a class=\"text-base text-gray-500 hover:text-gray-900 dark:text-gray-400 dark:hover:text-gray-100\" href=\"/pricing\" target=\"_self\">Pricing</a></li><li><a class=\"text-base text-gray-500 hover:text-gray-900 dark:text-gray-400 dark:hover:text-gray-100\" href=\"/student\" target=\"_self\">Student account</a></li><li><a class=\"text-base text-gray-500 hover:text-gray-900 dark:text-gray-400 dark:hover:text-gray-100\" href=\"/news\" target=\"_self\">Developer blog</a></li><li><a class=\"text-base text-gray-500 hover:text-gray-900 dark:text-gray-400 dark:hover:text-gray-100\" href=\"/refer\" target=\"_self\">Refer and earn</a></li><li><a class=\"text-base text-gray-500 hover:text-gray-900 dark:text-gray-400 dark:hover:text-gray-100\" href=\"https://partner.codedamn.com/register\" target=\"_blank\">Affiliate program</a></li><li><a class=\"text-base text-gray-500 hover:text-gray-900 dark:text-gray-400 dark:hover:text-gray-100\" href=\"/online-compiler\" target=\"_self\">Online compilers</a></li><li><a class=\"text-base text-gray-500 hover:text-gray-900 dark:text-gray-400 dark:hover:text-gray-100\" href=\"/tool\" target=\"_self\">Online web tools</a></li><li><a class=\"text-base text-gray-500 hover:text-gray-900 dark:text-gray-400 dark:hover:text-gray-100\" href=\"/career-path-quiz\" target=\"_self\">Choose your career</a></li></ul></div></div><div class=\"md:grid md:grid-cols-2 md:gap-8\"><div><h3 class=\"text-sm font-semibold uppercase tracking-wider text-gray-600 dark:text-gray-300\">Company</h3><ul class=\"mt-4 space-y-4\" role=\"list\"><li><a class=\"text-base text-gray-500 hover:text-gray-900 dark:text-gray-400 dark:hover:text-gray-100\" href=\"/about\" target=\"_self\">About</a></li><li><a class=\"text-base text-gray-500 hover:text-gray-900 dark:text-gray-400 dark:hover:text-gray-100\" href=\"https://careers.codedamn.com/jobs\" target=\"_blank\">Careers</a></li><li><a class=\"text-base text-gray-500 hover:text-gray-900 dark:text-gray-400 dark:hover:text-gray-100\" href=\"/contact\" target=\"_self\">Support</a></li><li><a class=\"text-base text-gray-500 hover:text-gray-900 dark:text-gray-400 dark:hover:text-gray-100\" href=\"/terms-of-service\" target=\"_self\">Terms</a></li><li><a class=\"text-base text-gray-500 hover:text-gray-900 dark:text-gray-400 dark:hover:text-gray-100\" href=\"/privacy-policy\" target=\"_self\">Privacy</a></li><li><a class=\"text-base text-gray-500 hover:text-gray-900 dark:text-gray-400 dark:hover:text-gray-100\" href=\"https://feedback.codedamn.com/\" target=\"_blank\">Feedback</a></li></ul></div><div class=\"mt-12 md:mt-0\"><h3 class=\"text-sm font-semibold uppercase tracking-wider text-gray-600 dark:text-gray-300\">Popular</h3><ul class=\"mt-4 space-y-4\" role=\"list\"><li><a class=\"text-base text-gray-500 hover:text-gray-900 dark:text-gray-400 dark:hover:text-gray-100\" href=\"/news/reactjs/react-prerequisites-javascript\" target=\"_self\">How much JS before React?</a></li><li><a class=\"text-base text-gray-500 hover:text-gray-900 dark:text-gray-400 dark:hover:text-gray-100\" href=\"/news/solidity/what-is-require-in-solidity\" target=\"_self\">Solidity require keyword</a></li><li><a class=\"text-base text-gray-500 hover:text-gray-900 dark:text-gray-400 dark:hover:text-gray-100\" href=\"/news/nextjs/next-js-vs-nuxt-js\" target=\"_self\">Next.js vs Nuxt.js</a></li><li><a class=\"text-base text-gray-500 hover:text-gray-900 dark:text-gray-400 dark:hover:text-gray-100\" href=\"/online-compiler/reactjs\" target=\"_self\">React.js online compiler</a></li><li><a class=\"text-base text-gray-500 hover:text-gray-900 dark:text-gray-400 dark:hover:text-gray-100\" href=\"/online-compiler/python\" target=\"_self\">Python online IDE</a></li><li><a class=\"text-base text-gray-500 hover:text-gray-900 dark:text-gray-400 dark:hover:text-gray-100\" href=\"/news/nextjs/next-js-best-practices\" target=\"_self\">Next.js best practices</a></li><li><a class=\"text-base text-gray-500 hover:text-gray-900 dark:text-gray-400 dark:hover:text-gray-100\" href=\"/news/solidity/payable-function-in-solidity-example-how-to-use-it\" target=\"_self\">Payable function solidity</a></li><li><a class=\"text-base text-gray-500 hover:text-gray-900 dark:text-gray-400 dark:hover:text-gray-100\" href=\"/online-compiler/solidity\" target=\"_self\">Solidity online compiler</a></li></ul></div></div></div></div><div class=\"mt-12 border-t border-gray-200 pt-8 dark:border-gray-700\"><p class=\"text-base text-gray-400 xl:text-center\">© codedamn™ <!-- -->2023<!-- --> | All rights reserved.</p></div></div></footer></div></div><div style=\"position:fixed;z-index:200000;top:16px;left:16px;right:16px;bottom:16px;pointer-events:none\"></div></div></div><div id=\"react-contextify-portal\"></div><script id=\"__NEXT_DATA__\" type=\"application/json\">{\"props\":{\"pageProps\":{\"sitewideContext\":{\"hostname\":\"codedamn.com\",\"companyName\":\"\"},\"markers\":[{\"location\":[36.7528,3.042],\"size\":0.022},{\"location\":[45.5017,-73.5673],\"size\":0.026},{\"location\":[28.6139,77.209],\"size\":0.02},{\"location\":[34.0522,-118.2437],\"size\":0.038},{\"location\":[12.9716,77.5946],\"size\":0.05},{\"location\":[59.3293,18.0686],\"size\":0.032},{\"location\":[-12.0464,-77.0428],\"size\":0.047},{\"location\":[19.076,72.8777],\"size\":0.048},{\"location\":[34.0837,74.7973],\"size\":0.046},{\"location\":[23.8315,91.2868],\"size\":0.036},{\"location\":[22.7196,75.8577],\"size\":0.021},{\"location\":[10.4806,-66.9036],\"size\":0.032},{\"location\":[52.52,13.405],\"size\":0.036},{\"location\":[25.5788,91.8933],\"size\":0.049},{\"location\":[25.3176,82.9739],\"size\":0.021},{\"location\":[31.2304,121.4737],\"size\":0.021}],\"__typename\":\"LandingPageStats\",\"userCount\":\"260k\",\"learningHoursCount\":\"100K\",\"playgroundsBootedCount\":\"1.4M\",\"doubtsSolvedCount\":\"252k\"},\"__N_SSG\":true},\"page\":\"/[hostname]\",\"query\":{\"hostname\":\"codedamn.com\"},\"buildId\":\"BnQYeNQf9ZNo-FGNh0MGw\",\"isFallback\":false,\"gsp\":true,\"scriptLoader\":[]}</script></body> <head><meta charset=\"utf-8\"/><link as=\"image\" fetchpriority=\"high\" imagesrcset=\"https://wsrv.nl/?url=https%3A%2F%2Fcodedamn.com%2Fassets%2Flanding-page-assets%2Fbeams.jpeg&amp;w=2610&amp;q=70&amp;output=webp 1x\" rel=\"preload\"/><link as=\"image\" fetchpriority=\"high\" imagesrcset=\"https://wsrv.nl/?url=https%3A%2F%2Fcodedamn.com%2Fassets%2Flanding-page-assets%2Fprofiles%2Fthumb-1.png&amp;w=128&amp;q=70&amp;output=webp 1x, https://wsrv.nl/?url=https%3A%2F%2Fcodedamn.com%2Fassets%2Flanding-page-assets%2Fprofiles%2Fthumb-1.png&amp;w=128&amp;q=70&amp;output=webp 2x\" rel=\"preload\"/><link as=\"image\" fetchpriority=\"high\" imagesrcset=\"https://wsrv.nl/?url=https%3A%2F%2Fcodedamn.com%2Fassets%2Flanding-page-assets%2Fprofiles%2Fthumb-2.png&amp;w=128&amp;q=70&amp;output=webp 1x, https://wsrv.nl/?url=https%3A%2F%2Fcodedamn.com%2Fassets%2Flanding-page-assets%2Fprofiles%2Fthumb-2.png&amp;w=128&amp;q=70&amp;output=webp 2x\" rel=\"preload\"/><link as=\"image\" fetchpriority=\"high\" imagesrcset=\"https://wsrv.nl/?url=https%3A%2F%2Fcodedamn.com%2Fassets%2Flanding-page-assets%2Fprofiles%2Fthumb-3.png&amp;w=128&amp;q=70&amp;output=webp 1x, https://wsrv.nl/?url=https%3A%2F%2Fcodedamn.com%2Fassets%2Flanding-page-assets%2Fprofiles%2Fthumb-3.png&amp;w=128&amp;q=70&amp;output=webp 2x\" rel=\"preload\"/><link as=\"image\" fetchpriority=\"high\" imagesrcset=\"https://wsrv.nl/?url=https%3A%2F%2Fcodedamn.com%2Fassets%2Flanding-page-assets%2Fprofiles%2Fthumb-4.png&amp;w=128&amp;q=70&amp;output=webp 1x, https://wsrv.nl/?url=https%3A%2F%2Fcodedamn.com%2Fassets%2Flanding-page-assets%2Fprofiles%2Fthumb-4.png&amp;w=128&amp;q=70&amp;output=webp 2x\" rel=\"preload\"/><title>Learn to code for free - Personal AI powered tutor 100+ interactive courses</title><meta content=\"index,follow\" name=\"robots\"/><meta content=\"Learn and practice real-world programming skills - frontend, backend, fullstack, mobile app development and web 3 online with thousands of developers. Do problem solving with AI - ask any question and get instant response. Become job-ready 10x faster.\" name=\"description\"/><meta content=\"summary_large_image\" name=\"twitter:card\"/><meta content=\"@codedamncom\" name=\"twitter:site\"/><meta content=\"@codedamncom\" name=\"twitter:creator\"/><meta content=\"261251371039658\" property=\"fb:app_id\"/><meta content=\"Learn to code for free - Personal AI powered tutor 100+ interactive courses\" property=\"og:title\"/><meta content=\"Learn and practice real-world programming skills - frontend, backend, fullstack, mobile app development and web 3 online with thousands of developers. Do problem solving with AI - ask any question and get instant response. Become job-ready 10x faster.\" property=\"og:description\"/><meta content=\"https://codedamn.com\" property=\"og:url\"/><meta content=\"https://codedamn-website-assets.s3.amazonaws.com/uploads/iNuOa-df5EAomG-tcHP-H/og.png\" property=\"og:image\"/><meta content=\"codedamn: Learn to code like it's 2030\" property=\"og:image:alt\"/><meta content=\"1280\" property=\"og:image:width\"/><meta content=\"720\" property=\"og:image:height\"/><link href=\"https://codedamn.com\" rel=\"canonical\"/><script type=\"application/ld+json\">{\"@context\":\"https://schema.org\",\"@type\":\"Organization\",\"logo\":\"https://codedamn.com/assets/images/blacklogo.jpg\",\"url\":\"https://codedamn.com\"}</script><noscript><img alt=\"facebook pixel\" class=\"hidden\" height=\"1\" src=\"https://www.facebook.com/tr?id=3250905641816288&amp;ev=PageView&amp;noscript=1\" width=\"1\"/></noscript><meta content=\"minimum-scale=1, initial-scale=1, width=device-width, shrink-to-fit=no\" name=\"viewport\"/><meta content=\"codedamn\" name=\"application-name\"/><meta content=\"yes\" name=\"apple-mobile-web-app-capable\"/><meta content=\"default\" name=\"apple-mobile-web-app-status-bar-style\"/><meta content=\"codedamn\" name=\"apple-mobile-web-app-title\"/><meta content=\"telephone=no\" name=\"format-detection\"/><meta content=\"yes\" name=\"mobile-web-app-capable\"/><meta content=\"K3adKM0QaR6obX9d4z4AxJOT_uLqZFyz9PaZd_LQHXU\" name=\"google-site-verification\"/><meta content=\"/assets/images/favicons/browserconfig.xml\" name=\"msapplication-config\"/><meta content=\"#000000\" name=\"msapplication-TileColor\"/><meta content=\"no\" name=\"msapplication-tap-highlight\"/><link href=\"/assets/images/favicons/apple-icon-180x180.png\" rel=\"apple-touch-icon\" sizes=\"180x180\"/><link href=\"/assets/images/favicons/favicon-32x32.png\" rel=\"icon\" sizes=\"32x32\" type=\"image/png\"/><link href=\"/assets/images/favicons/favicon-16x16.png\" rel=\"icon\" sizes=\"16x16\" type=\"image/png\"/><link href=\"/manifest.json\" rel=\"manifest\"/><link href=\"/assets/images/favicons/favicon-96x96.png\" rel=\"shortcut icon\"/><meta content=\"39\" name=\"next-head-count\"/><link as=\"font\" crossorigin=\"anonymous\" data-next-font=\"size-adjust\" href=\"/_next/static/media/2aaf0723e720e8b9-s.p.woff2\" rel=\"preload\" type=\"font/woff2\"/><link as=\"style\" href=\"/_next/static/css/a047880d623db214.css\" rel=\"preload\"/><link data-n-g=\"\" href=\"/_next/static/css/a047880d623db214.css\" rel=\"stylesheet\"/><noscript data-n-css=\"\"></noscript><script defer=\"\" nomodule=\"\" src=\"/_next/static/chunks/polyfills-c67a75d1b6f99dc8.js\"></script><script data-nscript=\"beforeInteractive\" defer=\"\" src=\"https://polyfill.io/v3/polyfill.min.js?features=Set%2CResizeObserver%2Ces2020%2Ces2022%2Ces2021%2Ces5%2Ces6%2Ces7%2Ces2019%2Ces2018%2Ces2017%2Ces2016%2Ces2015&amp;flags=gated&amp;unknown=polyfill\"></script><script defer=\"\" src=\"/_next/static/chunks/webpack-98ce5ea78205a4ad.js\"></script><script defer=\"\" src=\"/_next/static/chunks/framework-ca241945d620efbc.js\"></script><script defer=\"\" src=\"/_next/static/chunks/main-9b9729ed96f41437.js\"></script><script defer=\"\" src=\"/_next/static/chunks/pages/_app-74cbb1556eed839f.js\"></script><script defer=\"\" src=\"/_next/static/chunks/252f366e-3a3136165f406986.js\"></script><script defer=\"\" src=\"/_next/static/chunks/d0c16330-37597c4c52f13517.js\"></script><script defer=\"\" src=\"/_next/static/chunks/1a48c3c1-55acb4ad903cc0ec.js\"></script><script defer=\"\" src=\"/_next/static/chunks/d64684d8-033bf05a17796052.js\"></script><script defer=\"\" src=\"/_next/static/chunks/2962-6db9e1edbe71fab8.js\"></script><script defer=\"\" src=\"/_next/static/chunks/25675-fcd226bdf7a7bc7a.js\"></script><script defer=\"\" src=\"/_next/static/chunks/10541-75a986b2f22666e5.js\"></script><script defer=\"\" src=\"/_next/static/chunks/3836-0e33a64e2aaa6789.js\"></script><script defer=\"\" src=\"/_next/static/chunks/5459-b66364569675bcb9.js\"></script><script defer=\"\" src=\"/_next/static/chunks/82177-0385ab06b324c837.js\"></script><script defer=\"\" src=\"/_next/static/chunks/15223-84ee35782f612433.js\"></script><script defer=\"\" src=\"/_next/static/chunks/pages/%5Bhostname%5D-d8c70e9a0add6add.js\"></script><script defer=\"\" src=\"/_next/static/BnQYeNQf9ZNo-FGNh0MGw/_buildManifest.js\"></script><script defer=\"\" src=\"/_next/static/BnQYeNQf9ZNo-FGNh0MGw/_ssgManifest.js\"></script></head>\n"
     ]
    }
   ],
   "source": [
    "import requests\n",
    "from bs4 import BeautifulSoup\n",
    "\n",
    "# Make a request\n",
    "page = requests.get(\n",
    "    \"https://codedamn.com\")\n",
    "soup = BeautifulSoup(page.content, 'html.parser')\n",
    "\n",
    "# Extract title of page\n",
    "page_title = soup.title.text\n",
    "\n",
    "# Extract body of page\n",
    "page_body = soup.body\n",
    "\n",
    "# Extract head of page\n",
    "page_head = soup.head\n",
    "\n",
    "# print the result\n",
    "print(page_body, page_head)"
   ]
  },
  {
   "cell_type": "code",
   "execution_count": 46,
   "id": "c3a67f14",
   "metadata": {},
   "outputs": [
    {
     "name": "stdout",
     "output_type": "stream",
     "text": [
      "<title>codedamn Web Scraper demo</title> <head>\n",
      "<!-- Anti-flicker snippet (recommended)  -->\n",
      "<style>\n",
      "\t\t\t.async-hide {\n",
      "\t\t\t\topacity: 0 !important;\n",
      "\t\t\t}\n",
      "\t\t</style>\n",
      "<title>codedamn Web Scraper demo</title>\n",
      "<meta charset=\"utf-8\"/>\n",
      "<meta content=\"IE=edge,chrome=1\" http-equiv=\"X-UA-Compatible\"/>\n",
      "<meta content=\"web scraping,Web Scraper,Chrome extension,Crawling,Cross platform scraper, \" name=\"keywords\"/>\n",
      "<meta content=\"The most popular web scraping website.\" name=\"description\"/>\n",
      "<link href=\"/webscraper-python-codedamn-classroom-website/favicon.png\" rel=\"icon\" sizes=\"128x128\"/>\n",
      "<meta content=\"width=device-width, initial-scale=1.0\" name=\"viewport\"/>\n",
      "<link href=\"/webscraper-python-codedamn-classroom-website/app.css\" rel=\"stylesheet\"/>\n",
      "<link href=\"/webscraper-python-codedamn-classroom-website/logo-icon.png\" rel=\"apple-touch-icon\"/>\n",
      "<script defer=\"\" src=\"/webscraper-python-codedamn-classroom-website/app.js\"></script>\n",
      "</head>\n"
     ]
    }
   ],
   "source": [
    "import requests\n",
    "from bs4 import BeautifulSoup\n",
    "\n",
    "# Make a request\n",
    "page = requests.get(\n",
    "    \"https://codedamn-classrooms.github.io/webscraper-python-codedamn-classroom-website/\")\n",
    "soup = BeautifulSoup(page.content, 'html.parser')\n",
    "\n",
    "# Extract title of page\n",
    "page_title = soup.title\n",
    "\n",
    "# Extract body of page\n",
    "page_body = soup.body\n",
    "\n",
    "# Extract head of page\n",
    "page_head = soup.head\n",
    "\n",
    "# print the result\n",
    "print(page_title, page_head)"
   ]
  },
  {
   "cell_type": "code",
   "execution_count": 47,
   "id": "edf6d1c9",
   "metadata": {},
   "outputs": [],
   "source": [
    "import requests\n",
    "from bs4 import BeautifulSoup\n",
    "\n",
    "# Make a request\n",
    "page = requests.get(\n",
    "    \"https://codedamn-classrooms.github.io/webscraper-python-codedamn-classroom-website/\")\n",
    "soup = BeautifulSoup(page.content, 'html.parser')\n",
    "\n",
    "# Extract first <h1>(...)</h1> text\n",
    "first_h1 = soup.select('h1')[0].text"
   ]
  },
  {
   "cell_type": "code",
   "execution_count": 48,
   "id": "4872c555",
   "metadata": {},
   "outputs": [
    {
     "name": "stdout",
     "output_type": "stream",
     "text": [
      "['Test Sites', 'E-commerce training site'] 7 reviews\n"
     ]
    }
   ],
   "source": [
    "import requests\n",
    "from bs4 import BeautifulSoup\n",
    "# Make a request\n",
    "page = requests.get(\n",
    "    \"https://codedamn-classrooms.github.io/webscraper-python-codedamn-classroom-website/\")\n",
    "soup = BeautifulSoup(page.content, 'html.parser')\n",
    "\n",
    "# Create all_h1_tags as empty list\n",
    "all_h1_tags = []\n",
    "\n",
    "# Set all_h1_tags to all h1 tags of the soup\n",
    "for element in soup.select('h1'):\n",
    "    all_h1_tags.append(element.text)\n",
    "\n",
    "# Create seventh_p_text and set it to 7th p element text of the page\n",
    "seventh_p_text = soup.select('p')[6].text\n",
    "\n",
    "print(all_h1_tags, seventh_p_text)"
   ]
  },
  {
   "cell_type": "code",
   "execution_count": 49,
   "id": "6aebf2a7",
   "metadata": {},
   "outputs": [],
   "source": [
    "info = {\n",
    "   \"title\": 'Asus AsusPro Adv...   '.strip(),\n",
    "   \"review\": '2 reviews\\n\\n\\n'.strip()\n",
    "}"
   ]
  },
  {
   "cell_type": "code",
   "execution_count": 50,
   "id": "115b9be7",
   "metadata": {},
   "outputs": [],
   "source": [
    "import requests\n",
    "from bs4 import BeautifulSoup\n",
    "# Make a request\n",
    "page = requests.get(\n",
    "    \"https://codedamn-classrooms.github.io/webscraper-python-codedamn-classroom-website/\")\n",
    "soup = BeautifulSoup(page.content, 'html.parser')\n",
    "\n",
    "# Create top_items as empty list\n",
    "top_items = []\n",
    "\n",
    "# Extract and store in top_items according to instructions on the left\n",
    "products = soup.select('div.thumbnail')\n",
    "for elem in products:\n",
    "    title = elem.select('h4 > a.title')[0].text\n",
    "    review_label = elem.select('div.ratings')[0].text\n",
    "    info = {\n",
    "        \"title\": title.strip(),\n",
    "        \"review\": review_label.strip()\n",
    "    }\n",
    "    top_items.append(info)\n"
   ]
  },
  {
   "cell_type": "code",
   "execution_count": 51,
   "id": "50b0c7f9",
   "metadata": {},
   "outputs": [
    {
     "name": "stdout",
     "output_type": "stream",
     "text": [
      "[{'src': '/webscraper-python-codedamn-classroom-website/logo_white.svg', 'alt': 'Web Scraper'}, {'src': '/webscraper-python-codedamn-classroom-website/cart2.png', 'alt': 'item'}, {'src': '/webscraper-python-codedamn-classroom-website/cart2.png', 'alt': 'item'}, {'src': '/webscraper-python-codedamn-classroom-website/cart2.png', 'alt': 'item'}, {'src': '/webscraper-python-codedamn-classroom-website/fbicon.png', 'alt': 'Web Scraper on Facebook'}, {'src': '/webscraper-python-codedamn-classroom-website/twicon.png', 'alt': 'Web Scraper on Twitter'}]\n"
     ]
    }
   ],
   "source": [
    "import requests\n",
    "from bs4 import BeautifulSoup\n",
    "# Make a request\n",
    "page = requests.get(\n",
    "    \"https://codedamn-classrooms.github.io/webscraper-python-codedamn-classroom-website/\")\n",
    "soup = BeautifulSoup(page.content, 'html.parser')\n",
    "\n",
    "# Create top_items as empty list\n",
    "image_data = []\n",
    "\n",
    "# Extract and store in top_items according to instructions on the left\n",
    "images = soup.select('img')\n",
    "for image in images:\n",
    "    src = image.get('src')\n",
    "    alt = image.get('alt')\n",
    "    image_data.append({\"src\": src, \"alt\": alt})\n",
    "\n",
    "print(image_data)"
   ]
  },
  {
   "cell_type": "code",
   "execution_count": 52,
   "id": "74415ef4",
   "metadata": {},
   "outputs": [],
   "source": [
    "info = {\n",
    "   \"href\": \"<link here>\",\n",
    "   \"text\": \"<link text here>\"\n",
    "}"
   ]
  },
  {
   "cell_type": "code",
   "execution_count": 53,
   "id": "a0bef5d7",
   "metadata": {},
   "outputs": [
    {
     "name": "stdout",
     "output_type": "stream",
     "text": [
      "[{'href': '', 'text': 'Toggle navigation'}, {'href': '/webscraper-python-codedamn-classroom-website/', 'text': ''}, {'href': '#page-top', 'text': ''}, {'href': '/webscraper-python-codedamn-classroom-website/', 'text': 'Web Scraper'}, {'href': '/webscraper-python-codedamn-classroom-website/cloud-scraper', 'text': 'Cloud Scraper'}, {'href': '/webscraper-python-codedamn-classroom-website/pricing', 'text': 'Pricing'}, {'href': '#section3', 'text': 'Learn'}, {'href': '/webscraper-python-codedamn-classroom-website/documentation', 'text': 'Documentation'}, {'href': '/webscraper-python-codedamn-classroom-website/tutorials', 'text': 'Video Tutorials'}, {'href': '/webscraper-python-codedamn-classroom-website/how-to-videos', 'text': 'How to'}, {'href': '/webscraper-python-codedamn-classroom-website/test-sites', 'text': 'Test Sites'}, {'href': 'https://forum.webscraper.io/', 'text': 'Forum'}, {'href': 'https://chrome.google.com/webstore/detail/web-scraper/jnhgnonknehpejjnehehllkliplmbmhn?hl=en', 'text': 'Install'}, {'href': 'https://cloud.webscraper.io/', 'text': 'Login'}, {'href': '/webscraper-python-codedamn-classroom-website/test-sites/e-commerce/allinone', 'text': 'Home'}, {'href': '/webscraper-python-codedamn-classroom-website/test-sites/e-commerce/allinone/computers', 'text': 'Computers'}, {'href': '/webscraper-python-codedamn-classroom-website/test-sites/e-commerce/allinone/phones', 'text': 'Phones'}, {'href': '/webscraper-python-codedamn-classroom-website/test-sites/e-commerce/allinone/product/593', 'text': 'Asus AsusPro Adv...'}, {'href': '/webscraper-python-codedamn-classroom-website/test-sites/e-commerce/allinone/product/583', 'text': 'Asus ROG Strix G...'}, {'href': '/webscraper-python-codedamn-classroom-website/test-sites/e-commerce/allinone/product/576', 'text': 'Acer Aspire 3 A3...'}, {'href': '/webscraper-python-codedamn-classroom-website/', 'text': 'Web Scraper browser extension'}, {'href': '/webscraper-python-codedamn-classroom-website/pricing', 'text': 'Web Scraper Cloud'}, {'href': '/webscraper-python-codedamn-classroom-website/contact', 'text': 'Contact'}, {'href': '/webscraper-python-codedamn-classroom-website/privacy-policy', 'text': 'Website Privacy Policy'}, {'href': '/webscraper-python-codedamn-classroom-website/extension-privacy-policy', 'text': 'Browser Extension Privacy Policy'}, {'href': 'http://webscraperio.us-east-1.elasticbeanstalk.com/downloads/Web_Scraper_Media_Kit.zip', 'text': 'Media kit'}, {'href': '/webscraper-python-codedamn-classroom-website/jobs', 'text': 'Jobs'}, {'href': '/webscraper-python-codedamn-classroom-website/blog', 'text': 'Blog'}, {'href': '/webscraper-python-codedamn-classroom-website/documentation', 'text': 'Documentation'}, {'href': '/webscraper-python-codedamn-classroom-website/tutorials', 'text': 'Video Tutorials'}, {'href': '/webscraper-python-codedamn-classroom-website/screenshots', 'text': 'Screenshots'}, {'href': '/webscraper-python-codedamn-classroom-website/test-sites', 'text': 'Test Sites'}, {'href': 'https://forum.webscraper.io/', 'text': 'Forum'}, {'href': 'mailto:info@webscraper.io', 'text': 'info@webscraper.io'}, {'href': 'https://www.facebook.com/webscraperio/', 'text': ''}, {'href': 'https://twitter.com/webscraperio', 'text': ''}, {'href': '#', 'text': 'Web Scraper'}]\n"
     ]
    }
   ],
   "source": [
    "import requests\n",
    "from bs4 import BeautifulSoup\n",
    "# Make a request\n",
    "page = requests.get(\n",
    "    \"https://codedamn-classrooms.github.io/webscraper-python-codedamn-classroom-website/\")\n",
    "soup = BeautifulSoup(page.content, 'html.parser')\n",
    "\n",
    "# Create top_items as empty list\n",
    "all_links = []\n",
    "\n",
    "# Extract and store in top_items according to instructions on the left\n",
    "links = soup.select('a')\n",
    "for ahref in links:\n",
    "    text = ahref.text\n",
    "    text = text.strip() if text is not None else ''\n",
    "\n",
    "    href = ahref.get('href')\n",
    "    href = href.strip() if href is not None else ''\n",
    "    all_links.append({\"href\": href, \"text\": text})\n",
    "\n",
    "print(all_links)"
   ]
  },
  {
   "cell_type": "code",
   "execution_count": 56,
   "id": "f768c842",
   "metadata": {},
   "outputs": [
    {
     "name": "stdout",
     "output_type": "stream",
     "text": [
      "Work on product here\n",
      "Work on product here\n",
      "Work on product here\n"
     ]
    }
   ],
   "source": [
    "import requests\n",
    "from bs4 import BeautifulSoup\n",
    "import csv\n",
    "# Make a request\n",
    "page = requests.get(\n",
    "    \"https://codedamn-classrooms.github.io/webscraper-python-codedamn-classroom-website/\")\n",
    "soup = BeautifulSoup(page.content, 'html.parser')\n",
    "\n",
    "all_products = []\n",
    "\n",
    "products = soup.select('div.thumbnail')\n",
    "for product in products:\n",
    "    # TODO: Work\n",
    "    print(\"Work on product here\")\n",
    "\n",
    "\n",
    "\n",
    "\n",
    "with open('products.csv', 'w', newline='') as output_file:\n",
    "    dict_writer = csv.DictWriter(output_file, keys)\n",
    "    dict_writer.writeheader()\n",
    "    dict_writer.writerows(all_products)"
   ]
  },
  {
   "cell_type": "code",
   "execution_count": 55,
   "id": "19405118",
   "metadata": {},
   "outputs": [],
   "source": [
    "import requests\n",
    "from bs4 import BeautifulSoup\n",
    "import csv\n",
    "# Make a request\n",
    "page = requests.get(\n",
    "    \"https://codedamn-classrooms.github.io/webscraper-python-codedamn-classroom-website/\")\n",
    "soup = BeautifulSoup(page.content, 'html.parser')\n",
    "\n",
    "# Create top_items as empty list\n",
    "all_products = []\n",
    "\n",
    "# Extract and store in top_items according to instructions on the left\n",
    "products = soup.select('div.thumbnail')\n",
    "for product in products:\n",
    "    name = product.select('h4 > a')[0].text.strip()\n",
    "    description = product.select('p.description')[0].text.strip()\n",
    "    price = product.select('h4.price')[0].text.strip()\n",
    "    reviews = product.select('div.ratings')[0].text.strip()\n",
    "    image = product.select('img')[0].get('src')\n",
    "\n",
    "    all_products.append({\n",
    "        \"name\": name,\n",
    "        \"description\": description,\n",
    "        \"price\": price,\n",
    "        \"reviews\": reviews,\n",
    "        \"image\": image\n",
    "    })\n",
    "\n",
    "\n",
    "keys = all_products[0].keys()\n",
    "\n",
    "with open('products.csv', 'w', newline='') as output_file:\n",
    "    dict_writer = csv.DictWriter(output_file, keys)\n",
    "    dict_writer.writeheader()\n",
    "    dict_writer.writerows(all_products)"
   ]
  },
  {
   "cell_type": "markdown",
   "id": "1336172d",
   "metadata": {},
   "source": [
    "3. Write a python program to access the search bar and search button on images.google.com and scrape 10\n",
    "images each for keywords ‘fruits’, ‘cars’ and ‘Machine Learning’, ‘Guitar’, ‘Cakes’."
   ]
  },
  {
   "cell_type": "code",
   "execution_count": 73,
   "id": "d50374c2",
   "metadata": {},
   "outputs": [],
   "source": [
    "# connecting to the webdriver\n",
    "driver=webdriver.Chrome(r\"C:/Users/HP/Downloads/chromedriver_win32 (1)/chromedriver.exe\")"
   ]
  },
  {
   "cell_type": "code",
   "execution_count": 76,
   "id": "05b90a3f",
   "metadata": {},
   "outputs": [
    {
     "ename": "InvalidArgumentException",
     "evalue": "Message: invalid argument: invalid locator\n  (Session info: chrome=113.0.5672.93)\nStacktrace:\nBacktrace:\n\tGetHandleVerifier [0x01028893+48451]\n\t(No symbol) [0x00FBB8A1]\n\t(No symbol) [0x00EC5058]\n\t(No symbol) [0x00EF0570]\n\t(No symbol) [0x00EF069B]\n\t(No symbol) [0x00F1DD92]\n\t(No symbol) [0x00F0A304]\n\t(No symbol) [0x00F1C482]\n\t(No symbol) [0x00F0A0B6]\n\t(No symbol) [0x00EE7E08]\n\t(No symbol) [0x00EE8F2D]\n\tGetHandleVerifier [0x01288E3A+2540266]\n\tGetHandleVerifier [0x012C8959+2801161]\n\tGetHandleVerifier [0x012C295C+2776588]\n\tGetHandleVerifier [0x010B2280+612144]\n\t(No symbol) [0x00FC4F6C]\n\t(No symbol) [0x00FC11D8]\n\t(No symbol) [0x00FC12BB]\n\t(No symbol) [0x00FB4857]\n\tBaseThreadInitThunk [0x75CA7D49+25]\n\tRtlInitializeExceptionChain [0x7723B74B+107]\n\tRtlClearBits [0x7723B6CF+191]\n",
     "output_type": "error",
     "traceback": [
      "\u001b[1;31m---------------------------------------------------------------------------\u001b[0m",
      "\u001b[1;31mInvalidArgumentException\u001b[0m                  Traceback (most recent call last)",
      "Input \u001b[1;32mIn [76]\u001b[0m, in \u001b[0;36m<cell line: 9>\u001b[1;34m()\u001b[0m\n\u001b[0;32m     11\u001b[0m time\u001b[38;5;241m.\u001b[39msleep(\u001b[38;5;241m5\u001b[39m)\n\u001b[0;32m     13\u001b[0m \u001b[38;5;66;03m# finding webelement for search_bar\u001b[39;00m\n\u001b[1;32m---> 14\u001b[0m search_bar \u001b[38;5;241m=\u001b[39m \u001b[43mdriver\u001b[49m\u001b[38;5;241;43m.\u001b[39;49m\u001b[43mfind_element\u001b[49m\u001b[43m(\u001b[49m\u001b[38;5;124;43m\"\u001b[39;49m\u001b[38;5;124;43minput\u001b[39;49m\u001b[38;5;124;43m\"\u001b[39;49m\u001b[43m)\u001b[49m\n\u001b[0;32m     16\u001b[0m \u001b[38;5;66;03m# sending keys to get the keyword for search bar\u001b[39;00m\n\u001b[0;32m     17\u001b[0m search_bar\u001b[38;5;241m.\u001b[39msend_keys(\u001b[38;5;28mstr\u001b[39m(item))\n",
      "File \u001b[1;32m~\\AppData\\Roaming\\Python\\Python39\\site-packages\\selenium\\webdriver\\remote\\webdriver.py:831\u001b[0m, in \u001b[0;36mWebDriver.find_element\u001b[1;34m(self, by, value)\u001b[0m\n\u001b[0;32m    828\u001b[0m     by \u001b[38;5;241m=\u001b[39m By\u001b[38;5;241m.\u001b[39mCSS_SELECTOR\n\u001b[0;32m    829\u001b[0m     value \u001b[38;5;241m=\u001b[39m \u001b[38;5;124mf\u001b[39m\u001b[38;5;124m'\u001b[39m\u001b[38;5;124m[name=\u001b[39m\u001b[38;5;124m\"\u001b[39m\u001b[38;5;132;01m{\u001b[39;00mvalue\u001b[38;5;132;01m}\u001b[39;00m\u001b[38;5;124m\"\u001b[39m\u001b[38;5;124m]\u001b[39m\u001b[38;5;124m'\u001b[39m\n\u001b[1;32m--> 831\u001b[0m \u001b[38;5;28;01mreturn\u001b[39;00m \u001b[38;5;28;43mself\u001b[39;49m\u001b[38;5;241;43m.\u001b[39;49m\u001b[43mexecute\u001b[49m\u001b[43m(\u001b[49m\u001b[43mCommand\u001b[49m\u001b[38;5;241;43m.\u001b[39;49m\u001b[43mFIND_ELEMENT\u001b[49m\u001b[43m,\u001b[49m\u001b[43m \u001b[49m\u001b[43m{\u001b[49m\u001b[38;5;124;43m\"\u001b[39;49m\u001b[38;5;124;43musing\u001b[39;49m\u001b[38;5;124;43m\"\u001b[39;49m\u001b[43m:\u001b[49m\u001b[43m \u001b[49m\u001b[43mby\u001b[49m\u001b[43m,\u001b[49m\u001b[43m \u001b[49m\u001b[38;5;124;43m\"\u001b[39;49m\u001b[38;5;124;43mvalue\u001b[39;49m\u001b[38;5;124;43m\"\u001b[39;49m\u001b[43m:\u001b[49m\u001b[43m \u001b[49m\u001b[43mvalue\u001b[49m\u001b[43m}\u001b[49m\u001b[43m)\u001b[49m[\u001b[38;5;124m\"\u001b[39m\u001b[38;5;124mvalue\u001b[39m\u001b[38;5;124m\"\u001b[39m]\n",
      "File \u001b[1;32m~\\AppData\\Roaming\\Python\\Python39\\site-packages\\selenium\\webdriver\\remote\\webdriver.py:440\u001b[0m, in \u001b[0;36mWebDriver.execute\u001b[1;34m(self, driver_command, params)\u001b[0m\n\u001b[0;32m    438\u001b[0m response \u001b[38;5;241m=\u001b[39m \u001b[38;5;28mself\u001b[39m\u001b[38;5;241m.\u001b[39mcommand_executor\u001b[38;5;241m.\u001b[39mexecute(driver_command, params)\n\u001b[0;32m    439\u001b[0m \u001b[38;5;28;01mif\u001b[39;00m response:\n\u001b[1;32m--> 440\u001b[0m     \u001b[38;5;28;43mself\u001b[39;49m\u001b[38;5;241;43m.\u001b[39;49m\u001b[43merror_handler\u001b[49m\u001b[38;5;241;43m.\u001b[39;49m\u001b[43mcheck_response\u001b[49m\u001b[43m(\u001b[49m\u001b[43mresponse\u001b[49m\u001b[43m)\u001b[49m\n\u001b[0;32m    441\u001b[0m     response[\u001b[38;5;124m\"\u001b[39m\u001b[38;5;124mvalue\u001b[39m\u001b[38;5;124m\"\u001b[39m] \u001b[38;5;241m=\u001b[39m \u001b[38;5;28mself\u001b[39m\u001b[38;5;241m.\u001b[39m_unwrap_value(response\u001b[38;5;241m.\u001b[39mget(\u001b[38;5;124m\"\u001b[39m\u001b[38;5;124mvalue\u001b[39m\u001b[38;5;124m\"\u001b[39m, \u001b[38;5;28;01mNone\u001b[39;00m))\n\u001b[0;32m    442\u001b[0m     \u001b[38;5;28;01mreturn\u001b[39;00m response\n",
      "File \u001b[1;32m~\\AppData\\Roaming\\Python\\Python39\\site-packages\\selenium\\webdriver\\remote\\errorhandler.py:245\u001b[0m, in \u001b[0;36mErrorHandler.check_response\u001b[1;34m(self, response)\u001b[0m\n\u001b[0;32m    243\u001b[0m         alert_text \u001b[38;5;241m=\u001b[39m value[\u001b[38;5;124m\"\u001b[39m\u001b[38;5;124malert\u001b[39m\u001b[38;5;124m\"\u001b[39m]\u001b[38;5;241m.\u001b[39mget(\u001b[38;5;124m\"\u001b[39m\u001b[38;5;124mtext\u001b[39m\u001b[38;5;124m\"\u001b[39m)\n\u001b[0;32m    244\u001b[0m     \u001b[38;5;28;01mraise\u001b[39;00m exception_class(message, screen, stacktrace, alert_text)  \u001b[38;5;66;03m# type: ignore[call-arg]  # mypy is not smart enough here\u001b[39;00m\n\u001b[1;32m--> 245\u001b[0m \u001b[38;5;28;01mraise\u001b[39;00m exception_class(message, screen, stacktrace)\n",
      "\u001b[1;31mInvalidArgumentException\u001b[0m: Message: invalid argument: invalid locator\n  (Session info: chrome=113.0.5672.93)\nStacktrace:\nBacktrace:\n\tGetHandleVerifier [0x01028893+48451]\n\t(No symbol) [0x00FBB8A1]\n\t(No symbol) [0x00EC5058]\n\t(No symbol) [0x00EF0570]\n\t(No symbol) [0x00EF069B]\n\t(No symbol) [0x00F1DD92]\n\t(No symbol) [0x00F0A304]\n\t(No symbol) [0x00F1C482]\n\t(No symbol) [0x00F0A0B6]\n\t(No symbol) [0x00EE7E08]\n\t(No symbol) [0x00EE8F2D]\n\tGetHandleVerifier [0x01288E3A+2540266]\n\tGetHandleVerifier [0x012C8959+2801161]\n\tGetHandleVerifier [0x012C295C+2776588]\n\tGetHandleVerifier [0x010B2280+612144]\n\t(No symbol) [0x00FC4F6C]\n\t(No symbol) [0x00FC11D8]\n\t(No symbol) [0x00FC12BB]\n\t(No symbol) [0x00FB4857]\n\tBaseThreadInitThunk [0x75CA7D49+25]\n\tRtlInitializeExceptionChain [0x7723B74B+107]\n\tRtlClearBits [0x7723B6CF+191]\n"
     ]
    }
   ],
   "source": [
    "# geting the webpage of mentioned url\n",
    "url = \"http://images.google.com/\"\n",
    "\n",
    "# creating empty list\n",
    "urls = []\n",
    "data = []\n",
    "\n",
    "search_item = [\"Fruits\",\"Cars\",\"Machine Learning\"]\n",
    "for item in search_item:\n",
    "    driver.get(url)\n",
    "    time.sleep(5)\n",
    "    \n",
    "    # finding webelement for search_bar\n",
    "    search_bar = driver.find_element(\"input\")\n",
    "    \n",
    "    # sending keys to get the keyword for search bar\n",
    "    search_bar.send_keys(str(item))\n",
    "    \n",
    "    # clicking on search button\n",
    "    search_button = driver.find_element_by_xpath(\"//button[@class='Tg7LZd']\").click()\n",
    "    \n",
    "    # scroling down the webpage to get some more images\n",
    "    for _ in range(500):\n",
    "        driver.execute_script(\"window.scrollBy(0,100)\")\n",
    "        \n",
    "        imgs = driver.find_elements_by_xpath(\"//img[@class='rg_i Q4LuWd']\")\n",
    "    img_url = []\n",
    "    for image in imgs:\n",
    "        source = image.get_attribute('src')\n",
    "        if source is not None:\n",
    "            if(source[0:4] == 'http'):\n",
    "                img_url.append(source)\n",
    "    for i in img_url[:100]:\n",
    "        urls.append(i)\n",
    "        \n",
    "for i in range(len(urls)):\n",
    "    if i >= 300:\n",
    "        break\n",
    "    print(\"Doenloading {0} of {1} images\" .format(i,300))\n",
    "    response = requests.get(urls[i])\n",
    "    \n",
    "    file = open(r\"E:\\google\\images\"+str(i)+\".jpg\",\"wb\")\n",
    "    \n",
    "    file.write(response.content)"
   ]
  },
  {
   "cell_type": "code",
   "execution_count": null,
   "id": "52ca7cae",
   "metadata": {},
   "outputs": [],
   "source": [
    "driver.close()"
   ]
  },
  {
   "cell_type": "code",
   "execution_count": 58,
   "id": "a5d852be",
   "metadata": {},
   "outputs": [
    {
     "ename": "ImportError",
     "evalue": "cannot import name 'FancyURLopener' from 'urllib' (C:\\ProgramData\\Anaconda3\\lib\\urllib\\__init__.py)",
     "output_type": "error",
     "traceback": [
      "\u001b[1;31m---------------------------------------------------------------------------\u001b[0m",
      "\u001b[1;31mImportError\u001b[0m                               Traceback (most recent call last)",
      "Input \u001b[1;32mIn [58]\u001b[0m, in \u001b[0;36m<cell line: 4>\u001b[1;34m()\u001b[0m\n\u001b[0;32m      2\u001b[0m \u001b[38;5;28;01mimport\u001b[39;00m \u001b[38;5;21;01msys\u001b[39;00m\n\u001b[0;32m      3\u001b[0m \u001b[38;5;28;01mimport\u001b[39;00m \u001b[38;5;21;01mtime\u001b[39;00m\n\u001b[1;32m----> 4\u001b[0m \u001b[38;5;28;01mfrom\u001b[39;00m \u001b[38;5;21;01murllib\u001b[39;00m \u001b[38;5;28;01mimport\u001b[39;00m FancyURLopener\n\u001b[0;32m      5\u001b[0m \u001b[38;5;28;01mimport\u001b[39;00m \u001b[38;5;21;01murllib2\u001b[39;00m\n\u001b[0;32m      6\u001b[0m \u001b[38;5;28;01mimport\u001b[39;00m \u001b[38;5;21;01msimplejson\u001b[39;00m\n",
      "\u001b[1;31mImportError\u001b[0m: cannot import name 'FancyURLopener' from 'urllib' (C:\\ProgramData\\Anaconda3\\lib\\urllib\\__init__.py)"
     ]
    }
   ],
   "source": [
    "import os\n",
    "import sys\n",
    "import time\n",
    "from urllib import FancyURLopener\n",
    "import urllib2\n",
    "import simplejson\n",
    "\n",
    "# Define search term\n",
    "searchTerm = \"hello world\"\n",
    "\n",
    "# Replace spaces ' ' in search term for '%20' in order to comply with request\n",
    "searchTerm = searchTerm.replace(' ','%20')\n",
    "\n",
    "\n",
    "# Start FancyURLopener with defined version \n",
    "class MyOpener(FancyURLopener): \n",
    "    version = 'Mozilla/5.0 (Windows; U; Windows NT 5.1; it; rv:1.8.1.11) Gecko/20071127 Firefox/2.0.0.11'\n",
    "myopener = MyOpener()\n",
    "\n",
    "# Set count to 0\n",
    "count= 0\n",
    "\n",
    "for i in range(0,10):\n",
    "    # Notice that the start changes for each iteration in order to request a new set of images for each loop\n",
    "    url = ('https://ajax.googleapis.com/ajax/services/search/images?' + 'v=1.0&q='+searchTerm+'&start='+str(i*4)+'&userip=MyIP')\n",
    "    print (url)\n",
    "    request = urllib2.Request(url, None, {'Referer': 'testing'})\n",
    "    response = urllib2.urlopen(request)\n",
    "\n",
    "    # Get results using JSON\n",
    "    results = simplejson.load(response)\n",
    "    data = results['responseData']\n",
    "    dataInfo = data['results']"
   ]
  },
  {
   "cell_type": "code",
   "execution_count": 66,
   "id": "40e0ca6a",
   "metadata": {},
   "outputs": [
    {
     "ename": "NoSuchElementException",
     "evalue": "Message: no such element: Unable to locate element: {\"method\":\"xpath\",\"selector\":\"//div[@class='pR49Ae gsfi']//following::input\"}\n  (Session info: chrome=113.0.5672.93)\nStacktrace:\nBacktrace:\n\tGetHandleVerifier [0x01028893+48451]\n\t(No symbol) [0x00FBB8A1]\n\t(No symbol) [0x00EC5058]\n\t(No symbol) [0x00EF0467]\n\t(No symbol) [0x00EF069B]\n\t(No symbol) [0x00F1DD92]\n\t(No symbol) [0x00F0A304]\n\t(No symbol) [0x00F1C482]\n\t(No symbol) [0x00F0A0B6]\n\t(No symbol) [0x00EE7E08]\n\t(No symbol) [0x00EE8F2D]\n\tGetHandleVerifier [0x01288E3A+2540266]\n\tGetHandleVerifier [0x012C8959+2801161]\n\tGetHandleVerifier [0x012C295C+2776588]\n\tGetHandleVerifier [0x010B2280+612144]\n\t(No symbol) [0x00FC4F6C]\n\t(No symbol) [0x00FC11D8]\n\t(No symbol) [0x00FC12BB]\n\t(No symbol) [0x00FB4857]\n\tBaseThreadInitThunk [0x75CA7D49+25]\n\tRtlInitializeExceptionChain [0x7723B74B+107]\n\tRtlClearBits [0x7723B6CF+191]\n",
     "output_type": "error",
     "traceback": [
      "\u001b[1;31m---------------------------------------------------------------------------\u001b[0m",
      "\u001b[1;31mNoSuchElementException\u001b[0m                    Traceback (most recent call last)",
      "Input \u001b[1;32mIn [66]\u001b[0m, in \u001b[0;36m<cell line: 5>\u001b[1;34m()\u001b[0m\n\u001b[0;32m      3\u001b[0m time\u001b[38;5;241m.\u001b[39msleep(\u001b[38;5;241m5\u001b[39m)\n\u001b[0;32m      4\u001b[0m \u001b[38;5;66;03m# get web element for search button\u001b[39;00m\n\u001b[1;32m----> 5\u001b[0m search_wbe\u001b[38;5;241m=\u001b[39m\u001b[43mdriver\u001b[49m\u001b[38;5;241;43m.\u001b[39;49m\u001b[43mfind_element\u001b[49m\u001b[43m(\u001b[49m\u001b[43mBy\u001b[49m\u001b[38;5;241;43m.\u001b[39;49m\u001b[43mXPATH\u001b[49m\u001b[43m,\u001b[49m\u001b[38;5;124;43m\"\u001b[39;49m\u001b[38;5;124;43m//div[@class=\u001b[39;49m\u001b[38;5;124;43m'\u001b[39;49m\u001b[38;5;124;43mpR49Ae gsfi\u001b[39;49m\u001b[38;5;124;43m'\u001b[39;49m\u001b[38;5;124;43m]//following::input\u001b[39;49m\u001b[38;5;124;43m\"\u001b[39;49m\u001b[43m)\u001b[49m\n\u001b[0;32m      6\u001b[0m \u001b[38;5;66;03m#enter text into search bar\u001b[39;00m\n\u001b[0;32m      7\u001b[0m search_wbe\u001b[38;5;241m.\u001b[39msend_keys(\u001b[38;5;124m'\u001b[39m\u001b[38;5;124mfruits\u001b[39m\u001b[38;5;124m'\u001b[39m,Keys\u001b[38;5;241m.\u001b[39mENTER)\n",
      "File \u001b[1;32m~\\AppData\\Roaming\\Python\\Python39\\site-packages\\selenium\\webdriver\\remote\\webdriver.py:831\u001b[0m, in \u001b[0;36mWebDriver.find_element\u001b[1;34m(self, by, value)\u001b[0m\n\u001b[0;32m    828\u001b[0m     by \u001b[38;5;241m=\u001b[39m By\u001b[38;5;241m.\u001b[39mCSS_SELECTOR\n\u001b[0;32m    829\u001b[0m     value \u001b[38;5;241m=\u001b[39m \u001b[38;5;124mf\u001b[39m\u001b[38;5;124m'\u001b[39m\u001b[38;5;124m[name=\u001b[39m\u001b[38;5;124m\"\u001b[39m\u001b[38;5;132;01m{\u001b[39;00mvalue\u001b[38;5;132;01m}\u001b[39;00m\u001b[38;5;124m\"\u001b[39m\u001b[38;5;124m]\u001b[39m\u001b[38;5;124m'\u001b[39m\n\u001b[1;32m--> 831\u001b[0m \u001b[38;5;28;01mreturn\u001b[39;00m \u001b[38;5;28;43mself\u001b[39;49m\u001b[38;5;241;43m.\u001b[39;49m\u001b[43mexecute\u001b[49m\u001b[43m(\u001b[49m\u001b[43mCommand\u001b[49m\u001b[38;5;241;43m.\u001b[39;49m\u001b[43mFIND_ELEMENT\u001b[49m\u001b[43m,\u001b[49m\u001b[43m \u001b[49m\u001b[43m{\u001b[49m\u001b[38;5;124;43m\"\u001b[39;49m\u001b[38;5;124;43musing\u001b[39;49m\u001b[38;5;124;43m\"\u001b[39;49m\u001b[43m:\u001b[49m\u001b[43m \u001b[49m\u001b[43mby\u001b[49m\u001b[43m,\u001b[49m\u001b[43m \u001b[49m\u001b[38;5;124;43m\"\u001b[39;49m\u001b[38;5;124;43mvalue\u001b[39;49m\u001b[38;5;124;43m\"\u001b[39;49m\u001b[43m:\u001b[49m\u001b[43m \u001b[49m\u001b[43mvalue\u001b[49m\u001b[43m}\u001b[49m\u001b[43m)\u001b[49m[\u001b[38;5;124m\"\u001b[39m\u001b[38;5;124mvalue\u001b[39m\u001b[38;5;124m\"\u001b[39m]\n",
      "File \u001b[1;32m~\\AppData\\Roaming\\Python\\Python39\\site-packages\\selenium\\webdriver\\remote\\webdriver.py:440\u001b[0m, in \u001b[0;36mWebDriver.execute\u001b[1;34m(self, driver_command, params)\u001b[0m\n\u001b[0;32m    438\u001b[0m response \u001b[38;5;241m=\u001b[39m \u001b[38;5;28mself\u001b[39m\u001b[38;5;241m.\u001b[39mcommand_executor\u001b[38;5;241m.\u001b[39mexecute(driver_command, params)\n\u001b[0;32m    439\u001b[0m \u001b[38;5;28;01mif\u001b[39;00m response:\n\u001b[1;32m--> 440\u001b[0m     \u001b[38;5;28;43mself\u001b[39;49m\u001b[38;5;241;43m.\u001b[39;49m\u001b[43merror_handler\u001b[49m\u001b[38;5;241;43m.\u001b[39;49m\u001b[43mcheck_response\u001b[49m\u001b[43m(\u001b[49m\u001b[43mresponse\u001b[49m\u001b[43m)\u001b[49m\n\u001b[0;32m    441\u001b[0m     response[\u001b[38;5;124m\"\u001b[39m\u001b[38;5;124mvalue\u001b[39m\u001b[38;5;124m\"\u001b[39m] \u001b[38;5;241m=\u001b[39m \u001b[38;5;28mself\u001b[39m\u001b[38;5;241m.\u001b[39m_unwrap_value(response\u001b[38;5;241m.\u001b[39mget(\u001b[38;5;124m\"\u001b[39m\u001b[38;5;124mvalue\u001b[39m\u001b[38;5;124m\"\u001b[39m, \u001b[38;5;28;01mNone\u001b[39;00m))\n\u001b[0;32m    442\u001b[0m     \u001b[38;5;28;01mreturn\u001b[39;00m response\n",
      "File \u001b[1;32m~\\AppData\\Roaming\\Python\\Python39\\site-packages\\selenium\\webdriver\\remote\\errorhandler.py:245\u001b[0m, in \u001b[0;36mErrorHandler.check_response\u001b[1;34m(self, response)\u001b[0m\n\u001b[0;32m    243\u001b[0m         alert_text \u001b[38;5;241m=\u001b[39m value[\u001b[38;5;124m\"\u001b[39m\u001b[38;5;124malert\u001b[39m\u001b[38;5;124m\"\u001b[39m]\u001b[38;5;241m.\u001b[39mget(\u001b[38;5;124m\"\u001b[39m\u001b[38;5;124mtext\u001b[39m\u001b[38;5;124m\"\u001b[39m)\n\u001b[0;32m    244\u001b[0m     \u001b[38;5;28;01mraise\u001b[39;00m exception_class(message, screen, stacktrace, alert_text)  \u001b[38;5;66;03m# type: ignore[call-arg]  # mypy is not smart enough here\u001b[39;00m\n\u001b[1;32m--> 245\u001b[0m \u001b[38;5;28;01mraise\u001b[39;00m exception_class(message, screen, stacktrace)\n",
      "\u001b[1;31mNoSuchElementException\u001b[0m: Message: no such element: Unable to locate element: {\"method\":\"xpath\",\"selector\":\"//div[@class='pR49Ae gsfi']//following::input\"}\n  (Session info: chrome=113.0.5672.93)\nStacktrace:\nBacktrace:\n\tGetHandleVerifier [0x01028893+48451]\n\t(No symbol) [0x00FBB8A1]\n\t(No symbol) [0x00EC5058]\n\t(No symbol) [0x00EF0467]\n\t(No symbol) [0x00EF069B]\n\t(No symbol) [0x00F1DD92]\n\t(No symbol) [0x00F0A304]\n\t(No symbol) [0x00F1C482]\n\t(No symbol) [0x00F0A0B6]\n\t(No symbol) [0x00EE7E08]\n\t(No symbol) [0x00EE8F2D]\n\tGetHandleVerifier [0x01288E3A+2540266]\n\tGetHandleVerifier [0x012C8959+2801161]\n\tGetHandleVerifier [0x012C295C+2776588]\n\tGetHandleVerifier [0x010B2280+612144]\n\t(No symbol) [0x00FC4F6C]\n\t(No symbol) [0x00FC11D8]\n\t(No symbol) [0x00FC12BB]\n\t(No symbol) [0x00FB4857]\n\tBaseThreadInitThunk [0x75CA7D49+25]\n\tRtlInitializeExceptionChain [0x7723B74B+107]\n\tRtlClearBits [0x7723B6CF+191]\n"
     ]
    }
   ],
   "source": [
    "open_url('https://www.google.co.in/imghp?hl=en&ogbl')\n",
    "\n",
    "time.sleep(5)\n",
    "# get web element for search button\n",
    "search_wbe=driver.find_element(By.XPATH,\"//div[@class='pR49Ae gsfi']//following::input\")\n",
    "#enter text into search bar\n",
    "search_wbe.send_keys('fruits',Keys.ENTER)\n",
    "# give time to load the images page\n",
    "time.sleep(5)\n",
    "# get webelement for 1st image\n",
    "first_image_wbe=driver.find_element(By.XPATH,\"//div[@class='bRMDJf islir']//following::img\")\n",
    "# get web element for 'more results' buttom\n",
    "more_btn=driver.find_element(By.XPATH,\"//div[@class='qvfT1']\")\n",
    "# scroll to 'more results' button\n",
    "for i in range(5):\n",
    "    driver.execute_script(\"arguments[0].scrollIntoView(true);\",more_btn)\n",
    "    time.sleep(10)\n",
    "# get to the top of page\n",
    "driver.execute_script(\"arguments[0].scrollIntoView(true);\",first_image_wbe)\n",
    "# initiate list before using it\n",
    "images=[]\n",
    "images.clear()\n",
    "# get webelemnts for images on the page\n",
    "images = driver.find_elements(By.XPATH,\"//div[@class='bRMDJf islir']//following::img\")\n",
    "# loop for 100 webelements\n",
    "for i in range(100):\n",
    "    images[i].screenshot('F:/fruit_pics/fruits_'+str(i)+'.png')"
   ]
  },
  {
   "cell_type": "markdown",
   "id": "035b22df",
   "metadata": {},
   "source": [
    "4. Write a python program to search for a smartphone(e.g.: Oneplus Nord, pixel 4A, etc.) on\n",
    "www.flipkart.com and scrape following details for all the search results displayed on 1st page. Details to be \n",
    "scraped: “Brand Name”, “Smartphone name”, “Colour”, “RAM”, “Storage(ROM)”, “Primary Camera”, \n",
    "“Secondary Camera”, “Display Size”, “Battery Capacity”, “Price”, “Product URL”. Incase if any of the \n",
    "details is missing then replace it by “- “. Save your results in a dataframe and CSV."
   ]
  },
  {
   "cell_type": "code",
   "execution_count": 8,
   "id": "7955fb77",
   "metadata": {},
   "outputs": [],
   "source": [
    "# Imports \n",
    "from selenium import webdriver\n",
    "import time\n",
    "from selenium.common.exceptions import NoSuchElementException       #Importing Exception\n",
    "import warnings\n",
    "warnings.filterwarnings('ignore')\n",
    "from selenium.webdriver.common.by import By"
   ]
  },
  {
   "cell_type": "code",
   "execution_count": 4,
   "id": "64fb8d7b",
   "metadata": {},
   "outputs": [
    {
     "name": "stderr",
     "output_type": "stream",
     "text": [
      "C:\\Users\\jakha\\AppData\\Local\\Temp\\ipykernel_24556\\2679670127.py:2: DeprecationWarning: executable_path has been deprecated, please pass in a Service object\n",
      "  driver=webdriver.Chrome(r\"C:/Users/HP/Downloads/chromedriver_win32 (1)/chromedriver.exe\")\n"
     ]
    }
   ],
   "source": [
    "# connecting to the webdriver\n",
    "driver=webdriver.Chrome(r\"C:/Users/HP/Downloads/chromedriver_win32 (1)/chromedriver.exe\")"
   ]
  },
  {
   "cell_type": "code",
   "execution_count": 5,
   "id": "1bdac554",
   "metadata": {},
   "outputs": [],
   "source": [
    "# getting the webpage of mentioned url\n",
    "url = \"https://www.flipkart.com/\"\n",
    "driver.get(url)"
   ]
  },
  {
   "cell_type": "code",
   "execution_count": 9,
   "id": "1ac4e5f7",
   "metadata": {},
   "outputs": [],
   "source": [
    "# closing login popup button\n",
    "lonin_x_btn = driver.find_element(By.XPATH,\"//div[@class='_2QfC02']//button\").click()"
   ]
  },
  {
   "cell_type": "code",
   "execution_count": 10,
   "id": "7bff05e5",
   "metadata": {},
   "outputs": [],
   "source": [
    "# search for web element\n",
    "search_bar = driver.find_element(By.XPATH,\"//input[@class='_3704LK']\")\n",
    "\n",
    "# sending keys to search product\n",
    "search_bar.send_keys(\"pixel 4A\")"
   ]
  },
  {
   "cell_type": "code",
   "execution_count": 11,
   "id": "010c3e59",
   "metadata": {},
   "outputs": [],
   "source": [
    "# location the search button using xpath\n",
    "search_btn = driver.find_element(By.XPATH,\"//button[@class='L0Z3Pu']\")\n",
    "\n",
    "# clicking on search button\n",
    "search_btn.click()"
   ]
  },
  {
   "cell_type": "code",
   "execution_count": 12,
   "id": "ff5fcbc1",
   "metadata": {},
   "outputs": [],
   "source": [
    "# fetching 1st page of URLs of smartphone\n",
    "page1_url = []\n",
    "urls = driver.find_elements(By.XPATH,\"//a[@class='_1fQZEK']\")\n",
    "for url in urls:\n",
    "    page1_url.append(url.get_attribute('href'))"
   ]
  },
  {
   "cell_type": "code",
   "execution_count": 13,
   "id": "7d8bd963",
   "metadata": {},
   "outputs": [
    {
     "data": {
      "text/plain": [
       "24"
      ]
     },
     "execution_count": 13,
     "metadata": {},
     "output_type": "execute_result"
    }
   ],
   "source": [
    "len(page1_url)"
   ]
  },
  {
   "cell_type": "code",
   "execution_count": 14,
   "id": "d838f5ae",
   "metadata": {},
   "outputs": [],
   "source": [
    "# creating empty list\n",
    "Smartphones = ({})\n",
    "Smartphones['Brand'] = []\n",
    "Smartphones['Phone name'] = []\n",
    "Smartphones['Colour'] = []\n",
    "Smartphones['RAM'] = []\n",
    "Smartphones['Storage(ROM)'] = []\n",
    "Smartphones['Primary Camera'] = []\n",
    "Smartphones['Secondary Camera'] = []\n",
    "Smartphones['Display Size'] = []\n",
    "Smartphones['Display Resolution'] = []\n",
    "Smartphones['Processor'] = []\n",
    "Smartphones['Processor Cores'] = []\n",
    "Smartphones['Battery Capacity'] = []\n",
    "Smartphones['Price'] = []\n",
    "Smartphones['URL'] = []"
   ]
  },
  {
   "cell_type": "code",
   "execution_count": 17,
   "id": "30d6eb12",
   "metadata": {},
   "outputs": [
    {
     "name": "stdout",
     "output_type": "stream",
     "text": [
      "Scraping URL =  https://www.flipkart.com/realme-c33-sandy-gold-32-gb/p/itma112335dbe78a?pid=MOBGHBJGF9QZYSZX&lid=LSTMOBGHBJGF9QZYSZXROLVZH&marketplace=FLIPKART&q=pixel+4A&store=tyy%2F4io&spotlightTagId=FkPickId_tyy%2F4io&srno=s_1_1&otracker=search&otracker1=search&fm=Search&iid=7e412fbb-33e6-4f28-87a7-9c38b751837f.MOBGHBJGF9QZYSZX.SEARCH&ppt=sp&ppn=sp&ssid=jijjwm7jeo0000001684048254620&qH=9b26a23b2cff510d\n"
     ]
    },
    {
     "ename": "InvalidSelectorException",
     "evalue": "Message: invalid selector: Unable to locate an element with the xpath expression //div[@class='_3k-BhJ'][3]/table[1]/tbody/tr[2]/td[1]] because of the following error:\nSyntaxError: Failed to execute 'evaluate' on 'Document': The string '//div[@class='_3k-BhJ'][3]/table[1]/tbody/tr[2]/td[1]]' is not a valid XPath expression.\n  (Session info: chrome=113.0.5672.93)\nStacktrace:\nBacktrace:\n\tGetHandleVerifier [0x00868893+48451]\n\t(No symbol) [0x007FB8A1]\n\t(No symbol) [0x00705058]\n\t(No symbol) [0x007083F1]\n\t(No symbol) [0x00709631]\n\t(No symbol) [0x007096D0]\n\t(No symbol) [0x007300C0]\n\t(No symbol) [0x0073069B]\n\t(No symbol) [0x0075DD92]\n\t(No symbol) [0x0074A304]\n\t(No symbol) [0x0075C482]\n\t(No symbol) [0x0074A0B6]\n\t(No symbol) [0x00727E08]\n\t(No symbol) [0x00728F2D]\n\tGetHandleVerifier [0x00AC8E3A+2540266]\n\tGetHandleVerifier [0x00B08959+2801161]\n\tGetHandleVerifier [0x00B0295C+2776588]\n\tGetHandleVerifier [0x008F2280+612144]\n\t(No symbol) [0x00804F6C]\n\t(No symbol) [0x008011D8]\n\t(No symbol) [0x008012BB]\n\t(No symbol) [0x007F4857]\n\tBaseThreadInitThunk [0x75CA7D49+25]\n\tRtlInitializeExceptionChain [0x7723B74B+107]\n\tRtlClearBits [0x7723B6CF+191]\n",
     "output_type": "error",
     "traceback": [
      "\u001b[1;31m---------------------------------------------------------------------------\u001b[0m",
      "\u001b[1;31mInvalidSelectorException\u001b[0m                  Traceback (most recent call last)",
      "Input \u001b[1;32mIn [17]\u001b[0m, in \u001b[0;36m<cell line: 2>\u001b[1;34m()\u001b[0m\n\u001b[0;32m     94\u001b[0m \u001b[38;5;66;03m#scraping processor of smartphone\u001b[39;00m\n\u001b[0;32m     95\u001b[0m \u001b[38;5;28;01mtry\u001b[39;00m:\n\u001b[1;32m---> 96\u001b[0m     pro \u001b[38;5;241m=\u001b[39m \u001b[43mdriver\u001b[49m\u001b[38;5;241;43m.\u001b[39;49m\u001b[43mfind_element\u001b[49m\u001b[43m(\u001b[49m\u001b[43mBy\u001b[49m\u001b[38;5;241;43m.\u001b[39;49m\u001b[43mXPATH\u001b[49m\u001b[43m,\u001b[49m\u001b[38;5;124;43m\"\u001b[39;49m\u001b[38;5;124;43m//div[@class=\u001b[39;49m\u001b[38;5;124;43m'\u001b[39;49m\u001b[38;5;124;43m_3k-BhJ\u001b[39;49m\u001b[38;5;124;43m'\u001b[39;49m\u001b[38;5;124;43m][3]/table[1]/tbody/tr[2]/td[1]]\u001b[39;49m\u001b[38;5;124;43m\"\u001b[39;49m\u001b[43m)\u001b[49m\n\u001b[0;32m     97\u001b[0m     \u001b[38;5;28;01mif\u001b[39;00m pro\u001b[38;5;241m.\u001b[39mtext \u001b[38;5;241m!=\u001b[39m \u001b[38;5;124m'\u001b[39m\u001b[38;5;124mProcessor Type\u001b[39m\u001b[38;5;124m'\u001b[39m : \u001b[38;5;28;01mraise\u001b[39;00m NoSuchElementException\n\u001b[0;32m     98\u001b[0m     processor \u001b[38;5;241m=\u001b[39m driver\u001b[38;5;241m.\u001b[39mfind_element(By\u001b[38;5;241m.\u001b[39mXPATH,\u001b[38;5;124m\"\u001b[39m\u001b[38;5;124m//div[@class=\u001b[39m\u001b[38;5;124m'\u001b[39m\u001b[38;5;124m_3k-BhJ\u001b[39m\u001b[38;5;124m'\u001b[39m\u001b[38;5;124m][3]/table[1]/tbody/tr[2]/td[2]/ul/li\u001b[39m\u001b[38;5;124m\"\u001b[39m)\n",
      "File \u001b[1;32m~\\AppData\\Roaming\\Python\\Python39\\site-packages\\selenium\\webdriver\\remote\\webdriver.py:831\u001b[0m, in \u001b[0;36mWebDriver.find_element\u001b[1;34m(self, by, value)\u001b[0m\n\u001b[0;32m    828\u001b[0m     by \u001b[38;5;241m=\u001b[39m By\u001b[38;5;241m.\u001b[39mCSS_SELECTOR\n\u001b[0;32m    829\u001b[0m     value \u001b[38;5;241m=\u001b[39m \u001b[38;5;124mf\u001b[39m\u001b[38;5;124m'\u001b[39m\u001b[38;5;124m[name=\u001b[39m\u001b[38;5;124m\"\u001b[39m\u001b[38;5;132;01m{\u001b[39;00mvalue\u001b[38;5;132;01m}\u001b[39;00m\u001b[38;5;124m\"\u001b[39m\u001b[38;5;124m]\u001b[39m\u001b[38;5;124m'\u001b[39m\n\u001b[1;32m--> 831\u001b[0m \u001b[38;5;28;01mreturn\u001b[39;00m \u001b[38;5;28;43mself\u001b[39;49m\u001b[38;5;241;43m.\u001b[39;49m\u001b[43mexecute\u001b[49m\u001b[43m(\u001b[49m\u001b[43mCommand\u001b[49m\u001b[38;5;241;43m.\u001b[39;49m\u001b[43mFIND_ELEMENT\u001b[49m\u001b[43m,\u001b[49m\u001b[43m \u001b[49m\u001b[43m{\u001b[49m\u001b[38;5;124;43m\"\u001b[39;49m\u001b[38;5;124;43musing\u001b[39;49m\u001b[38;5;124;43m\"\u001b[39;49m\u001b[43m:\u001b[49m\u001b[43m \u001b[49m\u001b[43mby\u001b[49m\u001b[43m,\u001b[49m\u001b[43m \u001b[49m\u001b[38;5;124;43m\"\u001b[39;49m\u001b[38;5;124;43mvalue\u001b[39;49m\u001b[38;5;124;43m\"\u001b[39;49m\u001b[43m:\u001b[49m\u001b[43m \u001b[49m\u001b[43mvalue\u001b[49m\u001b[43m}\u001b[49m\u001b[43m)\u001b[49m[\u001b[38;5;124m\"\u001b[39m\u001b[38;5;124mvalue\u001b[39m\u001b[38;5;124m\"\u001b[39m]\n",
      "File \u001b[1;32m~\\AppData\\Roaming\\Python\\Python39\\site-packages\\selenium\\webdriver\\remote\\webdriver.py:440\u001b[0m, in \u001b[0;36mWebDriver.execute\u001b[1;34m(self, driver_command, params)\u001b[0m\n\u001b[0;32m    438\u001b[0m response \u001b[38;5;241m=\u001b[39m \u001b[38;5;28mself\u001b[39m\u001b[38;5;241m.\u001b[39mcommand_executor\u001b[38;5;241m.\u001b[39mexecute(driver_command, params)\n\u001b[0;32m    439\u001b[0m \u001b[38;5;28;01mif\u001b[39;00m response:\n\u001b[1;32m--> 440\u001b[0m     \u001b[38;5;28;43mself\u001b[39;49m\u001b[38;5;241;43m.\u001b[39;49m\u001b[43merror_handler\u001b[49m\u001b[38;5;241;43m.\u001b[39;49m\u001b[43mcheck_response\u001b[49m\u001b[43m(\u001b[49m\u001b[43mresponse\u001b[49m\u001b[43m)\u001b[49m\n\u001b[0;32m    441\u001b[0m     response[\u001b[38;5;124m\"\u001b[39m\u001b[38;5;124mvalue\u001b[39m\u001b[38;5;124m\"\u001b[39m] \u001b[38;5;241m=\u001b[39m \u001b[38;5;28mself\u001b[39m\u001b[38;5;241m.\u001b[39m_unwrap_value(response\u001b[38;5;241m.\u001b[39mget(\u001b[38;5;124m\"\u001b[39m\u001b[38;5;124mvalue\u001b[39m\u001b[38;5;124m\"\u001b[39m, \u001b[38;5;28;01mNone\u001b[39;00m))\n\u001b[0;32m    442\u001b[0m     \u001b[38;5;28;01mreturn\u001b[39;00m response\n",
      "File \u001b[1;32m~\\AppData\\Roaming\\Python\\Python39\\site-packages\\selenium\\webdriver\\remote\\errorhandler.py:245\u001b[0m, in \u001b[0;36mErrorHandler.check_response\u001b[1;34m(self, response)\u001b[0m\n\u001b[0;32m    243\u001b[0m         alert_text \u001b[38;5;241m=\u001b[39m value[\u001b[38;5;124m\"\u001b[39m\u001b[38;5;124malert\u001b[39m\u001b[38;5;124m\"\u001b[39m]\u001b[38;5;241m.\u001b[39mget(\u001b[38;5;124m\"\u001b[39m\u001b[38;5;124mtext\u001b[39m\u001b[38;5;124m\"\u001b[39m)\n\u001b[0;32m    244\u001b[0m     \u001b[38;5;28;01mraise\u001b[39;00m exception_class(message, screen, stacktrace, alert_text)  \u001b[38;5;66;03m# type: ignore[call-arg]  # mypy is not smart enough here\u001b[39;00m\n\u001b[1;32m--> 245\u001b[0m \u001b[38;5;28;01mraise\u001b[39;00m exception_class(message, screen, stacktrace)\n",
      "\u001b[1;31mInvalidSelectorException\u001b[0m: Message: invalid selector: Unable to locate an element with the xpath expression //div[@class='_3k-BhJ'][3]/table[1]/tbody/tr[2]/td[1]] because of the following error:\nSyntaxError: Failed to execute 'evaluate' on 'Document': The string '//div[@class='_3k-BhJ'][3]/table[1]/tbody/tr[2]/td[1]]' is not a valid XPath expression.\n  (Session info: chrome=113.0.5672.93)\nStacktrace:\nBacktrace:\n\tGetHandleVerifier [0x00868893+48451]\n\t(No symbol) [0x007FB8A1]\n\t(No symbol) [0x00705058]\n\t(No symbol) [0x007083F1]\n\t(No symbol) [0x00709631]\n\t(No symbol) [0x007096D0]\n\t(No symbol) [0x007300C0]\n\t(No symbol) [0x0073069B]\n\t(No symbol) [0x0075DD92]\n\t(No symbol) [0x0074A304]\n\t(No symbol) [0x0075C482]\n\t(No symbol) [0x0074A0B6]\n\t(No symbol) [0x00727E08]\n\t(No symbol) [0x00728F2D]\n\tGetHandleVerifier [0x00AC8E3A+2540266]\n\tGetHandleVerifier [0x00B08959+2801161]\n\tGetHandleVerifier [0x00B0295C+2776588]\n\tGetHandleVerifier [0x008F2280+612144]\n\t(No symbol) [0x00804F6C]\n\t(No symbol) [0x008011D8]\n\t(No symbol) [0x008012BB]\n\t(No symbol) [0x007F4857]\n\tBaseThreadInitThunk [0x75CA7D49+25]\n\tRtlInitializeExceptionChain [0x7723B74B+107]\n\tRtlClearBits [0x7723B6CF+191]\n"
     ]
    }
   ],
   "source": [
    "# scraping data from each url of page 1\n",
    "for url in page1_url:\n",
    "    driver.get(url)\n",
    "    print(\"Scraping URL = \",url)\n",
    "    Smartphones['URL'].append(url)\n",
    "    time.sleep(2)\n",
    "    \n",
    "    \n",
    "    #clicking on read more button to get more information\n",
    "    try:\n",
    "        read_more = driver.find_element(By.XPATH,\"//button[@class='_2KpZ6l _1FH0tX']\")\n",
    "        read_more.click()\n",
    "    except NoSuchElementException:\n",
    "        print(\"Exception occured while moving to next page\")\n",
    "    \n",
    "    #scraping brand name of smartphone\n",
    "    try:\n",
    "        brand_tags = driver.find_element(By.XPATH,\"//span[@class='B_NuCI']\")\n",
    "        Smartphones['Brand'].append(brand_tags.text.split()[0])\n",
    "    except NoSuchElementException:\n",
    "        Smartphones['Brand'].append('-')\n",
    "    \n",
    "    \n",
    "    # scraping name of smartphones\n",
    "    try:\n",
    "        name_tags = driver.find_element(By.XPATH,\"//div[@class='_3k-BhJ'][1]/table/tbody/tr[3]/td[2]/ul/li\")\n",
    "        Smartphones['Phone name'].append(name_tags.text)\n",
    "    except NoSuchElementException:\n",
    "        Smartphones['Phone name'].append('-')\n",
    "        \n",
    "    #scraping colour of smartphone\n",
    "    try:\n",
    "        color_tags = driver.find_element(By.XPATH,\"//div[@class='_3k-BhJ'][1]/table/tbody/tr[4]/td[2]/ul/li\")\n",
    "        Smartphones['Colour'].append(color_tags.text)\n",
    "    except NoSuchElementException:\n",
    "        Smartphones['Colour'].append('-')\n",
    "        \n",
    "    # scraping RAM data of smartphone\n",
    "    try:\n",
    "        ram_tags = driver.find_element(By.XPATH,\"//div[@class='_3k-BhJ'][4]/table[1]/tbody/tr[2]/td[2]/ul/li\")\n",
    "        Smartphones['RAM'].append(ram_tags.text)\n",
    "    except NoSuchElementException:\n",
    "        Smartphones['RAM'].append('-')\n",
    "        \n",
    "    #scraping ROM data of smartphones\n",
    "    try:\n",
    "        rom = driver.find_element(By.XPATH,\"//div[@class='_3k-BhJ'][4]/table[1]/tbody/tr[1]/td[2]/ul/li\")\n",
    "        Smartphones['Storage(ROM)'].append(rom.text)\n",
    "    except NoSuchElementException:\n",
    "        Smartphones['Storage(ROM)'].append('-')\n",
    "        \n",
    "    # scraping  Primary camera data of smartphone\n",
    "    try:\n",
    "        pri =driver.find_element(By.XPATH,\"//div[@class='_3k-BhJ'][5]/table[1]/tbody/tr[2]/td[2]/ul/li\")\n",
    "        Smartphones['Primary Camera'].append(pri.text)\n",
    "    except NoSuchElementException:\n",
    "        Smartphones['Primary Camera'].append('-')\n",
    "        \n",
    "    # scraping secondary camera data of smartphone\n",
    "    try:\n",
    "        sec = driver.find_element(By.XPATH,\"//div[@class='_3k-BhJ'][5]/table[1]/tbody/tr[6]/td[1]\")\n",
    "        if sec != 'Secondary Camera' :\n",
    "            if driver.find_element(By.XPATH,\"//div[@class='_3k-BhJ'][5]/table[1]/tbody/tr[5]/td[1]\").text == \"Secondary Camera\":\n",
    "                sec_cam =driver.find_element(By.XPATH,\"//div[@class='_3k-BhJ'][5]/table[1]/tbody/tr[5]/td[2]/ul/li\")\n",
    "            else :\n",
    "                raise NoSuchElementException\n",
    "        else :\n",
    "            sec_cam = driver.find_element(By.XPATH,\"//div[@class='_3k-BhJ'][5]/table[1]/tbody/tr[6]/td[2]/ul/li\")\n",
    "        Smartphones['Secondary Camera'].append(sec_cam.text)\n",
    "    except NoSuchElementException:\n",
    "        Smartphones['Secondary Camera'].append('-')\n",
    "        \n",
    "    \n",
    "    #scraping display size data of smartphone\n",
    "    try:\n",
    "        disp = driver.find_element(By.XPATH,\"//div[@class='_3k-BhJ'][2]/div\")\n",
    "        if disp.text != 'Display Features' : raise NoSuchElementException\n",
    "        disp_size = driver.find_element(By.XPATH,\"//div[@class='_3k-BhJ'][2]/table[1]/tbody/tr[1]/td[2]/ul/li\")\n",
    "        Smartphones['Display Size'].append(disp_size.text)\n",
    "    except NoSuchElementException:\n",
    "        Smartphones['Display Size'].append('-')\n",
    "        \n",
    "    \n",
    "    #scraping display resolution of smartphone\n",
    "    try:\n",
    "        disp = driver.find_element(By.XPATH,\"//div[@class='_3k-BhJ'][2]/div\")\n",
    "        if disp.text != 'Display Features' : raise NoSuchElementException\n",
    "        disp_reso = driver.find_element(By.XPATH,\"//div[@class='_3k-BhJ'][2]/table[1]/tbody/tr[2]/td[2]/ul/li\")\n",
    "        Smartphones['Display Resolution'].append(disp_reso.text)\n",
    "    except NoSuchElementException:\n",
    "        Smartphones['Display Resolution'].append('-')\n",
    "        \n",
    "        \n",
    "    #scraping processor of smartphone\n",
    "    try:\n",
    "        pro = driver.find_element(By.XPATH,\"//div[@class='_3k-BhJ'][3]/table[1]/tbody/tr[2]/td[1]]\")\n",
    "        if pro.text != 'Processor Type' : raise NoSuchElementException\n",
    "        processor = driver.find_element(By.XPATH,\"//div[@class='_3k-BhJ'][3]/table[1]/tbody/tr[2]/td[2]/ul/li\")\n",
    "        Smartphones['Processor'].append(processor.text)\n",
    "    except NoSuchElementException:\n",
    "        Smartphones['Processor'].append('-')\n",
    "    \n",
    "        \n",
    "       \n",
    "    # scraping processor core of smartphone\n",
    "    try:\n",
    "        core = driver.find_element(By.XPATH,\"//div[@class='_3k-BhJ'][3]/table[1]/tbody/tr[3]/td[1]\")\n",
    "        if core.text != 'Processor Core' :\n",
    "            core = driver.find_element(By.XPATH,\"//div[@class='_3k-BhJ'][3]/table[1]/tbody/tr[2]/td[1]\")\n",
    "            if core.text != 'Processor Core' :\n",
    "                raise NoSuchElementException\n",
    "            else :\n",
    "                cores = driver.find_element(By.XPATH,\"//div[@class='_3k-BhJ'][3]/table[1]/tbody/tr[2]/td[2]/ul/li\")\n",
    "        else :\n",
    "            cores = driver.find_element(By.XPATH,\"//div[@class='_3k-BhJ'][3]/table[1]/tbody/tr[3]/td[2]/ul/li\")\n",
    "        Smartphones['Processor Cores'].append(disp_reso.text)\n",
    "    except NoSuchElementException:\n",
    "        Smartphones['Processor Cores'].append('-')\n",
    "        \n",
    "        \n",
    "        \n",
    "    # scraping the battery capacity of smartphone\n",
    "    try:\n",
    "        if driver.find_element(By.XPATH,\"//div[@class='_3k-BhJ'][10]/div\").text != \"Battery & Power Features\" :\n",
    "            if driver.find_element(By.XPATH,\"//div[@class='_3k-BhJ'][9]/div\").text == \"Battery & Power Features\" :\n",
    "                bat_tags = driver.find_element(By.XPATH,\"//div[@class='_3k-BhJ'][9]/table/tbody/tr/td[1]\")\n",
    "                if bat_tags.text != \"Battery Capacity\" : raise NoSuchElementException\n",
    "                bat_capa = driver.find_element(By.XPATH,\"//div[@class='_3k-BhJ'][9]/table/tbody/tr/td[2]/ul/li\")\n",
    "            elif driver.find_element(By.XPATH,\"//div[@class='_3k-BhJ'][8]/div\").text == \"Battery & Power Features\" :\n",
    "                bat_tags = driver.find_element(By.XPATH,\"//div[@class='_3k-BhJ'][8]/table/tbody/tr/td[1]\")\n",
    "                if bat_tags.text != \"Battery Capacity\" : raise NoSuchElementException\n",
    "                bat_capa = driver.find_element(By.XPATH,\"//div[@class='_3k-BhJ'][8]/table/tbody/tr/td[2]/ul/li\")\n",
    "            else:\n",
    "                raise NoSuchElementException\n",
    "        else :\n",
    "            bat_tags = driver.find_element(By.XPATH,\"//div[@class='_3k-BhJ'][10]/table/tbody/tr/td[1]\")\n",
    "            if bat_tags.text != \"Battery Capacity\" : raise NoSuchElementException\n",
    "            bat_capa = driver.find_element(By.XPATH,\"//div[@class='_3k-BhJ'][10]/table/tbody/tr/td[2]/ul/li\")\n",
    "        Smartphones['Battery Capacity'].append(bat_capa.text)\n",
    "    except NoSuchElementException:\n",
    "        Smartphones['Battery Capacity'].append('-')\n",
    "    \n",
    "    \n",
    "    \n",
    "    \n",
    "    # scraping price of smartphone\n",
    "    try:\n",
    "        price_tags = driver.find_element(By.XPATH,\"//div[@class='_30jeq3 _16Jk6d']\")\n",
    "        Smartphones['Price'].append(price_tags.text)\n",
    "    except NoSuchElementException:\n",
    "          Smartphones['Price'].append('-') "
   ]
  },
  {
   "cell_type": "code",
   "execution_count": 20,
   "id": "f27f30b2",
   "metadata": {},
   "outputs": [
    {
     "ename": "SyntaxError",
     "evalue": "unexpected EOF while parsing (1621419957.py, line 3)",
     "output_type": "error",
     "traceback": [
      "\u001b[1;36m  Input \u001b[1;32mIn [20]\u001b[1;36m\u001b[0m\n\u001b[1;33m    print(len(Smartphones['Brand']),len(Smartphones['Phone name']), len(Smartphones['Colour']),len(Smartphones['RAM']),len(Smartphones['Storaj']\u001b[0m\n\u001b[1;37m                                                                                                                                                ^\u001b[0m\n\u001b[1;31mSyntaxError\u001b[0m\u001b[1;31m:\u001b[0m unexpected EOF while parsing\n"
     ]
    }
   ],
   "source": [
    "# checking lengths of all scraped data\n",
    "\n",
    "print(len(Smartphones['Brand']),len(Smartphones['Phone name']), len(Smartphones['Colour']),len(Smartphones['RAM']),len(Smartphones['Storaj']"
   ]
  },
  {
   "cell_type": "code",
   "execution_count": 21,
   "id": "d7a38172",
   "metadata": {},
   "outputs": [
    {
     "ename": "NameError",
     "evalue": "name 'pd' is not defined",
     "output_type": "error",
     "traceback": [
      "\u001b[1;31m---------------------------------------------------------------------------\u001b[0m",
      "\u001b[1;31mNameError\u001b[0m                                 Traceback (most recent call last)",
      "Input \u001b[1;32mIn [21]\u001b[0m, in \u001b[0;36m<cell line: 3>\u001b[1;34m()\u001b[0m\n\u001b[0;32m      1\u001b[0m \u001b[38;5;66;03m# framing the DataFrame\u001b[39;00m\n\u001b[1;32m----> 3\u001b[0m df \u001b[38;5;241m=\u001b[39m \u001b[43mpd\u001b[49m\u001b[38;5;241m.\u001b[39mDataFrame\u001b[38;5;241m.\u001b[39mfrom_dict(Smartphones)\n\u001b[0;32m      4\u001b[0m df\n",
      "\u001b[1;31mNameError\u001b[0m: name 'pd' is not defined"
     ]
    }
   ],
   "source": [
    "# framing the DataFrame\n",
    "\n",
    "df = pd.DataFrame.from_dict(Smartphones)\n",
    "df"
   ]
  },
  {
   "cell_type": "markdown",
   "id": "4b4c70d6",
   "metadata": {},
   "source": [
    "5. Write a program to scrap geospatial coordinates (latitude, longitude) of a city searched on google\n",
    "maps."
   ]
  },
  {
   "cell_type": "code",
   "execution_count": 63,
   "id": "d56e2782",
   "metadata": {},
   "outputs": [
    {
     "name": "stdout",
     "output_type": "stream",
     "text": [
      "Enter a location: Jerusalem\n",
      "Jerusalem  Longitude:  26.6284242 \"N\n",
      "Jerusalem  Lattitude:  73.8783439 \"E\n"
     ]
    }
   ],
   "source": [
    "prompt=input(\"Enter a location: \")\n",
    "\n",
    "open_url('https://www.google.com/maps/')\n",
    "\n",
    "# get search bar webelement\n",
    "search_bar=driver.find_element(By.XPATH,'//*[@id=\"searchboxinput\"]')\n",
    "# send city name\n",
    "search_bar.send_keys\n",
    "time.sleep(10)\n",
    "current_url=driver.current_url\n",
    "longitude=current_url.split('@')[1].split(',')[0]\n",
    "lattitude=current_url.split('@')[1].split(',')[1]\n",
    "print(prompt,\" Longitude: \",longitude,'\"N')\n",
    "print(prompt,\" Lattitude: \",lattitude,'\"E')"
   ]
  },
  {
   "cell_type": "markdown",
   "id": "e44498f5",
   "metadata": {},
   "source": [
    "6. Write a program to scrap details of all the funding deals for second quarter (i.e Jan 21 – March 21) \n",
    "from trak.in."
   ]
  },
  {
   "cell_type": "code",
   "execution_count": 22,
   "id": "354958ee",
   "metadata": {},
   "outputs": [],
   "source": [
    "# connecting to the webdriver\n",
    "driver=webdriver.Chrome(r\"C:/Users/HP/Downloads/chromedriver_win32 (1)/chromedriver.exe\")"
   ]
  },
  {
   "cell_type": "code",
   "execution_count": 23,
   "id": "14155a23",
   "metadata": {},
   "outputs": [],
   "source": [
    "# opening the url track.in\n",
    "url = \"https://trak.in/\"\n",
    "driver.get(url)\n",
    "time.sleep(2)"
   ]
  },
  {
   "cell_type": "code",
   "execution_count": 24,
   "id": "2e2fea15",
   "metadata": {},
   "outputs": [
    {
     "ename": "NoSuchElementException",
     "evalue": "Message: no such element: Unable to locate element: {\"method\":\"xpath\",\"selector\":\"//li[@id='menu-item-51510']/a\"}\n  (Session info: chrome=113.0.5672.93)\nStacktrace:\nBacktrace:\n\tGetHandleVerifier [0x00868893+48451]\n\t(No symbol) [0x007FB8A1]\n\t(No symbol) [0x00705058]\n\t(No symbol) [0x00730467]\n\t(No symbol) [0x0073069B]\n\t(No symbol) [0x0075DD92]\n\t(No symbol) [0x0074A304]\n\t(No symbol) [0x0075C482]\n\t(No symbol) [0x0074A0B6]\n\t(No symbol) [0x00727E08]\n\t(No symbol) [0x00728F2D]\n\tGetHandleVerifier [0x00AC8E3A+2540266]\n\tGetHandleVerifier [0x00B08959+2801161]\n\tGetHandleVerifier [0x00B0295C+2776588]\n\tGetHandleVerifier [0x008F2280+612144]\n\t(No symbol) [0x00804F6C]\n\t(No symbol) [0x008011D8]\n\t(No symbol) [0x008012BB]\n\t(No symbol) [0x007F4857]\n\tBaseThreadInitThunk [0x75CA7D49+25]\n\tRtlInitializeExceptionChain [0x7723B74B+107]\n\tRtlClearBits [0x7723B6CF+191]\n",
     "output_type": "error",
     "traceback": [
      "\u001b[1;31m---------------------------------------------------------------------------\u001b[0m",
      "\u001b[1;31mNoSuchElementException\u001b[0m                    Traceback (most recent call last)",
      "Input \u001b[1;32mIn [24]\u001b[0m, in \u001b[0;36m<cell line: 2>\u001b[1;34m()\u001b[0m\n\u001b[0;32m      1\u001b[0m \u001b[38;5;66;03m# getting xpath for funding deals and clicking on the button\u001b[39;00m\n\u001b[1;32m----> 2\u001b[0m fund_button \u001b[38;5;241m=\u001b[39m \u001b[43mdriver\u001b[49m\u001b[38;5;241;43m.\u001b[39;49m\u001b[43mfind_element\u001b[49m\u001b[43m(\u001b[49m\u001b[43mBy\u001b[49m\u001b[38;5;241;43m.\u001b[39;49m\u001b[43mXPATH\u001b[49m\u001b[43m,\u001b[49m\u001b[38;5;124;43m\"\u001b[39;49m\u001b[38;5;124;43m//li[@id=\u001b[39;49m\u001b[38;5;124;43m'\u001b[39;49m\u001b[38;5;124;43mmenu-item-51510\u001b[39;49m\u001b[38;5;124;43m'\u001b[39;49m\u001b[38;5;124;43m]/a\u001b[39;49m\u001b[38;5;124;43m\"\u001b[39;49m\u001b[43m)\u001b[49m\u001b[38;5;241m.\u001b[39mget_attribute(\u001b[38;5;124m'\u001b[39m\u001b[38;5;124mhref\u001b[39m\u001b[38;5;124m'\u001b[39m)\n\u001b[0;32m      3\u001b[0m driver\u001b[38;5;241m.\u001b[39mget(fund_button)\n\u001b[0;32m      5\u001b[0m \u001b[38;5;66;03m#Empty Lists\u001b[39;00m\n",
      "File \u001b[1;32m~\\AppData\\Roaming\\Python\\Python39\\site-packages\\selenium\\webdriver\\remote\\webdriver.py:831\u001b[0m, in \u001b[0;36mWebDriver.find_element\u001b[1;34m(self, by, value)\u001b[0m\n\u001b[0;32m    828\u001b[0m     by \u001b[38;5;241m=\u001b[39m By\u001b[38;5;241m.\u001b[39mCSS_SELECTOR\n\u001b[0;32m    829\u001b[0m     value \u001b[38;5;241m=\u001b[39m \u001b[38;5;124mf\u001b[39m\u001b[38;5;124m'\u001b[39m\u001b[38;5;124m[name=\u001b[39m\u001b[38;5;124m\"\u001b[39m\u001b[38;5;132;01m{\u001b[39;00mvalue\u001b[38;5;132;01m}\u001b[39;00m\u001b[38;5;124m\"\u001b[39m\u001b[38;5;124m]\u001b[39m\u001b[38;5;124m'\u001b[39m\n\u001b[1;32m--> 831\u001b[0m \u001b[38;5;28;01mreturn\u001b[39;00m \u001b[38;5;28;43mself\u001b[39;49m\u001b[38;5;241;43m.\u001b[39;49m\u001b[43mexecute\u001b[49m\u001b[43m(\u001b[49m\u001b[43mCommand\u001b[49m\u001b[38;5;241;43m.\u001b[39;49m\u001b[43mFIND_ELEMENT\u001b[49m\u001b[43m,\u001b[49m\u001b[43m \u001b[49m\u001b[43m{\u001b[49m\u001b[38;5;124;43m\"\u001b[39;49m\u001b[38;5;124;43musing\u001b[39;49m\u001b[38;5;124;43m\"\u001b[39;49m\u001b[43m:\u001b[49m\u001b[43m \u001b[49m\u001b[43mby\u001b[49m\u001b[43m,\u001b[49m\u001b[43m \u001b[49m\u001b[38;5;124;43m\"\u001b[39;49m\u001b[38;5;124;43mvalue\u001b[39;49m\u001b[38;5;124;43m\"\u001b[39;49m\u001b[43m:\u001b[49m\u001b[43m \u001b[49m\u001b[43mvalue\u001b[49m\u001b[43m}\u001b[49m\u001b[43m)\u001b[49m[\u001b[38;5;124m\"\u001b[39m\u001b[38;5;124mvalue\u001b[39m\u001b[38;5;124m\"\u001b[39m]\n",
      "File \u001b[1;32m~\\AppData\\Roaming\\Python\\Python39\\site-packages\\selenium\\webdriver\\remote\\webdriver.py:440\u001b[0m, in \u001b[0;36mWebDriver.execute\u001b[1;34m(self, driver_command, params)\u001b[0m\n\u001b[0;32m    438\u001b[0m response \u001b[38;5;241m=\u001b[39m \u001b[38;5;28mself\u001b[39m\u001b[38;5;241m.\u001b[39mcommand_executor\u001b[38;5;241m.\u001b[39mexecute(driver_command, params)\n\u001b[0;32m    439\u001b[0m \u001b[38;5;28;01mif\u001b[39;00m response:\n\u001b[1;32m--> 440\u001b[0m     \u001b[38;5;28;43mself\u001b[39;49m\u001b[38;5;241;43m.\u001b[39;49m\u001b[43merror_handler\u001b[49m\u001b[38;5;241;43m.\u001b[39;49m\u001b[43mcheck_response\u001b[49m\u001b[43m(\u001b[49m\u001b[43mresponse\u001b[49m\u001b[43m)\u001b[49m\n\u001b[0;32m    441\u001b[0m     response[\u001b[38;5;124m\"\u001b[39m\u001b[38;5;124mvalue\u001b[39m\u001b[38;5;124m\"\u001b[39m] \u001b[38;5;241m=\u001b[39m \u001b[38;5;28mself\u001b[39m\u001b[38;5;241m.\u001b[39m_unwrap_value(response\u001b[38;5;241m.\u001b[39mget(\u001b[38;5;124m\"\u001b[39m\u001b[38;5;124mvalue\u001b[39m\u001b[38;5;124m\"\u001b[39m, \u001b[38;5;28;01mNone\u001b[39;00m))\n\u001b[0;32m    442\u001b[0m     \u001b[38;5;28;01mreturn\u001b[39;00m response\n",
      "File \u001b[1;32m~\\AppData\\Roaming\\Python\\Python39\\site-packages\\selenium\\webdriver\\remote\\errorhandler.py:245\u001b[0m, in \u001b[0;36mErrorHandler.check_response\u001b[1;34m(self, response)\u001b[0m\n\u001b[0;32m    243\u001b[0m         alert_text \u001b[38;5;241m=\u001b[39m value[\u001b[38;5;124m\"\u001b[39m\u001b[38;5;124malert\u001b[39m\u001b[38;5;124m\"\u001b[39m]\u001b[38;5;241m.\u001b[39mget(\u001b[38;5;124m\"\u001b[39m\u001b[38;5;124mtext\u001b[39m\u001b[38;5;124m\"\u001b[39m)\n\u001b[0;32m    244\u001b[0m     \u001b[38;5;28;01mraise\u001b[39;00m exception_class(message, screen, stacktrace, alert_text)  \u001b[38;5;66;03m# type: ignore[call-arg]  # mypy is not smart enough here\u001b[39;00m\n\u001b[1;32m--> 245\u001b[0m \u001b[38;5;28;01mraise\u001b[39;00m exception_class(message, screen, stacktrace)\n",
      "\u001b[1;31mNoSuchElementException\u001b[0m: Message: no such element: Unable to locate element: {\"method\":\"xpath\",\"selector\":\"//li[@id='menu-item-51510']/a\"}\n  (Session info: chrome=113.0.5672.93)\nStacktrace:\nBacktrace:\n\tGetHandleVerifier [0x00868893+48451]\n\t(No symbol) [0x007FB8A1]\n\t(No symbol) [0x00705058]\n\t(No symbol) [0x00730467]\n\t(No symbol) [0x0073069B]\n\t(No symbol) [0x0075DD92]\n\t(No symbol) [0x0074A304]\n\t(No symbol) [0x0075C482]\n\t(No symbol) [0x0074A0B6]\n\t(No symbol) [0x00727E08]\n\t(No symbol) [0x00728F2D]\n\tGetHandleVerifier [0x00AC8E3A+2540266]\n\tGetHandleVerifier [0x00B08959+2801161]\n\tGetHandleVerifier [0x00B0295C+2776588]\n\tGetHandleVerifier [0x008F2280+612144]\n\t(No symbol) [0x00804F6C]\n\t(No symbol) [0x008011D8]\n\t(No symbol) [0x008012BB]\n\t(No symbol) [0x007F4857]\n\tBaseThreadInitThunk [0x75CA7D49+25]\n\tRtlInitializeExceptionChain [0x7723B74B+107]\n\tRtlClearBits [0x7723B6CF+191]\n"
     ]
    }
   ],
   "source": [
    "# getting xpath for funding deals and clicking on the button\n",
    "fund_button = driver.find_element(By.XPATH,\"//li[@id='menu-item-51510']/a\").get_attribute('href')\n",
    "driver.get(fund_button)\n",
    "\n",
    "#Empty Lists\n",
    "fund_deals = {}\n",
    "fund_deals['Date'] = []\n",
    "fund_deals['Startup Name'] = []\n",
    "fund_deals['Industry/Vertical'] = []\n",
    "fund_deals['Sub_Vertical'] = []\n",
    "fund_deals['Location'] = []\n",
    "fund_deals['Investor'] = []\n",
    "fund_deals['Investment Type'] = []\n",
    "fund_deals['Amount(in USD)'] = []\n",
    "\n",
    "\n",
    "for i in range(48,51):\n",
    "    \n",
    "    # scraping data of data\n",
    "    date = driver.find_elements(By.XPATH,\"//table[@id='tablepress-{}']/tbody/tr/td[2]\".format(i))\n",
    "    for d in date:\n",
    "        fund_deals['Date'].append(d.text)\n",
    "        \n",
    "    # scraping data of startup name\n",
    "    startup_name = driver.find_elements(By.XPATH,\"//table[@id='tablepress-{}']/tbody/tr/td[3]\".format(i))\n",
    "    for name in startup_name:\n",
    "        fund_deals['Startup Name'].append(name.text)\n",
    "        \n",
    "    \n",
    "    #scraping data of industry or vertical\n",
    "    industry = driver.find_elements(By.XPATH,\"//table[@id='tablepress-{}']/tbody/tr/td[4]\".format(i))\n",
    "    for ind in industry:\n",
    "        fund_deals['Industry/Vertical'].append(ind.text)\n",
    "        \n",
    "    \n",
    "    #scraping data of sub-vertical\n",
    "    sub_vertical = driver.find_elements(By.XPATH,\"//table[@id='tablepress-{}']/tbody/tr/td[5]\".format(i))\n",
    "    for sv in sub_vertical:\n",
    "        fund_deals['Sub_Vertical'].append(sv.text)\n",
    "        \n",
    "        \n",
    "    # scraping data of location\n",
    "    location = driver.find_elements(By.XPATH,\"//table[@id='tablepress-{}']/tbody/tr/td[6]\".format(i))\n",
    "    for loc in location:\n",
    "        fund_deals['Location'].append(loc.text)\n",
    "        \n",
    "        \n",
    "    # scraping data of investor\n",
    "    investor = driver.find_elements(By.XPATH,\"//table[@id='tablepress-{}']/tbody/tr/td[7]\".format(i))\n",
    "    for invest in investor:\n",
    "        fund_deals['Investor'].append(invest.text)\n",
    "        \n",
    "        \n",
    "    # scraping data of investment type\n",
    "    investment_type = driver.find_elements(By.XPATH,\"//table[@id='tablepress-{}']/tbody/tr/td[8]\".format(i))\n",
    "    for invtype in investment_type:\n",
    "        fund_deals['Investment Type'].append(invtype.text)\n",
    "        \n",
    "        \n",
    "    # scraping data of amount\n",
    "    amount = driver.find_elements(By.XPATH,\"//table[@id='tablepress-{}']/tbody/tr/td[9]\".format(i))\n",
    "    for amt in amount:\n",
    "        fund_deals['Amount(in USD)'].append(amt.text)\n",
    "    "
   ]
  },
  {
   "cell_type": "code",
   "execution_count": null,
   "id": "1df8b3d2",
   "metadata": {},
   "outputs": [],
   "source": [
    "# checking lengths of all scraped data\n",
    "print(len(fund_deals['Date']),\n",
    "len(fund_deals['Startup Name']),\n",
    "len(fund_deals['Industry/Vertical']),\n",
    "len(fund_deals['Sub_Vertical']),\n",
    "len(fund_deals['Location']),\n",
    "len(fund_deals['Investor']),\n",
    "len(fund_deals['Investment Type']),\n",
    "len(fund_deals['Amount(in USD)'] \n",
    "))"
   ]
  },
  {
   "cell_type": "code",
   "execution_count": null,
   "id": "0a75eb16",
   "metadata": {},
   "outputs": [],
   "source": [
    "# creating DataFrame for scraped data\n",
    "fund_data = pd.DataFrame(fund_deals)\n",
    "fund_data"
   ]
  },
  {
   "cell_type": "code",
   "execution_count": null,
   "id": "5ceac38a",
   "metadata": {},
   "outputs": [],
   "source": [
    "# saving data in csv file\n",
    "fund_data.to_csv(\"trak_in.csv\")"
   ]
  },
  {
   "cell_type": "markdown",
   "id": "b871d713",
   "metadata": {},
   "source": [
    "7. Write a program to scrap all the available details of best gaming laptops from digit.in."
   ]
  },
  {
   "cell_type": "code",
   "execution_count": 25,
   "id": "7ceb1bf0",
   "metadata": {},
   "outputs": [],
   "source": [
    "# connecting to the webdriver\n",
    "driver=webdriver.Chrome(r\"C:/Users/HP/Downloads/chromedriver_win32 (1)/chromedriver.exe\")"
   ]
  },
  {
   "cell_type": "code",
   "execution_count": 26,
   "id": "75285fe0",
   "metadata": {},
   "outputs": [],
   "source": [
    "# opening the url digit.in\n",
    "url = \"https://www.digit.in/\"\n",
    "driver.get(url)\n",
    "time.sleep(2)"
   ]
  },
  {
   "cell_type": "code",
   "execution_count": 27,
   "id": "6bc45140",
   "metadata": {},
   "outputs": [],
   "source": [
    "# searching for best Laptop\n",
    "best_gam_laptops = driver.find_element(By.XPATH,\"//div[@class='listing_container']//ul//li[9]\").click()\n",
    "time.sleep(3)"
   ]
  },
  {
   "cell_type": "code",
   "execution_count": 28,
   "id": "53a22e82",
   "metadata": {},
   "outputs": [],
   "source": [
    "# creating empty list\n",
    "Laptop_Name = []\n",
    "Operating_sys = []\n",
    "Display = []\n",
    "Processor = []\n",
    "Memory = []\n",
    "Weight = []\n",
    "Dimensions = []\n",
    "Graph_proc = []\n",
    "Price = []"
   ]
  },
  {
   "cell_type": "code",
   "execution_count": 29,
   "id": "f13110f6",
   "metadata": {},
   "outputs": [],
   "source": [
    "#scraping the data of laptop names\n",
    "laptop_name = driver.find_elements(By.XPATH,\"//div[@class='right-container']/div/a/h3\")\n",
    "for name in laptop_name:\n",
    "    Laptop_Name.append(name.text)\n",
    "    \n",
    "#scraping the data of operating system\n",
    "try:\n",
    "    op_sys = driver.find_elements(By.XPATH,\"//div[@class='product-detail']/div/ul/li[1]/div/div\")\n",
    "    for os in op_sys:\n",
    "        Operating_sys.append(os.text)\n",
    "except NoSuchElementException:\n",
    "    pass\n",
    "\n",
    "\n",
    "#scraping data of display of the Laptop\n",
    "try:\n",
    "    display = driver.find_elements(By.XPATH,\"//div[@class='product-detail']/div/ul/li[2]/div/div\")\n",
    "    for disp in display:\n",
    "        Display.append(disp.text)\n",
    "except NoSuchElementException:\n",
    "    pass\n",
    "\n",
    "\n",
    "# scraping data of processor\n",
    "try:\n",
    "    processor = driver.find_elements(By.XPATH,\"//div[@class='Spcs-details'][1]/table/tbody/tr[5]/td[3]\")\n",
    "    for pro in processor:\n",
    "        Processor.append(pro.text)\n",
    "except NoSuchElementException:\n",
    "    pass\n",
    "\n",
    "\n",
    "# scraping the data of memory\n",
    "try:\n",
    "    memory = driver.find_elements(By.XPATH,\"//div[@class='Spcs-details'][1]/table/tbody/tr[6]/td[3]\")\n",
    "    for memo in memory:\n",
    "        Memory.append(memo.text)\n",
    "except NoSuchElementException:\n",
    "    pass\n",
    "\n",
    "\n",
    "# scraping data of weight\n",
    "try:\n",
    "    weight = driver.find_elements(By.XPATH,\"//div[@class='Spcs-details'][1]/table/tbody/tr[7]/td[3]\")\n",
    "    for wgt in weight:\n",
    "        Weight.append(wgt.text)\n",
    "except NoSuchElementException:\n",
    "    pass\n",
    "\n",
    "\n",
    "# scraping data of dimensions\n",
    "try:\n",
    "    dimension = driver.find_elements(By.XPATH,\"//div[@class='Spcs-details'][1]/table/tbody/tr[8]/td[3]\")\n",
    "    for dim in dimension:\n",
    "        Dimensions.append(dim.text)\n",
    "except NoSuchElementException:\n",
    "    pass\n",
    "\n",
    "\n",
    "# scraping data of graph processor\n",
    "try:\n",
    "    graph = driver.find_elements(By.XPATH,\"//div[@class='Spcs-details'][1]/table/tbody/tr[9]/td[3]\")\n",
    "    for gra in graph:\n",
    "        Graph_proc.append(gra.text)\n",
    "except NoSuchElementException:\n",
    "    pass\n",
    "\n",
    "\n",
    "# scraping the data of price\n",
    "try:\n",
    "    price = driver.find_elements(By.XPATH,\"//td[@class='smprice']\")\n",
    "    for pri in price:\n",
    "        Price.append(pri.text.replace('₹ ','Rs'))\n",
    "except NoSuchElementException:\n",
    "    pass"
   ]
  },
  {
   "cell_type": "code",
   "execution_count": 30,
   "id": "208a0e33",
   "metadata": {},
   "outputs": [
    {
     "name": "stdout",
     "output_type": "stream",
     "text": [
      "0 7 7 7 7 7 7 0 7\n"
     ]
    }
   ],
   "source": [
    "print(len(Laptop_Name),\n",
    "len(Operating_sys),\n",
    "len(Display),\n",
    "len(Processor),\n",
    "len(Memory),\n",
    "len(Weight),\n",
    "len(Dimensions),\n",
    "len(Graph_proc),\n",
    "len(Price))"
   ]
  },
  {
   "cell_type": "code",
   "execution_count": 32,
   "id": "10d65859",
   "metadata": {},
   "outputs": [],
   "source": [
    "import pandas as pd"
   ]
  },
  {
   "cell_type": "code",
   "execution_count": null,
   "id": "b0ac70ca",
   "metadata": {},
   "outputs": [],
   "source": []
  },
  {
   "cell_type": "code",
   "execution_count": 33,
   "id": "1507843f",
   "metadata": {},
   "outputs": [
    {
     "ename": "ValueError",
     "evalue": "Length of values (0) does not match length of index (7)",
     "output_type": "error",
     "traceback": [
      "\u001b[1;31m---------------------------------------------------------------------------\u001b[0m",
      "\u001b[1;31mValueError\u001b[0m                                Traceback (most recent call last)",
      "Input \u001b[1;32mIn [33]\u001b[0m, in \u001b[0;36m<cell line: 10>\u001b[1;34m()\u001b[0m\n\u001b[0;32m      8\u001b[0m Gaming_Laptop[\u001b[38;5;124m'\u001b[39m\u001b[38;5;124mWeight\u001b[39m\u001b[38;5;124m'\u001b[39m] \u001b[38;5;241m=\u001b[39m Weight\n\u001b[0;32m      9\u001b[0m Gaming_Laptop[\u001b[38;5;124m'\u001b[39m\u001b[38;5;124mDimensions\u001b[39m\u001b[38;5;124m'\u001b[39m] \u001b[38;5;241m=\u001b[39m Dimensions\n\u001b[1;32m---> 10\u001b[0m Gaming_Laptop[\u001b[38;5;124m'\u001b[39m\u001b[38;5;124mGraphical Processor\u001b[39m\u001b[38;5;124m'\u001b[39m] \u001b[38;5;241m=\u001b[39m Graph_proc\n\u001b[0;32m     11\u001b[0m Gaming_Laptop[\u001b[38;5;124m'\u001b[39m\u001b[38;5;124mPrice\u001b[39m\u001b[38;5;124m'\u001b[39m] \u001b[38;5;241m=\u001b[39m Price\n\u001b[0;32m     12\u001b[0m Gaming_Laptop\n",
      "File \u001b[1;32mC:\\ProgramData\\Anaconda3\\lib\\site-packages\\pandas\\core\\frame.py:3655\u001b[0m, in \u001b[0;36mDataFrame.__setitem__\u001b[1;34m(self, key, value)\u001b[0m\n\u001b[0;32m   3652\u001b[0m     \u001b[38;5;28mself\u001b[39m\u001b[38;5;241m.\u001b[39m_setitem_array([key], value)\n\u001b[0;32m   3653\u001b[0m \u001b[38;5;28;01melse\u001b[39;00m:\n\u001b[0;32m   3654\u001b[0m     \u001b[38;5;66;03m# set column\u001b[39;00m\n\u001b[1;32m-> 3655\u001b[0m     \u001b[38;5;28;43mself\u001b[39;49m\u001b[38;5;241;43m.\u001b[39;49m\u001b[43m_set_item\u001b[49m\u001b[43m(\u001b[49m\u001b[43mkey\u001b[49m\u001b[43m,\u001b[49m\u001b[43m \u001b[49m\u001b[43mvalue\u001b[49m\u001b[43m)\u001b[49m\n",
      "File \u001b[1;32mC:\\ProgramData\\Anaconda3\\lib\\site-packages\\pandas\\core\\frame.py:3832\u001b[0m, in \u001b[0;36mDataFrame._set_item\u001b[1;34m(self, key, value)\u001b[0m\n\u001b[0;32m   3822\u001b[0m \u001b[38;5;28;01mdef\u001b[39;00m \u001b[38;5;21m_set_item\u001b[39m(\u001b[38;5;28mself\u001b[39m, key, value) \u001b[38;5;241m-\u001b[39m\u001b[38;5;241m>\u001b[39m \u001b[38;5;28;01mNone\u001b[39;00m:\n\u001b[0;32m   3823\u001b[0m     \u001b[38;5;124;03m\"\"\"\u001b[39;00m\n\u001b[0;32m   3824\u001b[0m \u001b[38;5;124;03m    Add series to DataFrame in specified column.\u001b[39;00m\n\u001b[0;32m   3825\u001b[0m \n\u001b[1;32m   (...)\u001b[0m\n\u001b[0;32m   3830\u001b[0m \u001b[38;5;124;03m    ensure homogeneity.\u001b[39;00m\n\u001b[0;32m   3831\u001b[0m \u001b[38;5;124;03m    \"\"\"\u001b[39;00m\n\u001b[1;32m-> 3832\u001b[0m     value \u001b[38;5;241m=\u001b[39m \u001b[38;5;28;43mself\u001b[39;49m\u001b[38;5;241;43m.\u001b[39;49m\u001b[43m_sanitize_column\u001b[49m\u001b[43m(\u001b[49m\u001b[43mvalue\u001b[49m\u001b[43m)\u001b[49m\n\u001b[0;32m   3834\u001b[0m     \u001b[38;5;28;01mif\u001b[39;00m (\n\u001b[0;32m   3835\u001b[0m         key \u001b[38;5;129;01min\u001b[39;00m \u001b[38;5;28mself\u001b[39m\u001b[38;5;241m.\u001b[39mcolumns\n\u001b[0;32m   3836\u001b[0m         \u001b[38;5;129;01mand\u001b[39;00m value\u001b[38;5;241m.\u001b[39mndim \u001b[38;5;241m==\u001b[39m \u001b[38;5;241m1\u001b[39m\n\u001b[0;32m   3837\u001b[0m         \u001b[38;5;129;01mand\u001b[39;00m \u001b[38;5;129;01mnot\u001b[39;00m is_extension_array_dtype(value)\n\u001b[0;32m   3838\u001b[0m     ):\n\u001b[0;32m   3839\u001b[0m         \u001b[38;5;66;03m# broadcast across multiple columns if necessary\u001b[39;00m\n\u001b[0;32m   3840\u001b[0m         \u001b[38;5;28;01mif\u001b[39;00m \u001b[38;5;129;01mnot\u001b[39;00m \u001b[38;5;28mself\u001b[39m\u001b[38;5;241m.\u001b[39mcolumns\u001b[38;5;241m.\u001b[39mis_unique \u001b[38;5;129;01mor\u001b[39;00m \u001b[38;5;28misinstance\u001b[39m(\u001b[38;5;28mself\u001b[39m\u001b[38;5;241m.\u001b[39mcolumns, MultiIndex):\n",
      "File \u001b[1;32mC:\\ProgramData\\Anaconda3\\lib\\site-packages\\pandas\\core\\frame.py:4535\u001b[0m, in \u001b[0;36mDataFrame._sanitize_column\u001b[1;34m(self, value)\u001b[0m\n\u001b[0;32m   4532\u001b[0m     \u001b[38;5;28;01mreturn\u001b[39;00m _reindex_for_setitem(value, \u001b[38;5;28mself\u001b[39m\u001b[38;5;241m.\u001b[39mindex)\n\u001b[0;32m   4534\u001b[0m \u001b[38;5;28;01mif\u001b[39;00m is_list_like(value):\n\u001b[1;32m-> 4535\u001b[0m     \u001b[43mcom\u001b[49m\u001b[38;5;241;43m.\u001b[39;49m\u001b[43mrequire_length_match\u001b[49m\u001b[43m(\u001b[49m\u001b[43mvalue\u001b[49m\u001b[43m,\u001b[49m\u001b[43m \u001b[49m\u001b[38;5;28;43mself\u001b[39;49m\u001b[38;5;241;43m.\u001b[39;49m\u001b[43mindex\u001b[49m\u001b[43m)\u001b[49m\n\u001b[0;32m   4536\u001b[0m \u001b[38;5;28;01mreturn\u001b[39;00m sanitize_array(value, \u001b[38;5;28mself\u001b[39m\u001b[38;5;241m.\u001b[39mindex, copy\u001b[38;5;241m=\u001b[39m\u001b[38;5;28;01mTrue\u001b[39;00m, allow_2d\u001b[38;5;241m=\u001b[39m\u001b[38;5;28;01mTrue\u001b[39;00m)\n",
      "File \u001b[1;32mC:\\ProgramData\\Anaconda3\\lib\\site-packages\\pandas\\core\\common.py:557\u001b[0m, in \u001b[0;36mrequire_length_match\u001b[1;34m(data, index)\u001b[0m\n\u001b[0;32m    553\u001b[0m \u001b[38;5;124;03m\"\"\"\u001b[39;00m\n\u001b[0;32m    554\u001b[0m \u001b[38;5;124;03mCheck the length of data matches the length of the index.\u001b[39;00m\n\u001b[0;32m    555\u001b[0m \u001b[38;5;124;03m\"\"\"\u001b[39;00m\n\u001b[0;32m    556\u001b[0m \u001b[38;5;28;01mif\u001b[39;00m \u001b[38;5;28mlen\u001b[39m(data) \u001b[38;5;241m!=\u001b[39m \u001b[38;5;28mlen\u001b[39m(index):\n\u001b[1;32m--> 557\u001b[0m     \u001b[38;5;28;01mraise\u001b[39;00m \u001b[38;5;167;01mValueError\u001b[39;00m(\n\u001b[0;32m    558\u001b[0m         \u001b[38;5;124m\"\u001b[39m\u001b[38;5;124mLength of values \u001b[39m\u001b[38;5;124m\"\u001b[39m\n\u001b[0;32m    559\u001b[0m         \u001b[38;5;124mf\u001b[39m\u001b[38;5;124m\"\u001b[39m\u001b[38;5;124m(\u001b[39m\u001b[38;5;132;01m{\u001b[39;00m\u001b[38;5;28mlen\u001b[39m(data)\u001b[38;5;132;01m}\u001b[39;00m\u001b[38;5;124m) \u001b[39m\u001b[38;5;124m\"\u001b[39m\n\u001b[0;32m    560\u001b[0m         \u001b[38;5;124m\"\u001b[39m\u001b[38;5;124mdoes not match length of index \u001b[39m\u001b[38;5;124m\"\u001b[39m\n\u001b[0;32m    561\u001b[0m         \u001b[38;5;124mf\u001b[39m\u001b[38;5;124m\"\u001b[39m\u001b[38;5;124m(\u001b[39m\u001b[38;5;132;01m{\u001b[39;00m\u001b[38;5;28mlen\u001b[39m(index)\u001b[38;5;132;01m}\u001b[39;00m\u001b[38;5;124m)\u001b[39m\u001b[38;5;124m\"\u001b[39m\n\u001b[0;32m    562\u001b[0m     )\n",
      "\u001b[1;31mValueError\u001b[0m: Length of values (0) does not match length of index (7)"
     ]
    }
   ],
   "source": [
    "#creating DataFrame for scraped data\n",
    "Gaming_Laptop=pd.DataFrame({})\n",
    "Gaming_Laptop['Laptop Name'] = Laptop_Name\n",
    "Gaming_Laptop['Operating System'] =Operating_sys\n",
    "Gaming_Laptop['Display'] = Display\n",
    "Gaming_Laptop['Processor'] = Processor\n",
    "Gaming_Laptop['Memory'] = Memory\n",
    "Gaming_Laptop['Weight'] = Weight\n",
    "Gaming_Laptop['Dimensions'] = Dimensions\n",
    "Gaming_Laptop['Graphical Processor'] = Graph_proc\n",
    "Gaming_Laptop['Price'] = Price\n",
    "Gaming_Laptop"
   ]
  },
  {
   "cell_type": "markdown",
   "id": "9bc193f5",
   "metadata": {},
   "source": [
    "8. Write a python program to scrape the details for all billionaires from www.forbes.com. Details to be \n",
    "scrapped: “Rank”, “Name”, “Net worth”, “Age”, “Citizenship”, “Source”, “Industry”.\n"
   ]
  },
  {
   "cell_type": "code",
   "execution_count": 34,
   "id": "1aaa94a6",
   "metadata": {},
   "outputs": [],
   "source": [
    "# connecting to the webdriver\n",
    "driver=webdriver.Chrome(r\"C:/Users/HP/Downloads/chromedriver_win32 (1)/chromedriver.exe\")"
   ]
  },
  {
   "cell_type": "code",
   "execution_count": 35,
   "id": "01aa96e3",
   "metadata": {},
   "outputs": [],
   "source": [
    "# getting the specified url\n",
    "url = \"https://www.forbes.com/?sh=41bd46d2254c\"\n",
    "driver.get(url)"
   ]
  },
  {
   "cell_type": "code",
   "execution_count": 36,
   "id": "e2a6f092",
   "metadata": {},
   "outputs": [
    {
     "ename": "NoSuchElementException",
     "evalue": "Message: no such element: Unable to locate element: {\"method\":\"xpath\",\"selector\":\"//div[@class='card__description']\"}\n  (Session info: chrome=113.0.5672.93)\nStacktrace:\nBacktrace:\n\tGetHandleVerifier [0x00868893+48451]\n\t(No symbol) [0x007FB8A1]\n\t(No symbol) [0x00705058]\n\t(No symbol) [0x00730467]\n\t(No symbol) [0x0073069B]\n\t(No symbol) [0x0075DD92]\n\t(No symbol) [0x0074A304]\n\t(No symbol) [0x0075C482]\n\t(No symbol) [0x0074A0B6]\n\t(No symbol) [0x00727E08]\n\t(No symbol) [0x00728F2D]\n\tGetHandleVerifier [0x00AC8E3A+2540266]\n\tGetHandleVerifier [0x00B08959+2801161]\n\tGetHandleVerifier [0x00B0295C+2776588]\n\tGetHandleVerifier [0x008F2280+612144]\n\t(No symbol) [0x00804F6C]\n\t(No symbol) [0x008011D8]\n\t(No symbol) [0x008012BB]\n\t(No symbol) [0x007F4857]\n\tBaseThreadInitThunk [0x75CA7D49+25]\n\tRtlInitializeExceptionChain [0x7723B74B+107]\n\tRtlClearBits [0x7723B6CF+191]\n",
     "output_type": "error",
     "traceback": [
      "\u001b[1;31m---------------------------------------------------------------------------\u001b[0m",
      "\u001b[1;31mNoSuchElementException\u001b[0m                    Traceback (most recent call last)",
      "Input \u001b[1;32mIn [36]\u001b[0m, in \u001b[0;36m<cell line: 7>\u001b[1;34m()\u001b[0m\n\u001b[0;32m      4\u001b[0m time\u001b[38;5;241m.\u001b[39msleep(\u001b[38;5;241m3\u001b[39m)\n\u001b[0;32m      6\u001b[0m \u001b[38;5;66;03m#select billionaires from options\u001b[39;00m\n\u001b[1;32m----> 7\u001b[0m blns \u001b[38;5;241m=\u001b[39m \u001b[43mdriver\u001b[49m\u001b[38;5;241;43m.\u001b[39;49m\u001b[43mfind_element\u001b[49m\u001b[43m(\u001b[49m\u001b[43mBy\u001b[49m\u001b[38;5;241;43m.\u001b[39;49m\u001b[43mXPATH\u001b[49m\u001b[43m,\u001b[49m\u001b[38;5;124;43m\"\u001b[39;49m\u001b[38;5;124;43m//div[@class=\u001b[39;49m\u001b[38;5;124;43m'\u001b[39;49m\u001b[38;5;124;43mcard__description\u001b[39;49m\u001b[38;5;124;43m'\u001b[39;49m\u001b[38;5;124;43m]\u001b[39;49m\u001b[38;5;124;43m\"\u001b[39;49m\u001b[43m)\u001b[49m\n\u001b[0;32m      8\u001b[0m blns\u001b[38;5;241m.\u001b[39mclick()\n\u001b[0;32m      9\u001b[0m time\u001b[38;5;241m.\u001b[39msleep(\u001b[38;5;241m3\u001b[39m)\n",
      "File \u001b[1;32m~\\AppData\\Roaming\\Python\\Python39\\site-packages\\selenium\\webdriver\\remote\\webdriver.py:831\u001b[0m, in \u001b[0;36mWebDriver.find_element\u001b[1;34m(self, by, value)\u001b[0m\n\u001b[0;32m    828\u001b[0m     by \u001b[38;5;241m=\u001b[39m By\u001b[38;5;241m.\u001b[39mCSS_SELECTOR\n\u001b[0;32m    829\u001b[0m     value \u001b[38;5;241m=\u001b[39m \u001b[38;5;124mf\u001b[39m\u001b[38;5;124m'\u001b[39m\u001b[38;5;124m[name=\u001b[39m\u001b[38;5;124m\"\u001b[39m\u001b[38;5;132;01m{\u001b[39;00mvalue\u001b[38;5;132;01m}\u001b[39;00m\u001b[38;5;124m\"\u001b[39m\u001b[38;5;124m]\u001b[39m\u001b[38;5;124m'\u001b[39m\n\u001b[1;32m--> 831\u001b[0m \u001b[38;5;28;01mreturn\u001b[39;00m \u001b[38;5;28;43mself\u001b[39;49m\u001b[38;5;241;43m.\u001b[39;49m\u001b[43mexecute\u001b[49m\u001b[43m(\u001b[49m\u001b[43mCommand\u001b[49m\u001b[38;5;241;43m.\u001b[39;49m\u001b[43mFIND_ELEMENT\u001b[49m\u001b[43m,\u001b[49m\u001b[43m \u001b[49m\u001b[43m{\u001b[49m\u001b[38;5;124;43m\"\u001b[39;49m\u001b[38;5;124;43musing\u001b[39;49m\u001b[38;5;124;43m\"\u001b[39;49m\u001b[43m:\u001b[49m\u001b[43m \u001b[49m\u001b[43mby\u001b[49m\u001b[43m,\u001b[49m\u001b[43m \u001b[49m\u001b[38;5;124;43m\"\u001b[39;49m\u001b[38;5;124;43mvalue\u001b[39;49m\u001b[38;5;124;43m\"\u001b[39;49m\u001b[43m:\u001b[49m\u001b[43m \u001b[49m\u001b[43mvalue\u001b[49m\u001b[43m}\u001b[49m\u001b[43m)\u001b[49m[\u001b[38;5;124m\"\u001b[39m\u001b[38;5;124mvalue\u001b[39m\u001b[38;5;124m\"\u001b[39m]\n",
      "File \u001b[1;32m~\\AppData\\Roaming\\Python\\Python39\\site-packages\\selenium\\webdriver\\remote\\webdriver.py:440\u001b[0m, in \u001b[0;36mWebDriver.execute\u001b[1;34m(self, driver_command, params)\u001b[0m\n\u001b[0;32m    438\u001b[0m response \u001b[38;5;241m=\u001b[39m \u001b[38;5;28mself\u001b[39m\u001b[38;5;241m.\u001b[39mcommand_executor\u001b[38;5;241m.\u001b[39mexecute(driver_command, params)\n\u001b[0;32m    439\u001b[0m \u001b[38;5;28;01mif\u001b[39;00m response:\n\u001b[1;32m--> 440\u001b[0m     \u001b[38;5;28;43mself\u001b[39;49m\u001b[38;5;241;43m.\u001b[39;49m\u001b[43merror_handler\u001b[49m\u001b[38;5;241;43m.\u001b[39;49m\u001b[43mcheck_response\u001b[49m\u001b[43m(\u001b[49m\u001b[43mresponse\u001b[49m\u001b[43m)\u001b[49m\n\u001b[0;32m    441\u001b[0m     response[\u001b[38;5;124m\"\u001b[39m\u001b[38;5;124mvalue\u001b[39m\u001b[38;5;124m\"\u001b[39m] \u001b[38;5;241m=\u001b[39m \u001b[38;5;28mself\u001b[39m\u001b[38;5;241m.\u001b[39m_unwrap_value(response\u001b[38;5;241m.\u001b[39mget(\u001b[38;5;124m\"\u001b[39m\u001b[38;5;124mvalue\u001b[39m\u001b[38;5;124m\"\u001b[39m, \u001b[38;5;28;01mNone\u001b[39;00m))\n\u001b[0;32m    442\u001b[0m     \u001b[38;5;28;01mreturn\u001b[39;00m response\n",
      "File \u001b[1;32m~\\AppData\\Roaming\\Python\\Python39\\site-packages\\selenium\\webdriver\\remote\\errorhandler.py:245\u001b[0m, in \u001b[0;36mErrorHandler.check_response\u001b[1;34m(self, response)\u001b[0m\n\u001b[0;32m    243\u001b[0m         alert_text \u001b[38;5;241m=\u001b[39m value[\u001b[38;5;124m\"\u001b[39m\u001b[38;5;124malert\u001b[39m\u001b[38;5;124m\"\u001b[39m]\u001b[38;5;241m.\u001b[39mget(\u001b[38;5;124m\"\u001b[39m\u001b[38;5;124mtext\u001b[39m\u001b[38;5;124m\"\u001b[39m)\n\u001b[0;32m    244\u001b[0m     \u001b[38;5;28;01mraise\u001b[39;00m exception_class(message, screen, stacktrace, alert_text)  \u001b[38;5;66;03m# type: ignore[call-arg]  # mypy is not smart enough here\u001b[39;00m\n\u001b[1;32m--> 245\u001b[0m \u001b[38;5;28;01mraise\u001b[39;00m exception_class(message, screen, stacktrace)\n",
      "\u001b[1;31mNoSuchElementException\u001b[0m: Message: no such element: Unable to locate element: {\"method\":\"xpath\",\"selector\":\"//div[@class='card__description']\"}\n  (Session info: chrome=113.0.5672.93)\nStacktrace:\nBacktrace:\n\tGetHandleVerifier [0x00868893+48451]\n\t(No symbol) [0x007FB8A1]\n\t(No symbol) [0x00705058]\n\t(No symbol) [0x00730467]\n\t(No symbol) [0x0073069B]\n\t(No symbol) [0x0075DD92]\n\t(No symbol) [0x0074A304]\n\t(No symbol) [0x0075C482]\n\t(No symbol) [0x0074A0B6]\n\t(No symbol) [0x00727E08]\n\t(No symbol) [0x00728F2D]\n\tGetHandleVerifier [0x00AC8E3A+2540266]\n\tGetHandleVerifier [0x00B08959+2801161]\n\tGetHandleVerifier [0x00B0295C+2776588]\n\tGetHandleVerifier [0x008F2280+612144]\n\t(No symbol) [0x00804F6C]\n\t(No symbol) [0x008011D8]\n\t(No symbol) [0x008012BB]\n\t(No symbol) [0x007F4857]\n\tBaseThreadInitThunk [0x75CA7D49+25]\n\tRtlInitializeExceptionChain [0x7723B74B+107]\n\tRtlClearBits [0x7723B6CF+191]\n"
     ]
    }
   ],
   "source": [
    "#let's get option button from the page\n",
    "opt_btn = driver.find_element(By.XPATH,\"//div[@class='header__left']\")\n",
    "opt_btn.click()\n",
    "time.sleep(3)\n",
    "\n",
    "#select billionaires from options\n",
    "blns = driver.find_element(By.XPATH,\"//div[@class='card__description']\")\n",
    "blns.click()\n",
    "time.sleep(3)\n",
    "#select world billionaire\n",
    "bln_list = driver.find_element(By.XPATH,\"/html/body/div[1]/header/nav/div[3]/ul/li[1]/div[2]/ul/li[2]/a\")\n",
    "bln_list.click()\n",
    "time.sleep(4)"
   ]
  },
  {
   "cell_type": "code",
   "execution_count": 37,
   "id": "b260e58a",
   "metadata": {},
   "outputs": [],
   "source": [
    "# scraping required data from the web page\n",
    "# creating empty lists\n",
    "Rank = []\n",
    "Person_Name = []\n",
    "Net_worth = []\n",
    "Age = []\n",
    "Citizenship = []\n",
    "Source = []\n",
    "Industry = []\n",
    "\n",
    "\n",
    "while(True):\n",
    "    \n",
    "    # scraping the data of rank of the billionaires\n",
    "    rank_tag = driver.find_elements(By.XPATH,\"//div[@class='rank']\")\n",
    "    for rank in rank_tag:\n",
    "        Rank.append(rank.text)\n",
    "    time.sleep(1)\n",
    "    \n",
    "    \n",
    " \n",
    "    # scraping the data  of names of the billionaires\n",
    "    name_tag = driver.find_elements(By.XPATH,\"//div[@class='personName']/div\")\n",
    "    for name in name_tag:\n",
    "        Person_Name.append(name.text)\n",
    "    time.sleep(1)\n",
    "    \n",
    "    \n",
    "    # scraping the data of age of the billionaires\n",
    "    age_tag = driver.find_elements(By.XPATH,\"//div[@class='age']/div\")\n",
    "    for age in age_tag:\n",
    "        Age.append(age.text)\n",
    "    time.sleep(1)\n",
    "    \n",
    "    \n",
    "    # scraping the data of citizenship of the billionaires\n",
    "    cit_tag = driver.find_elements(By.XPATH,\"//div[@class='countryOfCitizenship']\")\n",
    "    for cit in cit_tag:\n",
    "        Citizenship.append(cit.text)\n",
    "    time.sleep(1)\n",
    "    \n",
    "    \n",
    "    # scraping the data of source of income of the billionaires\n",
    "    sour_tag = driver.find_elements(By.XPATH,\"//div[@class='source']\")\n",
    "    for sour in sour_tag:\n",
    "        Source.append(sour.text)\n",
    "    time.sleep(1)\n",
    "    \n",
    "    \n",
    "    # scraping data of industry of the billionaires\n",
    "    ind_tag = driver.find_elements(By.XPATH,\"//div[@class='category']//div\")\n",
    "    for ind in ind_tag:\n",
    "        Industry.append(ind.text)\n",
    "    time.sleep(1)\n",
    "    \n",
    "    \n",
    "    # scraping data of net_worth of billionaires\n",
    "    net_tag = driver.find_elements(By.XPATH,\"//div[@class='netWorth']/div\")\n",
    "    for net in net_tag:\n",
    "        Net_worth.append(net.text)\n",
    "    time.sleep(1)\n",
    "    \n",
    "    \n",
    "    # clicking on next button\n",
    "    try:\n",
    "        next_button = driver.find_element(By.XPATH,\"//button[@class='pagination-btn pagination-btn--next ']\")\n",
    "        next_button.click()\n",
    "    except:\n",
    "        break\n",
    "      "
   ]
  },
  {
   "cell_type": "code",
   "execution_count": 38,
   "id": "2e47b585",
   "metadata": {},
   "outputs": [
    {
     "name": "stdout",
     "output_type": "stream",
     "text": [
      "0 0 0 0 0 0 0\n"
     ]
    }
   ],
   "source": [
    "print(len(Rank),\n",
    "len(Person_Name),\n",
    "len(Net_worth),\n",
    "len(Age),\n",
    "len(Citizenship),\n",
    "len(Source),\n",
    "len(Industry))"
   ]
  },
  {
   "cell_type": "code",
   "execution_count": 39,
   "id": "c827ee7f",
   "metadata": {},
   "outputs": [
    {
     "data": {
      "text/html": [
       "<div>\n",
       "<style scoped>\n",
       "    .dataframe tbody tr th:only-of-type {\n",
       "        vertical-align: middle;\n",
       "    }\n",
       "\n",
       "    .dataframe tbody tr th {\n",
       "        vertical-align: top;\n",
       "    }\n",
       "\n",
       "    .dataframe thead th {\n",
       "        text-align: right;\n",
       "    }\n",
       "</style>\n",
       "<table border=\"1\" class=\"dataframe\">\n",
       "  <thead>\n",
       "    <tr style=\"text-align: right;\">\n",
       "      <th></th>\n",
       "      <th>Rank</th>\n",
       "      <th>Name</th>\n",
       "      <th>Net Worth</th>\n",
       "      <th>Age</th>\n",
       "      <th>Citizenship</th>\n",
       "      <th>Source</th>\n",
       "      <th>Industry</th>\n",
       "    </tr>\n",
       "  </thead>\n",
       "  <tbody>\n",
       "  </tbody>\n",
       "</table>\n",
       "</div>"
      ],
      "text/plain": [
       "Empty DataFrame\n",
       "Columns: [Rank, Name, Net Worth, Age, Citizenship, Source, Industry]\n",
       "Index: []"
      ]
     },
     "execution_count": 39,
     "metadata": {},
     "output_type": "execute_result"
    }
   ],
   "source": [
    "# framing Data\n",
    "Billionaires = pd.DataFrame({})\n",
    "Billionaires['Rank'] = Rank\n",
    "Billionaires['Name'] = Person_Name\n",
    "Billionaires['Net Worth'] = Net_worth\n",
    "Billionaires['Age'] = Age\n",
    "Billionaires['Citizenship'] = Citizenship\n",
    "Billionaires['Source'] = Source\n",
    "Billionaires['Industry'] = Industry\n",
    "Billionaires"
   ]
  },
  {
   "cell_type": "markdown",
   "id": "82eed41e",
   "metadata": {},
   "source": [
    "9. Write a program to extract at least 500 Comments, Comment upvote and time when comment was posted \n",
    "from any YouTube Video."
   ]
  },
  {
   "cell_type": "code",
   "execution_count": 128,
   "id": "9da66f72",
   "metadata": {},
   "outputs": [],
   "source": [
    "# connecting to the webdriver\n",
    "driver=webdriver.Chrome(r\"C:/Users/HP/Downloads/chromedriver_win32 (1)/chromedriver.exe\")"
   ]
  },
  {
   "cell_type": "code",
   "execution_count": 129,
   "id": "c91d0e89",
   "metadata": {},
   "outputs": [],
   "source": [
    "# opening the youtube.com\n",
    "url = \"https://www.youtube.com/\"\n",
    "driver.get(url)\n",
    "time.sleep(2)"
   ]
  },
  {
   "cell_type": "code",
   "execution_count": 134,
   "id": "2897d13b",
   "metadata": {},
   "outputs": [],
   "source": [
    "# finding element for search bar\n",
    "search_bar = driver.find_element(By.XPATH,\"//div[@class='ytd-searchbox-spt']/input\")\n",
    "search_bar.send_keys(\"GOT\")      # entering video name\n",
    "time.sleep(2)"
   ]
  },
  {
   "cell_type": "code",
   "execution_count": 137,
   "id": "37bd4ce7",
   "metadata": {},
   "outputs": [
    {
     "ename": "NoSuchElementException",
     "evalue": "Message: no such element: Unable to locate element: {\"method\":\"xpath\",\"selector\":\"//div[@class='search-icon-legacy']\"}\n  (Session info: chrome=113.0.5672.93)\nStacktrace:\nBacktrace:\n\tGetHandleVerifier [0x01028893+48451]\n\t(No symbol) [0x00FBB8A1]\n\t(No symbol) [0x00EC5058]\n\t(No symbol) [0x00EF0467]\n\t(No symbol) [0x00EF069B]\n\t(No symbol) [0x00F1DD92]\n\t(No symbol) [0x00F0A304]\n\t(No symbol) [0x00F1C482]\n\t(No symbol) [0x00F0A0B6]\n\t(No symbol) [0x00EE7E08]\n\t(No symbol) [0x00EE8F2D]\n\tGetHandleVerifier [0x01288E3A+2540266]\n\tGetHandleVerifier [0x012C8959+2801161]\n\tGetHandleVerifier [0x012C295C+2776588]\n\tGetHandleVerifier [0x010B2280+612144]\n\t(No symbol) [0x00FC4F6C]\n\t(No symbol) [0x00FC11D8]\n\t(No symbol) [0x00FC12BB]\n\t(No symbol) [0x00FB4857]\n\tBaseThreadInitThunk [0x75CA7D49+25]\n\tRtlInitializeExceptionChain [0x7723B74B+107]\n\tRtlClearBits [0x7723B6CF+191]\n",
     "output_type": "error",
     "traceback": [
      "\u001b[1;31m---------------------------------------------------------------------------\u001b[0m",
      "\u001b[1;31mNoSuchElementException\u001b[0m                    Traceback (most recent call last)",
      "Input \u001b[1;32mIn [137]\u001b[0m, in \u001b[0;36m<cell line: 2>\u001b[1;34m()\u001b[0m\n\u001b[0;32m      1\u001b[0m \u001b[38;5;66;03m#clicking on search button\u001b[39;00m\n\u001b[1;32m----> 2\u001b[0m search_btn \u001b[38;5;241m=\u001b[39m \u001b[43mdriver\u001b[49m\u001b[38;5;241;43m.\u001b[39;49m\u001b[43mfind_element\u001b[49m\u001b[43m(\u001b[49m\u001b[43mBy\u001b[49m\u001b[38;5;241;43m.\u001b[39;49m\u001b[43mXPATH\u001b[49m\u001b[43m,\u001b[49m\u001b[38;5;124;43m\"\u001b[39;49m\u001b[38;5;124;43m//div[@class=\u001b[39;49m\u001b[38;5;124;43m'\u001b[39;49m\u001b[38;5;124;43msearch-icon-legacy\u001b[39;49m\u001b[38;5;124;43m'\u001b[39;49m\u001b[38;5;124;43m]\u001b[39;49m\u001b[38;5;124;43m\"\u001b[39;49m\u001b[43m)\u001b[49m\n\u001b[0;32m      3\u001b[0m search_btn\u001b[38;5;241m.\u001b[39mclick()\n\u001b[0;32m      4\u001b[0m time\u001b[38;5;241m.\u001b[39msleep(\u001b[38;5;241m2\u001b[39m)\n",
      "File \u001b[1;32m~\\AppData\\Roaming\\Python\\Python39\\site-packages\\selenium\\webdriver\\remote\\webdriver.py:831\u001b[0m, in \u001b[0;36mWebDriver.find_element\u001b[1;34m(self, by, value)\u001b[0m\n\u001b[0;32m    828\u001b[0m     by \u001b[38;5;241m=\u001b[39m By\u001b[38;5;241m.\u001b[39mCSS_SELECTOR\n\u001b[0;32m    829\u001b[0m     value \u001b[38;5;241m=\u001b[39m \u001b[38;5;124mf\u001b[39m\u001b[38;5;124m'\u001b[39m\u001b[38;5;124m[name=\u001b[39m\u001b[38;5;124m\"\u001b[39m\u001b[38;5;132;01m{\u001b[39;00mvalue\u001b[38;5;132;01m}\u001b[39;00m\u001b[38;5;124m\"\u001b[39m\u001b[38;5;124m]\u001b[39m\u001b[38;5;124m'\u001b[39m\n\u001b[1;32m--> 831\u001b[0m \u001b[38;5;28;01mreturn\u001b[39;00m \u001b[38;5;28;43mself\u001b[39;49m\u001b[38;5;241;43m.\u001b[39;49m\u001b[43mexecute\u001b[49m\u001b[43m(\u001b[49m\u001b[43mCommand\u001b[49m\u001b[38;5;241;43m.\u001b[39;49m\u001b[43mFIND_ELEMENT\u001b[49m\u001b[43m,\u001b[49m\u001b[43m \u001b[49m\u001b[43m{\u001b[49m\u001b[38;5;124;43m\"\u001b[39;49m\u001b[38;5;124;43musing\u001b[39;49m\u001b[38;5;124;43m\"\u001b[39;49m\u001b[43m:\u001b[49m\u001b[43m \u001b[49m\u001b[43mby\u001b[49m\u001b[43m,\u001b[49m\u001b[43m \u001b[49m\u001b[38;5;124;43m\"\u001b[39;49m\u001b[38;5;124;43mvalue\u001b[39;49m\u001b[38;5;124;43m\"\u001b[39;49m\u001b[43m:\u001b[49m\u001b[43m \u001b[49m\u001b[43mvalue\u001b[49m\u001b[43m}\u001b[49m\u001b[43m)\u001b[49m[\u001b[38;5;124m\"\u001b[39m\u001b[38;5;124mvalue\u001b[39m\u001b[38;5;124m\"\u001b[39m]\n",
      "File \u001b[1;32m~\\AppData\\Roaming\\Python\\Python39\\site-packages\\selenium\\webdriver\\remote\\webdriver.py:440\u001b[0m, in \u001b[0;36mWebDriver.execute\u001b[1;34m(self, driver_command, params)\u001b[0m\n\u001b[0;32m    438\u001b[0m response \u001b[38;5;241m=\u001b[39m \u001b[38;5;28mself\u001b[39m\u001b[38;5;241m.\u001b[39mcommand_executor\u001b[38;5;241m.\u001b[39mexecute(driver_command, params)\n\u001b[0;32m    439\u001b[0m \u001b[38;5;28;01mif\u001b[39;00m response:\n\u001b[1;32m--> 440\u001b[0m     \u001b[38;5;28;43mself\u001b[39;49m\u001b[38;5;241;43m.\u001b[39;49m\u001b[43merror_handler\u001b[49m\u001b[38;5;241;43m.\u001b[39;49m\u001b[43mcheck_response\u001b[49m\u001b[43m(\u001b[49m\u001b[43mresponse\u001b[49m\u001b[43m)\u001b[49m\n\u001b[0;32m    441\u001b[0m     response[\u001b[38;5;124m\"\u001b[39m\u001b[38;5;124mvalue\u001b[39m\u001b[38;5;124m\"\u001b[39m] \u001b[38;5;241m=\u001b[39m \u001b[38;5;28mself\u001b[39m\u001b[38;5;241m.\u001b[39m_unwrap_value(response\u001b[38;5;241m.\u001b[39mget(\u001b[38;5;124m\"\u001b[39m\u001b[38;5;124mvalue\u001b[39m\u001b[38;5;124m\"\u001b[39m, \u001b[38;5;28;01mNone\u001b[39;00m))\n\u001b[0;32m    442\u001b[0m     \u001b[38;5;28;01mreturn\u001b[39;00m response\n",
      "File \u001b[1;32m~\\AppData\\Roaming\\Python\\Python39\\site-packages\\selenium\\webdriver\\remote\\errorhandler.py:245\u001b[0m, in \u001b[0;36mErrorHandler.check_response\u001b[1;34m(self, response)\u001b[0m\n\u001b[0;32m    243\u001b[0m         alert_text \u001b[38;5;241m=\u001b[39m value[\u001b[38;5;124m\"\u001b[39m\u001b[38;5;124malert\u001b[39m\u001b[38;5;124m\"\u001b[39m]\u001b[38;5;241m.\u001b[39mget(\u001b[38;5;124m\"\u001b[39m\u001b[38;5;124mtext\u001b[39m\u001b[38;5;124m\"\u001b[39m)\n\u001b[0;32m    244\u001b[0m     \u001b[38;5;28;01mraise\u001b[39;00m exception_class(message, screen, stacktrace, alert_text)  \u001b[38;5;66;03m# type: ignore[call-arg]  # mypy is not smart enough here\u001b[39;00m\n\u001b[1;32m--> 245\u001b[0m \u001b[38;5;28;01mraise\u001b[39;00m exception_class(message, screen, stacktrace)\n",
      "\u001b[1;31mNoSuchElementException\u001b[0m: Message: no such element: Unable to locate element: {\"method\":\"xpath\",\"selector\":\"//div[@class='search-icon-legacy']\"}\n  (Session info: chrome=113.0.5672.93)\nStacktrace:\nBacktrace:\n\tGetHandleVerifier [0x01028893+48451]\n\t(No symbol) [0x00FBB8A1]\n\t(No symbol) [0x00EC5058]\n\t(No symbol) [0x00EF0467]\n\t(No symbol) [0x00EF069B]\n\t(No symbol) [0x00F1DD92]\n\t(No symbol) [0x00F0A304]\n\t(No symbol) [0x00F1C482]\n\t(No symbol) [0x00F0A0B6]\n\t(No symbol) [0x00EE7E08]\n\t(No symbol) [0x00EE8F2D]\n\tGetHandleVerifier [0x01288E3A+2540266]\n\tGetHandleVerifier [0x012C8959+2801161]\n\tGetHandleVerifier [0x012C295C+2776588]\n\tGetHandleVerifier [0x010B2280+612144]\n\t(No symbol) [0x00FC4F6C]\n\t(No symbol) [0x00FC11D8]\n\t(No symbol) [0x00FC12BB]\n\t(No symbol) [0x00FB4857]\n\tBaseThreadInitThunk [0x75CA7D49+25]\n\tRtlInitializeExceptionChain [0x7723B74B+107]\n\tRtlClearBits [0x7723B6CF+191]\n"
     ]
    }
   ],
   "source": [
    "#clicking on search button\n",
    "search_btn = driver.find_element(By.XPATH,\"//div[@class='search-icon-legacy']\")\n",
    "search_btn.click()\n",
    "time.sleep(2)"
   ]
  },
  {
   "cell_type": "code",
   "execution_count": 138,
   "id": "ffae324c",
   "metadata": {},
   "outputs": [
    {
     "ename": "NoSuchElementException",
     "evalue": "Message: no such element: Unable to locate element: {\"method\":\"xpath\",\"selector\":\"//yt-formatted-string[@class='style-scope ytd-video-renderer']\"}\n  (Session info: chrome=113.0.5672.93)\nStacktrace:\nBacktrace:\n\tGetHandleVerifier [0x01028893+48451]\n\t(No symbol) [0x00FBB8A1]\n\t(No symbol) [0x00EC5058]\n\t(No symbol) [0x00EF0467]\n\t(No symbol) [0x00EF069B]\n\t(No symbol) [0x00F1DD92]\n\t(No symbol) [0x00F0A304]\n\t(No symbol) [0x00F1C482]\n\t(No symbol) [0x00F0A0B6]\n\t(No symbol) [0x00EE7E08]\n\t(No symbol) [0x00EE8F2D]\n\tGetHandleVerifier [0x01288E3A+2540266]\n\tGetHandleVerifier [0x012C8959+2801161]\n\tGetHandleVerifier [0x012C295C+2776588]\n\tGetHandleVerifier [0x010B2280+612144]\n\t(No symbol) [0x00FC4F6C]\n\t(No symbol) [0x00FC11D8]\n\t(No symbol) [0x00FC12BB]\n\t(No symbol) [0x00FB4857]\n\tBaseThreadInitThunk [0x75CA7D49+25]\n\tRtlInitializeExceptionChain [0x7723B74B+107]\n\tRtlClearBits [0x7723B6CF+191]\n",
     "output_type": "error",
     "traceback": [
      "\u001b[1;31m---------------------------------------------------------------------------\u001b[0m",
      "\u001b[1;31mNoSuchElementException\u001b[0m                    Traceback (most recent call last)",
      "Input \u001b[1;32mIn [138]\u001b[0m, in \u001b[0;36m<cell line: 2>\u001b[1;34m()\u001b[0m\n\u001b[0;32m      1\u001b[0m \u001b[38;5;66;03m# clicking on first video\u001b[39;00m\n\u001b[1;32m----> 2\u001b[0m video \u001b[38;5;241m=\u001b[39m \u001b[43mdriver\u001b[49m\u001b[38;5;241;43m.\u001b[39;49m\u001b[43mfind_element\u001b[49m\u001b[43m(\u001b[49m\u001b[43mBy\u001b[49m\u001b[38;5;241;43m.\u001b[39;49m\u001b[43mXPATH\u001b[49m\u001b[43m,\u001b[49m\u001b[38;5;124;43m\"\u001b[39;49m\u001b[38;5;124;43m//yt-formatted-string[@class=\u001b[39;49m\u001b[38;5;124;43m'\u001b[39;49m\u001b[38;5;124;43mstyle-scope ytd-video-renderer\u001b[39;49m\u001b[38;5;124;43m'\u001b[39;49m\u001b[38;5;124;43m]\u001b[39;49m\u001b[38;5;124;43m\"\u001b[39;49m\u001b[43m)\u001b[49m\n\u001b[0;32m      3\u001b[0m video\u001b[38;5;241m.\u001b[39mclick()\n",
      "File \u001b[1;32m~\\AppData\\Roaming\\Python\\Python39\\site-packages\\selenium\\webdriver\\remote\\webdriver.py:831\u001b[0m, in \u001b[0;36mWebDriver.find_element\u001b[1;34m(self, by, value)\u001b[0m\n\u001b[0;32m    828\u001b[0m     by \u001b[38;5;241m=\u001b[39m By\u001b[38;5;241m.\u001b[39mCSS_SELECTOR\n\u001b[0;32m    829\u001b[0m     value \u001b[38;5;241m=\u001b[39m \u001b[38;5;124mf\u001b[39m\u001b[38;5;124m'\u001b[39m\u001b[38;5;124m[name=\u001b[39m\u001b[38;5;124m\"\u001b[39m\u001b[38;5;132;01m{\u001b[39;00mvalue\u001b[38;5;132;01m}\u001b[39;00m\u001b[38;5;124m\"\u001b[39m\u001b[38;5;124m]\u001b[39m\u001b[38;5;124m'\u001b[39m\n\u001b[1;32m--> 831\u001b[0m \u001b[38;5;28;01mreturn\u001b[39;00m \u001b[38;5;28;43mself\u001b[39;49m\u001b[38;5;241;43m.\u001b[39;49m\u001b[43mexecute\u001b[49m\u001b[43m(\u001b[49m\u001b[43mCommand\u001b[49m\u001b[38;5;241;43m.\u001b[39;49m\u001b[43mFIND_ELEMENT\u001b[49m\u001b[43m,\u001b[49m\u001b[43m \u001b[49m\u001b[43m{\u001b[49m\u001b[38;5;124;43m\"\u001b[39;49m\u001b[38;5;124;43musing\u001b[39;49m\u001b[38;5;124;43m\"\u001b[39;49m\u001b[43m:\u001b[49m\u001b[43m \u001b[49m\u001b[43mby\u001b[49m\u001b[43m,\u001b[49m\u001b[43m \u001b[49m\u001b[38;5;124;43m\"\u001b[39;49m\u001b[38;5;124;43mvalue\u001b[39;49m\u001b[38;5;124;43m\"\u001b[39;49m\u001b[43m:\u001b[49m\u001b[43m \u001b[49m\u001b[43mvalue\u001b[49m\u001b[43m}\u001b[49m\u001b[43m)\u001b[49m[\u001b[38;5;124m\"\u001b[39m\u001b[38;5;124mvalue\u001b[39m\u001b[38;5;124m\"\u001b[39m]\n",
      "File \u001b[1;32m~\\AppData\\Roaming\\Python\\Python39\\site-packages\\selenium\\webdriver\\remote\\webdriver.py:440\u001b[0m, in \u001b[0;36mWebDriver.execute\u001b[1;34m(self, driver_command, params)\u001b[0m\n\u001b[0;32m    438\u001b[0m response \u001b[38;5;241m=\u001b[39m \u001b[38;5;28mself\u001b[39m\u001b[38;5;241m.\u001b[39mcommand_executor\u001b[38;5;241m.\u001b[39mexecute(driver_command, params)\n\u001b[0;32m    439\u001b[0m \u001b[38;5;28;01mif\u001b[39;00m response:\n\u001b[1;32m--> 440\u001b[0m     \u001b[38;5;28;43mself\u001b[39;49m\u001b[38;5;241;43m.\u001b[39;49m\u001b[43merror_handler\u001b[49m\u001b[38;5;241;43m.\u001b[39;49m\u001b[43mcheck_response\u001b[49m\u001b[43m(\u001b[49m\u001b[43mresponse\u001b[49m\u001b[43m)\u001b[49m\n\u001b[0;32m    441\u001b[0m     response[\u001b[38;5;124m\"\u001b[39m\u001b[38;5;124mvalue\u001b[39m\u001b[38;5;124m\"\u001b[39m] \u001b[38;5;241m=\u001b[39m \u001b[38;5;28mself\u001b[39m\u001b[38;5;241m.\u001b[39m_unwrap_value(response\u001b[38;5;241m.\u001b[39mget(\u001b[38;5;124m\"\u001b[39m\u001b[38;5;124mvalue\u001b[39m\u001b[38;5;124m\"\u001b[39m, \u001b[38;5;28;01mNone\u001b[39;00m))\n\u001b[0;32m    442\u001b[0m     \u001b[38;5;28;01mreturn\u001b[39;00m response\n",
      "File \u001b[1;32m~\\AppData\\Roaming\\Python\\Python39\\site-packages\\selenium\\webdriver\\remote\\errorhandler.py:245\u001b[0m, in \u001b[0;36mErrorHandler.check_response\u001b[1;34m(self, response)\u001b[0m\n\u001b[0;32m    243\u001b[0m         alert_text \u001b[38;5;241m=\u001b[39m value[\u001b[38;5;124m\"\u001b[39m\u001b[38;5;124malert\u001b[39m\u001b[38;5;124m\"\u001b[39m]\u001b[38;5;241m.\u001b[39mget(\u001b[38;5;124m\"\u001b[39m\u001b[38;5;124mtext\u001b[39m\u001b[38;5;124m\"\u001b[39m)\n\u001b[0;32m    244\u001b[0m     \u001b[38;5;28;01mraise\u001b[39;00m exception_class(message, screen, stacktrace, alert_text)  \u001b[38;5;66;03m# type: ignore[call-arg]  # mypy is not smart enough here\u001b[39;00m\n\u001b[1;32m--> 245\u001b[0m \u001b[38;5;28;01mraise\u001b[39;00m exception_class(message, screen, stacktrace)\n",
      "\u001b[1;31mNoSuchElementException\u001b[0m: Message: no such element: Unable to locate element: {\"method\":\"xpath\",\"selector\":\"//yt-formatted-string[@class='style-scope ytd-video-renderer']\"}\n  (Session info: chrome=113.0.5672.93)\nStacktrace:\nBacktrace:\n\tGetHandleVerifier [0x01028893+48451]\n\t(No symbol) [0x00FBB8A1]\n\t(No symbol) [0x00EC5058]\n\t(No symbol) [0x00EF0467]\n\t(No symbol) [0x00EF069B]\n\t(No symbol) [0x00F1DD92]\n\t(No symbol) [0x00F0A304]\n\t(No symbol) [0x00F1C482]\n\t(No symbol) [0x00F0A0B6]\n\t(No symbol) [0x00EE7E08]\n\t(No symbol) [0x00EE8F2D]\n\tGetHandleVerifier [0x01288E3A+2540266]\n\tGetHandleVerifier [0x012C8959+2801161]\n\tGetHandleVerifier [0x012C295C+2776588]\n\tGetHandleVerifier [0x010B2280+612144]\n\t(No symbol) [0x00FC4F6C]\n\t(No symbol) [0x00FC11D8]\n\t(No symbol) [0x00FC12BB]\n\t(No symbol) [0x00FB4857]\n\tBaseThreadInitThunk [0x75CA7D49+25]\n\tRtlInitializeExceptionChain [0x7723B74B+107]\n\tRtlClearBits [0x7723B6CF+191]\n"
     ]
    }
   ],
   "source": [
    "# clicking on first video\n",
    "video = driver.find_element(By.XPATH,\"//yt-formatted-string[@class='style-scope ytd-video-renderer']\")\n",
    "video.click()"
   ]
  },
  {
   "cell_type": "code",
   "execution_count": 133,
   "id": "f87de3d9",
   "metadata": {},
   "outputs": [],
   "source": [
    "# 1000 times we scroll down by 10000 in order to generate more comments\n",
    "for _ in range(1000):\n",
    "    driver.execute_script(\"window.scrollBy(0,10000)\")"
   ]
  },
  {
   "cell_type": "code",
   "execution_count": 139,
   "id": "cf24e499",
   "metadata": {},
   "outputs": [
    {
     "ename": "AttributeError",
     "evalue": "'WebDriver' object has no attribute 'find_elements_by_id'",
     "output_type": "error",
     "traceback": [
      "\u001b[1;31m---------------------------------------------------------------------------\u001b[0m",
      "\u001b[1;31mAttributeError\u001b[0m                            Traceback (most recent call last)",
      "Input \u001b[1;32mIn [139]\u001b[0m, in \u001b[0;36m<cell line: 9>\u001b[1;34m()\u001b[0m\n\u001b[0;32m      6\u001b[0m No_of_Likes \u001b[38;5;241m=\u001b[39m []\n\u001b[0;32m      8\u001b[0m \u001b[38;5;66;03m# scrape comments\u001b[39;00m\n\u001b[1;32m----> 9\u001b[0m cm \u001b[38;5;241m=\u001b[39m \u001b[43mdriver\u001b[49m\u001b[38;5;241;43m.\u001b[39;49m\u001b[43mfind_elements_by_id\u001b[49m(\u001b[38;5;124m\"\u001b[39m\u001b[38;5;124mcontent-text\u001b[39m\u001b[38;5;124m\"\u001b[39m)\n\u001b[0;32m     10\u001b[0m \u001b[38;5;28;01mfor\u001b[39;00m i \u001b[38;5;129;01min\u001b[39;00m cm:\n\u001b[0;32m     11\u001b[0m     \u001b[38;5;28;01mif\u001b[39;00m i\u001b[38;5;241m.\u001b[39mtext \u001b[38;5;129;01mis\u001b[39;00m \u001b[38;5;28;01mNone\u001b[39;00m:\n",
      "\u001b[1;31mAttributeError\u001b[0m: 'WebDriver' object has no attribute 'find_elements_by_id'"
     ]
    }
   ],
   "source": [
    "# creating empty lists\n",
    "comments = []\n",
    "comment_time = []\n",
    "Time = []\n",
    "Likes = []\n",
    "No_of_Likes = []\n",
    "\n",
    "# scrape comments\n",
    "cm = driver.find_elements_by_id(\"content-text\")\n",
    "for i in cm:\n",
    "    if i.text is None:\n",
    "        comments.append(\"--\")\n",
    "    else:\n",
    "        comments.append(i.text)\n",
    "time.sleep(4)\n",
    "\n",
    "\n",
    "# scrape time when comment was posted\n",
    "tm = driver.find_elements_by_xpath(\"//a[contains(text(),'ago')]\")\n",
    "for i in tm:\n",
    "    Time.append(i.text)\n",
    "    \n",
    "for i in range(0,len(Time),2):\n",
    "    comment_time.append(Time[i])\n",
    "time.sleep(4)\n",
    "\n",
    "\n",
    "# scrape the comment likes\n",
    "like = driver.find_elements_by_xpath(\"//span[@class='style-scope ytd-comment-action-buttons-renderer']\")\n",
    "for i in like:\n",
    "    Likes.append(i.text)\n",
    "    \n",
    "for i in range(1,len(Likes),2):\n",
    "    No_of_Likes.append(Likes[i])"
   ]
  },
  {
   "cell_type": "code",
   "execution_count": 140,
   "id": "56e50b36",
   "metadata": {},
   "outputs": [
    {
     "name": "stdout",
     "output_type": "stream",
     "text": [
      "0 0 0\n"
     ]
    }
   ],
   "source": [
    "print(len(comments),len(comment_time),len(No_of_Likes))"
   ]
  },
  {
   "cell_type": "code",
   "execution_count": 141,
   "id": "4e5efc28",
   "metadata": {},
   "outputs": [
    {
     "data": {
      "text/html": [
       "<div>\n",
       "<style scoped>\n",
       "    .dataframe tbody tr th:only-of-type {\n",
       "        vertical-align: middle;\n",
       "    }\n",
       "\n",
       "    .dataframe tbody tr th {\n",
       "        vertical-align: top;\n",
       "    }\n",
       "\n",
       "    .dataframe thead th {\n",
       "        text-align: right;\n",
       "    }\n",
       "</style>\n",
       "<table border=\"1\" class=\"dataframe\">\n",
       "  <thead>\n",
       "    <tr style=\"text-align: right;\">\n",
       "      <th></th>\n",
       "      <th>Comment</th>\n",
       "      <th>Comment Time</th>\n",
       "      <th>Comment Upvotes</th>\n",
       "    </tr>\n",
       "  </thead>\n",
       "  <tbody>\n",
       "  </tbody>\n",
       "</table>\n",
       "</div>"
      ],
      "text/plain": [
       "Empty DataFrame\n",
       "Columns: [Comment, Comment Time, Comment Upvotes]\n",
       "Index: []"
      ]
     },
     "execution_count": 141,
     "metadata": {},
     "output_type": "execute_result"
    }
   ],
   "source": [
    "# creating dataframe for scraped data\n",
    "\n",
    "Youtube = pd.DataFrame({})\n",
    "Youtube['Comment'] = comments[:500]\n",
    "Youtube['Comment Time'] = comment_time[:500]\n",
    "Youtube['Comment Upvotes'] = No_of_Likes[:500]\n",
    "Youtube"
   ]
  },
  {
   "cell_type": "code",
   "execution_count": 144,
   "id": "71ee10c9",
   "metadata": {},
   "outputs": [],
   "source": [
    "#saving the dataframe to csv\n",
    "Youtube.to_csv(\"Youtube GOT Comments.csv\")"
   ]
  },
  {
   "cell_type": "markdown",
   "id": "9b5be8e0",
   "metadata": {},
   "source": [
    "10. Write a python program to scrape a data for all available Hostels from https://www.hostelworld.com/ in \n",
    "“London” location. You have to scrape hostel name, distance from city centre, ratings, total reviews, \n",
    "overall reviews, privates from price, dorms from price, facilities and property description."
   ]
  },
  {
   "cell_type": "code",
   "execution_count": 40,
   "id": "9c54b1be",
   "metadata": {},
   "outputs": [],
   "source": [
    "# connecting to the webdriver\n",
    "driver=webdriver.Chrome(r\"C:/Users/HP/Downloads/chromedriver_win32 (1)/chromedriver.exe\")"
   ]
  },
  {
   "cell_type": "code",
   "execution_count": 41,
   "id": "c19b8b05",
   "metadata": {},
   "outputs": [],
   "source": [
    "# getting the web page of mentioned url\n",
    "url = \"https://www.hostelworld.com/\"\n",
    "driver.get(url)\n",
    "time.sleep(3)"
   ]
  },
  {
   "cell_type": "code",
   "execution_count": 42,
   "id": "d5e7c5e1",
   "metadata": {},
   "outputs": [
    {
     "ename": "AttributeError",
     "evalue": "'WebDriver' object has no attribute 'find_element_by_id'",
     "output_type": "error",
     "traceback": [
      "\u001b[1;31m---------------------------------------------------------------------------\u001b[0m",
      "\u001b[1;31mAttributeError\u001b[0m                            Traceback (most recent call last)",
      "Input \u001b[1;32mIn [42]\u001b[0m, in \u001b[0;36m<cell line: 2>\u001b[1;34m()\u001b[0m\n\u001b[0;32m      1\u001b[0m \u001b[38;5;66;03m# locating the location search bar\u001b[39;00m\n\u001b[1;32m----> 2\u001b[0m search_bar \u001b[38;5;241m=\u001b[39m \u001b[43mdriver\u001b[49m\u001b[38;5;241;43m.\u001b[39;49m\u001b[43mfind_element_by_id\u001b[49m(\u001b[38;5;124m\"\u001b[39m\u001b[38;5;124msearch-input-field\u001b[39m\u001b[38;5;124m\"\u001b[39m)\n\u001b[0;32m      4\u001b[0m \u001b[38;5;66;03m# entering London in search bar\u001b[39;00m\n\u001b[0;32m      5\u001b[0m search_bar\u001b[38;5;241m.\u001b[39msend_keys(\u001b[38;5;124m\"\u001b[39m\u001b[38;5;124mLondon\u001b[39m\u001b[38;5;124m\"\u001b[39m)\n",
      "\u001b[1;31mAttributeError\u001b[0m: 'WebDriver' object has no attribute 'find_element_by_id'"
     ]
    }
   ],
   "source": [
    "# locating the location search bar\n",
    "search_bar = driver.find_element_by_id(\"search-input-field\")\n",
    "\n",
    "# entering London in search bar\n",
    "search_bar.send_keys(\"London\")"
   ]
  },
  {
   "cell_type": "code",
   "execution_count": 43,
   "id": "932fdc6e",
   "metadata": {},
   "outputs": [
    {
     "ename": "AttributeError",
     "evalue": "'WebDriver' object has no attribute 'find_element_by_xpath'",
     "output_type": "error",
     "traceback": [
      "\u001b[1;31m---------------------------------------------------------------------------\u001b[0m",
      "\u001b[1;31mAttributeError\u001b[0m                            Traceback (most recent call last)",
      "Input \u001b[1;32mIn [43]\u001b[0m, in \u001b[0;36m<cell line: 2>\u001b[1;34m()\u001b[0m\n\u001b[0;32m      1\u001b[0m \u001b[38;5;66;03m# select London\u001b[39;00m\n\u001b[1;32m----> 2\u001b[0m London \u001b[38;5;241m=\u001b[39m \u001b[43mdriver\u001b[49m\u001b[38;5;241;43m.\u001b[39;49m\u001b[43mfind_element_by_xpath\u001b[49m(\u001b[38;5;124m\"\u001b[39m\u001b[38;5;124m//ul[@id=\u001b[39m\u001b[38;5;124m'\u001b[39m\u001b[38;5;124mpredicted-search-results\u001b[39m\u001b[38;5;124m'\u001b[39m\u001b[38;5;124m]//li[2]\u001b[39m\u001b[38;5;124m\"\u001b[39m)\n\u001b[0;32m      3\u001b[0m \u001b[38;5;66;03m#clicking on button\u001b[39;00m\n\u001b[0;32m      4\u001b[0m London\u001b[38;5;241m.\u001b[39mclick()\n",
      "\u001b[1;31mAttributeError\u001b[0m: 'WebDriver' object has no attribute 'find_element_by_xpath'"
     ]
    }
   ],
   "source": [
    "# select London\n",
    "London = driver.find_element_by_xpath(\"//ul[@id='predicted-search-results']//li[2]\")\n",
    "#clicking on button\n",
    "London.click()\n",
    "\n",
    "# do click on Let's Go button\n",
    "search_btn = driver.find_element_by_id('search-button')\n",
    "search_btn.click()"
   ]
  },
  {
   "cell_type": "code",
   "execution_count": 44,
   "id": "cd1a1155",
   "metadata": {},
   "outputs": [],
   "source": [
    "# creating empty list & find required data\n",
    "hostel_name = []\n",
    "distance = []\n",
    "pvt_prices = []\n",
    "dorms_price = []\n",
    "rating = []\n",
    "reviews = []\n",
    "over_all = []\n",
    "facilities = []\n",
    "description = []\n",
    "url = []"
   ]
  },
  {
   "cell_type": "code",
   "execution_count": 45,
   "id": "114cea83",
   "metadata": {},
   "outputs": [
    {
     "ename": "AttributeError",
     "evalue": "'WebDriver' object has no attribute 'find_elements_by_xpath'",
     "output_type": "error",
     "traceback": [
      "\u001b[1;31m---------------------------------------------------------------------------\u001b[0m",
      "\u001b[1;31mAttributeError\u001b[0m                            Traceback (most recent call last)",
      "Input \u001b[1;32mIn [45]\u001b[0m, in \u001b[0;36m<cell line: 2>\u001b[1;34m()\u001b[0m\n\u001b[0;32m      1\u001b[0m \u001b[38;5;66;03m# scraping the required informations\u001b[39;00m\n\u001b[1;32m----> 2\u001b[0m \u001b[38;5;28;01mfor\u001b[39;00m i \u001b[38;5;129;01min\u001b[39;00m \u001b[43mdriver\u001b[49m\u001b[38;5;241;43m.\u001b[39;49m\u001b[43mfind_elements_by_xpath\u001b[49m(\u001b[38;5;124m\"\u001b[39m\u001b[38;5;124m//div[@class=\u001b[39m\u001b[38;5;124m'\u001b[39m\u001b[38;5;124mpagination-item pagination-current\u001b[39m\u001b[38;5;124m'\u001b[39m\u001b[38;5;124m or @class=\u001b[39m\u001b[38;5;124m'\u001b[39m\u001b[38;5;124mpagination-item\u001b[39m\u001b[38;5;124m'\u001b[39m\u001b[38;5;124m]\u001b[39m\u001b[38;5;124m\"\u001b[39m):\n\u001b[0;32m      3\u001b[0m     i\u001b[38;5;241m.\u001b[39mclick()\n\u001b[0;32m      4\u001b[0m     time\u001b[38;5;241m.\u001b[39msleep(\u001b[38;5;241m3\u001b[39m)\n",
      "\u001b[1;31mAttributeError\u001b[0m: 'WebDriver' object has no attribute 'find_elements_by_xpath'"
     ]
    }
   ],
   "source": [
    "# scraping the required informations\n",
    "for i in driver.find_elements_by_xpath(\"//div[@class='pagination-item pagination-current' or @class='pagination-item']\"):\n",
    "    i.click()\n",
    "    time.sleep(3)\n",
    "    \n",
    "    \n",
    "    # scraping  hostel name\n",
    "    try:\n",
    "        name = driver.find_elements_by_xpath(\"//h2[@class='title title-6']\")\n",
    "        for i in name:\n",
    "            hostel_name.append(i.text)\n",
    "    except NoSuchElementException:\n",
    "        hostel_name.append('-')\n",
    "        \n",
    "        \n",
    "    # scraping distance from city centre\n",
    "    try:\n",
    "        dist = driver.find_elements_by_xpath(\"//div[@class='subtitle body-3']//a//span[1]\")\n",
    "        for i in name:\n",
    "            distance.append(i.text.replace('Hostel - ',''))\n",
    "    except NoSuchElementException:\n",
    "        distance.append('-')\n",
    "        \n",
    "   \n",
    "    for i in driver.find_elements_by_xpath(\"//div[@class='prices-col']\"):   \n",
    "    # scraping privates from price\n",
    "        try:\n",
    "            pvt_price = driver.find_element_by_xpath(\"//a[@class='prices']//div[1]//div\")\n",
    "            pvt_prices.append(pvt_price.text)\n",
    "        except NoSuchElementException:\n",
    "            pvt_prices.append('-')\n",
    "   \n",
    "\n",
    "    for i in driver.find_elements_by_xpath(\"//div[@class='prices-col']\"):          \n",
    "    # scraping dorms from price\n",
    "        try:\n",
    "            dorms = driver.find_element_by_xpath(\"//a[@class='prices']//div[2]/div\")\n",
    "            dorms_price.append(dorms.text)\n",
    "        except NoSuchElementException:\n",
    "            dorms_price.append('-')\n",
    "            \n",
    "            \n",
    "    # scraping facilities\n",
    "    try:\n",
    "        fac1 = driver.find_elements_by_xpath(\"//div[@class='has-wifi']\")\n",
    "        fac2 = driver.find_elements_by_xpath(\"//div[@class='has-sanitation']\")\n",
    "        for i in fac1:\n",
    "            for j in fac2:\n",
    "                facilities.append(i.text +', '+ j.text)\n",
    "    except NoSuchElementException:\n",
    "        facilities.append('-')\n",
    "     \n",
    "            \n",
    "    #fetching url of each hostel\n",
    "    p_url = driver.find_elements_by_xpath(\"//div[@class='prices-col']//a[2]\")\n",
    "    for i in p_url:\n",
    "        url.append(i.get_attribute(\"href\"))\n",
    "        \n",
    "for i in url:\n",
    "    driver.get(i)\n",
    "    time.sleep(3)\n",
    "    \n",
    "\n",
    "    # scraping ratings\n",
    "    try:\n",
    "        rat = driver.find_element_by_xpath(\"//div[@class='score orange big' or @class='score gray big']\")\n",
    "        rating.append(rat.text)\n",
    "    except NoSuchElementException:\n",
    "        rating.append('-')\n",
    "        \n",
    "        \n",
    "    # scraping total review\n",
    "    try:\n",
    "        rws = driver.find_element_by_xpath(\"//div[@class='reviews']\")\n",
    "        reviews.append(rws.text.replace('Total Reviews',''))\n",
    "    except NoSuchElementException:\n",
    "        reviews.append('-')\n",
    "        \n",
    "        \n",
    "    # fetching over all review\n",
    "    try:\n",
    "        overall = driver.find_element_by_xpath(\"//div[@class='keyword']//span\")\n",
    "        over_all.append(overall.text)\n",
    "    except NoSuchElementException:\n",
    "        over_all.append('-')\n",
    "        \n",
    "        \n",
    "    # fetching property description\n",
    "    try:\n",
    "        disc = driver.find_element_by_xpath(\"//div[@class='content']\")\n",
    "        description.append(disc.text)\n",
    "    except NoSuchElementException:\n",
    "        over_all.append('-')\n",
    "    \n",
    "    # do click on show more button for description\n",
    "    try:\n",
    "        driver.find_element_by_xpath(\"//a[@class='toggle-content']\").click()\n",
    "        time.sleep(4)\n",
    "    except NoSuchElementException:\n",
    "        pass\n",
    "    "
   ]
  },
  {
   "cell_type": "code",
   "execution_count": 46,
   "id": "50085b83",
   "metadata": {},
   "outputs": [
    {
     "name": "stdout",
     "output_type": "stream",
     "text": [
      "0 0 0 0 0 0 0 0 0 0\n"
     ]
    }
   ],
   "source": [
    "print(len(hostel_name),\n",
    "len(distance),\n",
    "len(pvt_prices),\n",
    "len(dorms_price),\n",
    "len(rating),\n",
    "len(reviews),\n",
    "len(over_all),\n",
    "len(facilities),\n",
    "len(description),\n",
    "len(url))"
   ]
  },
  {
   "cell_type": "code",
   "execution_count": 47,
   "id": "6e378b63",
   "metadata": {},
   "outputs": [
    {
     "data": {
      "text/html": [
       "<div>\n",
       "<style scoped>\n",
       "    .dataframe tbody tr th:only-of-type {\n",
       "        vertical-align: middle;\n",
       "    }\n",
       "\n",
       "    .dataframe tbody tr th {\n",
       "        vertical-align: top;\n",
       "    }\n",
       "\n",
       "    .dataframe thead th {\n",
       "        text-align: right;\n",
       "    }\n",
       "</style>\n",
       "<table border=\"1\" class=\"dataframe\">\n",
       "  <thead>\n",
       "    <tr style=\"text-align: right;\">\n",
       "      <th></th>\n",
       "      <th>Hostel Name</th>\n",
       "      <th>Distance from City Centre</th>\n",
       "      <th>Ratings</th>\n",
       "      <th>Total Reviews</th>\n",
       "      <th>Overall Reviews</th>\n",
       "      <th>Privates from Price</th>\n",
       "      <th>Dorms from Price</th>\n",
       "      <th>Facilities</th>\n",
       "      <th>Description</th>\n",
       "    </tr>\n",
       "  </thead>\n",
       "  <tbody>\n",
       "  </tbody>\n",
       "</table>\n",
       "</div>"
      ],
      "text/plain": [
       "Empty DataFrame\n",
       "Columns: [Hostel Name, Distance from City Centre, Ratings, Total Reviews, Overall Reviews, Privates from Price, Dorms from Price, Facilities, Description]\n",
       "Index: []"
      ]
     },
     "execution_count": 47,
     "metadata": {},
     "output_type": "execute_result"
    }
   ],
   "source": [
    "# creating DataFrame\n",
    "Hostel = pd.DataFrame({})\n",
    "Hostel['Hostel Name'] = hostel_name\n",
    "Hostel['Distance from City Centre'] = distance\n",
    "Hostel['Ratings'] = rating\n",
    "Hostel['Total Reviews'] = reviews\n",
    "Hostel['Overall Reviews'] = over_all\n",
    "Hostel['Privates from Price'] = pvt_prices\n",
    "Hostel['Dorms from Price'] = dorms_price\n",
    "Hostel['Facilities'] = facilities[:74]\n",
    "Hostel['Description'] = description\n",
    "Hostel\n"
   ]
  },
  {
   "cell_type": "code",
   "execution_count": null,
   "id": "cefd57f5",
   "metadata": {},
   "outputs": [],
   "source": [
    "# saving the dataset to csv\n",
    "Hostel.to_csv(\"London_Hostels.csv\")"
   ]
  },
  {
   "cell_type": "code",
   "execution_count": null,
   "id": "ed659297",
   "metadata": {},
   "outputs": [],
   "source": []
  }
 ],
 "metadata": {
  "kernelspec": {
   "display_name": "Python 3 (ipykernel)",
   "language": "python",
   "name": "python3"
  },
  "language_info": {
   "codemirror_mode": {
    "name": "ipython",
    "version": 3
   },
   "file_extension": ".py",
   "mimetype": "text/x-python",
   "name": "python",
   "nbconvert_exporter": "python",
   "pygments_lexer": "ipython3",
   "version": "3.9.12"
  }
 },
 "nbformat": 4,
 "nbformat_minor": 5
}
